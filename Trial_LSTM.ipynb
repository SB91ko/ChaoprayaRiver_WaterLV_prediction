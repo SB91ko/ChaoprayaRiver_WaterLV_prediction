{
 "cells": [
  {
   "cell_type": "markdown",
   "metadata": {},
   "source": [
    "# Import data"
   ]
  },
  {
   "cell_type": "code",
   "execution_count": 3,
   "metadata": {},
   "outputs": [],
   "source": [
    "import pandas as pd\n",
    "import numpy as np\n",
    "import matplotlib.pyplot as plt\n",
    "%matplotlib inline\n",
    "\n",
    "#import seaborn as sns"
   ]
  },
  {
   "cell_type": "code",
   "execution_count": 4,
   "metadata": {},
   "outputs": [],
   "source": [
    "from DLtools.Data_preprocess import  load_data"
   ]
  },
  {
   "cell_type": "code",
   "execution_count": 6,
   "metadata": {},
   "outputs": [
    {
     "output_type": "stream",
     "name": "stdout",
     "text": [
      "DataFrame shape: (306745, 35)\n"
     ]
    }
   ],
   "source": [
    "r = 'data/instant_data/rain_small.csv'\n",
    "w = 'data/instant_data/water_small.csv'\n",
    "\n",
    "rw = load_data(r,w,start='2013-01-01',stop='2017-12-31')\n",
    "df_water = rw.water_df\n",
    "df_rain = rw.rain_df\n",
    "df = rw.df.resample('d').mean()"
   ]
  },
  {
   "cell_type": "code",
   "execution_count": 7,
   "metadata": {},
   "outputs": [
    {
     "output_type": "execute_result",
     "data": {
      "text/plain": [
       "            CHM002_r  CHM004_r  CHM006_r  CPY004_r  CPY009_r  CPY010_r  \\\n",
       "date                                                                     \n",
       "2013-01-01       0.0       NaN       NaN       0.0       0.0       0.0   \n",
       "2013-01-02       0.0       NaN       NaN       0.0       0.0       0.0   \n",
       "2013-01-03       0.0       NaN       NaN       0.0       0.0       0.0   \n",
       "2013-01-04       0.0       NaN       NaN       0.0       0.0       0.0   \n",
       "2013-01-05       0.0       NaN       NaN       0.0       0.0       0.0   \n",
       "\n",
       "            CPY015_r  KWN002_r  NAN006_r  NAN010_r  ...  CPY015_w  KWN002_w  \\\n",
       "date                                                ...                       \n",
       "2013-01-01       0.0       NaN       0.0       NaN  ...  0.797222       NaN   \n",
       "2013-01-02       0.0       NaN       0.0       NaN  ...  0.636250       NaN   \n",
       "2013-01-03       0.0       NaN       0.0       NaN  ...  0.581458       NaN   \n",
       "2013-01-04       0.0       NaN       0.0       NaN  ...  0.532153       NaN   \n",
       "2013-01-05       0.0       NaN       0.2       NaN  ...  0.530139       NaN   \n",
       "\n",
       "            NAN009_w  NAN010_w  NAN011_w  NAN012_w  NAN013_w    PIN001_w  \\\n",
       "date                                                                       \n",
       "2013-01-01       NaN       NaN       NaN       NaN       NaN  119.359161   \n",
       "2013-01-02       NaN       NaN       NaN       NaN       NaN  119.383333   \n",
       "2013-01-03       NaN       NaN       NaN       NaN       NaN  119.499650   \n",
       "2013-01-04       NaN       NaN       NaN       NaN       NaN  119.406434   \n",
       "2013-01-05       NaN       NaN       NaN       NaN       NaN  119.403287   \n",
       "\n",
       "             PIN004_w   THA001_w  \n",
       "date                              \n",
       "2013-01-01  40.765833  15.046528  \n",
       "2013-01-02  40.826023  15.028889  \n",
       "2013-01-03  40.822639  14.972569  \n",
       "2013-01-04  40.872361  14.956528  \n",
       "2013-01-05  40.996559  14.932222  \n",
       "\n",
       "[5 rows x 35 columns]"
      ],
      "text/html": "<div>\n<style scoped>\n    .dataframe tbody tr th:only-of-type {\n        vertical-align: middle;\n    }\n\n    .dataframe tbody tr th {\n        vertical-align: top;\n    }\n\n    .dataframe thead th {\n        text-align: right;\n    }\n</style>\n<table border=\"1\" class=\"dataframe\">\n  <thead>\n    <tr style=\"text-align: right;\">\n      <th></th>\n      <th>CHM002_r</th>\n      <th>CHM004_r</th>\n      <th>CHM006_r</th>\n      <th>CPY004_r</th>\n      <th>CPY009_r</th>\n      <th>CPY010_r</th>\n      <th>CPY015_r</th>\n      <th>KWN002_r</th>\n      <th>NAN006_r</th>\n      <th>NAN010_r</th>\n      <th>...</th>\n      <th>CPY015_w</th>\n      <th>KWN002_w</th>\n      <th>NAN009_w</th>\n      <th>NAN010_w</th>\n      <th>NAN011_w</th>\n      <th>NAN012_w</th>\n      <th>NAN013_w</th>\n      <th>PIN001_w</th>\n      <th>PIN004_w</th>\n      <th>THA001_w</th>\n    </tr>\n    <tr>\n      <th>date</th>\n      <th></th>\n      <th></th>\n      <th></th>\n      <th></th>\n      <th></th>\n      <th></th>\n      <th></th>\n      <th></th>\n      <th></th>\n      <th></th>\n      <th></th>\n      <th></th>\n      <th></th>\n      <th></th>\n      <th></th>\n      <th></th>\n      <th></th>\n      <th></th>\n      <th></th>\n      <th></th>\n      <th></th>\n    </tr>\n  </thead>\n  <tbody>\n    <tr>\n      <th>2013-01-01</th>\n      <td>0.0</td>\n      <td>NaN</td>\n      <td>NaN</td>\n      <td>0.0</td>\n      <td>0.0</td>\n      <td>0.0</td>\n      <td>0.0</td>\n      <td>NaN</td>\n      <td>0.0</td>\n      <td>NaN</td>\n      <td>...</td>\n      <td>0.797222</td>\n      <td>NaN</td>\n      <td>NaN</td>\n      <td>NaN</td>\n      <td>NaN</td>\n      <td>NaN</td>\n      <td>NaN</td>\n      <td>119.359161</td>\n      <td>40.765833</td>\n      <td>15.046528</td>\n    </tr>\n    <tr>\n      <th>2013-01-02</th>\n      <td>0.0</td>\n      <td>NaN</td>\n      <td>NaN</td>\n      <td>0.0</td>\n      <td>0.0</td>\n      <td>0.0</td>\n      <td>0.0</td>\n      <td>NaN</td>\n      <td>0.0</td>\n      <td>NaN</td>\n      <td>...</td>\n      <td>0.636250</td>\n      <td>NaN</td>\n      <td>NaN</td>\n      <td>NaN</td>\n      <td>NaN</td>\n      <td>NaN</td>\n      <td>NaN</td>\n      <td>119.383333</td>\n      <td>40.826023</td>\n      <td>15.028889</td>\n    </tr>\n    <tr>\n      <th>2013-01-03</th>\n      <td>0.0</td>\n      <td>NaN</td>\n      <td>NaN</td>\n      <td>0.0</td>\n      <td>0.0</td>\n      <td>0.0</td>\n      <td>0.0</td>\n      <td>NaN</td>\n      <td>0.0</td>\n      <td>NaN</td>\n      <td>...</td>\n      <td>0.581458</td>\n      <td>NaN</td>\n      <td>NaN</td>\n      <td>NaN</td>\n      <td>NaN</td>\n      <td>NaN</td>\n      <td>NaN</td>\n      <td>119.499650</td>\n      <td>40.822639</td>\n      <td>14.972569</td>\n    </tr>\n    <tr>\n      <th>2013-01-04</th>\n      <td>0.0</td>\n      <td>NaN</td>\n      <td>NaN</td>\n      <td>0.0</td>\n      <td>0.0</td>\n      <td>0.0</td>\n      <td>0.0</td>\n      <td>NaN</td>\n      <td>0.0</td>\n      <td>NaN</td>\n      <td>...</td>\n      <td>0.532153</td>\n      <td>NaN</td>\n      <td>NaN</td>\n      <td>NaN</td>\n      <td>NaN</td>\n      <td>NaN</td>\n      <td>NaN</td>\n      <td>119.406434</td>\n      <td>40.872361</td>\n      <td>14.956528</td>\n    </tr>\n    <tr>\n      <th>2013-01-05</th>\n      <td>0.0</td>\n      <td>NaN</td>\n      <td>NaN</td>\n      <td>0.0</td>\n      <td>0.0</td>\n      <td>0.0</td>\n      <td>0.0</td>\n      <td>NaN</td>\n      <td>0.2</td>\n      <td>NaN</td>\n      <td>...</td>\n      <td>0.530139</td>\n      <td>NaN</td>\n      <td>NaN</td>\n      <td>NaN</td>\n      <td>NaN</td>\n      <td>NaN</td>\n      <td>NaN</td>\n      <td>119.403287</td>\n      <td>40.996559</td>\n      <td>14.932222</td>\n    </tr>\n  </tbody>\n</table>\n<p>5 rows × 35 columns</p>\n</div>"
     },
     "metadata": {},
     "execution_count": 7
    }
   ],
   "source": [
    "df.head()"
   ]
  },
  {
   "cell_type": "code",
   "execution_count": 8,
   "metadata": {},
   "outputs": [
    {
     "output_type": "stream",
     "name": "stdout",
     "text": [
      "(1826, 35)\n"
     ]
    },
    {
     "output_type": "execute_result",
     "data": {
      "text/plain": [
       "            CHM002_r  CHM004_r  CHM006_r  CPY004_r  CPY009_r  CPY010_r  \\\n",
       "date                                                                     \n",
       "2013-01-01       0.0       0.0       0.0       0.0       0.0       0.0   \n",
       "2013-01-02       0.0       0.0       0.0       0.0       0.0       0.0   \n",
       "2013-01-03       0.0       0.0       0.0       0.0       0.0       0.0   \n",
       "2013-01-04       0.0       0.0       0.0       0.0       0.0       0.0   \n",
       "2013-01-05       0.0       0.0       0.0       0.0       0.0       0.0   \n",
       "\n",
       "            CPY015_r  KWN002_r  NAN006_r  NAN010_r  ...  CPY015_w  KWN002_w  \\\n",
       "date                                                ...                       \n",
       "2013-01-01       0.0       0.0       0.0       0.0  ...  0.797222       0.0   \n",
       "2013-01-02       0.0       0.0       0.0       0.0  ...  0.636250       0.0   \n",
       "2013-01-03       0.0       0.0       0.0       0.0  ...  0.581458       0.0   \n",
       "2013-01-04       0.0       0.0       0.0       0.0  ...  0.532153       0.0   \n",
       "2013-01-05       0.0       0.0       0.2       0.0  ...  0.530139       0.0   \n",
       "\n",
       "            NAN009_w  NAN010_w  NAN011_w  NAN012_w  NAN013_w    PIN001_w  \\\n",
       "date                                                                       \n",
       "2013-01-01       0.0       0.0       0.0       0.0       0.0  119.359161   \n",
       "2013-01-02       0.0       0.0       0.0       0.0       0.0  119.383333   \n",
       "2013-01-03       0.0       0.0       0.0       0.0       0.0  119.499650   \n",
       "2013-01-04       0.0       0.0       0.0       0.0       0.0  119.406434   \n",
       "2013-01-05       0.0       0.0       0.0       0.0       0.0  119.403287   \n",
       "\n",
       "             PIN004_w   THA001_w  \n",
       "date                              \n",
       "2013-01-01  40.765833  15.046528  \n",
       "2013-01-02  40.826023  15.028889  \n",
       "2013-01-03  40.822639  14.972569  \n",
       "2013-01-04  40.872361  14.956528  \n",
       "2013-01-05  40.996559  14.932222  \n",
       "\n",
       "[5 rows x 35 columns]"
      ],
      "text/html": "<div>\n<style scoped>\n    .dataframe tbody tr th:only-of-type {\n        vertical-align: middle;\n    }\n\n    .dataframe tbody tr th {\n        vertical-align: top;\n    }\n\n    .dataframe thead th {\n        text-align: right;\n    }\n</style>\n<table border=\"1\" class=\"dataframe\">\n  <thead>\n    <tr style=\"text-align: right;\">\n      <th></th>\n      <th>CHM002_r</th>\n      <th>CHM004_r</th>\n      <th>CHM006_r</th>\n      <th>CPY004_r</th>\n      <th>CPY009_r</th>\n      <th>CPY010_r</th>\n      <th>CPY015_r</th>\n      <th>KWN002_r</th>\n      <th>NAN006_r</th>\n      <th>NAN010_r</th>\n      <th>...</th>\n      <th>CPY015_w</th>\n      <th>KWN002_w</th>\n      <th>NAN009_w</th>\n      <th>NAN010_w</th>\n      <th>NAN011_w</th>\n      <th>NAN012_w</th>\n      <th>NAN013_w</th>\n      <th>PIN001_w</th>\n      <th>PIN004_w</th>\n      <th>THA001_w</th>\n    </tr>\n    <tr>\n      <th>date</th>\n      <th></th>\n      <th></th>\n      <th></th>\n      <th></th>\n      <th></th>\n      <th></th>\n      <th></th>\n      <th></th>\n      <th></th>\n      <th></th>\n      <th></th>\n      <th></th>\n      <th></th>\n      <th></th>\n      <th></th>\n      <th></th>\n      <th></th>\n      <th></th>\n      <th></th>\n      <th></th>\n      <th></th>\n    </tr>\n  </thead>\n  <tbody>\n    <tr>\n      <th>2013-01-01</th>\n      <td>0.0</td>\n      <td>0.0</td>\n      <td>0.0</td>\n      <td>0.0</td>\n      <td>0.0</td>\n      <td>0.0</td>\n      <td>0.0</td>\n      <td>0.0</td>\n      <td>0.0</td>\n      <td>0.0</td>\n      <td>...</td>\n      <td>0.797222</td>\n      <td>0.0</td>\n      <td>0.0</td>\n      <td>0.0</td>\n      <td>0.0</td>\n      <td>0.0</td>\n      <td>0.0</td>\n      <td>119.359161</td>\n      <td>40.765833</td>\n      <td>15.046528</td>\n    </tr>\n    <tr>\n      <th>2013-01-02</th>\n      <td>0.0</td>\n      <td>0.0</td>\n      <td>0.0</td>\n      <td>0.0</td>\n      <td>0.0</td>\n      <td>0.0</td>\n      <td>0.0</td>\n      <td>0.0</td>\n      <td>0.0</td>\n      <td>0.0</td>\n      <td>...</td>\n      <td>0.636250</td>\n      <td>0.0</td>\n      <td>0.0</td>\n      <td>0.0</td>\n      <td>0.0</td>\n      <td>0.0</td>\n      <td>0.0</td>\n      <td>119.383333</td>\n      <td>40.826023</td>\n      <td>15.028889</td>\n    </tr>\n    <tr>\n      <th>2013-01-03</th>\n      <td>0.0</td>\n      <td>0.0</td>\n      <td>0.0</td>\n      <td>0.0</td>\n      <td>0.0</td>\n      <td>0.0</td>\n      <td>0.0</td>\n      <td>0.0</td>\n      <td>0.0</td>\n      <td>0.0</td>\n      <td>...</td>\n      <td>0.581458</td>\n      <td>0.0</td>\n      <td>0.0</td>\n      <td>0.0</td>\n      <td>0.0</td>\n      <td>0.0</td>\n      <td>0.0</td>\n      <td>119.499650</td>\n      <td>40.822639</td>\n      <td>14.972569</td>\n    </tr>\n    <tr>\n      <th>2013-01-04</th>\n      <td>0.0</td>\n      <td>0.0</td>\n      <td>0.0</td>\n      <td>0.0</td>\n      <td>0.0</td>\n      <td>0.0</td>\n      <td>0.0</td>\n      <td>0.0</td>\n      <td>0.0</td>\n      <td>0.0</td>\n      <td>...</td>\n      <td>0.532153</td>\n      <td>0.0</td>\n      <td>0.0</td>\n      <td>0.0</td>\n      <td>0.0</td>\n      <td>0.0</td>\n      <td>0.0</td>\n      <td>119.406434</td>\n      <td>40.872361</td>\n      <td>14.956528</td>\n    </tr>\n    <tr>\n      <th>2013-01-05</th>\n      <td>0.0</td>\n      <td>0.0</td>\n      <td>0.0</td>\n      <td>0.0</td>\n      <td>0.0</td>\n      <td>0.0</td>\n      <td>0.0</td>\n      <td>0.0</td>\n      <td>0.2</td>\n      <td>0.0</td>\n      <td>...</td>\n      <td>0.530139</td>\n      <td>0.0</td>\n      <td>0.0</td>\n      <td>0.0</td>\n      <td>0.0</td>\n      <td>0.0</td>\n      <td>0.0</td>\n      <td>119.403287</td>\n      <td>40.996559</td>\n      <td>14.932222</td>\n    </tr>\n  </tbody>\n</table>\n<p>5 rows × 35 columns</p>\n</div>"
     },
     "metadata": {},
     "execution_count": 8
    }
   ],
   "source": [
    "#df = df.interpolate(method='pad', limit=30) # selected period, interporlation missing value\n",
    "#df.dropna(axis=1,inplace=True) # drop na stations \n",
    "print(df.shape)\n",
    "df.interpolate(method='pad', limit=30,inplace=True)\n",
    "df = df.fillna(0)\n",
    "df.head()\n"
   ]
  },
  {
   "cell_type": "markdown",
   "metadata": {},
   "source": [
    "# LSTM"
   ]
  },
  {
   "cell_type": "code",
   "execution_count": 9,
   "metadata": {
    "scrolled": true
   },
   "outputs": [],
   "source": [
    "import tensorflow as tf\n",
    "from tensorflow.keras.models import Sequential\n",
    "from tensorflow.keras.layers import Dense, Dropout, LSTM, GRU\n",
    "\n",
    "from sklearn.preprocessing import MinMaxScaler"
   ]
  },
  {
   "cell_type": "code",
   "execution_count": 10,
   "metadata": {},
   "outputs": [
    {
     "output_type": "stream",
     "name": "stdout",
     "text": [
      "Min:  CHM002_r    0.0\nCHM004_r    0.0\nCHM006_r    0.0\nCPY004_r    0.0\nCPY009_r    0.0\nCPY010_r    0.0\nCPY015_r    0.0\nKWN002_r    0.0\nNAN006_r    0.0\nNAN010_r    0.0\nNAN011_r    0.0\nNAN012_r    0.0\nNAN013_r    0.0\nPIN001_r    0.0\nPIN003_r    0.0\nPIN004_r    0.0\nPIN005_r    0.0\nTHA001_r    0.0\nCHM002_w    0.0\nCHM004_w    0.0\nCHM006_w    0.0\nCPY003_w    0.0\nCPY004_w    0.0\nCPY009_w    0.0\nCPY010_w    0.0\nCPY015_w    0.0\nKWN002_w    0.0\nNAN009_w    0.0\nNAN010_w    0.0\nNAN011_w    0.0\nNAN012_w    0.0\nNAN013_w    0.0\nPIN001_w    0.0\nPIN004_w    0.0\nTHA001_w    0.0\ndtype: float64\nMax:  CHM002_r    1.0\nCHM004_r    1.0\nCHM006_r    1.0\nCPY004_r    1.0\nCPY009_r    1.0\nCPY010_r    1.0\nCPY015_r    1.0\nKWN002_r    1.0\nNAN006_r    1.0\nNAN010_r    1.0\nNAN011_r    1.0\nNAN012_r    1.0\nNAN013_r    1.0\nPIN001_r    1.0\nPIN003_r    1.0\nPIN004_r    1.0\nPIN005_r    1.0\nTHA001_r    1.0\nCHM002_w    1.0\nCHM004_w    1.0\nCHM006_w    1.0\nCPY003_w    1.0\nCPY004_w    1.0\nCPY009_w    1.0\nCPY010_w    1.0\nCPY015_w    1.0\nKWN002_w    1.0\nNAN009_w    1.0\nNAN010_w    1.0\nNAN011_w    1.0\nNAN012_w    1.0\nNAN013_w    1.0\nPIN001_w    1.0\nPIN004_w    1.0\nTHA001_w    1.0\ndtype: float64\n"
     ]
    }
   ],
   "source": [
    "# print(\"********RAIN_BEFORE********\")\n",
    "# print(\"Min: \", np.min(df))\n",
    "# print(\"Max: \", np.max(df))\n",
    "#print(\"********RAIN_AFTER********\")\n",
    "scaler = MinMaxScaler()\n",
    "df[df.columns] = scaler.fit_transform(df[df.columns])\n",
    "#y = scaler.fit_transform(y)\n",
    "print(\"Min: \", np.min(df))\n",
    "print(\"Max: \", np.max(df))"
   ]
  },
  {
   "cell_type": "code",
   "execution_count": 11,
   "metadata": {},
   "outputs": [],
   "source": [
    "timelag = 7\n",
    "y = df['CPY015_w'].shift(-timelag)"
   ]
  },
  {
   "cell_type": "code",
   "execution_count": 12,
   "metadata": {},
   "outputs": [
    {
     "output_type": "stream",
     "name": "stdout",
     "text": [
      "<class 'numpy.ndarray'>\nShape: (1819, 35)\n********************\n<class 'numpy.ndarray'>\nShape: (1819, 1)\n"
     ]
    }
   ],
   "source": [
    "X = df.values[:-timelag]\n",
    "print(type(X))\n",
    "print(\"Shape:\",X.shape)\n",
    "print(\"*\"*20)\n",
    "\n",
    "y = y.values[:-timelag]\n",
    "y = y.reshape(-1,1)\n",
    "print(type(y))\n",
    "print(\"Shape:\", y.shape)"
   ]
  },
  {
   "cell_type": "code",
   "execution_count": 13,
   "metadata": {},
   "outputs": [
    {
     "output_type": "stream",
     "name": "stdout",
     "text": [
      "Total data From.. 1819\nTrain: 1455 , Test: 364\n==============================\nx_train shape (1455, 35)\ny_train shape (1455, 1)\nx feature.... 35\ny feature.... 1\n"
     ]
    }
   ],
   "source": [
    "num_data = len(X)\n",
    "train_split = 0.8 #8:2 train:test\n",
    "\n",
    "num_train = int(train_split*num_data)\n",
    "num_test = num_data-num_train\n",
    "\n",
    "print(\"Total data From..\",num_data)\n",
    "print(\"Train:\",num_train,\", Test:\",num_test)\n",
    "\n",
    "######################################\n",
    "x_train = X[0:num_train]\n",
    "x_test = X[num_train:]\n",
    "\n",
    "y_train = y[0:num_train]\n",
    "y_test = y[num_train:]\n",
    "\n",
    "num_x_feature = X.shape[1]\n",
    "num_y_feature = y.shape[1]\n",
    "######################################\n",
    "print('='*30)\n",
    "print(\"x_train shape\",x_train.shape)\n",
    "print(\"y_train shape\",y_train.shape)\n",
    "print(\"x feature....\",num_x_feature)\n",
    "print(\"y feature....\",num_y_feature)"
   ]
  },
  {
   "cell_type": "code",
   "execution_count": 14,
   "metadata": {},
   "outputs": [],
   "source": [
    "def batch_gen(batch_size, sequence_length):\n",
    "    while True:\n",
    "        x_shape = (batch_size, sequence_length, num_x_feature)\n",
    "        x_batch = np.zeros(shape = x_shape, dtype=np.float16)\n",
    "        \n",
    "        y_shape = (batch_size, sequence_length, num_y_feature)\n",
    "        y_batch = np.zeros(shape = y_shape, dtype=np.float16)\n",
    "        \n",
    "        #fill batch with random sequences of data\n",
    "        for i in range(batch_size):\n",
    "            \n",
    "            #Get rand start index,\n",
    "            idx = np.random.randint(num_train - sequence_length)\n",
    "            \n",
    "            #copy sequence of data start at this index.\n",
    "            x_batch[i] = x_train[idx:idx+sequence_length]\n",
    "            y_batch[i] = y_train[idx:idx+sequence_length]\n",
    "            \n",
    "        yield (x_batch, y_batch)       "
   ]
  },
  {
   "cell_type": "code",
   "execution_count": 15,
   "metadata": {},
   "outputs": [
    {
     "output_type": "stream",
     "name": "stdout",
     "text": [
      "(256, 7, 35)\n(256, 7, 1)\n"
     ]
    }
   ],
   "source": [
    "batch_size = 256\n",
    "sequence_length = timelag\n",
    "\n",
    "generator = batch_gen(batch_size=batch_size,\n",
    "                            sequence_length=sequence_length)\n",
    "\n",
    "x_batch, y_batch = next(generator)\n",
    "\n",
    "print(x_batch.shape)\n",
    "print(y_batch.shape)"
   ]
  },
  {
   "cell_type": "code",
   "execution_count": 16,
   "metadata": {},
   "outputs": [
    {
     "output_type": "display_data",
     "data": {
      "text/plain": "<Figure size 720x360 with 2 Axes>",
      "image/svg+xml": "<?xml version=\"1.0\" encoding=\"utf-8\" standalone=\"no\"?>\n<!DOCTYPE svg PUBLIC \"-//W3C//DTD SVG 1.1//EN\"\n  \"http://www.w3.org/Graphics/SVG/1.1/DTD/svg11.dtd\">\n<!-- Created with matplotlib (https://matplotlib.org/) -->\n<svg height=\"351.59625pt\" version=\"1.1\" viewBox=\"0 0 712.665625 351.59625\" width=\"712.665625pt\" xmlns=\"http://www.w3.org/2000/svg\" xmlns:xlink=\"http://www.w3.org/1999/xlink\">\n <metadata>\n  <rdf:RDF xmlns:cc=\"http://creativecommons.org/ns#\" xmlns:dc=\"http://purl.org/dc/elements/1.1/\" xmlns:rdf=\"http://www.w3.org/1999/02/22-rdf-syntax-ns#\">\n   <cc:Work>\n    <dc:type rdf:resource=\"http://purl.org/dc/dcmitype/StillImage\"/>\n    <dc:date>2020-11-11T15:56:21.654111</dc:date>\n    <dc:format>image/svg+xml</dc:format>\n    <dc:creator>\n     <cc:Agent>\n      <dc:title>Matplotlib v3.3.1, https://matplotlib.org/</dc:title>\n     </cc:Agent>\n    </dc:creator>\n   </cc:Work>\n  </rdf:RDF>\n </metadata>\n <defs>\n  <style type=\"text/css\">*{stroke-linecap:butt;stroke-linejoin:round;}</style>\n </defs>\n <g id=\"figure_1\">\n  <g id=\"patch_1\">\n   <path d=\"M 0 351.59625 \nL 712.665625 351.59625 \nL 712.665625 0 \nL 0 0 \nz\n\" style=\"fill:none;\"/>\n  </g>\n  <g id=\"axes_1\">\n   <g id=\"patch_2\">\n    <path d=\"M 49.190625 327.718125 \nL 354.053125 327.718125 \nL 354.053125 22.318125 \nL 49.190625 22.318125 \nz\n\" style=\"fill:#ffffff;\"/>\n   </g>\n   <g id=\"matplotlib.axis_1\">\n    <g id=\"xtick_1\">\n     <g id=\"line2d_1\">\n      <defs>\n       <path d=\"M 0 0 \nL 0 3.5 \n\" id=\"mf6b6600926\" style=\"stroke:#000000;stroke-width:0.8;\"/>\n      </defs>\n      <g>\n       <use style=\"stroke:#000000;stroke-width:0.8;\" x=\"63.048011\" xlink:href=\"#mf6b6600926\" y=\"327.718125\"/>\n      </g>\n     </g>\n     <g id=\"text_1\">\n      <!-- 0 -->\n      <g transform=\"translate(59.866761 342.316562)scale(0.1 -0.1)\">\n       <defs>\n        <path d=\"M 31.78125 66.40625 \nQ 24.171875 66.40625 20.328125 58.90625 \nQ 16.5 51.421875 16.5 36.375 \nQ 16.5 21.390625 20.328125 13.890625 \nQ 24.171875 6.390625 31.78125 6.390625 \nQ 39.453125 6.390625 43.28125 13.890625 \nQ 47.125 21.390625 47.125 36.375 \nQ 47.125 51.421875 43.28125 58.90625 \nQ 39.453125 66.40625 31.78125 66.40625 \nz\nM 31.78125 74.21875 \nQ 44.046875 74.21875 50.515625 64.515625 \nQ 56.984375 54.828125 56.984375 36.375 \nQ 56.984375 17.96875 50.515625 8.265625 \nQ 44.046875 -1.421875 31.78125 -1.421875 \nQ 19.53125 -1.421875 13.0625 8.265625 \nQ 6.59375 17.96875 6.59375 36.375 \nQ 6.59375 54.828125 13.0625 64.515625 \nQ 19.53125 74.21875 31.78125 74.21875 \nz\n\" id=\"DejaVuSans-48\"/>\n       </defs>\n       <use xlink:href=\"#DejaVuSans-48\"/>\n      </g>\n     </g>\n    </g>\n    <g id=\"xtick_2\">\n     <g id=\"line2d_2\">\n      <g>\n       <use style=\"stroke:#000000;stroke-width:0.8;\" x=\"109.239299\" xlink:href=\"#mf6b6600926\" y=\"327.718125\"/>\n      </g>\n     </g>\n     <g id=\"text_2\">\n      <!-- 1 -->\n      <g transform=\"translate(106.058049 342.316562)scale(0.1 -0.1)\">\n       <defs>\n        <path d=\"M 12.40625 8.296875 \nL 28.515625 8.296875 \nL 28.515625 63.921875 \nL 10.984375 60.40625 \nL 10.984375 69.390625 \nL 28.421875 72.90625 \nL 38.28125 72.90625 \nL 38.28125 8.296875 \nL 54.390625 8.296875 \nL 54.390625 0 \nL 12.40625 0 \nz\n\" id=\"DejaVuSans-49\"/>\n       </defs>\n       <use xlink:href=\"#DejaVuSans-49\"/>\n      </g>\n     </g>\n    </g>\n    <g id=\"xtick_3\">\n     <g id=\"line2d_3\">\n      <g>\n       <use style=\"stroke:#000000;stroke-width:0.8;\" x=\"155.430587\" xlink:href=\"#mf6b6600926\" y=\"327.718125\"/>\n      </g>\n     </g>\n     <g id=\"text_3\">\n      <!-- 2 -->\n      <g transform=\"translate(152.249337 342.316562)scale(0.1 -0.1)\">\n       <defs>\n        <path d=\"M 19.1875 8.296875 \nL 53.609375 8.296875 \nL 53.609375 0 \nL 7.328125 0 \nL 7.328125 8.296875 \nQ 12.9375 14.109375 22.625 23.890625 \nQ 32.328125 33.6875 34.8125 36.53125 \nQ 39.546875 41.84375 41.421875 45.53125 \nQ 43.3125 49.21875 43.3125 52.78125 \nQ 43.3125 58.59375 39.234375 62.25 \nQ 35.15625 65.921875 28.609375 65.921875 \nQ 23.96875 65.921875 18.8125 64.3125 \nQ 13.671875 62.703125 7.8125 59.421875 \nL 7.8125 69.390625 \nQ 13.765625 71.78125 18.9375 73 \nQ 24.125 74.21875 28.421875 74.21875 \nQ 39.75 74.21875 46.484375 68.546875 \nQ 53.21875 62.890625 53.21875 53.421875 \nQ 53.21875 48.921875 51.53125 44.890625 \nQ 49.859375 40.875 45.40625 35.40625 \nQ 44.1875 33.984375 37.640625 27.21875 \nQ 31.109375 20.453125 19.1875 8.296875 \nz\n\" id=\"DejaVuSans-50\"/>\n       </defs>\n       <use xlink:href=\"#DejaVuSans-50\"/>\n      </g>\n     </g>\n    </g>\n    <g id=\"xtick_4\">\n     <g id=\"line2d_4\">\n      <g>\n       <use style=\"stroke:#000000;stroke-width:0.8;\" x=\"201.621875\" xlink:href=\"#mf6b6600926\" y=\"327.718125\"/>\n      </g>\n     </g>\n     <g id=\"text_4\">\n      <!-- 3 -->\n      <g transform=\"translate(198.440625 342.316562)scale(0.1 -0.1)\">\n       <defs>\n        <path d=\"M 40.578125 39.3125 \nQ 47.65625 37.796875 51.625 33 \nQ 55.609375 28.21875 55.609375 21.1875 \nQ 55.609375 10.40625 48.1875 4.484375 \nQ 40.765625 -1.421875 27.09375 -1.421875 \nQ 22.515625 -1.421875 17.65625 -0.515625 \nQ 12.796875 0.390625 7.625 2.203125 \nL 7.625 11.71875 \nQ 11.71875 9.328125 16.59375 8.109375 \nQ 21.484375 6.890625 26.8125 6.890625 \nQ 36.078125 6.890625 40.9375 10.546875 \nQ 45.796875 14.203125 45.796875 21.1875 \nQ 45.796875 27.640625 41.28125 31.265625 \nQ 36.765625 34.90625 28.71875 34.90625 \nL 20.21875 34.90625 \nL 20.21875 43.015625 \nL 29.109375 43.015625 \nQ 36.375 43.015625 40.234375 45.921875 \nQ 44.09375 48.828125 44.09375 54.296875 \nQ 44.09375 59.90625 40.109375 62.90625 \nQ 36.140625 65.921875 28.71875 65.921875 \nQ 24.65625 65.921875 20.015625 65.03125 \nQ 15.375 64.15625 9.8125 62.3125 \nL 9.8125 71.09375 \nQ 15.4375 72.65625 20.34375 73.4375 \nQ 25.25 74.21875 29.59375 74.21875 \nQ 40.828125 74.21875 47.359375 69.109375 \nQ 53.90625 64.015625 53.90625 55.328125 \nQ 53.90625 49.265625 50.4375 45.09375 \nQ 46.96875 40.921875 40.578125 39.3125 \nz\n\" id=\"DejaVuSans-51\"/>\n       </defs>\n       <use xlink:href=\"#DejaVuSans-51\"/>\n      </g>\n     </g>\n    </g>\n    <g id=\"xtick_5\">\n     <g id=\"line2d_5\">\n      <g>\n       <use style=\"stroke:#000000;stroke-width:0.8;\" x=\"247.813163\" xlink:href=\"#mf6b6600926\" y=\"327.718125\"/>\n      </g>\n     </g>\n     <g id=\"text_5\">\n      <!-- 4 -->\n      <g transform=\"translate(244.631913 342.316562)scale(0.1 -0.1)\">\n       <defs>\n        <path d=\"M 37.796875 64.3125 \nL 12.890625 25.390625 \nL 37.796875 25.390625 \nz\nM 35.203125 72.90625 \nL 47.609375 72.90625 \nL 47.609375 25.390625 \nL 58.015625 25.390625 \nL 58.015625 17.1875 \nL 47.609375 17.1875 \nL 47.609375 0 \nL 37.796875 0 \nL 37.796875 17.1875 \nL 4.890625 17.1875 \nL 4.890625 26.703125 \nz\n\" id=\"DejaVuSans-52\"/>\n       </defs>\n       <use xlink:href=\"#DejaVuSans-52\"/>\n      </g>\n     </g>\n    </g>\n    <g id=\"xtick_6\">\n     <g id=\"line2d_6\">\n      <g>\n       <use style=\"stroke:#000000;stroke-width:0.8;\" x=\"294.004451\" xlink:href=\"#mf6b6600926\" y=\"327.718125\"/>\n      </g>\n     </g>\n     <g id=\"text_6\">\n      <!-- 5 -->\n      <g transform=\"translate(290.823201 342.316562)scale(0.1 -0.1)\">\n       <defs>\n        <path d=\"M 10.796875 72.90625 \nL 49.515625 72.90625 \nL 49.515625 64.59375 \nL 19.828125 64.59375 \nL 19.828125 46.734375 \nQ 21.96875 47.46875 24.109375 47.828125 \nQ 26.265625 48.1875 28.421875 48.1875 \nQ 40.625 48.1875 47.75 41.5 \nQ 54.890625 34.8125 54.890625 23.390625 \nQ 54.890625 11.625 47.5625 5.09375 \nQ 40.234375 -1.421875 26.90625 -1.421875 \nQ 22.3125 -1.421875 17.546875 -0.640625 \nQ 12.796875 0.140625 7.71875 1.703125 \nL 7.71875 11.625 \nQ 12.109375 9.234375 16.796875 8.0625 \nQ 21.484375 6.890625 26.703125 6.890625 \nQ 35.15625 6.890625 40.078125 11.328125 \nQ 45.015625 15.765625 45.015625 23.390625 \nQ 45.015625 31 40.078125 35.4375 \nQ 35.15625 39.890625 26.703125 39.890625 \nQ 22.75 39.890625 18.8125 39.015625 \nQ 14.890625 38.140625 10.796875 36.28125 \nz\n\" id=\"DejaVuSans-53\"/>\n       </defs>\n       <use xlink:href=\"#DejaVuSans-53\"/>\n      </g>\n     </g>\n    </g>\n    <g id=\"xtick_7\">\n     <g id=\"line2d_7\">\n      <g>\n       <use style=\"stroke:#000000;stroke-width:0.8;\" x=\"340.195739\" xlink:href=\"#mf6b6600926\" y=\"327.718125\"/>\n      </g>\n     </g>\n     <g id=\"text_7\">\n      <!-- 6 -->\n      <g transform=\"translate(337.014489 342.316562)scale(0.1 -0.1)\">\n       <defs>\n        <path d=\"M 33.015625 40.375 \nQ 26.375 40.375 22.484375 35.828125 \nQ 18.609375 31.296875 18.609375 23.390625 \nQ 18.609375 15.53125 22.484375 10.953125 \nQ 26.375 6.390625 33.015625 6.390625 \nQ 39.65625 6.390625 43.53125 10.953125 \nQ 47.40625 15.53125 47.40625 23.390625 \nQ 47.40625 31.296875 43.53125 35.828125 \nQ 39.65625 40.375 33.015625 40.375 \nz\nM 52.59375 71.296875 \nL 52.59375 62.3125 \nQ 48.875 64.0625 45.09375 64.984375 \nQ 41.3125 65.921875 37.59375 65.921875 \nQ 27.828125 65.921875 22.671875 59.328125 \nQ 17.53125 52.734375 16.796875 39.40625 \nQ 19.671875 43.65625 24.015625 45.921875 \nQ 28.375 48.1875 33.59375 48.1875 \nQ 44.578125 48.1875 50.953125 41.515625 \nQ 57.328125 34.859375 57.328125 23.390625 \nQ 57.328125 12.15625 50.6875 5.359375 \nQ 44.046875 -1.421875 33.015625 -1.421875 \nQ 20.359375 -1.421875 13.671875 8.265625 \nQ 6.984375 17.96875 6.984375 36.375 \nQ 6.984375 53.65625 15.1875 63.9375 \nQ 23.390625 74.21875 37.203125 74.21875 \nQ 40.921875 74.21875 44.703125 73.484375 \nQ 48.484375 72.75 52.59375 71.296875 \nz\n\" id=\"DejaVuSans-54\"/>\n       </defs>\n       <use xlink:href=\"#DejaVuSans-54\"/>\n      </g>\n     </g>\n    </g>\n   </g>\n   <g id=\"matplotlib.axis_2\">\n    <g id=\"ytick_1\">\n     <g id=\"line2d_8\">\n      <defs>\n       <path d=\"M 0 0 \nL -3.5 0 \n\" id=\"m72782c8ff6\" style=\"stroke:#000000;stroke-width:0.8;\"/>\n      </defs>\n      <g>\n       <use style=\"stroke:#000000;stroke-width:0.8;\" x=\"49.190625\" xlink:href=\"#m72782c8ff6\" y=\"313.836307\"/>\n      </g>\n     </g>\n     <g id=\"text_8\">\n      <!-- 0.0000 -->\n      <g transform=\"translate(7.2 317.635526)scale(0.1 -0.1)\">\n       <defs>\n        <path d=\"M 10.6875 12.40625 \nL 21 12.40625 \nL 21 0 \nL 10.6875 0 \nz\n\" id=\"DejaVuSans-46\"/>\n       </defs>\n       <use xlink:href=\"#DejaVuSans-48\"/>\n       <use x=\"63.623047\" xlink:href=\"#DejaVuSans-46\"/>\n       <use x=\"95.410156\" xlink:href=\"#DejaVuSans-48\"/>\n       <use x=\"159.033203\" xlink:href=\"#DejaVuSans-48\"/>\n       <use x=\"222.65625\" xlink:href=\"#DejaVuSans-48\"/>\n       <use x=\"286.279297\" xlink:href=\"#DejaVuSans-48\"/>\n      </g>\n     </g>\n    </g>\n    <g id=\"ytick_2\">\n     <g id=\"line2d_9\">\n      <g>\n       <use style=\"stroke:#000000;stroke-width:0.8;\" x=\"49.190625\" xlink:href=\"#m72782c8ff6\" y=\"278.137616\"/>\n      </g>\n     </g>\n     <g id=\"text_9\">\n      <!-- 0.0002 -->\n      <g transform=\"translate(7.2 281.936834)scale(0.1 -0.1)\">\n       <use xlink:href=\"#DejaVuSans-48\"/>\n       <use x=\"63.623047\" xlink:href=\"#DejaVuSans-46\"/>\n       <use x=\"95.410156\" xlink:href=\"#DejaVuSans-48\"/>\n       <use x=\"159.033203\" xlink:href=\"#DejaVuSans-48\"/>\n       <use x=\"222.65625\" xlink:href=\"#DejaVuSans-48\"/>\n       <use x=\"286.279297\" xlink:href=\"#DejaVuSans-50\"/>\n      </g>\n     </g>\n    </g>\n    <g id=\"ytick_3\">\n     <g id=\"line2d_10\">\n      <g>\n       <use style=\"stroke:#000000;stroke-width:0.8;\" x=\"49.190625\" xlink:href=\"#m72782c8ff6\" y=\"242.438924\"/>\n      </g>\n     </g>\n     <g id=\"text_10\">\n      <!-- 0.0004 -->\n      <g transform=\"translate(7.2 246.238143)scale(0.1 -0.1)\">\n       <use xlink:href=\"#DejaVuSans-48\"/>\n       <use x=\"63.623047\" xlink:href=\"#DejaVuSans-46\"/>\n       <use x=\"95.410156\" xlink:href=\"#DejaVuSans-48\"/>\n       <use x=\"159.033203\" xlink:href=\"#DejaVuSans-48\"/>\n       <use x=\"222.65625\" xlink:href=\"#DejaVuSans-48\"/>\n       <use x=\"286.279297\" xlink:href=\"#DejaVuSans-52\"/>\n      </g>\n     </g>\n    </g>\n    <g id=\"ytick_4\">\n     <g id=\"line2d_11\">\n      <g>\n       <use style=\"stroke:#000000;stroke-width:0.8;\" x=\"49.190625\" xlink:href=\"#m72782c8ff6\" y=\"206.740233\"/>\n      </g>\n     </g>\n     <g id=\"text_11\">\n      <!-- 0.0006 -->\n      <g transform=\"translate(7.2 210.539452)scale(0.1 -0.1)\">\n       <use xlink:href=\"#DejaVuSans-48\"/>\n       <use x=\"63.623047\" xlink:href=\"#DejaVuSans-46\"/>\n       <use x=\"95.410156\" xlink:href=\"#DejaVuSans-48\"/>\n       <use x=\"159.033203\" xlink:href=\"#DejaVuSans-48\"/>\n       <use x=\"222.65625\" xlink:href=\"#DejaVuSans-48\"/>\n       <use x=\"286.279297\" xlink:href=\"#DejaVuSans-54\"/>\n      </g>\n     </g>\n    </g>\n    <g id=\"ytick_5\">\n     <g id=\"line2d_12\">\n      <g>\n       <use style=\"stroke:#000000;stroke-width:0.8;\" x=\"49.190625\" xlink:href=\"#m72782c8ff6\" y=\"171.041542\"/>\n      </g>\n     </g>\n     <g id=\"text_12\">\n      <!-- 0.0008 -->\n      <g transform=\"translate(7.2 174.84076)scale(0.1 -0.1)\">\n       <defs>\n        <path d=\"M 31.78125 34.625 \nQ 24.75 34.625 20.71875 30.859375 \nQ 16.703125 27.09375 16.703125 20.515625 \nQ 16.703125 13.921875 20.71875 10.15625 \nQ 24.75 6.390625 31.78125 6.390625 \nQ 38.8125 6.390625 42.859375 10.171875 \nQ 46.921875 13.96875 46.921875 20.515625 \nQ 46.921875 27.09375 42.890625 30.859375 \nQ 38.875 34.625 31.78125 34.625 \nz\nM 21.921875 38.8125 \nQ 15.578125 40.375 12.03125 44.71875 \nQ 8.5 49.078125 8.5 55.328125 \nQ 8.5 64.0625 14.71875 69.140625 \nQ 20.953125 74.21875 31.78125 74.21875 \nQ 42.671875 74.21875 48.875 69.140625 \nQ 55.078125 64.0625 55.078125 55.328125 \nQ 55.078125 49.078125 51.53125 44.71875 \nQ 48 40.375 41.703125 38.8125 \nQ 48.828125 37.15625 52.796875 32.3125 \nQ 56.78125 27.484375 56.78125 20.515625 \nQ 56.78125 9.90625 50.3125 4.234375 \nQ 43.84375 -1.421875 31.78125 -1.421875 \nQ 19.734375 -1.421875 13.25 4.234375 \nQ 6.78125 9.90625 6.78125 20.515625 \nQ 6.78125 27.484375 10.78125 32.3125 \nQ 14.796875 37.15625 21.921875 38.8125 \nz\nM 18.3125 54.390625 \nQ 18.3125 48.734375 21.84375 45.5625 \nQ 25.390625 42.390625 31.78125 42.390625 \nQ 38.140625 42.390625 41.71875 45.5625 \nQ 45.3125 48.734375 45.3125 54.390625 \nQ 45.3125 60.0625 41.71875 63.234375 \nQ 38.140625 66.40625 31.78125 66.40625 \nQ 25.390625 66.40625 21.84375 63.234375 \nQ 18.3125 60.0625 18.3125 54.390625 \nz\n\" id=\"DejaVuSans-56\"/>\n       </defs>\n       <use xlink:href=\"#DejaVuSans-48\"/>\n       <use x=\"63.623047\" xlink:href=\"#DejaVuSans-46\"/>\n       <use x=\"95.410156\" xlink:href=\"#DejaVuSans-48\"/>\n       <use x=\"159.033203\" xlink:href=\"#DejaVuSans-48\"/>\n       <use x=\"222.65625\" xlink:href=\"#DejaVuSans-48\"/>\n       <use x=\"286.279297\" xlink:href=\"#DejaVuSans-56\"/>\n      </g>\n     </g>\n    </g>\n    <g id=\"ytick_6\">\n     <g id=\"line2d_13\">\n      <g>\n       <use style=\"stroke:#000000;stroke-width:0.8;\" x=\"49.190625\" xlink:href=\"#m72782c8ff6\" y=\"135.34285\"/>\n      </g>\n     </g>\n     <g id=\"text_13\">\n      <!-- 0.0010 -->\n      <g transform=\"translate(7.2 139.142069)scale(0.1 -0.1)\">\n       <use xlink:href=\"#DejaVuSans-48\"/>\n       <use x=\"63.623047\" xlink:href=\"#DejaVuSans-46\"/>\n       <use x=\"95.410156\" xlink:href=\"#DejaVuSans-48\"/>\n       <use x=\"159.033203\" xlink:href=\"#DejaVuSans-48\"/>\n       <use x=\"222.65625\" xlink:href=\"#DejaVuSans-49\"/>\n       <use x=\"286.279297\" xlink:href=\"#DejaVuSans-48\"/>\n      </g>\n     </g>\n    </g>\n    <g id=\"ytick_7\">\n     <g id=\"line2d_14\">\n      <g>\n       <use style=\"stroke:#000000;stroke-width:0.8;\" x=\"49.190625\" xlink:href=\"#m72782c8ff6\" y=\"99.644159\"/>\n      </g>\n     </g>\n     <g id=\"text_14\">\n      <!-- 0.0012 -->\n      <g transform=\"translate(7.2 103.443378)scale(0.1 -0.1)\">\n       <use xlink:href=\"#DejaVuSans-48\"/>\n       <use x=\"63.623047\" xlink:href=\"#DejaVuSans-46\"/>\n       <use x=\"95.410156\" xlink:href=\"#DejaVuSans-48\"/>\n       <use x=\"159.033203\" xlink:href=\"#DejaVuSans-48\"/>\n       <use x=\"222.65625\" xlink:href=\"#DejaVuSans-49\"/>\n       <use x=\"286.279297\" xlink:href=\"#DejaVuSans-50\"/>\n      </g>\n     </g>\n    </g>\n    <g id=\"ytick_8\">\n     <g id=\"line2d_15\">\n      <g>\n       <use style=\"stroke:#000000;stroke-width:0.8;\" x=\"49.190625\" xlink:href=\"#m72782c8ff6\" y=\"63.945468\"/>\n      </g>\n     </g>\n     <g id=\"text_15\">\n      <!-- 0.0014 -->\n      <g transform=\"translate(7.2 67.744686)scale(0.1 -0.1)\">\n       <use xlink:href=\"#DejaVuSans-48\"/>\n       <use x=\"63.623047\" xlink:href=\"#DejaVuSans-46\"/>\n       <use x=\"95.410156\" xlink:href=\"#DejaVuSans-48\"/>\n       <use x=\"159.033203\" xlink:href=\"#DejaVuSans-48\"/>\n       <use x=\"222.65625\" xlink:href=\"#DejaVuSans-49\"/>\n       <use x=\"286.279297\" xlink:href=\"#DejaVuSans-52\"/>\n      </g>\n     </g>\n    </g>\n    <g id=\"ytick_9\">\n     <g id=\"line2d_16\">\n      <g>\n       <use style=\"stroke:#000000;stroke-width:0.8;\" x=\"49.190625\" xlink:href=\"#m72782c8ff6\" y=\"28.246776\"/>\n      </g>\n     </g>\n     <g id=\"text_16\">\n      <!-- 0.0016 -->\n      <g transform=\"translate(7.2 32.045995)scale(0.1 -0.1)\">\n       <use xlink:href=\"#DejaVuSans-48\"/>\n       <use x=\"63.623047\" xlink:href=\"#DejaVuSans-46\"/>\n       <use x=\"95.410156\" xlink:href=\"#DejaVuSans-48\"/>\n       <use x=\"159.033203\" xlink:href=\"#DejaVuSans-48\"/>\n       <use x=\"222.65625\" xlink:href=\"#DejaVuSans-49\"/>\n       <use x=\"286.279297\" xlink:href=\"#DejaVuSans-54\"/>\n      </g>\n     </g>\n    </g>\n   </g>\n   <g id=\"line2d_17\">\n    <path clip-path=\"url(#p4386670c38)\" d=\"M 63.048011 36.199943 \nL 109.239299 313.836307 \nL 155.430587 313.836307 \nL 201.621875 313.836307 \nL 247.813163 313.836307 \nL 294.004451 313.836307 \nL 340.195739 313.836307 \n\" style=\"fill:none;stroke:#1f77b4;stroke-linecap:square;stroke-width:1.5;\"/>\n   </g>\n   <g id=\"patch_3\">\n    <path d=\"M 49.190625 327.718125 \nL 49.190625 22.318125 \n\" style=\"fill:none;stroke:#000000;stroke-linecap:square;stroke-linejoin:miter;stroke-width:0.8;\"/>\n   </g>\n   <g id=\"patch_4\">\n    <path d=\"M 354.053125 327.718125 \nL 354.053125 22.318125 \n\" style=\"fill:none;stroke:#000000;stroke-linecap:square;stroke-linejoin:miter;stroke-width:0.8;\"/>\n   </g>\n   <g id=\"patch_5\">\n    <path d=\"M 49.190625 327.718125 \nL 354.053125 327.718125 \n\" style=\"fill:none;stroke:#000000;stroke-linecap:square;stroke-linejoin:miter;stroke-width:0.8;\"/>\n   </g>\n   <g id=\"patch_6\">\n    <path d=\"M 49.190625 22.318125 \nL 354.053125 22.318125 \n\" style=\"fill:none;stroke:#000000;stroke-linecap:square;stroke-linejoin:miter;stroke-width:0.8;\"/>\n   </g>\n   <g id=\"text_17\">\n    <!-- x_batch -->\n    <g transform=\"translate(178.130938 16.318125)scale(0.12 -0.12)\">\n     <defs>\n      <path d=\"M 54.890625 54.6875 \nL 35.109375 28.078125 \nL 55.90625 0 \nL 45.3125 0 \nL 29.390625 21.484375 \nL 13.484375 0 \nL 2.875 0 \nL 24.125 28.609375 \nL 4.6875 54.6875 \nL 15.28125 54.6875 \nL 29.78125 35.203125 \nL 44.28125 54.6875 \nz\n\" id=\"DejaVuSans-120\"/>\n      <path d=\"M 50.984375 -16.609375 \nL 50.984375 -23.578125 \nL -0.984375 -23.578125 \nL -0.984375 -16.609375 \nz\n\" id=\"DejaVuSans-95\"/>\n      <path d=\"M 48.6875 27.296875 \nQ 48.6875 37.203125 44.609375 42.84375 \nQ 40.53125 48.484375 33.40625 48.484375 \nQ 26.265625 48.484375 22.1875 42.84375 \nQ 18.109375 37.203125 18.109375 27.296875 \nQ 18.109375 17.390625 22.1875 11.75 \nQ 26.265625 6.109375 33.40625 6.109375 \nQ 40.53125 6.109375 44.609375 11.75 \nQ 48.6875 17.390625 48.6875 27.296875 \nz\nM 18.109375 46.390625 \nQ 20.953125 51.265625 25.265625 53.625 \nQ 29.59375 56 35.59375 56 \nQ 45.5625 56 51.78125 48.09375 \nQ 58.015625 40.1875 58.015625 27.296875 \nQ 58.015625 14.40625 51.78125 6.484375 \nQ 45.5625 -1.421875 35.59375 -1.421875 \nQ 29.59375 -1.421875 25.265625 0.953125 \nQ 20.953125 3.328125 18.109375 8.203125 \nL 18.109375 0 \nL 9.078125 0 \nL 9.078125 75.984375 \nL 18.109375 75.984375 \nz\n\" id=\"DejaVuSans-98\"/>\n      <path d=\"M 34.28125 27.484375 \nQ 23.390625 27.484375 19.1875 25 \nQ 14.984375 22.515625 14.984375 16.5 \nQ 14.984375 11.71875 18.140625 8.90625 \nQ 21.296875 6.109375 26.703125 6.109375 \nQ 34.1875 6.109375 38.703125 11.40625 \nQ 43.21875 16.703125 43.21875 25.484375 \nL 43.21875 27.484375 \nz\nM 52.203125 31.203125 \nL 52.203125 0 \nL 43.21875 0 \nL 43.21875 8.296875 \nQ 40.140625 3.328125 35.546875 0.953125 \nQ 30.953125 -1.421875 24.3125 -1.421875 \nQ 15.921875 -1.421875 10.953125 3.296875 \nQ 6 8.015625 6 15.921875 \nQ 6 25.140625 12.171875 29.828125 \nQ 18.359375 34.515625 30.609375 34.515625 \nL 43.21875 34.515625 \nL 43.21875 35.40625 \nQ 43.21875 41.609375 39.140625 45 \nQ 35.0625 48.390625 27.6875 48.390625 \nQ 23 48.390625 18.546875 47.265625 \nQ 14.109375 46.140625 10.015625 43.890625 \nL 10.015625 52.203125 \nQ 14.9375 54.109375 19.578125 55.046875 \nQ 24.21875 56 28.609375 56 \nQ 40.484375 56 46.34375 49.84375 \nQ 52.203125 43.703125 52.203125 31.203125 \nz\n\" id=\"DejaVuSans-97\"/>\n      <path d=\"M 18.3125 70.21875 \nL 18.3125 54.6875 \nL 36.8125 54.6875 \nL 36.8125 47.703125 \nL 18.3125 47.703125 \nL 18.3125 18.015625 \nQ 18.3125 11.328125 20.140625 9.421875 \nQ 21.96875 7.515625 27.59375 7.515625 \nL 36.8125 7.515625 \nL 36.8125 0 \nL 27.59375 0 \nQ 17.1875 0 13.234375 3.875 \nQ 9.28125 7.765625 9.28125 18.015625 \nL 9.28125 47.703125 \nL 2.6875 47.703125 \nL 2.6875 54.6875 \nL 9.28125 54.6875 \nL 9.28125 70.21875 \nz\n\" id=\"DejaVuSans-116\"/>\n      <path d=\"M 48.78125 52.59375 \nL 48.78125 44.1875 \nQ 44.96875 46.296875 41.140625 47.34375 \nQ 37.3125 48.390625 33.40625 48.390625 \nQ 24.65625 48.390625 19.8125 42.84375 \nQ 14.984375 37.3125 14.984375 27.296875 \nQ 14.984375 17.28125 19.8125 11.734375 \nQ 24.65625 6.203125 33.40625 6.203125 \nQ 37.3125 6.203125 41.140625 7.25 \nQ 44.96875 8.296875 48.78125 10.40625 \nL 48.78125 2.09375 \nQ 45.015625 0.34375 40.984375 -0.53125 \nQ 36.96875 -1.421875 32.421875 -1.421875 \nQ 20.0625 -1.421875 12.78125 6.34375 \nQ 5.515625 14.109375 5.515625 27.296875 \nQ 5.515625 40.671875 12.859375 48.328125 \nQ 20.21875 56 33.015625 56 \nQ 37.15625 56 41.109375 55.140625 \nQ 45.0625 54.296875 48.78125 52.59375 \nz\n\" id=\"DejaVuSans-99\"/>\n      <path d=\"M 54.890625 33.015625 \nL 54.890625 0 \nL 45.90625 0 \nL 45.90625 32.71875 \nQ 45.90625 40.484375 42.875 44.328125 \nQ 39.84375 48.1875 33.796875 48.1875 \nQ 26.515625 48.1875 22.3125 43.546875 \nQ 18.109375 38.921875 18.109375 30.90625 \nL 18.109375 0 \nL 9.078125 0 \nL 9.078125 75.984375 \nL 18.109375 75.984375 \nL 18.109375 46.1875 \nQ 21.34375 51.125 25.703125 53.5625 \nQ 30.078125 56 35.796875 56 \nQ 45.21875 56 50.046875 50.171875 \nQ 54.890625 44.34375 54.890625 33.015625 \nz\n\" id=\"DejaVuSans-104\"/>\n     </defs>\n     <use xlink:href=\"#DejaVuSans-120\"/>\n     <use x=\"59.179688\" xlink:href=\"#DejaVuSans-95\"/>\n     <use x=\"109.179688\" xlink:href=\"#DejaVuSans-98\"/>\n     <use x=\"172.65625\" xlink:href=\"#DejaVuSans-97\"/>\n     <use x=\"233.935547\" xlink:href=\"#DejaVuSans-116\"/>\n     <use x=\"273.144531\" xlink:href=\"#DejaVuSans-99\"/>\n     <use x=\"328.125\" xlink:href=\"#DejaVuSans-104\"/>\n    </g>\n   </g>\n  </g>\n  <g id=\"axes_2\">\n   <g id=\"patch_7\">\n    <path d=\"M 400.603125 327.718125 \nL 705.465625 327.718125 \nL 705.465625 22.318125 \nL 400.603125 22.318125 \nz\n\" style=\"fill:#ffffff;\"/>\n   </g>\n   <g id=\"matplotlib.axis_3\">\n    <g id=\"xtick_8\">\n     <g id=\"line2d_18\">\n      <g>\n       <use style=\"stroke:#000000;stroke-width:0.8;\" x=\"414.460511\" xlink:href=\"#mf6b6600926\" y=\"327.718125\"/>\n      </g>\n     </g>\n     <g id=\"text_18\">\n      <!-- 0 -->\n      <g transform=\"translate(411.279261 342.316562)scale(0.1 -0.1)\">\n       <use xlink:href=\"#DejaVuSans-48\"/>\n      </g>\n     </g>\n    </g>\n    <g id=\"xtick_9\">\n     <g id=\"line2d_19\">\n      <g>\n       <use style=\"stroke:#000000;stroke-width:0.8;\" x=\"460.651799\" xlink:href=\"#mf6b6600926\" y=\"327.718125\"/>\n      </g>\n     </g>\n     <g id=\"text_19\">\n      <!-- 1 -->\n      <g transform=\"translate(457.470549 342.316562)scale(0.1 -0.1)\">\n       <use xlink:href=\"#DejaVuSans-49\"/>\n      </g>\n     </g>\n    </g>\n    <g id=\"xtick_10\">\n     <g id=\"line2d_20\">\n      <g>\n       <use style=\"stroke:#000000;stroke-width:0.8;\" x=\"506.843087\" xlink:href=\"#mf6b6600926\" y=\"327.718125\"/>\n      </g>\n     </g>\n     <g id=\"text_20\">\n      <!-- 2 -->\n      <g transform=\"translate(503.661837 342.316562)scale(0.1 -0.1)\">\n       <use xlink:href=\"#DejaVuSans-50\"/>\n      </g>\n     </g>\n    </g>\n    <g id=\"xtick_11\">\n     <g id=\"line2d_21\">\n      <g>\n       <use style=\"stroke:#000000;stroke-width:0.8;\" x=\"553.034375\" xlink:href=\"#mf6b6600926\" y=\"327.718125\"/>\n      </g>\n     </g>\n     <g id=\"text_21\">\n      <!-- 3 -->\n      <g transform=\"translate(549.853125 342.316562)scale(0.1 -0.1)\">\n       <use xlink:href=\"#DejaVuSans-51\"/>\n      </g>\n     </g>\n    </g>\n    <g id=\"xtick_12\">\n     <g id=\"line2d_22\">\n      <g>\n       <use style=\"stroke:#000000;stroke-width:0.8;\" x=\"599.225663\" xlink:href=\"#mf6b6600926\" y=\"327.718125\"/>\n      </g>\n     </g>\n     <g id=\"text_22\">\n      <!-- 4 -->\n      <g transform=\"translate(596.044413 342.316562)scale(0.1 -0.1)\">\n       <use xlink:href=\"#DejaVuSans-52\"/>\n      </g>\n     </g>\n    </g>\n    <g id=\"xtick_13\">\n     <g id=\"line2d_23\">\n      <g>\n       <use style=\"stroke:#000000;stroke-width:0.8;\" x=\"645.416951\" xlink:href=\"#mf6b6600926\" y=\"327.718125\"/>\n      </g>\n     </g>\n     <g id=\"text_23\">\n      <!-- 5 -->\n      <g transform=\"translate(642.235701 342.316562)scale(0.1 -0.1)\">\n       <use xlink:href=\"#DejaVuSans-53\"/>\n      </g>\n     </g>\n    </g>\n    <g id=\"xtick_14\">\n     <g id=\"line2d_24\">\n      <g>\n       <use style=\"stroke:#000000;stroke-width:0.8;\" x=\"691.608239\" xlink:href=\"#mf6b6600926\" y=\"327.718125\"/>\n      </g>\n     </g>\n     <g id=\"text_24\">\n      <!-- 6 -->\n      <g transform=\"translate(688.426989 342.316562)scale(0.1 -0.1)\">\n       <use xlink:href=\"#DejaVuSans-54\"/>\n      </g>\n     </g>\n    </g>\n   </g>\n   <g id=\"matplotlib.axis_4\">\n    <g id=\"ytick_10\">\n     <g id=\"line2d_25\">\n      <g>\n       <use style=\"stroke:#000000;stroke-width:0.8;\" x=\"400.603125\" xlink:href=\"#m72782c8ff6\" y=\"314.084566\"/>\n      </g>\n     </g>\n     <g id=\"text_25\">\n      <!-- 0.400 -->\n      <g transform=\"translate(364.975 317.883785)scale(0.1 -0.1)\">\n       <use xlink:href=\"#DejaVuSans-48\"/>\n       <use x=\"63.623047\" xlink:href=\"#DejaVuSans-46\"/>\n       <use x=\"95.410156\" xlink:href=\"#DejaVuSans-52\"/>\n       <use x=\"159.033203\" xlink:href=\"#DejaVuSans-48\"/>\n       <use x=\"222.65625\" xlink:href=\"#DejaVuSans-48\"/>\n      </g>\n     </g>\n    </g>\n    <g id=\"ytick_11\">\n     <g id=\"line2d_26\">\n      <g>\n       <use style=\"stroke:#000000;stroke-width:0.8;\" x=\"400.603125\" xlink:href=\"#m72782c8ff6\" y=\"271.715022\"/>\n      </g>\n     </g>\n     <g id=\"text_26\">\n      <!-- 0.425 -->\n      <g transform=\"translate(364.975 275.514241)scale(0.1 -0.1)\">\n       <use xlink:href=\"#DejaVuSans-48\"/>\n       <use x=\"63.623047\" xlink:href=\"#DejaVuSans-46\"/>\n       <use x=\"95.410156\" xlink:href=\"#DejaVuSans-52\"/>\n       <use x=\"159.033203\" xlink:href=\"#DejaVuSans-50\"/>\n       <use x=\"222.65625\" xlink:href=\"#DejaVuSans-53\"/>\n      </g>\n     </g>\n    </g>\n    <g id=\"ytick_12\">\n     <g id=\"line2d_27\">\n      <g>\n       <use style=\"stroke:#000000;stroke-width:0.8;\" x=\"400.603125\" xlink:href=\"#m72782c8ff6\" y=\"229.345479\"/>\n      </g>\n     </g>\n     <g id=\"text_27\">\n      <!-- 0.450 -->\n      <g transform=\"translate(364.975 233.144698)scale(0.1 -0.1)\">\n       <use xlink:href=\"#DejaVuSans-48\"/>\n       <use x=\"63.623047\" xlink:href=\"#DejaVuSans-46\"/>\n       <use x=\"95.410156\" xlink:href=\"#DejaVuSans-52\"/>\n       <use x=\"159.033203\" xlink:href=\"#DejaVuSans-53\"/>\n       <use x=\"222.65625\" xlink:href=\"#DejaVuSans-48\"/>\n      </g>\n     </g>\n    </g>\n    <g id=\"ytick_13\">\n     <g id=\"line2d_28\">\n      <g>\n       <use style=\"stroke:#000000;stroke-width:0.8;\" x=\"400.603125\" xlink:href=\"#m72782c8ff6\" y=\"186.975936\"/>\n      </g>\n     </g>\n     <g id=\"text_28\">\n      <!-- 0.475 -->\n      <g transform=\"translate(364.975 190.775154)scale(0.1 -0.1)\">\n       <defs>\n        <path d=\"M 8.203125 72.90625 \nL 55.078125 72.90625 \nL 55.078125 68.703125 \nL 28.609375 0 \nL 18.3125 0 \nL 43.21875 64.59375 \nL 8.203125 64.59375 \nz\n\" id=\"DejaVuSans-55\"/>\n       </defs>\n       <use xlink:href=\"#DejaVuSans-48\"/>\n       <use x=\"63.623047\" xlink:href=\"#DejaVuSans-46\"/>\n       <use x=\"95.410156\" xlink:href=\"#DejaVuSans-52\"/>\n       <use x=\"159.033203\" xlink:href=\"#DejaVuSans-55\"/>\n       <use x=\"222.65625\" xlink:href=\"#DejaVuSans-53\"/>\n      </g>\n     </g>\n    </g>\n    <g id=\"ytick_14\">\n     <g id=\"line2d_29\">\n      <g>\n       <use style=\"stroke:#000000;stroke-width:0.8;\" x=\"400.603125\" xlink:href=\"#m72782c8ff6\" y=\"144.606392\"/>\n      </g>\n     </g>\n     <g id=\"text_29\">\n      <!-- 0.500 -->\n      <g transform=\"translate(364.975 148.405611)scale(0.1 -0.1)\">\n       <use xlink:href=\"#DejaVuSans-48\"/>\n       <use x=\"63.623047\" xlink:href=\"#DejaVuSans-46\"/>\n       <use x=\"95.410156\" xlink:href=\"#DejaVuSans-53\"/>\n       <use x=\"159.033203\" xlink:href=\"#DejaVuSans-48\"/>\n       <use x=\"222.65625\" xlink:href=\"#DejaVuSans-48\"/>\n      </g>\n     </g>\n    </g>\n    <g id=\"ytick_15\">\n     <g id=\"line2d_30\">\n      <g>\n       <use style=\"stroke:#000000;stroke-width:0.8;\" x=\"400.603125\" xlink:href=\"#m72782c8ff6\" y=\"102.236849\"/>\n      </g>\n     </g>\n     <g id=\"text_30\">\n      <!-- 0.525 -->\n      <g transform=\"translate(364.975 106.036068)scale(0.1 -0.1)\">\n       <use xlink:href=\"#DejaVuSans-48\"/>\n       <use x=\"63.623047\" xlink:href=\"#DejaVuSans-46\"/>\n       <use x=\"95.410156\" xlink:href=\"#DejaVuSans-53\"/>\n       <use x=\"159.033203\" xlink:href=\"#DejaVuSans-50\"/>\n       <use x=\"222.65625\" xlink:href=\"#DejaVuSans-53\"/>\n      </g>\n     </g>\n    </g>\n    <g id=\"ytick_16\">\n     <g id=\"line2d_31\">\n      <g>\n       <use style=\"stroke:#000000;stroke-width:0.8;\" x=\"400.603125\" xlink:href=\"#m72782c8ff6\" y=\"59.867305\"/>\n      </g>\n     </g>\n     <g id=\"text_31\">\n      <!-- 0.550 -->\n      <g transform=\"translate(364.975 63.666524)scale(0.1 -0.1)\">\n       <use xlink:href=\"#DejaVuSans-48\"/>\n       <use x=\"63.623047\" xlink:href=\"#DejaVuSans-46\"/>\n       <use x=\"95.410156\" xlink:href=\"#DejaVuSans-53\"/>\n       <use x=\"159.033203\" xlink:href=\"#DejaVuSans-53\"/>\n       <use x=\"222.65625\" xlink:href=\"#DejaVuSans-48\"/>\n      </g>\n     </g>\n    </g>\n   </g>\n   <g id=\"line2d_32\">\n    <path clip-path=\"url(#p726a26a495)\" d=\"M 414.460511 161.57076 \nL 460.651799 265.425793 \nL 506.843087 313.836307 \nL 553.034375 140.468741 \nL 599.225663 95.782114 \nL 645.416951 82.541631 \nL 691.608239 36.199943 \n\" style=\"fill:none;stroke:#1f77b4;stroke-linecap:square;stroke-width:1.5;\"/>\n   </g>\n   <g id=\"patch_8\">\n    <path d=\"M 400.603125 327.718125 \nL 400.603125 22.318125 \n\" style=\"fill:none;stroke:#000000;stroke-linecap:square;stroke-linejoin:miter;stroke-width:0.8;\"/>\n   </g>\n   <g id=\"patch_9\">\n    <path d=\"M 705.465625 327.718125 \nL 705.465625 22.318125 \n\" style=\"fill:none;stroke:#000000;stroke-linecap:square;stroke-linejoin:miter;stroke-width:0.8;\"/>\n   </g>\n   <g id=\"patch_10\">\n    <path d=\"M 400.603125 327.718125 \nL 705.465625 327.718125 \n\" style=\"fill:none;stroke:#000000;stroke-linecap:square;stroke-linejoin:miter;stroke-width:0.8;\"/>\n   </g>\n   <g id=\"patch_11\">\n    <path d=\"M 400.603125 22.318125 \nL 705.465625 22.318125 \n\" style=\"fill:none;stroke:#000000;stroke-linecap:square;stroke-linejoin:miter;stroke-width:0.8;\"/>\n   </g>\n   <g id=\"text_32\">\n    <!-- y_batch -->\n    <g transform=\"translate(529.543438 16.318125)scale(0.12 -0.12)\">\n     <defs>\n      <path d=\"M 32.171875 -5.078125 \nQ 28.375 -14.84375 24.75 -17.8125 \nQ 21.140625 -20.796875 15.09375 -20.796875 \nL 7.90625 -20.796875 \nL 7.90625 -13.28125 \nL 13.1875 -13.28125 \nQ 16.890625 -13.28125 18.9375 -11.515625 \nQ 21 -9.765625 23.484375 -3.21875 \nL 25.09375 0.875 \nL 2.984375 54.6875 \nL 12.5 54.6875 \nL 29.59375 11.921875 \nL 46.6875 54.6875 \nL 56.203125 54.6875 \nz\n\" id=\"DejaVuSans-121\"/>\n     </defs>\n     <use xlink:href=\"#DejaVuSans-121\"/>\n     <use x=\"59.179688\" xlink:href=\"#DejaVuSans-95\"/>\n     <use x=\"109.179688\" xlink:href=\"#DejaVuSans-98\"/>\n     <use x=\"172.65625\" xlink:href=\"#DejaVuSans-97\"/>\n     <use x=\"233.935547\" xlink:href=\"#DejaVuSans-116\"/>\n     <use x=\"273.144531\" xlink:href=\"#DejaVuSans-99\"/>\n     <use x=\"328.125\" xlink:href=\"#DejaVuSans-104\"/>\n    </g>\n   </g>\n  </g>\n </g>\n <defs>\n  <clipPath id=\"p4386670c38\">\n   <rect height=\"305.4\" width=\"304.8625\" x=\"49.190625\" y=\"22.318125\"/>\n  </clipPath>\n  <clipPath id=\"p726a26a495\">\n   <rect height=\"305.4\" width=\"304.8625\" x=\"400.603125\" y=\"22.318125\"/>\n  </clipPath>\n </defs>\n</svg>\n",
      "image/png": "[encoded data removed]"
     },
     "metadata": {
      "needs_background": "light"
     }
    }
   ],
   "source": [
    "batch = 10  # First sequence in the batch.\n",
    "signal = 0  # First signal from the 20 input-signals.\n",
    "seq = x_batch[batch, :, signal]\n",
    "seq2 = y_batch[batch, :, signal]\n",
    "\n",
    "\n",
    "fig,ax = plt.subplots(1,2,figsize=(10,5))\n",
    "ax[0].plot(seq)\n",
    "ax[0].set_title(\"x_batch\")\n",
    "ax[1].plot(seq2)\n",
    "ax[1].set_title(\"y_batch\")\n",
    "fig.tight_layout() \n"
   ]
  },
  {
   "cell_type": "code",
   "execution_count": 17,
   "metadata": {},
   "outputs": [
    {
     "output_type": "stream",
     "name": "stdout",
     "text": [
      "x_test shape: (1, 364, 35)\ny_test shape: (1, 364, 1)\n"
     ]
    }
   ],
   "source": [
    "validation_data = (np.expand_dims(x_test, axis=0),np.expand_dims(y_test, axis=0))\n",
    "\n",
    "print(\"x_test shape:\",validation_data[0].shape)\n",
    "print(\"y_test shape:\",validation_data[1].shape)"
   ]
  },
  {
   "cell_type": "code",
   "execution_count": 47,
   "metadata": {},
   "outputs": [
    {
     "output_type": "stream",
     "name": "stdout",
     "text": [
      "Model: \"sequential_1\"\n_________________________________________________________________\nLayer (type)                 Output Shape              Param #   \n=================================================================\nlstm_2 (LSTM)                (None, None, 128)         83968     \n_________________________________________________________________\nlstm_3 (LSTM)                (None, None, 128)         131584    \n_________________________________________________________________\ndense_1 (Dense)              (None, None, 1)           129       \n=================================================================\nTotal params: 215,681\nTrainable params: 215,681\nNon-trainable params: 0\n_________________________________________________________________\n"
     ]
    }
   ],
   "source": [
    "model = Sequential()\n",
    "model.add(LSTM(128, return_sequences=True, input_shape=(None,num_x_feature),\n",
    "              activation='relu'))\n",
    "model.add(LSTM(128,return_sequences=True))\n",
    "model.add(Dense(num_y_feature,activation='relu'))\n",
    "opt = tf.keras.optimizers.Adam(lr=1e-3,decay=1e-5)\n",
    "\n",
    "model.compile(optimizer=opt, loss='mse', metrics=['accuracy'])\n",
    "model.summary()"
   ]
  },
  {
   "cell_type": "code",
   "execution_count": 48,
   "metadata": {},
   "outputs": [
    {
     "output_type": "stream",
     "name": "stdout",
     "text": [
      "Epoch 1/100\n",
      "10/10 [==============================] - 1s 125ms/step - loss: 0.1341 - accuracy: 5.5804e-04 - val_loss: 0.5325 - val_accuracy: 0.0000e+00\n",
      "Epoch 2/100\n",
      "10/10 [==============================] - 0s 43ms/step - loss: 0.0610 - accuracy: 5.0223e-04 - val_loss: 0.0246 - val_accuracy: 0.0000e+00\n",
      "Epoch 3/100\n",
      "10/10 [==============================] - 0s 44ms/step - loss: 0.0439 - accuracy: 8.9286e-04 - val_loss: 0.0133 - val_accuracy: 0.0000e+00\n",
      "Epoch 4/100\n",
      "10/10 [==============================] - 0s 46ms/step - loss: 0.0305 - accuracy: 8.9286e-04 - val_loss: 0.0439 - val_accuracy: 0.0000e+00\n",
      "Epoch 5/100\n",
      "10/10 [==============================] - 0s 45ms/step - loss: 0.0211 - accuracy: 3.9063e-04 - val_loss: 0.1379 - val_accuracy: 0.0000e+00\n",
      "Epoch 6/100\n",
      "10/10 [==============================] - 0s 46ms/step - loss: 0.0171 - accuracy: 8.3705e-04 - val_loss: 0.0752 - val_accuracy: 0.0000e+00\n",
      "Epoch 7/100\n",
      "10/10 [==============================] - 0s 45ms/step - loss: 0.0140 - accuracy: 8.3705e-04 - val_loss: 0.0210 - val_accuracy: 0.0000e+00\n",
      "Epoch 8/100\n",
      "10/10 [==============================] - 0s 45ms/step - loss: 0.0109 - accuracy: 7.2545e-04 - val_loss: 0.0118 - val_accuracy: 0.0000e+00\n",
      "Epoch 9/100\n",
      "10/10 [==============================] - 0s 46ms/step - loss: 0.0087 - accuracy: 3.3482e-04 - val_loss: 0.0148 - val_accuracy: 0.0000e+00\n",
      "Epoch 10/100\n",
      "10/10 [==============================] - 0s 45ms/step - loss: 0.0074 - accuracy: 6.1384e-04 - val_loss: 0.0250 - val_accuracy: 0.0000e+00\n",
      "Epoch 11/100\n",
      "10/10 [==============================] - 0s 45ms/step - loss: 0.0070 - accuracy: 7.8125e-04 - val_loss: 0.0214 - val_accuracy: 0.0000e+00\n",
      "Epoch 12/100\n",
      "10/10 [==============================] - 0s 45ms/step - loss: 0.0071 - accuracy: 6.1384e-04 - val_loss: 0.0154 - val_accuracy: 0.0000e+00\n",
      "Epoch 13/100\n",
      "10/10 [==============================] - 0s 46ms/step - loss: 0.0067 - accuracy: 6.1384e-04 - val_loss: 0.0129 - val_accuracy: 0.0000e+00\n",
      "Epoch 14/100\n",
      "10/10 [==============================] - 0s 47ms/step - loss: 0.0067 - accuracy: 8.3705e-04 - val_loss: 0.0123 - val_accuracy: 0.0000e+00\n",
      "Epoch 15/100\n",
      "10/10 [==============================] - 0s 46ms/step - loss: 0.0065 - accuracy: 7.8125e-04 - val_loss: 0.0113 - val_accuracy: 0.0000e+00\n",
      "Epoch 16/100\n",
      "10/10 [==============================] - 0s 46ms/step - loss: 0.0062 - accuracy: 6.1384e-04 - val_loss: 0.0118 - val_accuracy: 0.0000e+00\n",
      "Epoch 17/100\n",
      "10/10 [==============================] - 0s 45ms/step - loss: 0.0061 - accuracy: 6.1384e-04 - val_loss: 0.0126 - val_accuracy: 0.0000e+00\n",
      "Epoch 18/100\n",
      "10/10 [==============================] - 0s 48ms/step - loss: 0.0064 - accuracy: 5.5804e-04 - val_loss: 0.0098 - val_accuracy: 0.0000e+00\n",
      "Epoch 19/100\n",
      "10/10 [==============================] - 0s 46ms/step - loss: 0.0059 - accuracy: 0.0010 - val_loss: 0.0097 - val_accuracy: 0.0000e+00\n",
      "Epoch 20/100\n",
      "10/10 [==============================] - 0s 44ms/step - loss: 0.0060 - accuracy: 5.5804e-04 - val_loss: 0.0094 - val_accuracy: 0.0000e+00\n",
      "Epoch 21/100\n",
      "10/10 [==============================] - 0s 46ms/step - loss: 0.0059 - accuracy: 7.8125e-04 - val_loss: 0.0094 - val_accuracy: 0.0000e+00\n",
      "Epoch 22/100\n",
      "10/10 [==============================] - 0s 45ms/step - loss: 0.0058 - accuracy: 6.1384e-04 - val_loss: 0.0099 - val_accuracy: 0.0000e+00\n",
      "Epoch 23/100\n",
      "10/10 [==============================] - 0s 46ms/step - loss: 0.0058 - accuracy: 9.4866e-04 - val_loss: 0.0097 - val_accuracy: 0.0000e+00\n",
      "Epoch 24/100\n",
      "10/10 [==============================] - 0s 44ms/step - loss: 0.0058 - accuracy: 6.6964e-04 - val_loss: 0.0096 - val_accuracy: 0.0000e+00\n",
      "Epoch 25/100\n",
      "10/10 [==============================] - 0s 34ms/step - loss: 0.0057 - accuracy: 7.8125e-04 - val_loss: 0.0098 - val_accuracy: 0.0000e+00\n",
      "Epoch 26/100\n",
      "10/10 [==============================] - 0s 34ms/step - loss: 0.0056 - accuracy: 9.4866e-04 - val_loss: 0.0095 - val_accuracy: 0.0000e+00\n",
      "Epoch 27/100\n",
      "10/10 [==============================] - 0s 35ms/step - loss: 0.0055 - accuracy: 6.6964e-04 - val_loss: 0.0096 - val_accuracy: 0.0000e+00\n",
      "Epoch 28/100\n",
      "10/10 [==============================] - 0s 34ms/step - loss: 0.0054 - accuracy: 5.0223e-04 - val_loss: 0.0096 - val_accuracy: 0.0000e+00\n",
      "Epoch 29/100\n",
      "10/10 [==============================] - 0s 34ms/step - loss: 0.0055 - accuracy: 7.2545e-04 - val_loss: 0.0097 - val_accuracy: 0.0000e+00\n",
      "Epoch 30/100\n",
      "10/10 [==============================] - 0s 34ms/step - loss: 0.0055 - accuracy: 6.6964e-04 - val_loss: 0.0098 - val_accuracy: 0.0000e+00\n",
      "Epoch 31/100\n",
      "10/10 [==============================] - 0s 34ms/step - loss: 0.0053 - accuracy: 5.5804e-04 - val_loss: 0.0103 - val_accuracy: 0.0000e+00\n",
      "Epoch 32/100\n",
      "10/10 [==============================] - 0s 35ms/step - loss: 0.0053 - accuracy: 0.0010 - val_loss: 0.0096 - val_accuracy: 0.0000e+00\n",
      "Epoch 33/100\n",
      "10/10 [==============================] - 0s 34ms/step - loss: 0.0055 - accuracy: 8.9286e-04 - val_loss: 0.0098 - val_accuracy: 0.0000e+00\n",
      "Epoch 34/100\n",
      "10/10 [==============================] - 0s 34ms/step - loss: 0.0055 - accuracy: 0.0011 - val_loss: 0.0122 - val_accuracy: 0.0000e+00\n",
      "Epoch 35/100\n",
      "10/10 [==============================] - 0s 33ms/step - loss: 0.0053 - accuracy: 5.0223e-04 - val_loss: 0.0105 - val_accuracy: 0.0000e+00\n",
      "Epoch 36/100\n",
      "10/10 [==============================] - 0s 34ms/step - loss: 0.0054 - accuracy: 6.6964e-04 - val_loss: 0.0098 - val_accuracy: 0.0000e+00\n",
      "Epoch 37/100\n",
      "10/10 [==============================] - 0s 35ms/step - loss: 0.0052 - accuracy: 5.5804e-04 - val_loss: 0.0108 - val_accuracy: 0.0000e+00\n",
      "Epoch 38/100\n",
      "10/10 [==============================] - 0s 35ms/step - loss: 0.0052 - accuracy: 5.0223e-04 - val_loss: 0.0104 - val_accuracy: 0.0000e+00\n",
      "Epoch 39/100\n",
      "10/10 [==============================] - 0s 34ms/step - loss: 0.0051 - accuracy: 7.2545e-04 - val_loss: 0.0107 - val_accuracy: 0.0000e+00\n",
      "Epoch 40/100\n",
      "10/10 [==============================] - 0s 34ms/step - loss: 0.0051 - accuracy: 3.3482e-04 - val_loss: 0.0105 - val_accuracy: 0.0000e+00\n",
      "Epoch 41/100\n",
      "10/10 [==============================] - 0s 46ms/step - loss: 0.0050 - accuracy: 7.8125e-04 - val_loss: 0.0116 - val_accuracy: 0.0000e+00\n",
      "Epoch 42/100\n",
      "10/10 [==============================] - 0s 46ms/step - loss: 0.0049 - accuracy: 6.6964e-04 - val_loss: 0.0145 - val_accuracy: 0.0000e+00\n",
      "Epoch 43/100\n",
      "10/10 [==============================] - 0s 47ms/step - loss: 0.0051 - accuracy: 0.0012 - val_loss: 0.0169 - val_accuracy: 0.0000e+00\n",
      "Epoch 44/100\n",
      "10/10 [==============================] - 0s 49ms/step - loss: 0.0049 - accuracy: 6.1384e-04 - val_loss: 0.0222 - val_accuracy: 0.0000e+00\n",
      "Epoch 45/100\n",
      "10/10 [==============================] - 0s 49ms/step - loss: 0.0047 - accuracy: 6.6964e-04 - val_loss: 0.0171 - val_accuracy: 0.0000e+00\n",
      "Epoch 46/100\n",
      "10/10 [==============================] - 0s 47ms/step - loss: 0.0049 - accuracy: 7.2545e-04 - val_loss: 0.0442 - val_accuracy: 0.0000e+00\n",
      "Epoch 47/100\n",
      "10/10 [==============================] - 0s 47ms/step - loss: 0.0048 - accuracy: 5.5804e-04 - val_loss: 0.0226 - val_accuracy: 0.0000e+00\n",
      "Epoch 48/100\n",
      "10/10 [==============================] - 0s 46ms/step - loss: 0.0046 - accuracy: 5.0223e-04 - val_loss: 0.0525 - val_accuracy: 0.0000e+00\n",
      "Epoch 49/100\n",
      "10/10 [==============================] - 0s 45ms/step - loss: 0.0047 - accuracy: 8.3705e-04 - val_loss: 0.0171 - val_accuracy: 0.0000e+00\n",
      "Epoch 50/100\n",
      "10/10 [==============================] - 0s 47ms/step - loss: 0.0048 - accuracy: 4.4643e-04 - val_loss: 0.0359 - val_accuracy: 0.0000e+00\n",
      "Epoch 51/100\n",
      "10/10 [==============================] - 0s 47ms/step - loss: 0.0047 - accuracy: 7.8125e-04 - val_loss: 0.0265 - val_accuracy: 0.0000e+00\n",
      "Epoch 52/100\n",
      "10/10 [==============================] - 0s 40ms/step - loss: 0.0047 - accuracy: 2.7902e-04 - val_loss: 0.0348 - val_accuracy: 0.0000e+00\n",
      "Epoch 53/100\n",
      "10/10 [==============================] - 0s 34ms/step - loss: 0.0047 - accuracy: 7.8125e-04 - val_loss: 0.0644 - val_accuracy: 0.0000e+00\n",
      "Epoch 54/100\n",
      "10/10 [==============================] - 0s 35ms/step - loss: 0.0046 - accuracy: 8.3705e-04 - val_loss: 0.0168 - val_accuracy: 0.0000e+00\n",
      "Epoch 55/100\n",
      "10/10 [==============================] - 0s 35ms/step - loss: 0.0047 - accuracy: 7.2545e-04 - val_loss: 0.0154 - val_accuracy: 0.0000e+00\n",
      "Epoch 56/100\n",
      "10/10 [==============================] - 0s 34ms/step - loss: 0.0045 - accuracy: 4.4643e-04 - val_loss: 0.0262 - val_accuracy: 0.0000e+00\n",
      "Epoch 57/100\n",
      "10/10 [==============================] - 0s 34ms/step - loss: 0.0046 - accuracy: 7.8125e-04 - val_loss: 0.0177 - val_accuracy: 0.0000e+00\n",
      "Epoch 58/100\n",
      "10/10 [==============================] - 0s 34ms/step - loss: 0.0046 - accuracy: 7.8125e-04 - val_loss: 0.0166 - val_accuracy: 0.0000e+00\n",
      "Epoch 59/100\n",
      "10/10 [==============================] - 0s 34ms/step - loss: 0.0046 - accuracy: 0.0012 - val_loss: 0.0140 - val_accuracy: 0.0000e+00\n",
      "Epoch 60/100\n",
      "10/10 [==============================] - 0s 43ms/step - loss: 0.0043 - accuracy: 5.5804e-04 - val_loss: 0.0189 - val_accuracy: 0.0000e+00\n",
      "Epoch 61/100\n",
      "10/10 [==============================] - 0s 34ms/step - loss: 0.0045 - accuracy: 5.0223e-04 - val_loss: 0.0178 - val_accuracy: 0.0000e+00\n",
      "Epoch 62/100\n",
      "10/10 [==============================] - 0s 34ms/step - loss: 0.0045 - accuracy: 8.9286e-04 - val_loss: 0.0135 - val_accuracy: 0.0000e+00\n",
      "Epoch 63/100\n",
      "10/10 [==============================] - 0s 35ms/step - loss: 0.0044 - accuracy: 5.5804e-04 - val_loss: 0.0167 - val_accuracy: 0.0000e+00\n",
      "Epoch 64/100\n",
      "10/10 [==============================] - 0s 34ms/step - loss: 0.0043 - accuracy: 8.3705e-04 - val_loss: 0.0140 - val_accuracy: 0.0000e+00\n",
      "Epoch 65/100\n",
      "10/10 [==============================] - 0s 35ms/step - loss: 0.0043 - accuracy: 5.5804e-04 - val_loss: 0.0132 - val_accuracy: 0.0000e+00\n",
      "Epoch 66/100\n",
      "10/10 [==============================] - 0s 34ms/step - loss: 0.0041 - accuracy: 7.8125e-04 - val_loss: 0.0168 - val_accuracy: 0.0000e+00\n",
      "Epoch 67/100\n",
      "10/10 [==============================] - 0s 34ms/step - loss: 0.0042 - accuracy: 0.0011 - val_loss: 0.0120 - val_accuracy: 0.0000e+00\n",
      "Epoch 68/100\n",
      "10/10 [==============================] - 0s 34ms/step - loss: 0.0043 - accuracy: 9.4866e-04 - val_loss: 0.0173 - val_accuracy: 0.0000e+00\n",
      "Epoch 69/100\n",
      "10/10 [==============================] - 0s 47ms/step - loss: 0.0045 - accuracy: 9.4866e-04 - val_loss: 0.0118 - val_accuracy: 0.0000e+00\n",
      "Epoch 70/100\n",
      "10/10 [==============================] - 0s 47ms/step - loss: 0.0043 - accuracy: 7.2545e-04 - val_loss: 0.0206 - val_accuracy: 0.0000e+00\n",
      "Epoch 71/100\n",
      "10/10 [==============================] - 0s 48ms/step - loss: 0.0042 - accuracy: 8.9286e-04 - val_loss: 0.0118 - val_accuracy: 0.0000e+00\n",
      "Epoch 72/100\n",
      "10/10 [==============================] - 0s 48ms/step - loss: 0.0042 - accuracy: 0.0013 - val_loss: 0.0114 - val_accuracy: 0.0000e+00\n",
      "Epoch 73/100\n",
      "10/10 [==============================] - 0s 46ms/step - loss: 0.0040 - accuracy: 9.4866e-04 - val_loss: 0.0128 - val_accuracy: 0.0000e+00\n",
      "Epoch 74/100\n",
      "10/10 [==============================] - 0s 47ms/step - loss: 0.0041 - accuracy: 0.0012 - val_loss: 0.0137 - val_accuracy: 0.0000e+00\n",
      "Epoch 75/100\n",
      "10/10 [==============================] - 0s 46ms/step - loss: 0.0041 - accuracy: 0.0013 - val_loss: 0.0125 - val_accuracy: 0.0000e+00\n",
      "Epoch 76/100\n",
      "10/10 [==============================] - 0s 48ms/step - loss: 0.0041 - accuracy: 0.0010 - val_loss: 0.0135 - val_accuracy: 0.0000e+00\n",
      "Epoch 77/100\n",
      "10/10 [==============================] - 0s 46ms/step - loss: 0.0039 - accuracy: 0.0012 - val_loss: 0.0145 - val_accuracy: 0.0000e+00\n",
      "Epoch 78/100\n",
      "10/10 [==============================] - 0s 46ms/step - loss: 0.0040 - accuracy: 0.0011 - val_loss: 0.0128 - val_accuracy: 0.0000e+00\n",
      "Epoch 79/100\n",
      "10/10 [==============================] - 0s 47ms/step - loss: 0.0042 - accuracy: 9.4866e-04 - val_loss: 0.0139 - val_accuracy: 0.0000e+00\n",
      "Epoch 80/100\n",
      "10/10 [==============================] - 0s 47ms/step - loss: 0.0038 - accuracy: 8.3705e-04 - val_loss: 0.0146 - val_accuracy: 0.0000e+00\n",
      "Epoch 81/100\n",
      "10/10 [==============================] - 0s 46ms/step - loss: 0.0040 - accuracy: 8.3705e-04 - val_loss: 0.0129 - val_accuracy: 0.0000e+00\n",
      "Epoch 82/100\n",
      "10/10 [==============================] - 0s 48ms/step - loss: 0.0040 - accuracy: 0.0012 - val_loss: 0.0139 - val_accuracy: 0.0000e+00\n",
      "Epoch 83/100\n",
      "10/10 [==============================] - 0s 46ms/step - loss: 0.0037 - accuracy: 6.6964e-04 - val_loss: 0.0151 - val_accuracy: 0.0000e+00\n",
      "Epoch 84/100\n",
      "10/10 [==============================] - 1s 62ms/step - loss: 0.0040 - accuracy: 9.4866e-04 - val_loss: 0.0152 - val_accuracy: 0.0000e+00\n",
      "Epoch 85/100\n",
      "10/10 [==============================] - 1s 78ms/step - loss: 0.0037 - accuracy: 8.3705e-04 - val_loss: 0.0161 - val_accuracy: 0.0000e+00\n",
      "Epoch 86/100\n",
      "10/10 [==============================] - 0s 46ms/step - loss: 0.0037 - accuracy: 7.8125e-04 - val_loss: 0.0147 - val_accuracy: 0.0000e+00\n",
      "Epoch 87/100\n",
      "10/10 [==============================] - 0s 46ms/step - loss: 0.0038 - accuracy: 0.0011 - val_loss: 0.0158 - val_accuracy: 0.0000e+00\n",
      "Epoch 88/100\n",
      "10/10 [==============================] - 0s 46ms/step - loss: 0.0037 - accuracy: 0.0015 - val_loss: 0.0152 - val_accuracy: 0.0000e+00\n",
      "Epoch 89/100\n",
      "10/10 [==============================] - 0s 47ms/step - loss: 0.0035 - accuracy: 0.0010 - val_loss: 0.0178 - val_accuracy: 0.0000e+00\n",
      "Epoch 90/100\n",
      "10/10 [==============================] - 0s 46ms/step - loss: 0.0038 - accuracy: 0.0011 - val_loss: 0.0159 - val_accuracy: 0.0000e+00\n",
      "Epoch 91/100\n",
      "10/10 [==============================] - 1s 59ms/step - loss: 0.0037 - accuracy: 0.0011 - val_loss: 0.0171 - val_accuracy: 0.0000e+00\n",
      "Epoch 92/100\n",
      "10/10 [==============================] - 0s 47ms/step - loss: 0.0038 - accuracy: 0.0015 - val_loss: 0.0195 - val_accuracy: 0.0000e+00\n",
      "Epoch 93/100\n",
      "10/10 [==============================] - 0s 47ms/step - loss: 0.0040 - accuracy: 0.0015 - val_loss: 0.0171 - val_accuracy: 0.0000e+00\n",
      "Epoch 94/100\n",
      "10/10 [==============================] - 0s 47ms/step - loss: 0.0039 - accuracy: 0.0012 - val_loss: 0.0194 - val_accuracy: 0.0000e+00\n",
      "Epoch 95/100\n",
      "10/10 [==============================] - 0s 47ms/step - loss: 0.0036 - accuracy: 0.0010 - val_loss: 0.0210 - val_accuracy: 0.0000e+00\n",
      "Epoch 96/100\n",
      "10/10 [==============================] - 0s 47ms/step - loss: 0.0037 - accuracy: 9.4866e-04 - val_loss: 0.0175 - val_accuracy: 0.0000e+00\n",
      "Epoch 97/100\n",
      "10/10 [==============================] - 0s 48ms/step - loss: 0.0037 - accuracy: 0.0015 - val_loss: 0.0182 - val_accuracy: 0.0000e+00\n",
      "Epoch 98/100\n",
      "10/10 [==============================] - 0s 49ms/step - loss: 0.0037 - accuracy: 0.0013 - val_loss: 0.0189 - val_accuracy: 0.0000e+00\n",
      "Epoch 99/100\n",
      "10/10 [==============================] - 0s 46ms/step - loss: 0.0037 - accuracy: 0.0012 - val_loss: 0.0187 - val_accuracy: 0.0000e+00\n",
      "Epoch 100/100\n",
      "10/10 [==============================] - 0s 47ms/step - loss: 0.0036 - accuracy: 0.0013 - val_loss: 0.0211 - val_accuracy: 0.0000e+00\n"
     ]
    }
   ],
   "source": [
    "history = model.fit(x=generator,\n",
    "          epochs=100,\n",
    "          steps_per_epoch=10,validation_data=validation_data)"
   ]
  },
  {
   "cell_type": "code",
   "execution_count": 49,
   "metadata": {},
   "outputs": [
    {
     "output_type": "display_data",
     "data": {
      "text/plain": "<Figure size 432x288 with 1 Axes>",
      "image/svg+xml": "<?xml version=\"1.0\" encoding=\"utf-8\" standalone=\"no\"?>\n<!DOCTYPE svg PUBLIC \"-//W3C//DTD SVG 1.1//EN\"\n  \"http://www.w3.org/Graphics/SVG/1.1/DTD/svg11.dtd\">\n<!-- Created with matplotlib (https://matplotlib.org/) -->\n<svg height=\"248.518125pt\" version=\"1.1\" viewBox=\"0 0 372.103125 248.518125\" width=\"372.103125pt\" xmlns=\"http://www.w3.org/2000/svg\" xmlns:xlink=\"http://www.w3.org/1999/xlink\">\n <metadata>\n  <rdf:RDF xmlns:cc=\"http://creativecommons.org/ns#\" xmlns:dc=\"http://purl.org/dc/elements/1.1/\" xmlns:rdf=\"http://www.w3.org/1999/02/22-rdf-syntax-ns#\">\n   <cc:Work>\n    <dc:type rdf:resource=\"http://purl.org/dc/dcmitype/StillImage\"/>\n    <dc:date>2020-11-11T16:07:05.106692</dc:date>\n    <dc:format>image/svg+xml</dc:format>\n    <dc:creator>\n     <cc:Agent>\n      <dc:title>Matplotlib v3.3.1, https://matplotlib.org/</dc:title>\n     </cc:Agent>\n    </dc:creator>\n   </cc:Work>\n  </rdf:RDF>\n </metadata>\n <defs>\n  <style type=\"text/css\">*{stroke-linecap:butt;stroke-linejoin:round;}</style>\n </defs>\n <g id=\"figure_1\">\n  <g id=\"patch_1\">\n   <path d=\"M 0 248.518125 \nL 372.103125 248.518125 \nL 372.103125 0 \nL 0 0 \nz\n\" style=\"fill:none;\"/>\n  </g>\n  <g id=\"axes_1\">\n   <g id=\"patch_2\">\n    <path d=\"M 30.103125 224.64 \nL 364.903125 224.64 \nL 364.903125 7.2 \nL 30.103125 7.2 \nz\n\" style=\"fill:#ffffff;\"/>\n   </g>\n   <g id=\"matplotlib.axis_1\">\n    <g id=\"xtick_1\">\n     <g id=\"line2d_1\">\n      <defs>\n       <path d=\"M 0 0 \nL 0 3.5 \n\" id=\"m8f1ffa4ea1\" style=\"stroke:#000000;stroke-width:0.8;\"/>\n      </defs>\n      <g>\n       <use style=\"stroke:#000000;stroke-width:0.8;\" x=\"45.321307\" xlink:href=\"#m8f1ffa4ea1\" y=\"224.64\"/>\n      </g>\n     </g>\n     <g id=\"text_1\">\n      <!-- 0 -->\n      <g transform=\"translate(42.140057 239.238437)scale(0.1 -0.1)\">\n       <defs>\n        <path d=\"M 31.78125 66.40625 \nQ 24.171875 66.40625 20.328125 58.90625 \nQ 16.5 51.421875 16.5 36.375 \nQ 16.5 21.390625 20.328125 13.890625 \nQ 24.171875 6.390625 31.78125 6.390625 \nQ 39.453125 6.390625 43.28125 13.890625 \nQ 47.125 21.390625 47.125 36.375 \nQ 47.125 51.421875 43.28125 58.90625 \nQ 39.453125 66.40625 31.78125 66.40625 \nz\nM 31.78125 74.21875 \nQ 44.046875 74.21875 50.515625 64.515625 \nQ 56.984375 54.828125 56.984375 36.375 \nQ 56.984375 17.96875 50.515625 8.265625 \nQ 44.046875 -1.421875 31.78125 -1.421875 \nQ 19.53125 -1.421875 13.0625 8.265625 \nQ 6.59375 17.96875 6.59375 36.375 \nQ 6.59375 54.828125 13.0625 64.515625 \nQ 19.53125 74.21875 31.78125 74.21875 \nz\n\" id=\"DejaVuSans-48\"/>\n       </defs>\n       <use xlink:href=\"#DejaVuSans-48\"/>\n      </g>\n     </g>\n    </g>\n    <g id=\"xtick_2\">\n     <g id=\"line2d_2\">\n      <g>\n       <use style=\"stroke:#000000;stroke-width:0.8;\" x=\"106.80891\" xlink:href=\"#m8f1ffa4ea1\" y=\"224.64\"/>\n      </g>\n     </g>\n     <g id=\"text_2\">\n      <!-- 20 -->\n      <g transform=\"translate(100.44641 239.238437)scale(0.1 -0.1)\">\n       <defs>\n        <path d=\"M 19.1875 8.296875 \nL 53.609375 8.296875 \nL 53.609375 0 \nL 7.328125 0 \nL 7.328125 8.296875 \nQ 12.9375 14.109375 22.625 23.890625 \nQ 32.328125 33.6875 34.8125 36.53125 \nQ 39.546875 41.84375 41.421875 45.53125 \nQ 43.3125 49.21875 43.3125 52.78125 \nQ 43.3125 58.59375 39.234375 62.25 \nQ 35.15625 65.921875 28.609375 65.921875 \nQ 23.96875 65.921875 18.8125 64.3125 \nQ 13.671875 62.703125 7.8125 59.421875 \nL 7.8125 69.390625 \nQ 13.765625 71.78125 18.9375 73 \nQ 24.125 74.21875 28.421875 74.21875 \nQ 39.75 74.21875 46.484375 68.546875 \nQ 53.21875 62.890625 53.21875 53.421875 \nQ 53.21875 48.921875 51.53125 44.890625 \nQ 49.859375 40.875 45.40625 35.40625 \nQ 44.1875 33.984375 37.640625 27.21875 \nQ 31.109375 20.453125 19.1875 8.296875 \nz\n\" id=\"DejaVuSans-50\"/>\n       </defs>\n       <use xlink:href=\"#DejaVuSans-50\"/>\n       <use x=\"63.623047\" xlink:href=\"#DejaVuSans-48\"/>\n      </g>\n     </g>\n    </g>\n    <g id=\"xtick_3\">\n     <g id=\"line2d_3\">\n      <g>\n       <use style=\"stroke:#000000;stroke-width:0.8;\" x=\"168.296513\" xlink:href=\"#m8f1ffa4ea1\" y=\"224.64\"/>\n      </g>\n     </g>\n     <g id=\"text_3\">\n      <!-- 40 -->\n      <g transform=\"translate(161.934013 239.238437)scale(0.1 -0.1)\">\n       <defs>\n        <path d=\"M 37.796875 64.3125 \nL 12.890625 25.390625 \nL 37.796875 25.390625 \nz\nM 35.203125 72.90625 \nL 47.609375 72.90625 \nL 47.609375 25.390625 \nL 58.015625 25.390625 \nL 58.015625 17.1875 \nL 47.609375 17.1875 \nL 47.609375 0 \nL 37.796875 0 \nL 37.796875 17.1875 \nL 4.890625 17.1875 \nL 4.890625 26.703125 \nz\n\" id=\"DejaVuSans-52\"/>\n       </defs>\n       <use xlink:href=\"#DejaVuSans-52\"/>\n       <use x=\"63.623047\" xlink:href=\"#DejaVuSans-48\"/>\n      </g>\n     </g>\n    </g>\n    <g id=\"xtick_4\">\n     <g id=\"line2d_4\">\n      <g>\n       <use style=\"stroke:#000000;stroke-width:0.8;\" x=\"229.784117\" xlink:href=\"#m8f1ffa4ea1\" y=\"224.64\"/>\n      </g>\n     </g>\n     <g id=\"text_4\">\n      <!-- 60 -->\n      <g transform=\"translate(223.421617 239.238437)scale(0.1 -0.1)\">\n       <defs>\n        <path d=\"M 33.015625 40.375 \nQ 26.375 40.375 22.484375 35.828125 \nQ 18.609375 31.296875 18.609375 23.390625 \nQ 18.609375 15.53125 22.484375 10.953125 \nQ 26.375 6.390625 33.015625 6.390625 \nQ 39.65625 6.390625 43.53125 10.953125 \nQ 47.40625 15.53125 47.40625 23.390625 \nQ 47.40625 31.296875 43.53125 35.828125 \nQ 39.65625 40.375 33.015625 40.375 \nz\nM 52.59375 71.296875 \nL 52.59375 62.3125 \nQ 48.875 64.0625 45.09375 64.984375 \nQ 41.3125 65.921875 37.59375 65.921875 \nQ 27.828125 65.921875 22.671875 59.328125 \nQ 17.53125 52.734375 16.796875 39.40625 \nQ 19.671875 43.65625 24.015625 45.921875 \nQ 28.375 48.1875 33.59375 48.1875 \nQ 44.578125 48.1875 50.953125 41.515625 \nQ 57.328125 34.859375 57.328125 23.390625 \nQ 57.328125 12.15625 50.6875 5.359375 \nQ 44.046875 -1.421875 33.015625 -1.421875 \nQ 20.359375 -1.421875 13.671875 8.265625 \nQ 6.984375 17.96875 6.984375 36.375 \nQ 6.984375 53.65625 15.1875 63.9375 \nQ 23.390625 74.21875 37.203125 74.21875 \nQ 40.921875 74.21875 44.703125 73.484375 \nQ 48.484375 72.75 52.59375 71.296875 \nz\n\" id=\"DejaVuSans-54\"/>\n       </defs>\n       <use xlink:href=\"#DejaVuSans-54\"/>\n       <use x=\"63.623047\" xlink:href=\"#DejaVuSans-48\"/>\n      </g>\n     </g>\n    </g>\n    <g id=\"xtick_5\">\n     <g id=\"line2d_5\">\n      <g>\n       <use style=\"stroke:#000000;stroke-width:0.8;\" x=\"291.27172\" xlink:href=\"#m8f1ffa4ea1\" y=\"224.64\"/>\n      </g>\n     </g>\n     <g id=\"text_5\">\n      <!-- 80 -->\n      <g transform=\"translate(284.90922 239.238437)scale(0.1 -0.1)\">\n       <defs>\n        <path d=\"M 31.78125 34.625 \nQ 24.75 34.625 20.71875 30.859375 \nQ 16.703125 27.09375 16.703125 20.515625 \nQ 16.703125 13.921875 20.71875 10.15625 \nQ 24.75 6.390625 31.78125 6.390625 \nQ 38.8125 6.390625 42.859375 10.171875 \nQ 46.921875 13.96875 46.921875 20.515625 \nQ 46.921875 27.09375 42.890625 30.859375 \nQ 38.875 34.625 31.78125 34.625 \nz\nM 21.921875 38.8125 \nQ 15.578125 40.375 12.03125 44.71875 \nQ 8.5 49.078125 8.5 55.328125 \nQ 8.5 64.0625 14.71875 69.140625 \nQ 20.953125 74.21875 31.78125 74.21875 \nQ 42.671875 74.21875 48.875 69.140625 \nQ 55.078125 64.0625 55.078125 55.328125 \nQ 55.078125 49.078125 51.53125 44.71875 \nQ 48 40.375 41.703125 38.8125 \nQ 48.828125 37.15625 52.796875 32.3125 \nQ 56.78125 27.484375 56.78125 20.515625 \nQ 56.78125 9.90625 50.3125 4.234375 \nQ 43.84375 -1.421875 31.78125 -1.421875 \nQ 19.734375 -1.421875 13.25 4.234375 \nQ 6.78125 9.90625 6.78125 20.515625 \nQ 6.78125 27.484375 10.78125 32.3125 \nQ 14.796875 37.15625 21.921875 38.8125 \nz\nM 18.3125 54.390625 \nQ 18.3125 48.734375 21.84375 45.5625 \nQ 25.390625 42.390625 31.78125 42.390625 \nQ 38.140625 42.390625 41.71875 45.5625 \nQ 45.3125 48.734375 45.3125 54.390625 \nQ 45.3125 60.0625 41.71875 63.234375 \nQ 38.140625 66.40625 31.78125 66.40625 \nQ 25.390625 66.40625 21.84375 63.234375 \nQ 18.3125 60.0625 18.3125 54.390625 \nz\n\" id=\"DejaVuSans-56\"/>\n       </defs>\n       <use xlink:href=\"#DejaVuSans-56\"/>\n       <use x=\"63.623047\" xlink:href=\"#DejaVuSans-48\"/>\n      </g>\n     </g>\n    </g>\n    <g id=\"xtick_6\">\n     <g id=\"line2d_6\">\n      <g>\n       <use style=\"stroke:#000000;stroke-width:0.8;\" x=\"352.759323\" xlink:href=\"#m8f1ffa4ea1\" y=\"224.64\"/>\n      </g>\n     </g>\n     <g id=\"text_6\">\n      <!-- 100 -->\n      <g transform=\"translate(343.215573 239.238437)scale(0.1 -0.1)\">\n       <defs>\n        <path d=\"M 12.40625 8.296875 \nL 28.515625 8.296875 \nL 28.515625 63.921875 \nL 10.984375 60.40625 \nL 10.984375 69.390625 \nL 28.421875 72.90625 \nL 38.28125 72.90625 \nL 38.28125 8.296875 \nL 54.390625 8.296875 \nL 54.390625 0 \nL 12.40625 0 \nz\n\" id=\"DejaVuSans-49\"/>\n       </defs>\n       <use xlink:href=\"#DejaVuSans-49\"/>\n       <use x=\"63.623047\" xlink:href=\"#DejaVuSans-48\"/>\n       <use x=\"127.246094\" xlink:href=\"#DejaVuSans-48\"/>\n      </g>\n     </g>\n    </g>\n   </g>\n   <g id=\"matplotlib.axis_2\">\n    <g id=\"ytick_1\">\n     <g id=\"line2d_7\">\n      <defs>\n       <path d=\"M 0 0 \nL -3.5 0 \n\" id=\"mc5c48ba05f\" style=\"stroke:#000000;stroke-width:0.8;\"/>\n      </defs>\n      <g>\n       <use style=\"stroke:#000000;stroke-width:0.8;\" x=\"30.103125\" xlink:href=\"#mc5c48ba05f\" y=\"216.082471\"/>\n      </g>\n     </g>\n     <g id=\"text_7\">\n      <!-- 0.0 -->\n      <g transform=\"translate(7.2 219.88169)scale(0.1 -0.1)\">\n       <defs>\n        <path d=\"M 10.6875 12.40625 \nL 21 12.40625 \nL 21 0 \nL 10.6875 0 \nz\n\" id=\"DejaVuSans-46\"/>\n       </defs>\n       <use xlink:href=\"#DejaVuSans-48\"/>\n       <use x=\"63.623047\" xlink:href=\"#DejaVuSans-46\"/>\n       <use x=\"95.410156\" xlink:href=\"#DejaVuSans-48\"/>\n      </g>\n     </g>\n    </g>\n    <g id=\"ytick_2\">\n     <g id=\"line2d_8\">\n      <g>\n       <use style=\"stroke:#000000;stroke-width:0.8;\" x=\"30.103125\" xlink:href=\"#mc5c48ba05f\" y=\"178.708608\"/>\n      </g>\n     </g>\n     <g id=\"text_8\">\n      <!-- 0.1 -->\n      <g transform=\"translate(7.2 182.507827)scale(0.1 -0.1)\">\n       <use xlink:href=\"#DejaVuSans-48\"/>\n       <use x=\"63.623047\" xlink:href=\"#DejaVuSans-46\"/>\n       <use x=\"95.410156\" xlink:href=\"#DejaVuSans-49\"/>\n      </g>\n     </g>\n    </g>\n    <g id=\"ytick_3\">\n     <g id=\"line2d_9\">\n      <g>\n       <use style=\"stroke:#000000;stroke-width:0.8;\" x=\"30.103125\" xlink:href=\"#mc5c48ba05f\" y=\"141.334745\"/>\n      </g>\n     </g>\n     <g id=\"text_9\">\n      <!-- 0.2 -->\n      <g transform=\"translate(7.2 145.133964)scale(0.1 -0.1)\">\n       <use xlink:href=\"#DejaVuSans-48\"/>\n       <use x=\"63.623047\" xlink:href=\"#DejaVuSans-46\"/>\n       <use x=\"95.410156\" xlink:href=\"#DejaVuSans-50\"/>\n      </g>\n     </g>\n    </g>\n    <g id=\"ytick_4\">\n     <g id=\"line2d_10\">\n      <g>\n       <use style=\"stroke:#000000;stroke-width:0.8;\" x=\"30.103125\" xlink:href=\"#mc5c48ba05f\" y=\"103.960882\"/>\n      </g>\n     </g>\n     <g id=\"text_10\">\n      <!-- 0.3 -->\n      <g transform=\"translate(7.2 107.7601)scale(0.1 -0.1)\">\n       <defs>\n        <path d=\"M 40.578125 39.3125 \nQ 47.65625 37.796875 51.625 33 \nQ 55.609375 28.21875 55.609375 21.1875 \nQ 55.609375 10.40625 48.1875 4.484375 \nQ 40.765625 -1.421875 27.09375 -1.421875 \nQ 22.515625 -1.421875 17.65625 -0.515625 \nQ 12.796875 0.390625 7.625 2.203125 \nL 7.625 11.71875 \nQ 11.71875 9.328125 16.59375 8.109375 \nQ 21.484375 6.890625 26.8125 6.890625 \nQ 36.078125 6.890625 40.9375 10.546875 \nQ 45.796875 14.203125 45.796875 21.1875 \nQ 45.796875 27.640625 41.28125 31.265625 \nQ 36.765625 34.90625 28.71875 34.90625 \nL 20.21875 34.90625 \nL 20.21875 43.015625 \nL 29.109375 43.015625 \nQ 36.375 43.015625 40.234375 45.921875 \nQ 44.09375 48.828125 44.09375 54.296875 \nQ 44.09375 59.90625 40.109375 62.90625 \nQ 36.140625 65.921875 28.71875 65.921875 \nQ 24.65625 65.921875 20.015625 65.03125 \nQ 15.375 64.15625 9.8125 62.3125 \nL 9.8125 71.09375 \nQ 15.4375 72.65625 20.34375 73.4375 \nQ 25.25 74.21875 29.59375 74.21875 \nQ 40.828125 74.21875 47.359375 69.109375 \nQ 53.90625 64.015625 53.90625 55.328125 \nQ 53.90625 49.265625 50.4375 45.09375 \nQ 46.96875 40.921875 40.578125 39.3125 \nz\n\" id=\"DejaVuSans-51\"/>\n       </defs>\n       <use xlink:href=\"#DejaVuSans-48\"/>\n       <use x=\"63.623047\" xlink:href=\"#DejaVuSans-46\"/>\n       <use x=\"95.410156\" xlink:href=\"#DejaVuSans-51\"/>\n      </g>\n     </g>\n    </g>\n    <g id=\"ytick_5\">\n     <g id=\"line2d_11\">\n      <g>\n       <use style=\"stroke:#000000;stroke-width:0.8;\" x=\"30.103125\" xlink:href=\"#mc5c48ba05f\" y=\"66.587019\"/>\n      </g>\n     </g>\n     <g id=\"text_11\">\n      <!-- 0.4 -->\n      <g transform=\"translate(7.2 70.386237)scale(0.1 -0.1)\">\n       <use xlink:href=\"#DejaVuSans-48\"/>\n       <use x=\"63.623047\" xlink:href=\"#DejaVuSans-46\"/>\n       <use x=\"95.410156\" xlink:href=\"#DejaVuSans-52\"/>\n      </g>\n     </g>\n    </g>\n    <g id=\"ytick_6\">\n     <g id=\"line2d_12\">\n      <g>\n       <use style=\"stroke:#000000;stroke-width:0.8;\" x=\"30.103125\" xlink:href=\"#mc5c48ba05f\" y=\"29.213156\"/>\n      </g>\n     </g>\n     <g id=\"text_12\">\n      <!-- 0.5 -->\n      <g transform=\"translate(7.2 33.012374)scale(0.1 -0.1)\">\n       <defs>\n        <path d=\"M 10.796875 72.90625 \nL 49.515625 72.90625 \nL 49.515625 64.59375 \nL 19.828125 64.59375 \nL 19.828125 46.734375 \nQ 21.96875 47.46875 24.109375 47.828125 \nQ 26.265625 48.1875 28.421875 48.1875 \nQ 40.625 48.1875 47.75 41.5 \nQ 54.890625 34.8125 54.890625 23.390625 \nQ 54.890625 11.625 47.5625 5.09375 \nQ 40.234375 -1.421875 26.90625 -1.421875 \nQ 22.3125 -1.421875 17.546875 -0.640625 \nQ 12.796875 0.140625 7.71875 1.703125 \nL 7.71875 11.625 \nQ 12.109375 9.234375 16.796875 8.0625 \nQ 21.484375 6.890625 26.703125 6.890625 \nQ 35.15625 6.890625 40.078125 11.328125 \nQ 45.015625 15.765625 45.015625 23.390625 \nQ 45.015625 31 40.078125 35.4375 \nQ 35.15625 39.890625 26.703125 39.890625 \nQ 22.75 39.890625 18.8125 39.015625 \nQ 14.890625 38.140625 10.796875 36.28125 \nz\n\" id=\"DejaVuSans-53\"/>\n       </defs>\n       <use xlink:href=\"#DejaVuSans-48\"/>\n       <use x=\"63.623047\" xlink:href=\"#DejaVuSans-46\"/>\n       <use x=\"95.410156\" xlink:href=\"#DejaVuSans-53\"/>\n      </g>\n     </g>\n    </g>\n   </g>\n   <g id=\"line2d_13\">\n    <path clip-path=\"url(#p4657ad11eb)\" d=\"M 45.321307 165.948909 \nL 48.395687 193.281378 \nL 51.470067 199.68226 \nL 54.544447 204.674544 \nL 57.618827 208.188319 \nL 60.693208 209.688297 \nL 63.767588 210.834697 \nL 66.841968 211.998523 \nL 69.916348 212.82891 \nL 72.990728 213.323358 \nL 76.065108 213.47472 \nL 79.139489 213.43895 \nL 82.213869 213.593175 \nL 85.288249 213.595984 \nL 88.362629 213.637105 \nL 91.437009 213.767774 \nL 94.511389 213.811775 \nL 97.58577 213.69421 \nL 100.66015 213.862664 \nL 103.73453 213.845259 \nL 106.80891 213.86707 \nL 109.88329 213.912737 \nL 112.95767 213.897471 \nL 116.032051 213.929327 \nL 119.106431 213.967988 \nL 122.180811 214.001004 \nL 125.255191 214.009793 \nL 128.329571 214.081099 \nL 131.403951 214.029631 \nL 134.478332 214.020182 \nL 137.552712 214.098413 \nL 140.627092 214.087443 \nL 143.701472 214.011679 \nL 146.775852 214.017288 \nL 149.850232 214.11299 \nL 152.924613 214.074125 \nL 155.998993 214.138788 \nL 159.073373 214.150548 \nL 162.147753 214.17788 \nL 165.222133 214.161914 \nL 168.296513 214.203919 \nL 171.370894 214.258843 \nL 174.445274 214.166743 \nL 177.519654 214.26598 \nL 180.594034 214.312675 \nL 183.668414 214.26214 \nL 186.742794 214.284206 \nL 189.817175 214.36351 \nL 192.891555 214.341114 \nL 195.965935 214.294356 \nL 199.040315 214.310646 \nL 202.114695 214.327922 \nL 205.189075 214.339108 \nL 208.263456 214.351719 \nL 211.337836 214.323692 \nL 214.412216 214.392833 \nL 217.486596 214.375674 \nL 220.560976 214.381085 \nL 223.635356 214.362044 \nL 226.709737 214.488953 \nL 229.784117 214.394643 \nL 232.858497 214.417095 \nL 235.932877 214.446113 \nL 239.007257 214.484233 \nL 242.081637 214.459794 \nL 245.156018 214.548325 \nL 248.230398 214.505026 \nL 251.304778 214.460973 \nL 254.379158 214.416714 \nL 257.453538 214.458373 \nL 260.527918 214.497072 \nL 263.602299 214.499759 \nL 266.676679 214.57532 \nL 269.751059 214.536385 \nL 272.825439 214.557985 \nL 275.899819 214.562135 \nL 278.974199 214.63052 \nL 282.04858 214.578886 \nL 285.12296 214.514614 \nL 288.19734 214.643621 \nL 291.27172 214.593041 \nL 294.3461 214.592382 \nL 297.42048 214.689341 \nL 300.494861 214.606172 \nL 303.569241 214.697297 \nL 306.643621 214.682869 \nL 309.718001 214.648269 \nL 312.792381 214.694908 \nL 315.866761 214.756364 \nL 318.941142 214.650816 \nL 322.015522 214.703003 \nL 325.089902 214.652909 \nL 328.164282 214.569929 \nL 331.238662 214.623314 \nL 334.313042 214.722277 \nL 337.387423 214.707968 \nL 340.461803 214.697714 \nL 343.536183 214.687973 \nL 346.610563 214.717484 \nL 349.684943 214.748014 \n\" style=\"fill:none;stroke:#1f77b4;stroke-linecap:square;stroke-width:1.5;\"/>\n   </g>\n   <g id=\"line2d_14\">\n    <path clip-path=\"url(#p4657ad11eb)\" d=\"M 45.321307 17.083636 \nL 48.395687 206.872428 \nL 51.470067 211.098326 \nL 54.544447 199.661491 \nL 57.618827 164.562015 \nL 60.693208 187.984494 \nL 63.767588 208.242153 \nL 66.841968 211.660407 \nL 69.916348 210.555851 \nL 72.990728 206.729495 \nL 76.065108 208.070086 \nL 79.139489 210.32081 \nL 82.213869 211.271035 \nL 85.288249 211.502286 \nL 88.362629 211.841313 \nL 91.437009 211.658391 \nL 94.511389 211.364781 \nL 97.58577 212.402363 \nL 100.66015 212.456056 \nL 103.73453 212.574676 \nL 106.80891 212.555715 \nL 109.88329 212.373371 \nL 112.95767 212.44927 \nL 116.032051 212.498091 \nL 119.106431 212.43639 \nL 122.180811 212.516976 \nL 125.255191 212.485567 \nL 128.329571 212.508943 \nL 131.403951 212.473425 \nL 134.478332 212.415289 \nL 137.552712 212.247447 \nL 140.627092 212.504277 \nL 143.701472 212.411875 \nL 146.775852 211.512057 \nL 149.850232 212.148144 \nL 152.924613 212.406306 \nL 155.998993 212.040308 \nL 159.073373 212.192762 \nL 162.147753 212.085762 \nL 165.222133 212.143971 \nL 168.296513 211.731975 \nL 171.370894 210.679099 \nL 174.445274 209.761941 \nL 177.519654 207.788672 \nL 180.594034 209.679928 \nL 183.668414 199.557426 \nL 186.742794 207.648414 \nL 189.817175 196.458341 \nL 192.891555 209.705701 \nL 195.965935 202.659992 \nL 199.040315 206.171897 \nL 202.114695 203.064061 \nL 205.189075 191.998696 \nL 208.263456 209.79881 \nL 211.337836 210.325264 \nL 214.412216 206.294592 \nL 217.486596 209.474596 \nL 220.560976 209.892343 \nL 223.635356 210.863952 \nL 226.709737 209.003666 \nL 229.784117 209.43977 \nL 232.858497 211.036081 \nL 235.932877 209.837768 \nL 239.007257 210.850502 \nL 242.081637 211.130801 \nL 245.156018 209.797128 \nL 248.230398 211.601544 \nL 251.304778 209.604624 \nL 254.379158 211.653996 \nL 257.453538 208.39243 \nL 260.527918 211.679788 \nL 263.602299 211.81133 \nL 266.676679 211.31131 \nL 269.751059 210.947647 \nL 272.825439 211.420313 \nL 275.899819 211.040344 \nL 278.974199 210.667508 \nL 282.04858 211.292012 \nL 285.12296 210.899313 \nL 288.19734 210.609424 \nL 291.27172 211.245595 \nL 294.3461 210.894544 \nL 297.42048 210.425067 \nL 300.494861 210.383225 \nL 303.569241 210.056473 \nL 306.643621 210.578881 \nL 309.718001 210.186492 \nL 312.792381 210.412538 \nL 315.866761 209.430603 \nL 318.941142 210.130439 \nL 322.015522 209.70198 \nL 325.089902 208.801993 \nL 328.164282 209.691995 \nL 331.238662 208.818097 \nL 334.313042 208.216512 \nL 337.387423 209.527316 \nL 340.461803 209.279037 \nL 343.536183 209.034185 \nL 346.610563 209.095068 \nL 349.684943 208.213289 \n\" style=\"fill:none;stroke:#ff7f0e;stroke-linecap:square;stroke-width:1.5;\"/>\n   </g>\n   <g id=\"patch_3\">\n    <path d=\"M 30.103125 224.64 \nL 30.103125 7.2 \n\" style=\"fill:none;stroke:#000000;stroke-linecap:square;stroke-linejoin:miter;stroke-width:0.8;\"/>\n   </g>\n   <g id=\"patch_4\">\n    <path d=\"M 364.903125 224.64 \nL 364.903125 7.2 \n\" style=\"fill:none;stroke:#000000;stroke-linecap:square;stroke-linejoin:miter;stroke-width:0.8;\"/>\n   </g>\n   <g id=\"patch_5\">\n    <path d=\"M 30.103125 224.64 \nL 364.903125 224.64 \n\" style=\"fill:none;stroke:#000000;stroke-linecap:square;stroke-linejoin:miter;stroke-width:0.8;\"/>\n   </g>\n   <g id=\"patch_6\">\n    <path d=\"M 30.103125 7.2 \nL 364.903125 7.2 \n\" style=\"fill:none;stroke:#000000;stroke-linecap:square;stroke-linejoin:miter;stroke-width:0.8;\"/>\n   </g>\n   <g id=\"legend_1\">\n    <g id=\"patch_7\">\n     <path d=\"M 302.628125 44.55625 \nL 357.903125 44.55625 \nQ 359.903125 44.55625 359.903125 42.55625 \nL 359.903125 14.2 \nQ 359.903125 12.2 357.903125 12.2 \nL 302.628125 12.2 \nQ 300.628125 12.2 300.628125 14.2 \nL 300.628125 42.55625 \nQ 300.628125 44.55625 302.628125 44.55625 \nz\n\" style=\"fill:#ffffff;opacity:0.8;stroke:#cccccc;stroke-linejoin:miter;\"/>\n    </g>\n    <g id=\"line2d_15\">\n     <path d=\"M 304.628125 20.298437 \nL 324.628125 20.298437 \n\" style=\"fill:none;stroke:#1f77b4;stroke-linecap:square;stroke-width:1.5;\"/>\n    </g>\n    <g id=\"line2d_16\"/>\n    <g id=\"text_13\">\n     <!-- train -->\n     <g transform=\"translate(332.628125 23.798437)scale(0.1 -0.1)\">\n      <defs>\n       <path d=\"M 18.3125 70.21875 \nL 18.3125 54.6875 \nL 36.8125 54.6875 \nL 36.8125 47.703125 \nL 18.3125 47.703125 \nL 18.3125 18.015625 \nQ 18.3125 11.328125 20.140625 9.421875 \nQ 21.96875 7.515625 27.59375 7.515625 \nL 36.8125 7.515625 \nL 36.8125 0 \nL 27.59375 0 \nQ 17.1875 0 13.234375 3.875 \nQ 9.28125 7.765625 9.28125 18.015625 \nL 9.28125 47.703125 \nL 2.6875 47.703125 \nL 2.6875 54.6875 \nL 9.28125 54.6875 \nL 9.28125 70.21875 \nz\n\" id=\"DejaVuSans-116\"/>\n       <path d=\"M 41.109375 46.296875 \nQ 39.59375 47.171875 37.8125 47.578125 \nQ 36.03125 48 33.890625 48 \nQ 26.265625 48 22.1875 43.046875 \nQ 18.109375 38.09375 18.109375 28.8125 \nL 18.109375 0 \nL 9.078125 0 \nL 9.078125 54.6875 \nL 18.109375 54.6875 \nL 18.109375 46.1875 \nQ 20.953125 51.171875 25.484375 53.578125 \nQ 30.03125 56 36.53125 56 \nQ 37.453125 56 38.578125 55.875 \nQ 39.703125 55.765625 41.0625 55.515625 \nz\n\" id=\"DejaVuSans-114\"/>\n       <path d=\"M 34.28125 27.484375 \nQ 23.390625 27.484375 19.1875 25 \nQ 14.984375 22.515625 14.984375 16.5 \nQ 14.984375 11.71875 18.140625 8.90625 \nQ 21.296875 6.109375 26.703125 6.109375 \nQ 34.1875 6.109375 38.703125 11.40625 \nQ 43.21875 16.703125 43.21875 25.484375 \nL 43.21875 27.484375 \nz\nM 52.203125 31.203125 \nL 52.203125 0 \nL 43.21875 0 \nL 43.21875 8.296875 \nQ 40.140625 3.328125 35.546875 0.953125 \nQ 30.953125 -1.421875 24.3125 -1.421875 \nQ 15.921875 -1.421875 10.953125 3.296875 \nQ 6 8.015625 6 15.921875 \nQ 6 25.140625 12.171875 29.828125 \nQ 18.359375 34.515625 30.609375 34.515625 \nL 43.21875 34.515625 \nL 43.21875 35.40625 \nQ 43.21875 41.609375 39.140625 45 \nQ 35.0625 48.390625 27.6875 48.390625 \nQ 23 48.390625 18.546875 47.265625 \nQ 14.109375 46.140625 10.015625 43.890625 \nL 10.015625 52.203125 \nQ 14.9375 54.109375 19.578125 55.046875 \nQ 24.21875 56 28.609375 56 \nQ 40.484375 56 46.34375 49.84375 \nQ 52.203125 43.703125 52.203125 31.203125 \nz\n\" id=\"DejaVuSans-97\"/>\n       <path d=\"M 9.421875 54.6875 \nL 18.40625 54.6875 \nL 18.40625 0 \nL 9.421875 0 \nz\nM 9.421875 75.984375 \nL 18.40625 75.984375 \nL 18.40625 64.59375 \nL 9.421875 64.59375 \nz\n\" id=\"DejaVuSans-105\"/>\n       <path d=\"M 54.890625 33.015625 \nL 54.890625 0 \nL 45.90625 0 \nL 45.90625 32.71875 \nQ 45.90625 40.484375 42.875 44.328125 \nQ 39.84375 48.1875 33.796875 48.1875 \nQ 26.515625 48.1875 22.3125 43.546875 \nQ 18.109375 38.921875 18.109375 30.90625 \nL 18.109375 0 \nL 9.078125 0 \nL 9.078125 54.6875 \nL 18.109375 54.6875 \nL 18.109375 46.1875 \nQ 21.34375 51.125 25.703125 53.5625 \nQ 30.078125 56 35.796875 56 \nQ 45.21875 56 50.046875 50.171875 \nQ 54.890625 44.34375 54.890625 33.015625 \nz\n\" id=\"DejaVuSans-110\"/>\n      </defs>\n      <use xlink:href=\"#DejaVuSans-116\"/>\n      <use x=\"39.208984\" xlink:href=\"#DejaVuSans-114\"/>\n      <use x=\"80.322266\" xlink:href=\"#DejaVuSans-97\"/>\n      <use x=\"141.601562\" xlink:href=\"#DejaVuSans-105\"/>\n      <use x=\"169.384766\" xlink:href=\"#DejaVuSans-110\"/>\n     </g>\n    </g>\n    <g id=\"line2d_17\">\n     <path d=\"M 304.628125 34.976562 \nL 324.628125 34.976562 \n\" style=\"fill:none;stroke:#ff7f0e;stroke-linecap:square;stroke-width:1.5;\"/>\n    </g>\n    <g id=\"line2d_18\"/>\n    <g id=\"text_14\">\n     <!-- test -->\n     <g transform=\"translate(332.628125 38.476562)scale(0.1 -0.1)\">\n      <defs>\n       <path d=\"M 56.203125 29.59375 \nL 56.203125 25.203125 \nL 14.890625 25.203125 \nQ 15.484375 15.921875 20.484375 11.0625 \nQ 25.484375 6.203125 34.421875 6.203125 \nQ 39.59375 6.203125 44.453125 7.46875 \nQ 49.3125 8.734375 54.109375 11.28125 \nL 54.109375 2.78125 \nQ 49.265625 0.734375 44.1875 -0.34375 \nQ 39.109375 -1.421875 33.890625 -1.421875 \nQ 20.796875 -1.421875 13.15625 6.1875 \nQ 5.515625 13.8125 5.515625 26.8125 \nQ 5.515625 40.234375 12.765625 48.109375 \nQ 20.015625 56 32.328125 56 \nQ 43.359375 56 49.78125 48.890625 \nQ 56.203125 41.796875 56.203125 29.59375 \nz\nM 47.21875 32.234375 \nQ 47.125 39.59375 43.09375 43.984375 \nQ 39.0625 48.390625 32.421875 48.390625 \nQ 24.90625 48.390625 20.390625 44.140625 \nQ 15.875 39.890625 15.1875 32.171875 \nz\n\" id=\"DejaVuSans-101\"/>\n       <path d=\"M 44.28125 53.078125 \nL 44.28125 44.578125 \nQ 40.484375 46.53125 36.375 47.5 \nQ 32.28125 48.484375 27.875 48.484375 \nQ 21.1875 48.484375 17.84375 46.4375 \nQ 14.5 44.390625 14.5 40.28125 \nQ 14.5 37.15625 16.890625 35.375 \nQ 19.28125 33.59375 26.515625 31.984375 \nL 29.59375 31.296875 \nQ 39.15625 29.25 43.1875 25.515625 \nQ 47.21875 21.78125 47.21875 15.09375 \nQ 47.21875 7.46875 41.1875 3.015625 \nQ 35.15625 -1.421875 24.609375 -1.421875 \nQ 20.21875 -1.421875 15.453125 -0.5625 \nQ 10.6875 0.296875 5.421875 2 \nL 5.421875 11.28125 \nQ 10.40625 8.6875 15.234375 7.390625 \nQ 20.0625 6.109375 24.8125 6.109375 \nQ 31.15625 6.109375 34.5625 8.28125 \nQ 37.984375 10.453125 37.984375 14.40625 \nQ 37.984375 18.0625 35.515625 20.015625 \nQ 33.0625 21.96875 24.703125 23.78125 \nL 21.578125 24.515625 \nQ 13.234375 26.265625 9.515625 29.90625 \nQ 5.8125 33.546875 5.8125 39.890625 \nQ 5.8125 47.609375 11.28125 51.796875 \nQ 16.75 56 26.8125 56 \nQ 31.78125 56 36.171875 55.265625 \nQ 40.578125 54.546875 44.28125 53.078125 \nz\n\" id=\"DejaVuSans-115\"/>\n      </defs>\n      <use xlink:href=\"#DejaVuSans-116\"/>\n      <use x=\"39.208984\" xlink:href=\"#DejaVuSans-101\"/>\n      <use x=\"100.732422\" xlink:href=\"#DejaVuSans-115\"/>\n      <use x=\"152.832031\" xlink:href=\"#DejaVuSans-116\"/>\n     </g>\n    </g>\n   </g>\n  </g>\n </g>\n <defs>\n  <clipPath id=\"p4657ad11eb\">\n   <rect height=\"217.44\" width=\"334.8\" x=\"30.103125\" y=\"7.2\"/>\n  </clipPath>\n </defs>\n</svg>\n",
      "image/png": "[encoded data removed]"
     },
     "metadata": {
      "needs_background": "light"
     }
    }
   ],
   "source": [
    "# plot history\n",
    "plt.plot(history.history['loss'], label='train')\n",
    "plt.plot(history.history['val_loss'], label='test')\n",
    "plt.legend()\n",
    "plt.show()"
   ]
  },
  {
   "cell_type": "code",
   "execution_count": 29,
   "metadata": {},
   "outputs": [],
   "source": [
    "# make a forecast\n",
    "def forecast(model, history, n_input):\n",
    "    # flatten data\n",
    "    data = np.array(history)\n",
    "    try :data = data.reshape((data.shape[0]*data.shape[1], data.shape[2]))\n",
    "    except: pass\n",
    "    # retrieve last observations for input data\n",
    "    input_x = data[-n_input:, :]\n",
    "    # reshape into [1, n_input, 1]\n",
    "    input_x = input_x.reshape((1, input_x.shape[0], input_x.shape[1]))\n",
    "    # forecast the next week\n",
    "    yhat = model.predict(input_x, verbose=0)\n",
    "    # we only want the vector forecast\n",
    "    yhat = yhat[0]\n",
    "    return yhat"
   ]
  },
  {
   "cell_type": "code",
   "execution_count": 31,
   "metadata": {},
   "outputs": [
    {
     "output_type": "error",
     "ename": "IndexError",
     "evalue": "too many indices for array: array is 1-dimensional, but 2 were indexed",
     "traceback": [
      "\u001b[0;31m---------------------------------------------------------------------------\u001b[0m",
      "\u001b[0;31mIndexError\u001b[0m                                Traceback (most recent call last)",
      "\u001b[0;32m<ipython-input-31-efe219a0c375>\u001b[0m in \u001b[0;36m<module>\u001b[0;34m\u001b[0m\n\u001b[1;32m      3\u001b[0m \u001b[0;34m\u001b[0m\u001b[0m\n\u001b[1;32m      4\u001b[0m \u001b[0;32mfor\u001b[0m \u001b[0mt\u001b[0m \u001b[0;32min\u001b[0m \u001b[0mrange\u001b[0m\u001b[0;34m(\u001b[0m\u001b[0mlen\u001b[0m\u001b[0;34m(\u001b[0m\u001b[0mx_test\u001b[0m\u001b[0;34m)\u001b[0m\u001b[0;34m)\u001b[0m\u001b[0;34m:\u001b[0m\u001b[0;34m\u001b[0m\u001b[0;34m\u001b[0m\u001b[0m\n\u001b[0;32m----> 5\u001b[0;31m     \u001b[0myhat\u001b[0m \u001b[0;34m=\u001b[0m \u001b[0mforecast\u001b[0m\u001b[0;34m(\u001b[0m\u001b[0mmodel\u001b[0m\u001b[0;34m,\u001b[0m \u001b[0mhistory\u001b[0m\u001b[0;34m,\u001b[0m \u001b[0mn_input\u001b[0m\u001b[0;34m=\u001b[0m\u001b[0mtimelag\u001b[0m\u001b[0;34m)\u001b[0m\u001b[0;34m\u001b[0m\u001b[0;34m\u001b[0m\u001b[0m\n\u001b[0m\u001b[1;32m      6\u001b[0m     \u001b[0mpredictions\u001b[0m\u001b[0;34m.\u001b[0m\u001b[0mappend\u001b[0m\u001b[0;34m(\u001b[0m\u001b[0myhat\u001b[0m\u001b[0;34m)\u001b[0m\u001b[0;34m\u001b[0m\u001b[0;34m\u001b[0m\u001b[0m\n\u001b[1;32m      7\u001b[0m     \u001b[0mhistory\u001b[0m\u001b[0;34m.\u001b[0m\u001b[0mappend\u001b[0m\u001b[0;34m(\u001b[0m\u001b[0mx_test\u001b[0m\u001b[0;34m)\u001b[0m\u001b[0;34m\u001b[0m\u001b[0;34m\u001b[0m\u001b[0m\n",
      "\u001b[0;32m<ipython-input-29-2c71e2322f68>\u001b[0m in \u001b[0;36mforecast\u001b[0;34m(model, history, n_input)\u001b[0m\n\u001b[1;32m      6\u001b[0m     \u001b[0;32mexcept\u001b[0m\u001b[0;34m:\u001b[0m \u001b[0;32mpass\u001b[0m\u001b[0;34m\u001b[0m\u001b[0;34m\u001b[0m\u001b[0m\n\u001b[1;32m      7\u001b[0m     \u001b[0;31m# retrieve last observations for input data\u001b[0m\u001b[0;34m\u001b[0m\u001b[0;34m\u001b[0m\u001b[0;34m\u001b[0m\u001b[0m\n\u001b[0;32m----> 8\u001b[0;31m     \u001b[0minput_x\u001b[0m \u001b[0;34m=\u001b[0m \u001b[0mdata\u001b[0m\u001b[0;34m[\u001b[0m\u001b[0;34m-\u001b[0m\u001b[0mn_input\u001b[0m\u001b[0;34m:\u001b[0m\u001b[0;34m,\u001b[0m \u001b[0;34m:\u001b[0m\u001b[0;34m]\u001b[0m\u001b[0;34m\u001b[0m\u001b[0;34m\u001b[0m\u001b[0m\n\u001b[0m\u001b[1;32m      9\u001b[0m     \u001b[0;31m# reshape into [1, n_input, 1]\u001b[0m\u001b[0;34m\u001b[0m\u001b[0;34m\u001b[0m\u001b[0;34m\u001b[0m\u001b[0m\n\u001b[1;32m     10\u001b[0m     \u001b[0minput_x\u001b[0m \u001b[0;34m=\u001b[0m \u001b[0minput_x\u001b[0m\u001b[0;34m.\u001b[0m\u001b[0mreshape\u001b[0m\u001b[0;34m(\u001b[0m\u001b[0;34m(\u001b[0m\u001b[0;36m1\u001b[0m\u001b[0;34m,\u001b[0m \u001b[0minput_x\u001b[0m\u001b[0;34m.\u001b[0m\u001b[0mshape\u001b[0m\u001b[0;34m[\u001b[0m\u001b[0;36m0\u001b[0m\u001b[0;34m]\u001b[0m\u001b[0;34m,\u001b[0m \u001b[0minput_x\u001b[0m\u001b[0;34m.\u001b[0m\u001b[0mshape\u001b[0m\u001b[0;34m[\u001b[0m\u001b[0;36m1\u001b[0m\u001b[0;34m]\u001b[0m\u001b[0;34m)\u001b[0m\u001b[0;34m)\u001b[0m\u001b[0;34m\u001b[0m\u001b[0;34m\u001b[0m\u001b[0m\n",
      "\u001b[0;31mIndexError\u001b[0m: too many indices for array: array is 1-dimensional, but 2 were indexed"
     ]
    }
   ],
   "source": [
    "history = [x for x in x_train]\n",
    "predictions = list()\n",
    "\n",
    "for t in range(len(x_test)):\n",
    "    yhat = forecast(model, history, n_input=timelag)\n",
    "    predictions.append(yhat)\n",
    "    history.append(x_test)    \n",
    "    #print('predicted=%f, expected=%f' % (yhat, obs))\n",
    "\n",
    "mse,nse = real_eva_error(predictions,test)\n",
    "r2 = r2_score(test,predictions)\n",
    "\n",
    "print('Test MSE: %.3f Test NSE: %.3f' % (mse,nse))\n",
    "print(\"R2 score: {}\".format(r2))"
   ]
  },
  {
   "cell_type": "code",
   "execution_count": 24,
   "metadata": {},
   "outputs": [
    {
     "output_type": "execute_result",
     "data": {
      "text/plain": [
       "array([[0.00155521, 0.00239234, 0.        , ..., 0.98996206, 0.24240036,\n",
       "        0.49793671],\n",
       "       [0.        , 0.        , 0.        , ..., 0.98864306, 0.24150705,\n",
       "        0.47158119],\n",
       "       [0.        , 0.00239234, 0.        , ..., 0.98923057, 0.24028294,\n",
       "        0.43336353],\n",
       "       ...,\n",
       "       [0.00155521, 0.        , 0.00327869, ..., 0.99270473, 0.34308084,\n",
       "        0.44869085],\n",
       "       [0.00155521, 0.        , 0.00327869, ..., 0.99230804, 0.34786264,\n",
       "        0.46020791],\n",
       "       [0.00155521, 0.        , 0.        , ..., 0.99216695, 0.34254223,\n",
       "        0.4683173 ]])"
      ]
     },
     "metadata": {},
     "execution_count": 24
    }
   ],
   "source": [
    "x_test"
   ]
  },
  {
   "cell_type": "code",
   "execution_count": null,
   "metadata": {},
   "outputs": [],
   "source": []
  }
 ],
 "metadata": {
  "kernelspec": {
   "display_name": "Python 3",
   "language": "python",
   "name": "python3"
  },
  "language_info": {
   "codemirror_mode": {
    "name": "ipython",
    "version": 3
   },
   "file_extension": ".py",
   "mimetype": "text/x-python",
   "name": "python",
   "nbconvert_exporter": "python",
   "pygments_lexer": "ipython3",
   "version": "3.8.5-final"
  }
 },
 "nbformat": 4,
 "nbformat_minor": 2
}