{
 "cells": [
  {
   "cell_type": "markdown",
   "metadata": {},
   "source": [
    "# Import data"
   ]
  },
  {
   "cell_type": "code",
   "execution_count": 1,
   "metadata": {},
   "outputs": [],
   "source": [
    "import pandas as pd\n",
    "import numpy as np\n",
    "import matplotlib.pyplot as plt\n",
    "%matplotlib inline\n",
    "\n",
    "#import seaborn as sns"
   ]
  },
  {
   "cell_type": "code",
   "execution_count": 2,
   "metadata": {},
   "outputs": [],
   "source": [
    "from DLtools import  prep_data, LSTMmodel"
   ]
  },
  {
   "cell_type": "code",
   "execution_count": 3,
   "metadata": {},
   "outputs": [],
   "source": [
    "#rain = 'data/instant_data/rain.csv'\n",
    "#water = 'data/instant_data/water.csv'\n",
    "rain = 'data/instant_data/rain_small.csv'\n",
    "water = 'data/instant_data/water_small.csv'\n",
    "\n",
    "rw = prep_data.instant_df(rain_csv=rain,water_csv=water)\n",
    "# df_water = rw.water_df\n",
    "# df_rain = rw.rain_df\n",
    "df = rw.df"
   ]
  },
  {
   "cell_type": "code",
   "execution_count": 4,
   "metadata": {},
   "outputs": [],
   "source": [
    "# SELECT YEAR\n",
    "#rw.report_missing_by_year()"
   ]
  },
  {
   "cell_type": "code",
   "execution_count": 5,
   "metadata": {},
   "outputs": [],
   "source": [
    "#rw = prep_data.instant_df(rain_csv=rain,water_csv=water,start='2013')\n",
    "#df = rw.df"
   ]
  },
  {
   "cell_type": "code",
   "execution_count": 6,
   "metadata": {},
   "outputs": [],
   "source": [
    "# def report_missing_by_station(df,col):\n",
    "#     nan_ratio = 0.15\n",
    "#     print(col[:5])\n",
    "#     for _col in df.columns:   \n",
    "#         num_nan = df[_col].isnull().sum()\n",
    "#         num_total = df.shape[0]\n",
    "#         if num_nan/num_total > nan_ratio:\n",
    "#             try:\n",
    "#                 col.remove(_col)\n",
    "#             except:\n",
    "#                 pass\n",
    "#         else:\n",
    "#             print(\"REMAIN Station name {}, ,missing......{} (..{:.2f}%)\".format(_col,num_nan,num_nan*100/num_total))\n",
    "#     print(\"total data points\",num_total)\n",
    "#     print(\"remain .......{}...station\".format(len(col)))\n",
    "#     print(col)\n",
    "#     return col"
   ]
  },
  {
   "cell_type": "code",
   "execution_count": 7,
   "metadata": {},
   "outputs": [],
   "source": [
    "# print(len(all_col))\n",
    "# print(\"ST........AVAL..NAN..ALL.............avaliable ratio\")\n",
    "# all_col = df.columns\n",
    "# for col in all_col:\n",
    "#     avaliable = df[col].count()\n",
    "#     nan = df[col].isna().sum()\n",
    "#     total = len(df[col])\n",
    "    \n",
    "#     if nan/total > 0.3 :\n",
    "#         print(col,avaliable,nan,total,\"................\",nan/total*100)\n",
    "#         try:\n",
    "#             col.remove(all_col)\n",
    "#         except:\n",
    "#             pass\n",
    "# print(len(all_col))"
   ]
  },
  {
   "cell_type": "code",
   "execution_count": 8,
   "metadata": {},
   "outputs": [],
   "source": [
    "#rw.report_missing_by_station()"
   ]
  },
  {
   "cell_type": "code",
   "execution_count": 9,
   "metadata": {},
   "outputs": [
    {
     "name": "stdout",
     "output_type": "stream",
     "text": [
      "(5538, 35)\n"
     ]
    },
    {
     "data": {
      "text/html": [
       "<div>\n",
       "<style scoped>\n",
       "    .dataframe tbody tr th:only-of-type {\n",
       "        vertical-align: middle;\n",
       "    }\n",
       "\n",
       "    .dataframe tbody tr th {\n",
       "        vertical-align: top;\n",
       "    }\n",
       "\n",
       "    .dataframe thead th {\n",
       "        text-align: right;\n",
       "    }\n",
       "</style>\n",
       "<table border=\"1\" class=\"dataframe\">\n",
       "  <thead>\n",
       "    <tr style=\"text-align: right;\">\n",
       "      <th></th>\n",
       "      <th>CHM006_w</th>\n",
       "      <th>THA001_w</th>\n",
       "      <th>NAN011_w</th>\n",
       "      <th>CPY003_w</th>\n",
       "      <th>KWN002_w</th>\n",
       "      <th>CPY010_w</th>\n",
       "      <th>CPY009_w</th>\n",
       "      <th>NAN009_w</th>\n",
       "      <th>CPY015_w</th>\n",
       "      <th>NAN012_w</th>\n",
       "      <th>...</th>\n",
       "      <th>PIN001_r</th>\n",
       "      <th>CHM006_r</th>\n",
       "      <th>NAN013_r</th>\n",
       "      <th>PIN003_r</th>\n",
       "      <th>CPY010_r</th>\n",
       "      <th>PIN004_r</th>\n",
       "      <th>THA001_r</th>\n",
       "      <th>NAN012_r</th>\n",
       "      <th>CHM002_r</th>\n",
       "      <th>NAN011_r</th>\n",
       "    </tr>\n",
       "    <tr>\n",
       "      <th>date</th>\n",
       "      <th></th>\n",
       "      <th></th>\n",
       "      <th></th>\n",
       "      <th></th>\n",
       "      <th></th>\n",
       "      <th></th>\n",
       "      <th></th>\n",
       "      <th></th>\n",
       "      <th></th>\n",
       "      <th></th>\n",
       "      <th></th>\n",
       "      <th></th>\n",
       "      <th></th>\n",
       "      <th></th>\n",
       "      <th></th>\n",
       "      <th></th>\n",
       "      <th></th>\n",
       "      <th></th>\n",
       "      <th></th>\n",
       "      <th></th>\n",
       "      <th></th>\n",
       "    </tr>\n",
       "  </thead>\n",
       "  <tbody>\n",
       "    <tr>\n",
       "      <th>2013-01-01</th>\n",
       "      <td>NaN</td>\n",
       "      <td>15.046528</td>\n",
       "      <td>NaN</td>\n",
       "      <td>15.252431</td>\n",
       "      <td>NaN</td>\n",
       "      <td>0.905664</td>\n",
       "      <td>0.778592</td>\n",
       "      <td>NaN</td>\n",
       "      <td>0.797222</td>\n",
       "      <td>NaN</td>\n",
       "      <td>...</td>\n",
       "      <td>NaN</td>\n",
       "      <td>NaN</td>\n",
       "      <td>NaN</td>\n",
       "      <td>NaN</td>\n",
       "      <td>NaN</td>\n",
       "      <td>NaN</td>\n",
       "      <td>NaN</td>\n",
       "      <td>NaN</td>\n",
       "      <td>NaN</td>\n",
       "      <td>NaN</td>\n",
       "    </tr>\n",
       "    <tr>\n",
       "      <th>2013-01-02</th>\n",
       "      <td>NaN</td>\n",
       "      <td>15.028889</td>\n",
       "      <td>NaN</td>\n",
       "      <td>15.230417</td>\n",
       "      <td>NaN</td>\n",
       "      <td>0.793056</td>\n",
       "      <td>0.759865</td>\n",
       "      <td>NaN</td>\n",
       "      <td>0.636250</td>\n",
       "      <td>NaN</td>\n",
       "      <td>...</td>\n",
       "      <td>NaN</td>\n",
       "      <td>NaN</td>\n",
       "      <td>NaN</td>\n",
       "      <td>NaN</td>\n",
       "      <td>NaN</td>\n",
       "      <td>NaN</td>\n",
       "      <td>NaN</td>\n",
       "      <td>NaN</td>\n",
       "      <td>NaN</td>\n",
       "      <td>NaN</td>\n",
       "    </tr>\n",
       "    <tr>\n",
       "      <th>2013-01-03</th>\n",
       "      <td>NaN</td>\n",
       "      <td>14.972569</td>\n",
       "      <td>NaN</td>\n",
       "      <td>15.174931</td>\n",
       "      <td>NaN</td>\n",
       "      <td>0.771111</td>\n",
       "      <td>0.732468</td>\n",
       "      <td>NaN</td>\n",
       "      <td>0.581458</td>\n",
       "      <td>NaN</td>\n",
       "      <td>...</td>\n",
       "      <td>NaN</td>\n",
       "      <td>NaN</td>\n",
       "      <td>NaN</td>\n",
       "      <td>NaN</td>\n",
       "      <td>NaN</td>\n",
       "      <td>NaN</td>\n",
       "      <td>NaN</td>\n",
       "      <td>NaN</td>\n",
       "      <td>NaN</td>\n",
       "      <td>NaN</td>\n",
       "    </tr>\n",
       "    <tr>\n",
       "      <th>2013-01-04</th>\n",
       "      <td>NaN</td>\n",
       "      <td>14.956528</td>\n",
       "      <td>NaN</td>\n",
       "      <td>15.162639</td>\n",
       "      <td>NaN</td>\n",
       "      <td>0.681250</td>\n",
       "      <td>0.663860</td>\n",
       "      <td>NaN</td>\n",
       "      <td>0.532153</td>\n",
       "      <td>NaN</td>\n",
       "      <td>...</td>\n",
       "      <td>NaN</td>\n",
       "      <td>NaN</td>\n",
       "      <td>NaN</td>\n",
       "      <td>NaN</td>\n",
       "      <td>NaN</td>\n",
       "      <td>NaN</td>\n",
       "      <td>NaN</td>\n",
       "      <td>NaN</td>\n",
       "      <td>NaN</td>\n",
       "      <td>NaN</td>\n",
       "    </tr>\n",
       "    <tr>\n",
       "      <th>2013-01-05</th>\n",
       "      <td>NaN</td>\n",
       "      <td>14.932222</td>\n",
       "      <td>NaN</td>\n",
       "      <td>15.141597</td>\n",
       "      <td>NaN</td>\n",
       "      <td>0.671736</td>\n",
       "      <td>0.611204</td>\n",
       "      <td>NaN</td>\n",
       "      <td>0.530139</td>\n",
       "      <td>NaN</td>\n",
       "      <td>...</td>\n",
       "      <td>NaN</td>\n",
       "      <td>NaN</td>\n",
       "      <td>NaN</td>\n",
       "      <td>NaN</td>\n",
       "      <td>NaN</td>\n",
       "      <td>NaN</td>\n",
       "      <td>NaN</td>\n",
       "      <td>NaN</td>\n",
       "      <td>NaN</td>\n",
       "      <td>NaN</td>\n",
       "    </tr>\n",
       "  </tbody>\n",
       "</table>\n",
       "<p>5 rows × 35 columns</p>\n",
       "</div>"
      ],
      "text/plain": [
       "            CHM006_w   THA001_w  NAN011_w   CPY003_w  KWN002_w  CPY010_w  \\\n",
       "date                                                                       \n",
       "2013-01-01       NaN  15.046528       NaN  15.252431       NaN  0.905664   \n",
       "2013-01-02       NaN  15.028889       NaN  15.230417       NaN  0.793056   \n",
       "2013-01-03       NaN  14.972569       NaN  15.174931       NaN  0.771111   \n",
       "2013-01-04       NaN  14.956528       NaN  15.162639       NaN  0.681250   \n",
       "2013-01-05       NaN  14.932222       NaN  15.141597       NaN  0.671736   \n",
       "\n",
       "            CPY009_w  NAN009_w  CPY015_w  NAN012_w  ...  PIN001_r  CHM006_r  \\\n",
       "date                                                ...                       \n",
       "2013-01-01  0.778592       NaN  0.797222       NaN  ...       NaN       NaN   \n",
       "2013-01-02  0.759865       NaN  0.636250       NaN  ...       NaN       NaN   \n",
       "2013-01-03  0.732468       NaN  0.581458       NaN  ...       NaN       NaN   \n",
       "2013-01-04  0.663860       NaN  0.532153       NaN  ...       NaN       NaN   \n",
       "2013-01-05  0.611204       NaN  0.530139       NaN  ...       NaN       NaN   \n",
       "\n",
       "            NAN013_r  PIN003_r  CPY010_r  PIN004_r  THA001_r  NAN012_r  \\\n",
       "date                                                                     \n",
       "2013-01-01       NaN       NaN       NaN       NaN       NaN       NaN   \n",
       "2013-01-02       NaN       NaN       NaN       NaN       NaN       NaN   \n",
       "2013-01-03       NaN       NaN       NaN       NaN       NaN       NaN   \n",
       "2013-01-04       NaN       NaN       NaN       NaN       NaN       NaN   \n",
       "2013-01-05       NaN       NaN       NaN       NaN       NaN       NaN   \n",
       "\n",
       "            CHM002_r  NAN011_r  \n",
       "date                            \n",
       "2013-01-01       NaN       NaN  \n",
       "2013-01-02       NaN       NaN  \n",
       "2013-01-03       NaN       NaN  \n",
       "2013-01-04       NaN       NaN  \n",
       "2013-01-05       NaN       NaN  \n",
       "\n",
       "[5 rows x 35 columns]"
      ]
     },
     "execution_count": 9,
     "metadata": {},
     "output_type": "execute_result"
    }
   ],
   "source": [
    "#df = df.interpolate(method='pad', limit=30) # selected period, interporlation missing value\n",
    "#df.dropna(axis=1,inplace=True) # drop na stations \n",
    "print(df.shape)\n",
    "df.interpolate(method='pad', limit=30,inplace=True)\n",
    "#df = df.fillna(0)\n",
    "df.head()\n"
   ]
  },
  {
   "cell_type": "markdown",
   "metadata": {},
   "source": [
    "# LSTM"
   ]
  },
  {
   "cell_type": "code",
   "execution_count": 10,
   "metadata": {
    "scrolled": true
   },
   "outputs": [],
   "source": [
    "import tensorflow as tf\n",
    "from tensorflow.keras.models import Sequential\n",
    "from tensorflow.keras.layers import Dense, Dropout, LSTM, GRU\n",
    "\n",
    "from sklearn.preprocessing import MinMaxScaler"
   ]
  },
  {
   "cell_type": "code",
   "execution_count": 11,
   "metadata": {},
   "outputs": [
    {
     "name": "stdout",
     "output_type": "stream",
     "text": [
      "Min:  CHM006_w    0.0\n",
      "THA001_w    0.0\n",
      "NAN011_w    0.0\n",
      "CPY003_w    0.0\n",
      "KWN002_w    0.0\n",
      "CPY010_w    0.0\n",
      "CPY009_w    0.0\n",
      "NAN009_w    0.0\n",
      "CPY015_w    0.0\n",
      "NAN012_w    0.0\n",
      "NAN010_w    0.0\n",
      "CHM002_w    0.0\n",
      "PIN001_w    0.0\n",
      "NAN013_w    0.0\n",
      "PIN004_w    0.0\n",
      "CHM004_w    0.0\n",
      "CPY004_w    0.0\n",
      "CPY015_r    0.0\n",
      "NAN006_r    0.0\n",
      "KWN002_r    0.0\n",
      "CPY004_r    0.0\n",
      "CPY009_r    0.0\n",
      "PIN005_r    0.0\n",
      "NAN010_r    0.0\n",
      "CHM004_r    0.0\n",
      "PIN001_r    0.0\n",
      "CHM006_r    0.0\n",
      "NAN013_r    0.0\n",
      "PIN003_r    0.0\n",
      "CPY010_r    0.0\n",
      "PIN004_r    0.0\n",
      "THA001_r    0.0\n",
      "NAN012_r    0.0\n",
      "CHM002_r    0.0\n",
      "NAN011_r    0.0\n",
      "dtype: float64\n",
      "Max:  CHM006_w    1.0\n",
      "THA001_w    1.0\n",
      "NAN011_w    1.0\n",
      "CPY003_w    1.0\n",
      "KWN002_w    1.0\n",
      "CPY010_w    1.0\n",
      "CPY009_w    1.0\n",
      "NAN009_w    1.0\n",
      "CPY015_w    1.0\n",
      "NAN012_w    1.0\n",
      "NAN010_w    1.0\n",
      "CHM002_w    1.0\n",
      "PIN001_w    1.0\n",
      "NAN013_w    1.0\n",
      "PIN004_w    1.0\n",
      "CHM004_w    1.0\n",
      "CPY004_w    1.0\n",
      "CPY015_r    1.0\n",
      "NAN006_r    1.0\n",
      "KWN002_r    1.0\n",
      "CPY004_r    1.0\n",
      "CPY009_r    1.0\n",
      "PIN005_r    1.0\n",
      "NAN010_r    1.0\n",
      "CHM004_r    1.0\n",
      "PIN001_r    1.0\n",
      "CHM006_r    1.0\n",
      "NAN013_r    1.0\n",
      "PIN003_r    1.0\n",
      "CPY010_r    1.0\n",
      "PIN004_r    1.0\n",
      "THA001_r    1.0\n",
      "NAN012_r    1.0\n",
      "CHM002_r    1.0\n",
      "NAN011_r    1.0\n",
      "dtype: float64\n"
     ]
    }
   ],
   "source": [
    "# print(\"********RAIN_BEFORE********\")\n",
    "# print(\"Min: \", np.min(df))\n",
    "# print(\"Max: \", np.max(df))\n",
    "#print(\"********RAIN_AFTER********\")\n",
    "scaler = MinMaxScaler()\n",
    "df[df.columns] = scaler.fit_transform(df[df.columns])\n",
    "#y = scaler.fit_transform(y)\n",
    "print(\"Min: \", np.min(df))\n",
    "print(\"Max: \", np.max(df))"
   ]
  },
  {
   "cell_type": "code",
   "execution_count": 12,
   "metadata": {},
   "outputs": [],
   "source": [
    "timelag = 7\n",
    "y = df['CPY015_w'].shift(-timelag)"
   ]
  },
  {
   "cell_type": "code",
   "execution_count": 13,
   "metadata": {},
   "outputs": [
    {
     "name": "stdout",
     "output_type": "stream",
     "text": [
      "<class 'numpy.ndarray'>\n",
      "Shape: (5531, 35)\n",
      "********************\n",
      "<class 'numpy.ndarray'>\n",
      "Shape: (5531, 1)\n"
     ]
    }
   ],
   "source": [
    "X = df.values[:-timelag]\n",
    "print(type(X))\n",
    "print(\"Shape:\",X.shape)\n",
    "print(\"*\"*20)\n",
    "\n",
    "y = y.values[:-timelag]\n",
    "y = y.reshape(-1,1)\n",
    "print(type(y))\n",
    "print(\"Shape:\", y.shape)"
   ]
  },
  {
   "cell_type": "code",
   "execution_count": 14,
   "metadata": {},
   "outputs": [
    {
     "name": "stdout",
     "output_type": "stream",
     "text": [
      "Total data From.. 5531\n",
      "Train: 4424 , Test: 1107\n",
      "==============================\n",
      "x_train shape (4424, 35)\n",
      "y_train shape (4424, 1)\n",
      "x feature.... 35\n",
      "y feature.... 1\n"
     ]
    }
   ],
   "source": [
    "num_data = len(X)\n",
    "train_split = 0.8 #8:2 train:test\n",
    "\n",
    "num_train = int(train_split*num_data)\n",
    "num_test = num_data-num_train\n",
    "\n",
    "print(\"Total data From..\",num_data)\n",
    "print(\"Train:\",num_train,\", Test:\",num_test)\n",
    "\n",
    "######################################\n",
    "x_train = X[0:num_train]\n",
    "x_test = X[num_train:]\n",
    "\n",
    "y_train = y[0:num_train]\n",
    "y_test = y[num_train:]\n",
    "\n",
    "num_x_feature = X.shape[1]\n",
    "num_y_feature = y.shape[1]\n",
    "######################################\n",
    "print('='*30)\n",
    "print(\"x_train shape\",x_train.shape)\n",
    "print(\"y_train shape\",y_train.shape)\n",
    "print(\"x feature....\",num_x_feature)\n",
    "print(\"y feature....\",num_y_feature)"
   ]
  },
  {
   "cell_type": "code",
   "execution_count": 15,
   "metadata": {},
   "outputs": [],
   "source": [
    "def batch_gen(batch_size, sequence_length):\n",
    "    while True:\n",
    "        x_shape = (batch_size, sequence_length, num_x_feature)\n",
    "        x_batch = np.zeros(shape = x_shape, dtype=np.float16)\n",
    "        \n",
    "        y_shape = (batch_size, sequence_length, num_y_feature)\n",
    "        y_batch = np.zeros(shape = y_shape, dtype=np.float16)\n",
    "        \n",
    "        #fill batch with random sequences of data\n",
    "        for i in range(batch_size):\n",
    "            \n",
    "            #Get rand start index,\n",
    "            idx = np.random.randint(num_train - sequence_length)\n",
    "            \n",
    "            #copy sequence of data start at this index.\n",
    "            x_batch[i] = x_train[idx:idx+sequence_length]\n",
    "            y_batch[i] = y_train[idx:idx+sequence_length]\n",
    "            \n",
    "        yield (x_batch, y_batch)       "
   ]
  },
  {
   "cell_type": "code",
   "execution_count": 16,
   "metadata": {},
   "outputs": [
    {
     "name": "stdout",
     "output_type": "stream",
     "text": [
      "(256, 7, 35)\n",
      "(256, 7, 1)\n"
     ]
    }
   ],
   "source": [
    "batch_size = 256\n",
    "sequence_length = timelag\n",
    "\n",
    "generator = batch_gen(batch_size=batch_size,\n",
    "                            sequence_length=sequence_length)\n",
    "\n",
    "x_batch, y_batch = next(generator)\n",
    "\n",
    "print(x_batch.shape)\n",
    "print(y_batch.shape)"
   ]
  },
  {
   "cell_type": "code",
   "execution_count": 17,
   "metadata": {},
   "outputs": [
    {
     "data": {
      "image/png": "[encoded data removed]",
      "text/plain": [
       "<Figure size 720x360 with 2 Axes>"
      ]
     },
     "metadata": {
      "needs_background": "light"
     },
     "output_type": "display_data"
    }
   ],
   "source": [
    "batch = 10  # First sequence in the batch.\n",
    "signal = 0  # First signal from the 20 input-signals.\n",
    "seq = x_batch[batch, :, signal]\n",
    "seq2 = y_batch[batch, :, signal]\n",
    "\n",
    "\n",
    "fig,ax = plt.subplots(1,2,figsize=(10,5))\n",
    "ax[0].plot(seq)\n",
    "ax[0].set_title(\"x_batch\")\n",
    "ax[1].plot(seq2)\n",
    "ax[1].set_title(\"y_batch\")\n",
    "fig.tight_layout() \n"
   ]
  },
  {
   "cell_type": "code",
   "execution_count": 18,
   "metadata": {},
   "outputs": [
    {
     "name": "stdout",
     "output_type": "stream",
     "text": [
      "x_test shape: (1, 1107, 35)\n",
      "y_test shape: (1, 1107, 1)\n"
     ]
    }
   ],
   "source": [
    "validation_data = (np.expand_dims(x_test, axis=0),np.expand_dims(y_test, axis=0))\n",
    "\n",
    "print(\"x_test shape:\",validation_data[0].shape)\n",
    "print(\"y_test shape:\",validation_data[1].shape)"
   ]
  },
  {
   "cell_type": "code",
   "execution_count": 19,
   "metadata": {},
   "outputs": [
    {
     "name": "stdout",
     "output_type": "stream",
     "text": [
      "Model: \"sequential\"\n",
      "_________________________________________________________________\n",
      "Layer (type)                 Output Shape              Param #   \n",
      "=================================================================\n",
      "lstm (LSTM)                  (None, None, 128)         83968     \n",
      "_________________________________________________________________\n",
      "lstm_1 (LSTM)                (None, None, 128)         131584    \n",
      "_________________________________________________________________\n",
      "dense (Dense)                (None, None, 1)           129       \n",
      "=================================================================\n",
      "Total params: 215,681\n",
      "Trainable params: 215,681\n",
      "Non-trainable params: 0\n",
      "_________________________________________________________________\n"
     ]
    }
   ],
   "source": [
    "model = Sequential()\n",
    "model.add(LSTM(128, return_sequences=True, input_shape=(None,num_x_feature),\n",
    "              activation='relu'))\n",
    "model.add(LSTM(128,return_sequences=True))\n",
    "model.add(Dense(num_y_feature,activation='relu'))\n",
    "opt = tf.keras.optimizers.Adam(lr=1e-3,decay=1e-5)\n",
    "\n",
    "model.compile(optimizer=opt, loss='mse', metrics=['accuracy'])\n",
    "model.summary()"
   ]
  },
  {
   "cell_type": "code",
   "execution_count": 20,
   "metadata": {},
   "outputs": [
    {
     "name": "stdout",
     "output_type": "stream",
     "text": [
      "Epoch 1/100\n",
      "10/10 [==============================] - 2s 197ms/step - loss: nan - accuracy: 2.7902e-04 - val_loss: nan - val_accuracy: 0.0000e+00\n",
      "Epoch 2/100\n",
      "10/10 [==============================] - 1s 110ms/step - loss: nan - accuracy: 5.5804e-05 - val_loss: nan - val_accuracy: 0.0000e+00\n",
      "Epoch 3/100\n",
      "10/10 [==============================] - 1s 91ms/step - loss: nan - accuracy: 2.7902e-04 - val_loss: nan - val_accuracy: 0.0000e+00\n",
      "Epoch 4/100\n",
      "10/10 [==============================] - 1s 99ms/step - loss: nan - accuracy: 5.5804e-05 - val_loss: nan - val_accuracy: 0.0000e+00\n",
      "Epoch 5/100\n",
      "10/10 [==============================] - 1s 97ms/step - loss: nan - accuracy: 2.2321e-04 - val_loss: nan - val_accuracy: 0.0000e+00\n",
      "Epoch 6/100\n",
      "10/10 [==============================] - 1s 149ms/step - loss: nan - accuracy: 3.9063e-04 - val_loss: nan - val_accuracy: 0.0000e+00\n",
      "Epoch 7/100\n",
      "10/10 [==============================] - 2s 185ms/step - loss: nan - accuracy: 1.6741e-04 - val_loss: nan - val_accuracy: 0.0000e+00\n",
      "Epoch 8/100\n",
      "10/10 [==============================] - 1s 112ms/step - loss: nan - accuracy: 1.1161e-04 - val_loss: nan - val_accuracy: 0.0000e+00\n",
      "Epoch 9/100\n",
      "10/10 [==============================] - 1s 109ms/step - loss: nan - accuracy: 2.2321e-04 - val_loss: nan - val_accuracy: 0.0000e+00\n",
      "Epoch 10/100\n",
      "10/10 [==============================] - 1s 116ms/step - loss: nan - accuracy: 5.5804e-05 - val_loss: nan - val_accuracy: 0.0000e+00\n",
      "Epoch 11/100\n",
      "10/10 [==============================] - 1s 122ms/step - loss: nan - accuracy: 3.9063e-04 - val_loss: nan - val_accuracy: 0.0000e+00\n",
      "Epoch 12/100\n",
      "10/10 [==============================] - 1s 116ms/step - loss: nan - accuracy: 1.6741e-04 - val_loss: nan - val_accuracy: 0.0000e+00\n",
      "Epoch 13/100\n",
      "10/10 [==============================] - 1s 120ms/step - loss: nan - accuracy: 2.7902e-04 - val_loss: nan - val_accuracy: 0.0000e+00\n",
      "Epoch 14/100\n",
      "10/10 [==============================] - 1s 108ms/step - loss: nan - accuracy: 3.9063e-04 - val_loss: nan - val_accuracy: 0.0000e+00\n",
      "Epoch 15/100\n",
      "10/10 [==============================] - 1s 102ms/step - loss: nan - accuracy: 1.6741e-04 - val_loss: nan - val_accuracy: 0.0000e+00\n",
      "Epoch 16/100\n",
      "10/10 [==============================] - 2s 167ms/step - loss: nan - accuracy: 2.2321e-04 - val_loss: nan - val_accuracy: 0.0000e+00\n",
      "Epoch 17/100\n",
      "10/10 [==============================] - 1s 123ms/step - loss: nan - accuracy: 1.6741e-04 - val_loss: nan - val_accuracy: 0.0000e+00\n",
      "Epoch 18/100\n",
      "10/10 [==============================] - 1s 129ms/step - loss: nan - accuracy: 3.3482e-04 - val_loss: nan - val_accuracy: 0.0000e+00\n",
      "Epoch 19/100\n",
      "10/10 [==============================] - 1s 117ms/step - loss: nan - accuracy: 1.6741e-04 - val_loss: nan - val_accuracy: 0.0000e+00\n",
      "Epoch 20/100\n",
      "10/10 [==============================] - 1s 104ms/step - loss: nan - accuracy: 2.2321e-04 - val_loss: nan - val_accuracy: 0.0000e+00\n",
      "Epoch 21/100\n",
      "10/10 [==============================] - 1s 130ms/step - loss: nan - accuracy: 2.2321e-04 - val_loss: nan - val_accuracy: 0.0000e+00\n",
      "Epoch 22/100\n",
      "10/10 [==============================] - 1s 94ms/step - loss: nan - accuracy: 2.2321e-04 - val_loss: nan - val_accuracy: 0.0000e+00\n",
      "Epoch 23/100\n",
      "10/10 [==============================] - 1s 108ms/step - loss: nan - accuracy: 2.2321e-04 - val_loss: nan - val_accuracy: 0.0000e+00\n",
      "Epoch 24/100\n",
      "10/10 [==============================] - 1s 85ms/step - loss: nan - accuracy: 2.2321e-04 - val_loss: nan - val_accuracy: 0.0000e+00\n",
      "Epoch 25/100\n",
      "10/10 [==============================] - 1s 95ms/step - loss: nan - accuracy: 3.9063e-04 - val_loss: nan - val_accuracy: 0.0000e+00\n",
      "Epoch 26/100\n",
      "10/10 [==============================] - 1s 92ms/step - loss: nan - accuracy: 5.5804e-05 - val_loss: nan - val_accuracy: 0.0000e+00\n",
      "Epoch 27/100\n",
      "10/10 [==============================] - 1s 96ms/step - loss: nan - accuracy: 1.6741e-04 - val_loss: nan - val_accuracy: 0.0000e+00\n",
      "Epoch 28/100\n",
      "10/10 [==============================] - 1s 99ms/step - loss: nan - accuracy: 1.6741e-04 - val_loss: nan - val_accuracy: 0.0000e+00\n",
      "Epoch 29/100\n",
      "10/10 [==============================] - 1s 109ms/step - loss: nan - accuracy: 1.6741e-04 - val_loss: nan - val_accuracy: 0.0000e+00\n",
      "Epoch 30/100\n",
      "10/10 [==============================] - 1s 112ms/step - loss: nan - accuracy: 5.5804e-05 - val_loss: nan - val_accuracy: 0.0000e+00\n",
      "Epoch 31/100\n",
      "10/10 [==============================] - 1s 98ms/step - loss: nan - accuracy: 4.4643e-04 - val_loss: nan - val_accuracy: 0.0000e+00\n",
      "Epoch 32/100\n",
      "10/10 [==============================] - 1s 102ms/step - loss: nan - accuracy: 2.2321e-04 - val_loss: nan - val_accuracy: 0.0000e+00\n",
      "Epoch 33/100\n",
      "10/10 [==============================] - 1s 137ms/step - loss: nan - accuracy: 3.3482e-04 - val_loss: nan - val_accuracy: 0.0000e+00\n",
      "Epoch 34/100\n",
      "10/10 [==============================] - 1s 90ms/step - loss: nan - accuracy: 1.6741e-04 - val_loss: nan - val_accuracy: 0.0000e+00\n",
      "Epoch 35/100\n",
      "10/10 [==============================] - 1s 98ms/step - loss: nan - accuracy: 1.6741e-04 - val_loss: nan - val_accuracy: 0.0000e+00\n",
      "Epoch 36/100\n",
      "10/10 [==============================] - 1s 105ms/step - loss: nan - accuracy: 2.7902e-04 - val_loss: nan - val_accuracy: 0.0000e+00\n",
      "Epoch 37/100\n",
      "10/10 [==============================] - 1s 95ms/step - loss: nan - accuracy: 2.7902e-04 - val_loss: nan - val_accuracy: 0.0000e+00\n",
      "Epoch 38/100\n",
      "10/10 [==============================] - 1s 87ms/step - loss: nan - accuracy: 5.5804e-04 - val_loss: nan - val_accuracy: 0.0000e+00\n",
      "Epoch 39/100\n",
      "10/10 [==============================] - 1s 95ms/step - loss: nan - accuracy: 2.2321e-04 - val_loss: nan - val_accuracy: 0.0000e+00\n",
      "Epoch 40/100\n",
      "10/10 [==============================] - 1s 149ms/step - loss: nan - accuracy: 5.5804e-05 - val_loss: nan - val_accuracy: 0.0000e+00\n",
      "Epoch 41/100\n",
      "10/10 [==============================] - 1s 150ms/step - loss: nan - accuracy: 2.2321e-04 - val_loss: nan - val_accuracy: 0.0000e+00\n",
      "Epoch 42/100\n",
      "10/10 [==============================] - 1s 114ms/step - loss: nan - accuracy: 3.3482e-04 - val_loss: nan - val_accuracy: 0.0000e+00\n",
      "Epoch 43/100\n",
      "10/10 [==============================] - 1s 118ms/step - loss: nan - accuracy: 1.1161e-04 - val_loss: nan - val_accuracy: 0.0000e+00\n",
      "Epoch 44/100\n",
      "10/10 [==============================] - 1s 139ms/step - loss: nan - accuracy: 4.4643e-04 - val_loss: nan - val_accuracy: 0.0000e+00\n",
      "Epoch 45/100\n",
      "10/10 [==============================] - 2s 173ms/step - loss: nan - accuracy: 2.2321e-04 - val_loss: nan - val_accuracy: 0.0000e+00\n",
      "Epoch 46/100\n",
      "10/10 [==============================] - 1s 117ms/step - loss: nan - accuracy: 2.2321e-04 - val_loss: nan - val_accuracy: 0.0000e+00\n",
      "Epoch 47/100\n",
      "10/10 [==============================] - 1s 97ms/step - loss: nan - accuracy: 2.7902e-04 - val_loss: nan - val_accuracy: 0.0000e+00\n",
      "Epoch 48/100\n",
      "10/10 [==============================] - 1s 108ms/step - loss: nan - accuracy: 3.3482e-04 - val_loss: nan - val_accuracy: 0.0000e+00\n",
      "Epoch 49/100\n",
      "10/10 [==============================] - 1s 123ms/step - loss: nan - accuracy: 3.3482e-04 - val_loss: nan - val_accuracy: 0.0000e+00\n",
      "Epoch 50/100\n",
      "10/10 [==============================] - 1s 133ms/step - loss: nan - accuracy: 2.2321e-04 - val_loss: nan - val_accuracy: 0.0000e+00\n",
      "Epoch 51/100\n",
      "10/10 [==============================] - 1s 137ms/step - loss: nan - accuracy: 4.4643e-04 - val_loss: nan - val_accuracy: 0.0000e+00\n",
      "Epoch 52/100\n",
      "10/10 [==============================] - 1s 130ms/step - loss: nan - accuracy: 2.2321e-04 - val_loss: nan - val_accuracy: 0.0000e+00\n",
      "Epoch 53/100\n",
      "10/10 [==============================] - 1s 109ms/step - loss: nan - accuracy: 2.2321e-04 - val_loss: nan - val_accuracy: 0.0000e+00\n",
      "Epoch 54/100\n",
      "10/10 [==============================] - 2s 176ms/step - loss: nan - accuracy: 3.3482e-04 - val_loss: nan - val_accuracy: 0.0000e+00\n",
      "Epoch 55/100\n",
      "10/10 [==============================] - 1s 149ms/step - loss: nan - accuracy: 1.1161e-04 - val_loss: nan - val_accuracy: 0.0000e+00\n",
      "Epoch 56/100\n",
      "10/10 [==============================] - 1s 134ms/step - loss: nan - accuracy: 2.7902e-04 - val_loss: nan - val_accuracy: 0.0000e+00\n",
      "Epoch 57/100\n"
     ]
    },
    {
     "name": "stdout",
     "output_type": "stream",
     "text": [
      "10/10 [==============================] - 1s 96ms/step - loss: nan - accuracy: 5.5804e-05 - val_loss: nan - val_accuracy: 0.0000e+00\n",
      "Epoch 58/100\n",
      "10/10 [==============================] - 1s 89ms/step - loss: nan - accuracy: 2.7902e-04 - val_loss: nan - val_accuracy: 0.0000e+00\n",
      "Epoch 59/100\n",
      "10/10 [==============================] - 2s 163ms/step - loss: nan - accuracy: 4.4643e-04 - val_loss: nan - val_accuracy: 0.0000e+00\n",
      "Epoch 60/100\n",
      "10/10 [==============================] - 1s 101ms/step - loss: nan - accuracy: 1.6741e-04 - val_loss: nan - val_accuracy: 0.0000e+00\n",
      "Epoch 61/100\n",
      "10/10 [==============================] - 1s 85ms/step - loss: nan - accuracy: 3.3482e-04 - val_loss: nan - val_accuracy: 0.0000e+00\n",
      "Epoch 62/100\n",
      "10/10 [==============================] - 1s 119ms/step - loss: nan - accuracy: 2.7902e-04 - val_loss: nan - val_accuracy: 0.0000e+00\n",
      "Epoch 63/100\n",
      "10/10 [==============================] - 1s 89ms/step - loss: nan - accuracy: 2.2321e-04 - val_loss: nan - val_accuracy: 0.0000e+00\n",
      "Epoch 64/100\n",
      "10/10 [==============================] - 1s 104ms/step - loss: nan - accuracy: 3.3482e-04 - val_loss: nan - val_accuracy: 0.0000e+00\n",
      "Epoch 65/100\n",
      "10/10 [==============================] - 1s 104ms/step - loss: nan - accuracy: 1.6741e-04 - val_loss: nan - val_accuracy: 0.0000e+00\n",
      "Epoch 66/100\n",
      "10/10 [==============================] - 1s 83ms/step - loss: nan - accuracy: 5.5804e-05 - val_loss: nan - val_accuracy: 0.0000e+00\n",
      "Epoch 67/100\n",
      "10/10 [==============================] - 1s 120ms/step - loss: nan - accuracy: 2.7902e-04 - val_loss: nan - val_accuracy: 0.0000e+00\n",
      "Epoch 68/100\n",
      "10/10 [==============================] - 1s 90ms/step - loss: nan - accuracy: 1.6741e-04 - val_loss: nan - val_accuracy: 0.0000e+00\n",
      "Epoch 69/100\n",
      "10/10 [==============================] - 1s 84ms/step - loss: nan - accuracy: 1.6741e-04 - val_loss: nan - val_accuracy: 0.0000e+00\n",
      "Epoch 70/100\n",
      "10/10 [==============================] - 2s 173ms/step - loss: nan - accuracy: 1.1161e-04 - val_loss: nan - val_accuracy: 0.0000e+00\n",
      "Epoch 71/100\n",
      "10/10 [==============================] - 2s 179ms/step - loss: nan - accuracy: 3.3482e-04 - val_loss: nan - val_accuracy: 0.0000e+00\n",
      "Epoch 72/100\n",
      "10/10 [==============================] - 1s 82ms/step - loss: nan - accuracy: 5.5804e-05 - val_loss: nan - val_accuracy: 0.0000e+00\n",
      "Epoch 73/100\n",
      "10/10 [==============================] - 1s 97ms/step - loss: nan - accuracy: 2.2321e-04 - val_loss: nan - val_accuracy: 0.0000e+00\n",
      "Epoch 74/100\n",
      "10/10 [==============================] - 1s 79ms/step - loss: nan - accuracy: 3.3482e-04 - val_loss: nan - val_accuracy: 0.0000e+00\n",
      "Epoch 75/100\n",
      "10/10 [==============================] - 1s 131ms/step - loss: nan - accuracy: 1.6741e-04 - val_loss: nan - val_accuracy: 0.0000e+00\n",
      "Epoch 76/100\n",
      "10/10 [==============================] - 2s 180ms/step - loss: nan - accuracy: 3.3482e-04 - val_loss: nan - val_accuracy: 0.0000e+00\n",
      "Epoch 77/100\n",
      "10/10 [==============================] - 1s 95ms/step - loss: nan - accuracy: 2.7902e-04 - val_loss: nan - val_accuracy: 0.0000e+00\n",
      "Epoch 78/100\n",
      "10/10 [==============================] - 1s 81ms/step - loss: nan - accuracy: 2.7902e-04 - val_loss: nan - val_accuracy: 0.0000e+00\n",
      "Epoch 79/100\n",
      "10/10 [==============================] - 1s 88ms/step - loss: nan - accuracy: 2.7902e-04 - val_loss: nan - val_accuracy: 0.0000e+00\n",
      "Epoch 80/100\n",
      "10/10 [==============================] - 1s 91ms/step - loss: nan - accuracy: 1.6741e-04 - val_loss: nan - val_accuracy: 0.0000e+00\n",
      "Epoch 81/100\n",
      "10/10 [==============================] - 2s 192ms/step - loss: nan - accuracy: 4.4643e-04 - val_loss: nan - val_accuracy: 0.0000e+00\n",
      "Epoch 82/100\n",
      "10/10 [==============================] - 1s 123ms/step - loss: nan - accuracy: 3.9063e-04 - val_loss: nan - val_accuracy: 0.0000e+00\n",
      "Epoch 83/100\n",
      "10/10 [==============================] - 1s 91ms/step - loss: nan - accuracy: 1.6741e-04 - val_loss: nan - val_accuracy: 0.0000e+00\n",
      "Epoch 84/100\n",
      "10/10 [==============================] - 2s 160ms/step - loss: nan - accuracy: 1.1161e-04 - val_loss: nan - val_accuracy: 0.0000e+00\n",
      "Epoch 85/100\n",
      "10/10 [==============================] - 1s 134ms/step - loss: nan - accuracy: 3.9063e-04 - val_loss: nan - val_accuracy: 0.0000e+00\n",
      "Epoch 86/100\n",
      "10/10 [==============================] - 2s 166ms/step - loss: nan - accuracy: 1.6741e-04 - val_loss: nan - val_accuracy: 0.0000e+00\n",
      "Epoch 87/100\n",
      "10/10 [==============================] - 1s 147ms/step - loss: nan - accuracy: 4.4643e-04 - val_loss: nan - val_accuracy: 0.0000e+00\n",
      "Epoch 88/100\n",
      "10/10 [==============================] - 2s 154ms/step - loss: nan - accuracy: 5.5804e-05 - val_loss: nan - val_accuracy: 0.0000e+00\n",
      "Epoch 89/100\n",
      "10/10 [==============================] - 1s 138ms/step - loss: nan - accuracy: 2.2321e-04 - val_loss: nan - val_accuracy: 0.0000e+00\n",
      "Epoch 90/100\n",
      "10/10 [==============================] - 2s 183ms/step - loss: nan - accuracy: 2.7902e-04 - val_loss: nan - val_accuracy: 0.0000e+00\n",
      "Epoch 91/100\n",
      "10/10 [==============================] - 1s 105ms/step - loss: nan - accuracy: 4.4643e-04 - val_loss: nan - val_accuracy: 0.0000e+00\n",
      "Epoch 92/100\n",
      "10/10 [==============================] - 1s 133ms/step - loss: nan - accuracy: 1.6741e-04 - val_loss: nan - val_accuracy: 0.0000e+00\n",
      "Epoch 93/100\n",
      "10/10 [==============================] - 1s 96ms/step - loss: nan - accuracy: 2.7902e-04 - val_loss: nan - val_accuracy: 0.0000e+00\n",
      "Epoch 94/100\n",
      "10/10 [==============================] - 1s 99ms/step - loss: nan - accuracy: 3.3482e-04 - val_loss: nan - val_accuracy: 0.0000e+00\n",
      "Epoch 95/100\n",
      "10/10 [==============================] - 1s 86ms/step - loss: nan - accuracy: 2.7902e-04 - val_loss: nan - val_accuracy: 0.0000e+00\n",
      "Epoch 96/100\n",
      "10/10 [==============================] - 1s 108ms/step - loss: nan - accuracy: 1.6741e-04 - val_loss: nan - val_accuracy: 0.0000e+00\n",
      "Epoch 97/100\n",
      "10/10 [==============================] - 1s 86ms/step - loss: nan - accuracy: 3.9063e-04 - val_loss: nan - val_accuracy: 0.0000e+00\n",
      "Epoch 98/100\n",
      "10/10 [==============================] - 1s 87ms/step - loss: nan - accuracy: 2.7902e-04 - val_loss: nan - val_accuracy: 0.0000e+00\n",
      "Epoch 99/100\n",
      "10/10 [==============================] - 1s 105ms/step - loss: nan - accuracy: 2.2321e-04 - val_loss: nan - val_accuracy: 0.0000e+00\n",
      "Epoch 100/100\n",
      "10/10 [==============================] - 1s 104ms/step - loss: nan - accuracy: 2.7902e-04 - val_loss: nan - val_accuracy: 0.0000e+00\n"
     ]
    }
   ],
   "source": [
    "history = model.fit(x=generator,\n",
    "          epochs=100,\n",
    "          steps_per_epoch=10,validation_data=validation_data)"
   ]
  },
  {
   "cell_type": "code",
   "execution_count": 21,
   "metadata": {},
   "outputs": [
    {
     "data": {
      "image/png": "[encoded data removed]",
      "text/plain": [
       "<Figure size 432x288 with 1 Axes>"
      ]
     },
     "metadata": {
      "needs_background": "light"
     },
     "output_type": "display_data"
    }
   ],
   "source": [
    "# plot history\n",
    "plt.plot(history.history['loss'], label='train')\n",
    "plt.plot(history.history['val_loss'], label='test')\n",
    "plt.legend()\n",
    "plt.show()"
   ]
  },
  {
   "cell_type": "code",
   "execution_count": 22,
   "metadata": {},
   "outputs": [
    {
     "data": {
      "text/plain": [
       "<function matplotlib.pyplot.show(close=None, block=None)>"
      ]
     },
     "execution_count": 22,
     "metadata": {},
     "output_type": "execute_result"
    },
    {
     "data": {
      "image/png": "[encoded data removed]",
      "text/plain": [
       "<Figure size 432x288 with 2 Axes>"
      ]
     },
     "metadata": {
      "needs_background": "light"
     },
     "output_type": "display_data"
    }
   ],
   "source": [
    "plt.subplot(211)\n",
    "#\n",
    "plt.plot(history.history['accuracy'],color=\"g\", label=\"Train\" )\n",
    "plt.plot(history.history['val_accuracy'],color=\"b\", label=\"Validation\" )\n",
    "plt.legend(loc='best')\n",
    "\n",
    "plt.subplot(212)\n",
    "#\n",
    "plt.plot(history.history['loss'], color = 'g', label='Train')\n",
    "plt.plot(history.history['val_loss'], color = 'b', label='Validation')\n",
    "plt.legend(loc='best')\n",
    "plt.tight_layout()\n",
    "plt.show"
   ]
  },
  {
   "cell_type": "code",
   "execution_count": null,
   "metadata": {},
   "outputs": [],
   "source": []
  },
  {
   "cell_type": "code",
   "execution_count": null,
   "metadata": {},
   "outputs": [],
   "source": []
  },
  {
   "cell_type": "code",
   "execution_count": null,
   "metadata": {},
   "outputs": [],
   "source": []
  }
 ],
 "metadata": {
  "kernelspec": {
   "display_name": "Python 3",
   "language": "python",
   "name": "python3"
  },
  "language_info": {
   "codemirror_mode": {
    "name": "ipython",
    "version": 3
   },
   "file_extension": ".py",
   "mimetype": "text/x-python",
   "name": "python",
   "nbconvert_exporter": "python",
   "pygments_lexer": "ipython3",
   "version": "3.8.5"
  }
 },
 "nbformat": 4,
 "nbformat_minor": 2
}
