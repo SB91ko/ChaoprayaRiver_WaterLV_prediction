{
 "metadata": {
  "language_info": {
   "codemirror_mode": {
    "name": "ipython",
    "version": 3
   },
   "file_extension": ".py",
   "mimetype": "text/x-python",
   "name": "python",
   "nbconvert_exporter": "python",
   "pygments_lexer": "ipython3",
   "version": "3.8.5-final"
  },
  "orig_nbformat": 2,
  "kernelspec": {
   "name": "python3",
   "display_name": "Python 3"
  }
 },
 "nbformat": 4,
 "nbformat_minor": 2,
 "cells": [
  {
   "cell_type": "code",
   "execution_count": 19,
   "metadata": {},
   "outputs": [],
   "source": [
    "from DLtools.Data_preprocess import series_to_supervised,load_data\n",
    "import numpy as np\n",
    "import seaborn as sns\n",
    "import matplotlib.pyplot as plt\n",
    "from sklearn.decomposition import PCA\n",
    "\n",
    "sns.set_theme(color_codes=True)"
   ]
  },
  {
   "cell_type": "code",
   "execution_count": 3,
   "metadata": {},
   "outputs": [
    {
     "output_type": "stream",
     "name": "stdout",
     "text": [
      "DataFrame shape: (833425, 1245)\n"
     ]
    }
   ],
   "source": [
    "#r='data/instant_data/rain_small.csv'\n",
    "#w='data/instant_data/water_small.csv'\n",
    "r = \"data/instant_data/rain.csv\"\n",
    "w = 'data/instant_data/water.csv'\n",
    "rw = load_data(r,w)\n",
    "df =rw.df.resample('d').mean()"
   ]
  },
  {
   "cell_type": "code",
   "execution_count": 22,
   "metadata": {},
   "outputs": [],
   "source": [
    "TARGET = 'CPY015_w'\n",
    "## Period 2013-2015 ##\n",
    "data = df.interpolate(limit=100)\n",
    "data = data.astype('float32')\n",
    "X = data.drop([TARGET],axis=1)\n",
    "Y = data[TARGET]\n"
   ]
  },
  {
   "cell_type": "code",
   "execution_count": 23,
   "metadata": {},
   "outputs": [
    {
     "output_type": "execute_result",
     "data": {
      "text/plain": [
       "            ACRU_r       ANLI_r       BAKI_r       BARI_r       BBHN_r  \\\n",
       "count  4710.000000  3395.000000  3351.000000  4676.000000  3830.000000   \n",
       "mean      2.965394     1.887838     2.352617     2.762536     7.258612   \n",
       "std       8.986973     6.664802     7.781696     7.884678    15.962601   \n",
       "min       0.000000     0.000000     0.000000     0.000000     0.000000   \n",
       "25%       0.000000     0.000000     0.000000     0.000000     0.000000   \n",
       "50%       0.000000     0.000000     0.000000     0.000000     0.200000   \n",
       "75%       0.400000     0.400000     0.400000     1.200000     6.000000   \n",
       "max     113.199997   116.199997   132.399994    99.400002   216.199997   \n",
       "\n",
       "            BBON_r       BBUA_r       BBWN_r       BCAP_r       BCNG_r  ...  \\\n",
       "count  3795.000000  3423.000000  3710.000000  4241.000000  4880.000000  ...   \n",
       "mean      1.956862     2.611569    10.124572     1.610248     2.177399  ...   \n",
       "std       6.567004     9.256985    19.513187     5.894896     7.562039  ...   \n",
       "min       0.000000     0.000000     0.000000     0.000000     0.000000  ...   \n",
       "25%       0.000000     0.000000     0.000000     0.000000     0.000000  ...   \n",
       "50%       0.000000     0.000000     1.200000     0.000000     0.000000  ...   \n",
       "75%       0.400000     0.200000    10.987123     0.539535     0.200000  ...   \n",
       "max      91.800003   139.199997   190.000000   145.199997   105.599998  ...   \n",
       "\n",
       "          YOM003_w     YOM004_w     YOM005_w     YOM006_w     YOM007_w  \\\n",
       "count  3066.000000  3144.000000  3032.000000  3112.000000  3191.000000   \n",
       "mean    154.764374   138.728851    60.844395    48.712605    39.461407   \n",
       "std       0.475266     0.999900     1.821152     1.806916     2.566132   \n",
       "min     154.077148   136.187424    57.445488    46.335693    34.077568   \n",
       "25%     154.458252   138.178192    60.019768    47.427528    37.614937   \n",
       "50%     154.687225   138.570221    60.817631    48.295494    40.088951   \n",
       "75%     154.924011   139.034195    61.731995    49.450783    41.057007   \n",
       "max     158.374863   144.692566    68.279305    57.630695    44.171806   \n",
       "\n",
       "          YOM008_w     YOM009_w     YOM010_w     YOM011_w     YOM012_w  \n",
       "count  3024.000000  3303.000000  2671.000000  2298.000000  2762.000000  \n",
       "mean     33.844242    28.070932   144.405090   268.989136    45.235947  \n",
       "std       2.639410     2.237192     1.355627     0.300568     2.006775  \n",
       "min      29.594999    23.469999   143.247147   267.844086    42.772293  \n",
       "25%      31.964466    26.342396   143.771393   268.801758    43.267399  \n",
       "50%      33.257484    27.161428   143.992081   268.994171    44.881104  \n",
       "75%      35.751381    29.599895   144.313171   269.179962    46.825325  \n",
       "max      41.346302    33.845833   154.279999   269.911316    51.953777  \n",
       "\n",
       "[8 rows x 1244 columns]"
      ],
      "text/html": "<div>\n<style scoped>\n    .dataframe tbody tr th:only-of-type {\n        vertical-align: middle;\n    }\n\n    .dataframe tbody tr th {\n        vertical-align: top;\n    }\n\n    .dataframe thead th {\n        text-align: right;\n    }\n</style>\n<table border=\"1\" class=\"dataframe\">\n  <thead>\n    <tr style=\"text-align: right;\">\n      <th></th>\n      <th>ACRU_r</th>\n      <th>ANLI_r</th>\n      <th>BAKI_r</th>\n      <th>BARI_r</th>\n      <th>BBHN_r</th>\n      <th>BBON_r</th>\n      <th>BBUA_r</th>\n      <th>BBWN_r</th>\n      <th>BCAP_r</th>\n      <th>BCNG_r</th>\n      <th>...</th>\n      <th>YOM003_w</th>\n      <th>YOM004_w</th>\n      <th>YOM005_w</th>\n      <th>YOM006_w</th>\n      <th>YOM007_w</th>\n      <th>YOM008_w</th>\n      <th>YOM009_w</th>\n      <th>YOM010_w</th>\n      <th>YOM011_w</th>\n      <th>YOM012_w</th>\n    </tr>\n  </thead>\n  <tbody>\n    <tr>\n      <th>count</th>\n      <td>4710.000000</td>\n      <td>3395.000000</td>\n      <td>3351.000000</td>\n      <td>4676.000000</td>\n      <td>3830.000000</td>\n      <td>3795.000000</td>\n      <td>3423.000000</td>\n      <td>3710.000000</td>\n      <td>4241.000000</td>\n      <td>4880.000000</td>\n      <td>...</td>\n      <td>3066.000000</td>\n      <td>3144.000000</td>\n      <td>3032.000000</td>\n      <td>3112.000000</td>\n      <td>3191.000000</td>\n      <td>3024.000000</td>\n      <td>3303.000000</td>\n      <td>2671.000000</td>\n      <td>2298.000000</td>\n      <td>2762.000000</td>\n    </tr>\n    <tr>\n      <th>mean</th>\n      <td>2.965394</td>\n      <td>1.887838</td>\n      <td>2.352617</td>\n      <td>2.762536</td>\n      <td>7.258612</td>\n      <td>1.956862</td>\n      <td>2.611569</td>\n      <td>10.124572</td>\n      <td>1.610248</td>\n      <td>2.177399</td>\n      <td>...</td>\n      <td>154.764374</td>\n      <td>138.728851</td>\n      <td>60.844395</td>\n      <td>48.712605</td>\n      <td>39.461407</td>\n      <td>33.844242</td>\n      <td>28.070932</td>\n      <td>144.405090</td>\n      <td>268.989136</td>\n      <td>45.235947</td>\n    </tr>\n    <tr>\n      <th>std</th>\n      <td>8.986973</td>\n      <td>6.664802</td>\n      <td>7.781696</td>\n      <td>7.884678</td>\n      <td>15.962601</td>\n      <td>6.567004</td>\n      <td>9.256985</td>\n      <td>19.513187</td>\n      <td>5.894896</td>\n      <td>7.562039</td>\n      <td>...</td>\n      <td>0.475266</td>\n      <td>0.999900</td>\n      <td>1.821152</td>\n      <td>1.806916</td>\n      <td>2.566132</td>\n      <td>2.639410</td>\n      <td>2.237192</td>\n      <td>1.355627</td>\n      <td>0.300568</td>\n      <td>2.006775</td>\n    </tr>\n    <tr>\n      <th>min</th>\n      <td>0.000000</td>\n      <td>0.000000</td>\n      <td>0.000000</td>\n      <td>0.000000</td>\n      <td>0.000000</td>\n      <td>0.000000</td>\n      <td>0.000000</td>\n      <td>0.000000</td>\n      <td>0.000000</td>\n      <td>0.000000</td>\n      <td>...</td>\n      <td>154.077148</td>\n      <td>136.187424</td>\n      <td>57.445488</td>\n      <td>46.335693</td>\n      <td>34.077568</td>\n      <td>29.594999</td>\n      <td>23.469999</td>\n      <td>143.247147</td>\n      <td>267.844086</td>\n      <td>42.772293</td>\n    </tr>\n    <tr>\n      <th>25%</th>\n      <td>0.000000</td>\n      <td>0.000000</td>\n      <td>0.000000</td>\n      <td>0.000000</td>\n      <td>0.000000</td>\n      <td>0.000000</td>\n      <td>0.000000</td>\n      <td>0.000000</td>\n      <td>0.000000</td>\n      <td>0.000000</td>\n      <td>...</td>\n      <td>154.458252</td>\n      <td>138.178192</td>\n      <td>60.019768</td>\n      <td>47.427528</td>\n      <td>37.614937</td>\n      <td>31.964466</td>\n      <td>26.342396</td>\n      <td>143.771393</td>\n      <td>268.801758</td>\n      <td>43.267399</td>\n    </tr>\n    <tr>\n      <th>50%</th>\n      <td>0.000000</td>\n      <td>0.000000</td>\n      <td>0.000000</td>\n      <td>0.000000</td>\n      <td>0.200000</td>\n      <td>0.000000</td>\n      <td>0.000000</td>\n      <td>1.200000</td>\n      <td>0.000000</td>\n      <td>0.000000</td>\n      <td>...</td>\n      <td>154.687225</td>\n      <td>138.570221</td>\n      <td>60.817631</td>\n      <td>48.295494</td>\n      <td>40.088951</td>\n      <td>33.257484</td>\n      <td>27.161428</td>\n      <td>143.992081</td>\n      <td>268.994171</td>\n      <td>44.881104</td>\n    </tr>\n    <tr>\n      <th>75%</th>\n      <td>0.400000</td>\n      <td>0.400000</td>\n      <td>0.400000</td>\n      <td>1.200000</td>\n      <td>6.000000</td>\n      <td>0.400000</td>\n      <td>0.200000</td>\n      <td>10.987123</td>\n      <td>0.539535</td>\n      <td>0.200000</td>\n      <td>...</td>\n      <td>154.924011</td>\n      <td>139.034195</td>\n      <td>61.731995</td>\n      <td>49.450783</td>\n      <td>41.057007</td>\n      <td>35.751381</td>\n      <td>29.599895</td>\n      <td>144.313171</td>\n      <td>269.179962</td>\n      <td>46.825325</td>\n    </tr>\n    <tr>\n      <th>max</th>\n      <td>113.199997</td>\n      <td>116.199997</td>\n      <td>132.399994</td>\n      <td>99.400002</td>\n      <td>216.199997</td>\n      <td>91.800003</td>\n      <td>139.199997</td>\n      <td>190.000000</td>\n      <td>145.199997</td>\n      <td>105.599998</td>\n      <td>...</td>\n      <td>158.374863</td>\n      <td>144.692566</td>\n      <td>68.279305</td>\n      <td>57.630695</td>\n      <td>44.171806</td>\n      <td>41.346302</td>\n      <td>33.845833</td>\n      <td>154.279999</td>\n      <td>269.911316</td>\n      <td>51.953777</td>\n    </tr>\n  </tbody>\n</table>\n<p>8 rows × 1244 columns</p>\n</div>"
     },
     "metadata": {},
     "execution_count": 23
    }
   ],
   "source": [
    "X.describe()"
   ]
  },
  {
   "cell_type": "code",
   "execution_count": 24,
   "metadata": {},
   "outputs": [],
   "source": [
    "#sns.regplot(x=col, y=TARGET, data=data)"
   ]
  },
  {
   "source": [
    "# PCA"
   ],
   "cell_type": "markdown",
   "metadata": {}
  },
  {
   "cell_type": "code",
   "execution_count": 27,
   "metadata": {},
   "outputs": [
    {
     "output_type": "stream",
     "name": "stdout",
     "text": [
      "Explained Variance: [0.9736608  0.01152177 0.00993634]\n[[-4.1246414e-05 -8.4116091e-06 -2.3505754e-05 ...  1.0054033e-03\n   2.1907007e-03  3.0115023e-04]\n [ 1.0441223e-03 -7.1148440e-04 -5.3408125e-04 ... -5.3537533e-02\n  -8.8663287e-02 -1.7390614e-02]\n [-1.7608209e-04  6.3814566e-04  1.0074372e-03 ...  4.3485038e-02\n   7.2638005e-02  1.4026653e-02]]\n"
     ]
    }
   ],
   "source": [
    "pca = PCA(n_components=3)\n",
    "fit = pca.fit(X.fillna(0))\n",
    "# summarize components\n",
    "print(\"Explained Variance: %s\" % fit.explained_variance_ratio_)\n",
    "print(fit.components_)"
   ]
  },
  {
   "cell_type": "code",
   "execution_count": null,
   "metadata": {},
   "outputs": [],
   "source": []
  }
 ]
}