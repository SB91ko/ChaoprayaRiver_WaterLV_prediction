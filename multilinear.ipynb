{
 "metadata": {
  "language_info": {
   "codemirror_mode": {
    "name": "ipython",
    "version": 3
   },
   "file_extension": ".py",
   "mimetype": "text/x-python",
   "name": "python",
   "nbconvert_exporter": "python",
   "pygments_lexer": "ipython3",
   "version": "3.8.5-final"
  },
  "orig_nbformat": 2,
  "kernelspec": {
   "name": "Python 3.8.5 64-bit ('tf': conda)",
   "display_name": "Python 3.8.5 64-bit ('tf': conda)",
   "metadata": {
    "interpreter": {
     "hash": "30e71f98af9d092687d9f3636d92b549010489880ec7eaafd96aabc2d4f89734"
    }
   }
  }
 },
 "nbformat": 4,
 "nbformat_minor": 2,
 "cells": [
  {
   "cell_type": "code",
   "execution_count": 1,
   "metadata": {},
   "outputs": [],
   "source": [
    "import pandas as pd\n",
    "import numpy as np\n",
    "import matplotlib.pyplot as plt\n",
    "%matplotlib inline"
   ]
  },
  {
   "cell_type": "code",
   "execution_count": 2,
   "metadata": {},
   "outputs": [],
   "source": [
    "from DLtools import  prep_data,TSmodel\n",
    "np.random.seed(24)"
   ]
  },
  {
   "cell_type": "code",
   "execution_count": 3,
   "metadata": {},
   "outputs": [],
   "source": [
    "from sklearn import linear_model\n",
    "import statsmodels.api as sm"
   ]
  },
  {
   "cell_type": "code",
   "execution_count": 4,
   "metadata": {},
   "outputs": [],
   "source": [
    "rain = 'data/instant_data/rain.csv'\n",
    "water = 'data/instant_data/water.csv'\n",
    "\n",
    "bkk = 'CPY015_w' # target station\n",
    "\n",
    "# select from 2013 due to missing data issue\n",
    "start = '2019-01-01'\n",
    "stop = '2020-01-01'\n",
    "rw = prep_data.instant_df(rain_csv=rain,water_csv=water,start=start,stop=stop)\n",
    "\n",
    "df = rw.df\n",
    "col_w,col_r = rw.only_related()\n"
   ]
  },
  {
   "cell_type": "code",
   "execution_count": 5,
   "metadata": {},
   "outputs": [],
   "source": [
    "def report_missing_by_station(df,col):\n",
    "    nan_ratio = 0.15\n",
    "    print(col,'\\n')\n",
    "    print(\"***From current station {} list below, find and discard station that too much missingdata \\n\".format(len(col)))\n",
    "    print(\"missing data over {}%, as below\".format(nan_ratio*100))\n",
    "    for _col in df:   \n",
    "        num_nan = df[_col].isnull().sum()\n",
    "        num_total = df.shape[0]\n",
    "        if num_nan/num_total > nan_ratio:\n",
    "            try:\n",
    "                col.remove(_col)\n",
    "            except:\n",
    "                pass\n",
    "        else:\n",
    "            print(\"REMAIN Station name {}, ,missing......{} (..{:.2f}%)\".format(_col,num_nan,num_nan*100/num_total))\n",
    "    print(\"total data points\",num_total)\n",
    "    print(\"remain .......{}...station\".format(len(col)))\n",
    "    print(col)\n",
    "    return col"
   ]
  },
  {
   "cell_type": "code",
   "execution_count": 6,
   "metadata": {},
   "outputs": [
    {
     "output_type": "stream",
     "name": "stdout",
     "text": [
      "['CHM004_w', 'BKK018_w', 'BKK004_w', 'NAN011_w', 'NAN003_w', 'CPY015_w', 'DIV003_w', 'NAN013_w', 'NAN002_w', 'NAN006_w', 'NAN009_w', 'THA001_w', 'CPY002_w', 'GLF001_w', 'NAN010_w', 'TBW008_w', 'CPY005_w', 'VLGE12_w', 'CPY012_w', 'CPY006_w', 'CPY017_w', 'CPY013_w', 'PIN003_w', 'LBI001_w', 'CPY007_w', 'PIN004_w', 'THA002_w', 'PIN005_w', 'BKK019_w', 'CPY004_w', 'DIV005_w', 'NAN014_w', 'CPY014_w', 'LBI002_w', 'TB0004_w', 'HDA004_w', 'BKK007_w', 'NAN005_w', 'CPY016_w', 'NAN004_w', 'BKK013_w', 'KWN002_w', 'NAN012_w', 'CPY008_w', 'TBW014_w', 'CHM001_w', 'TB0001_w', 'CPY010_w', 'CPY009_w', 'BKK003_w', 'TB0006_w', 'HDA005_w', 'NAN008_w', 'NAN001_w', 'BKK001_w', 'NAN007_w', 'CPY001_w', 'BKK020_w', 'CHM002_w', 'CHM006_w', 'PIN001_w', 'CHM005_w', 'CPY003_w', 'BKK002_w', 'BKK008_w', 'PIN006_w', 'KWN001_w', 'BKK005_w', 'TB0002_w', 'PIN002_w', 'BKK021_w', 'CPY011_w'] \n\n***From current station 72 list below, find and discard station that too much missingdata \n\nmissing data over 15.0%, as below\nREMAIN Station name CHM004_w, ,missing......2608 (..4.91%)\nREMAIN Station name BKK004_w, ,missing......1295 (..2.44%)\nREMAIN Station name NAN003_w, ,missing......7765 (..14.63%)\nREMAIN Station name CPY015_w, ,missing......779 (..1.47%)\nREMAIN Station name NAN013_w, ,missing......4672 (..8.80%)\nREMAIN Station name NAN006_w, ,missing......2034 (..3.83%)\nREMAIN Station name NAN009_w, ,missing......3469 (..6.54%)\nREMAIN Station name THA001_w, ,missing......1231 (..2.32%)\nREMAIN Station name GLF001_w, ,missing......1464 (..2.76%)\nREMAIN Station name CPY005_w, ,missing......4530 (..8.54%)\nREMAIN Station name VLGE12_w, ,missing......1402 (..2.64%)\nREMAIN Station name CPY006_w, ,missing......6678 (..12.58%)\nREMAIN Station name CPY013_w, ,missing......3767 (..7.10%)\nREMAIN Station name THA002_w, ,missing......1042 (..1.96%)\nREMAIN Station name PIN005_w, ,missing......2839 (..5.35%)\nREMAIN Station name BKK019_w, ,missing......1750 (..3.30%)\nREMAIN Station name CPY004_w, ,missing......1697 (..3.20%)\nREMAIN Station name DIV005_w, ,missing......1694 (..3.19%)\nREMAIN Station name CPY014_w, ,missing......6788 (..12.79%)\nREMAIN Station name LBI002_w, ,missing......4038 (..7.61%)\nREMAIN Station name TB0004_w, ,missing......2106 (..3.97%)\nREMAIN Station name HDA004_w, ,missing......2386 (..4.50%)\nREMAIN Station name BKK007_w, ,missing......1271 (..2.39%)\nREMAIN Station name CPY016_w, ,missing......1437 (..2.71%)\nREMAIN Station name BKK013_w, ,missing......1387 (..2.61%)\nREMAIN Station name KWN002_w, ,missing......1529 (..2.88%)\nREMAIN Station name NAN012_w, ,missing......1585 (..2.99%)\nREMAIN Station name CPY008_w, ,missing......3017 (..5.68%)\nREMAIN Station name TBW014_w, ,missing......4048 (..7.63%)\nREMAIN Station name CHM001_w, ,missing......2001 (..3.77%)\nREMAIN Station name CPY010_w, ,missing......1112 (..2.10%)\nREMAIN Station name CPY009_w, ,missing......2606 (..4.91%)\nREMAIN Station name BKK003_w, ,missing......2609 (..4.92%)\nREMAIN Station name TB0006_w, ,missing......1760 (..3.32%)\nREMAIN Station name HDA005_w, ,missing......2386 (..4.50%)\nREMAIN Station name NAN008_w, ,missing......5885 (..11.09%)\nREMAIN Station name NAN001_w, ,missing......800 (..1.51%)\nREMAIN Station name BKK001_w, ,missing......2028 (..3.82%)\nREMAIN Station name CPY001_w, ,missing......5788 (..10.91%)\nREMAIN Station name CHM002_w, ,missing......2850 (..5.37%)\nREMAIN Station name CHM006_w, ,missing......5408 (..10.19%)\nREMAIN Station name PIN001_w, ,missing......5455 (..10.28%)\nREMAIN Station name CPY003_w, ,missing......1616 (..3.05%)\nREMAIN Station name BKK008_w, ,missing......3350 (..6.31%)\nREMAIN Station name BKK005_w, ,missing......2901 (..5.47%)\nREMAIN Station name TB0002_w, ,missing......1642 (..3.09%)\nREMAIN Station name CPY011_w, ,missing......892 (..1.68%)\ntotal data points 53070\nremain .......47...station\n['CHM004_w', 'BKK004_w', 'NAN003_w', 'CPY015_w', 'NAN013_w', 'NAN006_w', 'NAN009_w', 'THA001_w', 'GLF001_w', 'CPY005_w', 'VLGE12_w', 'CPY006_w', 'CPY013_w', 'THA002_w', 'PIN005_w', 'BKK019_w', 'CPY004_w', 'DIV005_w', 'CPY014_w', 'LBI002_w', 'TB0004_w', 'HDA004_w', 'BKK007_w', 'CPY016_w', 'BKK013_w', 'KWN002_w', 'NAN012_w', 'CPY008_w', 'TBW014_w', 'CHM001_w', 'CPY010_w', 'CPY009_w', 'BKK003_w', 'TB0006_w', 'HDA005_w', 'NAN008_w', 'NAN001_w', 'BKK001_w', 'CPY001_w', 'CHM002_w', 'CHM006_w', 'PIN001_w', 'CPY003_w', 'BKK008_w', 'BKK005_w', 'TB0002_w', 'CPY011_w']\n['BKK020_r', 'NAN012_r', 'BKK019_r', 'NAN013_r', 'PIN004_r', 'KWN001_r', 'CPY016_r', 'TBW014_r', 'HDA004_r', 'VLGE11_r', 'NAN009_r', 'PIN003_r', 'BKK001_r', 'BKK003_r', 'NAN006_r', 'BKK013_r', 'CPY009_r', 'CPY004_r', 'CPY013_r', 'NAN010_r', 'TB0006_r', 'TB0002_r', 'PIN005_r', 'CPY015_r', 'NAN001_r', 'TB0004_r', 'CPY006_r', 'CPY011_r', 'DIV005_r', 'CHM006_r', 'VLGE04_r', 'FOP001_r', 'NAN007_r', 'LBI002_r', 'CPY002_r', 'VLGE15_r', 'VLGE12_r', 'CPY003_r', 'NAN002_r', 'TB0005_r', 'CPY001_r', 'NAN014_r', 'VLGE19_r', 'BKK005_r', 'CHM001_r', 'LBI001_r', 'NAN003_r', 'CHM004_r', 'THA001_r', 'TBR012_r', 'CPY008_r', 'NAN008_r', 'BKK018_r', 'CPY010_r', 'HDA005_r', 'CPY014_r', 'KWN002_r', 'CHM005_r', 'TB0001_r', 'VLGE25_r', 'BKK004_r', 'CPY017_r', 'BKK021_r', 'PIN001_r', 'NAN005_r', 'CPY005_r', 'DIV003_r', 'CHM002_r', 'TBR013_r', 'TB0007_r', 'TBW008_r', 'NAN004_r', 'BKK002_r', 'NAN011_r', 'BKK007_r', 'GLF001_r', 'PIN006_r', 'CPY012_r', 'BKK008_r', 'CPY007_r', 'PIN002_r', 'VLGE06_r', 'THA002_r'] \n\n***From current station 83 list below, find and discard station that too much missingdata \n\nmissing data over 15.0%, as below\nREMAIN Station name CHM004_w, ,missing......2608 (..4.91%)\nREMAIN Station name BKK004_w, ,missing......1295 (..2.44%)\nREMAIN Station name NAN003_w, ,missing......7765 (..14.63%)\nREMAIN Station name CPY015_w, ,missing......779 (..1.47%)\nREMAIN Station name NAN013_w, ,missing......4672 (..8.80%)\nREMAIN Station name NAN006_w, ,missing......2034 (..3.83%)\nREMAIN Station name NAN009_w, ,missing......3469 (..6.54%)\nREMAIN Station name THA001_w, ,missing......1231 (..2.32%)\nREMAIN Station name GLF001_w, ,missing......1464 (..2.76%)\nREMAIN Station name CPY005_w, ,missing......4530 (..8.54%)\nREMAIN Station name VLGE12_w, ,missing......1402 (..2.64%)\nREMAIN Station name CPY006_w, ,missing......6678 (..12.58%)\nREMAIN Station name CPY013_w, ,missing......3767 (..7.10%)\nREMAIN Station name THA002_w, ,missing......1042 (..1.96%)\nREMAIN Station name PIN005_w, ,missing......2839 (..5.35%)\nREMAIN Station name BKK019_w, ,missing......1750 (..3.30%)\nREMAIN Station name CPY004_w, ,missing......1697 (..3.20%)\nREMAIN Station name DIV005_w, ,missing......1694 (..3.19%)\nREMAIN Station name CPY014_w, ,missing......6788 (..12.79%)\nREMAIN Station name LBI002_w, ,missing......4038 (..7.61%)\nREMAIN Station name TB0004_w, ,missing......2106 (..3.97%)\nREMAIN Station name HDA004_w, ,missing......2386 (..4.50%)\nREMAIN Station name BKK007_w, ,missing......1271 (..2.39%)\nREMAIN Station name CPY016_w, ,missing......1437 (..2.71%)\nREMAIN Station name BKK013_w, ,missing......1387 (..2.61%)\nREMAIN Station name KWN002_w, ,missing......1529 (..2.88%)\nREMAIN Station name NAN012_w, ,missing......1585 (..2.99%)\nREMAIN Station name CPY008_w, ,missing......3017 (..5.68%)\nREMAIN Station name TBW014_w, ,missing......4048 (..7.63%)\nREMAIN Station name CHM001_w, ,missing......2001 (..3.77%)\nREMAIN Station name CPY010_w, ,missing......1112 (..2.10%)\nREMAIN Station name CPY009_w, ,missing......2606 (..4.91%)\nREMAIN Station name BKK003_w, ,missing......2609 (..4.92%)\nREMAIN Station name TB0006_w, ,missing......1760 (..3.32%)\nREMAIN Station name HDA005_w, ,missing......2386 (..4.50%)\nREMAIN Station name NAN008_w, ,missing......5885 (..11.09%)\nREMAIN Station name NAN001_w, ,missing......800 (..1.51%)\nREMAIN Station name BKK001_w, ,missing......2028 (..3.82%)\nREMAIN Station name CPY001_w, ,missing......5788 (..10.91%)\nREMAIN Station name CHM002_w, ,missing......2850 (..5.37%)\nREMAIN Station name CHM006_w, ,missing......5408 (..10.19%)\nREMAIN Station name PIN001_w, ,missing......5455 (..10.28%)\nREMAIN Station name CPY003_w, ,missing......1616 (..3.05%)\nREMAIN Station name BKK008_w, ,missing......3350 (..6.31%)\nREMAIN Station name BKK005_w, ,missing......2901 (..5.47%)\nREMAIN Station name TB0002_w, ,missing......1642 (..3.09%)\nREMAIN Station name CPY011_w, ,missing......892 (..1.68%)\ntotal data points 53070\nremain .......0...station\n[]\n"
     ]
    },
    {
     "output_type": "execute_result",
     "data": {
      "text/plain": [
       "[]"
      ]
     },
     "metadata": {},
     "execution_count": 6
    }
   ],
   "source": [
    "report_missing_by_station(df,col_w)\n",
    "report_missing_by_station(df,col_r)"
   ]
  },
  {
   "cell_type": "code",
   "execution_count": 7,
   "metadata": {},
   "outputs": [
    {
     "output_type": "execute_result",
     "data": {
      "text/plain": [
       "(53070, 155)"
      ]
     },
     "metadata": {},
     "execution_count": 7
    }
   ],
   "source": [
    "df.shape"
   ]
  },
  {
   "cell_type": "code",
   "execution_count": 14,
   "metadata": {},
   "outputs": [],
   "source": [
    "\n",
    "X = df.resample('d').mean()\n",
    "X = X.interpolate(method='pad', limit=300)\n",
    "X = X.fillna(0)\n",
    "y = df['CPY015_w'].resample('d').mean()"
   ]
  },
  {
   "cell_type": "code",
   "execution_count": 16,
   "metadata": {},
   "outputs": [
    {
     "output_type": "stream",
     "name": "stdout",
     "text": [
      "Intercept: \n -2.320588166071502e-12\nCoefficients: \n [ 6.39627468e-15 -1.88534084e-14  1.52675182e-14  1.27671311e-14\n  3.81639165e-15  1.00000000e+00 -1.88564442e-15  2.84147705e-15\n -7.89993071e-15 -3.71230824e-15  9.13158438e-15  4.63656891e-14\n  6.41847686e-16  4.25527669e-14 -8.18789481e-16 -1.05408846e-15\n  4.44089210e-16  8.32667268e-17 -7.86697096e-15  1.04777298e-15\n -4.49640325e-15 -2.91780489e-15 -9.54965274e-15  4.12473875e-14\n -1.84088855e-14 -4.99600361e-16 -2.69922973e-15 -2.53269627e-15\n  1.37485509e-14 -4.46795378e-14  1.24900090e-16 -3.59261232e-15\n -1.29783337e-14 -9.40914013e-15  2.88657986e-15  1.63202785e-14\n  8.04131067e-14 -9.36750677e-17 -7.48099499e-15  1.42837131e-14\n  6.21031004e-15  2.52575738e-15  4.96130914e-16  2.80851731e-14\n  4.16333634e-17  6.24500451e-16  4.66814087e-15 -1.06613936e-14\n -2.32973363e-15  3.35929201e-15  2.45626002e-14 -1.63757896e-14\n -4.92661467e-15 -9.27036226e-15  8.81911731e-15  2.77555756e-17\n  8.83321194e-15 -5.12263842e-15 -1.27675648e-15  5.69336245e-15\n  6.74547224e-15  8.32667268e-17 -3.46944695e-17 -1.04083409e-16\n -1.30971622e-15 -5.82867088e-16 -3.10862447e-15  1.20584966e-14\n -8.50621656e-15  2.19615992e-15  1.82145965e-16 -5.68278063e-14\n -1.45716772e-16  2.65412692e-16 -1.52655666e-16  2.35922393e-16\n -3.05311332e-16  5.20417043e-17  1.78242837e-16 -1.04083409e-16\n  0.00000000e+00 -6.93889390e-17  1.94289029e-16  1.31838984e-16\n -2.22044605e-16 -2.77555756e-17  8.10983225e-17  4.75314232e-16\n  1.17093835e-16  1.52655666e-16  0.00000000e+00  3.74700271e-16\n  6.24500451e-17  4.16333634e-16  1.38777878e-17 -8.32667268e-17\n  1.94289029e-16  1.31838984e-16  2.42861287e-17 -5.55111512e-17\n  6.93889390e-18  1.66533454e-16  4.16333634e-17  8.32667268e-17\n  1.38777878e-17  1.17961196e-16 -1.94289029e-16  1.24900090e-16\n -2.08166817e-17  3.46944695e-16  1.66533454e-16 -1.35308431e-16\n  1.24900090e-16  5.89805982e-17 -2.08166817e-17 -4.16333634e-17\n -9.71445147e-17 -4.16333634e-17  0.00000000e+00  4.85722573e-17\n  1.28369537e-16  2.16840434e-16 -4.85722573e-17  8.32667268e-17\n -2.25514052e-16 -3.42607887e-17  8.32667268e-17 -1.66533454e-16\n  1.24900090e-16  6.93889390e-18 -2.77555756e-17  6.24500451e-17\n  1.38777878e-17 -2.22044605e-16  8.32667268e-17  1.11022302e-16\n -5.55111512e-17 -1.94289029e-16  1.24900090e-16 -1.11022302e-16\n  1.38777878e-17  1.80411242e-16  1.04083409e-16  1.11022302e-16\n -2.77555756e-17  2.77555756e-17 -8.32667268e-17  1.38777878e-17\n -1.56125113e-16  0.00000000e+00 -7.63278329e-17 -1.97758476e-16\n -2.08166817e-16  5.55111512e-17 -2.77555756e-17]\n"
     ]
    }
   ],
   "source": [
    "regr = linear_model.LinearRegression()\n",
    "regr.fit(X, y)\n",
    "print('Intercept: \\n', regr.intercept_)\n",
    "print('Coefficients: \\n', regr.coef_)"
   ]
  },
  {
   "cell_type": "code",
   "execution_count": 36,
   "metadata": {},
   "outputs": [
    {
     "output_type": "stream",
     "name": "stdout",
     "text": [
      "                                 OLS Regression Results                                \n=======================================================================================\nDep. Variable:               CPY015_w   R-squared (uncentered):                   1.000\nModel:                            OLS   Adj. R-squared (uncentered):              1.000\nMethod:                 Least Squares   F-statistic:                          3.925e+24\nDate:                Wed, 28 Oct 2020   Prob (F-statistic):                        0.00\nTime:                        23:43:45   Log-Likelihood:                          9935.8\nNo. Observations:                 366   AIC:                                 -1.957e+04\nDf Residuals:                     214   BIC:                                 -1.897e+04\nDf Model:                         152                                                  \nCovariance Type:            nonrobust                                                  \n==============================================================================\n                 coef    std err          t      P>|t|      [0.025      0.975]\n------------------------------------------------------------------------------\nCHM004_w    1.811e-14   3.78e-13      0.048      0.962   -7.27e-13    7.63e-13\nBKK018_w   -1.321e-14   5.63e-13     -0.023      0.981   -1.12e-12     1.1e-12\nBKK004_w    6.517e-14   1.76e-12      0.037      0.971   -3.41e-12    3.54e-12\nNAN011_w    8.882e-16   2.84e-13      0.003      0.998   -5.59e-13    5.61e-13\nNAN003_w   -3.331e-16   1.63e-13     -0.002      0.998   -3.22e-13    3.21e-13\nCPY015_w       1.0000   2.44e-12    4.1e+11      0.000       1.000       1.000\nDIV003_w   -1.765e-15    2.8e-14     -0.063      0.950   -5.69e-14    5.34e-14\nNAN013_w    9.159e-16   1.02e-13      0.009      0.993      -2e-13    2.02e-13\nNAN002_w   -3.247e-15   4.79e-13     -0.007      0.995   -9.47e-13     9.4e-13\nNAN006_w   -3.053e-16   2.93e-13     -0.001      0.999   -5.78e-13    5.77e-13\nNAN009_w    3.563e-15   2.38e-13      0.015      0.988   -4.66e-13    4.73e-13\nTHA001_w   -6.173e-14   1.73e-12     -0.036      0.972   -3.47e-12    3.35e-12\nCPY002_w   -7.182e-16   4.08e-14     -0.018      0.986   -8.11e-14    7.97e-14\nGLF001_w    1.443e-15   1.67e-12      0.001      0.999   -3.28e-12    3.28e-12\nNAN010_w    3.955e-15   1.73e-13      0.023      0.982   -3.37e-13    3.45e-13\nTBW008_w   -1.651e-15   4.88e-14     -0.034      0.973   -9.78e-14    9.45e-14\nCPY005_w   -1.787e-15   4.65e-14     -0.038      0.969   -9.35e-14    8.99e-14\nVLGE12_w    4.385e-15   2.24e-13      0.020      0.984   -4.37e-13    4.46e-13\nCPY012_w   -1.527e-15   4.88e-13     -0.003      0.998   -9.63e-13     9.6e-13\nCPY006_w    -1.27e-15   2.89e-13     -0.004      0.997   -5.71e-13    5.69e-13\nCPY017_w   -2.061e-15   1.06e-13     -0.019      0.984   -2.11e-13    2.07e-13\nCPY013_w    6.095e-14   1.55e-12      0.039      0.969   -2.99e-12    3.11e-12\nPIN003_w    2.304e-15   3.78e-13      0.006      0.995   -7.44e-13    7.48e-13\nLBI001_w   -1.993e-14   4.71e-13     -0.042      0.966   -9.49e-13    9.09e-13\nCPY007_w    1.471e-14   5.81e-13      0.025      0.980   -1.13e-12    1.16e-12\nPIN004_w   -8.327e-17   3.19e-14     -0.003      0.998   -6.29e-14    6.27e-14\nTHA002_w    5.315e-15   2.11e-13      0.025      0.980   -4.11e-13    4.22e-13\nPIN005_w    1.726e-14   2.68e-13      0.064      0.949   -5.11e-13    5.46e-13\nBKK019_w    1.896e-14   9.65e-13      0.020      0.984   -1.88e-12    1.92e-12\nCPY004_w    6.706e-14   1.71e-12      0.039      0.969    -3.3e-12    3.43e-12\nDIV005_w    3.109e-15   1.33e-13      0.023      0.981   -2.59e-13    2.65e-13\nNAN014_w     3.58e-15   3.12e-13      0.011      0.991   -6.12e-13    6.19e-13\nCPY014_w   -2.395e-14   7.15e-13     -0.033      0.973   -1.43e-12    1.39e-12\nLBI002_w    2.665e-15   1.58e-13      0.017      0.987   -3.09e-13    3.15e-13\nTB0004_w    2.658e-15   6.36e-14      0.042      0.967   -1.23e-13    1.28e-13\nHDA004_w    4.197e-16   2.44e-15      0.172      0.864   -4.39e-15    5.23e-15\nBKK007_w   -6.706e-14   2.27e-12     -0.030      0.976   -4.54e-12    4.41e-12\nNAN005_w    3.274e-17   3.27e-15      0.010      0.992   -6.41e-15    6.47e-15\nCPY016_w   -2.354e-14   4.65e-13     -0.051      0.960    -9.4e-13    8.93e-13\nNAN004_w   -2.683e-14   2.74e-13     -0.098      0.922   -5.67e-13    5.14e-13\nBKK013_w    -5.94e-15   1.85e-13     -0.032      0.974   -3.71e-13    3.59e-13\nKWN002_w   -3.622e-15   2.36e-13     -0.015      0.988   -4.68e-13    4.61e-13\nNAN012_w     2.22e-15   2.63e-13      0.008      0.993   -5.17e-13    5.22e-13\nCPY008_w    8.216e-15   9.87e-13      0.008      0.993   -1.94e-12    1.95e-12\nTBW014_w   -1.292e-16   5.04e-15     -0.026      0.980   -1.01e-14     9.8e-15\nCHM001_w   -1.082e-14   3.11e-13     -0.035      0.972   -6.23e-13    6.02e-13\nTB0001_w    2.665e-15   4.99e-13      0.005      0.996   -9.82e-13    9.87e-13\nCPY010_w    8.049e-16   5.34e-13      0.002      0.999   -1.05e-12    1.05e-12\nCPY009_w    -1.61e-15   3.65e-13     -0.004      0.996   -7.22e-13    7.19e-13\nBKK003_w     4.58e-15   4.17e-13      0.011      0.991   -8.17e-13    8.26e-13\nTB0006_w    3.997e-15   3.92e-13      0.010      0.992   -7.68e-13    7.76e-13\nHDA005_w   -6.936e-16   2.44e-15     -0.284      0.776    -5.5e-15    4.11e-15\nNAN008_w    6.051e-15   3.15e-13      0.019      0.985   -6.15e-13    6.27e-13\nNAN001_w   -1.946e-14   4.67e-13     -0.042      0.967   -9.39e-13    9.01e-13\nBKK001_w   -2.132e-14   1.45e-12     -0.015      0.988   -2.87e-12    2.83e-12\nNAN007_w   -4.736e-16    1.3e-14     -0.037      0.971    -2.6e-14    2.51e-14\nCPY001_w   -1.299e-14    5.9e-13     -0.022      0.982   -1.18e-12    1.15e-12\nBKK020_w   -7.216e-15   8.81e-13     -0.008      0.993   -1.74e-12    1.73e-12\nCHM002_w    3.275e-15   2.44e-13      0.013      0.989   -4.77e-13    4.83e-13\nCHM006_w    -1.03e-14   2.82e-13     -0.037      0.971   -5.66e-13    5.45e-13\nPIN001_w    2.498e-16   4.02e-13      0.001      1.000   -7.93e-13    7.94e-13\nCHM005_w    1.003e-17   6.13e-16      0.016      0.987    -1.2e-15    1.22e-15\nCPY003_w    1.776e-15   2.09e-13      0.009      0.993    -4.1e-13    4.13e-13\nBKK002_w   -5.714e-16   2.91e-14     -0.020      0.984    -5.8e-14    5.68e-14\nBKK008_w    1.832e-15   8.13e-13      0.002      0.998    -1.6e-12     1.6e-12\nPIN006_w   -5.204e-17   2.59e-14     -0.002      0.998   -5.11e-14     5.1e-14\nKWN001_w    4.025e-16   1.29e-13      0.003      0.998   -2.54e-13    2.55e-13\nBKK005_w   -1.332e-14   1.02e-12     -0.013      0.990   -2.03e-12       2e-12\nTB0002_w    4.191e-15   3.34e-13      0.013      0.990   -6.54e-13    6.62e-13\nPIN002_w   -3.469e-16    1.5e-13     -0.002      0.998   -2.96e-13    2.95e-13\nBKK021_w     7.55e-15   9.27e-13      0.008      0.994   -1.82e-12    1.83e-12\nCPY011_w   -8.882e-16   2.58e-12     -0.000      1.000   -5.08e-12    5.08e-12\nBKK020_r   -4.267e-16   1.61e-14     -0.026      0.979   -3.22e-14    3.14e-14\nNAN012_r   -2.142e-16   1.28e-14     -0.017      0.987   -2.55e-14    2.51e-14\nBKK019_r    7.112e-17   1.06e-14      0.007      0.995   -2.08e-14     2.1e-14\nNAN013_r    4.142e-17   8.11e-15      0.005      0.996   -1.59e-14     1.6e-14\nPIN004_r      1.7e-16   1.75e-14      0.010      0.992   -3.44e-14    3.47e-14\nKWN001_r    5.846e-16   1.19e-14      0.049      0.961   -2.29e-14    2.41e-14\nCPY016_r   -3.955e-16   3.64e-14     -0.011      0.991   -7.22e-14    7.14e-14\nTBW014_r    1.561e-17   1.17e-14      0.001      0.999    -2.3e-14     2.3e-14\nHDA004_r    2.602e-17   1.75e-14      0.001      0.999   -3.45e-14    3.46e-14\nVLGE11_r    2.776e-17   1.13e-14      0.002      0.998   -2.22e-14    2.22e-14\nNAN009_r    -3.73e-17   1.07e-14     -0.003      0.997   -2.12e-14    2.11e-14\nPIN003_r   -1.093e-16   1.63e-14     -0.007      0.995   -3.22e-14     3.2e-14\nBKK001_r     2.22e-16   1.25e-14      0.018      0.986   -2.44e-14    2.49e-14\nBKK003_r    -1.37e-16   9.19e-15     -0.015      0.988   -1.83e-14     1.8e-14\nNAN006_r   -8.197e-17   1.04e-14     -0.008      0.994   -2.06e-14    2.04e-14\nBKK013_r   -1.495e-15   2.33e-14     -0.064      0.949   -4.74e-14    4.44e-14\nCPY009_r    1.665e-16   1.61e-14      0.010      0.992   -3.15e-14    3.19e-14\nCPY004_r   -1.041e-17   2.26e-14     -0.000      1.000   -4.45e-14    4.44e-14\nCPY013_r    4.163e-17   1.12e-14      0.004      0.997   -2.21e-14    2.21e-14\nNAN010_r   -9.021e-17    8.8e-15     -0.010      0.992   -1.74e-14    1.72e-14\nTB0006_r    2.116e-16   1.83e-14      0.012      0.991   -3.59e-14    3.64e-14\nTB0002_r    4.424e-17   1.42e-14      0.003      0.998    -2.8e-14    2.81e-14\nPIN005_r   -2.255e-16   1.65e-14     -0.014      0.989   -3.27e-14    3.22e-14\nCPY015_r    -3.73e-17   8.65e-15     -0.004      0.997   -1.71e-14     1.7e-14\nNAN001_r    2.168e-17   9.94e-15      0.002      0.998   -1.96e-14    1.96e-14\nTB0004_r   -8.674e-17   1.26e-14     -0.007      0.995    -2.5e-14    2.48e-14\nCPY006_r   -2.776e-17   1.72e-14     -0.002      0.999    -3.4e-14    3.39e-14\nCPY011_r   -1.197e-16   1.79e-14     -0.007      0.995   -3.53e-14    3.51e-14\nDIV005_r    4.025e-16   2.79e-14      0.014      0.989   -5.46e-14    5.54e-14\nCHM006_r    3.773e-17   1.35e-14      0.003      0.998   -2.66e-14    2.67e-14\nVLGE04_r   -1.136e-16   1.27e-14     -0.009      0.993   -2.51e-14    2.49e-14\nFOP001_r            0   8.49e-15          0      1.000   -1.67e-14    1.67e-14\nNAN007_r   -8.847e-17   1.61e-14     -0.005      0.996   -3.19e-14    3.17e-14\nLBI002_r    2.394e-16   1.26e-14      0.019      0.985   -2.45e-14     2.5e-14\nCPY002_r    3.521e-16   2.01e-14      0.018      0.986   -3.92e-14    3.99e-14\nVLGE15_r   -2.168e-17   7.98e-15     -0.003      0.998   -1.58e-14    1.57e-14\nVLGE12_r   -1.266e-16   1.07e-14     -0.012      0.991   -2.12e-14     2.1e-14\nCPY003_r    3.192e-16   2.21e-14      0.014      0.988   -4.32e-14    4.38e-14\nNAN002_r     2.03e-16   9.91e-15      0.020      0.984   -1.93e-14    1.97e-14\nTB0005_r    1.379e-16   1.46e-14      0.009      0.992   -2.87e-14    2.89e-14\nCPY001_r   -1.076e-16   1.15e-14     -0.009      0.993   -2.28e-14    2.26e-14\nNAN014_r   -7.286e-17   1.49e-14     -0.005      0.996   -2.94e-14    2.93e-14\nVLGE19_r    5.464e-17   4.17e-15      0.013      0.990   -8.16e-15    8.27e-15\nBKK005_r   -7.199e-17   5.75e-15     -0.013      0.990   -1.14e-14    1.13e-14\nCHM001_r    5.204e-17   1.12e-14      0.005      0.996   -2.21e-14    2.22e-14\nLBI001_r   -8.674e-18   1.84e-14     -0.000      1.000   -3.63e-14    3.63e-14\nNAN003_r   -2.667e-17   7.93e-15     -0.003      0.997   -1.57e-14    1.56e-14\nCHM004_r    -8.37e-17   1.23e-14     -0.007      0.995   -2.43e-14    2.42e-14\nTHA001_r    4.857e-17   3.06e-14      0.002      0.999   -6.04e-14    6.05e-14\nTBR012_r   -7.006e-16    6.4e-27  -1.09e+11      0.000   -7.01e-16   -7.01e-16\nCPY008_r    5.898e-17   1.53e-14      0.004      0.997      -3e-14    3.02e-14\nNAN008_r   -2.047e-16   1.54e-14     -0.013      0.989   -3.06e-14    3.02e-14\nBKK018_r    1.665e-16   3.28e-14      0.005      0.996   -6.44e-14    6.47e-14\nCPY010_r    3.816e-17   2.19e-14      0.002      0.999   -4.31e-14    4.32e-14\nHDA005_r    2.255e-17   1.23e-14      0.002      0.999   -2.42e-14    2.42e-14\nCPY014_r   -2.012e-16   5.38e-15     -0.037      0.970   -1.08e-14    1.04e-14\nKWN002_r   -1.023e-16   1.73e-14     -0.006      0.995   -3.42e-14     3.4e-14\nCHM005_r    3.209e-17   1.13e-14      0.003      0.998   -2.22e-14    2.23e-14\nTB0001_r   -4.662e-17   1.09e-14     -0.004      0.997   -2.16e-14    2.15e-14\nVLGE25_r    1.058e-16   1.24e-14      0.009      0.993   -2.43e-14    2.45e-14\nBKK004_r    6.939e-17    8.4e-15      0.008      0.993   -1.65e-14    1.66e-14\nCPY017_r    7.633e-17   1.44e-14      0.005      0.996   -2.84e-14    2.86e-14\nBKK021_r   -1.158e-16   1.09e-14     -0.011      0.992   -2.15e-14    2.13e-14\nPIN001_r   -1.292e-16   1.38e-14     -0.009      0.993   -2.73e-14    2.71e-14\nNAN005_r   -4.337e-17    1.3e-14     -0.003      0.997   -2.57e-14    2.56e-14\nCPY005_r   -2.186e-16    1.8e-14     -0.012      0.990   -3.56e-14    3.52e-14\nDIV003_r    1.318e-16   1.97e-14      0.007      0.995   -3.88e-14     3.9e-14\nCHM002_r   -9.801e-17   1.51e-14     -0.006      0.995   -2.99e-14    2.97e-14\nTBR013_r   -1.742e-16   8.12e-28  -2.14e+11      0.000   -1.74e-16   -1.74e-16\nTB0007_r    2.429e-17   1.13e-14      0.002      0.998   -2.23e-14    2.24e-14\nTBW008_r    5.204e-17   1.05e-14      0.005      0.996   -2.07e-14    2.08e-14\nNAN004_r    2.359e-16    1.9e-14      0.012      0.990   -3.72e-14    3.76e-14\nBKK002_r   -9.541e-18   8.35e-15     -0.001      0.999   -1.65e-14    1.65e-14\nNAN011_r   -1.277e-16   1.15e-14     -0.011      0.991   -2.27e-14    2.25e-14\nBKK007_r   -1.299e-16   7.62e-15     -0.017      0.986   -1.52e-14    1.49e-14\nGLF001_r    1.171e-17   6.66e-15      0.002      0.999   -1.31e-14    1.31e-14\nPIN006_r   -1.388e-17   3.34e-14     -0.000      1.000   -6.59e-14    6.59e-14\nCPY012_r            0   2.26e-14          0      1.000   -4.45e-14    4.45e-14\nBKK008_r    2.255e-16   4.84e-14      0.005      0.996   -9.52e-14    9.56e-14\nCPY007_r   -2.654e-16   1.54e-14     -0.017      0.986   -3.06e-14       3e-14\nPIN002_r   -3.461e-16   1.73e-14     -0.020      0.984   -3.44e-14    3.37e-14\nVLGE06_r   -5.562e-17   8.13e-16     -0.068      0.946   -1.66e-15    1.55e-15\nTHA002_r   -1.344e-17   1.77e-14     -0.001      0.999    -3.5e-14     3.5e-14\n==============================================================================\nOmnibus:                       96.955   Durbin-Watson:                   0.001\nProb(Omnibus):                  0.000   Jarque-Bera (JB):              236.017\nSkew:                           1.295   Prob(JB):                     5.62e-52\nKurtosis:                       5.961   Cond. No.                     1.09e+16\n==============================================================================\n\nNotes:\n[1] R² is computed without centering (uncentered) since the model does not contain a constant.\n[2] Standard Errors assume that the covariance matrix of the errors is correctly specified.\n[3] The smallest eigenvalue is 2.8e-24. This might indicate that there are\nstrong multicollinearity problems or that the design matrix is singular.\n"
     ]
    }
   ],
   "source": [
    "model = sm.OLS(y, X)\n",
    "result = model.fit()\n",
    "print(result.summary())"
   ]
  },
  {
   "cell_type": "code",
   "execution_count": 39,
   "metadata": {},
   "outputs": [
    {
     "output_type": "execute_result",
     "data": {
      "text/plain": [
       "366"
      ]
     },
     "metadata": {},
     "execution_count": 39
    }
   ],
   "source": [
    "predictions = result.predict(X) \n",
    "len(predictions)\n",
    " "
   ]
  },
  {
   "cell_type": "code",
   "execution_count": 43,
   "metadata": {},
   "outputs": [
    {
     "output_type": "stream",
     "name": "stdout",
     "text": [
      "Test MSE: 0.000\n"
     ]
    }
   ],
   "source": [
    "from sklearn.metrics import mean_squared_error\n",
    "error = mean_squared_error(y, predictions)\n",
    "print('Test MSE: {:.3f}'.format(error*100))\n"
   ]
  },
  {
   "cell_type": "code",
   "execution_count": null,
   "metadata": {},
   "outputs": [],
   "source": []
  }
 ]
}