{
 "metadata": {
  "language_info": {
   "codemirror_mode": {
    "name": "ipython",
    "version": 3
   },
   "file_extension": ".py",
   "mimetype": "text/x-python",
   "name": "python",
   "nbconvert_exporter": "python",
   "pygments_lexer": "ipython3",
   "version": "3.7.7-final"
  },
  "orig_nbformat": 2,
  "kernelspec": {
   "name": "Python 3.7.7 64-bit ('tensor': conda)",
   "display_name": "Python 3.7.7 64-bit ('tensor': conda)",
   "metadata": {
    "interpreter": {
     "hash": "0a47e3dc2fd5d1f5928b02d8131cc5126167a2fe7c24f1040192d09a03c4ba52"
    }
   }
  }
 },
 "nbformat": 4,
 "nbformat_minor": 2,
 "cells": [
  {
   "cell_type": "code",
   "execution_count": 2,
   "metadata": {},
   "outputs": [],
   "source": [
    "import pandas as pd\n",
    "import re,glob\n",
    "import numpy as np\n",
    "import matplotlib.pyplot as plt\n",
    "%matplotlib inline\n",
    "\n",
    "from tqdm import tqdm\n",
    "import seaborn as sns"
   ]
  },
  {
   "source": [
    "# Preprocessing Data"
   ],
   "cell_type": "markdown",
   "metadata": {}
  },
  {
   "source": [
    "Rain fall lv."
   ],
   "cell_type": "markdown",
   "metadata": {}
  },
  {
   "cell_type": "code",
   "execution_count": 3,
   "metadata": {},
   "outputs": [],
   "source": [
    "def rename(path_name):\n",
    "    path_name = str(re.sub('(rain2007-2020/|water-level2007-2020/)','',path_name[38:]))\n",
    "    path_name = re.sub('.csv','',path_name)\n",
    "    return path_name\n",
    "\n",
    "def df_process(file):\n",
    "    try:\n",
    "        df = pd.read_csv(file,parse_dates=[['date', 'time']])\n",
    "    except:\n",
    "        df = pd.read_csv(file,parse_dates=['date'])\n",
    "    df['station'] = rename(file)\n",
    "    return df\n",
    "\n",
    "def open_concat_csv(folder_path):\n",
    "    all_filenames = [i for i in glob.glob(os.path.join(folder_path, '*.csv'))]\n",
    "    df = pd.concat([df_process(f) for f in all_filenames])\n",
    "    return df\n",
    "\n",
    "path_rain = \"../hii-telemetering-batch-data-master/rain2007-2020/\"\n"
   ]
  },
  {
   "cell_type": "code",
   "execution_count": 4,
   "metadata": {},
   "outputs": [
    {
     "output_type": "stream",
     "name": "stdout",
     "text": [
      "(4601312, 3)\n"
     ]
    },
    {
     "output_type": "execute_result",
     "data": {
      "text/plain": [
       "        date  rain station\n",
       "0 2007-01-01   NaN  SWR028\n",
       "1 2007-01-02   NaN  SWR028\n",
       "2 2007-01-03   NaN  SWR028\n",
       "3 2007-01-04   NaN  SWR028\n",
       "4 2007-01-05   NaN  SWR028"
      ],
      "text/html": "<div>\n<style scoped>\n    .dataframe tbody tr th:only-of-type {\n        vertical-align: middle;\n    }\n\n    .dataframe tbody tr th {\n        vertical-align: top;\n    }\n\n    .dataframe thead th {\n        text-align: right;\n    }\n</style>\n<table border=\"1\" class=\"dataframe\">\n  <thead>\n    <tr style=\"text-align: right;\">\n      <th></th>\n      <th>date</th>\n      <th>rain</th>\n      <th>station</th>\n    </tr>\n  </thead>\n  <tbody>\n    <tr>\n      <th>0</th>\n      <td>2007-01-01</td>\n      <td>NaN</td>\n      <td>SWR028</td>\n    </tr>\n    <tr>\n      <th>1</th>\n      <td>2007-01-02</td>\n      <td>NaN</td>\n      <td>SWR028</td>\n    </tr>\n    <tr>\n      <th>2</th>\n      <td>2007-01-03</td>\n      <td>NaN</td>\n      <td>SWR028</td>\n    </tr>\n    <tr>\n      <th>3</th>\n      <td>2007-01-04</td>\n      <td>NaN</td>\n      <td>SWR028</td>\n    </tr>\n    <tr>\n      <th>4</th>\n      <td>2007-01-05</td>\n      <td>NaN</td>\n      <td>SWR028</td>\n    </tr>\n  </tbody>\n</table>\n</div>"
     },
     "metadata": {},
     "execution_count": 4
    }
   ],
   "source": [
    "rain_df = open_concat_csv(path_rain)\n",
    "# replace -999 value to NaN\n",
    "rain_df['rain'] = rain_df[\"rain\"].replace({-999:np.nan})\n",
    "\n",
    "print(rain_df.shape)\n",
    "rain_df.head()"
   ]
  },
  {
   "cell_type": "code",
   "execution_count": 5,
   "metadata": {},
   "outputs": [
    {
     "output_type": "stream",
     "name": "stdout",
     "text": [
      "(4961, 929)\n"
     ]
    },
    {
     "output_type": "execute_result",
     "data": {
      "text/plain": [
       "            ACRU  ANLI  BAKI  BARI  BBHN  BBON  BBUA  BBWN  BCAP  BCNG  ...  \\\n",
       "date                                                                    ...   \n",
       "2007-01-01   NaN   NaN   NaN   0.0   NaN   NaN   NaN   NaN   0.0   NaN  ...   \n",
       "2007-01-02   NaN   NaN   NaN   0.0   NaN   NaN   NaN   NaN   0.0   NaN  ...   \n",
       "2007-01-03   NaN   NaN   NaN   0.0   NaN   NaN   NaN   NaN   0.0   NaN  ...   \n",
       "2007-01-04   NaN   NaN   NaN   0.0   NaN   NaN   NaN   NaN   0.0   NaN  ...   \n",
       "2007-01-05   NaN   NaN   NaN   0.0   NaN   NaN   NaN   NaN   0.0   NaN  ...   \n",
       "\n",
       "            YOM003  YOM004  YOM005  YOM006  YOM007  YOM008  YOM009  YOM010  \\\n",
       "date                                                                         \n",
       "2007-01-01     NaN     NaN     NaN     NaN     NaN     NaN     NaN     NaN   \n",
       "2007-01-02     NaN     NaN     NaN     NaN     NaN     NaN     NaN     NaN   \n",
       "2007-01-03     NaN     NaN     NaN     NaN     NaN     NaN     NaN     NaN   \n",
       "2007-01-04     NaN     NaN     NaN     NaN     NaN     NaN     NaN     NaN   \n",
       "2007-01-05     NaN     NaN     NaN     NaN     NaN     NaN     NaN     NaN   \n",
       "\n",
       "            YOM011  YOM012  \n",
       "date                        \n",
       "2007-01-01     NaN     NaN  \n",
       "2007-01-02     NaN     NaN  \n",
       "2007-01-03     NaN     NaN  \n",
       "2007-01-04     NaN     NaN  \n",
       "2007-01-05     NaN     NaN  \n",
       "\n",
       "[5 rows x 929 columns]"
      ],
      "text/html": "<div>\n<style scoped>\n    .dataframe tbody tr th:only-of-type {\n        vertical-align: middle;\n    }\n\n    .dataframe tbody tr th {\n        vertical-align: top;\n    }\n\n    .dataframe thead th {\n        text-align: right;\n    }\n</style>\n<table border=\"1\" class=\"dataframe\">\n  <thead>\n    <tr style=\"text-align: right;\">\n      <th></th>\n      <th>ACRU</th>\n      <th>ANLI</th>\n      <th>BAKI</th>\n      <th>BARI</th>\n      <th>BBHN</th>\n      <th>BBON</th>\n      <th>BBUA</th>\n      <th>BBWN</th>\n      <th>BCAP</th>\n      <th>BCNG</th>\n      <th>...</th>\n      <th>YOM003</th>\n      <th>YOM004</th>\n      <th>YOM005</th>\n      <th>YOM006</th>\n      <th>YOM007</th>\n      <th>YOM008</th>\n      <th>YOM009</th>\n      <th>YOM010</th>\n      <th>YOM011</th>\n      <th>YOM012</th>\n    </tr>\n    <tr>\n      <th>date</th>\n      <th></th>\n      <th></th>\n      <th></th>\n      <th></th>\n      <th></th>\n      <th></th>\n      <th></th>\n      <th></th>\n      <th></th>\n      <th></th>\n      <th></th>\n      <th></th>\n      <th></th>\n      <th></th>\n      <th></th>\n      <th></th>\n      <th></th>\n      <th></th>\n      <th></th>\n      <th></th>\n      <th></th>\n    </tr>\n  </thead>\n  <tbody>\n    <tr>\n      <th>2007-01-01</th>\n      <td>NaN</td>\n      <td>NaN</td>\n      <td>NaN</td>\n      <td>0.0</td>\n      <td>NaN</td>\n      <td>NaN</td>\n      <td>NaN</td>\n      <td>NaN</td>\n      <td>0.0</td>\n      <td>NaN</td>\n      <td>...</td>\n      <td>NaN</td>\n      <td>NaN</td>\n      <td>NaN</td>\n      <td>NaN</td>\n      <td>NaN</td>\n      <td>NaN</td>\n      <td>NaN</td>\n      <td>NaN</td>\n      <td>NaN</td>\n      <td>NaN</td>\n    </tr>\n    <tr>\n      <th>2007-01-02</th>\n      <td>NaN</td>\n      <td>NaN</td>\n      <td>NaN</td>\n      <td>0.0</td>\n      <td>NaN</td>\n      <td>NaN</td>\n      <td>NaN</td>\n      <td>NaN</td>\n      <td>0.0</td>\n      <td>NaN</td>\n      <td>...</td>\n      <td>NaN</td>\n      <td>NaN</td>\n      <td>NaN</td>\n      <td>NaN</td>\n      <td>NaN</td>\n      <td>NaN</td>\n      <td>NaN</td>\n      <td>NaN</td>\n      <td>NaN</td>\n      <td>NaN</td>\n    </tr>\n    <tr>\n      <th>2007-01-03</th>\n      <td>NaN</td>\n      <td>NaN</td>\n      <td>NaN</td>\n      <td>0.0</td>\n      <td>NaN</td>\n      <td>NaN</td>\n      <td>NaN</td>\n      <td>NaN</td>\n      <td>0.0</td>\n      <td>NaN</td>\n      <td>...</td>\n      <td>NaN</td>\n      <td>NaN</td>\n      <td>NaN</td>\n      <td>NaN</td>\n      <td>NaN</td>\n      <td>NaN</td>\n      <td>NaN</td>\n      <td>NaN</td>\n      <td>NaN</td>\n      <td>NaN</td>\n    </tr>\n    <tr>\n      <th>2007-01-04</th>\n      <td>NaN</td>\n      <td>NaN</td>\n      <td>NaN</td>\n      <td>0.0</td>\n      <td>NaN</td>\n      <td>NaN</td>\n      <td>NaN</td>\n      <td>NaN</td>\n      <td>0.0</td>\n      <td>NaN</td>\n      <td>...</td>\n      <td>NaN</td>\n      <td>NaN</td>\n      <td>NaN</td>\n      <td>NaN</td>\n      <td>NaN</td>\n      <td>NaN</td>\n      <td>NaN</td>\n      <td>NaN</td>\n      <td>NaN</td>\n      <td>NaN</td>\n    </tr>\n    <tr>\n      <th>2007-01-05</th>\n      <td>NaN</td>\n      <td>NaN</td>\n      <td>NaN</td>\n      <td>0.0</td>\n      <td>NaN</td>\n      <td>NaN</td>\n      <td>NaN</td>\n      <td>NaN</td>\n      <td>0.0</td>\n      <td>NaN</td>\n      <td>...</td>\n      <td>NaN</td>\n      <td>NaN</td>\n      <td>NaN</td>\n      <td>NaN</td>\n      <td>NaN</td>\n      <td>NaN</td>\n      <td>NaN</td>\n      <td>NaN</td>\n      <td>NaN</td>\n      <td>NaN</td>\n    </tr>\n  </tbody>\n</table>\n<p>5 rows × 929 columns</p>\n</div>"
     },
     "metadata": {},
     "execution_count": 5
    }
   ],
   "source": [
    "rain_df_st = pd.DataFrame()\n",
    "for name,group in rain_df.groupby('station'):\n",
    "    if rain_df_st.empty:\n",
    "        rain_df_st = group.set_index(\"date\")[[\"rain\"]].rename(columns={'rain':name})\n",
    "    else:\n",
    "        rain_df_st = rain_df_st.join(group.set_index(\"date\")[[\"rain\"]].rename(columns={'rain':name}))\n",
    "\n",
    "print(rain_df_st.shape)\n",
    "rain_df_st.head()"
   ]
  },
  {
   "source": [
    "WATER Level data"
   ],
   "cell_type": "markdown",
   "metadata": {}
  },
  {
   "cell_type": "code",
   "execution_count": 6,
   "metadata": {},
   "outputs": [
    {
     "output_type": "stream",
     "name": "stdout",
     "text": [
      "(225604800, 3)\nIndex(['date_time', 'wl', 'station'], dtype='object')\n"
     ]
    }
   ],
   "source": [
    "path_water = \"../hii-telemetering-batch-data-master/water-level2007-2020/\"\n",
    "water_df = open_concat_csv(path_water)\n",
    "\n",
    "print(water_df.shape)\n",
    "print(water_df.columns)"
   ]
  },
  {
   "cell_type": "code",
   "execution_count": 9,
   "metadata": {},
   "outputs": [
    {
     "output_type": "execute_result",
     "data": {
      "text/plain": [
       "            date_time  wl station\n",
       "0 2007-01-01 00:00:00 NaN  TBW018\n",
       "1 2007-01-01 00:10:00 NaN  TBW018\n",
       "2 2007-01-01 00:20:00 NaN  TBW018\n",
       "3 2007-01-01 00:30:00 NaN  TBW018\n",
       "4 2007-01-01 00:40:00 NaN  TBW018"
      ],
      "text/html": "<div>\n<style scoped>\n    .dataframe tbody tr th:only-of-type {\n        vertical-align: middle;\n    }\n\n    .dataframe tbody tr th {\n        vertical-align: top;\n    }\n\n    .dataframe thead th {\n        text-align: right;\n    }\n</style>\n<table border=\"1\" class=\"dataframe\">\n  <thead>\n    <tr style=\"text-align: right;\">\n      <th></th>\n      <th>date_time</th>\n      <th>wl</th>\n      <th>station</th>\n    </tr>\n  </thead>\n  <tbody>\n    <tr>\n      <th>0</th>\n      <td>2007-01-01 00:00:00</td>\n      <td>NaN</td>\n      <td>TBW018</td>\n    </tr>\n    <tr>\n      <th>1</th>\n      <td>2007-01-01 00:10:00</td>\n      <td>NaN</td>\n      <td>TBW018</td>\n    </tr>\n    <tr>\n      <th>2</th>\n      <td>2007-01-01 00:20:00</td>\n      <td>NaN</td>\n      <td>TBW018</td>\n    </tr>\n    <tr>\n      <th>3</th>\n      <td>2007-01-01 00:30:00</td>\n      <td>NaN</td>\n      <td>TBW018</td>\n    </tr>\n    <tr>\n      <th>4</th>\n      <td>2007-01-01 00:40:00</td>\n      <td>NaN</td>\n      <td>TBW018</td>\n    </tr>\n  </tbody>\n</table>\n</div>"
     },
     "metadata": {},
     "execution_count": 9
    }
   ],
   "source": [
    "water_df['wl'] = water_df['wl'].replace({-999:np.nan})\n",
    "water_df.head()"
   ]
  },
  {
   "cell_type": "code",
   "execution_count": 10,
   "metadata": {},
   "outputs": [
    {
     "output_type": "stream",
     "name": "stdout",
     "text": [
      "(714384, 316)\n"
     ]
    },
    {
     "output_type": "execute_result",
     "data": {
      "text/plain": [
       "                     BKK001  BKK002  BKK003  BKK004  BKK005  BKK006  BKK007  \\\n",
       "date_time                                                                     \n",
       "2007-01-01 00:00:00     NaN     NaN     NaN     NaN     NaN     NaN     NaN   \n",
       "2007-01-01 00:10:00     NaN     NaN     NaN     NaN     NaN     NaN     NaN   \n",
       "2007-01-01 00:20:00     NaN     NaN     NaN     NaN     NaN     NaN     NaN   \n",
       "2007-01-01 00:30:00     NaN     NaN     NaN     NaN     NaN     NaN     NaN   \n",
       "2007-01-01 00:40:00     NaN     NaN     NaN     NaN     NaN     NaN     NaN   \n",
       "\n",
       "                     BKK008  BKK009  BKK012  ...  YOM003  YOM004  YOM005  \\\n",
       "date_time                                    ...                           \n",
       "2007-01-01 00:00:00     NaN     NaN     NaN  ...     NaN     NaN     NaN   \n",
       "2007-01-01 00:10:00     NaN     NaN     NaN  ...     NaN     NaN     NaN   \n",
       "2007-01-01 00:20:00     NaN     NaN     NaN  ...     NaN     NaN     NaN   \n",
       "2007-01-01 00:30:00     NaN     NaN     NaN  ...     NaN     NaN     NaN   \n",
       "2007-01-01 00:40:00     NaN     NaN     NaN  ...     NaN     NaN     NaN   \n",
       "\n",
       "                     YOM006  YOM007  YOM008  YOM009  YOM010  YOM011  YOM012  \n",
       "date_time                                                                    \n",
       "2007-01-01 00:00:00     NaN     NaN     NaN     NaN     NaN     NaN     NaN  \n",
       "2007-01-01 00:10:00     NaN     NaN     NaN     NaN     NaN     NaN     NaN  \n",
       "2007-01-01 00:20:00     NaN     NaN     NaN     NaN     NaN     NaN     NaN  \n",
       "2007-01-01 00:30:00     NaN     NaN     NaN     NaN     NaN     NaN     NaN  \n",
       "2007-01-01 00:40:00     NaN     NaN     NaN     NaN     NaN     NaN     NaN  \n",
       "\n",
       "[5 rows x 316 columns]"
      ],
      "text/html": "<div>\n<style scoped>\n    .dataframe tbody tr th:only-of-type {\n        vertical-align: middle;\n    }\n\n    .dataframe tbody tr th {\n        vertical-align: top;\n    }\n\n    .dataframe thead th {\n        text-align: right;\n    }\n</style>\n<table border=\"1\" class=\"dataframe\">\n  <thead>\n    <tr style=\"text-align: right;\">\n      <th></th>\n      <th>BKK001</th>\n      <th>BKK002</th>\n      <th>BKK003</th>\n      <th>BKK004</th>\n      <th>BKK005</th>\n      <th>BKK006</th>\n      <th>BKK007</th>\n      <th>BKK008</th>\n      <th>BKK009</th>\n      <th>BKK012</th>\n      <th>...</th>\n      <th>YOM003</th>\n      <th>YOM004</th>\n      <th>YOM005</th>\n      <th>YOM006</th>\n      <th>YOM007</th>\n      <th>YOM008</th>\n      <th>YOM009</th>\n      <th>YOM010</th>\n      <th>YOM011</th>\n      <th>YOM012</th>\n    </tr>\n    <tr>\n      <th>date_time</th>\n      <th></th>\n      <th></th>\n      <th></th>\n      <th></th>\n      <th></th>\n      <th></th>\n      <th></th>\n      <th></th>\n      <th></th>\n      <th></th>\n      <th></th>\n      <th></th>\n      <th></th>\n      <th></th>\n      <th></th>\n      <th></th>\n      <th></th>\n      <th></th>\n      <th></th>\n      <th></th>\n      <th></th>\n    </tr>\n  </thead>\n  <tbody>\n    <tr>\n      <th>2007-01-01 00:00:00</th>\n      <td>NaN</td>\n      <td>NaN</td>\n      <td>NaN</td>\n      <td>NaN</td>\n      <td>NaN</td>\n      <td>NaN</td>\n      <td>NaN</td>\n      <td>NaN</td>\n      <td>NaN</td>\n      <td>NaN</td>\n      <td>...</td>\n      <td>NaN</td>\n      <td>NaN</td>\n      <td>NaN</td>\n      <td>NaN</td>\n      <td>NaN</td>\n      <td>NaN</td>\n      <td>NaN</td>\n      <td>NaN</td>\n      <td>NaN</td>\n      <td>NaN</td>\n    </tr>\n    <tr>\n      <th>2007-01-01 00:10:00</th>\n      <td>NaN</td>\n      <td>NaN</td>\n      <td>NaN</td>\n      <td>NaN</td>\n      <td>NaN</td>\n      <td>NaN</td>\n      <td>NaN</td>\n      <td>NaN</td>\n      <td>NaN</td>\n      <td>NaN</td>\n      <td>...</td>\n      <td>NaN</td>\n      <td>NaN</td>\n      <td>NaN</td>\n      <td>NaN</td>\n      <td>NaN</td>\n      <td>NaN</td>\n      <td>NaN</td>\n      <td>NaN</td>\n      <td>NaN</td>\n      <td>NaN</td>\n    </tr>\n    <tr>\n      <th>2007-01-01 00:20:00</th>\n      <td>NaN</td>\n      <td>NaN</td>\n      <td>NaN</td>\n      <td>NaN</td>\n      <td>NaN</td>\n      <td>NaN</td>\n      <td>NaN</td>\n      <td>NaN</td>\n      <td>NaN</td>\n      <td>NaN</td>\n      <td>...</td>\n      <td>NaN</td>\n      <td>NaN</td>\n      <td>NaN</td>\n      <td>NaN</td>\n      <td>NaN</td>\n      <td>NaN</td>\n      <td>NaN</td>\n      <td>NaN</td>\n      <td>NaN</td>\n      <td>NaN</td>\n    </tr>\n    <tr>\n      <th>2007-01-01 00:30:00</th>\n      <td>NaN</td>\n      <td>NaN</td>\n      <td>NaN</td>\n      <td>NaN</td>\n      <td>NaN</td>\n      <td>NaN</td>\n      <td>NaN</td>\n      <td>NaN</td>\n      <td>NaN</td>\n      <td>NaN</td>\n      <td>...</td>\n      <td>NaN</td>\n      <td>NaN</td>\n      <td>NaN</td>\n      <td>NaN</td>\n      <td>NaN</td>\n      <td>NaN</td>\n      <td>NaN</td>\n      <td>NaN</td>\n      <td>NaN</td>\n      <td>NaN</td>\n    </tr>\n    <tr>\n      <th>2007-01-01 00:40:00</th>\n      <td>NaN</td>\n      <td>NaN</td>\n      <td>NaN</td>\n      <td>NaN</td>\n      <td>NaN</td>\n      <td>NaN</td>\n      <td>NaN</td>\n      <td>NaN</td>\n      <td>NaN</td>\n      <td>NaN</td>\n      <td>...</td>\n      <td>NaN</td>\n      <td>NaN</td>\n      <td>NaN</td>\n      <td>NaN</td>\n      <td>NaN</td>\n      <td>NaN</td>\n      <td>NaN</td>\n      <td>NaN</td>\n      <td>NaN</td>\n      <td>NaN</td>\n    </tr>\n  </tbody>\n</table>\n<p>5 rows × 316 columns</p>\n</div>"
     },
     "metadata": {},
     "execution_count": 10
    }
   ],
   "source": [
    "df_wl_st = pd.DataFrame()\n",
    "\n",
    "for name,group in water_df.groupby('station'):\n",
    "    if df_wl_st.empty:\n",
    "        df_wl_st = group.set_index([\"date_time\"])[[\"wl\"]].rename(columns={'wl':name})\n",
    "    else:\n",
    "        df_wl_st = df_wl_st.join(group.set_index([\"date_time\"])[[\"wl\"]].rename(columns={'wl':name}))\n",
    "\n",
    "print(df_wl_st.shape)     \n",
    "df_wl_st.head()"
   ]
  },
  {
   "cell_type": "code",
   "execution_count": 11,
   "metadata": {},
   "outputs": [],
   "source": [
    "#rain_df_st.to_csv(\"data/rain.csv\")\n",
    "#df_wl_st.to_csv('data/water.csv')"
   ]
  },
  {
   "source": [
    "# Selected related station only"
   ],
   "cell_type": "markdown",
   "metadata": {}
  },
  {
   "cell_type": "code",
   "execution_count": 34,
   "metadata": {},
   "outputs": [],
   "source": [
    "filepath = (\"../hii-telemetering-batch-data-master/\")\n",
    "water_st = pd.read_csv(filepath+\"station_metadata-water-level.csv\")\n",
    "water_st = water_st.loc[(water_st['basin']==\"แม่น้ำปิง\")|(water_st['basin']==\"แม่น้ำเจ้าพระยา\")|(water_st['basin']==\"แม่น้ำน่าน\")]\n",
    "#น้ำเหนือที่ส่งผลให้ภาคกลางเกิดน้ำท่วมคือ แม่น้ำปิง กับ น่าน เพราะฉะนั้นโฟกัสแค่สองแม่น้ำนี้เป็นหลัก\n"
   ]
  },
  {
   "cell_type": "code",
   "execution_count": 65,
   "metadata": {},
   "outputs": [],
   "source": [
    "def intersection(lst1, lst2): \n",
    "    return list(set(lst1) & set(lst2)) \n",
    "col = [i for i in water_st['code']]\n",
    "col = intersection(col,df_wl_st.columns)\n"
   ]
  },
  {
   "cell_type": "code",
   "execution_count": 70,
   "metadata": {},
   "outputs": [
    {
     "output_type": "stream",
     "name": "stdout",
     "text": [
      "(714384, 72)\n"
     ]
    },
    {
     "output_type": "execute_result",
     "data": {
      "text/plain": [
       "                     THA001  CPY004  PIN005  CPY012  NAN007  TB0004  BKK007  \\\n",
       "date_time                                                                     \n",
       "2007-01-01 00:00:00     NaN     NaN     NaN     NaN     NaN     NaN     NaN   \n",
       "2007-01-01 00:10:00     NaN     NaN     NaN     NaN     NaN     NaN     NaN   \n",
       "2007-01-01 00:20:00     NaN     NaN     NaN     NaN     NaN     NaN     NaN   \n",
       "2007-01-01 00:30:00     NaN     NaN     NaN     NaN     NaN     NaN     NaN   \n",
       "2007-01-01 00:40:00     NaN     NaN     NaN     NaN     NaN     NaN     NaN   \n",
       "\n",
       "                     CHM005  CPY015  NAN011  ...  PIN006  BKK018  TB0001  \\\n",
       "date_time                                    ...                           \n",
       "2007-01-01 00:00:00     NaN     NaN   55.09  ...     NaN     NaN     NaN   \n",
       "2007-01-01 00:10:00     NaN     NaN     NaN  ...     NaN     NaN     NaN   \n",
       "2007-01-01 00:20:00     NaN     NaN     NaN  ...     NaN     NaN     NaN   \n",
       "2007-01-01 00:30:00     NaN     NaN     NaN  ...     NaN     NaN     NaN   \n",
       "2007-01-01 00:40:00     NaN     NaN     NaN  ...     NaN     NaN     NaN   \n",
       "\n",
       "                     BKK021  NAN003  PIN002  BKK005  NAN009  TB0002  NAN012  \n",
       "date_time                                                                    \n",
       "2007-01-01 00:00:00     NaN     NaN     NaN     NaN     NaN     NaN     NaN  \n",
       "2007-01-01 00:10:00     NaN     NaN     NaN     NaN     NaN     NaN     NaN  \n",
       "2007-01-01 00:20:00     NaN     NaN     NaN     NaN     NaN     NaN     NaN  \n",
       "2007-01-01 00:30:00     NaN     NaN     NaN     NaN     NaN     NaN     NaN  \n",
       "2007-01-01 00:40:00     NaN     NaN     NaN     NaN     NaN     NaN     NaN  \n",
       "\n",
       "[5 rows x 72 columns]"
      ],
      "text/html": "<div>\n<style scoped>\n    .dataframe tbody tr th:only-of-type {\n        vertical-align: middle;\n    }\n\n    .dataframe tbody tr th {\n        vertical-align: top;\n    }\n\n    .dataframe thead th {\n        text-align: right;\n    }\n</style>\n<table border=\"1\" class=\"dataframe\">\n  <thead>\n    <tr style=\"text-align: right;\">\n      <th></th>\n      <th>THA001</th>\n      <th>CPY004</th>\n      <th>PIN005</th>\n      <th>CPY012</th>\n      <th>NAN007</th>\n      <th>TB0004</th>\n      <th>BKK007</th>\n      <th>CHM005</th>\n      <th>CPY015</th>\n      <th>NAN011</th>\n      <th>...</th>\n      <th>PIN006</th>\n      <th>BKK018</th>\n      <th>TB0001</th>\n      <th>BKK021</th>\n      <th>NAN003</th>\n      <th>PIN002</th>\n      <th>BKK005</th>\n      <th>NAN009</th>\n      <th>TB0002</th>\n      <th>NAN012</th>\n    </tr>\n    <tr>\n      <th>date_time</th>\n      <th></th>\n      <th></th>\n      <th></th>\n      <th></th>\n      <th></th>\n      <th></th>\n      <th></th>\n      <th></th>\n      <th></th>\n      <th></th>\n      <th></th>\n      <th></th>\n      <th></th>\n      <th></th>\n      <th></th>\n      <th></th>\n      <th></th>\n      <th></th>\n      <th></th>\n      <th></th>\n      <th></th>\n    </tr>\n  </thead>\n  <tbody>\n    <tr>\n      <th>2007-01-01 00:00:00</th>\n      <td>NaN</td>\n      <td>NaN</td>\n      <td>NaN</td>\n      <td>NaN</td>\n      <td>NaN</td>\n      <td>NaN</td>\n      <td>NaN</td>\n      <td>NaN</td>\n      <td>NaN</td>\n      <td>55.09</td>\n      <td>...</td>\n      <td>NaN</td>\n      <td>NaN</td>\n      <td>NaN</td>\n      <td>NaN</td>\n      <td>NaN</td>\n      <td>NaN</td>\n      <td>NaN</td>\n      <td>NaN</td>\n      <td>NaN</td>\n      <td>NaN</td>\n    </tr>\n    <tr>\n      <th>2007-01-01 00:10:00</th>\n      <td>NaN</td>\n      <td>NaN</td>\n      <td>NaN</td>\n      <td>NaN</td>\n      <td>NaN</td>\n      <td>NaN</td>\n      <td>NaN</td>\n      <td>NaN</td>\n      <td>NaN</td>\n      <td>NaN</td>\n      <td>...</td>\n      <td>NaN</td>\n      <td>NaN</td>\n      <td>NaN</td>\n      <td>NaN</td>\n      <td>NaN</td>\n      <td>NaN</td>\n      <td>NaN</td>\n      <td>NaN</td>\n      <td>NaN</td>\n      <td>NaN</td>\n    </tr>\n    <tr>\n      <th>2007-01-01 00:20:00</th>\n      <td>NaN</td>\n      <td>NaN</td>\n      <td>NaN</td>\n      <td>NaN</td>\n      <td>NaN</td>\n      <td>NaN</td>\n      <td>NaN</td>\n      <td>NaN</td>\n      <td>NaN</td>\n      <td>NaN</td>\n      <td>...</td>\n      <td>NaN</td>\n      <td>NaN</td>\n      <td>NaN</td>\n      <td>NaN</td>\n      <td>NaN</td>\n      <td>NaN</td>\n      <td>NaN</td>\n      <td>NaN</td>\n      <td>NaN</td>\n      <td>NaN</td>\n    </tr>\n    <tr>\n      <th>2007-01-01 00:30:00</th>\n      <td>NaN</td>\n      <td>NaN</td>\n      <td>NaN</td>\n      <td>NaN</td>\n      <td>NaN</td>\n      <td>NaN</td>\n      <td>NaN</td>\n      <td>NaN</td>\n      <td>NaN</td>\n      <td>NaN</td>\n      <td>...</td>\n      <td>NaN</td>\n      <td>NaN</td>\n      <td>NaN</td>\n      <td>NaN</td>\n      <td>NaN</td>\n      <td>NaN</td>\n      <td>NaN</td>\n      <td>NaN</td>\n      <td>NaN</td>\n      <td>NaN</td>\n    </tr>\n    <tr>\n      <th>2007-01-01 00:40:00</th>\n      <td>NaN</td>\n      <td>NaN</td>\n      <td>NaN</td>\n      <td>NaN</td>\n      <td>NaN</td>\n      <td>NaN</td>\n      <td>NaN</td>\n      <td>NaN</td>\n      <td>NaN</td>\n      <td>NaN</td>\n      <td>...</td>\n      <td>NaN</td>\n      <td>NaN</td>\n      <td>NaN</td>\n      <td>NaN</td>\n      <td>NaN</td>\n      <td>NaN</td>\n      <td>NaN</td>\n      <td>NaN</td>\n      <td>NaN</td>\n      <td>NaN</td>\n    </tr>\n  </tbody>\n</table>\n<p>5 rows × 72 columns</p>\n</div>"
     },
     "metadata": {},
     "execution_count": 70
    }
   ],
   "source": [
    "print(df_wl_st[col].shape)\n",
    "df_wl_st[col].head()"
   ]
  },
  {
   "source": [
    "To do list\n",
    "เหลือต้องมาดูว่า สถานีฝน เอาอะไรไม่เอาอะไรบ้าง\n",
    "หลังจากนั้นค่อยมาดูว่า เลือกปีไหนได้บ้าง อันไหน nan เยอะเกิน\n",
    "แล้วค่อยยัดลง LSTM"
   ],
   "cell_type": "markdown",
   "metadata": {}
  }
 ]
}