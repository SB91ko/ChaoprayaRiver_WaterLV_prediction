{
 "cells": [
  {
   "cell_type": "markdown",
   "metadata": {},
   "source": [
    "# Load Data"
   ]
  },
  {
   "cell_type": "code",
   "execution_count": 1,
   "metadata": {},
   "outputs": [],
   "source": [
    "from pyearth import Earth\n",
    "from DLtools.Data_preprocess import series_to_supervised,load_data\n",
    "from DLtools.Data import load_data,instant_data,check_specific_col\n",
    "\n",
    "import numpy as np\n",
    "import pandas as pd"
   ]
  },
  {
   "cell_type": "code",
   "execution_count": 2,
   "metadata": {},
   "outputs": [],
   "source": [
    "# loaddata = load_data()\n",
    "\n",
    "# df_d = loaddata.daily()\n",
    "# df_h = loaddata.hourly()\n",
    "###################################\n",
    "loading = instant_data()\n",
    "df_d = loading.daily_instant()\n",
    "df_h = loading.hourly_instant()\n",
    "\n"
   ]
  },
  {
   "cell_type": "code",
   "execution_count": 42,
   "metadata": {},
   "outputs": [
    {
     "output_type": "execute_result",
     "data": {
      "text/plain": [
       "(43824, 269)"
      ]
     },
     "metadata": {},
     "execution_count": 42
    }
   ],
   "source": [
    "data = df_h['2013-01-01':'2017-12-31'].interpolate(limit=360).apply(lambda x: x.fillna(x.mean()),axis=0).astype('float32')\n",
    "data.shape"
   ]
  },
  {
   "cell_type": "code",
   "execution_count": 33,
   "metadata": {},
   "outputs": [],
   "source": [
    "TARGET = 'CPY015_wl'\n",
    "\n",
    "## Period 2013-2017 ##\n",
    "data = df_h['2013-01-01':'2017-12-31'].interpolate(limit=360).apply(lambda x: x.fillna(x.mean()),axis=0).astype('float32')\n",
    "\n",
    "# ## Shift target station to future \n",
    "n_out = 24\n",
    "data[TARGET]=data[TARGET].shift(-n_out)\n",
    "data = data.astype('float32').dropna()\n",
    "\n",
    "X = data.drop([TARGET],axis=1)\n",
    "xlabels = list(X.columns)\n",
    "\n",
    "\n",
    "# # # REPLACE NAN WITH 0\n",
    "# # X = X.fillna(0).values\n",
    "# # y = np.log(data[TARGET].fillna(0).values)\n",
    "# # where_are_NaNs = np.isnan(y)\n",
    "# # y[where_are_NaNs] = 0\n",
    "X=X.values\n",
    "y=data[TARGET].values"
   ]
  },
  {
   "cell_type": "markdown",
   "metadata": {},
   "source": [
    "# MARS feature selection (from all stations)"
   ]
  },
  {
   "cell_type": "code",
   "execution_count": 34,
   "metadata": {},
   "outputs": [
    {
     "output_type": "stream",
     "name": "stdout",
     "text": [
      "Beginning forward pass\n",
      "---------------------------------------------------------------\n",
      "iter  parent  var  knot  mse       terms  gcv    rsq    grsq   \n",
      "---------------------------------------------------------------\n",
      "0     -       -    -     0.386477  1      0.386  0.000  0.000  \n",
      "1     0       29   24836  0.212777  3      0.213  0.449  0.449  \n",
      "2     0       15   21853  0.131452  5      0.132  0.660  0.660  \n",
      "3     0       11   20933  0.106335  7      0.106  0.725  0.725  \n",
      "4     0       15   6704  0.098503  9      0.099  0.745  0.745  \n",
      "5     0       15   24357  0.095587  11     0.096  0.753  0.752  \n",
      "6     0       14   16510  0.093184  13     0.093  0.759  0.759  \n",
      "7     0       53   2497  0.091425  15     0.092  0.763  0.763  \n",
      "8     0       56   38957  0.090218  17     0.090  0.767  0.766  \n",
      "9     0       52   31493  0.088980  19     0.089  0.770  0.769  \n",
      "10    0       53   19429  0.088086  21     0.088  0.772  0.772  \n",
      "11    0       15   7130  0.087544  23     0.088  0.773  0.773  \n",
      "12    0       8    32989  0.087037  25     0.087  0.775  0.774  \n",
      "13    0       54   41851  0.086513  27     0.087  0.776  0.775  \n",
      "14    0       26   31747  0.085943  29     0.086  0.778  0.777  \n",
      "15    0       118  6261  0.085469  31     0.086  0.779  0.778  \n",
      "16    0       50   23569  0.085094  33     0.085  0.780  0.779  \n",
      "----------------------------------------------------------------\n",
      "Stopping Condition 2: Improvement below threshold\n",
      "Beginning pruning pass\n",
      "--------------------------------------------\n",
      "iter  bf  terms  mse   gcv    rsq    grsq   \n",
      "--------------------------------------------\n",
      "0     -   33     0.09  0.085  0.780  0.779  \n",
      "1     19  32     0.09  0.085  0.780  0.779  \n",
      "2     8   31     0.09  0.085  0.780  0.779  \n",
      "3     10  30     0.09  0.085  0.780  0.779  \n",
      "4     26  29     0.09  0.085  0.780  0.779  \n",
      "5     4   28     0.09  0.085  0.780  0.779  \n",
      "6     22  27     0.09  0.085  0.780  0.779  \n",
      "7     17  26     0.09  0.085  0.780  0.779  \n",
      "8     13  25     0.09  0.085  0.779  0.779  \n",
      "9     32  24     0.09  0.086  0.779  0.779  \n",
      "10    23  23     0.09  0.086  0.779  0.778  \n",
      "11    11  22     0.09  0.086  0.778  0.778  \n",
      "12    31  21     0.09  0.086  0.778  0.777  \n",
      "13    29  20     0.09  0.086  0.777  0.777  \n",
      "14    15  19     0.09  0.086  0.777  0.776  \n",
      "15    28  18     0.09  0.087  0.776  0.776  \n",
      "16    27  17     0.09  0.087  0.775  0.775  \n",
      "17    30  16     0.09  0.087  0.775  0.774  \n",
      "18    21  15     0.09  0.088  0.773  0.773  \n",
      "19    20  14     0.09  0.088  0.772  0.771  \n",
      "20    16  13     0.09  0.089  0.770  0.769  \n",
      "21    18  12     0.09  0.090  0.767  0.767  \n",
      "22    25  11     0.09  0.091  0.765  0.764  \n",
      "23    12  10     0.09  0.092  0.761  0.761  \n",
      "24    24  9      0.09  0.094  0.758  0.757  \n",
      "25    14  8      0.10  0.096  0.753  0.752  \n",
      "26    1   7      0.10  0.100  0.742  0.742  \n",
      "27    7   6      0.11  0.108  0.720  0.720  \n",
      "28    9   5      0.12  0.119  0.693  0.692  \n",
      "29    6   4      0.13  0.128  0.670  0.669  \n",
      "30    5   3      0.14  0.141  0.634  0.634  \n",
      "31    3   2      0.22  0.223  0.422  0.422  \n",
      "32    2   1      0.39  0.386  -0.000  -0.000  \n",
      "----------------------------------------------\n",
      "Selected iteration: 3\n"
     ]
    },
    {
     "output_type": "execute_result",
     "data": {
      "text/plain": [
       "Earth(feature_importance_type=('rss', 'gcv', 'nb_subsets'), minspan_alpha=0.5,\n",
       "      verbose=True)"
      ]
     },
     "metadata": {},
     "execution_count": 34
    }
   ],
   "source": [
    "#Fit an Earth model\n",
    "criteria = ('rss', 'gcv', 'nb_subsets')\n",
    "model = Earth(enable_pruning = True,\n",
    "            #   max_degree=3,\n",
    "            #   max_terms=10,\n",
    "              minspan_alpha=.5,\n",
    "              feature_importance_type=criteria,\n",
    "              verbose=True)\n",
    "model.fit(X,y,xlabels=xlabels)\n"
   ]
  },
  {
   "cell_type": "code",
   "execution_count": 5,
   "metadata": {},
   "outputs": [],
   "source": [
    "# #Print the model\n",
    "# print(model.trace())\n",
    "# print(model.summary())"
   ]
  },
  {
   "cell_type": "markdown",
   "metadata": {},
   "source": [
    "* Feature Importance"
   ]
  },
  {
   "cell_type": "code",
   "execution_count": 25,
   "metadata": {},
   "outputs": [
    {
     "output_type": "stream",
     "name": "stdout",
     "text": [
      "                  rss    gcv    nb_subsets\nGLF001_wl         0.76   0.76   0.11          \nCPY014_wl         0.19   0.19   0.16          \nPAS008_wl         0.02   0.02   0.11          \nCPY011_wl         0.01   0.01   0.05          \nPAS009_wl         0.00   0.00   0.11          \nCPY001_wl         0.00   0.00   0.05          \nPAS007_wl         0.00   0.00   0.11          \nCPY012_wl         0.00   0.00   0.05          \nCPY009_wl         0.00   0.00   0.05          \nDNP022_wl         0.00   0.00   0.11          \nCPY006_wl         0.00   0.00   0.11          \nDNP015_temp       0.00   0.00   0.00          \nDNP017_temp       0.00   0.00   0.00          \nDNP013_temp       0.00   0.00   0.00          \nDNP019_temp       0.00   0.00   0.00          \nDNP020_temp       0.00   0.00   0.00          \nDNP022_temp       0.00   0.00   0.00          \nDNP023_temp       0.00   0.00   0.00          \nDNP011_temp       0.00   0.00   0.00          \nDNP010_temp       0.00   0.00   0.00          \nDNP008_temp       0.00   0.00   0.00          \nDNP024_temp       0.00   0.00   0.00          \nYOM012_rain1h     0.00   0.00   0.00          \nDNP005_temp       0.00   0.00   0.00          \nDNP007_temp       0.00   0.00   0.00          \nDNP006_temp       0.00   0.00   0.00          \nDNP026_temp       0.00   0.00   0.00          \nDNP004_temp       0.00   0.00   0.00          \nDNP003_temp       0.00   0.00   0.00          \nDNP002_temp       0.00   0.00   0.00          \nDNP001_temp       0.00   0.00   0.00          \nCPY009_temp       0.00   0.00   0.00          \nYOM012_wl         0.00   0.00   0.00          \nYOM010_wl         0.00   0.00   0.00          \nYOM009_wl         0.00   0.00   0.00          \nYOM008_wl         0.00   0.00   0.00          \nYOM007_wl         0.00   0.00   0.00          \nYOM006_wl         0.00   0.00   0.00          \nYOM005_wl         0.00   0.00   0.00          \nDNP025_temp       0.00   0.00   0.00          \nDNP030_temp       0.00   0.00   0.00          \nDNP027_temp       0.00   0.00 \n"
     ]
    }
   ],
   "source": [
    "print(model.summary_feature_importances(sort_by='rss')[:2000])"
   ]
  },
  {
   "cell_type": "code",
   "execution_count": 35,
   "metadata": {},
   "outputs": [],
   "source": [
    "def toDF(rank):\n",
    "    name,rss,gcv,nb_sub= list(),list(),list(),list()\n",
    "    for i in range(len(rank)):\n",
    "        if i%4==0:\n",
    "            name.append(rank[i])\n",
    "        elif i%4==1:\n",
    "            rss.append(rank[i])\n",
    "        elif i%4==2:\n",
    "            gcv.append(rank[i])\n",
    "        elif i%4==3:\n",
    "            nb_sub.append(rank[i])\n",
    "    data = {'feature':name,\n",
    "    'rss':rss,\n",
    "    'gcv':gcv,\n",
    "    'nb_subset':nb_sub}\n",
    "    score = pd.DataFrame(data)\n",
    "    return score\n",
    "\n"
   ]
  },
  {
   "cell_type": "code",
   "execution_count": 36,
   "metadata": {},
   "outputs": [],
   "source": [
    "nbsub = model.summary_feature_importances(sort_by='nb_subsets')[:2000].split()[3:83]\n",
    "gcv = model.summary_feature_importances(sort_by='gcv')[:2000].split()[3:83]\n",
    "rss = model.summary_feature_importances(sort_by='rss')[:2000].split()[3:83]\n"
   ]
  },
  {
   "cell_type": "code",
   "execution_count": 37,
   "metadata": {},
   "outputs": [],
   "source": [
    "rss = toDF(rss)\n",
    "gcv = toDF(gcv)\n",
    "nbsub = toDF(nbsub)"
   ]
  },
  {
   "cell_type": "code",
   "execution_count": 38,
   "metadata": {},
   "outputs": [
    {
     "output_type": "execute_result",
     "data": {
      "text/plain": [
       "         feature   rss   gcv nb_subset\n",
       "0      GLF001_wl  0.56  0.56      0.06\n",
       "1      CPY014_wl  0.34  0.34      0.26\n",
       "2      CPY010_wl  0.07  0.07      0.06\n",
       "3      PAS008_wl  0.01  0.01      0.10\n",
       "4      CPY006_wl  0.01  0.01      0.06\n",
       "5      CPY013_wl  0.00  0.00      0.06\n",
       "6      PAS009_wl  0.00  0.00      0.06\n",
       "7      PIN003_wl  0.00  0.00      0.06\n",
       "8      PAS007_wl  0.00  0.00      0.06\n",
       "9      DNP022_wl  0.00  0.00      0.06\n",
       "10  DNP007_press  0.00  0.00      0.06\n",
       "11     PAS005_wl  0.00  0.00      0.06\n",
       "12   DNP011_temp  0.00  0.00      0.00\n",
       "13   DNP013_temp  0.00  0.00      0.00\n",
       "14   DNP008_temp  0.00  0.00      0.00\n",
       "15   DNP015_temp  0.00  0.00      0.00\n",
       "16   DNP017_temp  0.00  0.00      0.00\n",
       "17   DNP019_temp  0.00  0.00      0.00\n",
       "18   DNP007_temp  0.00  0.00      0.00\n",
       "19   DNP020_temp  0.00  0.00      0.00"
      ],
      "text/html": "<div>\n<style scoped>\n    .dataframe tbody tr th:only-of-type {\n        vertical-align: middle;\n    }\n\n    .dataframe tbody tr th {\n        vertical-align: top;\n    }\n\n    .dataframe thead th {\n        text-align: right;\n    }\n</style>\n<table border=\"1\" class=\"dataframe\">\n  <thead>\n    <tr style=\"text-align: right;\">\n      <th></th>\n      <th>feature</th>\n      <th>rss</th>\n      <th>gcv</th>\n      <th>nb_subset</th>\n    </tr>\n  </thead>\n  <tbody>\n    <tr>\n      <th>0</th>\n      <td>GLF001_wl</td>\n      <td>0.56</td>\n      <td>0.56</td>\n      <td>0.06</td>\n    </tr>\n    <tr>\n      <th>1</th>\n      <td>CPY014_wl</td>\n      <td>0.34</td>\n      <td>0.34</td>\n      <td>0.26</td>\n    </tr>\n    <tr>\n      <th>2</th>\n      <td>CPY010_wl</td>\n      <td>0.07</td>\n      <td>0.07</td>\n      <td>0.06</td>\n    </tr>\n    <tr>\n      <th>3</th>\n      <td>PAS008_wl</td>\n      <td>0.01</td>\n      <td>0.01</td>\n      <td>0.10</td>\n    </tr>\n    <tr>\n      <th>4</th>\n      <td>CPY006_wl</td>\n      <td>0.01</td>\n      <td>0.01</td>\n      <td>0.06</td>\n    </tr>\n    <tr>\n      <th>5</th>\n      <td>CPY013_wl</td>\n      <td>0.00</td>\n      <td>0.00</td>\n      <td>0.06</td>\n    </tr>\n    <tr>\n      <th>6</th>\n      <td>PAS009_wl</td>\n      <td>0.00</td>\n      <td>0.00</td>\n      <td>0.06</td>\n    </tr>\n    <tr>\n      <th>7</th>\n      <td>PIN003_wl</td>\n      <td>0.00</td>\n      <td>0.00</td>\n      <td>0.06</td>\n    </tr>\n    <tr>\n      <th>8</th>\n      <td>PAS007_wl</td>\n      <td>0.00</td>\n      <td>0.00</td>\n      <td>0.06</td>\n    </tr>\n    <tr>\n      <th>9</th>\n      <td>DNP022_wl</td>\n      <td>0.00</td>\n      <td>0.00</td>\n      <td>0.06</td>\n    </tr>\n    <tr>\n      <th>10</th>\n      <td>DNP007_press</td>\n      <td>0.00</td>\n      <td>0.00</td>\n      <td>0.06</td>\n    </tr>\n    <tr>\n      <th>11</th>\n      <td>PAS005_wl</td>\n      <td>0.00</td>\n      <td>0.00</td>\n      <td>0.06</td>\n    </tr>\n    <tr>\n      <th>12</th>\n      <td>DNP011_temp</td>\n      <td>0.00</td>\n      <td>0.00</td>\n      <td>0.00</td>\n    </tr>\n    <tr>\n      <th>13</th>\n      <td>DNP013_temp</td>\n      <td>0.00</td>\n      <td>0.00</td>\n      <td>0.00</td>\n    </tr>\n    <tr>\n      <th>14</th>\n      <td>DNP008_temp</td>\n      <td>0.00</td>\n      <td>0.00</td>\n      <td>0.00</td>\n    </tr>\n    <tr>\n      <th>15</th>\n      <td>DNP015_temp</td>\n      <td>0.00</td>\n      <td>0.00</td>\n      <td>0.00</td>\n    </tr>\n    <tr>\n      <th>16</th>\n      <td>DNP017_temp</td>\n      <td>0.00</td>\n      <td>0.00</td>\n      <td>0.00</td>\n    </tr>\n    <tr>\n      <th>17</th>\n      <td>DNP019_temp</td>\n      <td>0.00</td>\n      <td>0.00</td>\n      <td>0.00</td>\n    </tr>\n    <tr>\n      <th>18</th>\n      <td>DNP007_temp</td>\n      <td>0.00</td>\n      <td>0.00</td>\n      <td>0.00</td>\n    </tr>\n    <tr>\n      <th>19</th>\n      <td>DNP020_temp</td>\n      <td>0.00</td>\n      <td>0.00</td>\n      <td>0.00</td>\n    </tr>\n  </tbody>\n</table>\n</div>"
     },
     "metadata": {},
     "execution_count": 38
    }
   ],
   "source": [
    "#From top 20 rss,gcv,nbsub\n",
    "top20 = pd.concat([rss,gcv,nbsub],ignore_index=True).drop_duplicates('feature')\n",
    "top20"
   ]
  },
  {
   "cell_type": "code",
   "execution_count": 39,
   "metadata": {},
   "outputs": [],
   "source": [
    "top20.to_csv('featurelist_MAR_hour24.csv',index=False)"
   ]
  },
  {
   "cell_type": "code",
   "execution_count": null,
   "metadata": {},
   "outputs": [],
   "source": []
  }
 ],
 "metadata": {
  "kernelspec": {
   "display_name": "Python 3",
   "language": "python",
   "name": "python3"
  },
  "language_info": {
   "codemirror_mode": {
    "name": "ipython",
    "version": 3
   },
   "file_extension": ".py",
   "mimetype": "text/x-python",
   "name": "python",
   "nbconvert_exporter": "python",
   "pygments_lexer": "ipython3",
   "version": "3.8.5-final"
  }
 },
 "nbformat": 4,
 "nbformat_minor": 2
}