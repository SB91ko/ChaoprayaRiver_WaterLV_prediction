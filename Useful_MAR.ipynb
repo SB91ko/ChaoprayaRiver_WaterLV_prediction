{
 "cells": [
  {
   "cell_type": "markdown",
   "metadata": {},
   "source": [
    "# Load Data"
   ]
  },
  {
   "cell_type": "code",
   "execution_count": 1,
   "metadata": {},
   "outputs": [],
   "source": [
    "from pyearth import Earth\n",
    "from DLtools.Data import instant_data,check_specific_col,station_sel,del_less_col\n",
    "\n",
    "import numpy as np\n",
    "import pandas as pd"
   ]
  },
  {
   "cell_type": "code",
   "execution_count": 2,
   "metadata": {},
   "outputs": [],
   "source": [
    "def to_supervise(data,target,n_out):\n",
    "    data[target]=data[target].shift(-n_out)\n",
    "    data = data.astype('float64').dropna()\n",
    "    X = data.drop([target],axis=1)\n",
    "    xlabels = list(X.columns)\n",
    "\n",
    "    X = X.values\n",
    "    y = data[target].values\n",
    "    return X,y,xlabels"
   ]
  },
  {
   "cell_type": "code",
   "execution_count": 3,
   "metadata": {},
   "outputs": [],
   "source": [
    "loading = instant_data()\n",
    "df,mode = loading.hourly_instant(),'hour'\n",
    "# df,mode = loading.daily_instant(),'day'\n",
    "\n",
    "if mode =='hour': n_past,n_future = 24*7,72\n",
    "elif mode =='day': n_past,n_future = 30,14\n",
    "else: n_future=None; print('incorrect input')\n",
    "\n",
    "st = 'CPY012'\n",
    "target,start_p,stop_p,host_path=station_sel(st,mode)\n",
    "\n",
    "#start_p,stop_p = '2016-01-01','2018-01-01'\n",
    "\n",
    "save_path = '/home/song/Public/Song/Work/Thesis/MAR_4(fulldate)/'"
   ]
  },
  {
   "cell_type": "code",
   "execution_count": 4,
   "metadata": {},
   "outputs": [
    {
     "name": "stdout",
     "output_type": "stream",
     "text": [
      "\n",
      "Before del col are... 337\n"
     ]
    },
    {
     "name": "stderr",
     "output_type": "stream",
     "text": [
      "/home/song/anaconda3/envs/tf/lib/python3.8/site-packages/pandas/core/frame.py:4163: SettingWithCopyWarning: \n",
      "A value is trying to be set on a copy of a slice from a DataFrame\n",
      "\n",
      "See the caveats in the documentation: https://pandas.pydata.org/pandas-docs/stable/user_guide/indexing.html#returning-a-view-versus-a-copy\n",
      "  return super().drop(\n"
     ]
    },
    {
     "name": "stdout",
     "output_type": "stream",
     "text": [
      "After... 95\n"
     ]
    },
    {
     "data": {
      "text/plain": [
       "(24600, 96)"
      ]
     },
     "execution_count": 4,
     "metadata": {},
     "output_type": "execute_result"
    }
   ],
   "source": [
    "data = df[start_p:stop_p]\n",
    "data = del_less_col(data,ratio=.9)\n",
    "data = data.interpolate(limit=3000000000,limit_direction='both').astype('float32')\n",
    "data['Day'] = data.index.dayofyear #add day\n",
    "data.shape"
   ]
  },
  {
   "cell_type": "code",
   "execution_count": 5,
   "metadata": {},
   "outputs": [],
   "source": [
    "# ## Shift target station to future \n",
    "n_out = n_future\n",
    "data[target]=data[target].shift(-n_out)\n",
    "data = data.astype('float32').dropna()\n",
    "\n",
    "X = data.drop([target],axis=1)\n",
    "xlabels = list(X.columns)\n",
    "\n",
    "\n",
    "# # # REPLACE NAN WITH 0\n",
    "# # X = X.fillna(0).values\n",
    "# # y = np.log(data[TARGET].fillna(0).values)\n",
    "# # where_are_NaNs = np.isnan(y)\n",
    "# # y[where_are_NaNs] = 0\n",
    "X=X.values\n",
    "y=data[target].values"
   ]
  },
  {
   "cell_type": "markdown",
   "metadata": {},
   "source": [
    "# MARS feature selection (from all stations)"
   ]
  },
  {
   "cell_type": "code",
   "execution_count": 15,
   "metadata": {},
   "outputs": [
    {
     "name": "stdout",
     "output_type": "stream",
     "text": [
      "Beginning forward pass\n",
      "---------------------------------------------------------------\n",
      "iter  parent  var  knot  mse       terms  gcv    rsq    grsq   \n",
      "---------------------------------------------------------------\n",
      "0     -       -    -     0.857487  1      0.858  0.000  0.000  \n",
      "1     0       11   16436  0.094666  3      0.095  0.890  0.890  \n",
      "2     0       42   566   0.088795  5      0.089  0.896  0.896  \n",
      "3     0       39   1108  0.083857  7      0.084  0.902  0.902  \n",
      "4     0       29   2873  0.079609  9      0.080  0.907  0.907  \n",
      "5     0       13   3493  0.075891  11     0.076  0.911  0.911  \n",
      "6     0       2    -1    0.071265  12     0.071  0.917  0.917  \n",
      "7     0       23   3351  0.068508  14     0.069  0.920  0.920  \n",
      "8     0       27   6993  0.066703  16     0.067  0.922  0.922  \n",
      "9     0       28   11320  0.065367  18     0.066  0.924  0.923  \n",
      "10    0       35   9836  0.064189  20     0.065  0.925  0.925  \n",
      "11    0       10   7813  0.063139  22     0.064  0.926  0.926  \n",
      "12    0       9    16796  0.059934  24     0.060  0.930  0.930  \n",
      "13    0       36   14059  0.059044  26     0.059  0.931  0.931  \n",
      "14    0       26   14913  0.057670  28     0.058  0.933  0.932  \n",
      "15    0       1    1545  0.056754  30     0.057  0.934  0.933  \n",
      "16    0       7    12409  0.056000  32     0.057  0.935  0.934  \n",
      "----------------------------------------------------------------\n",
      "Stopping Condition 2: Improvement below threshold\n",
      "Beginning pruning pass\n",
      "--------------------------------------------\n",
      "iter  bf  terms  mse   gcv    rsq    grsq   \n",
      "--------------------------------------------\n",
      "0     -   32     0.06  0.057  0.935  0.934  \n"
     ]
    },
    {
     "name": "stderr",
     "output_type": "stream",
     "text": [
      "/home/song/anaconda3/envs/tf/lib/python3.8/site-packages/pyearth/earth.py:813: FutureWarning: `rcond` parameter will change to the default of machine precision times ``max(M, N)`` where M and N are the input matrix dimensions.\n",
      "To use the future default and silence this warning we advise to pass `rcond=None`, to keep using the old, explicitly pass `rcond=-1`.\n",
      "  pruning_passer.run()\n"
     ]
    },
    {
     "name": "stdout",
     "output_type": "stream",
     "text": [
      "1     10  31     0.06  0.056  0.935  0.934  \n",
      "2     18  30     0.06  0.056  0.935  0.934  \n",
      "3     31  29     0.06  0.056  0.935  0.934  \n",
      "4     25  28     0.06  0.056  0.935  0.934  \n",
      "5     3   27     0.06  0.057  0.935  0.934  \n",
      "6     27  26     0.06  0.057  0.935  0.934  \n",
      "7     14  25     0.06  0.057  0.934  0.934  \n",
      "8     20  24     0.06  0.057  0.934  0.934  \n",
      "9     29  23     0.06  0.057  0.934  0.933  \n",
      "10    12  22     0.06  0.057  0.934  0.933  \n",
      "11    28  21     0.06  0.058  0.933  0.933  \n",
      "12    19  20     0.06  0.058  0.932  0.932  \n",
      "13    13  19     0.06  0.059  0.932  0.931  \n",
      "14    8   18     0.06  0.059  0.931  0.931  \n",
      "15    2   17     0.06  0.060  0.930  0.930  \n",
      "16    30  16     0.06  0.061  0.930  0.929  \n",
      "17    1   15     0.06  0.062  0.929  0.928  \n",
      "18    16  14     0.06  0.062  0.928  0.927  \n",
      "19    17  13     0.06  0.063  0.927  0.927  \n",
      "20    15  12     0.06  0.063  0.926  0.926  \n",
      "21    7   11     0.06  0.065  0.925  0.925  \n",
      "22    23  10     0.07  0.066  0.923  0.923  \n",
      "23    5   9      0.07  0.068  0.920  0.920  \n",
      "24    6   8      0.07  0.070  0.919  0.919  \n",
      "25    4   7      0.07  0.073  0.916  0.915  \n",
      "26    9   6      0.08  0.080  0.907  0.907  \n",
      "27    11  5      0.08  0.083  0.903  0.903  \n",
      "28    26  4      0.09  0.091  0.894  0.894  \n",
      "29    24  3      0.10  0.098  0.886  0.886  \n",
      "30    21  2      0.12  0.122  0.858  0.858  \n",
      "31    22  1      0.86  0.858  -0.000  -0.000  \n",
      "----------------------------------------------\n",
      "Selected iteration: 3\n"
     ]
    },
    {
     "name": "stderr",
     "output_type": "stream",
     "text": [
      "/home/song/anaconda3/envs/tf/lib/python3.8/site-packages/pyearth/earth.py:1066: FutureWarning: `rcond` parameter will change to the default of machine precision times ``max(M, N)`` where M and N are the input matrix dimensions.\n",
      "To use the future default and silence this warning we advise to pass `rcond=None`, to keep using the old, explicitly pass `rcond=-1`.\n",
      "  coef, resid = np.linalg.lstsq(B, weighted_y[:, i])[0:2]\n"
     ]
    },
    {
     "data": {
      "text/plain": [
       "Earth(feature_importance_type=('rss', 'gcv', 'nb_subsets'), minspan_alpha=0.5,\n",
       "      verbose=True)"
      ]
     },
     "execution_count": 15,
     "metadata": {},
     "output_type": "execute_result"
    }
   ],
   "source": [
    "#Fit an Earth model\n",
    "criteria = ('rss', 'gcv', 'nb_subsets')\n",
    "model = Earth(enable_pruning = True,\n",
    "            #   max_degree=3,\n",
    "            #   max_terms=10,\n",
    "              minspan_alpha=.5,\n",
    "              feature_importance_type=criteria,\n",
    "              verbose=True)\n",
    "model.fit(X,y,xlabels=xlabels)\n"
   ]
  },
  {
   "cell_type": "code",
   "execution_count": 62,
   "metadata": {},
   "outputs": [],
   "source": [
    "# #Print the model\n",
    "# print(model.trace())\n",
    "# print(model.summary())"
   ]
  },
  {
   "cell_type": "markdown",
   "metadata": {},
   "source": [
    "* Feature Importance"
   ]
  },
  {
   "cell_type": "code",
   "execution_count": 9,
   "metadata": {},
   "outputs": [
    {
     "name": "stdout",
     "output_type": "stream",
     "text": [
      "                                   rss    gcv    nb_subsets\n",
      "CPY006_wl                          0.83   0.84   0.05          \n",
      "NAN013_wl                          0.04   0.04   0.03          \n",
      "KWN002_wl                          0.02   0.02   0.03          \n",
      "DIV006_wl                          0.02   0.01   0.10          \n",
      "Dam_SK_Useable_WaterVol            0.01   0.01   0.03          \n",
      "CPY009_wl                          0.01   0.01   0.03          \n",
      "CPY008_wl                          0.01   0.01   0.03          \n",
      "CPY016_wl                          0.01   0.01   0.03          \n",
      "CPY004_wl                          0.01   0.01   0.03          \n",
      "YOM008_wl                          0.01   0.01   0.03          \n",
      "\n"
     ]
    }
   ],
   "source": [
    "print(model.summary_feature_importances(sort_by='rss')[:700])"
   ]
  },
  {
   "cell_type": "code",
   "execution_count": 6,
   "metadata": {},
   "outputs": [],
   "source": [
    "def toDF(rank):\n",
    "    name,rss,gcv,nb_sub= list(),list(),list(),list()\n",
    "    for i in range(len(rank)):\n",
    "        if i%4==0:\n",
    "            name.append(rank[i])\n",
    "        elif i%4==1:\n",
    "            rss.append(float(rank[i]))\n",
    "        elif i%4==2:\n",
    "            gcv.append(float(rank[i]))\n",
    "        elif i%4==3:\n",
    "            nb_sub.append(float(rank[i]))\n",
    "    data = {'feature':name,\n",
    "    'rss':rss,\n",
    "    'gcv':gcv,\n",
    "    'nb_subset':nb_sub}\n",
    "    score = pd.DataFrame(data)\n",
    "    return score\n",
    "\n"
   ]
  },
  {
   "cell_type": "code",
   "execution_count": 7,
   "metadata": {},
   "outputs": [
    {
     "ename": "NameError",
     "evalue": "name 'model' is not defined",
     "output_type": "error",
     "traceback": [
      "\u001b[0;31m---------------------------------------------------------------------------\u001b[0m",
      "\u001b[0;31mNameError\u001b[0m                                 Traceback (most recent call last)",
      "\u001b[0;32m<ipython-input-7-b026aef1dedf>\u001b[0m in \u001b[0;36m<module>\u001b[0;34m\u001b[0m\n\u001b[0;32m----> 1\u001b[0;31m \u001b[0mnbsub\u001b[0m \u001b[0;34m=\u001b[0m \u001b[0mmodel\u001b[0m\u001b[0;34m.\u001b[0m\u001b[0msummary_feature_importances\u001b[0m\u001b[0;34m(\u001b[0m\u001b[0msort_by\u001b[0m\u001b[0;34m=\u001b[0m\u001b[0;34m'nb_subsets'\u001b[0m\u001b[0;34m)\u001b[0m\u001b[0;34m[\u001b[0m\u001b[0;34m:\u001b[0m\u001b[0;36m2000\u001b[0m\u001b[0;34m]\u001b[0m\u001b[0;34m.\u001b[0m\u001b[0msplit\u001b[0m\u001b[0;34m(\u001b[0m\u001b[0;34m)\u001b[0m\u001b[0;34m[\u001b[0m\u001b[0;36m3\u001b[0m\u001b[0;34m:\u001b[0m\u001b[0;36m83\u001b[0m\u001b[0;34m]\u001b[0m\u001b[0;34m\u001b[0m\u001b[0;34m\u001b[0m\u001b[0m\n\u001b[0m\u001b[1;32m      2\u001b[0m \u001b[0mgcv\u001b[0m \u001b[0;34m=\u001b[0m \u001b[0mmodel\u001b[0m\u001b[0;34m.\u001b[0m\u001b[0msummary_feature_importances\u001b[0m\u001b[0;34m(\u001b[0m\u001b[0msort_by\u001b[0m\u001b[0;34m=\u001b[0m\u001b[0;34m'gcv'\u001b[0m\u001b[0;34m)\u001b[0m\u001b[0;34m[\u001b[0m\u001b[0;34m:\u001b[0m\u001b[0;36m2000\u001b[0m\u001b[0;34m]\u001b[0m\u001b[0;34m.\u001b[0m\u001b[0msplit\u001b[0m\u001b[0;34m(\u001b[0m\u001b[0;34m)\u001b[0m\u001b[0;34m[\u001b[0m\u001b[0;36m3\u001b[0m\u001b[0;34m:\u001b[0m\u001b[0;36m83\u001b[0m\u001b[0;34m]\u001b[0m\u001b[0;34m\u001b[0m\u001b[0;34m\u001b[0m\u001b[0m\n\u001b[1;32m      3\u001b[0m \u001b[0mrss\u001b[0m \u001b[0;34m=\u001b[0m \u001b[0mmodel\u001b[0m\u001b[0;34m.\u001b[0m\u001b[0msummary_feature_importances\u001b[0m\u001b[0;34m(\u001b[0m\u001b[0msort_by\u001b[0m\u001b[0;34m=\u001b[0m\u001b[0;34m'rss'\u001b[0m\u001b[0;34m)\u001b[0m\u001b[0;34m[\u001b[0m\u001b[0;34m:\u001b[0m\u001b[0;36m2000\u001b[0m\u001b[0;34m]\u001b[0m\u001b[0;34m.\u001b[0m\u001b[0msplit\u001b[0m\u001b[0;34m(\u001b[0m\u001b[0;34m)\u001b[0m\u001b[0;34m[\u001b[0m\u001b[0;36m3\u001b[0m\u001b[0;34m:\u001b[0m\u001b[0;36m83\u001b[0m\u001b[0;34m]\u001b[0m\u001b[0;34m\u001b[0m\u001b[0;34m\u001b[0m\u001b[0m\n\u001b[1;32m      4\u001b[0m \u001b[0;34m\u001b[0m\u001b[0m\n\u001b[1;32m      5\u001b[0m \u001b[0mrss\u001b[0m \u001b[0;34m=\u001b[0m \u001b[0mtoDF\u001b[0m\u001b[0;34m(\u001b[0m\u001b[0mrss\u001b[0m\u001b[0;34m)\u001b[0m\u001b[0;34m\u001b[0m\u001b[0;34m\u001b[0m\u001b[0m\n",
      "\u001b[0;31mNameError\u001b[0m: name 'model' is not defined"
     ]
    }
   ],
   "source": [
    "nbsub = model.summary_feature_importances(sort_by='nb_subsets')[:2000].split()[3:83]\n",
    "gcv = model.summary_feature_importances(sort_by='gcv')[:2000].split()[3:83]\n",
    "rss = model.summary_feature_importances(sort_by='rss')[:2000].split()[3:83]\n",
    "\n",
    "rss = toDF(rss)\n",
    "gcv = toDF(gcv)\n",
    "nbsub = toDF(nbsub)\n"
   ]
  },
  {
   "cell_type": "code",
   "execution_count": 6,
   "metadata": {},
   "outputs": [
    {
     "ename": "NameError",
     "evalue": "name 'rss' is not defined",
     "output_type": "error",
     "traceback": [
      "\u001b[0;31m---------------------------------------------------------------------------\u001b[0m",
      "\u001b[0;31mNameError\u001b[0m                                 Traceback (most recent call last)",
      "\u001b[0;32m<ipython-input-6-f94494952183>\u001b[0m in \u001b[0;36m<module>\u001b[0;34m\u001b[0m\n\u001b[1;32m      1\u001b[0m \u001b[0mthrd\u001b[0m \u001b[0;34m=\u001b[0m \u001b[0;36m0.05\u001b[0m\u001b[0;34m\u001b[0m\u001b[0;34m\u001b[0m\u001b[0m\n\u001b[0;32m----> 2\u001b[0;31m \u001b[0mrss\u001b[0m\u001b[0;34m=\u001b[0m\u001b[0mrss\u001b[0m\u001b[0;34m.\u001b[0m\u001b[0mloc\u001b[0m\u001b[0;34m[\u001b[0m\u001b[0mrss\u001b[0m\u001b[0;34m[\u001b[0m\u001b[0;34m'rss'\u001b[0m\u001b[0;34m]\u001b[0m\u001b[0;34m>\u001b[0m\u001b[0mthrd\u001b[0m\u001b[0;34m]\u001b[0m\u001b[0;34m\u001b[0m\u001b[0;34m\u001b[0m\u001b[0m\n\u001b[0m\u001b[1;32m      3\u001b[0m \u001b[0mgcv\u001b[0m\u001b[0;34m=\u001b[0m\u001b[0mgcv\u001b[0m\u001b[0;34m.\u001b[0m\u001b[0mloc\u001b[0m\u001b[0;34m[\u001b[0m\u001b[0mgcv\u001b[0m\u001b[0;34m[\u001b[0m\u001b[0;34m'gcv'\u001b[0m\u001b[0;34m]\u001b[0m\u001b[0;34m>\u001b[0m\u001b[0mthrd\u001b[0m\u001b[0;34m]\u001b[0m\u001b[0;34m\u001b[0m\u001b[0;34m\u001b[0m\u001b[0m\n\u001b[1;32m      4\u001b[0m \u001b[0mnbsub\u001b[0m\u001b[0;34m=\u001b[0m\u001b[0mnbsub\u001b[0m\u001b[0;34m.\u001b[0m\u001b[0mloc\u001b[0m\u001b[0;34m[\u001b[0m\u001b[0mnbsub\u001b[0m\u001b[0;34m[\u001b[0m\u001b[0;34m'nb_subset'\u001b[0m\u001b[0;34m]\u001b[0m\u001b[0;34m>\u001b[0m\u001b[0mthrd\u001b[0m\u001b[0;34m]\u001b[0m\u001b[0;34m\u001b[0m\u001b[0;34m\u001b[0m\u001b[0m\n",
      "\u001b[0;31mNameError\u001b[0m: name 'rss' is not defined"
     ]
    }
   ],
   "source": [
    "thrd = 0.05\n",
    "rss=rss.loc[rss['rss']>thrd]\n",
    "gcv=gcv.loc[gcv['gcv']>thrd]\n",
    "nbsub=nbsub.loc[nbsub['nb_subset']>thrd]"
   ]
  },
  {
   "cell_type": "code",
   "execution_count": 45,
   "metadata": {},
   "outputs": [
    {
     "data": {
      "text/html": [
       "<div>\n",
       "<style scoped>\n",
       "    .dataframe tbody tr th:only-of-type {\n",
       "        vertical-align: middle;\n",
       "    }\n",
       "\n",
       "    .dataframe tbody tr th {\n",
       "        vertical-align: top;\n",
       "    }\n",
       "\n",
       "    .dataframe thead th {\n",
       "        text-align: right;\n",
       "    }\n",
       "</style>\n",
       "<table border=\"1\" class=\"dataframe\">\n",
       "  <thead>\n",
       "    <tr style=\"text-align: right;\">\n",
       "      <th></th>\n",
       "      <th>feature</th>\n",
       "      <th>rss</th>\n",
       "      <th>gcv</th>\n",
       "      <th>nb_subset</th>\n",
       "    </tr>\n",
       "  </thead>\n",
       "  <tbody>\n",
       "    <tr>\n",
       "      <th>0</th>\n",
       "      <td>CPY006_wl</td>\n",
       "      <td>0.83</td>\n",
       "      <td>0.84</td>\n",
       "      <td>0.05</td>\n",
       "    </tr>\n",
       "    <tr>\n",
       "      <th>2</th>\n",
       "      <td>DIV006_wl</td>\n",
       "      <td>0.02</td>\n",
       "      <td>0.01</td>\n",
       "      <td>0.10</td>\n",
       "    </tr>\n",
       "  </tbody>\n",
       "</table>\n",
       "</div>"
      ],
      "text/plain": [
       "     feature   rss   gcv  nb_subset\n",
       "0  CPY006_wl  0.83  0.84       0.05\n",
       "2  DIV006_wl  0.02  0.01       0.10"
      ]
     },
     "execution_count": 45,
     "metadata": {},
     "output_type": "execute_result"
    }
   ],
   "source": [
    "#From top 20 rss,gcv,nbsub\n",
    "top20 = pd.concat([rss,gcv,nbsub],ignore_index=True).drop_duplicates('feature')\n",
    "top20"
   ]
  },
  {
   "cell_type": "code",
   "execution_count": 39,
   "metadata": {},
   "outputs": [],
   "source": [
    "if mode =='hour': top20.to_csv('MAR/[CPY012]featurelist_MAR_hourly.csv',index=False)\n",
    "elif mode =='day': top20.to_csv('MAR/[CPY012]featurelist_MAR_daily.csv',index=False)\n",
    "else: print('incorrect input')"
   ]
  },
  {
   "cell_type": "markdown",
   "metadata": {},
   "source": [
    "# Loop"
   ]
  },
  {
   "cell_type": "code",
   "execution_count": 7,
   "metadata": {
    "tags": [
     "outputPrepend"
    ]
   },
   "outputs": [
    {
     "name": "stdout",
     "output_type": "stream",
     "text": [
      "Beginning forward pass\n",
      "---------------------------------------------------------------\n",
      "iter  parent  var  knot  mse       terms  gcv    rsq    grsq   \n",
      "---------------------------------------------------------------\n",
      "0     -       -    -     0.332181  1      0.332  0.000  0.000  \n",
      "1     0       11   23023  0.125124  3      0.125  0.623  0.623  \n",
      "2     0       49   4811  0.109048  5      0.109  0.672  0.671  \n",
      "3     0       44   20873  0.102633  7      0.103  0.691  0.691  \n",
      "4     0       21   16712  0.095594  9      0.096  0.712  0.712  \n",
      "5     8       12   23843  0.090768  11     0.091  0.727  0.726  \n",
      "6     4       43   11448  0.087508  13     0.088  0.737  0.736  \n",
      "7     0       32   23311  0.084975  15     0.085  0.744  0.743  \n",
      "8     8       54   23829  0.082310  17     0.083  0.752  0.751  \n",
      "9     16      4    18224  0.080046  19     0.080  0.759  0.758  \n",
      "10    3       27   2293  0.077668  21     0.078  0.766  0.765  \n",
      "---------------------------------------------------------------\n",
      "Stopping Condition 0: Reached maximum number of terms\n",
      "Beginning pruning pass\n",
      "--------------------------------------------\n",
      "iter  bf  terms  mse   gcv    rsq    grsq   \n",
      "--------------------------------------------\n",
      "0     -   21     0.08  0.078  0.766  0.765  \n"
     ]
    },
    {
     "name": "stderr",
     "output_type": "stream",
     "text": [
      "/home/song/anaconda3/envs/tf/lib/python3.8/site-packages/pyearth/earth.py:813: FutureWarning: `rcond` parameter will change to the default of machine precision times ``max(M, N)`` where M and N are the input matrix dimensions.\n",
      "To use the future default and silence this warning we advise to pass `rcond=None`, to keep using the old, explicitly pass `rcond=-1`.\n",
      "  pruning_passer.run()\n"
     ]
    },
    {
     "name": "stdout",
     "output_type": "stream",
     "text": [
      "1     15  20     0.08  0.078  0.766  0.765  \n",
      "2     19  19     0.08  0.078  0.766  0.765  \n",
      "3     9   18     0.08  0.078  0.766  0.765  \n",
      "4     7   17     0.08  0.078  0.766  0.765  \n",
      "5     11  16     0.08  0.078  0.766  0.765  \n",
      "6     16  15     0.08  0.078  0.765  0.764  \n",
      "7     13  14     0.08  0.079  0.761  0.761  \n",
      "8     14  13     0.08  0.081  0.757  0.756  \n",
      "9     20  12     0.08  0.083  0.750  0.749  \n",
      "10    18  11     0.09  0.086  0.743  0.742  \n",
      "11    5   10     0.09  0.087  0.737  0.737  \n",
      "12    17  9      0.09  0.089  0.734  0.733  \n",
      "13    3   8      0.09  0.092  0.724  0.724  \n",
      "14    6   7      0.09  0.093  0.719  0.719  \n",
      "15    10  6      0.10  0.098  0.705  0.704  \n",
      "16    8   5      0.10  0.104  0.688  0.687  \n",
      "17    12  4      0.11  0.109  0.671  0.671  \n",
      "18    4   3      0.13  0.125  0.623  0.623  \n",
      "19    2   2      0.15  0.153  0.540  0.540  \n",
      "20    1   1      0.33  0.332  -0.000  -0.000  \n",
      "----------------------------------------------\n",
      "Selected iteration: 2\n"
     ]
    },
    {
     "name": "stderr",
     "output_type": "stream",
     "text": [
      "/home/song/anaconda3/envs/tf/lib/python3.8/site-packages/pyearth/earth.py:1066: FutureWarning: `rcond` parameter will change to the default of machine precision times ``max(M, N)`` where M and N are the input matrix dimensions.\n",
      "To use the future default and silence this warning we advise to pass `rcond=None`, to keep using the old, explicitly pass `rcond=-1`.\n",
      "  coef, resid = np.linalg.lstsq(B, weighted_y[:, i])[0:2]\n"
     ]
    },
    {
     "name": "stdout",
     "output_type": "stream",
     "text": [
      "Beginning forward pass\n",
      "---------------------------------------------------------------\n",
      "iter  parent  var  knot  mse       terms  gcv    rsq    grsq   \n",
      "---------------------------------------------------------------\n",
      "0     -       -    -     0.332208  1      0.332  0.000  0.000  \n",
      "1     0       11   23023  0.125438  3      0.125  0.622  0.622  \n",
      "2     2       12   -1    0.107365  4      0.107  0.677  0.677  \n",
      "3     2       21   20581  0.096388  6      0.096  0.710  0.710  \n",
      "4     4       44   17890  0.090335  8      0.090  0.728  0.728  \n",
      "5     0       46   18780  0.086277  10     0.086  0.740  0.740  \n",
      "6     0       32   23311  0.083609  12     0.084  0.748  0.748  \n",
      "7     8       27   2293  0.081941  14     0.082  0.753  0.753  \n",
      "8     0       1    12050  0.080297  16     0.081  0.758  0.758  \n",
      "9     15      4    18130  0.078570  18     0.079  0.763  0.763  \n",
      "10    0       37   19641  0.077174  20     0.077  0.768  0.767  \n",
      "11    13      43   17533  0.075812  22     0.076  0.772  0.771  \n",
      "----------------------------------------------------------------\n",
      "Stopping Condition 0: Reached maximum number of terms\n",
      "Beginning pruning pass\n",
      "--------------------------------------------\n",
      "iter  bf  terms  mse   gcv    rsq    grsq   \n",
      "--------------------------------------------\n",
      "0     -   22     0.08  0.076  0.772  0.771  \n"
     ]
    },
    {
     "name": "stderr",
     "output_type": "stream",
     "text": [
      "/home/song/anaconda3/envs/tf/lib/python3.8/site-packages/pyearth/earth.py:813: FutureWarning: `rcond` parameter will change to the default of machine precision times ``max(M, N)`` where M and N are the input matrix dimensions.\n",
      "To use the future default and silence this warning we advise to pass `rcond=None`, to keep using the old, explicitly pass `rcond=-1`.\n",
      "  pruning_passer.run()\n"
     ]
    },
    {
     "name": "stdout",
     "output_type": "stream",
     "text": [
      "1     12  21     0.08  0.076  0.772  0.771  \n",
      "2     5   20     0.08  0.076  0.772  0.771  \n",
      "3     7   19     0.08  0.076  0.772  0.771  \n",
      "4     16  18     0.08  0.076  0.771  0.771  \n",
      "5     21  17     0.08  0.076  0.771  0.770  \n",
      "6     14  16     0.08  0.076  0.771  0.770  \n",
      "7     2   15     0.08  0.077  0.770  0.770  \n",
      "8     19  14     0.08  0.077  0.769  0.769  \n",
      "9     10  13     0.08  0.078  0.767  0.766  \n",
      "10    11  12     0.08  0.079  0.763  0.763  \n",
      "11    9   11     0.08  0.080  0.760  0.759  \n",
      "12    17  10     0.08  0.082  0.755  0.754  \n",
      "13    20  9      0.08  0.084  0.748  0.748  \n",
      "14    13  8      0.08  0.085  0.745  0.745  \n",
      "15    8   7      0.09  0.086  0.740  0.740  \n",
      "16    18  6      0.09  0.088  0.734  0.734  \n",
      "17    15  5      0.09  0.091  0.725  0.725  \n",
      "18    6   4      0.10  0.097  0.707  0.707  \n",
      "19    4   3      0.14  0.141  0.575  0.575  \n",
      "20    3   2      0.15  0.153  0.539  0.539  \n",
      "21    1   1      0.33  0.332  0.000  0.000  \n",
      "--------------------------------------------\n",
      "Selected iteration: 0\n"
     ]
    },
    {
     "name": "stderr",
     "output_type": "stream",
     "text": [
      "/home/song/anaconda3/envs/tf/lib/python3.8/site-packages/pyearth/earth.py:1066: FutureWarning: `rcond` parameter will change to the default of machine precision times ``max(M, N)`` where M and N are the input matrix dimensions.\n",
      "To use the future default and silence this warning we advise to pass `rcond=None`, to keep using the old, explicitly pass `rcond=-1`.\n",
      "  coef, resid = np.linalg.lstsq(B, weighted_y[:, i])[0:2]\n"
     ]
    },
    {
     "name": "stdout",
     "output_type": "stream",
     "text": [
      "Beginning forward pass\n",
      "---------------------------------------------------------------\n",
      "iter  parent  var  knot  mse       terms  gcv    rsq    grsq   \n",
      "---------------------------------------------------------------\n",
      "0     -       -    -     0.332232  1      0.332  0.000  0.000  \n",
      "1     0       11   23023  0.125869  3      0.126  0.621  0.621  \n",
      "2     0       12   24439  0.065286  5      0.065  0.803  0.803  \n",
      "3     4       32   23311  0.061721  7      0.062  0.814  0.814  \n",
      "4     0       41   3558  0.059158  9      0.059  0.822  0.822  \n",
      "5     6       27   3159  0.057164  11     0.057  0.828  0.828  \n",
      "6     0       37   19666  0.055086  13     0.055  0.834  0.834  \n",
      "7     2       21   20581  0.053634  15     0.054  0.839  0.838  \n",
      "8     11      0    23221  0.052481  17     0.053  0.842  0.842  \n",
      "9     6       27   3110  0.051555  19     0.052  0.845  0.844  \n",
      "10    12      27   2666  0.050795  21     0.051  0.847  0.846  \n",
      "---------------------------------------------------------------\n",
      "Stopping Condition 0: Reached maximum number of terms\n",
      "Beginning pruning pass\n",
      "--------------------------------------------\n",
      "iter  bf  terms  mse   gcv    rsq    grsq   \n",
      "--------------------------------------------\n",
      "0     -   21     0.05  0.051  0.847  0.846  \n"
     ]
    },
    {
     "name": "stderr",
     "output_type": "stream",
     "text": [
      "/home/song/anaconda3/envs/tf/lib/python3.8/site-packages/pyearth/earth.py:813: FutureWarning: `rcond` parameter will change to the default of machine precision times ``max(M, N)`` where M and N are the input matrix dimensions.\n",
      "To use the future default and silence this warning we advise to pass `rcond=None`, to keep using the old, explicitly pass `rcond=-1`.\n",
      "  pruning_passer.run()\n"
     ]
    },
    {
     "name": "stdout",
     "output_type": "stream",
     "text": [
      "1     18  20     0.05  0.051  0.847  0.847  \n",
      "2     14  19     0.05  0.051  0.847  0.847  \n",
      "3     10  18     0.05  0.051  0.847  0.847  \n",
      "4     15  17     0.05  0.051  0.847  0.847  \n",
      "5     3   16     0.05  0.051  0.847  0.846  \n",
      "6     6   15     0.05  0.051  0.846  0.846  \n",
      "7     19  14     0.05  0.051  0.846  0.845  \n",
      "8     7   13     0.05  0.052  0.844  0.844  \n",
      "9     12  12     0.05  0.053  0.842  0.842  \n",
      "10    20  11     0.05  0.053  0.841  0.841  \n",
      "11    17  10     0.05  0.054  0.839  0.839  \n",
      "12    16  9      0.05  0.055  0.835  0.835  \n",
      "13    13  8      0.06  0.056  0.830  0.830  \n",
      "14    5   7      0.06  0.058  0.825  0.825  \n",
      "15    8   6      0.06  0.060  0.819  0.819  \n",
      "16    11  5      0.06  0.062  0.813  0.813  \n",
      "17    9   4      0.07  0.066  0.803  0.803  \n",
      "18    2   3      0.09  0.089  0.733  0.733  \n",
      "19    4   2      0.15  0.154  0.538  0.538  \n",
      "20    1   1      0.33  0.332  0.000  0.000  \n",
      "--------------------------------------------\n",
      "Selected iteration: 3\n"
     ]
    },
    {
     "name": "stderr",
     "output_type": "stream",
     "text": [
      "/home/song/anaconda3/envs/tf/lib/python3.8/site-packages/pyearth/earth.py:1066: FutureWarning: `rcond` parameter will change to the default of machine precision times ``max(M, N)`` where M and N are the input matrix dimensions.\n",
      "To use the future default and silence this warning we advise to pass `rcond=None`, to keep using the old, explicitly pass `rcond=-1`.\n",
      "  coef, resid = np.linalg.lstsq(B, weighted_y[:, i])[0:2]\n"
     ]
    },
    {
     "name": "stdout",
     "output_type": "stream",
     "text": [
      "Beginning forward pass\n",
      "---------------------------------------------------------------\n",
      "iter  parent  var  knot  mse       terms  gcv    rsq    grsq   \n",
      "---------------------------------------------------------------\n",
      "0     -       -    -     0.332222  1      0.332  0.000  0.000  \n",
      "1     0       11   23023  0.126372  3      0.126  0.620  0.619  \n",
      "2     0       41   3558  0.115416  5      0.116  0.653  0.652  \n",
      "3     2       21   -1    0.106680  6      0.107  0.679  0.679  \n",
      "4     2       12   -1    0.094358  7      0.094  0.716  0.716  \n",
      "5     0       47   11350  0.089097  9      0.089  0.732  0.731  \n",
      "6     0       32   23311  0.085414  11     0.086  0.743  0.742  \n",
      "7     0       27   3159  0.082542  13     0.083  0.752  0.751  \n",
      "8     0       44   21953  0.080578  15     0.081  0.757  0.757  \n",
      "9     3       29   -1    0.078612  16     0.079  0.763  0.763  \n",
      "10    0       37   19641  0.077221  18     0.077  0.768  0.767  \n",
      "11    12      4    22239  0.075867  20     0.076  0.772  0.771  \n",
      "12    0       5    -1    0.074469  21     0.075  0.776  0.775  \n",
      "---------------------------------------------------------------\n",
      "Stopping Condition 0: Reached maximum number of terms\n",
      "Beginning pruning pass\n",
      "--------------------------------------------\n",
      "iter  bf  terms  mse   gcv    rsq    grsq   \n",
      "--------------------------------------------\n",
      "0     -   21     0.07  0.075  0.776  0.775  \n"
     ]
    },
    {
     "name": "stderr",
     "output_type": "stream",
     "text": [
      "/home/song/anaconda3/envs/tf/lib/python3.8/site-packages/pyearth/earth.py:813: FutureWarning: `rcond` parameter will change to the default of machine precision times ``max(M, N)`` where M and N are the input matrix dimensions.\n",
      "To use the future default and silence this warning we advise to pass `rcond=None`, to keep using the old, explicitly pass `rcond=-1`.\n",
      "  pruning_passer.run()\n"
     ]
    },
    {
     "name": "stdout",
     "output_type": "stream",
     "text": [
      "1     14  20     0.07  0.075  0.776  0.775  \n",
      "2     8   19     0.07  0.075  0.775  0.774  \n",
      "3     18  18     0.08  0.076  0.773  0.773  \n",
      "4     17  17     0.08  0.076  0.771  0.771  \n",
      "5     12  16     0.08  0.077  0.770  0.769  \n",
      "6     10  15     0.08  0.077  0.769  0.768  \n",
      "7     19  14     0.08  0.077  0.768  0.767  \n",
      "8     20  13     0.08  0.079  0.764  0.763  \n",
      "9     9   12     0.08  0.080  0.759  0.759  \n",
      "10    3   11     0.08  0.082  0.754  0.753  \n",
      "11    15  10     0.08  0.082  0.754  0.753  \n",
      "12    11  9      0.08  0.085  0.746  0.745  \n",
      "13    16  8      0.09  0.087  0.737  0.737  \n",
      "14    4   7      0.09  0.091  0.726  0.726  \n",
      "15    13  6      0.09  0.095  0.714  0.714  \n",
      "16    7   5      0.10  0.103  0.690  0.689  \n",
      "17    6   4      0.12  0.118  0.644  0.644  \n",
      "18    5   3      0.13  0.126  0.620  0.619  \n",
      "19    2   2      0.15  0.154  0.537  0.536  \n",
      "20    1   1      0.33  0.332  -0.000  -0.000  \n",
      "----------------------------------------------\n",
      "Selected iteration: 0\n"
     ]
    },
    {
     "name": "stderr",
     "output_type": "stream",
     "text": [
      "/home/song/anaconda3/envs/tf/lib/python3.8/site-packages/pyearth/earth.py:1066: FutureWarning: `rcond` parameter will change to the default of machine precision times ``max(M, N)`` where M and N are the input matrix dimensions.\n",
      "To use the future default and silence this warning we advise to pass `rcond=None`, to keep using the old, explicitly pass `rcond=-1`.\n",
      "  coef, resid = np.linalg.lstsq(B, weighted_y[:, i])[0:2]\n"
     ]
    },
    {
     "name": "stdout",
     "output_type": "stream",
     "text": [
      "Beginning forward pass\n",
      "---------------------------------------------------------------\n",
      "iter  parent  var  knot  mse       terms  gcv    rsq    grsq   \n",
      "---------------------------------------------------------------\n",
      "0     -       -    -     0.332286  1      0.332  0.000  0.000  \n",
      "1     0       11   23023  0.127094  3      0.127  0.618  0.617  \n",
      "2     0       21   15297  0.113146  5      0.113  0.659  0.659  \n",
      "3     0       49   23205  0.101271  7      0.101  0.695  0.695  \n",
      "4     5       30   12276  0.100131  9      0.100  0.699  0.698  \n",
      "5     2       41   4155  0.095593  11     0.096  0.712  0.712  \n",
      "6     1       37   23538  0.092656  13     0.093  0.721  0.720  \n",
      "7     5       41   4658  0.090141  15     0.090  0.729  0.728  \n",
      "8     9       40   18070  0.088079  17     0.088  0.735  0.734  \n",
      "9     13      30   12327  0.087989  19     0.088  0.735  0.734  \n",
      "----------------------------------------------------------------\n",
      "Stopping Condition 2: Improvement below threshold\n",
      "Beginning pruning pass\n",
      "--------------------------------------------\n",
      "iter  bf  terms  mse   gcv    rsq    grsq   \n",
      "--------------------------------------------\n",
      "0     -   19     0.09  0.088  0.735  0.734  \n"
     ]
    },
    {
     "name": "stderr",
     "output_type": "stream",
     "text": [
      "/home/song/anaconda3/envs/tf/lib/python3.8/site-packages/pyearth/earth.py:813: FutureWarning: `rcond` parameter will change to the default of machine precision times ``max(M, N)`` where M and N are the input matrix dimensions.\n",
      "To use the future default and silence this warning we advise to pass `rcond=None`, to keep using the old, explicitly pass `rcond=-1`.\n",
      "  pruning_passer.run()\n"
     ]
    },
    {
     "name": "stdout",
     "output_type": "stream",
     "text": [
      "1     18  18     0.09  0.088  0.735  0.734  \n",
      "2     17  17     0.09  0.088  0.735  0.734  \n",
      "3     6   16     0.09  0.088  0.735  0.734  \n",
      "4     11  15     0.09  0.088  0.735  0.734  \n",
      "5     3   14     0.09  0.089  0.734  0.733  \n",
      "6     16  13     0.09  0.089  0.734  0.733  \n",
      "7     7   12     0.09  0.089  0.733  0.732  \n",
      "8     8   11     0.09  0.090  0.731  0.730  \n",
      "9     14  10     0.09  0.091  0.728  0.727  \n",
      "10    15  9      0.09  0.092  0.723  0.723  \n",
      "11    10  8      0.09  0.094  0.718  0.718  \n",
      "12    9   7      0.10  0.097  0.708  0.708  \n",
      "13    13  6      0.10  0.098  0.704  0.704  \n",
      "14    12  5      0.10  0.102  0.695  0.694  \n",
      "15    5   4      0.11  0.114  0.659  0.658  \n",
      "16    4   3      0.13  0.127  0.618  0.617  \n",
      "17    2   2      0.15  0.155  0.535  0.535  \n",
      "18    1   1      0.33  0.332  -0.000  -0.000  \n",
      "----------------------------------------------\n",
      "Selected iteration: 0\n"
     ]
    },
    {
     "name": "stderr",
     "output_type": "stream",
     "text": [
      "/home/song/anaconda3/envs/tf/lib/python3.8/site-packages/pyearth/earth.py:1066: FutureWarning: `rcond` parameter will change to the default of machine precision times ``max(M, N)`` where M and N are the input matrix dimensions.\n",
      "To use the future default and silence this warning we advise to pass `rcond=None`, to keep using the old, explicitly pass `rcond=-1`.\n",
      "  coef, resid = np.linalg.lstsq(B, weighted_y[:, i])[0:2]\n"
     ]
    },
    {
     "name": "stdout",
     "output_type": "stream",
     "text": [
      "Beginning forward pass\n",
      "---------------------------------------------------------------\n",
      "iter  parent  var  knot  mse       terms  gcv    rsq    grsq   \n",
      "---------------------------------------------------------------\n",
      "0     -       -    -     0.332341  1      0.332  0.000  0.000  \n",
      "1     0       11   23023  0.128039  3      0.128  0.615  0.615  \n",
      "2     0       47   17512  0.118356  5      0.118  0.644  0.644  \n",
      "3     0       53   13527  0.114324  7      0.114  0.656  0.656  \n",
      "4     1       37   23536  0.110924  9      0.111  0.666  0.666  \n",
      "5     4       42   21380  0.107709  11     0.108  0.676  0.675  \n",
      "6     5       4    18178  0.105636  13     0.106  0.682  0.681  \n",
      "7     6       54   -1    0.103855  14     0.104  0.688  0.687  \n",
      "8     4       36   18325  0.102402  16     0.103  0.692  0.691  \n",
      "9     2       12   -1    0.101052  17     0.101  0.696  0.695  \n",
      "10    0       44   21953  0.099705  19     0.100  0.700  0.699  \n",
      "11    17      21   -1    0.097960  20     0.098  0.705  0.704  \n",
      "12    0       39   17649  0.096169  22     0.097  0.711  0.709  \n",
      "----------------------------------------------------------------\n",
      "Stopping Condition 0: Reached maximum number of terms\n",
      "Beginning pruning pass\n",
      "--------------------------------------------\n",
      "iter  bf  terms  mse   gcv    rsq    grsq   \n",
      "--------------------------------------------\n",
      "0     -   22     0.10  0.097  0.711  0.709  \n"
     ]
    },
    {
     "name": "stderr",
     "output_type": "stream",
     "text": [
      "/home/song/anaconda3/envs/tf/lib/python3.8/site-packages/pyearth/earth.py:813: FutureWarning: `rcond` parameter will change to the default of machine precision times ``max(M, N)`` where M and N are the input matrix dimensions.\n",
      "To use the future default and silence this warning we advise to pass `rcond=None`, to keep using the old, explicitly pass `rcond=-1`.\n",
      "  pruning_passer.run()\n"
     ]
    },
    {
     "name": "stdout",
     "output_type": "stream",
     "text": [
      "1     3   21     0.10  0.097  0.711  0.709  \n",
      "2     12  20     0.10  0.097  0.711  0.709  \n",
      "3     9   19     0.10  0.097  0.710  0.709  \n",
      "4     7   18     0.10  0.097  0.710  0.709  \n",
      "5     15  17     0.10  0.097  0.710  0.709  \n",
      "6     20  16     0.10  0.097  0.708  0.708  \n",
      "7     17  15     0.10  0.098  0.706  0.706  \n",
      "8     19  14     0.10  0.099  0.703  0.702  \n",
      "9     14  13     0.10  0.100  0.699  0.699  \n",
      "10    16  12     0.10  0.102  0.695  0.695  \n",
      "11    21  11     0.10  0.104  0.689  0.689  \n",
      "12    18  10     0.10  0.104  0.687  0.687  \n",
      "13    5   9      0.11  0.105  0.684  0.683  \n",
      "14    11  8      0.11  0.106  0.680  0.680  \n",
      "15    13  7      0.11  0.108  0.674  0.674  \n",
      "16    8   6      0.11  0.112  0.663  0.663  \n",
      "17    10  5      0.12  0.116  0.652  0.652  \n",
      "18    6   4      0.12  0.119  0.643  0.643  \n",
      "19    4   3      0.13  0.128  0.615  0.615  \n",
      "20    2   2      0.16  0.155  0.532  0.532  \n",
      "21    1   1      0.33  0.332  0.000  0.000  \n",
      "--------------------------------------------\n",
      "Selected iteration: 1\n",
      "Beginning forward pass\n",
      "---------------------------------------------------------------\n",
      "iter  parent  var  knot  mse       terms  gcv    rsq    grsq   \n",
      "---------------------------------------------------------------\n",
      "0     -       -    -     0.332430  1      0.332  0.000  0.000  \n"
     ]
    },
    {
     "name": "stderr",
     "output_type": "stream",
     "text": [
      "/home/song/anaconda3/envs/tf/lib/python3.8/site-packages/pyearth/earth.py:1066: FutureWarning: `rcond` parameter will change to the default of machine precision times ``max(M, N)`` where M and N are the input matrix dimensions.\n",
      "To use the future default and silence this warning we advise to pass `rcond=None`, to keep using the old, explicitly pass `rcond=-1`.\n",
      "  coef, resid = np.linalg.lstsq(B, weighted_y[:, i])[0:2]\n"
     ]
    },
    {
     "name": "stdout",
     "output_type": "stream",
     "text": [
      "1     0       11   23023  0.129370  3      0.129  0.611  0.611  \n",
      "2     2       12   -1    0.109764  4      0.110  0.670  0.670  \n",
      "3     2       21   20581  0.103921  6      0.104  0.687  0.687  \n",
      "4     4       44   17920  0.097699  8      0.098  0.706  0.706  \n",
      "5     1       37   23536  0.093507  10     0.094  0.719  0.718  \n",
      "6     2       16   -1    0.091209  11     0.091  0.726  0.725  \n",
      "7     0       29   7233  0.089411  13     0.090  0.731  0.730  \n",
      "8     0       1    3969  0.087763  15     0.088  0.736  0.735  \n",
      "9     0       2    12706  0.086691  17     0.087  0.739  0.738  \n",
      "10    15      30   12260  0.086554  19     0.087  0.740  0.739  \n",
      "----------------------------------------------------------------\n",
      "Stopping Condition 2: Improvement below threshold\n",
      "Beginning pruning pass\n",
      "--------------------------------------------\n",
      "iter  bf  terms  mse   gcv    rsq    grsq   \n",
      "--------------------------------------------\n",
      "0     -   19     0.09  0.087  0.740  0.739  \n"
     ]
    },
    {
     "name": "stderr",
     "output_type": "stream",
     "text": [
      "/home/song/anaconda3/envs/tf/lib/python3.8/site-packages/pyearth/earth.py:813: FutureWarning: `rcond` parameter will change to the default of machine precision times ``max(M, N)`` where M and N are the input matrix dimensions.\n",
      "To use the future default and silence this warning we advise to pass `rcond=None`, to keep using the old, explicitly pass `rcond=-1`.\n",
      "  pruning_passer.run()\n"
     ]
    },
    {
     "name": "stdout",
     "output_type": "stream",
     "text": [
      "1     17  18     0.09  0.087  0.740  0.739  \n",
      "2     5   17     0.09  0.087  0.740  0.739  \n",
      "3     8   16     0.09  0.087  0.739  0.739  \n",
      "4     7   15     0.09  0.087  0.739  0.739  \n",
      "5     13  14     0.09  0.087  0.739  0.738  \n",
      "6     16  13     0.09  0.087  0.739  0.738  \n",
      "7     18  12     0.09  0.087  0.738  0.738  \n",
      "8     11  11     0.09  0.088  0.736  0.736  \n",
      "9     14  10     0.09  0.089  0.734  0.733  \n",
      "10    2   9      0.09  0.090  0.729  0.728  \n",
      "11    10  8      0.09  0.092  0.723  0.722  \n",
      "12    12  7      0.09  0.095  0.715  0.715  \n",
      "13    15  6      0.10  0.096  0.710  0.710  \n",
      "14    9   5      0.10  0.100  0.698  0.698  \n",
      "15    6   4      0.11  0.107  0.679  0.679  \n",
      "16    4   3      0.14  0.144  0.568  0.568  \n",
      "17    3   2      0.16  0.157  0.529  0.529  \n",
      "18    1   1      0.33  0.332  -0.000  -0.000  \n",
      "----------------------------------------------\n",
      "Selected iteration: 1\n"
     ]
    },
    {
     "name": "stderr",
     "output_type": "stream",
     "text": [
      "/home/song/anaconda3/envs/tf/lib/python3.8/site-packages/pyearth/earth.py:1066: FutureWarning: `rcond` parameter will change to the default of machine precision times ``max(M, N)`` where M and N are the input matrix dimensions.\n",
      "To use the future default and silence this warning we advise to pass `rcond=None`, to keep using the old, explicitly pass `rcond=-1`.\n",
      "  coef, resid = np.linalg.lstsq(B, weighted_y[:, i])[0:2]\n"
     ]
    },
    {
     "name": "stdout",
     "output_type": "stream",
     "text": [
      "Beginning forward pass\n",
      "---------------------------------------------------------------\n",
      "iter  parent  var  knot  mse       terms  gcv    rsq    grsq   \n",
      "---------------------------------------------------------------\n",
      "0     -       -    -     0.332481  1      0.333  0.000  0.000  \n",
      "1     0       11   23023  0.130726  3      0.131  0.607  0.607  \n",
      "2     0       41   3746  0.118041  5      0.118  0.645  0.645  \n",
      "3     0       12   24439  0.113183  7      0.113  0.660  0.659  \n",
      "4     0       21   15297  0.106670  9      0.107  0.679  0.679  \n",
      "5     0       47   11350  0.099185  11     0.099  0.702  0.701  \n",
      "6     0       29   7233  0.093630  13     0.094  0.718  0.718  \n",
      "7     0       44   21953  0.090545  15     0.091  0.728  0.727  \n",
      "8     1       37   23538  0.088522  17     0.089  0.734  0.733  \n",
      "9     12      27   3159  0.086489  19     0.087  0.740  0.739  \n",
      "10    13      41   23516  0.085054  21     0.085  0.744  0.743  \n",
      "----------------------------------------------------------------\n",
      "Stopping Condition 0: Reached maximum number of terms\n",
      "Beginning pruning pass\n",
      "--------------------------------------------\n",
      "iter  bf  terms  mse   gcv    rsq    grsq   \n",
      "--------------------------------------------\n",
      "0     -   21     0.09  0.085  0.744  0.743  \n"
     ]
    },
    {
     "name": "stderr",
     "output_type": "stream",
     "text": [
      "/home/song/anaconda3/envs/tf/lib/python3.8/site-packages/pyearth/earth.py:813: FutureWarning: `rcond` parameter will change to the default of machine precision times ``max(M, N)`` where M and N are the input matrix dimensions.\n",
      "To use the future default and silence this warning we advise to pass `rcond=None`, to keep using the old, explicitly pass `rcond=-1`.\n",
      "  pruning_passer.run()\n"
     ]
    },
    {
     "name": "stdout",
     "output_type": "stream",
     "text": [
      "1     5   20     0.09  0.085  0.744  0.743  \n",
      "2     12  19     0.09  0.085  0.744  0.743  \n",
      "3     7   18     0.09  0.085  0.744  0.743  \n",
      "4     15  17     0.09  0.085  0.744  0.743  \n",
      "5     10  16     0.09  0.086  0.744  0.743  \n",
      "6     14  15     0.09  0.086  0.743  0.742  \n",
      "7     3   14     0.09  0.086  0.743  0.742  \n",
      "8     18  13     0.09  0.086  0.741  0.741  \n",
      "9     20  12     0.09  0.087  0.740  0.739  \n",
      "10    19  11     0.09  0.088  0.737  0.736  \n",
      "11    17  10     0.09  0.089  0.733  0.732  \n",
      "12    16  9      0.09  0.091  0.727  0.726  \n",
      "13    4   8      0.10  0.096  0.710  0.710  \n",
      "14    11  7      0.10  0.101  0.697  0.697  \n",
      "15    13  6      0.10  0.104  0.687  0.686  \n",
      "16    8   5      0.11  0.114  0.658  0.657  \n",
      "17    6   4      0.12  0.123  0.631  0.631  \n",
      "18    9   3      0.13  0.131  0.607  0.607  \n",
      "19    2   2      0.16  0.158  0.525  0.525  \n",
      "20    1   1      0.33  0.333  -0.000  -0.000  \n",
      "----------------------------------------------\n",
      "Selected iteration: 1\n"
     ]
    },
    {
     "name": "stderr",
     "output_type": "stream",
     "text": [
      "/home/song/anaconda3/envs/tf/lib/python3.8/site-packages/pyearth/earth.py:1066: FutureWarning: `rcond` parameter will change to the default of machine precision times ``max(M, N)`` where M and N are the input matrix dimensions.\n",
      "To use the future default and silence this warning we advise to pass `rcond=None`, to keep using the old, explicitly pass `rcond=-1`.\n",
      "  coef, resid = np.linalg.lstsq(B, weighted_y[:, i])[0:2]\n"
     ]
    },
    {
     "name": "stdout",
     "output_type": "stream",
     "text": [
      "Beginning forward pass\n",
      "---------------------------------------------------------------\n",
      "iter  parent  var  knot  mse       terms  gcv    rsq    grsq   \n",
      "---------------------------------------------------------------\n",
      "0     -       -    -     0.332578  1      0.333  0.000  0.000  \n",
      "1     0       11   23023  0.132357  3      0.132  0.602  0.602  \n",
      "2     0       47   17506  0.123315  5      0.123  0.629  0.629  \n",
      "3     4       39   17504  0.118975  7      0.119  0.642  0.642  \n",
      "4     1       37   23536  0.114645  9      0.115  0.655  0.655  \n",
      "5     2       53   12710  0.112075  11     0.112  0.663  0.662  \n",
      "6     0       38   4880  0.109147  13     0.109  0.672  0.671  \n",
      "7     9       44   21954  0.107633  15     0.108  0.676  0.675  \n",
      "8     9       45   22800  0.105834  17     0.106  0.682  0.681  \n",
      "9     5       21   -1    0.104499  18     0.105  0.686  0.685  \n",
      "10    0       45   22113  0.103390  20     0.104  0.689  0.688  \n",
      "11    12      42   17924  0.101884  22     0.102  0.694  0.692  \n",
      "----------------------------------------------------------------\n",
      "Stopping Condition 0: Reached maximum number of terms\n",
      "Beginning pruning pass\n",
      "--------------------------------------------\n",
      "iter  bf  terms  mse   gcv    rsq    grsq   \n",
      "--------------------------------------------\n",
      "0     -   22     0.10  0.102  0.694  0.692  \n"
     ]
    },
    {
     "name": "stderr",
     "output_type": "stream",
     "text": [
      "/home/song/anaconda3/envs/tf/lib/python3.8/site-packages/pyearth/earth.py:813: FutureWarning: `rcond` parameter will change to the default of machine precision times ``max(M, N)`` where M and N are the input matrix dimensions.\n",
      "To use the future default and silence this warning we advise to pass `rcond=None`, to keep using the old, explicitly pass `rcond=-1`.\n",
      "  pruning_passer.run()\n"
     ]
    },
    {
     "name": "stdout",
     "output_type": "stream",
     "text": [
      "1     7   21     0.10  0.102  0.694  0.692  \n",
      "2     5   20     0.10  0.102  0.694  0.692  \n",
      "3     3   19     0.10  0.102  0.693  0.692  \n",
      "4     18  18     0.10  0.102  0.693  0.692  \n",
      "5     9   17     0.10  0.103  0.692  0.691  \n",
      "6     21  16     0.10  0.103  0.692  0.691  \n",
      "7     15  15     0.10  0.103  0.690  0.689  \n",
      "8     13  14     0.10  0.104  0.688  0.687  \n",
      "9     11  13     0.10  0.105  0.685  0.685  \n",
      "10    16  12     0.11  0.106  0.683  0.682  \n",
      "11    14  11     0.11  0.107  0.679  0.678  \n",
      "12    20  10     0.11  0.109  0.674  0.674  \n",
      "13    19  9      0.11  0.109  0.672  0.671  \n",
      "14    17  8      0.11  0.111  0.667  0.666  \n",
      "15    12  7      0.11  0.113  0.660  0.660  \n",
      "16    6   6      0.12  0.116  0.651  0.650  \n",
      "17    10  5      0.12  0.119  0.641  0.641  \n",
      "18    8   4      0.12  0.124  0.628  0.628  \n",
      "19    4   3      0.13  0.132  0.602  0.602  \n",
      "20    2   2      0.16  0.160  0.520  0.520  \n",
      "21    1   1      0.33  0.333  0.000  0.000  \n",
      "--------------------------------------------\n",
      "Selected iteration: 1\n"
     ]
    },
    {
     "name": "stderr",
     "output_type": "stream",
     "text": [
      "/home/song/anaconda3/envs/tf/lib/python3.8/site-packages/pyearth/earth.py:1066: FutureWarning: `rcond` parameter will change to the default of machine precision times ``max(M, N)`` where M and N are the input matrix dimensions.\n",
      "To use the future default and silence this warning we advise to pass `rcond=None`, to keep using the old, explicitly pass `rcond=-1`.\n",
      "  coef, resid = np.linalg.lstsq(B, weighted_y[:, i])[0:2]\n"
     ]
    },
    {
     "name": "stdout",
     "output_type": "stream",
     "text": [
      "Beginning forward pass\n",
      "---------------------------------------------------------------\n",
      "iter  parent  var  knot  mse       terms  gcv    rsq    grsq   \n",
      "---------------------------------------------------------------\n",
      "0     -       -    -     0.332690  1      0.333  0.000  0.000  \n",
      "1     0       11   5445  0.134355  3      0.134  0.596  0.596  \n",
      "2     2       12   -1    0.103052  4      0.103  0.690  0.690  \n",
      "3     1       37   23536  0.098085  6      0.098  0.705  0.705  \n",
      "4     0       41   21721  0.093998  8      0.094  0.717  0.717  \n",
      "5     0       29   7233  0.090739  10     0.091  0.727  0.727  \n",
      "6     6       27   9995  0.088044  12     0.088  0.735  0.735  \n",
      "7     8       94   -1    0.086414  13     0.087  0.740  0.740  \n",
      "8     0       27   3159  0.084535  15     0.085  0.746  0.745  \n",
      "9     13      32   -1    0.082899  16     0.083  0.751  0.750  \n",
      "10    9       39   17796  0.081438  18     0.082  0.755  0.754  \n",
      "11    0       27   3053  0.080082  20     0.080  0.759  0.758  \n",
      "12    2       48   17217  0.078869  22     0.079  0.763  0.762  \n",
      "----------------------------------------------------------------\n",
      "Stopping Condition 0: Reached maximum number of terms\n",
      "Beginning pruning pass\n",
      "--------------------------------------------\n",
      "iter  bf  terms  mse   gcv    rsq    grsq   \n",
      "--------------------------------------------\n",
      "0     -   22     0.08  0.079  0.763  0.762  \n"
     ]
    },
    {
     "name": "stderr",
     "output_type": "stream",
     "text": [
      "/home/song/anaconda3/envs/tf/lib/python3.8/site-packages/pyearth/earth.py:813: FutureWarning: `rcond` parameter will change to the default of machine precision times ``max(M, N)`` where M and N are the input matrix dimensions.\n",
      "To use the future default and silence this warning we advise to pass `rcond=None`, to keep using the old, explicitly pass `rcond=-1`.\n",
      "  pruning_passer.run()\n"
     ]
    },
    {
     "name": "stdout",
     "output_type": "stream",
     "text": [
      "1     19  21     0.08  0.079  0.763  0.762  \n",
      "2     10  20     0.08  0.079  0.763  0.762  \n",
      "3     4   19     0.08  0.079  0.763  0.762  \n",
      "4     17  18     0.08  0.079  0.763  0.762  \n",
      "5     11  17     0.08  0.080  0.762  0.761  \n",
      "6     20  16     0.08  0.080  0.761  0.760  \n",
      "7     21  15     0.08  0.081  0.758  0.758  \n",
      "8     9   14     0.08  0.082  0.755  0.755  \n",
      "9     16  13     0.08  0.083  0.751  0.751  \n",
      "10    6   12     0.08  0.084  0.749  0.749  \n",
      "11    5   11     0.09  0.085  0.744  0.744  \n",
      "12    15  10     0.09  0.087  0.739  0.738  \n",
      "13    18  9      0.09  0.089  0.732  0.732  \n",
      "14    14  8      0.09  0.090  0.728  0.728  \n",
      "15    8   7      0.09  0.092  0.723  0.722  \n",
      "16    13  6      0.09  0.094  0.716  0.716  \n",
      "17    7   5      0.10  0.099  0.702  0.702  \n",
      "18    12  4      0.10  0.103  0.690  0.690  \n",
      "19    3   3      0.13  0.134  0.596  0.596  \n",
      "20    2   2      0.16  0.162  0.513  0.513  \n",
      "21    1   1      0.33  0.333  0.000  0.000  \n",
      "--------------------------------------------\n",
      "Selected iteration: 2\n",
      "Beginning forward pass\n",
      "---------------------------------------------------------------\n",
      "iter  parent  var  knot  mse       terms  gcv    rsq    grsq   \n",
      "---------------------------------------------------------------\n",
      "0     -       -    -     0.332806  1      0.333  0.000  0.000  \n"
     ]
    },
    {
     "name": "stderr",
     "output_type": "stream",
     "text": [
      "/home/song/anaconda3/envs/tf/lib/python3.8/site-packages/pyearth/earth.py:1066: FutureWarning: `rcond` parameter will change to the default of machine precision times ``max(M, N)`` where M and N are the input matrix dimensions.\n",
      "To use the future default and silence this warning we advise to pass `rcond=None`, to keep using the old, explicitly pass `rcond=-1`.\n",
      "  coef, resid = np.linalg.lstsq(B, weighted_y[:, i])[0:2]\n"
     ]
    },
    {
     "name": "stdout",
     "output_type": "stream",
     "text": [
      "1     0       11   5445  0.136416  3      0.136  0.590  0.590  \n",
      "2     0       45   22832  0.128271  5      0.128  0.615  0.614  \n",
      "3     1       29   23573  0.122564  7      0.123  0.632  0.631  \n",
      "4     2       21   20581  0.117217  9      0.117  0.648  0.647  \n",
      "5     2       12   -1    0.112060  10     0.112  0.663  0.663  \n",
      "6     7       41   10683  0.107440  12     0.108  0.677  0.676  \n",
      "7     4       15   23129  0.104680  14     0.105  0.685  0.685  \n",
      "8     0       29   7233  0.102368  16     0.103  0.692  0.691  \n",
      "9     0       47   18000  0.099967  18     0.100  0.700  0.699  \n",
      "10    0       52   17294  0.097619  20     0.098  0.707  0.706  \n",
      "11    0       4    17823  0.095726  22     0.096  0.712  0.711  \n",
      "----------------------------------------------------------------\n",
      "Stopping Condition 0: Reached maximum number of terms\n",
      "Beginning pruning pass\n",
      "--------------------------------------------\n",
      "iter  bf  terms  mse   gcv    rsq    grsq   \n",
      "--------------------------------------------\n",
      "0     -   22     0.10  0.096  0.712  0.711  \n"
     ]
    },
    {
     "name": "stderr",
     "output_type": "stream",
     "text": [
      "/home/song/anaconda3/envs/tf/lib/python3.8/site-packages/pyearth/earth.py:813: FutureWarning: `rcond` parameter will change to the default of machine precision times ``max(M, N)`` where M and N are the input matrix dimensions.\n",
      "To use the future default and silence this warning we advise to pass `rcond=None`, to keep using the old, explicitly pass `rcond=-1`.\n",
      "  pruning_passer.run()\n"
     ]
    },
    {
     "name": "stdout",
     "output_type": "stream",
     "text": [
      "1     8   21     0.10  0.096  0.712  0.711  \n",
      "2     5   20     0.10  0.096  0.712  0.711  \n",
      "3     12  19     0.10  0.096  0.712  0.711  \n",
      "4     3   18     0.10  0.096  0.711  0.710  \n",
      "5     2   17     0.10  0.097  0.711  0.710  \n",
      "6     11  16     0.10  0.097  0.709  0.708  \n",
      "7     16  15     0.10  0.097  0.708  0.707  \n",
      "8     18  14     0.10  0.098  0.706  0.705  \n",
      "9     20  13     0.10  0.098  0.705  0.704  \n",
      "10    21  12     0.10  0.100  0.701  0.701  \n",
      "11    15  11     0.10  0.101  0.696  0.696  \n",
      "12    13  10     0.10  0.103  0.692  0.692  \n",
      "13    19  9      0.10  0.104  0.687  0.686  \n",
      "14    14  8      0.11  0.107  0.679  0.679  \n",
      "15    17  7      0.11  0.109  0.672  0.672  \n",
      "16    6   6      0.11  0.115  0.656  0.656  \n",
      "17    10  5      0.12  0.120  0.640  0.639  \n",
      "18    4   4      0.13  0.127  0.618  0.618  \n",
      "19    9   3      0.14  0.139  0.583  0.583  \n",
      "20    7   2      0.16  0.164  0.507  0.506  \n",
      "21    1   1      0.33  0.333  0.000  0.000  \n",
      "--------------------------------------------\n",
      "Selected iteration: 1\n"
     ]
    },
    {
     "name": "stderr",
     "output_type": "stream",
     "text": [
      "/home/song/anaconda3/envs/tf/lib/python3.8/site-packages/pyearth/earth.py:1066: FutureWarning: `rcond` parameter will change to the default of machine precision times ``max(M, N)`` where M and N are the input matrix dimensions.\n",
      "To use the future default and silence this warning we advise to pass `rcond=None`, to keep using the old, explicitly pass `rcond=-1`.\n",
      "  coef, resid = np.linalg.lstsq(B, weighted_y[:, i])[0:2]\n"
     ]
    },
    {
     "name": "stdout",
     "output_type": "stream",
     "text": [
      "Beginning forward pass\n",
      "---------------------------------------------------------------\n",
      "iter  parent  var  knot  mse       terms  gcv    rsq    grsq   \n",
      "---------------------------------------------------------------\n",
      "0     -       -    -     0.332911  1      0.333  0.000  0.000  \n",
      "1     0       11   5337  0.138911  3      0.139  0.583  0.583  \n",
      "2     2       12   -1    0.125729  4      0.126  0.622  0.622  \n",
      "3     0       37   19666  0.118568  6      0.119  0.644  0.643  \n",
      "4     0       5    -1    0.114063  7      0.114  0.657  0.657  \n",
      "5     5       27   3159  0.110955  9      0.111  0.667  0.666  \n",
      "6     2       27   17849  0.107979  11     0.108  0.676  0.675  \n",
      "7     7       40   18070  0.105171  13     0.105  0.684  0.683  \n",
      "8     6       29   7233  0.103161  15     0.103  0.690  0.689  \n",
      "9     9       30   11904  0.101524  17     0.102  0.695  0.694  \n",
      "10    14      40   17264  0.099985  19     0.100  0.700  0.699  \n",
      "11    10      43   17590  0.097666  21     0.098  0.707  0.705  \n",
      "----------------------------------------------------------------\n",
      "Stopping Condition 0: Reached maximum number of terms\n",
      "Beginning pruning pass\n",
      "--------------------------------------------\n",
      "iter  bf  terms  mse   gcv    rsq    grsq   \n",
      "--------------------------------------------\n",
      "0     -   21     0.10  0.098  0.707  0.705  \n"
     ]
    },
    {
     "name": "stderr",
     "output_type": "stream",
     "text": [
      "/home/song/anaconda3/envs/tf/lib/python3.8/site-packages/pyearth/earth.py:813: FutureWarning: `rcond` parameter will change to the default of machine precision times ``max(M, N)`` where M and N are the input matrix dimensions.\n",
      "To use the future default and silence this warning we advise to pass `rcond=None`, to keep using the old, explicitly pass `rcond=-1`.\n",
      "  pruning_passer.run()\n"
     ]
    },
    {
     "name": "stdout",
     "output_type": "stream",
     "text": [
      "1     20  20     0.10  0.098  0.707  0.705  \n",
      "2     12  19     0.10  0.098  0.706  0.705  \n",
      "3     10  18     0.10  0.098  0.706  0.705  \n",
      "4     7   17     0.10  0.098  0.705  0.704  \n",
      "5     9   16     0.10  0.099  0.705  0.704  \n",
      "6     18  15     0.10  0.099  0.704  0.703  \n",
      "7     15  14     0.10  0.099  0.703  0.702  \n",
      "8     6   13     0.10  0.100  0.700  0.700  \n",
      "9     16  12     0.10  0.101  0.697  0.696  \n",
      "10    8   11     0.10  0.103  0.692  0.692  \n",
      "11    11  10     0.10  0.104  0.689  0.688  \n",
      "12    5   9      0.10  0.105  0.685  0.684  \n",
      "13    4   8      0.11  0.108  0.675  0.675  \n",
      "14    19  7      0.11  0.113  0.662  0.661  \n",
      "15    17  6      0.12  0.118  0.646  0.646  \n",
      "16    14  5      0.12  0.120  0.640  0.639  \n",
      "17    13  4      0.13  0.126  0.622  0.622  \n",
      "18    3   3      0.14  0.139  0.583  0.583  \n",
      "19    1   2      0.17  0.172  0.483  0.483  \n",
      "20    2   1      0.33  0.333  0.000  0.000  \n",
      "--------------------------------------------\n",
      "Selected iteration: 0\n"
     ]
    },
    {
     "name": "stderr",
     "output_type": "stream",
     "text": [
      "/home/song/anaconda3/envs/tf/lib/python3.8/site-packages/pyearth/earth.py:1066: FutureWarning: `rcond` parameter will change to the default of machine precision times ``max(M, N)`` where M and N are the input matrix dimensions.\n",
      "To use the future default and silence this warning we advise to pass `rcond=None`, to keep using the old, explicitly pass `rcond=-1`.\n",
      "  coef, resid = np.linalg.lstsq(B, weighted_y[:, i])[0:2]\n"
     ]
    },
    {
     "name": "stdout",
     "output_type": "stream",
     "text": [
      "Beginning forward pass\n",
      "---------------------------------------------------------------\n",
      "iter  parent  var  knot  mse       terms  gcv    rsq    grsq   \n",
      "---------------------------------------------------------------\n",
      "0     -       -    -     0.333054  1      0.333  0.000  0.000  \n",
      "1     0       11   5337  0.141255  3      0.141  0.576  0.576  \n",
      "2     0       45   12406  0.133509  5      0.134  0.599  0.599  \n",
      "3     0       1    3361  0.126665  7      0.127  0.620  0.619  \n",
      "4     0       37   19666  0.120588  9      0.121  0.638  0.637  \n",
      "5     4       21   -1    0.117474  10     0.118  0.647  0.647  \n",
      "6     2       53   9365  0.114550  12     0.115  0.656  0.655  \n",
      "7     10      21   -1    0.111809  13     0.112  0.664  0.663  \n",
      "8     10      12   -1    0.108977  14     0.109  0.673  0.672  \n",
      "9     5       30   11912  0.106261  16     0.107  0.681  0.680  \n",
      "10    9       47   18002  0.104267  18     0.105  0.687  0.686  \n",
      "11    1       4    -1    0.102585  19     0.103  0.692  0.691  \n",
      "12    0       9    23049  0.100910  21     0.101  0.697  0.696  \n",
      "----------------------------------------------------------------\n",
      "Stopping Condition 0: Reached maximum number of terms\n",
      "Beginning pruning pass\n",
      "--------------------------------------------\n",
      "iter  bf  terms  mse   gcv    rsq    grsq   \n",
      "--------------------------------------------\n",
      "0     -   21     0.10  0.101  0.697  0.696  \n"
     ]
    },
    {
     "name": "stderr",
     "output_type": "stream",
     "text": [
      "/home/song/anaconda3/envs/tf/lib/python3.8/site-packages/pyearth/earth.py:813: FutureWarning: `rcond` parameter will change to the default of machine precision times ``max(M, N)`` where M and N are the input matrix dimensions.\n",
      "To use the future default and silence this warning we advise to pass `rcond=None`, to keep using the old, explicitly pass `rcond=-1`.\n",
      "  pruning_passer.run()\n"
     ]
    },
    {
     "name": "stdout",
     "output_type": "stream",
     "text": [
      "1     5   20     0.10  0.101  0.697  0.696  \n",
      "2     20  19     0.10  0.101  0.697  0.695  \n",
      "3     9   18     0.10  0.102  0.696  0.695  \n",
      "4     8   17     0.10  0.102  0.695  0.694  \n",
      "5     15  16     0.10  0.102  0.695  0.694  \n",
      "6     3   15     0.10  0.102  0.693  0.692  \n",
      "7     6   14     0.10  0.103  0.691  0.691  \n",
      "8     16  13     0.10  0.104  0.690  0.689  \n",
      "9     19  12     0.11  0.105  0.685  0.684  \n",
      "10    18  11     0.11  0.107  0.680  0.679  \n",
      "11    17  10     0.11  0.109  0.674  0.673  \n",
      "12    13  9      0.11  0.112  0.664  0.664  \n",
      "13    10  8      0.11  0.113  0.661  0.660  \n",
      "14    7   7      0.12  0.116  0.651  0.650  \n",
      "15    11  6      0.12  0.120  0.640  0.639  \n",
      "16    4   5      0.13  0.127  0.619  0.618  \n",
      "17    12  4      0.13  0.133  0.601  0.601  \n",
      "18    14  3      0.14  0.141  0.576  0.576  \n",
      "19    1   2      0.17  0.174  0.479  0.479  \n",
      "20    2   1      0.33  0.333  0.000  0.000  \n",
      "--------------------------------------------\n",
      "Selected iteration: 0\n"
     ]
    },
    {
     "name": "stderr",
     "output_type": "stream",
     "text": [
      "/home/song/anaconda3/envs/tf/lib/python3.8/site-packages/pyearth/earth.py:1066: FutureWarning: `rcond` parameter will change to the default of machine precision times ``max(M, N)`` where M and N are the input matrix dimensions.\n",
      "To use the future default and silence this warning we advise to pass `rcond=None`, to keep using the old, explicitly pass `rcond=-1`.\n",
      "  coef, resid = np.linalg.lstsq(B, weighted_y[:, i])[0:2]\n"
     ]
    },
    {
     "name": "stdout",
     "output_type": "stream",
     "text": [
      "Beginning forward pass\n",
      "---------------------------------------------------------------\n",
      "iter  parent  var  knot  mse       terms  gcv    rsq    grsq   \n",
      "---------------------------------------------------------------\n",
      "0     -       -    -     0.333162  1      0.333  0.000  0.000  \n",
      "1     0       11   5337  0.144036  3      0.144  0.568  0.567  \n",
      "2     2       21   -1    0.133839  4      0.134  0.598  0.598  \n",
      "3     0       29   14299  0.125345  6      0.125  0.624  0.623  \n",
      "4     0       42   12051  0.116348  8      0.117  0.651  0.650  \n",
      "5     2       27   3159  0.112464  10     0.113  0.662  0.662  \n",
      "6     5       31   22359  0.108869  12     0.109  0.673  0.672  \n",
      "7     11      11   15003  0.105030  14     0.105  0.685  0.684  \n",
      "8     6       23   1626  0.102815  16     0.103  0.691  0.690  \n",
      "9     0       12   23803  0.100881  18     0.101  0.697  0.696  \n",
      "10    11      48   3625  0.098915  20     0.099  0.703  0.702  \n",
      "11    17      5    -1    0.097322  21     0.098  0.708  0.707  \n",
      "---------------------------------------------------------------\n",
      "Stopping Condition 0: Reached maximum number of terms\n",
      "Beginning pruning pass\n",
      "--------------------------------------------\n",
      "iter  bf  terms  mse   gcv    rsq    grsq   \n",
      "--------------------------------------------\n",
      "0     -   21     0.10  0.098  0.708  0.707  \n"
     ]
    },
    {
     "name": "stderr",
     "output_type": "stream",
     "text": [
      "/home/song/anaconda3/envs/tf/lib/python3.8/site-packages/pyearth/earth.py:813: FutureWarning: `rcond` parameter will change to the default of machine precision times ``max(M, N)`` where M and N are the input matrix dimensions.\n",
      "To use the future default and silence this warning we advise to pass `rcond=None`, to keep using the old, explicitly pass `rcond=-1`.\n",
      "  pruning_passer.run()\n"
     ]
    },
    {
     "name": "stdout",
     "output_type": "stream",
     "text": [
      "1     16  20     0.10  0.098  0.708  0.707  \n",
      "2     9   19     0.10  0.098  0.708  0.706  \n",
      "3     15  18     0.10  0.098  0.707  0.706  \n",
      "4     3   17     0.10  0.098  0.707  0.706  \n",
      "5     18  16     0.10  0.099  0.704  0.703  \n",
      "6     13  15     0.10  0.100  0.700  0.699  \n",
      "7     6   14     0.10  0.102  0.695  0.695  \n",
      "8     20  13     0.10  0.103  0.690  0.690  \n",
      "9     19  12     0.11  0.106  0.684  0.683  \n",
      "10    5   11     0.11  0.107  0.679  0.678  \n",
      "11    11  10     0.11  0.108  0.675  0.675  \n",
      "12    12  9      0.11  0.110  0.669  0.668  \n",
      "13    10  8      0.11  0.112  0.666  0.665  \n",
      "14    8   7      0.12  0.116  0.653  0.652  \n",
      "15    7   6      0.12  0.122  0.635  0.635  \n",
      "16    14  5      0.13  0.126  0.621  0.620  \n",
      "17    4   4      0.13  0.135  0.595  0.595  \n",
      "18    17  3      0.14  0.144  0.568  0.567  \n",
      "19    1   2      0.18  0.175  0.474  0.474  \n",
      "20    2   1      0.33  0.333  0.000  0.000  \n",
      "--------------------------------------------\n",
      "Selected iteration: 1\n"
     ]
    },
    {
     "name": "stderr",
     "output_type": "stream",
     "text": [
      "/home/song/anaconda3/envs/tf/lib/python3.8/site-packages/pyearth/earth.py:1066: FutureWarning: `rcond` parameter will change to the default of machine precision times ``max(M, N)`` where M and N are the input matrix dimensions.\n",
      "To use the future default and silence this warning we advise to pass `rcond=None`, to keep using the old, explicitly pass `rcond=-1`.\n",
      "  coef, resid = np.linalg.lstsq(B, weighted_y[:, i])[0:2]\n"
     ]
    },
    {
     "name": "stdout",
     "output_type": "stream",
     "text": [
      "Beginning forward pass\n",
      "---------------------------------------------------------------\n",
      "iter  parent  var  knot  mse       terms  gcv    rsq    grsq   \n",
      "---------------------------------------------------------------\n",
      "0     -       -    -     0.333309  1      0.333  0.000  0.000  \n",
      "1     0       11   5337  0.146910  3      0.147  0.559  0.559  \n",
      "2     2       12   -1    0.133258  4      0.133  0.600  0.600  \n",
      "3     0       29   14888  0.123075  6      0.123  0.631  0.630  \n",
      "4     0       47   17419  0.113224  8      0.113  0.660  0.660  \n",
      "5     6       54   17924  0.109898  10     0.110  0.670  0.670  \n",
      "6     7       41   23295  0.106531  12     0.107  0.680  0.680  \n",
      "7     5       11   23886  0.103677  14     0.104  0.689  0.688  \n",
      "8     0       21   -1    0.101118  15     0.101  0.697  0.696  \n",
      "9     0       38   4880  0.098882  17     0.099  0.703  0.702  \n",
      "10    13      53   18912  0.096316  19     0.097  0.711  0.710  \n",
      "11    5       9    5850  0.094186  21     0.095  0.717  0.716  \n",
      "---------------------------------------------------------------\n",
      "Stopping Condition 0: Reached maximum number of terms\n",
      "Beginning pruning pass\n",
      "--------------------------------------------\n",
      "iter  bf  terms  mse   gcv    rsq    grsq   \n",
      "--------------------------------------------\n",
      "0     -   21     0.09  0.095  0.717  0.716  \n"
     ]
    },
    {
     "name": "stderr",
     "output_type": "stream",
     "text": [
      "/home/song/anaconda3/envs/tf/lib/python3.8/site-packages/pyearth/earth.py:813: FutureWarning: `rcond` parameter will change to the default of machine precision times ``max(M, N)`` where M and N are the input matrix dimensions.\n",
      "To use the future default and silence this warning we advise to pass `rcond=None`, to keep using the old, explicitly pass `rcond=-1`.\n",
      "  pruning_passer.run()\n"
     ]
    },
    {
     "name": "stdout",
     "output_type": "stream",
     "text": [
      "1     17  20     0.09  0.095  0.717  0.716  \n",
      "2     10  19     0.09  0.095  0.717  0.716  \n",
      "3     3   18     0.09  0.095  0.717  0.716  \n",
      "4     20  17     0.09  0.095  0.717  0.716  \n",
      "5     6   16     0.09  0.095  0.716  0.715  \n",
      "6     9   15     0.10  0.096  0.714  0.713  \n",
      "7     13  14     0.10  0.096  0.712  0.711  \n",
      "8     5   13     0.10  0.097  0.711  0.710  \n",
      "9     19  12     0.10  0.098  0.706  0.706  \n",
      "10    15  11     0.10  0.100  0.701  0.701  \n",
      "11    12  10     0.10  0.102  0.695  0.694  \n",
      "12    8   9      0.10  0.104  0.688  0.687  \n",
      "13    16  8      0.11  0.107  0.679  0.678  \n",
      "14    18  7      0.11  0.110  0.671  0.670  \n",
      "15    11  6      0.11  0.114  0.658  0.658  \n",
      "16    7   5      0.12  0.125  0.626  0.626  \n",
      "17    4   4      0.13  0.135  0.595  0.595  \n",
      "18    14  3      0.15  0.147  0.559  0.559  \n",
      "19    1   2      0.18  0.177  0.469  0.469  \n",
      "20    2   1      0.33  0.333  0.000  0.000  \n",
      "--------------------------------------------\n",
      "Selected iteration: 2\n",
      "Beginning forward pass\n",
      "---------------------------------------------------------------\n",
      "iter  parent  var  knot  mse       terms  gcv    rsq    grsq   \n",
      "---------------------------------------------------------------\n",
      "0     -       -    -     0.333483  1      0.334  0.000  0.000  \n"
     ]
    },
    {
     "name": "stderr",
     "output_type": "stream",
     "text": [
      "/home/song/anaconda3/envs/tf/lib/python3.8/site-packages/pyearth/earth.py:1066: FutureWarning: `rcond` parameter will change to the default of machine precision times ``max(M, N)`` where M and N are the input matrix dimensions.\n",
      "To use the future default and silence this warning we advise to pass `rcond=None`, to keep using the old, explicitly pass `rcond=-1`.\n",
      "  coef, resid = np.linalg.lstsq(B, weighted_y[:, i])[0:2]\n"
     ]
    },
    {
     "name": "stdout",
     "output_type": "stream",
     "text": [
      "1     0       11   5337  0.149713  3      0.150  0.551  0.551  \n",
      "2     0       12   -1    0.130568  4      0.131  0.608  0.608  \n",
      "3     0       29   14299  0.119720  6      0.120  0.641  0.641  \n",
      "4     2       46   17405  0.110387  8      0.111  0.669  0.669  \n",
      "5     0       5    -1    0.106921  9      0.107  0.679  0.679  \n",
      "6     8       37   19666  0.102957  11     0.103  0.691  0.691  \n",
      "7     5       41   3813  0.100174  13     0.100  0.700  0.699  \n",
      "8     8       40   15519  0.098171  15     0.098  0.706  0.705  \n",
      "9     5       9    5564  0.096304  17     0.097  0.711  0.710  \n",
      "10    16      11   6985  0.094509  19     0.095  0.717  0.716  \n",
      "11    7       11   20220  0.092884  21     0.093  0.721  0.720  \n",
      "----------------------------------------------------------------\n",
      "Stopping Condition 0: Reached maximum number of terms\n",
      "Beginning pruning pass\n",
      "--------------------------------------------\n",
      "iter  bf  terms  mse   gcv    rsq    grsq   \n",
      "--------------------------------------------\n",
      "0     -   21     0.09  0.093  0.721  0.720  \n"
     ]
    },
    {
     "name": "stderr",
     "output_type": "stream",
     "text": [
      "/home/song/anaconda3/envs/tf/lib/python3.8/site-packages/pyearth/earth.py:813: FutureWarning: `rcond` parameter will change to the default of machine precision times ``max(M, N)`` where M and N are the input matrix dimensions.\n",
      "To use the future default and silence this warning we advise to pass `rcond=None`, to keep using the old, explicitly pass `rcond=-1`.\n",
      "  pruning_passer.run()\n"
     ]
    },
    {
     "name": "stdout",
     "output_type": "stream",
     "text": [
      "1     16  20     0.09  0.093  0.721  0.720  \n",
      "2     14  19     0.09  0.093  0.721  0.720  \n",
      "3     6   18     0.09  0.093  0.721  0.720  \n",
      "4     19  17     0.09  0.094  0.720  0.719  \n",
      "5     18  16     0.09  0.094  0.720  0.719  \n",
      "6     10  15     0.09  0.094  0.719  0.718  \n",
      "7     5   14     0.09  0.095  0.717  0.716  \n",
      "8     15  13     0.10  0.096  0.714  0.713  \n",
      "9     13  12     0.10  0.097  0.710  0.709  \n",
      "10    11  11     0.10  0.098  0.707  0.706  \n",
      "11    12  10     0.10  0.100  0.702  0.701  \n",
      "12    20  9      0.10  0.101  0.697  0.697  \n",
      "13    17  8      0.10  0.103  0.691  0.690  \n",
      "14    4   7      0.11  0.107  0.680  0.680  \n",
      "15    8   6      0.11  0.111  0.668  0.668  \n",
      "16    2   5      0.12  0.117  0.648  0.648  \n",
      "17    1   4      0.14  0.140  0.580  0.580  \n",
      "18    3   3      0.16  0.162  0.515  0.515  \n",
      "19    7   2      0.19  0.186  0.443  0.442  \n",
      "20    9   1      0.33  0.334  0.000  0.000  \n",
      "--------------------------------------------\n",
      "Selected iteration: 0\n"
     ]
    },
    {
     "name": "stderr",
     "output_type": "stream",
     "text": [
      "/home/song/anaconda3/envs/tf/lib/python3.8/site-packages/pyearth/earth.py:1066: FutureWarning: `rcond` parameter will change to the default of machine precision times ``max(M, N)`` where M and N are the input matrix dimensions.\n",
      "To use the future default and silence this warning we advise to pass `rcond=None`, to keep using the old, explicitly pass `rcond=-1`.\n",
      "  coef, resid = np.linalg.lstsq(B, weighted_y[:, i])[0:2]\n"
     ]
    },
    {
     "name": "stdout",
     "output_type": "stream",
     "text": [
      "Beginning forward pass\n",
      "---------------------------------------------------------------\n",
      "iter  parent  var  knot  mse       terms  gcv    rsq    grsq   \n",
      "---------------------------------------------------------------\n",
      "0     -       -    -     0.333599  1      0.334  0.000  0.000  \n",
      "1     0       11   5337  0.152793  3      0.153  0.542  0.542  \n",
      "2     0       29   14299  0.139836  5      0.140  0.581  0.580  \n",
      "3     2       41   4061  0.132149  7      0.132  0.604  0.603  \n",
      "4     2       27   3159  0.126368  9      0.127  0.621  0.621  \n",
      "5     8       44   17443  0.122352  11     0.123  0.633  0.632  \n",
      "6     4       31   22359  0.118305  13     0.119  0.645  0.644  \n",
      "7     0       1    7357  0.115415  15     0.116  0.654  0.653  \n",
      "8     13      8    -1    0.112276  16     0.113  0.663  0.662  \n",
      "9     14      37   9419  0.109821  18     0.110  0.671  0.670  \n",
      "10    0       52   2046  0.107476  20     0.108  0.678  0.677  \n",
      "11    7       31   -1    0.105813  21     0.106  0.683  0.682  \n",
      "---------------------------------------------------------------\n",
      "Stopping Condition 0: Reached maximum number of terms\n",
      "Beginning pruning pass\n",
      "--------------------------------------------\n",
      "iter  bf  terms  mse   gcv    rsq    grsq   \n",
      "--------------------------------------------\n",
      "0     -   21     0.11  0.106  0.683  0.682  \n"
     ]
    },
    {
     "name": "stderr",
     "output_type": "stream",
     "text": [
      "/home/song/anaconda3/envs/tf/lib/python3.8/site-packages/pyearth/earth.py:813: FutureWarning: `rcond` parameter will change to the default of machine precision times ``max(M, N)`` where M and N are the input matrix dimensions.\n",
      "To use the future default and silence this warning we advise to pass `rcond=None`, to keep using the old, explicitly pass `rcond=-1`.\n",
      "  pruning_passer.run()\n"
     ]
    },
    {
     "name": "stdout",
     "output_type": "stream",
     "text": [
      "1     4   20     0.11  0.106  0.683  0.682  \n",
      "2     5   19     0.11  0.106  0.683  0.682  \n",
      "3     14  18     0.11  0.106  0.683  0.682  \n",
      "4     10  17     0.11  0.106  0.683  0.682  \n",
      "5     18  16     0.11  0.107  0.682  0.681  \n",
      "6     8   15     0.11  0.107  0.680  0.679  \n",
      "7     16  14     0.11  0.108  0.678  0.677  \n",
      "8     12  13     0.11  0.109  0.673  0.672  \n",
      "9     11  12     0.11  0.111  0.668  0.667  \n",
      "10    17  11     0.11  0.113  0.662  0.661  \n",
      "11    19  10     0.11  0.115  0.657  0.656  \n",
      "12    20  9      0.12  0.117  0.649  0.649  \n",
      "13    9   8      0.12  0.121  0.639  0.639  \n",
      "14    13  7      0.12  0.124  0.627  0.627  \n",
      "15    15  6      0.13  0.128  0.618  0.618  \n",
      "16    6   5      0.13  0.133  0.603  0.603  \n",
      "17    7   4      0.14  0.140  0.581  0.580  \n",
      "18    3   3      0.15  0.153  0.542  0.542  \n",
      "19    1   2      0.18  0.180  0.461  0.461  \n",
      "20    2   1      0.33  0.334  -0.000  -0.000  \n",
      "----------------------------------------------\n",
      "Selected iteration: 3\n",
      "Beginning forward pass\n",
      "---------------------------------------------------------------\n",
      "iter  parent  var  knot  mse       terms  gcv    rsq    grsq   \n",
      "---------------------------------------------------------------\n",
      "0     -       -    -     0.333747  1      0.334  0.000  0.000  \n"
     ]
    },
    {
     "name": "stderr",
     "output_type": "stream",
     "text": [
      "/home/song/anaconda3/envs/tf/lib/python3.8/site-packages/pyearth/earth.py:1066: FutureWarning: `rcond` parameter will change to the default of machine precision times ``max(M, N)`` where M and N are the input matrix dimensions.\n",
      "To use the future default and silence this warning we advise to pass `rcond=None`, to keep using the old, explicitly pass `rcond=-1`.\n",
      "  coef, resid = np.linalg.lstsq(B, weighted_y[:, i])[0:2]\n"
     ]
    },
    {
     "name": "stdout",
     "output_type": "stream",
     "text": [
      "1     0       11   5337  0.155871  3      0.156  0.533  0.533  \n",
      "2     2       21   -1    0.125723  4      0.126  0.623  0.623  \n",
      "3     0       29   14888  0.111012  6      0.111  0.667  0.667  \n",
      "4     0       47   17286  0.105100  8      0.105  0.685  0.685  \n",
      "5     0       44   17645  0.101153  10     0.101  0.697  0.696  \n",
      "6     1       14   -1    0.097521  11     0.098  0.708  0.707  \n",
      "7     9       11   14518  0.094626  13     0.095  0.716  0.716  \n",
      "8     4       18   23057  0.092098  15     0.092  0.724  0.723  \n",
      "9     0       9    5850  0.089864  17     0.090  0.731  0.730  \n",
      "10    16      53   2527  0.087403  19     0.088  0.738  0.737  \n",
      "11    2       38   17125  0.085158  21     0.086  0.745  0.744  \n",
      "----------------------------------------------------------------\n",
      "Stopping Condition 0: Reached maximum number of terms\n",
      "Beginning pruning pass\n",
      "--------------------------------------------\n",
      "iter  bf  terms  mse   gcv    rsq    grsq   \n",
      "--------------------------------------------\n",
      "0     -   21     0.09  0.086  0.745  0.744  \n"
     ]
    },
    {
     "name": "stderr",
     "output_type": "stream",
     "text": [
      "/home/song/anaconda3/envs/tf/lib/python3.8/site-packages/pyearth/earth.py:813: FutureWarning: `rcond` parameter will change to the default of machine precision times ``max(M, N)`` where M and N are the input matrix dimensions.\n",
      "To use the future default and silence this warning we advise to pass `rcond=None`, to keep using the old, explicitly pass `rcond=-1`.\n",
      "  pruning_passer.run()\n"
     ]
    },
    {
     "name": "stdout",
     "output_type": "stream",
     "text": [
      "1     6   20     0.09  0.085  0.745  0.744  \n",
      "2     20  19     0.09  0.085  0.745  0.744  \n",
      "3     11  18     0.09  0.085  0.745  0.744  \n",
      "4     5   17     0.09  0.085  0.745  0.744  \n",
      "5     16  16     0.09  0.086  0.745  0.744  \n",
      "6     17  15     0.09  0.086  0.744  0.744  \n",
      "7     13  14     0.09  0.086  0.744  0.743  \n",
      "8     14  13     0.09  0.088  0.737  0.737  \n",
      "9     15  12     0.09  0.090  0.731  0.731  \n",
      "10    18  11     0.09  0.093  0.722  0.722  \n",
      "11    19  10     0.10  0.095  0.715  0.714  \n",
      "12    12  9      0.10  0.098  0.707  0.706  \n",
      "13    9   8      0.10  0.101  0.699  0.698  \n",
      "14    8   7      0.10  0.103  0.693  0.692  \n",
      "15    10  6      0.11  0.106  0.681  0.681  \n",
      "16    7   5      0.11  0.112  0.666  0.666  \n",
      "17    4   4      0.13  0.126  0.623  0.623  \n",
      "18    1   3      0.15  0.152  0.546  0.546  \n",
      "19    3   2      0.18  0.181  0.456  0.456  \n",
      "20    2   1      0.33  0.334  0.000  0.000  \n",
      "--------------------------------------------\n",
      "Selected iteration: 4\n",
      "Beginning forward pass\n",
      "---------------------------------------------------------------\n",
      "iter  parent  var  knot  mse       terms  gcv    rsq    grsq   \n",
      "---------------------------------------------------------------\n",
      "0     -       -    -     0.333950  1      0.334  0.000  0.000  \n"
     ]
    },
    {
     "name": "stderr",
     "output_type": "stream",
     "text": [
      "/home/song/anaconda3/envs/tf/lib/python3.8/site-packages/pyearth/earth.py:1066: FutureWarning: `rcond` parameter will change to the default of machine precision times ``max(M, N)`` where M and N are the input matrix dimensions.\n",
      "To use the future default and silence this warning we advise to pass `rcond=None`, to keep using the old, explicitly pass `rcond=-1`.\n",
      "  coef, resid = np.linalg.lstsq(B, weighted_y[:, i])[0:2]\n"
     ]
    },
    {
     "name": "stdout",
     "output_type": "stream",
     "text": [
      "1     0       11   5337  0.158694  3      0.159  0.525  0.525  \n",
      "2     0       1    3361  0.140139  5      0.140  0.580  0.580  \n",
      "3     3       8    6377  0.127999  7      0.128  0.617  0.616  \n",
      "4     0       29   14299  0.123648  9      0.124  0.630  0.629  \n",
      "5     8       47   17384  0.119455  11     0.120  0.642  0.642  \n",
      "6     0       53   5366  0.115920  13     0.116  0.653  0.652  \n",
      "7     11      44   20958  0.112915  15     0.113  0.662  0.661  \n",
      "8     11      21   -1    0.110211  16     0.111  0.670  0.669  \n",
      "9     0       12   23803  0.105675  18     0.106  0.684  0.682  \n",
      "10    2       21   -1    0.099837  19     0.100  0.701  0.700  \n",
      "11    17      12   -1    0.095685  20     0.096  0.713  0.712  \n",
      "12    8       9    5850  0.092982  22     0.093  0.722  0.720  \n",
      "---------------------------------------------------------------\n",
      "Stopping Condition 0: Reached maximum number of terms\n",
      "Beginning pruning pass\n",
      "--------------------------------------------\n",
      "iter  bf  terms  mse   gcv    rsq    grsq   \n",
      "--------------------------------------------\n",
      "0     -   22     0.09  0.093  0.722  0.720  \n"
     ]
    },
    {
     "name": "stderr",
     "output_type": "stream",
     "text": [
      "/home/song/anaconda3/envs/tf/lib/python3.8/site-packages/pyearth/earth.py:813: FutureWarning: `rcond` parameter will change to the default of machine precision times ``max(M, N)`` where M and N are the input matrix dimensions.\n",
      "To use the future default and silence this warning we advise to pass `rcond=None`, to keep using the old, explicitly pass `rcond=-1`.\n",
      "  pruning_passer.run()\n"
     ]
    },
    {
     "name": "stdout",
     "output_type": "stream",
     "text": [
      "1     8   21     0.09  0.093  0.722  0.720  \n",
      "2     16  20     0.09  0.093  0.722  0.720  \n",
      "3     9   19     0.09  0.093  0.721  0.720  \n",
      "4     5   18     0.09  0.094  0.720  0.719  \n",
      "5     13  17     0.09  0.095  0.718  0.717  \n",
      "6     14  16     0.10  0.096  0.715  0.714  \n",
      "7     2   15     0.10  0.096  0.712  0.712  \n",
      "8     21  14     0.10  0.097  0.711  0.710  \n",
      "9     4   13     0.10  0.098  0.707  0.706  \n",
      "10    17  12     0.10  0.100  0.700  0.699  \n",
      "11    15  11     0.10  0.103  0.693  0.693  \n",
      "12    11  10     0.10  0.103  0.692  0.691  \n",
      "13    12  9      0.11  0.105  0.685  0.685  \n",
      "14    20  8      0.11  0.108  0.678  0.677  \n",
      "15    10  7      0.11  0.113  0.663  0.662  \n",
      "16    7   6      0.12  0.119  0.645  0.645  \n",
      "17    6   5      0.13  0.133  0.602  0.601  \n",
      "18    3   4      0.15  0.153  0.543  0.543  \n",
      "19    19  3      0.20  0.198  0.408  0.408  \n",
      "20    18  2      0.21  0.206  0.385  0.384  \n",
      "21    1   1      0.33  0.334  -0.000  -0.000  \n",
      "----------------------------------------------\n",
      "Selected iteration: 2\n",
      "Beginning forward pass\n",
      "---------------------------------------------------------------\n",
      "iter  parent  var  knot  mse       terms  gcv    rsq    grsq   \n",
      "---------------------------------------------------------------\n",
      "0     -       -    -     0.334069  1      0.334  0.000  0.000  \n"
     ]
    },
    {
     "name": "stderr",
     "output_type": "stream",
     "text": [
      "/home/song/anaconda3/envs/tf/lib/python3.8/site-packages/pyearth/earth.py:1066: FutureWarning: `rcond` parameter will change to the default of machine precision times ``max(M, N)`` where M and N are the input matrix dimensions.\n",
      "To use the future default and silence this warning we advise to pass `rcond=None`, to keep using the old, explicitly pass `rcond=-1`.\n",
      "  coef, resid = np.linalg.lstsq(B, weighted_y[:, i])[0:2]\n"
     ]
    },
    {
     "name": "stdout",
     "output_type": "stream",
     "text": [
      "1     0       11   5337  0.161534  3      0.162  0.516  0.516  \n",
      "2     0       12   23803  0.140211  5      0.140  0.580  0.580  \n",
      "3     0       1    5994  0.126258  7      0.126  0.622  0.622  \n",
      "4     0       6    23506  0.116428  9      0.117  0.651  0.651  \n",
      "5     8       33   18451  0.109874  11     0.110  0.671  0.670  \n",
      "6     0       32   23416  0.105018  13     0.105  0.686  0.685  \n",
      "7     8       9    5485  0.101415  15     0.102  0.696  0.696  \n",
      "8     0       45   2033  0.098489  17     0.099  0.705  0.704  \n",
      "9     16      38   23071  0.095421  19     0.096  0.714  0.713  \n",
      "10    0       29   14888  0.093191  21     0.094  0.721  0.720  \n",
      "----------------------------------------------------------------\n",
      "Stopping Condition 0: Reached maximum number of terms\n",
      "Beginning pruning pass\n",
      "--------------------------------------------\n",
      "iter  bf  terms  mse   gcv    rsq    grsq   \n",
      "--------------------------------------------\n",
      "0     -   21     0.09  0.094  0.721  0.720  \n"
     ]
    },
    {
     "name": "stderr",
     "output_type": "stream",
     "text": [
      "/home/song/anaconda3/envs/tf/lib/python3.8/site-packages/pyearth/earth.py:813: FutureWarning: `rcond` parameter will change to the default of machine precision times ``max(M, N)`` where M and N are the input matrix dimensions.\n",
      "To use the future default and silence this warning we advise to pass `rcond=None`, to keep using the old, explicitly pass `rcond=-1`.\n",
      "  pruning_passer.run()\n"
     ]
    },
    {
     "name": "stdout",
     "output_type": "stream",
     "text": [
      "1     3   20     0.09  0.094  0.721  0.720  \n",
      "2     10  19     0.09  0.094  0.721  0.720  \n",
      "3     8   18     0.09  0.094  0.720  0.719  \n",
      "4     20  17     0.09  0.094  0.719  0.718  \n",
      "5     15  16     0.09  0.095  0.717  0.716  \n",
      "6     17  15     0.10  0.096  0.714  0.713  \n",
      "7     6   14     0.10  0.097  0.710  0.710  \n",
      "8     11  13     0.10  0.099  0.706  0.705  \n",
      "9     19  12     0.10  0.100  0.701  0.700  \n",
      "10    13  11     0.10  0.103  0.693  0.693  \n",
      "11    12  10     0.11  0.106  0.685  0.684  \n",
      "12    14  9      0.11  0.107  0.679  0.678  \n",
      "13    18  8      0.11  0.110  0.672  0.671  \n",
      "14    16  7      0.11  0.113  0.663  0.662  \n",
      "15    5   6      0.12  0.119  0.644  0.644  \n",
      "16    9   5      0.13  0.127  0.619  0.619  \n",
      "17    7   4      0.14  0.140  0.580  0.580  \n",
      "18    4   3      0.16  0.162  0.516  0.516  \n",
      "19    1   2      0.18  0.184  0.450  0.450  \n",
      "20    2   1      0.33  0.334  -0.000  -0.000  \n",
      "----------------------------------------------\n",
      "Selected iteration: 0\n"
     ]
    },
    {
     "name": "stderr",
     "output_type": "stream",
     "text": [
      "/home/song/anaconda3/envs/tf/lib/python3.8/site-packages/pyearth/earth.py:1066: FutureWarning: `rcond` parameter will change to the default of machine precision times ``max(M, N)`` where M and N are the input matrix dimensions.\n",
      "To use the future default and silence this warning we advise to pass `rcond=None`, to keep using the old, explicitly pass `rcond=-1`.\n",
      "  coef, resid = np.linalg.lstsq(B, weighted_y[:, i])[0:2]\n"
     ]
    },
    {
     "name": "stdout",
     "output_type": "stream",
     "text": [
      "Beginning forward pass\n",
      "---------------------------------------------------------------\n",
      "iter  parent  var  knot  mse       terms  gcv    rsq    grsq   \n",
      "---------------------------------------------------------------\n",
      "0     -       -    -     0.334275  1      0.334  0.000  0.000  \n",
      "1     0       11   5337  0.164831  3      0.165  0.507  0.507  \n",
      "2     0       6    23493  0.150634  5      0.151  0.549  0.549  \n",
      "3     2       41   3868  0.140567  7      0.141  0.579  0.579  \n",
      "4     0       1    2214  0.133364  9      0.134  0.601  0.600  \n",
      "5     4       33   17672  0.129004  11     0.129  0.614  0.613  \n",
      "6     2       20   5110  0.125005  13     0.125  0.626  0.625  \n",
      "7     6       27   2563  0.121364  15     0.122  0.637  0.636  \n",
      "8     7       30   -1    0.118212  16     0.119  0.646  0.645  \n",
      "9     5       28   4720  0.115490  18     0.116  0.655  0.653  \n",
      "10    12      4    17468  0.112033  20     0.112  0.665  0.664  \n",
      "11    5       4    18107  0.109976  22     0.110  0.671  0.670  \n",
      "----------------------------------------------------------------\n",
      "Stopping Condition 0: Reached maximum number of terms\n",
      "Beginning pruning pass\n",
      "--------------------------------------------\n",
      "iter  bf  terms  mse   gcv    rsq    grsq   \n",
      "--------------------------------------------\n",
      "0     -   22     0.11  0.110  0.671  0.670  \n"
     ]
    },
    {
     "name": "stderr",
     "output_type": "stream",
     "text": [
      "/home/song/anaconda3/envs/tf/lib/python3.8/site-packages/pyearth/earth.py:813: FutureWarning: `rcond` parameter will change to the default of machine precision times ``max(M, N)`` where M and N are the input matrix dimensions.\n",
      "To use the future default and silence this warning we advise to pass `rcond=None`, to keep using the old, explicitly pass `rcond=-1`.\n",
      "  pruning_passer.run()\n"
     ]
    },
    {
     "name": "stdout",
     "output_type": "stream",
     "text": [
      "1     13  21     0.11  0.110  0.671  0.670  \n",
      "2     10  20     0.11  0.110  0.671  0.670  \n",
      "3     11  19     0.11  0.110  0.671  0.670  \n",
      "4     6   18     0.11  0.111  0.670  0.669  \n",
      "5     20  17     0.11  0.111  0.669  0.668  \n",
      "6     5   16     0.11  0.112  0.667  0.666  \n",
      "7     8   15     0.11  0.112  0.665  0.664  \n",
      "8     18  14     0.11  0.113  0.662  0.661  \n",
      "9     17  13     0.11  0.114  0.659  0.658  \n",
      "10    4   12     0.12  0.116  0.655  0.654  \n",
      "11    2   11     0.12  0.117  0.650  0.649  \n",
      "12    16  10     0.12  0.120  0.640  0.640  \n",
      "13    7   9      0.12  0.124  0.630  0.629  \n",
      "14    19  8      0.13  0.128  0.618  0.617  \n",
      "15    21  7      0.13  0.130  0.612  0.612  \n",
      "16    15  6      0.13  0.134  0.598  0.598  \n",
      "17    14  5      0.14  0.142  0.575  0.575  \n",
      "18    3   4      0.15  0.153  0.543  0.543  \n",
      "19    9   3      0.17  0.174  0.480  0.480  \n",
      "20    12  2      0.21  0.213  0.363  0.363  \n",
      "21    1   1      0.33  0.334  -0.000  -0.000  \n",
      "----------------------------------------------\n",
      "Selected iteration: 3\n"
     ]
    },
    {
     "name": "stderr",
     "output_type": "stream",
     "text": [
      "/home/song/anaconda3/envs/tf/lib/python3.8/site-packages/pyearth/earth.py:1066: FutureWarning: `rcond` parameter will change to the default of machine precision times ``max(M, N)`` where M and N are the input matrix dimensions.\n",
      "To use the future default and silence this warning we advise to pass `rcond=None`, to keep using the old, explicitly pass `rcond=-1`.\n",
      "  coef, resid = np.linalg.lstsq(B, weighted_y[:, i])[0:2]\n"
     ]
    },
    {
     "name": "stdout",
     "output_type": "stream",
     "text": [
      "Beginning forward pass\n",
      "---------------------------------------------------------------\n",
      "iter  parent  var  knot  mse       terms  gcv    rsq    grsq   \n",
      "---------------------------------------------------------------\n",
      "0     -       -    -     0.334493  1      0.335  0.000  0.000  \n",
      "1     0       11   5337  0.168542  3      0.169  0.496  0.496  \n",
      "2     0       6    23314  0.154183  5      0.154  0.539  0.539  \n",
      "3     2       42   21369  0.142088  7      0.142  0.575  0.575  \n",
      "4     0       1    23807  0.134430  9      0.135  0.598  0.597  \n",
      "5     7       32   23411  0.130318  11     0.131  0.610  0.610  \n",
      "6     0       27   17849  0.125969  13     0.126  0.623  0.622  \n",
      "7     0       21   15247  0.122462  15     0.123  0.634  0.633  \n",
      "8     14      21   20581  0.116814  17     0.117  0.651  0.650  \n",
      "9     15      23   7284  0.113133  19     0.114  0.662  0.661  \n",
      "10    6       48   17476  0.109671  21     0.110  0.672  0.671  \n",
      "----------------------------------------------------------------\n",
      "Stopping Condition 0: Reached maximum number of terms\n",
      "Beginning pruning pass\n",
      "--------------------------------------------\n",
      "iter  bf  terms  mse   gcv    rsq    grsq   \n",
      "--------------------------------------------\n",
      "0     -   21     0.11  0.110  0.672  0.671  \n"
     ]
    },
    {
     "name": "stderr",
     "output_type": "stream",
     "text": [
      "/home/song/anaconda3/envs/tf/lib/python3.8/site-packages/pyearth/earth.py:813: FutureWarning: `rcond` parameter will change to the default of machine precision times ``max(M, N)`` where M and N are the input matrix dimensions.\n",
      "To use the future default and silence this warning we advise to pass `rcond=None`, to keep using the old, explicitly pass `rcond=-1`.\n",
      "  pruning_passer.run()\n"
     ]
    },
    {
     "name": "stdout",
     "output_type": "stream",
     "text": [
      "1     19  20     0.11  0.110  0.672  0.671  \n",
      "2     13  19     0.11  0.110  0.672  0.671  \n",
      "3     16  18     0.11  0.110  0.672  0.671  \n",
      "4     8   17     0.11  0.110  0.672  0.671  \n",
      "5     4   16     0.11  0.110  0.671  0.670  \n",
      "6     18  15     0.11  0.111  0.669  0.668  \n",
      "7     12  14     0.11  0.112  0.667  0.666  \n",
      "8     9   13     0.11  0.113  0.664  0.663  \n",
      "9     5   12     0.11  0.115  0.658  0.657  \n",
      "10    11  11     0.12  0.118  0.648  0.647  \n",
      "11    10  10     0.12  0.122  0.637  0.636  \n",
      "12    17  9      0.13  0.127  0.621  0.620  \n",
      "13    20  8      0.13  0.130  0.612  0.611  \n",
      "14    6   7      0.14  0.136  0.595  0.594  \n",
      "15    14  6      0.14  0.142  0.575  0.575  \n",
      "16    15  5      0.15  0.147  0.560  0.559  \n",
      "17    7   4      0.15  0.155  0.537  0.537  \n",
      "18    3   3      0.17  0.169  0.496  0.496  \n",
      "19    1   2      0.19  0.187  0.441  0.440  \n",
      "20    2   1      0.33  0.335  -0.000  -0.000  \n",
      "----------------------------------------------\n",
      "Selected iteration: 3\n",
      "Beginning forward pass\n",
      "---------------------------------------------------------------\n",
      "iter  parent  var  knot  mse       terms  gcv    rsq    grsq   \n",
      "---------------------------------------------------------------\n",
      "0     -       -    -     0.334744  1      0.335  0.000  0.000  \n"
     ]
    },
    {
     "name": "stderr",
     "output_type": "stream",
     "text": [
      "/home/song/anaconda3/envs/tf/lib/python3.8/site-packages/pyearth/earth.py:1066: FutureWarning: `rcond` parameter will change to the default of machine precision times ``max(M, N)`` where M and N are the input matrix dimensions.\n",
      "To use the future default and silence this warning we advise to pass `rcond=None`, to keep using the old, explicitly pass `rcond=-1`.\n",
      "  coef, resid = np.linalg.lstsq(B, weighted_y[:, i])[0:2]\n"
     ]
    },
    {
     "name": "stdout",
     "output_type": "stream",
     "text": [
      "1     0       11   5337  0.172496  3      0.173  0.485  0.484  \n",
      "2     0       6    23314  0.158122  5      0.158  0.528  0.527  \n",
      "3     2       42   21369  0.145708  7      0.146  0.565  0.564  \n",
      "4     0       21   15247  0.136696  9      0.137  0.592  0.591  \n",
      "5     0       5    -1    0.128537  10     0.129  0.616  0.615  \n",
      "6     1       32   23359  0.123293  12     0.124  0.632  0.631  \n",
      "7     9       27   3159  0.118113  14     0.118  0.647  0.646  \n",
      "8     13      23   7284  0.112149  16     0.113  0.665  0.664  \n",
      "9     8       21   20581  0.107998  18     0.108  0.677  0.676  \n",
      "10    3       61   5267  0.104294  20     0.105  0.688  0.687  \n",
      "11    6       48   17558  0.101242  22     0.102  0.698  0.696  \n",
      "----------------------------------------------------------------\n",
      "Stopping Condition 0: Reached maximum number of terms\n",
      "Beginning pruning pass\n",
      "--------------------------------------------\n",
      "iter  bf  terms  mse   gcv    rsq    grsq   \n",
      "--------------------------------------------\n",
      "0     -   22     0.10  0.102  0.698  0.696  \n"
     ]
    },
    {
     "name": "stderr",
     "output_type": "stream",
     "text": [
      "/home/song/anaconda3/envs/tf/lib/python3.8/site-packages/pyearth/earth.py:813: FutureWarning: `rcond` parameter will change to the default of machine precision times ``max(M, N)`` where M and N are the input matrix dimensions.\n",
      "To use the future default and silence this warning we advise to pass `rcond=None`, to keep using the old, explicitly pass `rcond=-1`.\n",
      "  pruning_passer.run()\n"
     ]
    },
    {
     "name": "stdout",
     "output_type": "stream",
     "text": [
      "1     18  21     0.10  0.102  0.698  0.696  \n",
      "2     7   20     0.10  0.102  0.697  0.696  \n",
      "3     20  19     0.10  0.102  0.697  0.696  \n",
      "4     17  18     0.10  0.102  0.697  0.696  \n",
      "5     3   17     0.10  0.102  0.697  0.696  \n",
      "6     11  16     0.10  0.103  0.693  0.692  \n",
      "7     4   15     0.10  0.104  0.689  0.688  \n",
      "8     5   14     0.11  0.106  0.686  0.685  \n",
      "9     15  13     0.11  0.108  0.680  0.679  \n",
      "10    13  12     0.11  0.109  0.675  0.674  \n",
      "11    9   11     0.11  0.111  0.668  0.668  \n",
      "12    21  10     0.12  0.115  0.656  0.656  \n",
      "13    14  9      0.12  0.120  0.642  0.641  \n",
      "14    16  8      0.12  0.125  0.628  0.627  \n",
      "15    10  7      0.13  0.130  0.613  0.613  \n",
      "16    6   6      0.14  0.135  0.596  0.596  \n",
      "17    12  5      0.14  0.143  0.573  0.573  \n",
      "18    8   4      0.15  0.154  0.540  0.540  \n",
      "19    19  3      0.17  0.173  0.485  0.484  \n",
      "20    1   2      0.19  0.189  0.435  0.435  \n",
      "21    2   1      0.33  0.335  0.000  0.000  \n",
      "--------------------------------------------\n",
      "Selected iteration: 2\n"
     ]
    },
    {
     "name": "stderr",
     "output_type": "stream",
     "text": [
      "/home/song/anaconda3/envs/tf/lib/python3.8/site-packages/pyearth/earth.py:1066: FutureWarning: `rcond` parameter will change to the default of machine precision times ``max(M, N)`` where M and N are the input matrix dimensions.\n",
      "To use the future default and silence this warning we advise to pass `rcond=None`, to keep using the old, explicitly pass `rcond=-1`.\n",
      "  coef, resid = np.linalg.lstsq(B, weighted_y[:, i])[0:2]\n"
     ]
    },
    {
     "name": "stdout",
     "output_type": "stream",
     "text": [
      "Beginning forward pass\n",
      "---------------------------------------------------------------\n",
      "iter  parent  var  knot  mse       terms  gcv    rsq    grsq   \n",
      "---------------------------------------------------------------\n",
      "0     -       -    -     0.334985  1      0.335  0.000  0.000  \n",
      "1     0       11   23489  0.176115  3      0.176  0.474  0.474  \n",
      "2     2       12   -1    0.162298  4      0.162  0.516  0.515  \n",
      "3     0       1    12057  0.150256  6      0.150  0.551  0.551  \n",
      "4     4       6    23086  0.138075  8      0.138  0.588  0.587  \n",
      "5     2       41   4155  0.128903  10     0.129  0.615  0.614  \n",
      "6     2       27   3159  0.122550  12     0.123  0.634  0.633  \n",
      "7     11      23   7284  0.117676  14     0.118  0.649  0.648  \n",
      "8     11      11   22833  0.113641  16     0.114  0.661  0.660  \n",
      "9     5       48   17215  0.110430  18     0.111  0.670  0.669  \n",
      "10    3       12   -1    0.107709  19     0.108  0.678  0.677  \n",
      "11    2       14   23264  0.105528  21     0.106  0.685  0.684  \n",
      "----------------------------------------------------------------\n",
      "Stopping Condition 0: Reached maximum number of terms\n",
      "Beginning pruning pass\n",
      "--------------------------------------------\n",
      "iter  bf  terms  mse   gcv    rsq    grsq   \n",
      "--------------------------------------------\n",
      "0     -   21     0.11  0.106  0.685  0.684  \n"
     ]
    },
    {
     "name": "stderr",
     "output_type": "stream",
     "text": [
      "/home/song/anaconda3/envs/tf/lib/python3.8/site-packages/pyearth/earth.py:813: FutureWarning: `rcond` parameter will change to the default of machine precision times ``max(M, N)`` where M and N are the input matrix dimensions.\n",
      "To use the future default and silence this warning we advise to pass `rcond=None`, to keep using the old, explicitly pass `rcond=-1`.\n",
      "  pruning_passer.run()\n"
     ]
    },
    {
     "name": "stdout",
     "output_type": "stream",
     "text": [
      "1     17  20     0.11  0.106  0.685  0.684  \n",
      "2     19  19     0.11  0.106  0.685  0.683  \n",
      "3     5   18     0.11  0.107  0.683  0.682  \n",
      "4     1   17     0.11  0.107  0.681  0.680  \n",
      "5     14  16     0.11  0.108  0.679  0.678  \n",
      "6     6   15     0.11  0.110  0.674  0.673  \n",
      "7     8   14     0.11  0.111  0.668  0.667  \n",
      "8     16  13     0.11  0.113  0.662  0.662  \n",
      "9     13  12     0.12  0.116  0.655  0.654  \n",
      "10    20  11     0.12  0.117  0.650  0.650  \n",
      "11    18  10     0.12  0.120  0.641  0.640  \n",
      "12    15  9      0.12  0.124  0.632  0.631  \n",
      "13    11  8      0.12  0.124  0.630  0.629  \n",
      "14    12  7      0.13  0.126  0.624  0.624  \n",
      "15    10  6      0.13  0.132  0.605  0.605  \n",
      "16    9   5      0.14  0.140  0.582  0.581  \n",
      "17    7   4      0.15  0.151  0.551  0.550  \n",
      "18    4   3      0.16  0.164  0.511  0.511  \n",
      "19    3   2      0.18  0.178  0.470  0.470  \n",
      "20    2   1      0.33  0.335  -0.000  -0.000  \n",
      "----------------------------------------------\n",
      "Selected iteration: 1\n",
      "Beginning forward pass\n",
      "---------------------------------------------------------------\n",
      "iter  parent  var  knot  mse       terms  gcv    rsq    grsq   \n",
      "---------------------------------------------------------------\n",
      "0     -       -    -     0.335237  1      0.335  0.000  0.000  \n"
     ]
    },
    {
     "name": "stderr",
     "output_type": "stream",
     "text": [
      "/home/song/anaconda3/envs/tf/lib/python3.8/site-packages/pyearth/earth.py:1066: FutureWarning: `rcond` parameter will change to the default of machine precision times ``max(M, N)`` where M and N are the input matrix dimensions.\n",
      "To use the future default and silence this warning we advise to pass `rcond=None`, to keep using the old, explicitly pass `rcond=-1`.\n",
      "  coef, resid = np.linalg.lstsq(B, weighted_y[:, i])[0:2]\n"
     ]
    },
    {
     "name": "stdout",
     "output_type": "stream",
     "text": [
      "1     0       11   23489  0.179285  3      0.179  0.465  0.465  \n",
      "2     0       21   15247  0.162701  5      0.163  0.515  0.514  \n",
      "3     0       1    8358  0.150370  7      0.151  0.551  0.551  \n",
      "4     5       6    22996  0.137806  9      0.138  0.589  0.588  \n",
      "5     2       41   3558  0.128187  11     0.128  0.618  0.617  \n",
      "6     2       23   15760  0.122020  13     0.122  0.636  0.635  \n",
      "7     12      27   3159  0.116961  15     0.117  0.651  0.650  \n",
      "8     2       49   736   0.113400  17     0.114  0.662  0.661  \n",
      "9     5       50   14452  0.109244  19     0.110  0.674  0.673  \n",
      "10    11      14   23264  0.106885  21     0.107  0.681  0.680  \n",
      "----------------------------------------------------------------\n",
      "Stopping Condition 0: Reached maximum number of terms\n",
      "Beginning pruning pass\n",
      "--------------------------------------------\n",
      "iter  bf  terms  mse   gcv    rsq    grsq   \n",
      "--------------------------------------------\n",
      "0     -   21     0.11  0.107  0.681  0.680  \n"
     ]
    },
    {
     "name": "stderr",
     "output_type": "stream",
     "text": [
      "/home/song/anaconda3/envs/tf/lib/python3.8/site-packages/pyearth/earth.py:813: FutureWarning: `rcond` parameter will change to the default of machine precision times ``max(M, N)`` where M and N are the input matrix dimensions.\n",
      "To use the future default and silence this warning we advise to pass `rcond=None`, to keep using the old, explicitly pass `rcond=-1`.\n",
      "  pruning_passer.run()\n"
     ]
    },
    {
     "name": "stdout",
     "output_type": "stream",
     "text": [
      "1     6   20     0.11  0.107  0.681  0.680  \n",
      "2     12  19     0.11  0.107  0.681  0.680  \n",
      "3     3   18     0.11  0.107  0.681  0.679  \n",
      "4     16  17     0.11  0.108  0.680  0.679  \n",
      "5     1   16     0.11  0.108  0.679  0.678  \n",
      "6     19  15     0.11  0.108  0.678  0.677  \n",
      "7     18  14     0.11  0.109  0.677  0.676  \n",
      "8     13  13     0.11  0.110  0.674  0.673  \n",
      "9     7   12     0.11  0.111  0.670  0.669  \n",
      "10    20  11     0.11  0.113  0.664  0.663  \n",
      "11    14  10     0.12  0.116  0.654  0.653  \n",
      "12    17  9      0.12  0.120  0.642  0.642  \n",
      "13    9   8      0.12  0.124  0.630  0.630  \n",
      "14    15  7      0.13  0.127  0.622  0.621  \n",
      "15    11  6      0.13  0.132  0.606  0.605  \n",
      "16    10  5      0.14  0.140  0.582  0.581  \n",
      "17    8   4      0.15  0.151  0.550  0.550  \n",
      "18    5   3      0.16  0.164  0.510  0.510  \n",
      "19    4   2      0.18  0.181  0.461  0.461  \n",
      "20    2   1      0.34  0.335  -0.000  -0.000  \n",
      "----------------------------------------------\n",
      "Selected iteration: 1\n"
     ]
    },
    {
     "name": "stderr",
     "output_type": "stream",
     "text": [
      "/home/song/anaconda3/envs/tf/lib/python3.8/site-packages/pyearth/earth.py:1066: FutureWarning: `rcond` parameter will change to the default of machine precision times ``max(M, N)`` where M and N are the input matrix dimensions.\n",
      "To use the future default and silence this warning we advise to pass `rcond=None`, to keep using the old, explicitly pass `rcond=-1`.\n",
      "  coef, resid = np.linalg.lstsq(B, weighted_y[:, i])[0:2]\n"
     ]
    },
    {
     "name": "stdout",
     "output_type": "stream",
     "text": [
      "Beginning forward pass\n",
      "---------------------------------------------------------------\n",
      "iter  parent  var  knot  mse       terms  gcv    rsq    grsq   \n",
      "---------------------------------------------------------------\n",
      "0     -       -    -     0.335533  1      0.336  0.000  0.000  \n",
      "1     0       11   23489  0.182419  3      0.183  0.456  0.456  \n",
      "2     0       1    6243  0.168056  5      0.168  0.499  0.499  \n",
      "3     0       21   15247  0.155498  7      0.156  0.537  0.536  \n",
      "4     3       6    22996  0.143013  9      0.143  0.574  0.573  \n",
      "5     2       42   12508  0.135781  11     0.136  0.595  0.594  \n",
      "6     0       23   15760  0.129232  13     0.130  0.615  0.614  \n",
      "7     2       28   23005  0.125842  15     0.126  0.625  0.624  \n",
      "8     14      10   13576  0.122254  17     0.123  0.636  0.634  \n",
      "9     11      61   5251  0.118983  19     0.119  0.645  0.644  \n",
      "10    18      28   20127  0.114637  21     0.115  0.658  0.657  \n",
      "----------------------------------------------------------------\n",
      "Stopping Condition 0: Reached maximum number of terms\n",
      "Beginning pruning pass\n",
      "--------------------------------------------\n",
      "iter  bf  terms  mse   gcv    rsq    grsq   \n",
      "--------------------------------------------\n",
      "0     -   21     0.11  0.115  0.658  0.657  \n"
     ]
    },
    {
     "name": "stderr",
     "output_type": "stream",
     "text": [
      "/home/song/anaconda3/envs/tf/lib/python3.8/site-packages/pyearth/earth.py:813: FutureWarning: `rcond` parameter will change to the default of machine precision times ``max(M, N)`` where M and N are the input matrix dimensions.\n",
      "To use the future default and silence this warning we advise to pass `rcond=None`, to keep using the old, explicitly pass `rcond=-1`.\n",
      "  pruning_passer.run()\n"
     ]
    },
    {
     "name": "stdout",
     "output_type": "stream",
     "text": [
      "1     17  20     0.11  0.115  0.658  0.657  \n",
      "2     5   19     0.11  0.115  0.658  0.657  \n",
      "3     13  18     0.12  0.115  0.657  0.656  \n",
      "4     1   17     0.12  0.116  0.657  0.655  \n",
      "5     16  16     0.12  0.116  0.655  0.654  \n",
      "6     12  15     0.12  0.116  0.655  0.654  \n",
      "7     7   14     0.12  0.117  0.653  0.652  \n",
      "8     11  13     0.12  0.117  0.652  0.651  \n",
      "9     4   12     0.12  0.118  0.650  0.649  \n",
      "10    18  11     0.12  0.119  0.647  0.647  \n",
      "11    9   10     0.12  0.120  0.643  0.642  \n",
      "12    8   9      0.12  0.124  0.631  0.630  \n",
      "13    3   8      0.13  0.129  0.617  0.617  \n",
      "14    10  7      0.13  0.134  0.602  0.602  \n",
      "15    20  6      0.14  0.141  0.582  0.581  \n",
      "16    15  5      0.15  0.147  0.563  0.563  \n",
      "17    14  4      0.16  0.157  0.531  0.531  \n",
      "18    6   3      0.17  0.169  0.495  0.495  \n",
      "19    19  2      0.18  0.184  0.453  0.453  \n",
      "20    2   1      0.34  0.336  -0.000  -0.000  \n",
      "----------------------------------------------\n",
      "Selected iteration: 0\n"
     ]
    },
    {
     "name": "stderr",
     "output_type": "stream",
     "text": [
      "/home/song/anaconda3/envs/tf/lib/python3.8/site-packages/pyearth/earth.py:1066: FutureWarning: `rcond` parameter will change to the default of machine precision times ``max(M, N)`` where M and N are the input matrix dimensions.\n",
      "To use the future default and silence this warning we advise to pass `rcond=None`, to keep using the old, explicitly pass `rcond=-1`.\n",
      "  coef, resid = np.linalg.lstsq(B, weighted_y[:, i])[0:2]\n"
     ]
    },
    {
     "name": "stdout",
     "output_type": "stream",
     "text": [
      "Beginning forward pass\n",
      "---------------------------------------------------------------\n",
      "iter  parent  var  knot  mse       terms  gcv    rsq    grsq   \n",
      "---------------------------------------------------------------\n",
      "0     -       -    -     0.335831  1      0.336  0.000  0.000  \n",
      "1     0       11   23489  0.185561  3      0.186  0.447  0.447  \n",
      "2     0       1    5698  0.170414  5      0.171  0.493  0.492  \n",
      "3     3       6    22996  0.157605  7      0.158  0.531  0.530  \n",
      "4     0       23   15760  0.151288  9      0.152  0.550  0.549  \n",
      "5     2       45   5123  0.143735  11     0.144  0.572  0.571  \n",
      "6     8       54   17759  0.140024  13     0.140  0.583  0.582  \n",
      "7     7       48   4264  0.136274  15     0.137  0.594  0.593  \n",
      "8     7       28   20127  0.132936  17     0.133  0.604  0.603  \n",
      "9     15      61   5170  0.128263  19     0.129  0.618  0.617  \n",
      "10    7       9    22779  0.124895  21     0.125  0.628  0.627  \n",
      "----------------------------------------------------------------\n",
      "Stopping Condition 0: Reached maximum number of terms\n",
      "Beginning pruning pass\n",
      "--------------------------------------------\n",
      "iter  bf  terms  mse   gcv    rsq    grsq   \n",
      "--------------------------------------------\n",
      "0     -   21     0.12  0.125  0.628  0.627  \n"
     ]
    },
    {
     "name": "stderr",
     "output_type": "stream",
     "text": [
      "/home/song/anaconda3/envs/tf/lib/python3.8/site-packages/pyearth/earth.py:813: FutureWarning: `rcond` parameter will change to the default of machine precision times ``max(M, N)`` where M and N are the input matrix dimensions.\n",
      "To use the future default and silence this warning we advise to pass `rcond=None`, to keep using the old, explicitly pass `rcond=-1`.\n",
      "  pruning_passer.run()\n"
     ]
    },
    {
     "name": "stdout",
     "output_type": "stream",
     "text": [
      "1     14  20     0.12  0.125  0.628  0.627  \n",
      "2     17  19     0.12  0.125  0.628  0.627  \n",
      "3     1   18     0.13  0.125  0.628  0.626  \n",
      "4     5   17     0.13  0.126  0.627  0.626  \n",
      "5     9   16     0.13  0.126  0.626  0.625  \n",
      "6     11  15     0.13  0.126  0.625  0.624  \n",
      "7     20  14     0.13  0.127  0.623  0.622  \n",
      "8     15  13     0.13  0.127  0.622  0.621  \n",
      "9     7   12     0.13  0.128  0.619  0.618  \n",
      "10    4   11     0.13  0.129  0.615  0.615  \n",
      "11    8   10     0.13  0.132  0.608  0.607  \n",
      "12    6   9      0.14  0.136  0.596  0.595  \n",
      "13    19  8      0.14  0.140  0.585  0.584  \n",
      "14    13  7      0.14  0.143  0.575  0.574  \n",
      "15    3   6      0.15  0.148  0.560  0.560  \n",
      "16    12  5      0.15  0.154  0.543  0.543  \n",
      "17    10  4      0.16  0.159  0.528  0.528  \n",
      "18    16  3      0.17  0.169  0.498  0.497  \n",
      "19    18  2      0.19  0.187  0.444  0.444  \n",
      "20    2   1      0.34  0.336  -0.000  -0.000  \n",
      "----------------------------------------------\n",
      "Selected iteration: 1\n",
      "Beginning forward pass\n",
      "---------------------------------------------------------------\n",
      "iter  parent  var  knot  mse       terms  gcv    rsq    grsq   \n",
      "---------------------------------------------------------------\n",
      "0     -       -    -     0.336116  1      0.336  0.000  0.000  \n"
     ]
    },
    {
     "name": "stderr",
     "output_type": "stream",
     "text": [
      "/home/song/anaconda3/envs/tf/lib/python3.8/site-packages/pyearth/earth.py:1066: FutureWarning: `rcond` parameter will change to the default of machine precision times ``max(M, N)`` where M and N are the input matrix dimensions.\n",
      "To use the future default and silence this warning we advise to pass `rcond=None`, to keep using the old, explicitly pass `rcond=-1`.\n",
      "  coef, resid = np.linalg.lstsq(B, weighted_y[:, i])[0:2]\n"
     ]
    },
    {
     "name": "stdout",
     "output_type": "stream",
     "text": [
      "1     0       11   23489  0.189210  3      0.189  0.437  0.437  \n",
      "2     0       1    6309  0.175389  5      0.176  0.478  0.478  \n",
      "3     3       6    22996  0.161821  7      0.162  0.519  0.518  \n",
      "4     0       23   15760  0.154873  9      0.155  0.539  0.538  \n",
      "5     4       47   17646  0.147492  11     0.148  0.561  0.560  \n",
      "6     7       48   4264  0.142647  13     0.143  0.576  0.575  \n",
      "7     7       28   20127  0.138929  15     0.139  0.587  0.585  \n",
      "8     13      61   5131  0.133644  17     0.134  0.602  0.601  \n",
      "9     7       9    5198  0.129530  19     0.130  0.615  0.613  \n",
      "10    7       45   23694  0.126917  21     0.127  0.622  0.621  \n",
      "----------------------------------------------------------------\n",
      "Stopping Condition 0: Reached maximum number of terms\n",
      "Beginning pruning pass\n",
      "--------------------------------------------\n",
      "iter  bf  terms  mse   gcv    rsq    grsq   \n",
      "--------------------------------------------\n",
      "0     -   21     0.13  0.127  0.622  0.621  \n"
     ]
    },
    {
     "name": "stderr",
     "output_type": "stream",
     "text": [
      "/home/song/anaconda3/envs/tf/lib/python3.8/site-packages/pyearth/earth.py:813: FutureWarning: `rcond` parameter will change to the default of machine precision times ``max(M, N)`` where M and N are the input matrix dimensions.\n",
      "To use the future default and silence this warning we advise to pass `rcond=None`, to keep using the old, explicitly pass `rcond=-1`.\n",
      "  pruning_passer.run()\n"
     ]
    },
    {
     "name": "stdout",
     "output_type": "stream",
     "text": [
      "1     8   20     0.13  0.127  0.622  0.621  \n",
      "2     12  19     0.13  0.127  0.622  0.621  \n",
      "3     9   18     0.13  0.128  0.622  0.621  \n",
      "4     20  17     0.13  0.128  0.622  0.620  \n",
      "5     1   16     0.13  0.128  0.621  0.620  \n",
      "6     15  15     0.13  0.128  0.621  0.620  \n",
      "7     5   14     0.13  0.128  0.620  0.619  \n",
      "8     13  13     0.13  0.128  0.619  0.618  \n",
      "9     18  12     0.13  0.129  0.618  0.617  \n",
      "10    4   11     0.13  0.130  0.613  0.613  \n",
      "11    19  10     0.13  0.133  0.604  0.604  \n",
      "12    7   9      0.13  0.135  0.600  0.600  \n",
      "13    17  8      0.14  0.139  0.588  0.588  \n",
      "14    11  7      0.14  0.143  0.575  0.574  \n",
      "15    6   6      0.15  0.150  0.555  0.555  \n",
      "16    3   5      0.15  0.152  0.547  0.547  \n",
      "17    10  4      0.16  0.159  0.527  0.527  \n",
      "18    14  3      0.17  0.170  0.494  0.494  \n",
      "19    16  2      0.19  0.190  0.434  0.434  \n",
      "20    2   1      0.34  0.336  0.000  0.000  \n",
      "--------------------------------------------\n",
      "Selected iteration: 1\n",
      "Beginning forward pass\n",
      "---------------------------------------------------------------\n",
      "iter  parent  var  knot  mse       terms  gcv    rsq    grsq   \n",
      "---------------------------------------------------------------\n",
      "0     -       -    -     0.336454  1      0.336  0.000  0.000  \n"
     ]
    },
    {
     "name": "stderr",
     "output_type": "stream",
     "text": [
      "/home/song/anaconda3/envs/tf/lib/python3.8/site-packages/pyearth/earth.py:1066: FutureWarning: `rcond` parameter will change to the default of machine precision times ``max(M, N)`` where M and N are the input matrix dimensions.\n",
      "To use the future default and silence this warning we advise to pass `rcond=None`, to keep using the old, explicitly pass `rcond=-1`.\n",
      "  coef, resid = np.linalg.lstsq(B, weighted_y[:, i])[0:2]\n"
     ]
    },
    {
     "name": "stdout",
     "output_type": "stream",
     "text": [
      "1     0       11   23379  0.192772  3      0.193  0.427  0.427  \n",
      "2     0       44   17768  0.174118  5      0.174  0.482  0.482  \n",
      "3     4       11   23975  0.161453  7      0.162  0.520  0.520  \n",
      "4     0       6    6397  0.150224  9      0.150  0.554  0.553  \n",
      "5     7       25   5060  0.140227  11     0.141  0.583  0.582  \n",
      "6     0       25   22557  0.130602  13     0.131  0.612  0.611  \n",
      "7     0       32   2129  0.126965  15     0.127  0.623  0.622  \n",
      "8     12      32   23744  0.122050  17     0.122  0.637  0.636  \n",
      "9     8       9    5504  0.118171  19     0.119  0.649  0.647  \n",
      "10    16      52   17266  0.115593  21     0.116  0.656  0.655  \n",
      "----------------------------------------------------------------\n",
      "Stopping Condition 0: Reached maximum number of terms\n",
      "Beginning pruning pass\n",
      "--------------------------------------------\n",
      "iter  bf  terms  mse   gcv    rsq    grsq   \n",
      "--------------------------------------------\n",
      "0     -   21     0.12  0.116  0.656  0.655  \n"
     ]
    },
    {
     "name": "stderr",
     "output_type": "stream",
     "text": [
      "/home/song/anaconda3/envs/tf/lib/python3.8/site-packages/pyearth/earth.py:813: FutureWarning: `rcond` parameter will change to the default of machine precision times ``max(M, N)`` where M and N are the input matrix dimensions.\n",
      "To use the future default and silence this warning we advise to pass `rcond=None`, to keep using the old, explicitly pass `rcond=-1`.\n",
      "  pruning_passer.run()\n"
     ]
    },
    {
     "name": "stdout",
     "output_type": "stream",
     "text": [
      "1     8   20     0.12  0.116  0.656  0.655  \n",
      "2     1   19     0.12  0.116  0.656  0.655  \n",
      "3     9   18     0.12  0.116  0.656  0.655  \n",
      "4     15  17     0.12  0.116  0.656  0.655  \n",
      "5     11  16     0.12  0.117  0.653  0.652  \n",
      "6     19  15     0.12  0.118  0.651  0.650  \n",
      "7     13  14     0.12  0.119  0.647  0.646  \n",
      "8     20  13     0.12  0.120  0.643  0.642  \n",
      "9     5   12     0.12  0.122  0.638  0.637  \n",
      "10    16  11     0.12  0.124  0.633  0.632  \n",
      "11    17  10     0.13  0.127  0.624  0.623  \n",
      "12    14  9      0.13  0.132  0.608  0.607  \n",
      "13    18  8      0.13  0.135  0.600  0.599  \n",
      "14    12  7      0.14  0.142  0.580  0.579  \n",
      "15    7   6      0.15  0.147  0.565  0.564  \n",
      "16    6   5      0.16  0.156  0.537  0.537  \n",
      "17    4   4      0.16  0.159  0.528  0.528  \n",
      "18    3   3      0.17  0.174  0.483  0.483  \n",
      "19    10  2      0.19  0.194  0.425  0.424  \n",
      "20    2   1      0.34  0.336  -0.000  -0.000  \n",
      "----------------------------------------------\n",
      "Selected iteration: 2\n",
      "Beginning forward pass\n",
      "---------------------------------------------------------------\n",
      "iter  parent  var  knot  mse       terms  gcv    rsq    grsq   \n",
      "---------------------------------------------------------------\n",
      "0     -       -    -     0.336809  1      0.337  0.000  0.000  \n"
     ]
    },
    {
     "name": "stderr",
     "output_type": "stream",
     "text": [
      "/home/song/anaconda3/envs/tf/lib/python3.8/site-packages/pyearth/earth.py:1066: FutureWarning: `rcond` parameter will change to the default of machine precision times ``max(M, N)`` where M and N are the input matrix dimensions.\n",
      "To use the future default and silence this warning we advise to pass `rcond=None`, to keep using the old, explicitly pass `rcond=-1`.\n",
      "  coef, resid = np.linalg.lstsq(B, weighted_y[:, i])[0:2]\n"
     ]
    },
    {
     "name": "stdout",
     "output_type": "stream",
     "text": [
      "1     0       11   23379  0.196616  3      0.197  0.416  0.416  \n",
      "2     0       6    23493  0.182779  5      0.183  0.457  0.457  \n",
      "3     3       25   -1    0.169244  6      0.169  0.498  0.497  \n",
      "4     0       25   5134  0.156559  8      0.157  0.535  0.534  \n",
      "5     2       41   10875  0.147816  10     0.148  0.561  0.560  \n",
      "6     4       21   20581  0.142198  12     0.143  0.578  0.577  \n",
      "7     7       11   5323  0.137225  14     0.138  0.593  0.591  \n",
      "8     4       27   3159  0.131352  16     0.132  0.610  0.609  \n",
      "9     4       9    22566  0.127852  18     0.128  0.620  0.619  \n",
      "10    15      52   23394  0.124587  20     0.125  0.630  0.629  \n",
      "11    17      33   17672  0.121367  22     0.122  0.640  0.638  \n",
      "----------------------------------------------------------------\n",
      "Stopping Condition 0: Reached maximum number of terms\n",
      "Beginning pruning pass\n",
      "--------------------------------------------\n",
      "iter  bf  terms  mse   gcv    rsq    grsq   \n",
      "--------------------------------------------\n",
      "0     -   22     0.12  0.122  0.640  0.638  \n"
     ]
    },
    {
     "name": "stderr",
     "output_type": "stream",
     "text": [
      "/home/song/anaconda3/envs/tf/lib/python3.8/site-packages/pyearth/earth.py:813: FutureWarning: `rcond` parameter will change to the default of machine precision times ``max(M, N)`` where M and N are the input matrix dimensions.\n",
      "To use the future default and silence this warning we advise to pass `rcond=None`, to keep using the old, explicitly pass `rcond=-1`.\n",
      "  pruning_passer.run()\n"
     ]
    },
    {
     "name": "stdout",
     "output_type": "stream",
     "text": [
      "1     4   21     0.12  0.122  0.640  0.638  \n",
      "2     11  20     0.12  0.122  0.640  0.638  \n",
      "3     1   19     0.12  0.122  0.639  0.638  \n",
      "4     6   18     0.12  0.122  0.639  0.638  \n",
      "5     21  17     0.12  0.122  0.638  0.637  \n",
      "6     12  16     0.12  0.123  0.637  0.636  \n",
      "7     17  15     0.12  0.123  0.636  0.635  \n",
      "8     19  14     0.12  0.124  0.634  0.633  \n",
      "9     15  13     0.13  0.126  0.627  0.626  \n",
      "10    18  12     0.13  0.127  0.624  0.623  \n",
      "11    20  11     0.13  0.130  0.616  0.615  \n",
      "12    8   10     0.13  0.132  0.609  0.608  \n",
      "13    16  9      0.14  0.135  0.599  0.598  \n",
      "14    10  8      0.14  0.139  0.588  0.587  \n",
      "15    9   7      0.14  0.144  0.572  0.572  \n",
      "16    14  6      0.15  0.152  0.548  0.548  \n",
      "17    13  5      0.16  0.159  0.527  0.526  \n",
      "18    7   4      0.17  0.170  0.495  0.495  \n",
      "19    5   3      0.18  0.183  0.455  0.455  \n",
      "20    3   2      0.20  0.198  0.412  0.412  \n",
      "21    2   1      0.34  0.337  -0.000  -0.000  \n",
      "----------------------------------------------\n",
      "Selected iteration: 2\n"
     ]
    },
    {
     "name": "stderr",
     "output_type": "stream",
     "text": [
      "/home/song/anaconda3/envs/tf/lib/python3.8/site-packages/pyearth/earth.py:1066: FutureWarning: `rcond` parameter will change to the default of machine precision times ``max(M, N)`` where M and N are the input matrix dimensions.\n",
      "To use the future default and silence this warning we advise to pass `rcond=None`, to keep using the old, explicitly pass `rcond=-1`.\n",
      "  coef, resid = np.linalg.lstsq(B, weighted_y[:, i])[0:2]\n"
     ]
    },
    {
     "name": "stdout",
     "output_type": "stream",
     "text": [
      "Beginning forward pass\n",
      "---------------------------------------------------------------\n",
      "iter  parent  var  knot  mse       terms  gcv    rsq    grsq   \n",
      "---------------------------------------------------------------\n",
      "0     -       -    -     0.337122  1      0.337  0.000  0.000  \n",
      "1     0       11   23379  0.201389  3      0.201  0.403  0.402  \n",
      "2     0       12   -1    0.178747  4      0.179  0.470  0.469  \n",
      "3     0       6    23314  0.164524  6      0.165  0.512  0.511  \n",
      "4     4       25   -1    0.151028  7      0.151  0.552  0.551  \n",
      "5     0       25   22435  0.139010  9      0.139  0.588  0.587  \n",
      "6     5       46   17336  0.131634  11     0.132  0.610  0.609  \n",
      "7     8       11   5323  0.125140  13     0.125  0.629  0.628  \n",
      "8     10      11   5520  0.120112  15     0.120  0.644  0.643  \n",
      "9     10      53   11169  0.116742  17     0.117  0.654  0.653  \n",
      "10    10      20   8715  0.114165  19     0.115  0.661  0.660  \n",
      "11    12      33   16540  0.111589  21     0.112  0.669  0.668  \n",
      "----------------------------------------------------------------\n",
      "Stopping Condition 0: Reached maximum number of terms\n",
      "Beginning pruning pass\n",
      "--------------------------------------------\n",
      "iter  bf  terms  mse   gcv    rsq    grsq   \n",
      "--------------------------------------------\n",
      "0     -   21     0.11  0.112  0.669  0.668  \n"
     ]
    },
    {
     "name": "stderr",
     "output_type": "stream",
     "text": [
      "/home/song/anaconda3/envs/tf/lib/python3.8/site-packages/pyearth/earth.py:813: FutureWarning: `rcond` parameter will change to the default of machine precision times ``max(M, N)`` where M and N are the input matrix dimensions.\n",
      "To use the future default and silence this warning we advise to pass `rcond=None`, to keep using the old, explicitly pass `rcond=-1`.\n",
      "  pruning_passer.run()\n"
     ]
    },
    {
     "name": "stdout",
     "output_type": "stream",
     "text": [
      "1     15  20     0.11  0.112  0.669  0.668  \n",
      "2     5   19     0.11  0.112  0.669  0.668  \n",
      "3     18  18     0.11  0.112  0.669  0.667  \n",
      "4     9   17     0.11  0.112  0.668  0.667  \n",
      "5     7   16     0.11  0.113  0.667  0.666  \n",
      "6     1   15     0.11  0.113  0.666  0.665  \n",
      "7     20  14     0.11  0.114  0.664  0.663  \n",
      "8     13  13     0.11  0.114  0.662  0.661  \n",
      "9     11  12     0.11  0.115  0.659  0.659  \n",
      "10    10  11     0.12  0.117  0.654  0.653  \n",
      "11    16  10     0.12  0.119  0.648  0.647  \n",
      "12    19  9      0.12  0.123  0.636  0.636  \n",
      "13    17  8      0.13  0.127  0.624  0.624  \n",
      "14    14  7      0.13  0.135  0.601  0.600  \n",
      "15    12  6      0.14  0.142  0.579  0.579  \n",
      "16    8   5      0.15  0.152  0.550  0.549  \n",
      "17    6   4      0.17  0.165  0.510  0.510  \n",
      "18    4   3      0.18  0.180  0.466  0.465  \n",
      "19    3   2      0.20  0.203  0.397  0.397  \n",
      "20    2   1      0.34  0.337  0.000  0.000  \n",
      "--------------------------------------------\n",
      "Selected iteration: 1\n"
     ]
    },
    {
     "name": "stderr",
     "output_type": "stream",
     "text": [
      "/home/song/anaconda3/envs/tf/lib/python3.8/site-packages/pyearth/earth.py:1066: FutureWarning: `rcond` parameter will change to the default of machine precision times ``max(M, N)`` where M and N are the input matrix dimensions.\n",
      "To use the future default and silence this warning we advise to pass `rcond=None`, to keep using the old, explicitly pass `rcond=-1`.\n",
      "  coef, resid = np.linalg.lstsq(B, weighted_y[:, i])[0:2]\n"
     ]
    },
    {
     "name": "stdout",
     "output_type": "stream",
     "text": [
      "Beginning forward pass\n",
      "---------------------------------------------------------------\n",
      "iter  parent  var  knot  mse       terms  gcv    rsq    grsq   \n",
      "---------------------------------------------------------------\n",
      "0     -       -    -     0.337455  1      0.337  0.000  0.000  \n",
      "1     0       11   23379  0.208337  3      0.208  0.383  0.382  \n",
      "2     2       12   -1    0.169038  4      0.169  0.499  0.499  \n",
      "3     0       25   22535  0.149215  6      0.149  0.558  0.557  \n",
      "4     5       6    23314  0.122353  8      0.123  0.637  0.637  \n",
      "5     7       49   15073  0.117893  10     0.118  0.651  0.650  \n",
      "6     0       52   17229  0.111367  12     0.112  0.670  0.669  \n",
      "7     11      28   20127  0.104713  14     0.105  0.690  0.689  \n",
      "8     0       6    23314  0.100624  16     0.101  0.702  0.701  \n",
      "9     11      18   2131  0.097624  18     0.098  0.711  0.710  \n",
      "10    5       11   23115  0.094884  20     0.095  0.719  0.718  \n",
      "11    14      8    23045  0.092514  22     0.093  0.726  0.725  \n",
      "----------------------------------------------------------------\n",
      "Stopping Condition 0: Reached maximum number of terms\n",
      "Beginning pruning pass\n",
      "--------------------------------------------\n",
      "iter  bf  terms  mse   gcv    rsq    grsq   \n",
      "--------------------------------------------\n",
      "0     -   22     0.09  0.093  0.726  0.725  \n"
     ]
    },
    {
     "name": "stderr",
     "output_type": "stream",
     "text": [
      "/home/song/anaconda3/envs/tf/lib/python3.8/site-packages/pyearth/earth.py:813: FutureWarning: `rcond` parameter will change to the default of machine precision times ``max(M, N)`` where M and N are the input matrix dimensions.\n",
      "To use the future default and silence this warning we advise to pass `rcond=None`, to keep using the old, explicitly pass `rcond=-1`.\n",
      "  pruning_passer.run()\n"
     ]
    },
    {
     "name": "stdout",
     "output_type": "stream",
     "text": [
      "1     8   21     0.09  0.093  0.726  0.725  \n",
      "2     10  20     0.09  0.093  0.726  0.725  \n",
      "3     12  19     0.09  0.093  0.726  0.725  \n",
      "4     20  18     0.09  0.093  0.726  0.725  \n",
      "5     1   17     0.09  0.093  0.725  0.724  \n",
      "6     11  16     0.09  0.093  0.724  0.724  \n",
      "7     4   15     0.09  0.094  0.724  0.723  \n",
      "8     17  14     0.09  0.094  0.723  0.722  \n",
      "9     18  13     0.09  0.095  0.721  0.720  \n",
      "10    15  12     0.09  0.095  0.719  0.718  \n",
      "11    7   11     0.09  0.095  0.718  0.718  \n",
      "12    21  10     0.10  0.097  0.713  0.713  \n",
      "13    14  9      0.10  0.100  0.704  0.704  \n",
      "14    19  8      0.10  0.104  0.693  0.692  \n",
      "15    5   7      0.11  0.106  0.687  0.686  \n",
      "16    13  6      0.11  0.115  0.660  0.660  \n",
      "17    9   5      0.13  0.127  0.624  0.624  \n",
      "18    16  4      0.14  0.142  0.578  0.578  \n",
      "19    6   3      0.17  0.171  0.493  0.493  \n",
      "20    3   2      0.21  0.211  0.376  0.376  \n",
      "21    2   1      0.34  0.337  -0.000  -0.000  \n",
      "----------------------------------------------\n",
      "Selected iteration: 2\n"
     ]
    },
    {
     "name": "stderr",
     "output_type": "stream",
     "text": [
      "/home/song/anaconda3/envs/tf/lib/python3.8/site-packages/pyearth/earth.py:1066: FutureWarning: `rcond` parameter will change to the default of machine precision times ``max(M, N)`` where M and N are the input matrix dimensions.\n",
      "To use the future default and silence this warning we advise to pass `rcond=None`, to keep using the old, explicitly pass `rcond=-1`.\n",
      "  coef, resid = np.linalg.lstsq(B, weighted_y[:, i])[0:2]\n"
     ]
    },
    {
     "name": "stdout",
     "output_type": "stream",
     "text": [
      "Beginning forward pass\n",
      "---------------------------------------------------------------\n",
      "iter  parent  var  knot  mse       terms  gcv    rsq    grsq   \n",
      "---------------------------------------------------------------\n",
      "0     -       -    -     0.337720  1      0.338  0.000  0.000  \n",
      "1     0       11   23379  0.216342  3      0.216  0.359  0.359  \n",
      "2     0       6    23181  0.195877  5      0.196  0.420  0.420  \n",
      "3     0       25   22724  0.184944  7      0.185  0.452  0.452  \n",
      "4     6       6    23506  0.170057  9      0.170  0.496  0.496  \n",
      "5     0       43   14619  0.161354  11     0.162  0.522  0.521  \n",
      "6     0       27   3159  0.155279  13     0.156  0.540  0.539  \n",
      "7     12      52   17229  0.148320  15     0.149  0.561  0.560  \n",
      "8     0       12   -1    0.142130  16     0.143  0.579  0.578  \n",
      "9     0       22   2034  0.135540  18     0.136  0.599  0.597  \n",
      "10    15      12   23803  0.131143  20     0.132  0.612  0.610  \n",
      "11    0       18   23057  0.127002  22     0.128  0.624  0.622  \n",
      "----------------------------------------------------------------\n",
      "Stopping Condition 0: Reached maximum number of terms\n",
      "Beginning pruning pass\n",
      "--------------------------------------------\n",
      "iter  bf  terms  mse   gcv    rsq    grsq   \n",
      "--------------------------------------------\n",
      "0     -   22     0.13  0.128  0.624  0.622  \n"
     ]
    },
    {
     "name": "stderr",
     "output_type": "stream",
     "text": [
      "/home/song/anaconda3/envs/tf/lib/python3.8/site-packages/pyearth/earth.py:813: FutureWarning: `rcond` parameter will change to the default of machine precision times ``max(M, N)`` where M and N are the input matrix dimensions.\n",
      "To use the future default and silence this warning we advise to pass `rcond=None`, to keep using the old, explicitly pass `rcond=-1`.\n",
      "  pruning_passer.run()\n"
     ]
    },
    {
     "name": "stdout",
     "output_type": "stream",
     "text": [
      "1     18  21     0.13  0.128  0.624  0.622  \n",
      "2     16  20     0.13  0.128  0.624  0.622  \n",
      "3     9   19     0.13  0.128  0.623  0.622  \n",
      "4     15  18     0.13  0.128  0.623  0.621  \n",
      "5     3   17     0.13  0.128  0.621  0.620  \n",
      "6     1   16     0.13  0.129  0.619  0.618  \n",
      "7     4   15     0.13  0.129  0.618  0.617  \n",
      "8     20  14     0.13  0.130  0.616  0.615  \n",
      "9     13  13     0.13  0.131  0.613  0.612  \n",
      "10    5   12     0.13  0.132  0.609  0.608  \n",
      "11    8   11     0.13  0.135  0.603  0.602  \n",
      "12    21  10     0.14  0.136  0.598  0.598  \n",
      "13    12  9      0.14  0.138  0.592  0.592  \n",
      "14    17  8      0.14  0.142  0.579  0.579  \n",
      "15    11  7      0.15  0.147  0.565  0.564  \n",
      "16    10  6      0.16  0.155  0.541  0.540  \n",
      "17    14  5      0.16  0.163  0.518  0.518  \n",
      "18    19  4      0.17  0.173  0.488  0.488  \n",
      "19    6   3      0.19  0.190  0.437  0.437  \n",
      "20    7   2      0.22  0.219  0.352  0.352  \n",
      "21    2   1      0.34  0.338  0.000  0.000  \n",
      "--------------------------------------------\n",
      "Selected iteration: 0\n",
      "Beginning forward pass\n",
      "---------------------------------------------------------------\n",
      "iter  parent  var  knot  mse       terms  gcv    rsq    grsq   \n",
      "---------------------------------------------------------------\n",
      "0     -       -    -     0.338073  1      0.338  0.000  0.000  \n"
     ]
    },
    {
     "name": "stderr",
     "output_type": "stream",
     "text": [
      "/home/song/anaconda3/envs/tf/lib/python3.8/site-packages/pyearth/earth.py:1066: FutureWarning: `rcond` parameter will change to the default of machine precision times ``max(M, N)`` where M and N are the input matrix dimensions.\n",
      "To use the future default and silence this warning we advise to pass `rcond=None`, to keep using the old, explicitly pass `rcond=-1`.\n",
      "  coef, resid = np.linalg.lstsq(B, weighted_y[:, i])[0:2]\n"
     ]
    },
    {
     "name": "stdout",
     "output_type": "stream",
     "text": [
      "1     0       36   23029  0.220211  3      0.220  0.349  0.348  \n",
      "2     0       1    4093  0.203079  5      0.203  0.399  0.399  \n",
      "3     2       12   23803  0.184798  7      0.185  0.453  0.453  \n",
      "4     3       20   -1    0.167747  8      0.168  0.504  0.503  \n",
      "5     0       11   20309  0.158798  10     0.159  0.530  0.529  \n",
      "6     0       35   22997  0.146738  12     0.147  0.566  0.565  \n",
      "7     8       4    17503  0.138271  14     0.139  0.591  0.590  \n",
      "8     0       45   2033  0.134008  16     0.134  0.604  0.602  \n",
      "9     15      38   4880  0.129626  18     0.130  0.617  0.615  \n",
      "10    16      61   -1    0.125543  19     0.126  0.629  0.627  \n",
      "11    8       52   17373  0.121584  21     0.122  0.640  0.639  \n",
      "----------------------------------------------------------------\n",
      "Stopping Condition 0: Reached maximum number of terms\n",
      "Beginning pruning pass\n",
      "--------------------------------------------\n",
      "iter  bf  terms  mse   gcv    rsq    grsq   \n",
      "--------------------------------------------\n",
      "0     -   21     0.12  0.122  0.640  0.639  \n"
     ]
    },
    {
     "name": "stderr",
     "output_type": "stream",
     "text": [
      "/home/song/anaconda3/envs/tf/lib/python3.8/site-packages/pyearth/earth.py:813: FutureWarning: `rcond` parameter will change to the default of machine precision times ``max(M, N)`` where M and N are the input matrix dimensions.\n",
      "To use the future default and silence this warning we advise to pass `rcond=None`, to keep using the old, explicitly pass `rcond=-1`.\n",
      "  pruning_passer.run()\n"
     ]
    },
    {
     "name": "stdout",
     "output_type": "stream",
     "text": [
      "1     10  20     0.12  0.122  0.640  0.639  \n",
      "2     19  19     0.12  0.122  0.640  0.639  \n",
      "3     5   18     0.12  0.122  0.640  0.639  \n",
      "4     1   17     0.12  0.122  0.640  0.639  \n",
      "5     9   16     0.12  0.122  0.639  0.638  \n",
      "6     14  15     0.12  0.123  0.638  0.637  \n",
      "7     13  14     0.12  0.124  0.633  0.632  \n",
      "8     8   13     0.13  0.128  0.624  0.623  \n",
      "9     12  12     0.13  0.130  0.617  0.616  \n",
      "10    17  11     0.13  0.135  0.603  0.602  \n",
      "11    15  10     0.14  0.139  0.590  0.589  \n",
      "12    18  9      0.14  0.144  0.574  0.573  \n",
      "13    16  8      0.15  0.147  0.565  0.565  \n",
      "14    4   7      0.16  0.156  0.540  0.540  \n",
      "15    11  6      0.16  0.163  0.519  0.518  \n",
      "16    20  5      0.17  0.174  0.485  0.485  \n",
      "17    3   4      0.19  0.189  0.443  0.442  \n",
      "18    7   3      0.20  0.204  0.397  0.397  \n",
      "19    6   2      0.22  0.221  0.348  0.347  \n",
      "20    2   1      0.34  0.338  0.000  0.000  \n",
      "--------------------------------------------\n",
      "Selected iteration: 2\n",
      "Beginning forward pass\n",
      "---------------------------------------------------------------\n",
      "iter  parent  var  knot  mse       terms  gcv    rsq    grsq   \n",
      "---------------------------------------------------------------\n",
      "0     -       -    -     0.338425  1      0.338  0.000  0.000  \n"
     ]
    },
    {
     "name": "stderr",
     "output_type": "stream",
     "text": [
      "/home/song/anaconda3/envs/tf/lib/python3.8/site-packages/pyearth/earth.py:1066: FutureWarning: `rcond` parameter will change to the default of machine precision times ``max(M, N)`` where M and N are the input matrix dimensions.\n",
      "To use the future default and silence this warning we advise to pass `rcond=None`, to keep using the old, explicitly pass `rcond=-1`.\n",
      "  coef, resid = np.linalg.lstsq(B, weighted_y[:, i])[0:2]\n"
     ]
    },
    {
     "name": "stdout",
     "output_type": "stream",
     "text": [
      "1     0       36   23029  0.223938  3      0.224  0.338  0.338  \n",
      "2     2       21   -1    0.175940  4      0.176  0.480  0.480  \n",
      "3     2       20   8749  0.158038  6      0.158  0.533  0.533  \n",
      "4     4       33   19469  0.133775  8      0.134  0.605  0.604  \n",
      "5     0       35   22991  0.125519  10     0.126  0.629  0.628  \n",
      "6     2       12   23803  0.118732  12     0.119  0.649  0.648  \n",
      "7     0       11   23148  0.111561  14     0.112  0.670  0.669  \n",
      "8     9       20   5110  0.105348  16     0.106  0.689  0.688  \n",
      "9     13      38   5299  0.099848  18     0.100  0.705  0.704  \n",
      "10    2       9    21574  0.093995  20     0.094  0.722  0.721  \n",
      "11    16      61   5204  0.090015  22     0.090  0.734  0.733  \n",
      "---------------------------------------------------------------\n",
      "Stopping Condition 0: Reached maximum number of terms\n",
      "Beginning pruning pass\n",
      "--------------------------------------------\n",
      "iter  bf  terms  mse   gcv    rsq    grsq   \n",
      "--------------------------------------------\n",
      "0     -   22     0.09  0.090  0.734  0.733  \n"
     ]
    },
    {
     "name": "stderr",
     "output_type": "stream",
     "text": [
      "/home/song/anaconda3/envs/tf/lib/python3.8/site-packages/pyearth/earth.py:813: FutureWarning: `rcond` parameter will change to the default of machine precision times ``max(M, N)`` where M and N are the input matrix dimensions.\n",
      "To use the future default and silence this warning we advise to pass `rcond=None`, to keep using the old, explicitly pass `rcond=-1`.\n",
      "  pruning_passer.run()\n"
     ]
    },
    {
     "name": "stdout",
     "output_type": "stream",
     "text": [
      "1     16  21     0.09  0.090  0.734  0.733  \n",
      "2     10  20     0.09  0.090  0.734  0.733  \n",
      "3     1   19     0.09  0.091  0.733  0.732  \n",
      "4     7   18     0.09  0.091  0.732  0.731  \n",
      "5     8   17     0.09  0.092  0.731  0.730  \n",
      "6     20  16     0.09  0.092  0.728  0.727  \n",
      "7     12  15     0.09  0.094  0.725  0.724  \n",
      "8     14  14     0.09  0.095  0.720  0.719  \n",
      "9     19  13     0.10  0.098  0.712  0.711  \n",
      "10    18  12     0.10  0.100  0.704  0.704  \n",
      "11    13  11     0.10  0.103  0.695  0.695  \n",
      "12    4   10     0.11  0.106  0.686  0.686  \n",
      "13    5   9      0.11  0.110  0.676  0.675  \n",
      "14    15  8      0.11  0.112  0.671  0.670  \n",
      "15    17  7      0.12  0.118  0.653  0.652  \n",
      "16    21  6      0.12  0.124  0.635  0.634  \n",
      "17    11  5      0.13  0.130  0.616  0.615  \n",
      "18    9   4      0.14  0.139  0.589  0.589  \n",
      "19    6   3      0.18  0.176  0.479  0.479  \n",
      "20    3   2      0.22  0.224  0.338  0.337  \n",
      "21    2   1      0.34  0.338  -0.000  -0.000  \n",
      "----------------------------------------------\n",
      "Selected iteration: 1\n"
     ]
    },
    {
     "name": "stderr",
     "output_type": "stream",
     "text": [
      "/home/song/anaconda3/envs/tf/lib/python3.8/site-packages/pyearth/earth.py:1066: FutureWarning: `rcond` parameter will change to the default of machine precision times ``max(M, N)`` where M and N are the input matrix dimensions.\n",
      "To use the future default and silence this warning we advise to pass `rcond=None`, to keep using the old, explicitly pass `rcond=-1`.\n",
      "  coef, resid = np.linalg.lstsq(B, weighted_y[:, i])[0:2]\n"
     ]
    },
    {
     "name": "stdout",
     "output_type": "stream",
     "text": [
      "Beginning forward pass\n",
      "---------------------------------------------------------------\n",
      "iter  parent  var  knot  mse       terms  gcv    rsq    grsq   \n",
      "---------------------------------------------------------------\n",
      "0     -       -    -     0.338798  1      0.339  0.000  0.000  \n",
      "1     0       38   8751  0.226782  3      0.227  0.331  0.330  \n",
      "2     1       19   3800  0.199983  5      0.200  0.410  0.409  \n",
      "3     1       1    4324  0.189150  7      0.189  0.442  0.441  \n",
      "4     1       52   22100  0.178524  9      0.179  0.473  0.472  \n",
      "5     6       52   22097  0.169802  11     0.170  0.499  0.498  \n",
      "6     0       28   23270  0.160146  13     0.161  0.527  0.526  \n",
      "7     1       45   6802  0.150704  15     0.151  0.555  0.554  \n",
      "8     8       25   4787  0.144495  17     0.145  0.574  0.572  \n",
      "9     2       27   2678  0.140058  19     0.141  0.587  0.585  \n",
      "10    1       16   -1    0.136421  20     0.137  0.597  0.596  \n",
      "11    5       20   5132  0.133190  22     0.134  0.607  0.605  \n",
      "---------------------------------------------------------------\n",
      "Stopping Condition 0: Reached maximum number of terms\n",
      "Beginning pruning pass\n",
      "--------------------------------------------\n",
      "iter  bf  terms  mse   gcv    rsq    grsq   \n",
      "--------------------------------------------\n",
      "0     -   22     0.13  0.134  0.607  0.605  \n"
     ]
    },
    {
     "name": "stderr",
     "output_type": "stream",
     "text": [
      "/home/song/anaconda3/envs/tf/lib/python3.8/site-packages/pyearth/earth.py:813: FutureWarning: `rcond` parameter will change to the default of machine precision times ``max(M, N)`` where M and N are the input matrix dimensions.\n",
      "To use the future default and silence this warning we advise to pass `rcond=None`, to keep using the old, explicitly pass `rcond=-1`.\n",
      "  pruning_passer.run()\n"
     ]
    },
    {
     "name": "stdout",
     "output_type": "stream",
     "text": [
      "1     9   21     0.13  0.134  0.607  0.605  \n",
      "2     2   20     0.13  0.134  0.607  0.605  \n",
      "3     15  19     0.13  0.134  0.607  0.605  \n",
      "4     20  18     0.13  0.134  0.606  0.605  \n",
      "5     3   17     0.13  0.134  0.606  0.605  \n",
      "6     4   16     0.13  0.134  0.605  0.604  \n",
      "7     13  15     0.13  0.135  0.604  0.603  \n",
      "8     17  14     0.13  0.135  0.602  0.601  \n",
      "9     7   13     0.14  0.137  0.598  0.597  \n",
      "10    6   12     0.14  0.140  0.586  0.585  \n",
      "11    16  11     0.14  0.145  0.572  0.571  \n",
      "12    18  10     0.15  0.151  0.556  0.555  \n",
      "13    14  9      0.16  0.156  0.539  0.539  \n",
      "14    10  8      0.16  0.162  0.521  0.521  \n",
      "15    8   7      0.17  0.167  0.507  0.506  \n",
      "16    21  6      0.18  0.176  0.481  0.480  \n",
      "17    5   5      0.18  0.184  0.457  0.456  \n",
      "18    11  4      0.20  0.198  0.415  0.415  \n",
      "19    12  3      0.21  0.211  0.379  0.378  \n",
      "20    1   2      0.23  0.226  0.335  0.334  \n",
      "21    19  1      0.34  0.339  0.000  0.000  \n",
      "--------------------------------------------\n",
      "Selected iteration: 3\n"
     ]
    },
    {
     "name": "stderr",
     "output_type": "stream",
     "text": [
      "/home/song/anaconda3/envs/tf/lib/python3.8/site-packages/pyearth/earth.py:1066: FutureWarning: `rcond` parameter will change to the default of machine precision times ``max(M, N)`` where M and N are the input matrix dimensions.\n",
      "To use the future default and silence this warning we advise to pass `rcond=None`, to keep using the old, explicitly pass `rcond=-1`.\n",
      "  coef, resid = np.linalg.lstsq(B, weighted_y[:, i])[0:2]\n"
     ]
    },
    {
     "name": "stdout",
     "output_type": "stream",
     "text": [
      "Beginning forward pass\n",
      "---------------------------------------------------------------\n",
      "iter  parent  var  knot  mse       terms  gcv    rsq    grsq   \n",
      "---------------------------------------------------------------\n",
      "0     -       -    -     0.339191  1      0.339  0.000  0.000  \n",
      "1     0       38   8750  0.226619  3      0.227  0.332  0.332  \n",
      "2     0       21   -1    0.190264  4      0.190  0.439  0.439  \n",
      "3     1       52   22100  0.159901  6      0.160  0.529  0.528  \n",
      "4     5       1    8729  0.145430  8      0.146  0.571  0.571  \n",
      "5     5       25   22902  0.134511  10     0.135  0.603  0.603  \n",
      "6     5       61   5164  0.125202  12     0.126  0.631  0.630  \n",
      "7     0       27   3159  0.118613  14     0.119  0.650  0.649  \n",
      "8     1       1    8729  0.112474  16     0.113  0.668  0.667  \n",
      "9     0       18   11668  0.109198  18     0.110  0.678  0.677  \n",
      "10    0       43   14745  0.105867  20     0.106  0.688  0.687  \n",
      "11    13      20   9192  0.102895  22     0.103  0.697  0.695  \n",
      "---------------------------------------------------------------\n",
      "Stopping Condition 0: Reached maximum number of terms\n",
      "Beginning pruning pass\n",
      "--------------------------------------------\n",
      "iter  bf  terms  mse   gcv    rsq    grsq   \n",
      "--------------------------------------------\n",
      "0     -   22     0.10  0.103  0.697  0.695  \n"
     ]
    },
    {
     "name": "stderr",
     "output_type": "stream",
     "text": [
      "/home/song/anaconda3/envs/tf/lib/python3.8/site-packages/pyearth/earth.py:813: FutureWarning: `rcond` parameter will change to the default of machine precision times ``max(M, N)`` where M and N are the input matrix dimensions.\n",
      "To use the future default and silence this warning we advise to pass `rcond=None`, to keep using the old, explicitly pass `rcond=-1`.\n",
      "  pruning_passer.run()\n"
     ]
    },
    {
     "name": "stdout",
     "output_type": "stream",
     "text": [
      "1     6   21     0.10  0.103  0.697  0.695  \n",
      "2     21  20     0.10  0.103  0.696  0.695  \n",
      "3     4   19     0.10  0.103  0.696  0.695  \n",
      "4     17  18     0.10  0.104  0.696  0.694  \n",
      "5     13  17     0.10  0.104  0.695  0.694  \n",
      "6     8   16     0.10  0.104  0.694  0.693  \n",
      "7     14  15     0.10  0.105  0.693  0.692  \n",
      "8     2   14     0.10  0.105  0.691  0.690  \n",
      "9     18  13     0.11  0.106  0.690  0.689  \n",
      "10    10  12     0.11  0.106  0.687  0.687  \n",
      "11    16  11     0.11  0.109  0.680  0.679  \n",
      "12    1   10     0.11  0.113  0.669  0.668  \n",
      "13    12  9      0.12  0.116  0.659  0.658  \n",
      "14    15  8      0.12  0.121  0.645  0.644  \n",
      "15    19  7      0.12  0.125  0.632  0.631  \n",
      "16    20  6      0.13  0.130  0.618  0.617  \n",
      "17    7   5      0.14  0.140  0.588  0.587  \n",
      "18    11  4      0.15  0.152  0.552  0.552  \n",
      "19    9   3      0.17  0.166  0.511  0.510  \n",
      "20    3   2      0.20  0.203  0.403  0.403  \n",
      "21    5   1      0.34  0.339  -0.000  -0.000  \n",
      "----------------------------------------------\n",
      "Selected iteration: 1\n",
      "Beginning forward pass\n",
      "---------------------------------------------------------------\n",
      "iter  parent  var  knot  mse       terms  gcv    rsq    grsq   \n",
      "---------------------------------------------------------------\n",
      "0     -       -    -     0.339636  1      0.340  0.000  0.000  \n"
     ]
    },
    {
     "name": "stderr",
     "output_type": "stream",
     "text": [
      "/home/song/anaconda3/envs/tf/lib/python3.8/site-packages/pyearth/earth.py:1066: FutureWarning: `rcond` parameter will change to the default of machine precision times ``max(M, N)`` where M and N are the input matrix dimensions.\n",
      "To use the future default and silence this warning we advise to pass `rcond=None`, to keep using the old, explicitly pass `rcond=-1`.\n",
      "  coef, resid = np.linalg.lstsq(B, weighted_y[:, i])[0:2]\n"
     ]
    },
    {
     "name": "stdout",
     "output_type": "stream",
     "text": [
      "1     0       25   13201  0.229745  3      0.230  0.324  0.323  \n",
      "2     0       33   19649  0.205572  5      0.206  0.395  0.394  \n",
      "3     3       25   5114  0.182476  7      0.183  0.463  0.462  \n",
      "4     0       38   22617  0.174470  9      0.175  0.486  0.485  \n",
      "5     2       38   5318  0.162661  11     0.163  0.521  0.520  \n",
      "6     3       48   23237  0.157022  13     0.157  0.538  0.537  \n",
      "7     0       29   5082  0.152498  15     0.153  0.551  0.550  \n",
      "8     14      25   4440  0.148375  17     0.149  0.563  0.562  \n",
      "9     10      47   17361  0.144533  19     0.145  0.574  0.573  \n",
      "10    14      52   17229  0.141133  21     0.142  0.584  0.583  \n",
      "----------------------------------------------------------------\n",
      "Stopping Condition 0: Reached maximum number of terms\n",
      "Beginning pruning pass\n",
      "--------------------------------------------\n",
      "iter  bf  terms  mse   gcv    rsq    grsq   \n",
      "--------------------------------------------\n",
      "0     -   21     0.14  0.142  0.584  0.583  \n"
     ]
    },
    {
     "name": "stderr",
     "output_type": "stream",
     "text": [
      "/home/song/anaconda3/envs/tf/lib/python3.8/site-packages/pyearth/earth.py:813: FutureWarning: `rcond` parameter will change to the default of machine precision times ``max(M, N)`` where M and N are the input matrix dimensions.\n",
      "To use the future default and silence this warning we advise to pass `rcond=None`, to keep using the old, explicitly pass `rcond=-1`.\n",
      "  pruning_passer.run()\n"
     ]
    },
    {
     "name": "stdout",
     "output_type": "stream",
     "text": [
      "1     17  20     0.14  0.142  0.584  0.583  \n",
      "2     14  19     0.14  0.142  0.584  0.583  \n",
      "3     19  18     0.14  0.142  0.584  0.582  \n",
      "4     5   17     0.14  0.142  0.584  0.582  \n",
      "5     12  16     0.14  0.142  0.583  0.582  \n",
      "6     2   15     0.14  0.142  0.583  0.581  \n",
      "7     4   14     0.14  0.143  0.581  0.580  \n",
      "8     13  13     0.14  0.145  0.574  0.573  \n",
      "9     20  12     0.15  0.149  0.563  0.562  \n",
      "10    18  11     0.15  0.153  0.551  0.550  \n",
      "11    16  10     0.16  0.156  0.541  0.541  \n",
      "12    10  9      0.16  0.156  0.540  0.540  \n",
      "13    11  8      0.16  0.161  0.527  0.526  \n",
      "14    9   7      0.17  0.167  0.508  0.508  \n",
      "15    7   6      0.17  0.169  0.502  0.501  \n",
      "16    1   5      0.18  0.175  0.484  0.484  \n",
      "17    15  4      0.19  0.189  0.443  0.442  \n",
      "18    8   3      0.22  0.218  0.358  0.357  \n",
      "19    6   2      0.28  0.282  0.170  0.169  \n",
      "20    3   1      0.34  0.340  0.000  0.000  \n",
      "--------------------------------------------\n",
      "Selected iteration: 0\n"
     ]
    },
    {
     "name": "stderr",
     "output_type": "stream",
     "text": [
      "/home/song/anaconda3/envs/tf/lib/python3.8/site-packages/pyearth/earth.py:1066: FutureWarning: `rcond` parameter will change to the default of machine precision times ``max(M, N)`` where M and N are the input matrix dimensions.\n",
      "To use the future default and silence this warning we advise to pass `rcond=None`, to keep using the old, explicitly pass `rcond=-1`.\n",
      "  coef, resid = np.linalg.lstsq(B, weighted_y[:, i])[0:2]\n"
     ]
    },
    {
     "name": "stdout",
     "output_type": "stream",
     "text": [
      "Beginning forward pass\n",
      "---------------------------------------------------------------\n",
      "iter  parent  var  knot  mse       terms  gcv    rsq    grsq   \n",
      "---------------------------------------------------------------\n",
      "0     -       -    -     0.340088  1      0.340  0.000  0.000  \n",
      "1     0       25   13201  0.223606  3      0.224  0.343  0.342  \n",
      "2     0       33   19649  0.200655  5      0.201  0.410  0.409  \n",
      "3     2       33   16632  0.183523  7      0.184  0.460  0.460  \n",
      "4     2       44   20983  0.172945  9      0.173  0.491  0.491  \n",
      "5     5       25   21291  0.164323  11     0.165  0.517  0.516  \n",
      "6     0       38   5318  0.155379  13     0.156  0.543  0.542  \n",
      "7     11      61   5230  0.145575  15     0.146  0.572  0.571  \n",
      "8     2       38   2130  0.139557  17     0.140  0.590  0.588  \n",
      "9     0       12   -1    0.134925  18     0.135  0.603  0.602  \n",
      "10    0       21   20581  0.130195  20     0.131  0.617  0.616  \n",
      "11    0       20   5226  0.126160  22     0.127  0.629  0.627  \n",
      "---------------------------------------------------------------\n",
      "Stopping Condition 0: Reached maximum number of terms\n",
      "Beginning pruning pass\n",
      "--------------------------------------------\n",
      "iter  bf  terms  mse   gcv    rsq    grsq   \n",
      "--------------------------------------------\n",
      "0     -   22     0.13  0.127  0.629  0.627  \n"
     ]
    },
    {
     "name": "stderr",
     "output_type": "stream",
     "text": [
      "/home/song/anaconda3/envs/tf/lib/python3.8/site-packages/pyearth/earth.py:813: FutureWarning: `rcond` parameter will change to the default of machine precision times ``max(M, N)`` where M and N are the input matrix dimensions.\n",
      "To use the future default and silence this warning we advise to pass `rcond=None`, to keep using the old, explicitly pass `rcond=-1`.\n",
      "  pruning_passer.run()\n"
     ]
    },
    {
     "name": "stdout",
     "output_type": "stream",
     "text": [
      "1     6   21     0.13  0.127  0.629  0.627  \n",
      "2     19  20     0.13  0.127  0.629  0.627  \n",
      "3     10  19     0.13  0.127  0.629  0.627  \n",
      "4     4   18     0.13  0.127  0.628  0.627  \n",
      "5     16  17     0.13  0.127  0.627  0.625  \n",
      "6     1   16     0.13  0.128  0.625  0.624  \n",
      "7     20  15     0.13  0.129  0.623  0.622  \n",
      "8     2   14     0.13  0.130  0.620  0.619  \n",
      "9     13  13     0.13  0.131  0.615  0.614  \n",
      "10    15  12     0.14  0.137  0.599  0.598  \n",
      "11    8   11     0.14  0.140  0.590  0.589  \n",
      "12    7   10     0.14  0.143  0.581  0.580  \n",
      "13    18  9      0.15  0.149  0.564  0.563  \n",
      "14    14  8      0.15  0.155  0.546  0.545  \n",
      "15    11  7      0.16  0.159  0.532  0.532  \n",
      "16    17  6      0.17  0.168  0.508  0.507  \n",
      "17    12  5      0.18  0.179  0.475  0.474  \n",
      "18    9   4      0.19  0.194  0.430  0.430  \n",
      "19    5   3      0.24  0.237  0.303  0.303  \n",
      "20    3   2      0.27  0.265  0.220  0.220  \n",
      "21    21  1      0.34  0.340  0.000  0.000  \n",
      "--------------------------------------------\n",
      "Selected iteration: 2\n",
      "Beginning forward pass\n",
      "---------------------------------------------------------------\n",
      "iter  parent  var  knot  mse       terms  gcv    rsq    grsq   \n",
      "---------------------------------------------------------------\n",
      "0     -       -    -     0.340491  1      0.341  0.000  0.000  \n"
     ]
    },
    {
     "name": "stderr",
     "output_type": "stream",
     "text": [
      "/home/song/anaconda3/envs/tf/lib/python3.8/site-packages/pyearth/earth.py:1066: FutureWarning: `rcond` parameter will change to the default of machine precision times ``max(M, N)`` where M and N are the input matrix dimensions.\n",
      "To use the future default and silence this warning we advise to pass `rcond=None`, to keep using the old, explicitly pass `rcond=-1`.\n",
      "  coef, resid = np.linalg.lstsq(B, weighted_y[:, i])[0:2]\n"
     ]
    },
    {
     "name": "stdout",
     "output_type": "stream",
     "text": [
      "1     0       25   22567  0.219938  3      0.220  0.354  0.354  \n",
      "2     0       33   19649  0.199508  5      0.200  0.414  0.414  \n",
      "3     2       33   18451  0.185869  7      0.186  0.454  0.453  \n",
      "4     2       44   17921  0.173437  9      0.174  0.491  0.490  \n",
      "5     0       44   17890  0.163720  11     0.164  0.519  0.518  \n",
      "6     5       25   4464  0.155720  13     0.156  0.543  0.541  \n",
      "7     0       38   23130  0.148221  15     0.149  0.565  0.563  \n",
      "8     2       38   5285  0.137978  17     0.138  0.595  0.593  \n",
      "9     13      61   5238  0.132191  19     0.133  0.612  0.610  \n",
      "10    0       20   5226  0.128404  21     0.129  0.623  0.621  \n",
      "---------------------------------------------------------------\n",
      "Stopping Condition 0: Reached maximum number of terms\n",
      "Beginning pruning pass\n",
      "--------------------------------------------\n",
      "iter  bf  terms  mse   gcv    rsq    grsq   \n",
      "--------------------------------------------\n",
      "0     -   21     0.13  0.129  0.623  0.621  \n"
     ]
    },
    {
     "name": "stderr",
     "output_type": "stream",
     "text": [
      "/home/song/anaconda3/envs/tf/lib/python3.8/site-packages/pyearth/earth.py:813: FutureWarning: `rcond` parameter will change to the default of machine precision times ``max(M, N)`` where M and N are the input matrix dimensions.\n",
      "To use the future default and silence this warning we advise to pass `rcond=None`, to keep using the old, explicitly pass `rcond=-1`.\n",
      "  pruning_passer.run()\n"
     ]
    },
    {
     "name": "stdout",
     "output_type": "stream",
     "text": [
      "1     6   20     0.13  0.129  0.623  0.621  \n",
      "2     7   19     0.13  0.129  0.623  0.621  \n",
      "3     4   18     0.13  0.129  0.623  0.621  \n",
      "4     12  17     0.13  0.129  0.622  0.621  \n",
      "5     15  16     0.13  0.129  0.622  0.621  \n",
      "6     19  15     0.13  0.129  0.621  0.620  \n",
      "7     1   14     0.13  0.130  0.619  0.618  \n",
      "8     17  13     0.13  0.132  0.612  0.611  \n",
      "9     20  12     0.14  0.137  0.599  0.598  \n",
      "10    5   11     0.14  0.139  0.591  0.591  \n",
      "11    3   10     0.14  0.145  0.574  0.573  \n",
      "12    8   9      0.15  0.153  0.551  0.550  \n",
      "13    10  8      0.15  0.154  0.547  0.547  \n",
      "14    18  7      0.16  0.164  0.520  0.519  \n",
      "15    13  6      0.17  0.169  0.503  0.503  \n",
      "16    11  5      0.18  0.180  0.473  0.473  \n",
      "17    9   4      0.19  0.194  0.429  0.429  \n",
      "18    16  3      0.21  0.212  0.378  0.378  \n",
      "19    14  2      0.22  0.220  0.354  0.354  \n",
      "20    2   1      0.34  0.341  -0.000  -0.000  \n",
      "----------------------------------------------\n",
      "Selected iteration: 2\n"
     ]
    },
    {
     "name": "stderr",
     "output_type": "stream",
     "text": [
      "/home/song/anaconda3/envs/tf/lib/python3.8/site-packages/pyearth/earth.py:1066: FutureWarning: `rcond` parameter will change to the default of machine precision times ``max(M, N)`` where M and N are the input matrix dimensions.\n",
      "To use the future default and silence this warning we advise to pass `rcond=None`, to keep using the old, explicitly pass `rcond=-1`.\n",
      "  coef, resid = np.linalg.lstsq(B, weighted_y[:, i])[0:2]\n"
     ]
    },
    {
     "name": "stdout",
     "output_type": "stream",
     "text": [
      "Beginning forward pass\n",
      "---------------------------------------------------------------\n",
      "iter  parent  var  knot  mse       terms  gcv    rsq    grsq   \n",
      "---------------------------------------------------------------\n",
      "0     -       -    -     0.340965  1      0.341  0.000  0.000  \n",
      "1     0       25   22557  0.215308  3      0.215  0.369  0.368  \n",
      "2     0       1    3361  0.197540  5      0.198  0.421  0.420  \n",
      "3     3       52   17218  0.178466  7      0.179  0.477  0.476  \n",
      "4     6       25   22615  0.163893  9      0.164  0.519  0.519  \n",
      "5     2       12   -1    0.158897  10     0.159  0.534  0.533  \n",
      "6     2       21   -1    0.148220  11     0.149  0.565  0.564  \n",
      "7     9       12   -1    0.143614  12     0.144  0.579  0.578  \n",
      "8     0       22   6384  0.139004  14     0.139  0.592  0.591  \n",
      "9     13      18   11668  0.134327  16     0.135  0.606  0.605  \n",
      "10    14      48   -1    0.130357  17     0.131  0.618  0.616  \n",
      "11    14      47   23234  0.126388  19     0.127  0.629  0.628  \n",
      "12    13      29   23528  0.120789  21     0.121  0.646  0.644  \n",
      "----------------------------------------------------------------\n",
      "Stopping Condition 0: Reached maximum number of terms\n",
      "Beginning pruning pass\n",
      "--------------------------------------------\n",
      "iter  bf  terms  mse   gcv    rsq    grsq   \n",
      "--------------------------------------------\n",
      "0     -   21     0.12  0.121  0.646  0.644  \n"
     ]
    },
    {
     "name": "stderr",
     "output_type": "stream",
     "text": [
      "/home/song/anaconda3/envs/tf/lib/python3.8/site-packages/pyearth/earth.py:813: FutureWarning: `rcond` parameter will change to the default of machine precision times ``max(M, N)`` where M and N are the input matrix dimensions.\n",
      "To use the future default and silence this warning we advise to pass `rcond=None`, to keep using the old, explicitly pass `rcond=-1`.\n",
      "  pruning_passer.run()\n"
     ]
    },
    {
     "name": "stdout",
     "output_type": "stream",
     "text": [
      "1     7   20     0.12  0.121  0.646  0.644  \n",
      "2     19  19     0.12  0.122  0.645  0.643  \n",
      "3     3   18     0.12  0.122  0.644  0.642  \n",
      "4     1   17     0.12  0.122  0.642  0.641  \n",
      "5     12  16     0.12  0.123  0.640  0.639  \n",
      "6     17  15     0.12  0.125  0.635  0.634  \n",
      "7     4   14     0.13  0.128  0.626  0.625  \n",
      "8     15  13     0.13  0.131  0.615  0.614  \n",
      "9     5   12     0.13  0.135  0.606  0.605  \n",
      "10    11  11     0.14  0.139  0.592  0.592  \n",
      "11    20  10     0.14  0.144  0.578  0.577  \n",
      "12    18  9      0.15  0.148  0.566  0.566  \n",
      "13    16  8      0.15  0.150  0.561  0.560  \n",
      "14    14  7      0.15  0.152  0.555  0.554  \n",
      "15    13  6      0.16  0.157  0.540  0.539  \n",
      "16    8   5      0.17  0.169  0.505  0.504  \n",
      "17    10  4      0.18  0.181  0.469  0.469  \n",
      "18    9   3      0.19  0.188  0.448  0.448  \n",
      "19    6   2      0.22  0.216  0.368  0.367  \n",
      "20    2   1      0.34  0.341  -0.000  -0.000  \n",
      "----------------------------------------------\n",
      "Selected iteration: 1\n"
     ]
    },
    {
     "name": "stderr",
     "output_type": "stream",
     "text": [
      "/home/song/anaconda3/envs/tf/lib/python3.8/site-packages/pyearth/earth.py:1066: FutureWarning: `rcond` parameter will change to the default of machine precision times ``max(M, N)`` where M and N are the input matrix dimensions.\n",
      "To use the future default and silence this warning we advise to pass `rcond=None`, to keep using the old, explicitly pass `rcond=-1`.\n",
      "  coef, resid = np.linalg.lstsq(B, weighted_y[:, i])[0:2]\n"
     ]
    },
    {
     "name": "stdout",
     "output_type": "stream",
     "text": [
      "Beginning forward pass\n",
      "---------------------------------------------------------------\n",
      "iter  parent  var  knot  mse       terms  gcv    rsq    grsq   \n",
      "---------------------------------------------------------------\n",
      "0     -       -    -     0.341379  1      0.341  0.000  0.000  \n",
      "1     0       25   22284  0.211280  3      0.211  0.381  0.381  \n",
      "2     2       37   6382  0.197282  5      0.197  0.422  0.422  \n",
      "3     3       61   5244  0.188167  7      0.188  0.449  0.448  \n",
      "4     2       45   20020  0.180843  9      0.181  0.470  0.469  \n",
      "5     8       38   5285  0.174426  11     0.175  0.489  0.488  \n",
      "6     0       20   9916  0.164519  13     0.165  0.518  0.517  \n",
      "7     11      35   7574  0.152021  15     0.152  0.555  0.553  \n",
      "8     11      33   19340  0.145425  17     0.146  0.574  0.573  \n",
      "9     0       23   15760  0.140419  19     0.141  0.589  0.587  \n",
      "10    17      52   22082  0.136249  21     0.137  0.601  0.599  \n",
      "----------------------------------------------------------------\n",
      "Stopping Condition 0: Reached maximum number of terms\n",
      "Beginning pruning pass\n",
      "--------------------------------------------\n",
      "iter  bf  terms  mse   gcv    rsq    grsq   \n",
      "--------------------------------------------\n",
      "0     -   21     0.14  0.137  0.601  0.599  \n"
     ]
    },
    {
     "name": "stderr",
     "output_type": "stream",
     "text": [
      "/home/song/anaconda3/envs/tf/lib/python3.8/site-packages/pyearth/earth.py:813: FutureWarning: `rcond` parameter will change to the default of machine precision times ``max(M, N)`` where M and N are the input matrix dimensions.\n",
      "To use the future default and silence this warning we advise to pass `rcond=None`, to keep using the old, explicitly pass `rcond=-1`.\n",
      "  pruning_passer.run()\n"
     ]
    },
    {
     "name": "stdout",
     "output_type": "stream",
     "text": [
      "1     9   20     0.14  0.137  0.600  0.599  \n",
      "2     5   19     0.14  0.137  0.600  0.598  \n",
      "3     3   18     0.14  0.137  0.599  0.598  \n",
      "4     16  17     0.14  0.138  0.598  0.597  \n",
      "5     12  16     0.14  0.138  0.597  0.595  \n",
      "6     19  15     0.14  0.139  0.594  0.592  \n",
      "7     1   14     0.14  0.140  0.591  0.590  \n",
      "8     4   13     0.14  0.141  0.587  0.586  \n",
      "9     18  12     0.14  0.143  0.582  0.581  \n",
      "10    6   11     0.14  0.145  0.577  0.576  \n",
      "11    20  10     0.15  0.149  0.565  0.564  \n",
      "12    17  9      0.15  0.151  0.558  0.557  \n",
      "13    7   8      0.16  0.157  0.540  0.540  \n",
      "14    14  7      0.16  0.164  0.519  0.519  \n",
      "15    11  6      0.17  0.173  0.494  0.494  \n",
      "16    10  5      0.18  0.179  0.476  0.476  \n",
      "17    8   4      0.18  0.182  0.468  0.468  \n",
      "18    13  3      0.19  0.194  0.432  0.432  \n",
      "19    15  2      0.21  0.212  0.380  0.380  \n",
      "20    2   1      0.34  0.341  0.000  0.000  \n",
      "--------------------------------------------\n",
      "Selected iteration: 0\n"
     ]
    },
    {
     "name": "stderr",
     "output_type": "stream",
     "text": [
      "/home/song/anaconda3/envs/tf/lib/python3.8/site-packages/pyearth/earth.py:1066: FutureWarning: `rcond` parameter will change to the default of machine precision times ``max(M, N)`` where M and N are the input matrix dimensions.\n",
      "To use the future default and silence this warning we advise to pass `rcond=None`, to keep using the old, explicitly pass `rcond=-1`.\n",
      "  coef, resid = np.linalg.lstsq(B, weighted_y[:, i])[0:2]\n"
     ]
    },
    {
     "name": "stdout",
     "output_type": "stream",
     "text": [
      "Beginning forward pass\n",
      "---------------------------------------------------------------\n",
      "iter  parent  var  knot  mse       terms  gcv    rsq    grsq   \n",
      "---------------------------------------------------------------\n",
      "0     -       -    -     0.341766  1      0.342  0.000  0.000  \n",
      "1     0       25   22284  0.211575  3      0.212  0.381  0.381  \n",
      "2     0       52   22914  0.198624  5      0.199  0.419  0.418  \n",
      "3     4       25   5129  0.185430  7      0.186  0.457  0.457  \n",
      "4     2       37   19666  0.175120  9      0.175  0.488  0.487  \n",
      "5     2       12   -1    0.163665  10     0.164  0.521  0.520  \n",
      "6     0       27   3159  0.152840  12     0.153  0.553  0.552  \n",
      "7     0       18   11668  0.145622  14     0.146  0.574  0.573  \n",
      "8     12      37   22557  0.138279  16     0.139  0.595  0.594  \n",
      "9     7       61   5268  0.131928  18     0.132  0.614  0.613  \n",
      "10    0       29   23284  0.126650  20     0.127  0.629  0.628  \n",
      "11    19      25   4440  0.122046  22     0.123  0.643  0.641  \n",
      "---------------------------------------------------------------\n",
      "Stopping Condition 0: Reached maximum number of terms\n",
      "Beginning pruning pass\n",
      "--------------------------------------------\n",
      "iter  bf  terms  mse   gcv    rsq    grsq   \n",
      "--------------------------------------------\n",
      "0     -   22     0.12  0.123  0.643  0.641  \n"
     ]
    },
    {
     "name": "stderr",
     "output_type": "stream",
     "text": [
      "/home/song/anaconda3/envs/tf/lib/python3.8/site-packages/pyearth/earth.py:813: FutureWarning: `rcond` parameter will change to the default of machine precision times ``max(M, N)`` where M and N are the input matrix dimensions.\n",
      "To use the future default and silence this warning we advise to pass `rcond=None`, to keep using the old, explicitly pass `rcond=-1`.\n",
      "  pruning_passer.run()\n"
     ]
    },
    {
     "name": "stdout",
     "output_type": "stream",
     "text": [
      "1     11  21     0.12  0.123  0.643  0.641  \n",
      "2     2   20     0.12  0.123  0.643  0.641  \n",
      "3     14  19     0.12  0.123  0.642  0.641  \n",
      "4     3   18     0.12  0.123  0.640  0.639  \n",
      "5     16  17     0.12  0.124  0.638  0.637  \n",
      "6     18  16     0.12  0.125  0.635  0.634  \n",
      "7     19  15     0.13  0.127  0.631  0.629  \n",
      "8     21  14     0.13  0.127  0.629  0.628  \n",
      "9     13  13     0.13  0.128  0.625  0.624  \n",
      "10    1   12     0.13  0.131  0.617  0.616  \n",
      "11    7   11     0.13  0.135  0.607  0.606  \n",
      "12    17  10     0.14  0.136  0.603  0.603  \n",
      "13    8   9      0.14  0.140  0.590  0.589  \n",
      "14    5   8      0.15  0.147  0.572  0.571  \n",
      "15    20  7      0.15  0.153  0.553  0.553  \n",
      "16    10  6      0.16  0.164  0.521  0.520  \n",
      "17    9   5      0.18  0.178  0.481  0.480  \n",
      "18    15  4      0.20  0.198  0.422  0.422  \n",
      "19    6   3      0.23  0.235  0.314  0.314  \n",
      "20    4   2      0.27  0.270  0.210  0.210  \n",
      "21    12  1      0.34  0.342  -0.000  -0.000  \n",
      "----------------------------------------------\n",
      "Selected iteration: 2\n"
     ]
    },
    {
     "name": "stderr",
     "output_type": "stream",
     "text": [
      "/home/song/anaconda3/envs/tf/lib/python3.8/site-packages/pyearth/earth.py:1066: FutureWarning: `rcond` parameter will change to the default of machine precision times ``max(M, N)`` where M and N are the input matrix dimensions.\n",
      "To use the future default and silence this warning we advise to pass `rcond=None`, to keep using the old, explicitly pass `rcond=-1`.\n",
      "  coef, resid = np.linalg.lstsq(B, weighted_y[:, i])[0:2]\n"
     ]
    },
    {
     "name": "stdout",
     "output_type": "stream",
     "text": [
      "Beginning forward pass\n",
      "---------------------------------------------------------------\n",
      "iter  parent  var  knot  mse       terms  gcv    rsq    grsq   \n",
      "---------------------------------------------------------------\n",
      "0     -       -    -     0.342311  1      0.342  0.000  0.000  \n",
      "1     0       25   22282  0.210958  3      0.211  0.384  0.383  \n",
      "2     2       21   -1    0.171541  4      0.172  0.499  0.499  \n",
      "3     0       52   22914  0.157228  6      0.157  0.541  0.540  \n",
      "4     5       18   23057  0.143830  8      0.144  0.580  0.579  \n",
      "5     0       22   6384  0.135754  10     0.136  0.603  0.603  \n",
      "6     0       18   11668  0.128238  12     0.129  0.625  0.624  \n",
      "7     10      37   22557  0.122581  14     0.123  0.642  0.641  \n",
      "8     0       35   5395  0.115131  16     0.116  0.664  0.663  \n",
      "9     2       12   15247  0.109555  18     0.110  0.680  0.679  \n",
      "10    2       35   4985  0.103991  20     0.104  0.696  0.695  \n",
      "11    15      27   3159  0.100022  22     0.100  0.708  0.706  \n",
      "---------------------------------------------------------------\n",
      "Stopping Condition 0: Reached maximum number of terms\n",
      "Beginning pruning pass\n",
      "--------------------------------------------\n",
      "iter  bf  terms  mse   gcv    rsq    grsq   \n",
      "--------------------------------------------\n",
      "0     -   22     0.10  0.100  0.708  0.706  \n"
     ]
    },
    {
     "name": "stderr",
     "output_type": "stream",
     "text": [
      "/home/song/anaconda3/envs/tf/lib/python3.8/site-packages/pyearth/earth.py:813: FutureWarning: `rcond` parameter will change to the default of machine precision times ``max(M, N)`` where M and N are the input matrix dimensions.\n",
      "To use the future default and silence this warning we advise to pass `rcond=None`, to keep using the old, explicitly pass `rcond=-1`.\n",
      "  pruning_passer.run()\n"
     ]
    },
    {
     "name": "stdout",
     "output_type": "stream",
     "text": [
      "1     16  21     0.10  0.100  0.708  0.707  \n",
      "2     21  20     0.10  0.100  0.708  0.706  \n",
      "3     8   19     0.10  0.101  0.708  0.706  \n",
      "4     6   18     0.10  0.101  0.707  0.706  \n",
      "5     12  17     0.10  0.101  0.707  0.706  \n",
      "6     15  16     0.10  0.101  0.706  0.705  \n",
      "7     1   15     0.10  0.102  0.704  0.703  \n",
      "8     11  14     0.10  0.102  0.702  0.701  \n",
      "9     19  13     0.10  0.105  0.693  0.693  \n",
      "10    7   12     0.11  0.109  0.682  0.681  \n",
      "11    5   11     0.11  0.113  0.671  0.670  \n",
      "12    20  10     0.12  0.117  0.660  0.659  \n",
      "13    17  9      0.12  0.123  0.641  0.641  \n",
      "14    18  8      0.13  0.130  0.622  0.622  \n",
      "15    4   7      0.14  0.138  0.597  0.596  \n",
      "16    9   6      0.14  0.142  0.586  0.585  \n",
      "17    14  5      0.15  0.154  0.551  0.550  \n",
      "18    13  4      0.17  0.167  0.514  0.514  \n",
      "19    10  3      0.17  0.172  0.497  0.497  \n",
      "20    3   2      0.21  0.211  0.382  0.382  \n",
      "21    2   1      0.34  0.342  -0.000  -0.000  \n",
      "----------------------------------------------\n",
      "Selected iteration: 1\n"
     ]
    },
    {
     "name": "stderr",
     "output_type": "stream",
     "text": [
      "/home/song/anaconda3/envs/tf/lib/python3.8/site-packages/pyearth/earth.py:1066: FutureWarning: `rcond` parameter will change to the default of machine precision times ``max(M, N)`` where M and N are the input matrix dimensions.\n",
      "To use the future default and silence this warning we advise to pass `rcond=None`, to keep using the old, explicitly pass `rcond=-1`.\n",
      "  coef, resid = np.linalg.lstsq(B, weighted_y[:, i])[0:2]\n"
     ]
    },
    {
     "name": "stdout",
     "output_type": "stream",
     "text": [
      "Beginning forward pass\n",
      "---------------------------------------------------------------\n",
      "iter  parent  var  knot  mse       terms  gcv    rsq    grsq   \n",
      "---------------------------------------------------------------\n",
      "0     -       -    -     0.342861  1      0.343  0.000  0.000  \n",
      "1     0       25   22384  0.213771  3      0.214  0.377  0.376  \n",
      "2     2       12   -1    0.187334  4      0.187  0.454  0.453  \n",
      "3     0       22   6384  0.174558  6      0.175  0.491  0.490  \n",
      "4     0       52   22914  0.165353  8      0.166  0.518  0.517  \n",
      "5     7       18   23057  0.150794  10     0.151  0.560  0.559  \n",
      "6     6       3    -1    0.144752  11     0.145  0.578  0.577  \n",
      "7     0       18   11668  0.137620  13     0.138  0.599  0.598  \n",
      "8     11      37   22557  0.132904  15     0.133  0.612  0.611  \n",
      "9     13      61   5190  0.125646  17     0.126  0.634  0.632  \n",
      "10    2       44   17969  0.120811  19     0.121  0.648  0.646  \n",
      "11    18      29   23323  0.116556  21     0.117  0.660  0.659  \n",
      "----------------------------------------------------------------\n",
      "Stopping Condition 0: Reached maximum number of terms\n",
      "Beginning pruning pass\n",
      "--------------------------------------------\n",
      "iter  bf  terms  mse   gcv    rsq    grsq   \n",
      "--------------------------------------------\n",
      "0     -   21     0.12  0.117  0.660  0.659  \n"
     ]
    },
    {
     "name": "stderr",
     "output_type": "stream",
     "text": [
      "/home/song/anaconda3/envs/tf/lib/python3.8/site-packages/pyearth/earth.py:813: FutureWarning: `rcond` parameter will change to the default of machine precision times ``max(M, N)`` where M and N are the input matrix dimensions.\n",
      "To use the future default and silence this warning we advise to pass `rcond=None`, to keep using the old, explicitly pass `rcond=-1`.\n",
      "  pruning_passer.run()\n"
     ]
    },
    {
     "name": "stdout",
     "output_type": "stream",
     "text": [
      "1     8   20     0.12  0.117  0.660  0.659  \n",
      "2     4   19     0.12  0.117  0.660  0.659  \n",
      "3     19  18     0.12  0.117  0.660  0.659  \n",
      "4     1   17     0.12  0.118  0.658  0.657  \n",
      "5     15  16     0.12  0.118  0.656  0.655  \n",
      "6     12  15     0.12  0.119  0.653  0.652  \n",
      "7     9   14     0.12  0.122  0.644  0.643  \n",
      "8     7   13     0.12  0.125  0.637  0.636  \n",
      "9     17  12     0.13  0.129  0.624  0.623  \n",
      "10    18  11     0.13  0.133  0.612  0.611  \n",
      "11    20  10     0.13  0.135  0.608  0.607  \n",
      "12    6   9      0.14  0.142  0.586  0.585  \n",
      "13    16  8      0.15  0.151  0.559  0.559  \n",
      "14    13  7      0.16  0.157  0.542  0.541  \n",
      "15    10  6      0.16  0.164  0.521  0.520  \n",
      "16    14  5      0.17  0.171  0.501  0.500  \n",
      "17    11  4      0.18  0.176  0.486  0.486  \n",
      "18    5   3      0.19  0.188  0.452  0.452  \n",
      "19    3   2      0.21  0.214  0.375  0.375  \n",
      "20    2   1      0.34  0.343  0.000  0.000  \n",
      "--------------------------------------------\n",
      "Selected iteration: 3\n"
     ]
    },
    {
     "name": "stderr",
     "output_type": "stream",
     "text": [
      "/home/song/anaconda3/envs/tf/lib/python3.8/site-packages/pyearth/earth.py:1066: FutureWarning: `rcond` parameter will change to the default of machine precision times ``max(M, N)`` where M and N are the input matrix dimensions.\n",
      "To use the future default and silence this warning we advise to pass `rcond=None`, to keep using the old, explicitly pass `rcond=-1`.\n",
      "  coef, resid = np.linalg.lstsq(B, weighted_y[:, i])[0:2]\n"
     ]
    },
    {
     "name": "stdout",
     "output_type": "stream",
     "text": [
      "Beginning forward pass\n",
      "---------------------------------------------------------------\n",
      "iter  parent  var  knot  mse       terms  gcv    rsq    grsq   \n",
      "---------------------------------------------------------------\n",
      "0     -       -    -     0.343382  1      0.343  0.000  0.000  \n",
      "1     0       25   22362  0.217385  3      0.217  0.367  0.367  \n",
      "2     0       22   6384  0.199534  5      0.200  0.419  0.418  \n",
      "3     0       44   21116  0.186753  7      0.187  0.456  0.455  \n",
      "4     4       25   22611  0.176515  9      0.177  0.486  0.485  \n",
      "5     6       25   22243  0.166088  11     0.166  0.516  0.515  \n",
      "6     4       18   11668  0.158403  13     0.159  0.539  0.538  \n",
      "7     12      29   10634  0.149150  15     0.150  0.566  0.564  \n",
      "8     6       4    20866  0.141800  17     0.142  0.587  0.586  \n",
      "9     0       38   23098  0.136540  19     0.137  0.602  0.601  \n",
      "10    2       21   -1    0.131241  20     0.132  0.618  0.616  \n",
      "11    15      38   -1    0.127901  21     0.128  0.628  0.626  \n",
      "---------------------------------------------------------------\n",
      "Stopping Condition 0: Reached maximum number of terms\n",
      "Beginning pruning pass\n",
      "--------------------------------------------\n",
      "iter  bf  terms  mse   gcv    rsq    grsq   \n",
      "--------------------------------------------\n",
      "0     -   21     0.13  0.128  0.628  0.626  \n"
     ]
    },
    {
     "name": "stderr",
     "output_type": "stream",
     "text": [
      "/home/song/anaconda3/envs/tf/lib/python3.8/site-packages/pyearth/earth.py:813: FutureWarning: `rcond` parameter will change to the default of machine precision times ``max(M, N)`` where M and N are the input matrix dimensions.\n",
      "To use the future default and silence this warning we advise to pass `rcond=None`, to keep using the old, explicitly pass `rcond=-1`.\n",
      "  pruning_passer.run()\n"
     ]
    },
    {
     "name": "stdout",
     "output_type": "stream",
     "text": [
      "1     14  20     0.13  0.128  0.627  0.626  \n",
      "2     1   19     0.13  0.128  0.627  0.626  \n",
      "3     16  18     0.13  0.129  0.626  0.625  \n",
      "4     10  17     0.13  0.130  0.624  0.623  \n",
      "5     6   16     0.13  0.130  0.624  0.623  \n",
      "6     17  15     0.13  0.131  0.620  0.619  \n",
      "7     3   14     0.13  0.132  0.615  0.614  \n",
      "8     9   13     0.13  0.135  0.609  0.608  \n",
      "9     7   12     0.14  0.138  0.599  0.598  \n",
      "10    8   11     0.14  0.142  0.586  0.585  \n",
      "11    15  10     0.15  0.147  0.574  0.573  \n",
      "12    18  9      0.15  0.151  0.562  0.561  \n",
      "13    19  8      0.16  0.156  0.547  0.546  \n",
      "14    12  7      0.16  0.165  0.521  0.520  \n",
      "15    11  6      0.17  0.169  0.508  0.507  \n",
      "16    13  5      0.18  0.179  0.479  0.479  \n",
      "17    4   4      0.19  0.194  0.437  0.436  \n",
      "18    20  3      0.21  0.208  0.395  0.394  \n",
      "19    5   2      0.22  0.218  0.366  0.366  \n",
      "20    2   1      0.34  0.343  0.000  0.000  \n",
      "--------------------------------------------\n",
      "Selected iteration: 0\n"
     ]
    },
    {
     "name": "stderr",
     "output_type": "stream",
     "text": [
      "/home/song/anaconda3/envs/tf/lib/python3.8/site-packages/pyearth/earth.py:1066: FutureWarning: `rcond` parameter will change to the default of machine precision times ``max(M, N)`` where M and N are the input matrix dimensions.\n",
      "To use the future default and silence this warning we advise to pass `rcond=None`, to keep using the old, explicitly pass `rcond=-1`.\n",
      "  coef, resid = np.linalg.lstsq(B, weighted_y[:, i])[0:2]\n"
     ]
    },
    {
     "name": "stdout",
     "output_type": "stream",
     "text": [
      "Beginning forward pass\n",
      "---------------------------------------------------------------\n",
      "iter  parent  var  knot  mse       terms  gcv    rsq    grsq   \n",
      "---------------------------------------------------------------\n",
      "0     -       -    -     0.343894  1      0.344  0.000  0.000  \n",
      "1     0       25   22369  0.219770  3      0.220  0.361  0.361  \n",
      "2     0       31   5351  0.198422  5      0.199  0.423  0.423  \n",
      "3     2       31   21807  0.187267  7      0.188  0.455  0.455  \n",
      "4     2       44   2059  0.176324  9      0.177  0.487  0.486  \n",
      "5     0       31   23146  0.165600  11     0.166  0.518  0.517  \n",
      "6     5       11   5336  0.151940  13     0.152  0.558  0.557  \n",
      "7     10      18   11668  0.144647  15     0.145  0.579  0.578  \n",
      "8     8       4    17563  0.136461  17     0.137  0.603  0.602  \n",
      "9     0       25   22698  0.130713  19     0.131  0.620  0.618  \n",
      "10    18      52   22082  0.125562  21     0.126  0.635  0.633  \n",
      "----------------------------------------------------------------\n",
      "Stopping Condition 0: Reached maximum number of terms\n",
      "Beginning pruning pass\n",
      "--------------------------------------------\n",
      "iter  bf  terms  mse   gcv    rsq    grsq   \n",
      "--------------------------------------------\n",
      "0     -   21     0.13  0.126  0.635  0.633  \n"
     ]
    },
    {
     "name": "stderr",
     "output_type": "stream",
     "text": [
      "/home/song/anaconda3/envs/tf/lib/python3.8/site-packages/pyearth/earth.py:813: FutureWarning: `rcond` parameter will change to the default of machine precision times ``max(M, N)`` where M and N are the input matrix dimensions.\n",
      "To use the future default and silence this warning we advise to pass `rcond=None`, to keep using the old, explicitly pass `rcond=-1`.\n",
      "  pruning_passer.run()\n"
     ]
    },
    {
     "name": "stdout",
     "output_type": "stream",
     "text": [
      "1     18  20     0.13  0.126  0.635  0.633  \n",
      "2     10  19     0.13  0.126  0.635  0.633  \n",
      "3     16  18     0.13  0.126  0.635  0.633  \n",
      "4     8   17     0.13  0.126  0.634  0.633  \n",
      "5     1   16     0.13  0.127  0.632  0.631  \n",
      "6     14  15     0.13  0.128  0.628  0.627  \n",
      "7     17  14     0.13  0.130  0.624  0.623  \n",
      "8     3   13     0.13  0.135  0.609  0.608  \n",
      "9     12  12     0.14  0.138  0.598  0.597  \n",
      "10    19  11     0.14  0.145  0.579  0.579  \n",
      "11    20  10     0.15  0.148  0.571  0.570  \n",
      "12    11  9      0.15  0.153  0.556  0.555  \n",
      "13    13  8      0.16  0.162  0.530  0.529  \n",
      "14    15  7      0.17  0.168  0.512  0.511  \n",
      "15    7   6      0.18  0.177  0.485  0.485  \n",
      "16    5   5      0.19  0.187  0.456  0.455  \n",
      "17    9   4      0.19  0.193  0.438  0.438  \n",
      "18    6   3      0.20  0.200  0.418  0.417  \n",
      "19    4   2      0.22  0.220  0.360  0.360  \n",
      "20    2   1      0.34  0.344  -0.000  -0.000  \n",
      "----------------------------------------------\n",
      "Selected iteration: 3\n"
     ]
    },
    {
     "name": "stderr",
     "output_type": "stream",
     "text": [
      "/home/song/anaconda3/envs/tf/lib/python3.8/site-packages/pyearth/earth.py:1066: FutureWarning: `rcond` parameter will change to the default of machine precision times ``max(M, N)`` where M and N are the input matrix dimensions.\n",
      "To use the future default and silence this warning we advise to pass `rcond=None`, to keep using the old, explicitly pass `rcond=-1`.\n",
      "  coef, resid = np.linalg.lstsq(B, weighted_y[:, i])[0:2]\n"
     ]
    },
    {
     "name": "stdout",
     "output_type": "stream",
     "text": [
      "Beginning forward pass\n",
      "---------------------------------------------------------------\n",
      "iter  parent  var  knot  mse       terms  gcv    rsq    grsq   \n",
      "---------------------------------------------------------------\n",
      "0     -       -    -     0.344419  1      0.344  0.000  0.000  \n",
      "1     0       25   22273  0.221635  3      0.222  0.356  0.356  \n",
      "2     2       21   -1    0.191303  4      0.191  0.445  0.444  \n",
      "3     0       31   5351  0.166884  6      0.167  0.515  0.515  \n",
      "4     2       31   21807  0.151195  8      0.151  0.561  0.560  \n",
      "5     0       31   23146  0.139577  10     0.140  0.595  0.594  \n",
      "6     6       11   5336  0.124878  12     0.125  0.637  0.637  \n",
      "7     0       25   22528  0.118254  14     0.119  0.657  0.656  \n",
      "8     9       18   11668  0.113708  16     0.114  0.670  0.669  \n",
      "9     15      50   11176  0.109098  18     0.110  0.683  0.682  \n",
      "10    14      50   14551  0.105569  20     0.106  0.693  0.692  \n",
      "11    8       11   5336  0.102893  22     0.103  0.701  0.700  \n",
      "---------------------------------------------------------------\n",
      "Stopping Condition 0: Reached maximum number of terms\n",
      "Beginning pruning pass\n",
      "--------------------------------------------\n",
      "iter  bf  terms  mse   gcv    rsq    grsq   \n",
      "--------------------------------------------\n",
      "0     -   22     0.10  0.103  0.701  0.700  \n"
     ]
    },
    {
     "name": "stderr",
     "output_type": "stream",
     "text": [
      "/home/song/anaconda3/envs/tf/lib/python3.8/site-packages/pyearth/earth.py:813: FutureWarning: `rcond` parameter will change to the default of machine precision times ``max(M, N)`` where M and N are the input matrix dimensions.\n",
      "To use the future default and silence this warning we advise to pass `rcond=None`, to keep using the old, explicitly pass `rcond=-1`.\n",
      "  pruning_passer.run()\n"
     ]
    },
    {
     "name": "stdout",
     "output_type": "stream",
     "text": [
      "1     12  21     0.10  0.103  0.701  0.700  \n",
      "2     8   20     0.10  0.103  0.701  0.700  \n",
      "3     19  19     0.10  0.103  0.701  0.700  \n",
      "4     1   18     0.10  0.103  0.701  0.700  \n",
      "5     17  17     0.10  0.103  0.701  0.700  \n",
      "6     11  16     0.10  0.104  0.700  0.699  \n",
      "7     10  15     0.10  0.105  0.696  0.695  \n",
      "8     15  14     0.11  0.108  0.688  0.687  \n",
      "9     16  13     0.11  0.111  0.679  0.679  \n",
      "10    18  12     0.11  0.114  0.669  0.669  \n",
      "11    14  11     0.12  0.117  0.660  0.660  \n",
      "12    2   10     0.12  0.125  0.638  0.638  \n",
      "13    5   9      0.13  0.129  0.626  0.626  \n",
      "14    6   8      0.13  0.129  0.625  0.624  \n",
      "15    4   7      0.13  0.134  0.610  0.610  \n",
      "16    20  6      0.14  0.135  0.608  0.607  \n",
      "17    7   5      0.16  0.157  0.545  0.544  \n",
      "18    9   4      0.16  0.162  0.531  0.531  \n",
      "19    3   3      0.19  0.192  0.443  0.442  \n",
      "20    21  2      0.23  0.232  0.327  0.327  \n",
      "21    13  1      0.34  0.344  -0.000  -0.000  \n",
      "----------------------------------------------\n",
      "Selected iteration: 3\n"
     ]
    },
    {
     "name": "stderr",
     "output_type": "stream",
     "text": [
      "/home/song/anaconda3/envs/tf/lib/python3.8/site-packages/pyearth/earth.py:1066: FutureWarning: `rcond` parameter will change to the default of machine precision times ``max(M, N)`` where M and N are the input matrix dimensions.\n",
      "To use the future default and silence this warning we advise to pass `rcond=None`, to keep using the old, explicitly pass `rcond=-1`.\n",
      "  coef, resid = np.linalg.lstsq(B, weighted_y[:, i])[0:2]\n"
     ]
    },
    {
     "name": "stdout",
     "output_type": "stream",
     "text": [
      "Beginning forward pass\n",
      "---------------------------------------------------------------\n",
      "iter  parent  var  knot  mse       terms  gcv    rsq    grsq   \n",
      "---------------------------------------------------------------\n",
      "0     -       -    -     0.344929  1      0.345  0.000  0.000  \n",
      "1     0       25   22267  0.222715  3      0.223  0.354  0.354  \n",
      "2     2       21   -1    0.174150  4      0.174  0.495  0.495  \n",
      "3     0       31   5351  0.146631  6      0.147  0.575  0.574  \n",
      "4     2       31   5285  0.124744  8      0.125  0.638  0.638  \n",
      "5     0       31   23146  0.112375  10     0.113  0.674  0.674  \n",
      "6     8       11   5336  0.103151  12     0.103  0.701  0.700  \n",
      "7     0       25   22528  0.094290  14     0.095  0.727  0.726  \n",
      "8     13      54   17930  0.090787  16     0.091  0.737  0.736  \n",
      "9     15      38   17125  0.087071  18     0.087  0.748  0.747  \n",
      "10    13      11   5973  0.084181  20     0.085  0.756  0.755  \n",
      "11    9       18   2131  0.080280  22     0.081  0.767  0.766  \n",
      "---------------------------------------------------------------\n",
      "Stopping Condition 0: Reached maximum number of terms\n",
      "Beginning pruning pass\n",
      "--------------------------------------------\n",
      "iter  bf  terms  mse   gcv    rsq    grsq   \n",
      "--------------------------------------------\n",
      "0     -   22     0.08  0.081  0.767  0.766  \n"
     ]
    },
    {
     "name": "stderr",
     "output_type": "stream",
     "text": [
      "/home/song/anaconda3/envs/tf/lib/python3.8/site-packages/pyearth/earth.py:813: FutureWarning: `rcond` parameter will change to the default of machine precision times ``max(M, N)`` where M and N are the input matrix dimensions.\n",
      "To use the future default and silence this warning we advise to pass `rcond=None`, to keep using the old, explicitly pass `rcond=-1`.\n",
      "  pruning_passer.run()\n"
     ]
    },
    {
     "name": "stdout",
     "output_type": "stream",
     "text": [
      "1     13  21     0.08  0.081  0.767  0.766  \n",
      "2     9   20     0.08  0.081  0.767  0.766  \n",
      "3     10  19     0.08  0.081  0.767  0.766  \n",
      "4     15  18     0.08  0.081  0.765  0.764  \n",
      "5     16  17     0.08  0.082  0.763  0.762  \n",
      "6     1   16     0.08  0.083  0.760  0.759  \n",
      "7     21  15     0.08  0.085  0.755  0.754  \n",
      "8     4   14     0.09  0.086  0.750  0.749  \n",
      "9     14  13     0.09  0.089  0.744  0.743  \n",
      "10    20  12     0.09  0.092  0.735  0.735  \n",
      "11    19  11     0.09  0.092  0.732  0.732  \n",
      "12    17  10     0.10  0.096  0.722  0.722  \n",
      "13    18  9      0.10  0.100  0.712  0.711  \n",
      "14    12  8      0.11  0.108  0.688  0.688  \n",
      "15    6   7      0.12  0.123  0.643  0.642  \n",
      "16    7   6      0.13  0.128  0.629  0.629  \n",
      "17    8   5      0.13  0.129  0.625  0.625  \n",
      "18    5   4      0.13  0.131  0.621  0.620  \n",
      "19    11  3      0.17  0.175  0.493  0.493  \n",
      "20    3   2      0.22  0.223  0.353  0.353  \n",
      "21    2   1      0.34  0.345  0.000  0.000  \n",
      "--------------------------------------------\n",
      "Selected iteration: 2\n"
     ]
    },
    {
     "name": "stderr",
     "output_type": "stream",
     "text": [
      "/home/song/anaconda3/envs/tf/lib/python3.8/site-packages/pyearth/earth.py:1066: FutureWarning: `rcond` parameter will change to the default of machine precision times ``max(M, N)`` where M and N are the input matrix dimensions.\n",
      "To use the future default and silence this warning we advise to pass `rcond=None`, to keep using the old, explicitly pass `rcond=-1`.\n",
      "  coef, resid = np.linalg.lstsq(B, weighted_y[:, i])[0:2]\n"
     ]
    },
    {
     "name": "stdout",
     "output_type": "stream",
     "text": [
      "Beginning forward pass\n",
      "---------------------------------------------------------------\n",
      "iter  parent  var  knot  mse       terms  gcv    rsq    grsq   \n",
      "---------------------------------------------------------------\n",
      "0     -       -    -     0.345486  1      0.346  0.000  0.000  \n",
      "1     0       25   22262  0.224622  3      0.225  0.350  0.350  \n",
      "2     2       21   -1    0.168667  4      0.169  0.512  0.511  \n",
      "3     0       52   4671  0.134831  6      0.135  0.610  0.609  \n",
      "4     4       31   -1    0.119324  7      0.119  0.655  0.654  \n",
      "5     5       18   23057  0.106006  9      0.106  0.693  0.693  \n",
      "6     5       22   -1    0.099450  10     0.100  0.712  0.712  \n",
      "7     0       38   23098  0.094830  12     0.095  0.726  0.725  \n",
      "8     0       4    17468  0.089689  14     0.090  0.740  0.740  \n",
      "9     12      25   4837  0.086443  16     0.087  0.750  0.749  \n",
      "10    11      41   18103  0.084060  18     0.084  0.757  0.756  \n",
      "11    17      25   13921  0.081474  20     0.082  0.764  0.763  \n",
      "12    9       25   22236  0.078741  22     0.079  0.772  0.771  \n",
      "----------------------------------------------------------------\n",
      "Stopping Condition 0: Reached maximum number of terms\n",
      "Beginning pruning pass\n",
      "--------------------------------------------\n",
      "iter  bf  terms  mse   gcv    rsq    grsq   \n",
      "--------------------------------------------\n",
      "0     -   22     0.08  0.079  0.772  0.771  \n"
     ]
    },
    {
     "name": "stderr",
     "output_type": "stream",
     "text": [
      "/home/song/anaconda3/envs/tf/lib/python3.8/site-packages/pyearth/earth.py:813: FutureWarning: `rcond` parameter will change to the default of machine precision times ``max(M, N)`` where M and N are the input matrix dimensions.\n",
      "To use the future default and silence this warning we advise to pass `rcond=None`, to keep using the old, explicitly pass `rcond=-1`.\n",
      "  pruning_passer.run()\n"
     ]
    },
    {
     "name": "stdout",
     "output_type": "stream",
     "text": [
      "1     7   21     0.08  0.079  0.772  0.771  \n",
      "2     10  20     0.08  0.079  0.771  0.771  \n",
      "3     13  19     0.08  0.080  0.769  0.769  \n",
      "4     21  18     0.08  0.081  0.768  0.767  \n",
      "5     1   17     0.08  0.081  0.766  0.765  \n",
      "6     18  16     0.08  0.083  0.762  0.761  \n",
      "7     20  15     0.08  0.084  0.758  0.757  \n",
      "8     15  14     0.08  0.085  0.754  0.754  \n",
      "9     17  13     0.09  0.086  0.750  0.750  \n",
      "10    19  12     0.09  0.087  0.750  0.749  \n",
      "11    14  11     0.09  0.088  0.745  0.744  \n",
      "12    16  10     0.09  0.091  0.738  0.737  \n",
      "13    12  9      0.10  0.096  0.724  0.723  \n",
      "14    11  8      0.10  0.100  0.711  0.711  \n",
      "15    5   7      0.11  0.106  0.695  0.694  \n",
      "16    4   6      0.12  0.118  0.659  0.659  \n",
      "17    8   5      0.13  0.131  0.621  0.621  \n",
      "18    9   4      0.15  0.152  0.561  0.561  \n",
      "19    6   3      0.17  0.169  0.510  0.510  \n",
      "20    3   2      0.23  0.225  0.348  0.348  \n",
      "21    2   1      0.35  0.346  -0.000  -0.000  \n",
      "----------------------------------------------\n",
      "Selected iteration: 1\n",
      "Beginning forward pass\n",
      "---------------------------------------------------------------\n",
      "iter  parent  var  knot  mse       terms  gcv    rsq    grsq   \n",
      "---------------------------------------------------------------\n",
      "0     -       -    -     0.346061  1      0.346  0.000  0.000  \n"
     ]
    },
    {
     "name": "stderr",
     "output_type": "stream",
     "text": [
      "/home/song/anaconda3/envs/tf/lib/python3.8/site-packages/pyearth/earth.py:1066: FutureWarning: `rcond` parameter will change to the default of machine precision times ``max(M, N)`` where M and N are the input matrix dimensions.\n",
      "To use the future default and silence this warning we advise to pass `rcond=None`, to keep using the old, explicitly pass `rcond=-1`.\n",
      "  coef, resid = np.linalg.lstsq(B, weighted_y[:, i])[0:2]\n"
     ]
    },
    {
     "name": "stdout",
     "output_type": "stream",
     "text": [
      "1     0       25   22262  0.227359  3      0.227  0.343  0.343  \n",
      "2     0       52   22584  0.185161  5      0.185  0.465  0.464  \n",
      "3     2       21   -1    0.160613  6      0.161  0.536  0.535  \n",
      "4     3       1    4244  0.141487  8      0.142  0.591  0.591  \n",
      "5     2       12   15296  0.132774  10     0.133  0.616  0.616  \n",
      "6     4       18   23057  0.123301  12     0.124  0.644  0.643  \n",
      "7     0       22   6384  0.117563  14     0.118  0.660  0.659  \n",
      "8     13      25   23035  0.113597  16     0.114  0.672  0.671  \n",
      "9     0       38   23087  0.110691  18     0.111  0.680  0.679  \n",
      "10    0       48   17337  0.106717  20     0.107  0.692  0.690  \n",
      "11    19      31   23187  0.101350  22     0.102  0.707  0.706  \n",
      "----------------------------------------------------------------\n",
      "Stopping Condition 0: Reached maximum number of terms\n",
      "Beginning pruning pass\n",
      "--------------------------------------------\n",
      "iter  bf  terms  mse   gcv    rsq    grsq   \n",
      "--------------------------------------------\n",
      "0     -   22     0.10  0.102  0.707  0.706  \n"
     ]
    },
    {
     "name": "stderr",
     "output_type": "stream",
     "text": [
      "/home/song/anaconda3/envs/tf/lib/python3.8/site-packages/pyearth/earth.py:813: FutureWarning: `rcond` parameter will change to the default of machine precision times ``max(M, N)`` where M and N are the input matrix dimensions.\n",
      "To use the future default and silence this warning we advise to pass `rcond=None`, to keep using the old, explicitly pass `rcond=-1`.\n",
      "  pruning_passer.run()\n"
     ]
    },
    {
     "name": "stdout",
     "output_type": "stream",
     "text": [
      "1     3   21     0.10  0.102  0.707  0.706  \n",
      "2     1   20     0.10  0.102  0.707  0.706  \n",
      "3     8   19     0.10  0.102  0.707  0.706  \n",
      "4     10  18     0.10  0.102  0.707  0.706  \n",
      "5     16  17     0.10  0.102  0.706  0.705  \n",
      "6     12  16     0.10  0.102  0.705  0.704  \n",
      "7     15  15     0.10  0.103  0.704  0.703  \n",
      "8     18  14     0.10  0.103  0.703  0.702  \n",
      "9     6   13     0.10  0.103  0.702  0.701  \n",
      "10    14  12     0.10  0.105  0.698  0.697  \n",
      "11    13  11     0.11  0.106  0.694  0.693  \n",
      "12    11  10     0.11  0.110  0.682  0.681  \n",
      "13    4   9      0.11  0.113  0.674  0.673  \n",
      "14    20  8      0.12  0.118  0.660  0.660  \n",
      "15    17  7      0.12  0.124  0.643  0.642  \n",
      "16    9   6      0.13  0.133  0.615  0.615  \n",
      "17    7   5      0.14  0.145  0.581  0.581  \n",
      "18    5   4      0.17  0.169  0.511  0.510  \n",
      "19    21  3      0.21  0.213  0.384  0.384  \n",
      "20    19  2      0.23  0.228  0.342  0.341  \n",
      "21    2   1      0.35  0.346  -0.000  -0.000  \n",
      "----------------------------------------------\n",
      "Selected iteration: 1\n"
     ]
    },
    {
     "name": "stderr",
     "output_type": "stream",
     "text": [
      "/home/song/anaconda3/envs/tf/lib/python3.8/site-packages/pyearth/earth.py:1066: FutureWarning: `rcond` parameter will change to the default of machine precision times ``max(M, N)`` where M and N are the input matrix dimensions.\n",
      "To use the future default and silence this warning we advise to pass `rcond=None`, to keep using the old, explicitly pass `rcond=-1`.\n",
      "  coef, resid = np.linalg.lstsq(B, weighted_y[:, i])[0:2]\n"
     ]
    },
    {
     "name": "stdout",
     "output_type": "stream",
     "text": [
      "Beginning forward pass\n",
      "---------------------------------------------------------------\n",
      "iter  parent  var  knot  mse       terms  gcv    rsq    grsq   \n",
      "---------------------------------------------------------------\n",
      "0     -       -    -     0.346666  1      0.347  0.000  0.000  \n",
      "1     0       25   22262  0.234296  3      0.234  0.324  0.324  \n",
      "2     0       52   22914  0.184044  5      0.184  0.469  0.469  \n",
      "3     3       1    4244  0.164567  7      0.165  0.525  0.525  \n",
      "4     2       12   -1    0.148616  8      0.149  0.571  0.571  \n",
      "5     4       31   5392  0.138398  10     0.139  0.601  0.600  \n",
      "6     2       38   23006  0.131961  12     0.132  0.619  0.618  \n",
      "7     0       31   22148  0.128275  14     0.129  0.630  0.629  \n",
      "8     2       31   5311  0.120525  16     0.121  0.652  0.651  \n",
      "9     0       2    5562  0.116009  18     0.116  0.665  0.664  \n",
      "10    11      27   3159  0.112314  20     0.113  0.676  0.675  \n",
      "11    13      2    5562  0.109112  22     0.110  0.685  0.684  \n",
      "---------------------------------------------------------------\n",
      "Stopping Condition 0: Reached maximum number of terms\n",
      "Beginning pruning pass\n",
      "--------------------------------------------\n",
      "iter  bf  terms  mse   gcv    rsq    grsq   \n",
      "--------------------------------------------\n",
      "0     -   22     0.11  0.110  0.685  0.684  \n"
     ]
    },
    {
     "name": "stderr",
     "output_type": "stream",
     "text": [
      "/home/song/anaconda3/envs/tf/lib/python3.8/site-packages/pyearth/earth.py:813: FutureWarning: `rcond` parameter will change to the default of machine precision times ``max(M, N)`` where M and N are the input matrix dimensions.\n",
      "To use the future default and silence this warning we advise to pass `rcond=None`, to keep using the old, explicitly pass `rcond=-1`.\n",
      "  pruning_passer.run()\n"
     ]
    },
    {
     "name": "stdout",
     "output_type": "stream",
     "text": [
      "1     8   21     0.11  0.110  0.685  0.684  \n",
      "2     9   20     0.11  0.110  0.685  0.684  \n",
      "3     1   19     0.11  0.110  0.685  0.684  \n",
      "4     3   18     0.11  0.110  0.684  0.683  \n",
      "5     10  17     0.11  0.110  0.684  0.683  \n",
      "6     19  16     0.11  0.110  0.683  0.682  \n",
      "7     14  15     0.11  0.111  0.682  0.681  \n",
      "8     15  14     0.11  0.111  0.681  0.680  \n",
      "9     12  13     0.11  0.111  0.679  0.678  \n",
      "10    5   12     0.11  0.112  0.678  0.677  \n",
      "11    2   11     0.12  0.115  0.668  0.667  \n",
      "12    6   10     0.12  0.118  0.660  0.659  \n",
      "13    4   9      0.12  0.122  0.650  0.649  \n",
      "14    18  8      0.13  0.126  0.636  0.635  \n",
      "15    20  7      0.14  0.136  0.609  0.609  \n",
      "16    7   6      0.16  0.157  0.547  0.547  \n",
      "17    16  5      0.18  0.182  0.474  0.474  \n",
      "18    17  4      0.21  0.206  0.407  0.407  \n",
      "19    21  3      0.21  0.213  0.387  0.387  \n",
      "20    13  2      0.25  0.250  0.280  0.280  \n",
      "21    11  1      0.35  0.347  -0.000  -0.000  \n",
      "----------------------------------------------\n",
      "Selected iteration: 1\n"
     ]
    },
    {
     "name": "stderr",
     "output_type": "stream",
     "text": [
      "/home/song/anaconda3/envs/tf/lib/python3.8/site-packages/pyearth/earth.py:1066: FutureWarning: `rcond` parameter will change to the default of machine precision times ``max(M, N)`` where M and N are the input matrix dimensions.\n",
      "To use the future default and silence this warning we advise to pass `rcond=None`, to keep using the old, explicitly pass `rcond=-1`.\n",
      "  coef, resid = np.linalg.lstsq(B, weighted_y[:, i])[0:2]\n"
     ]
    },
    {
     "name": "stdout",
     "output_type": "stream",
     "text": [
      "Beginning forward pass\n",
      "---------------------------------------------------------------\n",
      "iter  parent  var  knot  mse       terms  gcv    rsq    grsq   \n",
      "---------------------------------------------------------------\n",
      "0     -       -    -     0.347230  1      0.347  0.000  0.000  \n",
      "1     0       25   22262  0.244789  3      0.245  0.295  0.295  \n",
      "2     0       52   22914  0.192273  5      0.192  0.446  0.446  \n",
      "3     3       11   7173  0.170808  7      0.171  0.508  0.507  \n",
      "4     2       21   20581  0.157437  9      0.158  0.547  0.546  \n",
      "5     4       31   5392  0.146880  11     0.147  0.577  0.576  \n",
      "6     0       38   22323  0.141269  13     0.142  0.593  0.592  \n",
      "7     10      31   22367  0.136009  15     0.136  0.608  0.607  \n",
      "8     0       12   15296  0.131055  17     0.132  0.623  0.621  \n",
      "9     7       45   2053  0.127256  19     0.128  0.634  0.632  \n",
      "10    12      40   16888  0.122675  21     0.123  0.647  0.645  \n",
      "----------------------------------------------------------------\n",
      "Stopping Condition 0: Reached maximum number of terms\n",
      "Beginning pruning pass\n",
      "--------------------------------------------\n",
      "iter  bf  terms  mse   gcv    rsq    grsq   \n",
      "--------------------------------------------\n",
      "0     -   21     0.12  0.123  0.647  0.645  \n"
     ]
    },
    {
     "name": "stderr",
     "output_type": "stream",
     "text": [
      "/home/song/anaconda3/envs/tf/lib/python3.8/site-packages/pyearth/earth.py:813: FutureWarning: `rcond` parameter will change to the default of machine precision times ``max(M, N)`` where M and N are the input matrix dimensions.\n",
      "To use the future default and silence this warning we advise to pass `rcond=None`, to keep using the old, explicitly pass `rcond=-1`.\n",
      "  pruning_passer.run()\n"
     ]
    },
    {
     "name": "stdout",
     "output_type": "stream",
     "text": [
      "1     9   20     0.12  0.123  0.647  0.645  \n",
      "2     4   19     0.12  0.123  0.647  0.645  \n",
      "3     8   18     0.12  0.123  0.647  0.645  \n",
      "4     15  17     0.12  0.123  0.646  0.645  \n",
      "5     1   16     0.12  0.123  0.646  0.645  \n",
      "6     11  15     0.12  0.124  0.645  0.644  \n",
      "7     19  14     0.12  0.124  0.644  0.643  \n",
      "8     14  13     0.12  0.125  0.642  0.641  \n",
      "9     17  12     0.13  0.126  0.639  0.638  \n",
      "10    12  11     0.13  0.128  0.634  0.633  \n",
      "11    10  10     0.13  0.131  0.624  0.623  \n",
      "12    16  9      0.14  0.136  0.610  0.610  \n",
      "13    18  8      0.14  0.144  0.586  0.585  \n",
      "14    20  7      0.15  0.147  0.578  0.577  \n",
      "15    5   6      0.15  0.155  0.555  0.555  \n",
      "16    6   5      0.17  0.168  0.515  0.515  \n",
      "17    7   4      0.18  0.184  0.471  0.470  \n",
      "18    13  3      0.21  0.211  0.393  0.393  \n",
      "19    3   2      0.25  0.245  0.294  0.294  \n",
      "20    2   1      0.35  0.347  0.000  0.000  \n",
      "--------------------------------------------\n",
      "Selected iteration: 3\n"
     ]
    },
    {
     "name": "stderr",
     "output_type": "stream",
     "text": [
      "/home/song/anaconda3/envs/tf/lib/python3.8/site-packages/pyearth/earth.py:1066: FutureWarning: `rcond` parameter will change to the default of machine precision times ``max(M, N)`` where M and N are the input matrix dimensions.\n",
      "To use the future default and silence this warning we advise to pass `rcond=None`, to keep using the old, explicitly pass `rcond=-1`.\n",
      "  coef, resid = np.linalg.lstsq(B, weighted_y[:, i])[0:2]\n"
     ]
    },
    {
     "name": "stdout",
     "output_type": "stream",
     "text": [
      "Beginning forward pass\n",
      "---------------------------------------------------------------\n",
      "iter  parent  var  knot  mse       terms  gcv    rsq    grsq   \n",
      "---------------------------------------------------------------\n",
      "0     -       -    -     0.347729  1      0.348  0.000  0.000  \n",
      "1     0       52   2040  0.246388  3      0.247  0.291  0.291  \n",
      "2     0       25   22262  0.196873  5      0.197  0.434  0.433  \n",
      "3     4       12   -1    0.172555  6      0.173  0.504  0.503  \n",
      "4     1       31   -1    0.149793  7      0.150  0.569  0.569  \n",
      "5     2       37   22955  0.138161  9      0.138  0.603  0.602  \n",
      "6     4       38   5106  0.130175  11     0.130  0.626  0.625  \n",
      "7     2       54   -1    0.123751  12     0.124  0.644  0.643  \n",
      "8     0       4    17468  0.119880  14     0.120  0.655  0.654  \n",
      "9     4       18   2056  0.114764  16     0.115  0.670  0.669  \n",
      "10    14      48   -1    0.111050  17     0.111  0.681  0.680  \n",
      "11    14      22   12744  0.106826  19     0.107  0.693  0.692  \n",
      "12    10      39   17469  0.104078  21     0.105  0.701  0.699  \n",
      "----------------------------------------------------------------\n",
      "Stopping Condition 0: Reached maximum number of terms\n",
      "Beginning pruning pass\n",
      "--------------------------------------------\n",
      "iter  bf  terms  mse   gcv    rsq    grsq   \n",
      "--------------------------------------------\n",
      "0     -   21     0.10  0.105  0.701  0.699  \n"
     ]
    },
    {
     "name": "stderr",
     "output_type": "stream",
     "text": [
      "/home/song/anaconda3/envs/tf/lib/python3.8/site-packages/pyearth/earth.py:813: FutureWarning: `rcond` parameter will change to the default of machine precision times ``max(M, N)`` where M and N are the input matrix dimensions.\n",
      "To use the future default and silence this warning we advise to pass `rcond=None`, to keep using the old, explicitly pass `rcond=-1`.\n",
      "  pruning_passer.run()\n"
     ]
    },
    {
     "name": "stdout",
     "output_type": "stream",
     "text": [
      "1     3   20     0.10  0.105  0.701  0.699  \n",
      "2     18  19     0.10  0.105  0.701  0.699  \n",
      "3     2   18     0.10  0.105  0.700  0.699  \n",
      "4     13  17     0.10  0.105  0.698  0.697  \n",
      "5     15  16     0.11  0.106  0.697  0.696  \n",
      "6     20  15     0.11  0.107  0.694  0.693  \n",
      "7     9   14     0.11  0.108  0.691  0.690  \n",
      "8     19  13     0.11  0.110  0.684  0.684  \n",
      "9     7   12     0.11  0.112  0.678  0.677  \n",
      "10    4   11     0.12  0.116  0.667  0.667  \n",
      "11    17  10     0.12  0.119  0.658  0.658  \n",
      "12    16  9      0.12  0.123  0.647  0.647  \n",
      "13    14  8      0.13  0.127  0.636  0.635  \n",
      "14    12  7      0.13  0.131  0.624  0.623  \n",
      "15    5   6      0.15  0.146  0.580  0.579  \n",
      "16    1   5      0.16  0.164  0.528  0.528  \n",
      "17    10  4      0.18  0.180  0.482  0.481  \n",
      "18    8   3      0.22  0.217  0.376  0.376  \n",
      "19    11  2      0.28  0.285  0.181  0.181  \n",
      "20    6   1      0.35  0.348  0.000  0.000  \n",
      "--------------------------------------------\n",
      "Selected iteration: 1\n"
     ]
    },
    {
     "name": "stderr",
     "output_type": "stream",
     "text": [
      "/home/song/anaconda3/envs/tf/lib/python3.8/site-packages/pyearth/earth.py:1066: FutureWarning: `rcond` parameter will change to the default of machine precision times ``max(M, N)`` where M and N are the input matrix dimensions.\n",
      "To use the future default and silence this warning we advise to pass `rcond=None`, to keep using the old, explicitly pass `rcond=-1`.\n",
      "  coef, resid = np.linalg.lstsq(B, weighted_y[:, i])[0:2]\n"
     ]
    },
    {
     "name": "stdout",
     "output_type": "stream",
     "text": [
      "Beginning forward pass\n",
      "---------------------------------------------------------------\n",
      "iter  parent  var  knot  mse       terms  gcv    rsq    grsq   \n",
      "---------------------------------------------------------------\n",
      "0     -       -    -     0.348218  1      0.348  0.000  0.000  \n",
      "1     0       52   2040  0.226732  3      0.227  0.349  0.349  \n",
      "2     0       23   7284  0.187669  5      0.188  0.461  0.461  \n",
      "3     1       11   9070  0.166667  7      0.167  0.521  0.521  \n",
      "4     4       39   17530  0.152132  9      0.152  0.563  0.562  \n",
      "5     2       38   22621  0.142891  11     0.143  0.590  0.589  \n",
      "6     0       48   4369  0.135473  13     0.136  0.611  0.610  \n",
      "7     12      37   19507  0.128647  15     0.129  0.631  0.629  \n",
      "8     13      31   22302  0.125059  17     0.126  0.641  0.640  \n",
      "9     13      52   22097  0.121094  19     0.122  0.652  0.651  \n",
      "10    4       12   -1    0.118204  20     0.119  0.661  0.659  \n",
      "11    1       1    -1    0.115511  21     0.116  0.668  0.667  \n",
      "---------------------------------------------------------------\n",
      "Stopping Condition 0: Reached maximum number of terms\n",
      "Beginning pruning pass\n",
      "--------------------------------------------\n",
      "iter  bf  terms  mse   gcv    rsq    grsq   \n",
      "--------------------------------------------\n",
      "0     -   21     0.12  0.116  0.668  0.667  \n"
     ]
    },
    {
     "name": "stderr",
     "output_type": "stream",
     "text": [
      "/home/song/anaconda3/envs/tf/lib/python3.8/site-packages/pyearth/earth.py:813: FutureWarning: `rcond` parameter will change to the default of machine precision times ``max(M, N)`` where M and N are the input matrix dimensions.\n",
      "To use the future default and silence this warning we advise to pass `rcond=None`, to keep using the old, explicitly pass `rcond=-1`.\n",
      "  pruning_passer.run()\n"
     ]
    },
    {
     "name": "stdout",
     "output_type": "stream",
     "text": [
      "1     16  20     0.12  0.116  0.668  0.667  \n",
      "2     5   19     0.12  0.116  0.668  0.667  \n",
      "3     4   18     0.12  0.116  0.668  0.667  \n",
      "4     14  17     0.12  0.116  0.667  0.666  \n",
      "5     12  16     0.12  0.117  0.665  0.664  \n",
      "6     9   15     0.12  0.118  0.663  0.662  \n",
      "7     8   14     0.12  0.118  0.661  0.660  \n",
      "8     17  13     0.12  0.120  0.656  0.655  \n",
      "9     18  12     0.12  0.122  0.650  0.649  \n",
      "10    13  11     0.12  0.122  0.649  0.648  \n",
      "11    3   10     0.12  0.125  0.641  0.640  \n",
      "12    20  9      0.13  0.129  0.632  0.631  \n",
      "13    19  8      0.13  0.133  0.618  0.617  \n",
      "14    11  7      0.14  0.141  0.597  0.596  \n",
      "15    15  6      0.15  0.155  0.555  0.555  \n",
      "16    6   5      0.17  0.175  0.498  0.497  \n",
      "17    10  4      0.20  0.195  0.439  0.439  \n",
      "18    7   3      0.23  0.227  0.349  0.349  \n",
      "19    2   2      0.28  0.277  0.204  0.204  \n",
      "20    1   1      0.35  0.348  -0.000  -0.000  \n",
      "----------------------------------------------\n",
      "Selected iteration: 2\n"
     ]
    },
    {
     "name": "stderr",
     "output_type": "stream",
     "text": [
      "/home/song/anaconda3/envs/tf/lib/python3.8/site-packages/pyearth/earth.py:1066: FutureWarning: `rcond` parameter will change to the default of machine precision times ``max(M, N)`` where M and N are the input matrix dimensions.\n",
      "To use the future default and silence this warning we advise to pass `rcond=None`, to keep using the old, explicitly pass `rcond=-1`.\n",
      "  coef, resid = np.linalg.lstsq(B, weighted_y[:, i])[0:2]\n"
     ]
    },
    {
     "name": "stdout",
     "output_type": "stream",
     "text": [
      "Beginning forward pass\n",
      "---------------------------------------------------------------\n",
      "iter  parent  var  knot  mse       terms  gcv    rsq    grsq   \n",
      "---------------------------------------------------------------\n",
      "0     -       -    -     0.348732  1      0.349  0.000  0.000  \n",
      "1     0       52   2040  0.208281  3      0.208  0.403  0.402  \n",
      "2     0       25   22537  0.175573  5      0.176  0.497  0.496  \n",
      "3     1       11   9070  0.154934  7      0.155  0.556  0.555  \n",
      "4     4       45   5649  0.149304  9      0.150  0.572  0.571  \n",
      "5     8       27   3147  0.144442  11     0.145  0.586  0.585  \n",
      "6     2       31   5370  0.139805  13     0.140  0.599  0.598  \n",
      "7     2       49   -1    0.135799  14     0.136  0.611  0.609  \n",
      "8     4       30   21334  0.132551  16     0.133  0.620  0.619  \n",
      "9     15      31   22337  0.129812  18     0.130  0.628  0.626  \n",
      "10    0       31   22148  0.123215  20     0.124  0.647  0.645  \n",
      "11    0       4    17468  0.120601  22     0.121  0.654  0.653  \n",
      "----------------------------------------------------------------\n",
      "Stopping Condition 0: Reached maximum number of terms\n",
      "Beginning pruning pass\n",
      "--------------------------------------------\n",
      "iter  bf  terms  mse   gcv    rsq    grsq   \n",
      "--------------------------------------------\n",
      "0     -   22     0.12  0.121  0.654  0.653  \n"
     ]
    },
    {
     "name": "stderr",
     "output_type": "stream",
     "text": [
      "/home/song/anaconda3/envs/tf/lib/python3.8/site-packages/pyearth/earth.py:813: FutureWarning: `rcond` parameter will change to the default of machine precision times ``max(M, N)`` where M and N are the input matrix dimensions.\n",
      "To use the future default and silence this warning we advise to pass `rcond=None`, to keep using the old, explicitly pass `rcond=-1`.\n",
      "  pruning_passer.run()\n"
     ]
    },
    {
     "name": "stdout",
     "output_type": "stream",
     "text": [
      "1     11  21     0.12  0.121  0.654  0.653  \n",
      "2     3   20     0.12  0.121  0.654  0.653  \n",
      "3     14  19     0.12  0.121  0.654  0.653  \n",
      "4     12  18     0.12  0.121  0.654  0.652  \n",
      "5     5   17     0.12  0.121  0.653  0.652  \n",
      "6     8   16     0.12  0.121  0.653  0.652  \n",
      "7     9   15     0.12  0.122  0.651  0.650  \n",
      "8     4   14     0.12  0.123  0.649  0.648  \n",
      "9     20  13     0.12  0.124  0.644  0.644  \n",
      "10    21  12     0.13  0.126  0.641  0.640  \n",
      "11    2   11     0.13  0.128  0.633  0.632  \n",
      "12    17  10     0.13  0.132  0.623  0.622  \n",
      "13    19  9      0.13  0.134  0.618  0.617  \n",
      "14    10  8      0.14  0.138  0.605  0.605  \n",
      "15    7   7      0.14  0.143  0.591  0.590  \n",
      "16    18  6      0.15  0.154  0.558  0.557  \n",
      "17    16  5      0.16  0.155  0.555  0.555  \n",
      "18    6   4      0.18  0.176  0.496  0.496  \n",
      "19    13  3      0.20  0.201  0.424  0.424  \n",
      "20    15  2      0.26  0.259  0.258  0.258  \n",
      "21    1   1      0.35  0.349  -0.000  -0.000  \n",
      "----------------------------------------------\n",
      "Selected iteration: 1\n"
     ]
    },
    {
     "name": "stderr",
     "output_type": "stream",
     "text": [
      "/home/song/anaconda3/envs/tf/lib/python3.8/site-packages/pyearth/earth.py:1066: FutureWarning: `rcond` parameter will change to the default of machine precision times ``max(M, N)`` where M and N are the input matrix dimensions.\n",
      "To use the future default and silence this warning we advise to pass `rcond=None`, to keep using the old, explicitly pass `rcond=-1`.\n",
      "  coef, resid = np.linalg.lstsq(B, weighted_y[:, i])[0:2]\n"
     ]
    },
    {
     "name": "stdout",
     "output_type": "stream",
     "text": [
      "Beginning forward pass\n",
      "---------------------------------------------------------------\n",
      "iter  parent  var  knot  mse       terms  gcv    rsq    grsq   \n",
      "---------------------------------------------------------------\n",
      "0     -       -    -     0.349260  1      0.349  0.000  0.000  \n",
      "1     0       52   17218  0.203679  3      0.204  0.417  0.417  \n",
      "2     0       23   3439  0.171145  5      0.171  0.510  0.510  \n",
      "3     1       32   22031  0.155676  7      0.156  0.554  0.554  \n",
      "4     2       38   22667  0.144357  9      0.145  0.587  0.586  \n",
      "5     4       30   12515  0.142961  11     0.143  0.591  0.590  \n",
      "6     0       21   7905  0.136300  13     0.137  0.610  0.609  \n",
      "7     0       44   20883  0.127730  15     0.128  0.634  0.633  \n",
      "8     9       18   2056  0.123092  17     0.124  0.648  0.646  \n",
      "9     3       31   22148  0.119764  19     0.120  0.657  0.656  \n",
      "10    14      27   18557  0.116224  21     0.117  0.667  0.666  \n",
      "----------------------------------------------------------------\n",
      "Stopping Condition 0: Reached maximum number of terms\n",
      "Beginning pruning pass\n",
      "--------------------------------------------\n",
      "iter  bf  terms  mse   gcv    rsq    grsq   \n",
      "--------------------------------------------\n",
      "0     -   21     0.12  0.117  0.667  0.666  \n"
     ]
    },
    {
     "name": "stderr",
     "output_type": "stream",
     "text": [
      "/home/song/anaconda3/envs/tf/lib/python3.8/site-packages/pyearth/earth.py:813: FutureWarning: `rcond` parameter will change to the default of machine precision times ``max(M, N)`` where M and N are the input matrix dimensions.\n",
      "To use the future default and silence this warning we advise to pass `rcond=None`, to keep using the old, explicitly pass `rcond=-1`.\n",
      "  pruning_passer.run()\n"
     ]
    },
    {
     "name": "stdout",
     "output_type": "stream",
     "text": [
      "1     5   20     0.12  0.117  0.667  0.666  \n",
      "2     19  19     0.12  0.117  0.667  0.666  \n",
      "3     11  18     0.12  0.117  0.667  0.666  \n",
      "4     9   17     0.12  0.117  0.667  0.665  \n",
      "5     14  16     0.12  0.117  0.666  0.665  \n",
      "6     10  15     0.12  0.117  0.665  0.664  \n",
      "7     7   14     0.12  0.118  0.663  0.662  \n",
      "8     17  13     0.12  0.119  0.659  0.659  \n",
      "9     16  12     0.12  0.121  0.655  0.654  \n",
      "10    18  11     0.12  0.123  0.648  0.648  \n",
      "11    3   10     0.12  0.124  0.645  0.644  \n",
      "12    15  9      0.13  0.127  0.637  0.636  \n",
      "13    20  8      0.13  0.132  0.624  0.623  \n",
      "14    4   7      0.14  0.137  0.609  0.609  \n",
      "15    12  6      0.15  0.149  0.575  0.575  \n",
      "16    13  5      0.16  0.158  0.548  0.547  \n",
      "17    6   4      0.18  0.176  0.496  0.495  \n",
      "18    8   3      0.20  0.204  0.417  0.417  \n",
      "19    2   2      0.24  0.237  0.320  0.320  \n",
      "20    1   1      0.35  0.349  -0.000  -0.000  \n",
      "----------------------------------------------\n",
      "Selected iteration: 1\n"
     ]
    },
    {
     "name": "stderr",
     "output_type": "stream",
     "text": [
      "/home/song/anaconda3/envs/tf/lib/python3.8/site-packages/pyearth/earth.py:1066: FutureWarning: `rcond` parameter will change to the default of machine precision times ``max(M, N)`` where M and N are the input matrix dimensions.\n",
      "To use the future default and silence this warning we advise to pass `rcond=None`, to keep using the old, explicitly pass `rcond=-1`.\n",
      "  coef, resid = np.linalg.lstsq(B, weighted_y[:, i])[0:2]\n"
     ]
    },
    {
     "name": "stdout",
     "output_type": "stream",
     "text": [
      "Beginning forward pass\n",
      "---------------------------------------------------------------\n",
      "iter  parent  var  knot  mse       terms  gcv    rsq    grsq   \n",
      "---------------------------------------------------------------\n",
      "0     -       -    -     0.349865  1      0.350  0.000  0.000  \n",
      "1     0       52   17218  0.175602  3      0.176  0.498  0.498  \n",
      "2     0       23   7346  0.149810  5      0.150  0.572  0.571  \n",
      "3     1       32   22031  0.137994  7      0.138  0.606  0.605  \n",
      "4     4       27   2457  0.131048  9      0.131  0.625  0.625  \n",
      "5     2       31   5285  0.125673  11     0.126  0.641  0.640  \n",
      "6     0       21   -1    0.121136  12     0.121  0.654  0.653  \n",
      "7     0       12   15296  0.110503  14     0.111  0.684  0.683  \n",
      "8     13      18   14942  0.107706  16     0.108  0.692  0.691  \n",
      "9     15      39   18076  0.105411  18     0.106  0.699  0.698  \n",
      "10    3       34   7042  0.103153  20     0.104  0.705  0.704  \n",
      "11    4       29   608   0.100980  22     0.101  0.711  0.710  \n",
      "---------------------------------------------------------------\n",
      "Stopping Condition 0: Reached maximum number of terms\n",
      "Beginning pruning pass\n",
      "--------------------------------------------\n",
      "iter  bf  terms  mse   gcv    rsq    grsq   \n",
      "--------------------------------------------\n",
      "0     -   22     0.10  0.101  0.711  0.710  \n"
     ]
    },
    {
     "name": "stderr",
     "output_type": "stream",
     "text": [
      "/home/song/anaconda3/envs/tf/lib/python3.8/site-packages/pyearth/earth.py:813: FutureWarning: `rcond` parameter will change to the default of machine precision times ``max(M, N)`` where M and N are the input matrix dimensions.\n",
      "To use the future default and silence this warning we advise to pass `rcond=None`, to keep using the old, explicitly pass `rcond=-1`.\n",
      "  pruning_passer.run()\n"
     ]
    },
    {
     "name": "stdout",
     "output_type": "stream",
     "text": [
      "1     5   21     0.10  0.101  0.711  0.710  \n",
      "2     21  20     0.10  0.101  0.711  0.710  \n",
      "3     14  19     0.10  0.102  0.711  0.710  \n",
      "4     12  18     0.10  0.102  0.711  0.710  \n",
      "5     3   17     0.10  0.102  0.710  0.709  \n",
      "6     16  16     0.10  0.102  0.710  0.709  \n",
      "7     9   15     0.10  0.104  0.705  0.704  \n",
      "8     7   14     0.10  0.105  0.700  0.700  \n",
      "9     17  13     0.11  0.107  0.695  0.694  \n",
      "10    20  12     0.11  0.109  0.689  0.688  \n",
      "11    10  11     0.11  0.111  0.682  0.681  \n",
      "12    18  10     0.11  0.114  0.674  0.673  \n",
      "13    19  9      0.12  0.118  0.663  0.662  \n",
      "14    15  8      0.12  0.123  0.648  0.648  \n",
      "15    8   7      0.13  0.128  0.636  0.635  \n",
      "16    13  6      0.14  0.139  0.604  0.604  \n",
      "17    11  5      0.14  0.144  0.590  0.590  \n",
      "18    6   4      0.16  0.156  0.555  0.554  \n",
      "19    4   3      0.18  0.176  0.498  0.498  \n",
      "20    2   2      0.22  0.223  0.362  0.361  \n",
      "21    1   1      0.35  0.350  -0.000  -0.000  \n",
      "----------------------------------------------\n",
      "Selected iteration: 1\n"
     ]
    },
    {
     "name": "stderr",
     "output_type": "stream",
     "text": [
      "/home/song/anaconda3/envs/tf/lib/python3.8/site-packages/pyearth/earth.py:1066: FutureWarning: `rcond` parameter will change to the default of machine precision times ``max(M, N)`` where M and N are the input matrix dimensions.\n",
      "To use the future default and silence this warning we advise to pass `rcond=None`, to keep using the old, explicitly pass `rcond=-1`.\n",
      "  coef, resid = np.linalg.lstsq(B, weighted_y[:, i])[0:2]\n"
     ]
    },
    {
     "name": "stdout",
     "output_type": "stream",
     "text": [
      "Beginning forward pass\n",
      "---------------------------------------------------------------\n",
      "iter  parent  var  knot  mse       terms  gcv    rsq    grsq   \n",
      "---------------------------------------------------------------\n",
      "0     -       -    -     0.350472  1      0.351  0.000  0.000  \n",
      "1     0       52   17229  0.182280  3      0.182  0.480  0.480  \n",
      "2     0       23   7284  0.156429  5      0.157  0.554  0.553  \n",
      "3     0       12   -1    0.142646  6      0.143  0.593  0.593  \n",
      "4     1       32   22006  0.134518  8      0.135  0.616  0.616  \n",
      "5     0       53   1775  0.128794  10     0.129  0.633  0.632  \n",
      "6     2       31   5362  0.123523  12     0.124  0.648  0.647  \n",
      "7     4       39   17684  0.117966  14     0.118  0.663  0.662  \n",
      "8     2       54   -1    0.114029  15     0.114  0.675  0.674  \n",
      "9     14      0    6548  0.111281  17     0.112  0.682  0.681  \n",
      "10    13      30   12511  0.110968  19     0.111  0.683  0.682  \n",
      "----------------------------------------------------------------\n",
      "Stopping Condition 2: Improvement below threshold\n",
      "Beginning pruning pass\n",
      "--------------------------------------------\n",
      "iter  bf  terms  mse   gcv    rsq    grsq   \n",
      "--------------------------------------------\n",
      "0     -   19     0.11  0.111  0.683  0.682  \n"
     ]
    },
    {
     "name": "stderr",
     "output_type": "stream",
     "text": [
      "/home/song/anaconda3/envs/tf/lib/python3.8/site-packages/pyearth/earth.py:813: FutureWarning: `rcond` parameter will change to the default of machine precision times ``max(M, N)`` where M and N are the input matrix dimensions.\n",
      "To use the future default and silence this warning we advise to pass `rcond=None`, to keep using the old, explicitly pass `rcond=-1`.\n",
      "  pruning_passer.run()\n"
     ]
    },
    {
     "name": "stdout",
     "output_type": "stream",
     "text": [
      "1     15  18     0.11  0.111  0.683  0.682  \n",
      "2     17  17     0.11  0.111  0.683  0.682  \n",
      "3     13  16     0.11  0.111  0.683  0.682  \n",
      "4     2   15     0.11  0.112  0.683  0.682  \n",
      "5     9   14     0.11  0.112  0.682  0.682  \n",
      "6     6   13     0.11  0.112  0.682  0.681  \n",
      "7     3   12     0.11  0.112  0.682  0.681  \n",
      "8     18  11     0.11  0.112  0.681  0.680  \n",
      "9     11  10     0.11  0.114  0.674  0.673  \n",
      "10    8   9      0.12  0.118  0.663  0.662  \n",
      "11    10  8      0.12  0.124  0.648  0.647  \n",
      "12    16  7      0.13  0.127  0.638  0.638  \n",
      "13    7   6      0.13  0.134  0.618  0.617  \n",
      "14    12  5      0.14  0.143  0.593  0.592  \n",
      "15    5   4      0.15  0.154  0.560  0.560  \n",
      "16    4   3      0.17  0.167  0.522  0.522  \n",
      "17    14  2      0.21  0.213  0.392  0.392  \n",
      "18    1   1      0.35  0.351  0.000  0.000  \n",
      "--------------------------------------------\n",
      "Selected iteration: 1\n"
     ]
    },
    {
     "name": "stderr",
     "output_type": "stream",
     "text": [
      "/home/song/anaconda3/envs/tf/lib/python3.8/site-packages/pyearth/earth.py:1066: FutureWarning: `rcond` parameter will change to the default of machine precision times ``max(M, N)`` where M and N are the input matrix dimensions.\n",
      "To use the future default and silence this warning we advise to pass `rcond=None`, to keep using the old, explicitly pass `rcond=-1`.\n",
      "  coef, resid = np.linalg.lstsq(B, weighted_y[:, i])[0:2]\n"
     ]
    },
    {
     "name": "stdout",
     "output_type": "stream",
     "text": [
      "Beginning forward pass\n",
      "---------------------------------------------------------------\n",
      "iter  parent  var  knot  mse       terms  gcv    rsq    grsq   \n",
      "---------------------------------------------------------------\n",
      "0     -       -    -     0.351030  1      0.351  0.000  0.000  \n",
      "1     0       52   17229  0.169074  3      0.169  0.518  0.518  \n",
      "2     0       23   20947  0.147422  5      0.148  0.580  0.580  \n",
      "3     4       39   17469  0.140785  7      0.141  0.599  0.598  \n",
      "4     4       27   18969  0.135896  9      0.136  0.613  0.612  \n",
      "5     1       2    -1    0.130745  10     0.131  0.628  0.627  \n",
      "6     2       31   5362  0.125905  12     0.126  0.641  0.640  \n",
      "7     2       8    19934  0.122577  14     0.123  0.651  0.650  \n",
      "8     0       29   7233  0.120488  16     0.121  0.657  0.656  \n",
      "9     14      22   6401  0.118368  18     0.119  0.663  0.662  \n",
      "10    17      45   22687  0.115879  20     0.116  0.670  0.669  \n",
      "11    12      9    5583  0.114008  22     0.115  0.675  0.674  \n",
      "---------------------------------------------------------------\n",
      "Stopping Condition 0: Reached maximum number of terms\n",
      "Beginning pruning pass\n",
      "--------------------------------------------\n",
      "iter  bf  terms  mse   gcv    rsq    grsq   \n",
      "--------------------------------------------\n",
      "0     -   22     0.11  0.115  0.675  0.674  \n"
     ]
    },
    {
     "name": "stderr",
     "output_type": "stream",
     "text": [
      "/home/song/anaconda3/envs/tf/lib/python3.8/site-packages/pyearth/earth.py:813: FutureWarning: `rcond` parameter will change to the default of machine precision times ``max(M, N)`` where M and N are the input matrix dimensions.\n",
      "To use the future default and silence this warning we advise to pass `rcond=None`, to keep using the old, explicitly pass `rcond=-1`.\n",
      "  pruning_passer.run()\n"
     ]
    },
    {
     "name": "stdout",
     "output_type": "stream",
     "text": [
      "1     19  21     0.11  0.115  0.675  0.674  \n",
      "2     12  20     0.11  0.115  0.675  0.674  \n",
      "3     11  19     0.11  0.115  0.675  0.673  \n",
      "4     4   18     0.11  0.115  0.673  0.672  \n",
      "5     6   17     0.11  0.115  0.672  0.671  \n",
      "6     16  16     0.12  0.116  0.671  0.670  \n",
      "7     3   15     0.12  0.117  0.669  0.668  \n",
      "8     1   14     0.12  0.118  0.666  0.665  \n",
      "9     21  13     0.12  0.119  0.663  0.662  \n",
      "10    20  12     0.12  0.120  0.659  0.658  \n",
      "11    10  11     0.12  0.122  0.654  0.653  \n",
      "12    7   10     0.12  0.124  0.648  0.647  \n",
      "13    18  9      0.13  0.126  0.642  0.641  \n",
      "14    13  8      0.13  0.129  0.634  0.633  \n",
      "15    17  7      0.13  0.133  0.622  0.622  \n",
      "16    14  6      0.13  0.133  0.620  0.620  \n",
      "17    5   5      0.14  0.139  0.605  0.605  \n",
      "18    8   4      0.15  0.148  0.580  0.580  \n",
      "19    15  3      0.17  0.165  0.529  0.529  \n",
      "20    2   2      0.20  0.204  0.420  0.420  \n",
      "21    9   1      0.35  0.351  0.000  0.000  \n",
      "--------------------------------------------\n",
      "Selected iteration: 1\n"
     ]
    },
    {
     "name": "stderr",
     "output_type": "stream",
     "text": [
      "/home/song/anaconda3/envs/tf/lib/python3.8/site-packages/pyearth/earth.py:1066: FutureWarning: `rcond` parameter will change to the default of machine precision times ``max(M, N)`` where M and N are the input matrix dimensions.\n",
      "To use the future default and silence this warning we advise to pass `rcond=None`, to keep using the old, explicitly pass `rcond=-1`.\n",
      "  coef, resid = np.linalg.lstsq(B, weighted_y[:, i])[0:2]\n"
     ]
    },
    {
     "name": "stdout",
     "output_type": "stream",
     "text": [
      "Beginning forward pass\n",
      "---------------------------------------------------------------\n",
      "iter  parent  var  knot  mse       terms  gcv    rsq    grsq   \n",
      "---------------------------------------------------------------\n",
      "0     -       -    -     0.351627  1      0.352  0.000  0.000  \n",
      "1     0       52   17249  0.182794  3      0.183  0.480  0.480  \n",
      "2     2       53   4992  0.159115  5      0.159  0.547  0.547  \n",
      "3     0       24   21988  0.149417  7      0.150  0.575  0.575  \n",
      "4     6       1    4324  0.143457  9      0.144  0.592  0.591  \n",
      "5     8       31   -1    0.139360  10     0.140  0.604  0.603  \n",
      "6     0       49   17240  0.134973  12     0.135  0.616  0.615  \n",
      "7     2       8    19934  0.131522  14     0.132  0.626  0.625  \n",
      "8     2       11   22600  0.128024  16     0.128  0.636  0.635  \n",
      "9     6       40   18070  0.125391  18     0.126  0.643  0.642  \n",
      "10    0       44   21953  0.122461  20     0.123  0.652  0.650  \n",
      "11    11      9    4844  0.120308  22     0.121  0.658  0.656  \n",
      "---------------------------------------------------------------\n",
      "Stopping Condition 0: Reached maximum number of terms\n",
      "Beginning pruning pass\n",
      "--------------------------------------------\n",
      "iter  bf  terms  mse   gcv    rsq    grsq   \n",
      "--------------------------------------------\n",
      "0     -   22     0.12  0.121  0.658  0.656  \n"
     ]
    },
    {
     "name": "stderr",
     "output_type": "stream",
     "text": [
      "/home/song/anaconda3/envs/tf/lib/python3.8/site-packages/pyearth/earth.py:813: FutureWarning: `rcond` parameter will change to the default of machine precision times ``max(M, N)`` where M and N are the input matrix dimensions.\n",
      "To use the future default and silence this warning we advise to pass `rcond=None`, to keep using the old, explicitly pass `rcond=-1`.\n",
      "  pruning_passer.run()\n"
     ]
    },
    {
     "name": "stdout",
     "output_type": "stream",
     "text": [
      "1     5   21     0.12  0.121  0.658  0.656  \n",
      "2     7   20     0.12  0.121  0.658  0.656  \n",
      "3     19  19     0.12  0.121  0.658  0.656  \n",
      "4     12  18     0.12  0.121  0.657  0.656  \n",
      "5     11  17     0.12  0.121  0.657  0.656  \n",
      "6     3   16     0.12  0.121  0.657  0.656  \n",
      "7     14  15     0.12  0.121  0.657  0.656  \n",
      "8     20  14     0.12  0.122  0.654  0.653  \n",
      "9     2   13     0.12  0.123  0.651  0.650  \n",
      "10    17  12     0.12  0.125  0.646  0.645  \n",
      "11    4   11     0.13  0.127  0.641  0.640  \n",
      "12    10  10     0.13  0.130  0.630  0.630  \n",
      "13    13  9      0.13  0.134  0.620  0.619  \n",
      "14    21  8      0.14  0.138  0.608  0.607  \n",
      "15    8   7      0.14  0.141  0.600  0.600  \n",
      "16    16  6      0.14  0.145  0.589  0.589  \n",
      "17    18  5      0.15  0.148  0.581  0.580  \n",
      "18    6   4      0.16  0.155  0.559  0.558  \n",
      "19    9   3      0.19  0.187  0.470  0.470  \n",
      "20    15  2      0.21  0.209  0.406  0.405  \n",
      "21    1   1      0.35  0.352  -0.000  -0.000  \n",
      "----------------------------------------------\n",
      "Selected iteration: 3\n"
     ]
    },
    {
     "name": "stderr",
     "output_type": "stream",
     "text": [
      "/home/song/anaconda3/envs/tf/lib/python3.8/site-packages/pyearth/earth.py:1066: FutureWarning: `rcond` parameter will change to the default of machine precision times ``max(M, N)`` where M and N are the input matrix dimensions.\n",
      "To use the future default and silence this warning we advise to pass `rcond=None`, to keep using the old, explicitly pass `rcond=-1`.\n",
      "  coef, resid = np.linalg.lstsq(B, weighted_y[:, i])[0:2]\n"
     ]
    },
    {
     "name": "stdout",
     "output_type": "stream",
     "text": [
      "Beginning forward pass\n",
      "---------------------------------------------------------------\n",
      "iter  parent  var  knot  mse       terms  gcv    rsq    grsq   \n",
      "---------------------------------------------------------------\n",
      "0     -       -    -     0.352041  1      0.352  0.000  0.000  \n",
      "1     0       52   17229  0.173967  3      0.174  0.506  0.506  \n",
      "2     0       24   21988  0.154352  5      0.155  0.562  0.561  \n",
      "3     0       21   7905  0.140238  7      0.140  0.602  0.601  \n",
      "4     4       27   2240  0.134351  9      0.135  0.618  0.618  \n",
      "5     2       22   2056  0.129486  11     0.130  0.632  0.631  \n",
      "6     0       30   12078  0.125770  13     0.126  0.643  0.642  \n",
      "7     11      36   759   0.120657  15     0.121  0.657  0.656  \n",
      "8     0       16   -1    0.117218  16     0.118  0.667  0.666  \n",
      "9     15      52   17373  0.112105  18     0.113  0.682  0.680  \n",
      "10    15      15   10475  0.109725  20     0.110  0.688  0.687  \n",
      "11    16      31   21932  0.107390  22     0.108  0.695  0.694  \n",
      "----------------------------------------------------------------\n",
      "Stopping Condition 0: Reached maximum number of terms\n",
      "Beginning pruning pass\n",
      "--------------------------------------------\n",
      "iter  bf  terms  mse   gcv    rsq    grsq   \n",
      "--------------------------------------------\n",
      "0     -   22     0.11  0.108  0.695  0.694  \n"
     ]
    },
    {
     "name": "stderr",
     "output_type": "stream",
     "text": [
      "/home/song/anaconda3/envs/tf/lib/python3.8/site-packages/pyearth/earth.py:813: FutureWarning: `rcond` parameter will change to the default of machine precision times ``max(M, N)`` where M and N are the input matrix dimensions.\n",
      "To use the future default and silence this warning we advise to pass `rcond=None`, to keep using the old, explicitly pass `rcond=-1`.\n",
      "  pruning_passer.run()\n"
     ]
    },
    {
     "name": "stdout",
     "output_type": "stream",
     "text": [
      "1     21  21     0.11  0.108  0.695  0.694  \n",
      "2     19  20     0.11  0.108  0.695  0.694  \n",
      "3     3   19     0.11  0.108  0.695  0.693  \n",
      "4     5   18     0.11  0.108  0.694  0.693  \n",
      "5     10  17     0.11  0.108  0.693  0.692  \n",
      "6     12  16     0.11  0.109  0.691  0.690  \n",
      "7     15  15     0.11  0.110  0.689  0.688  \n",
      "8     4   14     0.11  0.111  0.685  0.685  \n",
      "9     20  13     0.11  0.113  0.680  0.679  \n",
      "10    8   12     0.11  0.115  0.674  0.673  \n",
      "11    9   11     0.12  0.118  0.665  0.664  \n",
      "12    13  10     0.12  0.121  0.656  0.656  \n",
      "13    11  9      0.12  0.124  0.649  0.648  \n",
      "14    2   8      0.13  0.129  0.635  0.635  \n",
      "15    16  7      0.13  0.131  0.628  0.628  \n",
      "16    7   6      0.14  0.137  0.613  0.612  \n",
      "17    14  5      0.15  0.145  0.587  0.587  \n",
      "18    6   4      0.16  0.159  0.548  0.548  \n",
      "19    18  3      0.18  0.176  0.501  0.501  \n",
      "20    17  2      0.22  0.218  0.382  0.381  \n",
      "21    1   1      0.35  0.352  -0.000  -0.000  \n",
      "----------------------------------------------\n",
      "Selected iteration: 1\n"
     ]
    },
    {
     "name": "stderr",
     "output_type": "stream",
     "text": [
      "/home/song/anaconda3/envs/tf/lib/python3.8/site-packages/pyearth/earth.py:1066: FutureWarning: `rcond` parameter will change to the default of machine precision times ``max(M, N)`` where M and N are the input matrix dimensions.\n",
      "To use the future default and silence this warning we advise to pass `rcond=None`, to keep using the old, explicitly pass `rcond=-1`.\n",
      "  coef, resid = np.linalg.lstsq(B, weighted_y[:, i])[0:2]\n"
     ]
    },
    {
     "name": "stdout",
     "output_type": "stream",
     "text": [
      "Beginning forward pass\n",
      "---------------------------------------------------------------\n",
      "iter  parent  var  knot  mse       terms  gcv    rsq    grsq   \n",
      "---------------------------------------------------------------\n",
      "0     -       -    -     0.352886  1      0.353  0.000  0.000  \n",
      "1     0       52   17249  0.191424  3      0.192  0.458  0.457  \n",
      "2     2       53   2258  0.167368  5      0.168  0.526  0.525  \n",
      "3     0       24   21988  0.156486  7      0.157  0.557  0.556  \n",
      "4     0       12   -1    0.150878  8      0.151  0.572  0.572  \n",
      "5     0       21   20581  0.144966  10     0.145  0.589  0.588  \n",
      "6     1       31   -1    0.139235  11     0.140  0.605  0.605  \n",
      "7     10      52   17255  0.138884  13     0.139  0.606  0.605  \n",
      "----------------------------------------------------------------\n",
      "Stopping Condition 2: Improvement below threshold\n",
      "Beginning pruning pass\n",
      "--------------------------------------------\n",
      "iter  bf  terms  mse   gcv    rsq    grsq   \n",
      "--------------------------------------------\n",
      "0     -   13     0.14  0.139  0.606  0.605  \n",
      "1     12  12     0.14  0.139  0.606  0.605  \n",
      "2     9   11     0.14  0.139  0.606  0.605  \n"
     ]
    },
    {
     "name": "stderr",
     "output_type": "stream",
     "text": [
      "/home/song/anaconda3/envs/tf/lib/python3.8/site-packages/pyearth/earth.py:813: FutureWarning: `rcond` parameter will change to the default of machine precision times ``max(M, N)`` where M and N are the input matrix dimensions.\n",
      "To use the future default and silence this warning we advise to pass `rcond=None`, to keep using the old, explicitly pass `rcond=-1`.\n",
      "  pruning_passer.run()\n"
     ]
    },
    {
     "name": "stdout",
     "output_type": "stream",
     "text": [
      "3     11  10     0.14  0.140  0.605  0.605  \n",
      "4     3   9      0.14  0.140  0.604  0.603  \n",
      "5     5   8      0.14  0.142  0.597  0.597  \n",
      "6     8   7      0.15  0.148  0.581  0.581  \n",
      "7     10  6      0.15  0.153  0.566  0.565  \n",
      "8     7   5      0.16  0.159  0.550  0.549  \n",
      "9     6   4      0.17  0.168  0.524  0.524  \n",
      "10    4   3      0.19  0.192  0.458  0.457  \n",
      "11    2   2      0.22  0.218  0.383  0.383  \n",
      "12    1   1      0.35  0.353  0.000  0.000  \n",
      "--------------------------------------------\n",
      "Selected iteration: 1\n",
      "Beginning forward pass\n",
      "---------------------------------------------------------------\n",
      "iter  parent  var  knot  mse       terms  gcv    rsq    grsq   \n",
      "---------------------------------------------------------------\n",
      "0     -       -    -     0.353667  1      0.354  0.000  0.000  \n"
     ]
    },
    {
     "name": "stderr",
     "output_type": "stream",
     "text": [
      "/home/song/anaconda3/envs/tf/lib/python3.8/site-packages/pyearth/earth.py:1066: FutureWarning: `rcond` parameter will change to the default of machine precision times ``max(M, N)`` where M and N are the input matrix dimensions.\n",
      "To use the future default and silence this warning we advise to pass `rcond=None`, to keep using the old, explicitly pass `rcond=-1`.\n",
      "  coef, resid = np.linalg.lstsq(B, weighted_y[:, i])[0:2]\n"
     ]
    },
    {
     "name": "stdout",
     "output_type": "stream",
     "text": [
      "1     0       52   17229  0.202613  3      0.203  0.427  0.427  \n",
      "2     0       24   21988  0.181111  5      0.181  0.488  0.487  \n",
      "3     0       53   17460  0.172375  7      0.173  0.513  0.512  \n",
      "4     0       12   -1    0.164208  8      0.164  0.536  0.535  \n",
      "5     4       39   2666  0.154581  10     0.155  0.563  0.562  \n",
      "6     0       11   9070  0.147715  12     0.148  0.582  0.581  \n",
      "7     11      30   11944  0.129698  14     0.130  0.633  0.632  \n",
      "8     1       9    -1    0.122256  15     0.123  0.654  0.653  \n",
      "9     0       49   17232  0.117664  17     0.118  0.667  0.666  \n",
      "10    9       23   7514  0.114286  19     0.115  0.677  0.676  \n",
      "11    0       21   -1    0.111197  20     0.112  0.686  0.684  \n",
      "12    12      4    18237  0.108400  22     0.109  0.693  0.692  \n",
      "----------------------------------------------------------------\n",
      "Stopping Condition 0: Reached maximum number of terms\n",
      "Beginning pruning pass\n",
      "--------------------------------------------\n",
      "iter  bf  terms  mse   gcv    rsq    grsq   \n",
      "--------------------------------------------\n",
      "0     -   22     0.11  0.109  0.693  0.692  \n"
     ]
    },
    {
     "name": "stderr",
     "output_type": "stream",
     "text": [
      "/home/song/anaconda3/envs/tf/lib/python3.8/site-packages/pyearth/earth.py:813: FutureWarning: `rcond` parameter will change to the default of machine precision times ``max(M, N)`` where M and N are the input matrix dimensions.\n",
      "To use the future default and silence this warning we advise to pass `rcond=None`, to keep using the old, explicitly pass `rcond=-1`.\n",
      "  pruning_passer.run()\n"
     ]
    },
    {
     "name": "stdout",
     "output_type": "stream",
     "text": [
      "1     17  21     0.11  0.109  0.693  0.692  \n",
      "2     15  20     0.11  0.109  0.693  0.692  \n",
      "3     3   19     0.11  0.109  0.692  0.691  \n",
      "4     11  18     0.11  0.110  0.692  0.690  \n",
      "5     9   17     0.11  0.110  0.690  0.689  \n",
      "6     6   16     0.11  0.111  0.688  0.687  \n",
      "7     13  15     0.11  0.111  0.686  0.685  \n",
      "8     20  14     0.11  0.113  0.683  0.682  \n",
      "9     10  13     0.11  0.114  0.677  0.676  \n",
      "10    4   12     0.12  0.116  0.673  0.673  \n",
      "11    19  11     0.12  0.119  0.665  0.665  \n",
      "12    21  10     0.12  0.122  0.657  0.656  \n",
      "13    16  9      0.13  0.126  0.644  0.643  \n",
      "14    2   8      0.13  0.130  0.633  0.632  \n",
      "15    8   7      0.13  0.135  0.619  0.619  \n",
      "16    7   6      0.14  0.142  0.599  0.599  \n",
      "17    18  5      0.15  0.152  0.570  0.570  \n",
      "18    1   4      0.17  0.167  0.528  0.527  \n",
      "19    5   3      0.19  0.186  0.475  0.475  \n",
      "20    12  2      0.23  0.231  0.347  0.347  \n",
      "21    14  1      0.35  0.354  -0.000  -0.000  \n",
      "----------------------------------------------\n",
      "Selected iteration: 1\n"
     ]
    },
    {
     "name": "stderr",
     "output_type": "stream",
     "text": [
      "/home/song/anaconda3/envs/tf/lib/python3.8/site-packages/pyearth/earth.py:1066: FutureWarning: `rcond` parameter will change to the default of machine precision times ``max(M, N)`` where M and N are the input matrix dimensions.\n",
      "To use the future default and silence this warning we advise to pass `rcond=None`, to keep using the old, explicitly pass `rcond=-1`.\n",
      "  coef, resid = np.linalg.lstsq(B, weighted_y[:, i])[0:2]\n"
     ]
    },
    {
     "name": "stdout",
     "output_type": "stream",
     "text": [
      "Beginning forward pass\n",
      "---------------------------------------------------------------\n",
      "iter  parent  var  knot  mse       terms  gcv    rsq    grsq   \n",
      "---------------------------------------------------------------\n",
      "0     -       -    -     0.354305  1      0.354  0.000  0.000  \n",
      "1     0       52   17229  0.200873  3      0.201  0.433  0.433  \n",
      "2     0       24   21988  0.181543  5      0.182  0.488  0.487  \n",
      "3     1       31   -1    0.173765  6      0.174  0.510  0.509  \n",
      "4     2       11   7157  0.167377  8      0.168  0.528  0.527  \n",
      "5     0       30   21333  0.160527  10     0.161  0.547  0.546  \n",
      "6     7       0    -1    0.155190  11     0.156  0.562  0.561  \n",
      "7     2       14   -1    0.149253  12     0.150  0.579  0.578  \n",
      "8     9       12   15296  0.144643  14     0.145  0.592  0.591  \n",
      "9     4       27   9922  0.140740  16     0.141  0.603  0.601  \n",
      "10    9       46   18133  0.136627  18     0.137  0.614  0.613  \n",
      "11    7       22   2056  0.133136  20     0.134  0.624  0.623  \n",
      "12    0       23   7638  0.130075  22     0.131  0.633  0.631  \n",
      "---------------------------------------------------------------\n",
      "Stopping Condition 0: Reached maximum number of terms\n",
      "Beginning pruning pass\n",
      "--------------------------------------------\n",
      "iter  bf  terms  mse   gcv    rsq    grsq   \n",
      "--------------------------------------------\n",
      "0     -   22     0.13  0.131  0.633  0.631  \n"
     ]
    },
    {
     "name": "stderr",
     "output_type": "stream",
     "text": [
      "/home/song/anaconda3/envs/tf/lib/python3.8/site-packages/pyearth/earth.py:813: FutureWarning: `rcond` parameter will change to the default of machine precision times ``max(M, N)`` where M and N are the input matrix dimensions.\n",
      "To use the future default and silence this warning we advise to pass `rcond=None`, to keep using the old, explicitly pass `rcond=-1`.\n",
      "  pruning_passer.run()\n"
     ]
    },
    {
     "name": "stdout",
     "output_type": "stream",
     "text": [
      "1     12  21     0.13  0.131  0.633  0.631  \n",
      "2     4   20     0.13  0.131  0.633  0.631  \n",
      "3     20  19     0.13  0.131  0.632  0.631  \n",
      "4     6   18     0.13  0.131  0.632  0.630  \n",
      "5     18  17     0.13  0.131  0.631  0.630  \n",
      "6     8   16     0.13  0.132  0.630  0.629  \n",
      "7     7   15     0.13  0.132  0.628  0.627  \n",
      "8     16  14     0.13  0.133  0.625  0.624  \n",
      "9     15  13     0.13  0.134  0.622  0.621  \n",
      "10    3   12     0.14  0.137  0.615  0.614  \n",
      "11    19  11     0.14  0.140  0.607  0.606  \n",
      "12    13  10     0.14  0.143  0.596  0.596  \n",
      "13    14  9      0.15  0.147  0.586  0.585  \n",
      "14    17  8      0.15  0.151  0.575  0.575  \n",
      "15    21  7      0.16  0.156  0.560  0.559  \n",
      "16    5   6      0.16  0.163  0.539  0.539  \n",
      "17    11  5      0.18  0.176  0.503  0.503  \n",
      "18    10  4      0.18  0.184  0.480  0.480  \n",
      "19    9   3      0.20  0.201  0.433  0.433  \n",
      "20    2   2      0.25  0.249  0.298  0.298  \n",
      "21    1   1      0.35  0.354  -0.000  -0.000  \n",
      "----------------------------------------------\n",
      "Selected iteration: 0\n"
     ]
    },
    {
     "name": "stderr",
     "output_type": "stream",
     "text": [
      "/home/song/anaconda3/envs/tf/lib/python3.8/site-packages/pyearth/earth.py:1066: FutureWarning: `rcond` parameter will change to the default of machine precision times ``max(M, N)`` where M and N are the input matrix dimensions.\n",
      "To use the future default and silence this warning we advise to pass `rcond=None`, to keep using the old, explicitly pass `rcond=-1`.\n",
      "  coef, resid = np.linalg.lstsq(B, weighted_y[:, i])[0:2]\n"
     ]
    },
    {
     "name": "stdout",
     "output_type": "stream",
     "text": [
      "Beginning forward pass\n",
      "---------------------------------------------------------------\n",
      "iter  parent  var  knot  mse       terms  gcv    rsq    grsq   \n",
      "---------------------------------------------------------------\n",
      "0     -       -    -     0.354993  1      0.355  0.000  0.000  \n",
      "1     0       52   17229  0.219982  3      0.220  0.380  0.380  \n",
      "2     0       53   20582  0.191493  5      0.192  0.461  0.460  \n",
      "3     3       18   21364  0.178397  7      0.179  0.497  0.497  \n",
      "4     6       6    -1    0.163267  8      0.164  0.540  0.539  \n",
      "5     0       24   21988  0.152209  10     0.153  0.571  0.570  \n",
      "6     1       0    6604  0.145220  12     0.146  0.591  0.590  \n",
      "7     0       12   15247  0.141419  14     0.142  0.602  0.600  \n",
      "8     9       44   17759  0.135645  16     0.136  0.618  0.617  \n",
      "9     0       44   17750  0.130984  18     0.131  0.631  0.630  \n",
      "10    16      94   -1    0.126642  19     0.127  0.643  0.642  \n",
      "11    2       11   2981  0.122264  21     0.123  0.656  0.654  \n",
      "---------------------------------------------------------------\n",
      "Stopping Condition 0: Reached maximum number of terms\n",
      "Beginning pruning pass\n",
      "--------------------------------------------\n",
      "iter  bf  terms  mse   gcv    rsq    grsq   \n",
      "--------------------------------------------\n",
      "0     -   21     0.12  0.123  0.656  0.654  \n"
     ]
    },
    {
     "name": "stderr",
     "output_type": "stream",
     "text": [
      "/home/song/anaconda3/envs/tf/lib/python3.8/site-packages/pyearth/earth.py:813: FutureWarning: `rcond` parameter will change to the default of machine precision times ``max(M, N)`` where M and N are the input matrix dimensions.\n",
      "To use the future default and silence this warning we advise to pass `rcond=None`, to keep using the old, explicitly pass `rcond=-1`.\n",
      "  pruning_passer.run()\n"
     ]
    },
    {
     "name": "stdout",
     "output_type": "stream",
     "text": [
      "1     8   20     0.12  0.123  0.656  0.654  \n",
      "2     10  19     0.12  0.123  0.656  0.654  \n",
      "3     12  18     0.12  0.123  0.655  0.654  \n",
      "4     4   17     0.12  0.123  0.654  0.653  \n",
      "5     14  16     0.12  0.124  0.651  0.650  \n",
      "6     3   15     0.13  0.126  0.646  0.645  \n",
      "7     5   14     0.13  0.128  0.642  0.641  \n",
      "8     19  13     0.13  0.130  0.635  0.634  \n",
      "9     20  12     0.13  0.134  0.624  0.623  \n",
      "10    9   11     0.14  0.139  0.610  0.609  \n",
      "11    15  10     0.14  0.140  0.607  0.606  \n",
      "12    17  9      0.14  0.140  0.605  0.604  \n",
      "13    13  8      0.15  0.147  0.585  0.585  \n",
      "14    11  7      0.16  0.156  0.560  0.560  \n",
      "15    6   6      0.17  0.170  0.521  0.520  \n",
      "16    7   5      0.18  0.182  0.487  0.487  \n",
      "17    18  4      0.20  0.205  0.424  0.424  \n",
      "18    16  3      0.22  0.220  0.380  0.380  \n",
      "19    2   2      0.26  0.259  0.271  0.271  \n",
      "20    1   1      0.35  0.355  -0.000  -0.000  \n",
      "----------------------------------------------\n",
      "Selected iteration: 2\n"
     ]
    },
    {
     "name": "stderr",
     "output_type": "stream",
     "text": [
      "/home/song/anaconda3/envs/tf/lib/python3.8/site-packages/pyearth/earth.py:1066: FutureWarning: `rcond` parameter will change to the default of machine precision times ``max(M, N)`` where M and N are the input matrix dimensions.\n",
      "To use the future default and silence this warning we advise to pass `rcond=None`, to keep using the old, explicitly pass `rcond=-1`.\n",
      "  coef, resid = np.linalg.lstsq(B, weighted_y[:, i])[0:2]\n"
     ]
    },
    {
     "name": "stdout",
     "output_type": "stream",
     "text": [
      "Beginning forward pass\n",
      "---------------------------------------------------------------\n",
      "iter  parent  var  knot  mse       terms  gcv    rsq    grsq   \n",
      "---------------------------------------------------------------\n",
      "0     -       -    -     0.355460  1      0.355  0.000  0.000  \n",
      "1     0       52   17229  0.233136  3      0.233  0.344  0.344  \n",
      "2     0       12   15247  0.209232  5      0.209  0.411  0.411  \n",
      "3     0       29   7233  0.189674  7      0.190  0.466  0.466  \n",
      "4     5       18   21374  0.159300  9      0.160  0.552  0.551  \n",
      "5     0       38   2130  0.148448  11     0.149  0.582  0.581  \n",
      "6     9       36   18009  0.139211  13     0.140  0.608  0.607  \n",
      "7     10      2    12760  0.131539  15     0.132  0.630  0.629  \n",
      "8     6       54   17924  0.125984  17     0.126  0.646  0.644  \n",
      "9     0       42   17291  0.121312  19     0.122  0.659  0.657  \n",
      "10    12      6    -1    0.117012  20     0.118  0.671  0.669  \n",
      "11    0       11   9070  0.112625  22     0.113  0.683  0.682  \n",
      "---------------------------------------------------------------\n",
      "Stopping Condition 0: Reached maximum number of terms\n",
      "Beginning pruning pass\n",
      "--------------------------------------------\n",
      "iter  bf  terms  mse   gcv    rsq    grsq   \n",
      "--------------------------------------------\n",
      "0     -   22     0.11  0.113  0.683  0.682  \n"
     ]
    },
    {
     "name": "stderr",
     "output_type": "stream",
     "text": [
      "/home/song/anaconda3/envs/tf/lib/python3.8/site-packages/pyearth/earth.py:813: FutureWarning: `rcond` parameter will change to the default of machine precision times ``max(M, N)`` where M and N are the input matrix dimensions.\n",
      "To use the future default and silence this warning we advise to pass `rcond=None`, to keep using the old, explicitly pass `rcond=-1`.\n",
      "  pruning_passer.run()\n"
     ]
    },
    {
     "name": "stdout",
     "output_type": "stream",
     "text": [
      "1     15  21     0.11  0.113  0.683  0.682  \n",
      "2     3   20     0.11  0.113  0.683  0.682  \n",
      "3     11  19     0.11  0.113  0.683  0.682  \n",
      "4     18  18     0.11  0.113  0.682  0.681  \n",
      "5     8   17     0.11  0.114  0.682  0.681  \n",
      "6     20  16     0.11  0.114  0.680  0.679  \n",
      "7     6   15     0.11  0.115  0.678  0.677  \n",
      "8     9   14     0.12  0.116  0.674  0.673  \n",
      "9     14  13     0.12  0.118  0.670  0.669  \n",
      "10    10  12     0.12  0.119  0.665  0.664  \n",
      "11    21  11     0.12  0.123  0.655  0.655  \n",
      "12    5   10     0.13  0.128  0.640  0.639  \n",
      "13    7   9      0.13  0.129  0.638  0.637  \n",
      "14    17  8      0.14  0.135  0.620  0.619  \n",
      "15    12  7      0.14  0.143  0.599  0.599  \n",
      "16    4   6      0.16  0.161  0.547  0.546  \n",
      "17    13  5      0.18  0.185  0.480  0.479  \n",
      "18    19  4      0.21  0.209  0.413  0.412  \n",
      "19    16  3      0.23  0.233  0.344  0.344  \n",
      "20    2   2      0.27  0.272  0.235  0.235  \n",
      "21    1   1      0.36  0.355  -0.000  -0.000  \n",
      "----------------------------------------------\n",
      "Selected iteration: 2\n"
     ]
    },
    {
     "name": "stderr",
     "output_type": "stream",
     "text": [
      "/home/song/anaconda3/envs/tf/lib/python3.8/site-packages/pyearth/earth.py:1066: FutureWarning: `rcond` parameter will change to the default of machine precision times ``max(M, N)`` where M and N are the input matrix dimensions.\n",
      "To use the future default and silence this warning we advise to pass `rcond=None`, to keep using the old, explicitly pass `rcond=-1`.\n",
      "  coef, resid = np.linalg.lstsq(B, weighted_y[:, i])[0:2]\n"
     ]
    },
    {
     "name": "stdout",
     "output_type": "stream",
     "text": [
      "Beginning forward pass\n",
      "---------------------------------------------------------------\n",
      "iter  parent  var  knot  mse       terms  gcv    rsq    grsq   \n",
      "---------------------------------------------------------------\n",
      "0     -       -    -     0.356110  1      0.356  0.000  0.000  \n",
      "1     0       52   17249  0.247713  3      0.248  0.304  0.304  \n",
      "2     0       53   3876  0.225927  5      0.226  0.366  0.365  \n",
      "3     2       18   2056  0.210608  7      0.211  0.409  0.408  \n",
      "4     6       6    -1    0.163734  8      0.164  0.540  0.539  \n",
      "5     1       18   14942  0.155456  10     0.156  0.563  0.563  \n",
      "6     0       40   2135  0.149035  12     0.149  0.581  0.580  \n",
      "7     6       31   -1    0.144495  13     0.145  0.594  0.593  \n",
      "8     2       45   2033  0.140981  15     0.141  0.604  0.603  \n",
      "9     10      12   -1    0.138002  16     0.138  0.612  0.611  \n",
      "10    2       82   2948  0.135298  18     0.136  0.620  0.619  \n",
      "11    9       23   7933  0.132805  20     0.133  0.627  0.625  \n",
      "12    10      23   5127  0.130659  22     0.131  0.633  0.631  \n",
      "---------------------------------------------------------------\n",
      "Stopping Condition 0: Reached maximum number of terms\n",
      "Beginning pruning pass\n",
      "--------------------------------------------\n",
      "iter  bf  terms  mse   gcv    rsq    grsq   \n",
      "--------------------------------------------\n",
      "0     -   22     0.13  0.131  0.633  0.631  \n"
     ]
    },
    {
     "name": "stderr",
     "output_type": "stream",
     "text": [
      "/home/song/anaconda3/envs/tf/lib/python3.8/site-packages/pyearth/earth.py:813: FutureWarning: `rcond` parameter will change to the default of machine precision times ``max(M, N)`` where M and N are the input matrix dimensions.\n",
      "To use the future default and silence this warning we advise to pass `rcond=None`, to keep using the old, explicitly pass `rcond=-1`.\n",
      "  pruning_passer.run()\n"
     ]
    },
    {
     "name": "stdout",
     "output_type": "stream",
     "text": [
      "1     20  21     0.13  0.131  0.633  0.631  \n",
      "2     8   20     0.13  0.131  0.633  0.631  \n",
      "3     13  19     0.13  0.131  0.633  0.631  \n",
      "4     5   18     0.13  0.131  0.632  0.631  \n",
      "5     16  17     0.13  0.132  0.631  0.630  \n",
      "6     18  16     0.13  0.132  0.630  0.629  \n",
      "7     10  15     0.13  0.133  0.627  0.626  \n",
      "8     4   14     0.13  0.134  0.624  0.623  \n",
      "9     21  13     0.13  0.135  0.623  0.622  \n",
      "10    2   12     0.14  0.137  0.616  0.615  \n",
      "11    17  11     0.14  0.138  0.614  0.613  \n",
      "12    19  10     0.14  0.140  0.607  0.606  \n",
      "13    15  9      0.14  0.144  0.596  0.595  \n",
      "14    12  8      0.15  0.148  0.584  0.583  \n",
      "15    3   7      0.16  0.155  0.564  0.564  \n",
      "16    9   6      0.16  0.165  0.538  0.537  \n",
      "17    11  5      0.17  0.174  0.513  0.512  \n",
      "18    14  4      0.20  0.197  0.447  0.446  \n",
      "19    6   3      0.26  0.259  0.274  0.274  \n",
      "20    7   2      0.28  0.283  0.204  0.204  \n",
      "21    1   1      0.36  0.356  -0.000  -0.000  \n",
      "----------------------------------------------\n",
      "Selected iteration: 1\n"
     ]
    },
    {
     "name": "stderr",
     "output_type": "stream",
     "text": [
      "/home/song/anaconda3/envs/tf/lib/python3.8/site-packages/pyearth/earth.py:1066: FutureWarning: `rcond` parameter will change to the default of machine precision times ``max(M, N)`` where M and N are the input matrix dimensions.\n",
      "To use the future default and silence this warning we advise to pass `rcond=None`, to keep using the old, explicitly pass `rcond=-1`.\n",
      "  coef, resid = np.linalg.lstsq(B, weighted_y[:, i])[0:2]\n"
     ]
    },
    {
     "name": "stdout",
     "output_type": "stream",
     "text": [
      "Beginning forward pass\n",
      "---------------------------------------------------------------\n",
      "iter  parent  var  knot  mse       terms  gcv    rsq    grsq   \n",
      "---------------------------------------------------------------\n",
      "0     -       -    -     0.356717  1      0.357  0.000  0.000  \n",
      "1     0       52   17249  0.266324  3      0.266  0.253  0.253  \n",
      "2     0       29   7233  0.245002  5      0.245  0.313  0.313  \n",
      "3     3       18   21374  0.210410  7      0.211  0.410  0.409  \n",
      "4     0       38   2130  0.188810  9      0.189  0.471  0.470  \n",
      "5     7       36   18134  0.169520  11     0.170  0.525  0.524  \n",
      "6     8       15   -1    0.153669  12     0.154  0.569  0.568  \n",
      "7     4       40   17282  0.144376  14     0.145  0.595  0.594  \n",
      "8     0       12   -1    0.132153  15     0.133  0.630  0.628  \n",
      "9     3       54   -1    0.124383  16     0.125  0.651  0.650  \n",
      "10    0       21   20581  0.118459  18     0.119  0.668  0.667  \n",
      "11    10      6    -1    0.112769  19     0.113  0.684  0.683  \n",
      "12    9       23   15760  0.108243  21     0.109  0.697  0.695  \n",
      "----------------------------------------------------------------\n",
      "Stopping Condition 0: Reached maximum number of terms\n",
      "Beginning pruning pass\n",
      "--------------------------------------------\n",
      "iter  bf  terms  mse   gcv    rsq    grsq   \n",
      "--------------------------------------------\n",
      "0     -   21     0.11  0.109  0.697  0.695  \n"
     ]
    },
    {
     "name": "stderr",
     "output_type": "stream",
     "text": [
      "/home/song/anaconda3/envs/tf/lib/python3.8/site-packages/pyearth/earth.py:813: FutureWarning: `rcond` parameter will change to the default of machine precision times ``max(M, N)`` where M and N are the input matrix dimensions.\n",
      "To use the future default and silence this warning we advise to pass `rcond=None`, to keep using the old, explicitly pass `rcond=-1`.\n",
      "  pruning_passer.run()\n"
     ]
    },
    {
     "name": "stdout",
     "output_type": "stream",
     "text": [
      "1     19  20     0.11  0.109  0.697  0.695  \n",
      "2     7   19     0.11  0.109  0.696  0.695  \n",
      "3     17  18     0.11  0.109  0.696  0.695  \n",
      "4     9   17     0.11  0.109  0.696  0.695  \n",
      "5     13  16     0.11  0.109  0.695  0.694  \n",
      "6     6   15     0.11  0.110  0.694  0.693  \n",
      "7     3   14     0.11  0.111  0.689  0.688  \n",
      "8     20  13     0.12  0.116  0.675  0.674  \n",
      "9     10  12     0.12  0.123  0.657  0.656  \n",
      "10    16  11     0.13  0.129  0.639  0.638  \n",
      "11    2   10     0.14  0.138  0.613  0.612  \n",
      "12    15  9      0.15  0.147  0.589  0.588  \n",
      "13    5   8      0.15  0.149  0.583  0.583  \n",
      "14    14  7      0.16  0.159  0.556  0.555  \n",
      "15    12  6      0.17  0.172  0.517  0.517  \n",
      "16    8   5      0.19  0.188  0.474  0.473  \n",
      "17    1   4      0.23  0.228  0.361  0.361  \n",
      "18    11  3      0.27  0.270  0.243  0.242  \n",
      "19    4   2      0.31  0.311  0.129  0.129  \n",
      "20    18  1      0.36  0.357  0.000  0.000  \n",
      "--------------------------------------------\n",
      "Selected iteration: 2\n"
     ]
    },
    {
     "name": "stderr",
     "output_type": "stream",
     "text": [
      "/home/song/anaconda3/envs/tf/lib/python3.8/site-packages/pyearth/earth.py:1066: FutureWarning: `rcond` parameter will change to the default of machine precision times ``max(M, N)`` where M and N are the input matrix dimensions.\n",
      "To use the future default and silence this warning we advise to pass `rcond=None`, to keep using the old, explicitly pass `rcond=-1`.\n",
      "  coef, resid = np.linalg.lstsq(B, weighted_y[:, i])[0:2]\n"
     ]
    },
    {
     "name": "stdout",
     "output_type": "stream",
     "text": [
      "Beginning forward pass\n",
      "---------------------------------------------------------------\n",
      "iter  parent  var  knot  mse       terms  gcv    rsq    grsq   \n",
      "---------------------------------------------------------------\n",
      "0     -       -    -     0.357070  1      0.357  0.000  0.000  \n",
      "1     0       52   299   0.282903  3      0.283  0.208  0.207  \n",
      "2     0       21   -1    0.253867  4      0.254  0.289  0.289  \n",
      "3     0       29   7233  0.230102  6      0.230  0.356  0.355  \n",
      "4     2       18   2056  0.190191  8      0.191  0.467  0.467  \n",
      "5     7       6    -1    0.144632  9      0.145  0.595  0.594  \n",
      "6     7       31   -1    0.133211  10     0.133  0.627  0.626  \n",
      "7     5       43   17890  0.123060  12     0.123  0.655  0.655  \n",
      "8     4       54   -1    0.116250  13     0.117  0.674  0.674  \n",
      "9     0       82   2817  0.112358  15     0.113  0.685  0.684  \n",
      "10    0       11   14325  0.108506  17     0.109  0.696  0.695  \n",
      "11    14      1    8360  0.105622  19     0.106  0.704  0.703  \n",
      "12    16      30   11905  0.102133  21     0.103  0.714  0.713  \n",
      "----------------------------------------------------------------\n",
      "Stopping Condition 0: Reached maximum number of terms\n",
      "Beginning pruning pass\n",
      "--------------------------------------------\n",
      "iter  bf  terms  mse   gcv    rsq    grsq   \n",
      "--------------------------------------------\n",
      "0     -   21     0.10  0.103  0.714  0.713  \n"
     ]
    },
    {
     "name": "stderr",
     "output_type": "stream",
     "text": [
      "/home/song/anaconda3/envs/tf/lib/python3.8/site-packages/pyearth/earth.py:813: FutureWarning: `rcond` parameter will change to the default of machine precision times ``max(M, N)`` where M and N are the input matrix dimensions.\n",
      "To use the future default and silence this warning we advise to pass `rcond=None`, to keep using the old, explicitly pass `rcond=-1`.\n",
      "  pruning_passer.run()\n"
     ]
    },
    {
     "name": "stdout",
     "output_type": "stream",
     "text": [
      "1     17  20     0.10  0.103  0.714  0.713  \n",
      "2     6   19     0.10  0.103  0.713  0.712  \n",
      "3     2   18     0.10  0.103  0.712  0.711  \n",
      "4     13  17     0.10  0.104  0.710  0.709  \n",
      "5     10  16     0.10  0.104  0.708  0.707  \n",
      "6     15  15     0.10  0.105  0.706  0.705  \n",
      "7     19  14     0.11  0.106  0.703  0.702  \n",
      "8     20  13     0.11  0.109  0.696  0.695  \n",
      "9     18  12     0.11  0.111  0.690  0.689  \n",
      "10    16  11     0.11  0.115  0.680  0.679  \n",
      "11    5   10     0.12  0.119  0.668  0.668  \n",
      "12    4   9      0.12  0.124  0.654  0.653  \n",
      "13    12  8      0.12  0.124  0.653  0.652  \n",
      "14    14  7      0.13  0.130  0.635  0.635  \n",
      "15    9   6      0.14  0.142  0.603  0.603  \n",
      "16    11  5      0.16  0.164  0.541  0.540  \n",
      "17    3   4      0.19  0.194  0.456  0.455  \n",
      "18    1   3      0.25  0.247  0.308  0.307  \n",
      "19    7   2      0.33  0.327  0.085  0.084  \n",
      "20    8   1      0.36  0.357  0.000  0.000  \n",
      "--------------------------------------------\n",
      "Selected iteration: 0\n"
     ]
    },
    {
     "name": "stderr",
     "output_type": "stream",
     "text": [
      "/home/song/anaconda3/envs/tf/lib/python3.8/site-packages/pyearth/earth.py:1066: FutureWarning: `rcond` parameter will change to the default of machine precision times ``max(M, N)`` where M and N are the input matrix dimensions.\n",
      "To use the future default and silence this warning we advise to pass `rcond=None`, to keep using the old, explicitly pass `rcond=-1`.\n",
      "  coef, resid = np.linalg.lstsq(B, weighted_y[:, i])[0:2]\n"
     ]
    },
    {
     "name": "stdout",
     "output_type": "stream",
     "text": [
      "Beginning forward pass\n",
      "---------------------------------------------------------------\n",
      "iter  parent  var  knot  mse       terms  gcv    rsq    grsq   \n",
      "---------------------------------------------------------------\n",
      "0     -       -    -     0.357333  1      0.357  0.000  0.000  \n",
      "1     0       52   299   0.291182  3      0.291  0.185  0.185  \n",
      "2     2       38   2130  0.262004  5      0.262  0.267  0.266  \n",
      "3     3       36   18389  0.214944  7      0.215  0.398  0.398  \n",
      "4     4       94   -1    0.180533  8      0.181  0.495  0.494  \n",
      "5     0       24   2030  0.166575  10     0.167  0.534  0.533  \n",
      "6     0       12   15296  0.153857  12     0.154  0.569  0.568  \n",
      "7     9       40   17947  0.144619  14     0.145  0.595  0.594  \n",
      "8     0       82   2766  0.138045  16     0.139  0.614  0.612  \n",
      "9     8       54   -1    0.132871  17     0.133  0.628  0.627  \n",
      "10    4       52   -1    0.128103  18     0.129  0.642  0.640  \n",
      "11    15      34   12530  0.125018  20     0.126  0.650  0.649  \n",
      "12    4       9    -1    0.121577  21     0.122  0.660  0.658  \n",
      "---------------------------------------------------------------\n",
      "Stopping Condition 0: Reached maximum number of terms\n",
      "Beginning pruning pass\n",
      "--------------------------------------------\n",
      "iter  bf  terms  mse   gcv    rsq    grsq   \n",
      "--------------------------------------------\n",
      "0     -   21     0.12  0.122  0.660  0.658  \n"
     ]
    },
    {
     "name": "stderr",
     "output_type": "stream",
     "text": [
      "/home/song/anaconda3/envs/tf/lib/python3.8/site-packages/pyearth/earth.py:813: FutureWarning: `rcond` parameter will change to the default of machine precision times ``max(M, N)`` where M and N are the input matrix dimensions.\n",
      "To use the future default and silence this warning we advise to pass `rcond=None`, to keep using the old, explicitly pass `rcond=-1`.\n",
      "  pruning_passer.run()\n"
     ]
    },
    {
     "name": "stdout",
     "output_type": "stream",
     "text": [
      "1     18  20     0.12  0.122  0.660  0.658  \n",
      "2     5   19     0.12  0.122  0.659  0.658  \n",
      "3     2   18     0.12  0.122  0.659  0.657  \n",
      "4     10  17     0.12  0.123  0.658  0.657  \n",
      "5     14  16     0.12  0.123  0.657  0.655  \n",
      "6     13  15     0.12  0.124  0.654  0.653  \n",
      "7     3   14     0.12  0.125  0.652  0.651  \n",
      "8     20  13     0.13  0.128  0.642  0.641  \n",
      "9     19  12     0.13  0.131  0.634  0.633  \n",
      "10    8   11     0.14  0.136  0.621  0.620  \n",
      "11    16  10     0.14  0.136  0.621  0.620  \n",
      "12    17  9      0.14  0.141  0.607  0.606  \n",
      "13    15  8      0.15  0.148  0.588  0.587  \n",
      "14    12  7      0.16  0.156  0.564  0.564  \n",
      "15    11  6      0.17  0.170  0.525  0.525  \n",
      "16    4   5      0.18  0.184  0.484  0.484  \n",
      "17    9   4      0.21  0.209  0.414  0.414  \n",
      "18    1   3      0.25  0.254  0.291  0.290  \n",
      "19    6   2      0.30  0.302  0.154  0.154  \n",
      "20    7   1      0.36  0.357  -0.000  -0.000  \n",
      "----------------------------------------------\n",
      "Selected iteration: 1\n"
     ]
    },
    {
     "name": "stderr",
     "output_type": "stream",
     "text": [
      "/home/song/anaconda3/envs/tf/lib/python3.8/site-packages/pyearth/earth.py:1066: FutureWarning: `rcond` parameter will change to the default of machine precision times ``max(M, N)`` where M and N are the input matrix dimensions.\n",
      "To use the future default and silence this warning we advise to pass `rcond=None`, to keep using the old, explicitly pass `rcond=-1`.\n",
      "  coef, resid = np.linalg.lstsq(B, weighted_y[:, i])[0:2]\n"
     ]
    }
   ],
   "source": [
    "conclude_df=pd.DataFrame()\n",
    "for n_out in range(1,n_future):\n",
    "    X,y,xlabels = to_supervise(data,target,n_out)\n",
    "    criteria = ('rss', 'gcv', 'nb_subsets')\n",
    "    model = Earth(enable_pruning = True,\n",
    "                   max_degree=3,\n",
    "                  max_terms=20,\n",
    "                minspan_alpha=.5,\n",
    "                feature_importance_type=criteria,\n",
    "                verbose=True)\n",
    "    model.fit(X,y,xlabels=xlabels)\n",
    "    # nbsub = model.summary_feature_importances(sort_by='nb_subsets')[:2000].split()[3:83]\n",
    "    gcv = model.summary_feature_importances(sort_by='gcv')[:2000].split()[3:83]\n",
    "    rss = model.summary_feature_importances(sort_by='rss')[:2000].split()[3:83]\n",
    "    \n",
    "    # rss,gcv,nbsub = toDF(rss),toDF(gcv),toDF(nbsub)\n",
    "    rss,gcv = toDF(rss),toDF(gcv)\n",
    "    thrd = 0.1\n",
    "    rss=rss.loc[rss['rss']>thrd]\n",
    "    gcv=gcv.loc[gcv['gcv']>thrd]\n",
    "    #nbsub=nbsub.loc[nbsub['nb_subset']>thrd]\n",
    "\n",
    "    top20=pd.concat([rss,gcv],ignore_index=True)\n",
    "    top20 = pd.concat([rss,gcv],ignore_index=True).drop_duplicates('feature')\n",
    "    top20['timestep'] = n_out\n",
    "\n",
    "    #ADDED combine all result\n",
    "    conclude_df = pd.concat([conclude_df,top20],ignore_index=True)\n",
    "    # conclude_df.to_csv('/home/song/Public/Song/Work/Thesis/MAR/[CPY012]featurelist_MAR_hourly.csv',index=False)"
   ]
  },
  {
   "cell_type": "code",
   "execution_count": 8,
   "metadata": {},
   "outputs": [],
   "source": [
    "final = conclude_df.drop_duplicates('feature')\n",
    "if mode =='hour': \n",
    "    final.to_csv('MAR_4(fulldate)/[CPY012]featurelist_MAR_hourly.csv',index=False)\n",
    "    conclude_df.to_csv('MAR_3/[CPY012]featurelist_MAR_hourly_Fullreport.csv',index=False)\n",
    "elif mode =='day': \n",
    "    final.to_csv('MAR/[CPY012]featurelist_MAR_daily.csv',index=False)\n",
    "    conclude_df.to_csv('MAR/[CPY012]featurelist_MAR_daily_Fullreport.csv',index=False)\n",
    "else: print('incorrect input')"
   ]
  },
  {
   "cell_type": "code",
   "execution_count": 9,
   "metadata": {},
   "outputs": [
    {
     "data": {
      "text/html": [
       "<div>\n",
       "<style scoped>\n",
       "    .dataframe tbody tr th:only-of-type {\n",
       "        vertical-align: middle;\n",
       "    }\n",
       "\n",
       "    .dataframe tbody tr th {\n",
       "        vertical-align: top;\n",
       "    }\n",
       "\n",
       "    .dataframe thead th {\n",
       "        text-align: right;\n",
       "    }\n",
       "</style>\n",
       "<table border=\"1\" class=\"dataframe\">\n",
       "  <thead>\n",
       "    <tr style=\"text-align: right;\">\n",
       "      <th></th>\n",
       "      <th>feature</th>\n",
       "      <th>rss</th>\n",
       "      <th>gcv</th>\n",
       "      <th>nb_subset</th>\n",
       "      <th>timestep</th>\n",
       "    </tr>\n",
       "  </thead>\n",
       "  <tbody>\n",
       "    <tr>\n",
       "      <th>0</th>\n",
       "      <td>CPY006_wl</td>\n",
       "      <td>0.75</td>\n",
       "      <td>0.75</td>\n",
       "      <td>0.07</td>\n",
       "      <td>1</td>\n",
       "    </tr>\n",
       "    <tr>\n",
       "      <th>1</th>\n",
       "      <td>CPY006_wl</td>\n",
       "      <td>0.73</td>\n",
       "      <td>0.73</td>\n",
       "      <td>0.21</td>\n",
       "      <td>2</td>\n",
       "    </tr>\n",
       "    <tr>\n",
       "      <th>2</th>\n",
       "      <td>GLF001_wl</td>\n",
       "      <td>0.15</td>\n",
       "      <td>0.15</td>\n",
       "      <td>0.12</td>\n",
       "      <td>2</td>\n",
       "    </tr>\n",
       "    <tr>\n",
       "      <th>3</th>\n",
       "      <td>CPY006_wl</td>\n",
       "      <td>0.69</td>\n",
       "      <td>0.69</td>\n",
       "      <td>0.12</td>\n",
       "      <td>3</td>\n",
       "    </tr>\n",
       "    <tr>\n",
       "      <th>4</th>\n",
       "      <td>CPY015_wl</td>\n",
       "      <td>0.24</td>\n",
       "      <td>0.24</td>\n",
       "      <td>0.21</td>\n",
       "      <td>3</td>\n",
       "    </tr>\n",
       "    <tr>\n",
       "      <th>...</th>\n",
       "      <td>...</td>\n",
       "      <td>...</td>\n",
       "      <td>...</td>\n",
       "      <td>...</td>\n",
       "      <td>...</td>\n",
       "    </tr>\n",
       "    <tr>\n",
       "      <th>149</th>\n",
       "      <td>DNP028_press</td>\n",
       "      <td>0.39</td>\n",
       "      <td>0.39</td>\n",
       "      <td>0.19</td>\n",
       "      <td>70</td>\n",
       "    </tr>\n",
       "    <tr>\n",
       "      <th>150</th>\n",
       "      <td>DIV006_wl</td>\n",
       "      <td>0.27</td>\n",
       "      <td>0.27</td>\n",
       "      <td>0.13</td>\n",
       "      <td>70</td>\n",
       "    </tr>\n",
       "    <tr>\n",
       "      <th>151</th>\n",
       "      <td>DNP028_press</td>\n",
       "      <td>0.36</td>\n",
       "      <td>0.36</td>\n",
       "      <td>0.26</td>\n",
       "      <td>71</td>\n",
       "    </tr>\n",
       "    <tr>\n",
       "      <th>152</th>\n",
       "      <td>YOM012_wl</td>\n",
       "      <td>0.26</td>\n",
       "      <td>0.26</td>\n",
       "      <td>0.21</td>\n",
       "      <td>71</td>\n",
       "    </tr>\n",
       "    <tr>\n",
       "      <th>153</th>\n",
       "      <td>Day</td>\n",
       "      <td>0.11</td>\n",
       "      <td>0.11</td>\n",
       "      <td>0.03</td>\n",
       "      <td>71</td>\n",
       "    </tr>\n",
       "  </tbody>\n",
       "</table>\n",
       "<p>154 rows × 5 columns</p>\n",
       "</div>"
      ],
      "text/plain": [
       "          feature   rss   gcv  nb_subset  timestep\n",
       "0       CPY006_wl  0.75  0.75       0.07         1\n",
       "1       CPY006_wl  0.73  0.73       0.21         2\n",
       "2       GLF001_wl  0.15  0.15       0.12         2\n",
       "3       CPY006_wl  0.69  0.69       0.12         3\n",
       "4       CPY015_wl  0.24  0.24       0.21         3\n",
       "..            ...   ...   ...        ...       ...\n",
       "149  DNP028_press  0.39  0.39       0.19        70\n",
       "150     DIV006_wl  0.27  0.27       0.13        70\n",
       "151  DNP028_press  0.36  0.36       0.26        71\n",
       "152     YOM012_wl  0.26  0.26       0.21        71\n",
       "153           Day  0.11  0.11       0.03        71\n",
       "\n",
       "[154 rows x 5 columns]"
      ]
     },
     "execution_count": 9,
     "metadata": {},
     "output_type": "execute_result"
    }
   ],
   "source": [
    "conclude_df.loc[conclude_df['timestep']<=72]"
   ]
  },
  {
   "cell_type": "code",
   "execution_count": 10,
   "metadata": {},
   "outputs": [
    {
     "data": {
      "text/plain": [
       "{'BKK002_wl',\n",
       " 'BKK013_wl',\n",
       " 'BKK021_wl',\n",
       " 'CHM002_wl',\n",
       " 'CPY003_wl',\n",
       " 'CPY006_wl',\n",
       " 'CPY015_wl',\n",
       " 'DIV003_wl',\n",
       " 'DIV006_wl',\n",
       " 'DNP006_press',\n",
       " 'DNP006_wl',\n",
       " 'DNP007_humid',\n",
       " 'DNP025_temp',\n",
       " 'DNP028_press',\n",
       " 'Day',\n",
       " 'GLF001_wl',\n",
       " 'KWN002_wl',\n",
       " 'NAN002_wl',\n",
       " 'NAN005_wl',\n",
       " 'NAN009_wl',\n",
       " 'NAN012_wl',\n",
       " 'NAN013_wl',\n",
       " 'PAS001_wl',\n",
       " 'PAS006_wl',\n",
       " 'PIN004_wl',\n",
       " 'WAN003_wl',\n",
       " 'WAN005_wl',\n",
       " 'YOM012_wl'}"
      ]
     },
     "execution_count": 10,
     "metadata": {},
     "output_type": "execute_result"
    }
   ],
   "source": [
    "set(conclude_df['feature'])"
   ]
  },
  {
   "cell_type": "code",
   "execution_count": 11,
   "metadata": {},
   "outputs": [
    {
     "data": {
      "text/plain": [
       "{'BKK013_wl',\n",
       " 'BKK021_wl',\n",
       " 'CPY006_wl',\n",
       " 'DNP028_press',\n",
       " 'NAN009_wl',\n",
       " 'PIN004_wl',\n",
       " 'WAN003_wl',\n",
       " 'WAN005_wl',\n",
       " 'YOM012_wl'}"
      ]
     },
     "execution_count": 11,
     "metadata": {},
     "output_type": "execute_result"
    }
   ],
   "source": [
    "set(conclude_df['feature'].loc[(conclude_df['rss']>=.3)|(conclude_df['gcv']>=.3)])"
   ]
  },
  {
   "cell_type": "code",
   "execution_count": 12,
   "metadata": {},
   "outputs": [
    {
     "data": {
      "text/plain": [
       "{'BKK013_wl',\n",
       " 'BKK021_wl',\n",
       " 'CPY003_wl',\n",
       " 'CPY006_wl',\n",
       " 'CPY015_wl',\n",
       " 'DIV003_wl',\n",
       " 'DIV006_wl',\n",
       " 'DNP006_wl',\n",
       " 'DNP028_press',\n",
       " 'NAN009_wl',\n",
       " 'PAS006_wl',\n",
       " 'PIN004_wl',\n",
       " 'WAN003_wl',\n",
       " 'WAN005_wl',\n",
       " 'YOM012_wl'}"
      ]
     },
     "execution_count": 12,
     "metadata": {},
     "output_type": "execute_result"
    }
   ],
   "source": [
    "set(conclude_df['feature'].loc[(conclude_df['rss']>=.2)|(conclude_df['gcv']>=.2)])"
   ]
  },
  {
   "cell_type": "code",
   "execution_count": null,
   "metadata": {},
   "outputs": [],
   "source": []
  }
 ],
 "metadata": {
  "kernelspec": {
   "display_name": "Python 3",
   "language": "python",
   "name": "python3"
  },
  "language_info": {
   "codemirror_mode": {
    "name": "ipython",
    "version": 3
   },
   "file_extension": ".py",
   "mimetype": "text/x-python",
   "name": "python",
   "nbconvert_exporter": "python",
   "pygments_lexer": "ipython3",
   "version": "3.8.2"
  }
 },
 "nbformat": 4,
 "nbformat_minor": 2
}
