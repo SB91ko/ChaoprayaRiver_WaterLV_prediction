{
 "metadata": {
  "language_info": {
   "codemirror_mode": {
    "name": "ipython",
    "version": 3
   },
   "file_extension": ".py",
   "mimetype": "text/x-python",
   "name": "python",
   "nbconvert_exporter": "python",
   "pygments_lexer": "ipython3",
   "version": "3.8.5-final"
  },
  "orig_nbformat": 2,
  "kernelspec": {
   "name": "python3",
   "display_name": "Python 3"
  }
 },
 "nbformat": 4,
 "nbformat_minor": 2,
 "cells": [
  {
   "source": [
    "# Load Data"
   ],
   "cell_type": "markdown",
   "metadata": {}
  },
  {
   "cell_type": "code",
   "execution_count": 1,
   "metadata": {},
   "outputs": [],
   "source": [
    "from pyearth import Earth\n",
    "from DLtools.Data_preprocess import series_to_supervised,load_data\n",
    "\n",
    "import numpy as np"
   ]
  },
  {
   "cell_type": "code",
   "execution_count": 3,
   "metadata": {},
   "outputs": [
    {
     "output_type": "error",
     "ename": "MemoryError",
     "evalue": "Unable to allocate 4.94 GiB for an array with shape (929, 714384) and data type float64",
     "traceback": [
      "\u001b[0;31m---------------------------------------------------------------------------\u001b[0m",
      "\u001b[0;31mMemoryError\u001b[0m                               Traceback (most recent call last)",
      "\u001b[0;32m<ipython-input-3-1db55e91299d>\u001b[0m in \u001b[0;36m<module>\u001b[0;34m\u001b[0m\n\u001b[1;32m      3\u001b[0m \u001b[0mr\u001b[0m \u001b[0;34m=\u001b[0m \u001b[0;34m\"data/instant_data/rain.csv\"\u001b[0m\u001b[0;34m\u001b[0m\u001b[0;34m\u001b[0m\u001b[0m\n\u001b[1;32m      4\u001b[0m \u001b[0mw\u001b[0m \u001b[0;34m=\u001b[0m \u001b[0;34m'data/instant_data/water.csv'\u001b[0m\u001b[0;34m\u001b[0m\u001b[0;34m\u001b[0m\u001b[0m\n\u001b[0;32m----> 5\u001b[0;31m \u001b[0mrw\u001b[0m \u001b[0;34m=\u001b[0m \u001b[0mload_data\u001b[0m\u001b[0;34m(\u001b[0m\u001b[0mr\u001b[0m\u001b[0;34m,\u001b[0m\u001b[0mw\u001b[0m\u001b[0;34m)\u001b[0m\u001b[0;34m\u001b[0m\u001b[0;34m\u001b[0m\u001b[0m\n\u001b[0m\u001b[1;32m      6\u001b[0m \u001b[0mdf\u001b[0m \u001b[0;34m=\u001b[0m\u001b[0mrw\u001b[0m\u001b[0;34m.\u001b[0m\u001b[0mdf\u001b[0m\u001b[0;34m.\u001b[0m\u001b[0mresample\u001b[0m\u001b[0;34m(\u001b[0m\u001b[0;34m'd'\u001b[0m\u001b[0;34m)\u001b[0m\u001b[0;34m.\u001b[0m\u001b[0mmean\u001b[0m\u001b[0;34m(\u001b[0m\u001b[0;34m)\u001b[0m\u001b[0;34m\u001b[0m\u001b[0;34m\u001b[0m\u001b[0m\n",
      "\u001b[0;32m~/Public/Song/Work/Thesis/DLtools/Data_preprocess.py\u001b[0m in \u001b[0;36m__init__\u001b[0;34m(self, rain, water, start, stop)\u001b[0m\n\u001b[1;32m     54\u001b[0m         \u001b[0mself\u001b[0m\u001b[0;34m.\u001b[0m\u001b[0mwater_df\u001b[0m \u001b[0;34m=\u001b[0m \u001b[0mself\u001b[0m\u001b[0;34m.\u001b[0m\u001b[0mdf_maker\u001b[0m\u001b[0;34m(\u001b[0m\u001b[0mself\u001b[0m\u001b[0;34m.\u001b[0m\u001b[0mwater\u001b[0m\u001b[0;34m,\u001b[0m\u001b[0;34m'_w'\u001b[0m\u001b[0;34m)\u001b[0m\u001b[0;34m\u001b[0m\u001b[0;34m\u001b[0m\u001b[0m\n\u001b[1;32m     55\u001b[0m         \u001b[0mself\u001b[0m\u001b[0;34m.\u001b[0m\u001b[0mrain_df\u001b[0m \u001b[0;34m=\u001b[0m \u001b[0mself\u001b[0m\u001b[0;34m.\u001b[0m\u001b[0mdf_maker\u001b[0m\u001b[0;34m(\u001b[0m\u001b[0mself\u001b[0m\u001b[0;34m.\u001b[0m\u001b[0mrain\u001b[0m\u001b[0;34m,\u001b[0m\u001b[0;34m'_r'\u001b[0m\u001b[0;34m)\u001b[0m\u001b[0;34m.\u001b[0m\u001b[0mresample\u001b[0m\u001b[0;34m(\u001b[0m\u001b[0;34m'H'\u001b[0m\u001b[0;34m)\u001b[0m\u001b[0;34m.\u001b[0m\u001b[0mpad\u001b[0m\u001b[0;34m(\u001b[0m\u001b[0;34m)\u001b[0m\u001b[0;34m\u001b[0m\u001b[0;34m\u001b[0m\u001b[0m\n\u001b[0;32m---> 56\u001b[0;31m         \u001b[0mself\u001b[0m\u001b[0;34m.\u001b[0m\u001b[0mdf\u001b[0m \u001b[0;34m=\u001b[0m \u001b[0mself\u001b[0m\u001b[0;34m.\u001b[0m\u001b[0mrain_water_merge\u001b[0m\u001b[0;34m(\u001b[0m\u001b[0mself\u001b[0m\u001b[0;34m.\u001b[0m\u001b[0mrain_df\u001b[0m\u001b[0;34m,\u001b[0m\u001b[0mself\u001b[0m\u001b[0;34m.\u001b[0m\u001b[0mwater_df\u001b[0m\u001b[0;34m)\u001b[0m\u001b[0;34m\u001b[0m\u001b[0;34m\u001b[0m\u001b[0m\n\u001b[0m\u001b[1;32m     57\u001b[0m         \u001b[0mprint\u001b[0m\u001b[0;34m(\u001b[0m\u001b[0;34m'DataFrame shape:'\u001b[0m\u001b[0;34m,\u001b[0m\u001b[0mself\u001b[0m\u001b[0;34m.\u001b[0m\u001b[0mdf\u001b[0m\u001b[0;34m.\u001b[0m\u001b[0mshape\u001b[0m\u001b[0;34m)\u001b[0m\u001b[0;34m\u001b[0m\u001b[0;34m\u001b[0m\u001b[0m\n\u001b[1;32m     58\u001b[0m \u001b[0;34m\u001b[0m\u001b[0m\n",
      "\u001b[0;32m~/Public/Song/Work/Thesis/DLtools/Data_preprocess.py\u001b[0m in \u001b[0;36mrain_water_merge\u001b[0;34m(self, rain, water)\u001b[0m\n\u001b[1;32m     63\u001b[0m \u001b[0;34m\u001b[0m\u001b[0m\n\u001b[1;32m     64\u001b[0m     \u001b[0;32mdef\u001b[0m \u001b[0mrain_water_merge\u001b[0m\u001b[0;34m(\u001b[0m\u001b[0mself\u001b[0m\u001b[0;34m,\u001b[0m\u001b[0mrain\u001b[0m\u001b[0;34m,\u001b[0m\u001b[0mwater\u001b[0m\u001b[0;34m)\u001b[0m\u001b[0;34m:\u001b[0m\u001b[0;34m\u001b[0m\u001b[0;34m\u001b[0m\u001b[0m\n\u001b[0;32m---> 65\u001b[0;31m         \u001b[0;32mreturn\u001b[0m \u001b[0mpd\u001b[0m\u001b[0;34m.\u001b[0m\u001b[0mconcat\u001b[0m\u001b[0;34m(\u001b[0m\u001b[0;34m[\u001b[0m\u001b[0mrain\u001b[0m\u001b[0;34m,\u001b[0m\u001b[0mwater\u001b[0m\u001b[0;34m]\u001b[0m\u001b[0;34m)\u001b[0m\u001b[0;34m\u001b[0m\u001b[0;34m\u001b[0m\u001b[0m\n\u001b[0m\u001b[1;32m     66\u001b[0m \u001b[0;34m\u001b[0m\u001b[0m\n\u001b[1;32m     67\u001b[0m \u001b[0;32mdef\u001b[0m \u001b[0mmanual_trian_test_split\u001b[0m\u001b[0;34m(\u001b[0m\u001b[0minput_series\u001b[0m\u001b[0;34m,\u001b[0m\u001b[0mlook_back\u001b[0m\u001b[0;34m)\u001b[0m\u001b[0;34m:\u001b[0m\u001b[0;34m\u001b[0m\u001b[0;34m\u001b[0m\u001b[0m\n",
      "\u001b[0;32m~/anaconda3/envs/tf/lib/python3.8/site-packages/pandas/core/reshape/concat.py\u001b[0m in \u001b[0;36mconcat\u001b[0;34m(objs, axis, join, ignore_index, keys, levels, names, verify_integrity, sort, copy)\u001b[0m\n\u001b[1;32m    285\u001b[0m     )\n\u001b[1;32m    286\u001b[0m \u001b[0;34m\u001b[0m\u001b[0m\n\u001b[0;32m--> 287\u001b[0;31m     \u001b[0;32mreturn\u001b[0m \u001b[0mop\u001b[0m\u001b[0;34m.\u001b[0m\u001b[0mget_result\u001b[0m\u001b[0;34m(\u001b[0m\u001b[0;34m)\u001b[0m\u001b[0;34m\u001b[0m\u001b[0;34m\u001b[0m\u001b[0m\n\u001b[0m\u001b[1;32m    288\u001b[0m \u001b[0;34m\u001b[0m\u001b[0m\n\u001b[1;32m    289\u001b[0m \u001b[0;34m\u001b[0m\u001b[0m\n",
      "\u001b[0;32m~/anaconda3/envs/tf/lib/python3.8/site-packages/pandas/core/reshape/concat.py\u001b[0m in \u001b[0;36mget_result\u001b[0;34m(self)\u001b[0m\n\u001b[1;32m    500\u001b[0m                 \u001b[0mmgrs_indexers\u001b[0m\u001b[0;34m.\u001b[0m\u001b[0mappend\u001b[0m\u001b[0;34m(\u001b[0m\u001b[0;34m(\u001b[0m\u001b[0mobj\u001b[0m\u001b[0;34m.\u001b[0m\u001b[0m_mgr\u001b[0m\u001b[0;34m,\u001b[0m \u001b[0mindexers\u001b[0m\u001b[0;34m)\u001b[0m\u001b[0;34m)\u001b[0m\u001b[0;34m\u001b[0m\u001b[0;34m\u001b[0m\u001b[0m\n\u001b[1;32m    501\u001b[0m \u001b[0;34m\u001b[0m\u001b[0m\n\u001b[0;32m--> 502\u001b[0;31m             new_data = concatenate_block_managers(\n\u001b[0m\u001b[1;32m    503\u001b[0m                 \u001b[0mmgrs_indexers\u001b[0m\u001b[0;34m,\u001b[0m \u001b[0mself\u001b[0m\u001b[0;34m.\u001b[0m\u001b[0mnew_axes\u001b[0m\u001b[0;34m,\u001b[0m \u001b[0mconcat_axis\u001b[0m\u001b[0;34m=\u001b[0m\u001b[0mself\u001b[0m\u001b[0;34m.\u001b[0m\u001b[0mbm_axis\u001b[0m\u001b[0;34m,\u001b[0m \u001b[0mcopy\u001b[0m\u001b[0;34m=\u001b[0m\u001b[0mself\u001b[0m\u001b[0;34m.\u001b[0m\u001b[0mcopy\u001b[0m\u001b[0;34m,\u001b[0m\u001b[0;34m\u001b[0m\u001b[0;34m\u001b[0m\u001b[0m\n\u001b[1;32m    504\u001b[0m             )\n",
      "\u001b[0;32m~/anaconda3/envs/tf/lib/python3.8/site-packages/pandas/core/internals/concat.py\u001b[0m in \u001b[0;36mconcatenate_block_managers\u001b[0;34m(mgrs_indexers, axes, concat_axis, copy)\u001b[0m\n\u001b[1;32m     77\u001b[0m         \u001b[0;32melse\u001b[0m\u001b[0;34m:\u001b[0m\u001b[0;34m\u001b[0m\u001b[0;34m\u001b[0m\u001b[0m\n\u001b[1;32m     78\u001b[0m             b = make_block(\n\u001b[0;32m---> 79\u001b[0;31m                 \u001b[0m_concatenate_join_units\u001b[0m\u001b[0;34m(\u001b[0m\u001b[0mjoin_units\u001b[0m\u001b[0;34m,\u001b[0m \u001b[0mconcat_axis\u001b[0m\u001b[0;34m,\u001b[0m \u001b[0mcopy\u001b[0m\u001b[0;34m=\u001b[0m\u001b[0mcopy\u001b[0m\u001b[0;34m,\u001b[0m\u001b[0;34m)\u001b[0m\u001b[0;34m,\u001b[0m\u001b[0;34m\u001b[0m\u001b[0;34m\u001b[0m\u001b[0m\n\u001b[0m\u001b[1;32m     80\u001b[0m                 \u001b[0mplacement\u001b[0m\u001b[0;34m=\u001b[0m\u001b[0mplacement\u001b[0m\u001b[0;34m,\u001b[0m\u001b[0;34m\u001b[0m\u001b[0;34m\u001b[0m\u001b[0m\n\u001b[1;32m     81\u001b[0m             )\n",
      "\u001b[0;32m~/anaconda3/envs/tf/lib/python3.8/site-packages/pandas/core/internals/concat.py\u001b[0m in \u001b[0;36m_concatenate_join_units\u001b[0;34m(join_units, concat_axis, copy)\u001b[0m\n\u001b[1;32m    314\u001b[0m     \u001b[0mempty_dtype\u001b[0m\u001b[0;34m,\u001b[0m \u001b[0mupcasted_na\u001b[0m \u001b[0;34m=\u001b[0m \u001b[0m_get_empty_dtype_and_na\u001b[0m\u001b[0;34m(\u001b[0m\u001b[0mjoin_units\u001b[0m\u001b[0;34m)\u001b[0m\u001b[0;34m\u001b[0m\u001b[0;34m\u001b[0m\u001b[0m\n\u001b[1;32m    315\u001b[0m \u001b[0;34m\u001b[0m\u001b[0m\n\u001b[0;32m--> 316\u001b[0;31m     to_concat = [\n\u001b[0m\u001b[1;32m    317\u001b[0m         \u001b[0mju\u001b[0m\u001b[0;34m.\u001b[0m\u001b[0mget_reindexed_values\u001b[0m\u001b[0;34m(\u001b[0m\u001b[0mempty_dtype\u001b[0m\u001b[0;34m=\u001b[0m\u001b[0mempty_dtype\u001b[0m\u001b[0;34m,\u001b[0m \u001b[0mupcasted_na\u001b[0m\u001b[0;34m=\u001b[0m\u001b[0mupcasted_na\u001b[0m\u001b[0;34m)\u001b[0m\u001b[0;34m\u001b[0m\u001b[0;34m\u001b[0m\u001b[0m\n\u001b[1;32m    318\u001b[0m         \u001b[0;32mfor\u001b[0m \u001b[0mju\u001b[0m \u001b[0;32min\u001b[0m \u001b[0mjoin_units\u001b[0m\u001b[0;34m\u001b[0m\u001b[0;34m\u001b[0m\u001b[0m\n",
      "\u001b[0;32m~/anaconda3/envs/tf/lib/python3.8/site-packages/pandas/core/internals/concat.py\u001b[0m in \u001b[0;36m<listcomp>\u001b[0;34m(.0)\u001b[0m\n\u001b[1;32m    315\u001b[0m \u001b[0;34m\u001b[0m\u001b[0m\n\u001b[1;32m    316\u001b[0m     to_concat = [\n\u001b[0;32m--> 317\u001b[0;31m         \u001b[0mju\u001b[0m\u001b[0;34m.\u001b[0m\u001b[0mget_reindexed_values\u001b[0m\u001b[0;34m(\u001b[0m\u001b[0mempty_dtype\u001b[0m\u001b[0;34m=\u001b[0m\u001b[0mempty_dtype\u001b[0m\u001b[0;34m,\u001b[0m \u001b[0mupcasted_na\u001b[0m\u001b[0;34m=\u001b[0m\u001b[0mupcasted_na\u001b[0m\u001b[0;34m)\u001b[0m\u001b[0;34m\u001b[0m\u001b[0;34m\u001b[0m\u001b[0m\n\u001b[0m\u001b[1;32m    318\u001b[0m         \u001b[0;32mfor\u001b[0m \u001b[0mju\u001b[0m \u001b[0;32min\u001b[0m \u001b[0mjoin_units\u001b[0m\u001b[0;34m\u001b[0m\u001b[0;34m\u001b[0m\u001b[0m\n\u001b[1;32m    319\u001b[0m     ]\n",
      "\u001b[0;32m~/anaconda3/envs/tf/lib/python3.8/site-packages/pandas/core/internals/concat.py\u001b[0m in \u001b[0;36mget_reindexed_values\u001b[0;34m(self, empty_dtype, upcasted_na)\u001b[0m\n\u001b[1;32m    272\u001b[0m                     )\n\u001b[1;32m    273\u001b[0m                 \u001b[0;32melse\u001b[0m\u001b[0;34m:\u001b[0m\u001b[0;34m\u001b[0m\u001b[0;34m\u001b[0m\u001b[0m\n\u001b[0;32m--> 274\u001b[0;31m                     \u001b[0mmissing_arr\u001b[0m \u001b[0;34m=\u001b[0m \u001b[0mnp\u001b[0m\u001b[0;34m.\u001b[0m\u001b[0mempty\u001b[0m\u001b[0;34m(\u001b[0m\u001b[0mself\u001b[0m\u001b[0;34m.\u001b[0m\u001b[0mshape\u001b[0m\u001b[0;34m,\u001b[0m \u001b[0mdtype\u001b[0m\u001b[0;34m=\u001b[0m\u001b[0mempty_dtype\u001b[0m\u001b[0;34m)\u001b[0m\u001b[0;34m\u001b[0m\u001b[0;34m\u001b[0m\u001b[0m\n\u001b[0m\u001b[1;32m    275\u001b[0m                     \u001b[0mmissing_arr\u001b[0m\u001b[0;34m.\u001b[0m\u001b[0mfill\u001b[0m\u001b[0;34m(\u001b[0m\u001b[0mfill_value\u001b[0m\u001b[0;34m)\u001b[0m\u001b[0;34m\u001b[0m\u001b[0;34m\u001b[0m\u001b[0m\n\u001b[1;32m    276\u001b[0m                     \u001b[0;32mreturn\u001b[0m \u001b[0mmissing_arr\u001b[0m\u001b[0;34m\u001b[0m\u001b[0;34m\u001b[0m\u001b[0m\n",
      "\u001b[0;31mMemoryError\u001b[0m: Unable to allocate 4.94 GiB for an array with shape (929, 714384) and data type float64"
     ]
    }
   ],
   "source": [
    "#r='data/instant_data/rain_small.csv'\n",
    "#w='data/instant_data/water_small.csv'\n",
    "r = \"data/instant_data/rain.csv\"\n",
    "w = 'data/instant_data/water.csv'\n",
    "rw = load_data(r,w)\n",
    "df =rw.df.resample('d').mean()"
   ]
  },
  {
   "cell_type": "code",
   "execution_count": 3,
   "metadata": {},
   "outputs": [],
   "source": [
    "TARGET = 'CPY015_w'\n",
    "\n",
    "## Period 2013-2015 ##\n",
    "X_in = df['2013-01-01':'2015-01-01'].interpolate(limit=15)\n",
    "X_in = X_in.astype('float32')\n",
    "X = X_in.drop([TARGET],axis=1)\n",
    "xlabels = list(X.columns)\n",
    "\n",
    "\n",
    "# REPLACE NAN WITH 0\n",
    "X = X.fillna(0).values\n",
    "y = np.log(X_in[TARGET].fillna(0).values)\n",
    "where_are_NaNs = np.isnan(y)\n",
    "y[where_are_NaNs] = 0\n"
   ]
  },
  {
   "source": [
    "# MARS feature selection (from all stations)"
   ],
   "cell_type": "markdown",
   "metadata": {}
  },
  {
   "cell_type": "code",
   "execution_count": 4,
   "metadata": {},
   "outputs": [
    {
     "output_type": "stream",
     "name": "stdout",
     "text": [
      "Beginning forward pass\n",
      "---------------------------------------------------------------\n",
      "iter  parent  var  knot  mse       terms  gcv    rsq    grsq   \n",
      "---------------------------------------------------------------\n",
      "0     -       -    -     0.296832  1      0.298  0.000  0.000  \n",
      "1     0       935  364   0.144594  3      0.147  0.513  0.506  \n",
      "2     0       1016  544   0.118268  5      0.122  0.602  0.590  \n",
      "3     0       1015  516   0.110742  7      0.116  0.627  0.611  \n",
      "4     0       873  591   0.104027  9      0.110  0.650  0.630  \n",
      "5     0       715  554   0.097734  11     0.105  0.671  0.647  \n",
      "6     0       882  501   0.093214  13     0.102  0.686  0.658  \n",
      "7     0       934  -1    0.089119  14     0.098  0.700  0.671  \n",
      "8     0       998  296   0.084469  16     0.094  0.715  0.684  \n",
      "9     0       428  558   0.082088  18     0.093  0.723  0.688  \n",
      "10    0       879  437   0.079751  20     0.091  0.731  0.693  \n",
      "11    0       935  514   0.077447  22     0.090  0.739  0.697  \n",
      "12    0       994  186   0.075170  24     0.089  0.747  0.702  \n",
      "13    0       565  650   0.073247  26     0.088  0.753  0.705  \n",
      "14    0       1071  486   0.071600  28     0.087  0.759  0.707  \n",
      "15    0       886  621   0.070110  30     0.087  0.764  0.709  \n",
      "16    0       136  -1    0.068602  31     0.085  0.769  0.713  \n",
      "17    0       338  236   0.066939  33     0.085  0.774  0.716  \n",
      "18    0       284  -1    0.065724  34     0.084  0.779  0.719  \n",
      "19    0       463  -1    0.064470  35     0.083  0.783  0.722  \n",
      "20    0       896  605   0.063216  37     0.082  0.787  0.723  \n",
      "21    0       1146  615   0.062025  39     0.082  0.791  0.724  \n",
      "22    0       930  134   0.060837  41     0.082  0.795  0.725  \n",
      "23    0       195  218   0.059686  43     0.082  0.799  0.726  \n",
      "24    0       220  534   0.058655  45     0.082  0.802  0.726  \n",
      "25    0       204  576   0.057283  47     0.081  0.807  0.728  \n",
      "26    0       823  354   0.055969  49     0.080  0.811  0.730  \n",
      "27    0       1089  677   0.054884  51     0.080  0.815  0.731  \n",
      "28    0       1164  489   0.053937  53     0.080  0.818  0.731  \n",
      "29    0       217  605   0.052845  55     0.080  0.822  0.732  \n",
      "30    0       1231  574   0.051824  57     0.080  0.825  0.733  \n",
      "31    0       1210  518   0.050255  59     0.078  0.831  0.736  \n",
      "32    0       897  208   0.049128  61     0.078  0.834  0.738  \n",
      "33    0       1231  592   0.048177  63     0.078  0.838  0.738  \n",
      "34    0       1193  144   0.047216  65     0.078  0.841  0.739  \n",
      "35    0       1016  629   0.046299  67     0.078  0.844  0.740  \n",
      "36    0       1011  160   0.045461  69     0.077  0.847  0.740  \n",
      "37    0       313  163   0.044598  71     0.077  0.850  0.740  \n",
      "38    0       314  143   0.043761  73     0.077  0.853  0.740  \n",
      "39    0       1096  -1    0.042840  74     0.076  0.856  0.743  \n",
      "40    0       263  -1    0.041983  75     0.076  0.859  0.746  \n",
      "41    0       202  625   0.041045  77     0.075  0.862  0.747  \n",
      "42    0       871  -1    0.040424  78     0.075  0.864  0.749  \n",
      "43    0       99   289   0.039788  80     0.075  0.866  0.748  \n",
      "44    0       371  103   0.038923  82     0.075  0.869  0.749  \n",
      "45    0       33   -1    0.038245  83     0.074  0.871  0.751  \n",
      "46    0       39   596   0.037183  85     0.073  0.875  0.753  \n",
      "47    0       313  580   0.036547  87     0.074  0.877  0.753  \n",
      "48    0       498  -1    0.035924  88     0.073  0.879  0.754  \n",
      "49    0       944  43    0.035302  90     0.073  0.881  0.754  \n",
      "50    0       947  133   0.034701  92     0.073  0.883  0.753  \n",
      "51    0       141  -1    0.034100  93     0.073  0.885  0.755  \n",
      "52    0       506  -1    0.033575  94     0.072  0.887  0.756  \n",
      "53    0       307  579   0.032907  96     0.072  0.889  0.756  \n",
      "54    0       885  523   0.032415  98     0.073  0.891  0.755  \n",
      "55    0       993  193   0.031819  100    0.073  0.893  0.755  \n",
      "56    0       488  -1    0.031289  101    0.073  0.895  0.756  \n",
      "57    0       59   125   0.030797  103    0.073  0.896  0.755  \n",
      "58    0       574  269   0.030274  105    0.073  0.898  0.754  \n",
      "59    0       1074  659   0.029754  107    0.074  0.900  0.753  \n",
      "60    0       968  370   0.029095  109    0.073  0.902  0.753  \n",
      "61    0       261  171   0.028528  111    0.074  0.904  0.753  \n",
      "62    0       178  5     0.027928  113    0.074  0.906  0.752  \n",
      "63    0       708  632   0.027338  115    0.074  0.908  0.752  \n",
      "64    0       935  218   0.026821  117    0.074  0.910  0.751  \n",
      "65    0       1110  116   0.026309  119    0.074  0.911  0.750  \n",
      "66    0       68   188   0.025828  121    0.075  0.913  0.749  \n",
      "67    0       1223  669   0.025347  123    0.075  0.915  0.748  \n",
      "68    0       616  202   0.024841  125    0.075  0.916  0.747  \n",
      "69    0       1164  116   0.024469  127    0.076  0.918  0.745  \n",
      "70    0       250  234   0.024131  129    0.077  0.919  0.742  \n",
      "71    0       35   -1    0.023828  130    0.077  0.920  0.742  \n",
      "72    0       172  487   0.023510  132    0.078  0.921  0.739  \n",
      "73    0       865  -1    0.023230  133    0.078  0.922  0.739  \n",
      "---------------------------------------------------------------\n",
      "Stopping Condition 2: Improvement below threshold\n",
      "Beginning pruning pass\n",
      "--------------------------------------------\n",
      "iter  bf  terms  mse   gcv    rsq    grsq   \n",
      "--------------------------------------------\n",
      "0     -   133    0.02  0.078  0.922  0.739  \n",
      "1     4   132    0.02  0.077  0.922  0.743  \n",
      "2     56  131    0.02  0.076  0.922  0.746  \n",
      "3     21  130    0.02  0.075  0.922  0.749  \n",
      "4     51  129    0.02  0.074  0.922  0.752  \n",
      "5     115  128    0.02  0.073  0.922  0.756  \n",
      "6     122  127    0.02  0.072  0.922  0.759  \n",
      "7     50  126    0.02  0.071  0.922  0.761  \n",
      "8     16  125    0.02  0.070  0.922  0.764  \n",
      "9     125  124    0.02  0.070  0.922  0.766  \n",
      "10    130  123    0.02  0.069  0.922  0.769  \n",
      "11    94  122    0.02  0.068  0.922  0.771  \n",
      "12    71  121    0.02  0.067  0.921  0.773  \n",
      "13    86  120    0.02  0.067  0.921  0.776  \n",
      "14    29  119    0.02  0.066  0.921  0.778  \n",
      "15    32  118    0.02  0.065  0.921  0.781  \n",
      "16    68  117    0.02  0.065  0.921  0.783  \n",
      "17    64  116    0.02  0.064  0.921  0.785  \n",
      "18    105  115    0.02  0.063  0.921  0.787  \n",
      "19    43  114    0.02  0.063  0.921  0.789  \n",
      "20    107  113    0.02  0.062  0.920  0.791  \n",
      "21    127  112    0.02  0.062  0.920  0.792  \n",
      "22    19  111    0.02  0.061  0.920  0.794  \n",
      "23    8   110    0.02  0.061  0.920  0.795  \n",
      "24    15  109    0.02  0.061  0.919  0.797  \n",
      "25    110  108    0.02  0.060  0.919  0.798  \n",
      "26    81  107    0.02  0.060  0.918  0.799  \n",
      "27    54  106    0.02  0.060  0.918  0.800  \n",
      "28    60  105    0.02  0.059  0.917  0.800  \n",
      "29    76  104    0.02  0.059  0.917  0.801  \n",
      "30    111  103    0.02  0.059  0.916  0.802  \n",
      "31    91  102    0.03  0.059  0.916  0.803  \n",
      "32    114  101    0.03  0.059  0.915  0.803  \n",
      "33    25  100    0.03  0.058  0.914  0.804  \n",
      "34    48  99     0.03  0.058  0.914  0.805  \n",
      "35    128  98     0.03  0.058  0.913  0.806  \n",
      "36    120  97     0.03  0.058  0.913  0.806  \n",
      "37    119  96     0.03  0.058  0.912  0.806  \n",
      "38    132  95     0.03  0.058  0.911  0.807  \n",
      "39    5   94     0.03  0.057  0.910  0.807  \n",
      "40    63  93     0.03  0.057  0.910  0.808  \n",
      "41    124  92     0.03  0.057  0.909  0.808  \n",
      "42    117  91     0.03  0.057  0.908  0.808  \n",
      "43    85  90     0.03  0.057  0.908  0.809  \n",
      "44    69  89     0.03  0.057  0.907  0.810  \n",
      "45    123  88     0.03  0.057  0.906  0.810  \n",
      "46    129  87     0.03  0.056  0.906  0.811  \n",
      "47    39  86     0.03  0.056  0.905  0.810  \n",
      "48    83  85     0.03  0.057  0.903  0.810  \n",
      "49    131  84     0.03  0.057  0.902  0.809  \n",
      "50    126  83     0.03  0.057  0.901  0.808  \n",
      "51    38  82     0.03  0.057  0.899  0.807  \n",
      "52    62  81     0.03  0.058  0.898  0.806  \n",
      "53    55  80     0.03  0.058  0.897  0.807  \n",
      "54    112  79     0.03  0.058  0.896  0.806  \n",
      "55    89  78     0.03  0.058  0.895  0.807  \n",
      "56    108  77     0.03  0.058  0.894  0.806  \n",
      "57    113  76     0.03  0.058  0.893  0.805  \n",
      "58    97  75     0.03  0.058  0.891  0.804  \n",
      "59    96  74     0.03  0.058  0.890  0.805  \n",
      "60    12  73     0.03  0.058  0.888  0.803  \n",
      "61    11  72     0.03  0.059  0.887  0.803  \n",
      "62    87  71     0.03  0.059  0.885  0.801  \n",
      "63    116  70     0.03  0.060  0.883  0.800  \n",
      "64    18  69     0.04  0.060  0.882  0.799  \n",
      "65    74  68     0.04  0.060  0.880  0.798  \n",
      "66    90  67     0.04  0.060  0.878  0.797  \n",
      "67    36  66     0.04  0.061  0.876  0.795  \n",
      "68    35  65     0.04  0.061  0.875  0.794  \n",
      "69    44  64     0.04  0.062  0.873  0.793  \n",
      "70    118  63     0.04  0.062  0.870  0.791  \n",
      "71    121  62     0.04  0.062  0.869  0.790  \n",
      "72    6   61     0.04  0.063  0.866  0.788  \n",
      "73    79  60     0.04  0.063  0.864  0.787  \n",
      "74    78  59     0.04  0.064  0.862  0.786  \n",
      "75    80  58     0.04  0.064  0.860  0.784  \n",
      "76    84  57     0.04  0.065  0.858  0.783  \n",
      "77    101  56     0.04  0.065  0.856  0.781  \n",
      "78    102  55     0.04  0.066  0.854  0.780  \n",
      "79    103  54     0.04  0.066  0.851  0.778  \n",
      "80    45  53     0.04  0.067  0.849  0.776  \n",
      "81    26  52     0.05  0.067  0.846  0.774  \n",
      "82    104  51     0.05  0.068  0.843  0.772  \n",
      "83    106  50     0.05  0.068  0.841  0.770  \n",
      "84    59  49     0.05  0.069  0.839  0.769  \n",
      "85    109  48     0.05  0.069  0.836  0.768  \n",
      "86    41  47     0.05  0.070  0.834  0.766  \n",
      "87    42  46     0.05  0.070  0.832  0.765  \n",
      "88    99  45     0.05  0.071  0.829  0.763  \n",
      "89    23  44     0.05  0.071  0.828  0.763  \n",
      "90    14  43     0.05  0.071  0.825  0.761  \n",
      "91    92  42     0.05  0.072  0.821  0.758  \n",
      "92    95  41     0.05  0.072  0.819  0.757  \n",
      "93    22  40     0.05  0.073  0.816  0.755  \n",
      "94    82  39     0.06  0.074  0.813  0.752  \n",
      "95    49  38     0.06  0.074  0.810  0.750  \n",
      "96    52  37     0.06  0.075  0.806  0.748  \n",
      "97    70  36     0.06  0.076  0.802  0.745  \n",
      "98    72  35     0.06  0.076  0.801  0.745  \n",
      "99    100  34     0.06  0.077  0.797  0.742  \n",
      "100   47  33     0.06  0.078  0.793  0.739  \n",
      "101   88  32     0.06  0.079  0.789  0.736  \n",
      "102   93  31     0.06  0.079  0.785  0.733  \n",
      "103   98  30     0.07  0.080  0.781  0.730  \n",
      "104   30  29     0.07  0.081  0.776  0.726  \n",
      "105   2   28     0.07  0.082  0.772  0.724  \n",
      "106   1   27     0.07  0.083  0.768  0.721  \n",
      "107   46  26     0.07  0.084  0.764  0.718  \n",
      "108   34  25     0.07  0.085  0.761  0.716  \n",
      "109   75  24     0.07  0.085  0.757  0.713  \n",
      "110   24  23     0.07  0.086  0.752  0.710  \n",
      "111   73  22     0.08  0.088  0.747  0.706  \n",
      "112   77  21     0.08  0.089  0.742  0.702  \n",
      "113   33  20     0.08  0.089  0.738  0.700  \n",
      "114   27  19     0.08  0.091  0.732  0.696  \n",
      "115   53  18     0.08  0.092  0.726  0.692  \n",
      "116   61  17     0.08  0.093  0.721  0.687  \n",
      "117   57  16     0.08  0.093  0.718  0.686  \n",
      "118   58  15     0.08  0.093  0.717  0.688  \n",
      "119   17  14     0.09  0.094  0.711  0.683  \n",
      "120   10  13     0.09  0.095  0.705  0.680  \n",
      "121   40  12     0.09  0.096  0.700  0.676  \n",
      "122   31  11     0.09  0.098  0.693  0.671  \n",
      "123   37  10     0.09  0.100  0.685  0.665  \n",
      "124   28  9      0.10  0.103  0.673  0.654  \n",
      "125   9   8      0.10  0.107  0.658  0.641  \n",
      "126   7   7      0.11  0.112  0.638  0.623  \n",
      "127   67  6      0.11  0.119  0.613  0.600  \n",
      "128   65  5      0.12  0.121  0.605  0.594  \n",
      "129   3   4      0.12  0.125  0.589  0.580  \n",
      "130   66  3      0.12  0.124  0.587  0.582  \n",
      "131   20  2      0.15  0.154  0.487  0.483  \n",
      "132   13  1      0.30  0.298  0.000  0.000  \n",
      "--------------------------------------------\n",
      "Selected iteration: 46\n"
     ]
    },
    {
     "output_type": "execute_result",
     "data": {
      "text/plain": [
       "Earth(feature_importance_type=('rss', 'gcv', 'nb_subsets'), minspan_alpha=0.5,\n",
       "      verbose=True)"
      ]
     },
     "metadata": {},
     "execution_count": 4
    }
   ],
   "source": [
    "#Fit an Earth model\n",
    "criteria = ('rss', 'gcv', 'nb_subsets')\n",
    "model = Earth(enable_pruning = True,\n",
    "            #   max_degree=3,\n",
    "            #   max_terms=10,\n",
    "              minspan_alpha=.5,\n",
    "              feature_importance_type=criteria,\n",
    "              verbose=True)\n",
    "model.fit(X,y,xlabels=xlabels)\n"
   ]
  },
  {
   "cell_type": "code",
   "execution_count": null,
   "metadata": {},
   "outputs": [],
   "source": [
    "# #Print the model\n",
    "# print(model.trace())\n",
    "# print(model.summary())"
   ]
  },
  {
   "source": [
    "* Feature Importance"
   ],
   "cell_type": "markdown",
   "metadata": {}
  },
  {
   "cell_type": "code",
   "execution_count": 6,
   "metadata": {},
   "outputs": [
    {
     "output_type": "stream",
     "name": "stdout",
     "text": [
      "             rss    gcv    nb_subsets\nBKK006_w     0.53   0.63   0.01          \nBKK007_w     0.12   0.13   0.05          \nDNP024_w     0.03   0.03   0.02          \nGLF002_w     0.03   0.02   0.02          \nTB0003_r     0.02   0.02   0.02          \nWEI061_r     0.02   0.02   0.02          \nWEI131_r     0.01   0.01   0.02          \nTB0002_w     0.01   0.01   0.02          \nNKO002_w     0.01   0.01   0.02          \nCPY009_w     0.01   0.01   0.02          \nDIV003_r     0.01   0.01   0.02          \nSACS_r       0.01   0.01   0.02          \nPIN001_w     0.01   0.01   0.01          \nBKK002_w     0.01   0.01   0.02          \nWEI051_r     0.01   0.00   0.01          \nDNP004_r     0.01   0.00   0.02          \nCHI005_r     0.00   0.00   0.01          \nPDAM_r       0.00   0.00   0.01          \nPANC_r       0.00   0.00   0.01          \nBLUG_r       0.00   0.00   0.02          \nRCHM_r       0.01   0.00   0.02          \nBSDE_r       0.00   0.00   0.02          \nKWN001_r     0.01   0.00   0.02          \nKGKG_r       0.00   0.00   0.01          \nCPYD_r       0.00   0.00   0.02          \nBKK001_r     0.00   0.00   0.01          \nWGRY_r       0.00   0.00   0.02          \nCHI010_r     0.00   0.00   0.01          \nBKK019_w     0.00   0.00   0.02          \nNGCG_r       0.01   0.00   0.02          \nNOPU_r       0.00   0.00   0.01          \nWEI111_r     0.00   0.00   0.02          \nVLGE11_r     0.00   0.00   0.02          \nBKK007_r     0.00   0.00   0.02          \nCPY010_w     0.00   0.00   0.02          \nRAJ001_w     0.00   0.00   0.02          \nPAS009_r     0.00   0.00   0.01          \nWEI151_w     0.01   0.00   0.03          \nDIV001_r     0.00   0.00   0.02          \nGLF001_w     0.00   0.00   0.02          \nHKNL_r       0.00   0.00   0.01          \nWEI122_r     0.00   0.00   0.02          \nCPY014_w     0.00   0.00   0.02          \nWGSA_r       0.00   0.00   0.02          \nBPK001_w     0.00   0.00   0.02          \nMKG006_r     0.00   0.00   0.02          \nTAKL_r       0.00   0.00   0.0\n"
     ]
    }
   ],
   "source": [
    "print(model.summary_feature_importances(sort_by='gcv')[:2000])"
   ]
  },
  {
   "source": [
    "# MARS feature selection (Times interval perspective)"
   ],
   "cell_type": "markdown",
   "metadata": {}
  },
  {
   "cell_type": "code",
   "execution_count": 7,
   "metadata": {},
   "outputs": [
    {
     "output_type": "execute_result",
     "data": {
      "text/plain": [
       "((731, 1245), (0, 4980))"
      ]
     },
     "metadata": {},
     "execution_count": 7
    }
   ],
   "source": [
    "n_timelag=7\n",
    "\n",
    "reframed_data = series_to_supervised(X_in.iloc[:20,:], n_in= 3,n_out=1)\n",
    "# not work\n",
    "X_in.shape,reframed_data.shape"
   ]
  },
  {
   "cell_type": "code",
   "execution_count": 8,
   "metadata": {},
   "outputs": [],
   "source": [
    "def to_sub(df,n_in=5,n_out=3):\n",
    "    df_in = df.shift(n_in)\n",
    "    df_out = df.shift(-n_out)\n",
    "    return df_in"
   ]
  },
  {
   "cell_type": "code",
   "execution_count": 9,
   "metadata": {},
   "outputs": [
    {
     "output_type": "stream",
     "name": "stdout",
     "text": [
      "            ACRU_r  ANLI_r  BAKI_r  BARI_r  BBHN_r\ndate                                              \n2013-01-01     0.0     0.0     0.0     0.0     0.0\n2013-01-02     0.0     0.0     0.0     0.0     0.0\n2013-01-03     0.0     0.0     0.0     0.0     0.0\n2013-01-04     0.0     0.0     0.0     0.0     0.2\n2013-01-05     0.0     0.0     0.0     0.0     0.2\n            ACRU_r  ANLI_r  BAKI_r  BARI_r  BBHN_r\ndate                                              \n2013-01-01     NaN     NaN     NaN     NaN     NaN\n2013-01-02     NaN     NaN     NaN     NaN     NaN\n2013-01-03     NaN     NaN     NaN     NaN     NaN\n2013-01-04     NaN     NaN     NaN     NaN     NaN\n2013-01-05     NaN     NaN     NaN     NaN     NaN\n"
     ]
    }
   ],
   "source": [
    "test = X_in.iloc[:,:5]\n",
    "\n",
    "print(test.head())\n",
    "print(to_sub(test).head())"
   ]
  },
  {
   "cell_type": "code",
   "execution_count": 11,
   "metadata": {},
   "outputs": [],
   "source": [
    "lookback= 7\n",
    "\n",
    "test_size=int(.3 * len(test))\n",
    "X=[]\n",
    "y=[]\n"
   ]
  },
  {
   "cell_type": "code",
   "execution_count": 12,
   "metadata": {},
   "outputs": [
    {
     "output_type": "error",
     "ename": "TypeError",
     "evalue": "'([0], slice(None, None, None))' is an invalid key",
     "traceback": [
      "\u001b[0;31m---------------------------------------------------------------------------\u001b[0m",
      "\u001b[0;31mTypeError\u001b[0m                                 Traceback (most recent call last)",
      "\u001b[0;32m<ipython-input-12-d983b1785bfd>\u001b[0m in \u001b[0;36m<module>\u001b[0;34m\u001b[0m\n\u001b[1;32m      3\u001b[0m     \u001b[0;32mfor\u001b[0m \u001b[0mj\u001b[0m \u001b[0;32min\u001b[0m \u001b[0mrange\u001b[0m\u001b[0;34m(\u001b[0m\u001b[0;36m0\u001b[0m\u001b[0;34m,\u001b[0m\u001b[0mlookback\u001b[0m\u001b[0;34m)\u001b[0m\u001b[0;34m:\u001b[0m\u001b[0;34m\u001b[0m\u001b[0;34m\u001b[0m\u001b[0m\n\u001b[1;32m      4\u001b[0m \u001b[0;34m\u001b[0m\u001b[0m\n\u001b[0;32m----> 5\u001b[0;31m         \u001b[0mt\u001b[0m\u001b[0;34m.\u001b[0m\u001b[0mappend\u001b[0m\u001b[0;34m(\u001b[0m\u001b[0mtest\u001b[0m\u001b[0;34m[\u001b[0m\u001b[0;34m[\u001b[0m\u001b[0;34m(\u001b[0m\u001b[0mi\u001b[0m\u001b[0;34m+\u001b[0m\u001b[0mj\u001b[0m\u001b[0;34m)\u001b[0m\u001b[0;34m]\u001b[0m\u001b[0;34m,\u001b[0m \u001b[0;34m:\u001b[0m\u001b[0;34m]\u001b[0m\u001b[0;34m)\u001b[0m\u001b[0;34m\u001b[0m\u001b[0;34m\u001b[0m\u001b[0m\n\u001b[0m\u001b[1;32m      6\u001b[0m     \u001b[0mX\u001b[0m\u001b[0;34m.\u001b[0m\u001b[0mappend\u001b[0m\u001b[0;34m(\u001b[0m\u001b[0mt\u001b[0m\u001b[0;34m)\u001b[0m\u001b[0;34m\u001b[0m\u001b[0;34m\u001b[0m\u001b[0m\n\u001b[1;32m      7\u001b[0m     \u001b[0my\u001b[0m\u001b[0;34m.\u001b[0m\u001b[0mappend\u001b[0m\u001b[0;34m(\u001b[0m\u001b[0mtest\u001b[0m\u001b[0;34m[\u001b[0m\u001b[0mi\u001b[0m\u001b[0;34m+\u001b[0m \u001b[0mlookback\u001b[0m\u001b[0;34m,\u001b[0m\u001b[0;36m1\u001b[0m\u001b[0;34m]\u001b[0m\u001b[0;34m)\u001b[0m\u001b[0;34m\u001b[0m\u001b[0;34m\u001b[0m\u001b[0m\n",
      "\u001b[0;32m~/anaconda3/envs/tf/lib/python3.8/site-packages/pandas/core/frame.py\u001b[0m in \u001b[0;36m__getitem__\u001b[0;34m(self, key)\u001b[0m\n\u001b[1;32m   2900\u001b[0m             \u001b[0;32mif\u001b[0m \u001b[0mself\u001b[0m\u001b[0;34m.\u001b[0m\u001b[0mcolumns\u001b[0m\u001b[0;34m.\u001b[0m\u001b[0mnlevels\u001b[0m \u001b[0;34m>\u001b[0m \u001b[0;36m1\u001b[0m\u001b[0;34m:\u001b[0m\u001b[0;34m\u001b[0m\u001b[0;34m\u001b[0m\u001b[0m\n\u001b[1;32m   2901\u001b[0m                 \u001b[0;32mreturn\u001b[0m \u001b[0mself\u001b[0m\u001b[0;34m.\u001b[0m\u001b[0m_getitem_multilevel\u001b[0m\u001b[0;34m(\u001b[0m\u001b[0mkey\u001b[0m\u001b[0;34m)\u001b[0m\u001b[0;34m\u001b[0m\u001b[0;34m\u001b[0m\u001b[0m\n\u001b[0;32m-> 2902\u001b[0;31m             \u001b[0mindexer\u001b[0m \u001b[0;34m=\u001b[0m \u001b[0mself\u001b[0m\u001b[0;34m.\u001b[0m\u001b[0mcolumns\u001b[0m\u001b[0;34m.\u001b[0m\u001b[0mget_loc\u001b[0m\u001b[0;34m(\u001b[0m\u001b[0mkey\u001b[0m\u001b[0;34m)\u001b[0m\u001b[0;34m\u001b[0m\u001b[0;34m\u001b[0m\u001b[0m\n\u001b[0m\u001b[1;32m   2903\u001b[0m             \u001b[0;32mif\u001b[0m \u001b[0mis_integer\u001b[0m\u001b[0;34m(\u001b[0m\u001b[0mindexer\u001b[0m\u001b[0;34m)\u001b[0m\u001b[0;34m:\u001b[0m\u001b[0;34m\u001b[0m\u001b[0;34m\u001b[0m\u001b[0m\n\u001b[1;32m   2904\u001b[0m                 \u001b[0mindexer\u001b[0m \u001b[0;34m=\u001b[0m \u001b[0;34m[\u001b[0m\u001b[0mindexer\u001b[0m\u001b[0;34m]\u001b[0m\u001b[0;34m\u001b[0m\u001b[0;34m\u001b[0m\u001b[0m\n",
      "\u001b[0;32m~/anaconda3/envs/tf/lib/python3.8/site-packages/pandas/core/indexes/base.py\u001b[0m in \u001b[0;36mget_loc\u001b[0;34m(self, key, method, tolerance)\u001b[0m\n\u001b[1;32m   2893\u001b[0m             \u001b[0mcasted_key\u001b[0m \u001b[0;34m=\u001b[0m \u001b[0mself\u001b[0m\u001b[0;34m.\u001b[0m\u001b[0m_maybe_cast_indexer\u001b[0m\u001b[0;34m(\u001b[0m\u001b[0mkey\u001b[0m\u001b[0;34m)\u001b[0m\u001b[0;34m\u001b[0m\u001b[0;34m\u001b[0m\u001b[0m\n\u001b[1;32m   2894\u001b[0m             \u001b[0;32mtry\u001b[0m\u001b[0;34m:\u001b[0m\u001b[0;34m\u001b[0m\u001b[0;34m\u001b[0m\u001b[0m\n\u001b[0;32m-> 2895\u001b[0;31m                 \u001b[0;32mreturn\u001b[0m \u001b[0mself\u001b[0m\u001b[0;34m.\u001b[0m\u001b[0m_engine\u001b[0m\u001b[0;34m.\u001b[0m\u001b[0mget_loc\u001b[0m\u001b[0;34m(\u001b[0m\u001b[0mcasted_key\u001b[0m\u001b[0;34m)\u001b[0m\u001b[0;34m\u001b[0m\u001b[0;34m\u001b[0m\u001b[0m\n\u001b[0m\u001b[1;32m   2896\u001b[0m             \u001b[0;32mexcept\u001b[0m \u001b[0mKeyError\u001b[0m \u001b[0;32mas\u001b[0m \u001b[0merr\u001b[0m\u001b[0;34m:\u001b[0m\u001b[0;34m\u001b[0m\u001b[0;34m\u001b[0m\u001b[0m\n\u001b[1;32m   2897\u001b[0m                 \u001b[0;32mraise\u001b[0m \u001b[0mKeyError\u001b[0m\u001b[0;34m(\u001b[0m\u001b[0mkey\u001b[0m\u001b[0;34m)\u001b[0m \u001b[0;32mfrom\u001b[0m \u001b[0merr\u001b[0m\u001b[0;34m\u001b[0m\u001b[0;34m\u001b[0m\u001b[0m\n",
      "\u001b[0;32mpandas/_libs/index.pyx\u001b[0m in \u001b[0;36mpandas._libs.index.IndexEngine.get_loc\u001b[0;34m()\u001b[0m\n",
      "\u001b[0;32mpandas/_libs/index.pyx\u001b[0m in \u001b[0;36mpandas._libs.index.IndexEngine.get_loc\u001b[0;34m()\u001b[0m\n",
      "\u001b[0;31mTypeError\u001b[0m: '([0], slice(None, None, None))' is an invalid key"
     ]
    }
   ],
   "source": [
    "for i in range(len(test)-lookback-1):\n",
    "    t=[]\n",
    "    for j in range(0,lookback):\n",
    "        \n",
    "        t.append(test[[(i+j)], :])\n",
    "    X.append(t)\n",
    "    y.append(test[i+ lookback,1])"
   ]
  },
  {
   "cell_type": "code",
   "execution_count": null,
   "metadata": {},
   "outputs": [],
   "source": []
  }
 ]
}