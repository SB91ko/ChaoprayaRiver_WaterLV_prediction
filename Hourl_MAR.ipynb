{
 "cells": [
  {
   "cell_type": "markdown",
   "metadata": {},
   "source": [
    "# Load Data"
   ]
  },
  {
   "cell_type": "code",
   "execution_count": 1,
   "metadata": {},
   "outputs": [],
   "source": [
    "from pyearth import Earth\n",
    "from DLtools.Data_preprocess import series_to_supervised,load_data\n",
    "from DLtools.Data import load_data,instant_data,check_specific_col\n",
    "\n",
    "import numpy as np\n",
    "import pandas as pd"
   ]
  },
  {
   "cell_type": "code",
   "execution_count": 2,
   "metadata": {},
   "outputs": [],
   "source": [
    "# loaddata = load_data()\n",
    "# df_d = loaddata.daily()\n",
    "# df_h = loaddata.hourly()\n",
    "###################################\n",
    "loading = instant_data()\n",
    "df_h = loading.hourly_instant()\n"
   ]
  },
  {
   "source": [
    "# Missing data handle"
   ],
   "cell_type": "markdown",
   "metadata": {}
  },
  {
   "cell_type": "code",
   "execution_count": 3,
   "metadata": {},
   "outputs": [],
   "source": [
    "data = df_h['2013-01-01':'2017-12-31'].interpolate(limit=24)\n",
    "\n",
    "for col in data.columns:\n",
    "    if data[col].count()<len(data[col])*.8:\n",
    "        data = data.drop(col, axis=1)\n",
    "data = data.apply(lambda x: x.fillna(x.mean()),axis=0)"
   ]
  },
  {
   "cell_type": "code",
   "execution_count": 4,
   "metadata": {},
   "outputs": [],
   "source": [
    "TARGET = 'CPY015_wl'\n",
    "\n",
    "## Period 2013-2017 ##\n",
    "#data = df_h['2013-01-01':'2017-12-31']\n",
    "\n",
    "## Shift target station to future \n",
    "n_out = 7*24                            #next 7 day\n",
    "data[TARGET]=data[TARGET].shift(-n_out)\n",
    "data = data.astype('float64').dropna()\n",
    "\n",
    "X = data.drop([TARGET],axis=1)\n",
    "xlabels = list(X.columns)\n",
    "\n",
    "X = X.values\n",
    "y = data[TARGET].values"
   ]
  },
  {
   "cell_type": "markdown",
   "metadata": {},
   "source": [
    "# MARS feature selection (from all stations)"
   ]
  },
  {
   "cell_type": "code",
   "execution_count": 5,
   "metadata": {},
   "outputs": [],
   "source": [
    "# #scale data since it's cannot run MARS in general\n",
    "# from sklearn.preprocessing import MinMaxScaler\n",
    "# # SCALE\n",
    "# scaler = MinMaxScaler()\n",
    "# data[data.columns] = scaler.fit_transform(data[data.columns])\n"
   ]
  },
  {
   "cell_type": "code",
   "execution_count": 6,
   "metadata": {},
   "outputs": [
    {
     "output_type": "stream",
     "name": "stdout",
     "text": [
      "Beginning forward pass\n",
      "---------------------------------------------------------------\n",
      "iter  parent  var  knot  mse       terms  gcv    rsq    grsq   \n",
      "---------------------------------------------------------------\n",
      "0     -       -    -     0.386767  1      0.387  0.000  0.000  \n",
      "1     0       11   31269  0.354590  3      0.355  0.083  0.083  \n",
      "2     0       72   37361  0.332809  5      0.333  0.140  0.139  \n",
      "3     0       94   31325  0.326307  7      0.327  0.156  0.156  \n",
      "4     0       23   38710  0.321806  9      0.322  0.168  0.167  \n",
      "5     0       67   39565  0.317401  11     0.318  0.179  0.178  \n",
      "6     0       64   26983  0.313958  13     0.314  0.188  0.187  \n",
      "7     0       39   12210  0.310348  15     0.311  0.198  0.196  \n",
      "8     0       76   29959  0.307666  17     0.308  0.205  0.203  \n",
      "9     0       66   36085  0.303649  19     0.304  0.215  0.213  \n",
      "10    0       92   34735  0.300840  21     0.302  0.222  0.220  \n",
      "11    0       75   12498  0.298676  23     0.299  0.228  0.226  \n",
      "12    0       144  32459  0.297128  25     0.298  0.232  0.230  \n",
      "13    0       68   19362  0.295739  27     0.297  0.235  0.233  \n",
      "14    0       43   10764  0.294472  29     0.295  0.239  0.236  \n",
      "15    0       36   21420  0.293144  31     0.294  0.242  0.239  \n",
      "16    0       72   20259  0.291963  33     0.293  0.245  0.242  \n",
      "17    0       73   31010  0.290888  35     0.292  0.248  0.245  \n",
      "18    0       73   34589  0.289589  37     0.291  0.251  0.248  \n",
      "19    0       7    22390  0.288733  39     0.290  0.253  0.250  \n",
      "20    0       9    11032  0.287630  41     0.289  0.256  0.253  \n",
      "21    0       35   30244  0.286664  43     0.288  0.259  0.255  \n",
      "22    0       90   24850  0.285614  45     0.287  0.262  0.258  \n",
      "23    0       67   6336  0.284582  47     0.286  0.264  0.260  \n",
      "24    0       63   26805  0.283733  49     0.285  0.266  0.262  \n",
      "25    0       12   14635  0.282863  51     0.285  0.269  0.264  \n",
      "26    0       72   30475  0.282095  53     0.284  0.271  0.266  \n",
      "27    0       126  15370  0.281370  55     0.283  0.273  0.268  \n",
      "28    0       84   41031  0.280695  57     0.283  0.274  0.270  \n",
      "29    0       161  14033  0.280129  59     0.282  0.276  0.271  \n",
      "30    0       10   5070  0.279592  61     0.282  0.277  0.272  \n",
      "31    0       10   12946  0.279015  63     0.281  0.279  0.273  \n",
      "32    0       28   37330  0.278492  65     0.281  0.280  0.275  \n",
      "33    0       91   11643  0.277951  67     0.280  0.281  0.276  \n",
      "34    0       66   13130  0.277452  69     0.280  0.283  0.277  \n",
      "35    0       91   8063  0.276920  71     0.279  0.284  0.278  \n",
      "36    0       74   32289  0.276381  73     0.279  0.285  0.279  \n",
      "37    0       60   31612  0.275852  75     0.278  0.287  0.281  \n",
      "38    0       147  35096  0.275305  77     0.278  0.288  0.282  \n",
      "39    0       87   26907  0.274815  79     0.277  0.289  0.283  \n",
      "40    0       87   14629  0.274246  81     0.277  0.291  0.284  \n",
      "41    0       34   29630  0.273782  83     0.276  0.292  0.285  \n",
      "42    0       93   34159  0.273299  85     0.276  0.293  0.287  \n",
      "43    0       66   6048  0.272780  87     0.275  0.295  0.288  \n",
      "44    0       100  25933  0.272279  89     0.275  0.296  0.289  \n",
      "45    0       18   38620  0.271834  91     0.275  0.297  0.290  \n",
      "46    0       63   42524  0.271432  93     0.274  0.298  0.291  \n",
      "47    0       99   8740  0.271032  95     0.274  0.299  0.292  \n",
      "48    0       3    6287  0.270663  97     0.274  0.300  0.292  \n",
      "---------------------------------------------------------------\n",
      "Stopping Condition 2: Improvement below threshold\n",
      "Beginning pruning pass\n",
      "--------------------------------------------\n",
      "iter  bf  terms  mse   gcv    rsq    grsq   \n",
      "--------------------------------------------\n",
      "0     -   97     0.27  0.274  0.300  0.292  \n",
      "1     62  96     0.27  0.274  0.300  0.292  \n",
      "2     91  95     0.27  0.274  0.300  0.293  \n",
      "3     46  94     0.27  0.274  0.300  0.293  \n",
      "4     17  93     0.27  0.274  0.300  0.293  \n",
      "5     51  92     0.27  0.274  0.300  0.293  \n",
      "6     31  91     0.27  0.274  0.300  0.293  \n",
      "7     70  90     0.27  0.273  0.300  0.293  \n",
      "8     77  89     0.27  0.273  0.300  0.293  \n",
      "9     33  88     0.27  0.273  0.300  0.293  \n",
      "10    86  87     0.27  0.273  0.300  0.293  \n",
      "11    21  86     0.27  0.273  0.300  0.293  \n",
      "12    7   85     0.27  0.273  0.300  0.293  \n",
      "13    87  84     0.27  0.273  0.300  0.293  \n",
      "14    57  83     0.27  0.273  0.300  0.293  \n",
      "15    20  82     0.27  0.273  0.300  0.293  \n",
      "16    39  81     0.27  0.273  0.300  0.293  \n",
      "17    4   80     0.27  0.273  0.300  0.293  \n",
      "18    11  79     0.27  0.273  0.300  0.293  \n",
      "19    29  78     0.27  0.273  0.300  0.293  \n",
      "20    49  77     0.27  0.273  0.300  0.293  \n",
      "21    53  76     0.27  0.273  0.299  0.293  \n",
      "22    96  75     0.27  0.273  0.299  0.293  \n",
      "23    60  74     0.27  0.273  0.299  0.293  \n",
      "24    94  73     0.27  0.273  0.299  0.293  \n",
      "25    81  72     0.27  0.273  0.299  0.293  \n",
      "26    41  71     0.27  0.273  0.299  0.293  \n",
      "27    47  70     0.27  0.274  0.298  0.293  \n",
      "28    68  69     0.27  0.274  0.298  0.293  \n",
      "29    27  68     0.27  0.274  0.298  0.292  \n",
      "30    90  67     0.27  0.274  0.298  0.292  \n",
      "31    74  66     0.27  0.274  0.297  0.292  \n",
      "32    75  65     0.27  0.274  0.297  0.292  \n",
      "33    37  64     0.27  0.274  0.297  0.292  \n",
      "34    65  63     0.27  0.274  0.296  0.291  \n",
      "35    73  62     0.27  0.274  0.296  0.291  \n",
      "36    6   61     0.27  0.275  0.295  0.290  \n",
      "37    23  60     0.27  0.275  0.294  0.290  \n",
      "38    93  59     0.27  0.275  0.294  0.289  \n",
      "39    83  58     0.27  0.275  0.293  0.289  \n",
      "40    25  57     0.27  0.275  0.293  0.288  \n",
      "41    44  56     0.27  0.276  0.292  0.287  \n",
      "42    56  55     0.27  0.276  0.291  0.287  \n",
      "43    79  54     0.27  0.276  0.291  0.286  \n",
      "44    40  53     0.27  0.276  0.290  0.286  \n",
      "45    42  52     0.27  0.277  0.289  0.285  \n",
      "46    71  51     0.28  0.277  0.288  0.284  \n",
      "47    88  50     0.28  0.277  0.287  0.283  \n",
      "48    72  49     0.28  0.277  0.287  0.283  \n",
      "49    69  48     0.28  0.278  0.286  0.282  \n",
      "50    58  47     0.28  0.278  0.284  0.281  \n",
      "51    80  46     0.28  0.279  0.283  0.280  \n",
      "52    89  45     0.28  0.279  0.282  0.278  \n",
      "53    35  44     0.28  0.280  0.281  0.277  \n",
      "54    2   43     0.28  0.280  0.279  0.276  \n",
      "55    82  42     0.28  0.280  0.278  0.275  \n",
      "56    85  41     0.28  0.281  0.277  0.274  \n",
      "57    67  40     0.28  0.281  0.276  0.273  \n",
      "58    66  39     0.28  0.282  0.275  0.272  \n",
      "59    95  38     0.28  0.282  0.273  0.270  \n",
      "60    78  37     0.28  0.283  0.272  0.269  \n",
      "61    63  36     0.28  0.283  0.270  0.267  \n",
      "62    54  35     0.28  0.284  0.269  0.266  \n",
      "63    55  34     0.28  0.285  0.267  0.264  \n",
      "64    52  33     0.28  0.285  0.265  0.262  \n",
      "65    32  32     0.28  0.286  0.264  0.262  \n",
      "66    92  31     0.29  0.286  0.262  0.260  \n",
      "67    48  30     0.29  0.287  0.262  0.259  \n",
      "68    64  29     0.29  0.287  0.260  0.257  \n",
      "69    76  28     0.29  0.288  0.258  0.256  \n",
      "70    36  27     0.29  0.289  0.256  0.254  \n",
      "71    34  26     0.29  0.289  0.254  0.252  \n",
      "72    24  25     0.29  0.290  0.252  0.250  \n",
      "73    5   24     0.29  0.291  0.249  0.247  \n",
      "74    45  23     0.29  0.292  0.247  0.245  \n",
      "75    26  22     0.29  0.293  0.244  0.242  \n",
      "76    38  21     0.29  0.294  0.241  0.240  \n",
      "77    59  20     0.29  0.295  0.239  0.237  \n",
      "78    61  19     0.29  0.295  0.238  0.237  \n",
      "79    50  18     0.30  0.296  0.236  0.234  \n",
      "80    43  17     0.30  0.297  0.233  0.231  \n",
      "81    14  16     0.30  0.298  0.230  0.228  \n",
      "82    30  15     0.30  0.300  0.226  0.225  \n",
      "83    28  14     0.30  0.301  0.223  0.222  \n",
      "84    12  13     0.30  0.302  0.220  0.219  \n",
      "85    3   12     0.30  0.305  0.214  0.213  \n",
      "86    84  11     0.31  0.307  0.208  0.207  \n",
      "87    10  10     0.31  0.308  0.204  0.203  \n",
      "88    22  9      0.31  0.310  0.200  0.199  \n",
      "89    18  8      0.31  0.314  0.188  0.187  \n",
      "90    8   7      0.32  0.319  0.176  0.175  \n",
      "91    16  6      0.32  0.323  0.165  0.164  \n",
      "92    13  5      0.33  0.326  0.159  0.158  \n",
      "93    15  4      0.33  0.329  0.151  0.150  \n",
      "94    19  3      0.33  0.335  0.134  0.134  \n",
      "95    9   2      0.35  0.355  0.083  0.083  \n",
      "96    1   1      0.39  0.387  0.000  0.000  \n",
      "--------------------------------------------\n",
      "Selected iteration: 16\n"
     ]
    },
    {
     "output_type": "execute_result",
     "data": {
      "text/plain": [
       "Earth(feature_importance_type=('rss', 'gcv', 'nb_subsets'), minspan_alpha=0.5,\n",
       "      verbose=True)"
      ]
     },
     "metadata": {},
     "execution_count": 6
    }
   ],
   "source": [
    "#Fit an Earth model\n",
    "criteria = ('rss', 'gcv', 'nb_subsets')\n",
    "model = Earth(enable_pruning = True,\n",
    "            #   max_degree=3,\n",
    "            #  max_terms=20,\n",
    "              minspan_alpha=.5,\n",
    "              feature_importance_type=criteria,\n",
    "              verbose=True)\n",
    "model.fit(X,y,xlabels=xlabels)\n"
   ]
  },
  {
   "cell_type": "code",
   "execution_count": 7,
   "metadata": {},
   "outputs": [],
   "source": [
    "# #Print the model\n",
    "# print(model.trace())\n",
    "# print(model.summary())"
   ]
  },
  {
   "cell_type": "markdown",
   "metadata": {},
   "source": [
    "* Feature Importance"
   ]
  },
  {
   "cell_type": "code",
   "execution_count": 8,
   "metadata": {},
   "outputs": [
    {
     "output_type": "stream",
     "name": "stdout",
     "text": [
      "                  rss    gcv    nb_subsets\nCPY013_wl         0.28   0.29   0.02          \nDNP007_temp       0.19   0.20   0.04          \nDNP033_temp       0.06   0.06   0.02          \nDNP006_humid      0.06   0.06   0.02          \nDNP006_temp       0.05   0.05   0.06          \nGLF001_wl         0.04   0.04   0.02          \nPAS005_wl         0.03   0.03   0.02          \nDNP025_temp       0.03   0.03   0.06          \nDNP007_humid      0.02   0.02   0.02          \nDNP027_temp       0.02   0.02   0.\n"
     ]
    }
   ],
   "source": [
    "print(model.summary_feature_importances(sort_by='rss')[:500])"
   ]
  },
  {
   "cell_type": "code",
   "execution_count": 9,
   "metadata": {},
   "outputs": [],
   "source": [
    "def toDF(rank):\n",
    "    name,rss,gcv,nb_sub= list(),list(),list(),list()\n",
    "    for i in range(len(rank)):\n",
    "        if i%4==0:\n",
    "            name.append(rank[i])\n",
    "        elif i%4==1:\n",
    "            rss.append(rank[i])\n",
    "        elif i%4==2:\n",
    "            gcv.append(rank[i])\n",
    "        elif i%4==3:\n",
    "            nb_sub.append(rank[i])\n",
    "    data = {'feature':name,\n",
    "    'rss':rss,\n",
    "    'gcv':gcv,\n",
    "    'nb_subset':nb_sub}\n",
    "    score = pd.DataFrame(data)\n",
    "    return score"
   ]
  },
  {
   "cell_type": "code",
   "execution_count": 10,
   "metadata": {},
   "outputs": [],
   "source": [
    "nbsub = model.summary_feature_importances(sort_by='nb_subsets')[:2000].split()[3:83]\n",
    "gcv = model.summary_feature_importances(sort_by='gcv')[:2000].split()[3:83]\n",
    "rss = model.summary_feature_importances(sort_by='rss')[:2000].split()[3:83]\n"
   ]
  },
  {
   "cell_type": "code",
   "execution_count": 11,
   "metadata": {},
   "outputs": [],
   "source": [
    "rss = toDF(rss)\n",
    "gcv = toDF(gcv)\n",
    "nbsub = toDF(nbsub)"
   ]
  },
  {
   "cell_type": "code",
   "execution_count": 12,
   "metadata": {},
   "outputs": [
    {
     "output_type": "execute_result",
     "data": {
      "text/plain": [
       "          feature   rss   gcv nb_subset\n",
       "0       CPY013_wl  0.28  0.29      0.02\n",
       "1     DNP007_temp  0.19  0.20      0.04\n",
       "2     DNP033_temp  0.06  0.06      0.02\n",
       "3    DNP006_humid  0.06  0.06      0.02\n",
       "4     DNP006_temp  0.05  0.05      0.06\n",
       "5       GLF001_wl  0.04  0.04      0.02\n",
       "6       PAS005_wl  0.03  0.03      0.02\n",
       "7     DNP025_temp  0.03  0.03      0.06\n",
       "8    DNP007_humid  0.02  0.02      0.02\n",
       "9     DNP027_temp  0.02  0.02      0.04\n",
       "10    DNP032_temp  0.02  0.02      0.02\n",
       "11      PAS001_wl  0.01  0.01      0.02\n",
       "12   DNP028_press  0.01  0.01      0.04\n",
       "13    DNP002_temp  0.01  0.01      0.02\n",
       "14   DNP002_humid  0.01  0.01      0.02\n",
       "15    DNP008_temp  0.01  0.01      0.02\n",
       "16      PIN001_wl  0.01  0.01      0.02\n",
       "17      CPY012_wl  0.01  0.01      0.03\n",
       "18      NAN002_wl  0.01  0.01      0.02\n",
       "19   DNP010_humid  0.01  0.01      0.02\n",
       "43    CPY009_temp  0.01  0.01      0.04\n",
       "46   DNP004_humid  0.01  0.01      0.04\n",
       "49  KWN002_rain1h  0.01  0.01      0.02\n",
       "52  CPY015_rain1h  0.01  0.01      0.02\n",
       "53      YOM009_wl  0.00  0.00      0.02\n",
       "54      NAN013_wl  0.00  0.00      0.02\n",
       "56  DNP033_rain1h  0.01  0.01      0.02"
      ],
      "text/html": "<div>\n<style scoped>\n    .dataframe tbody tr th:only-of-type {\n        vertical-align: middle;\n    }\n\n    .dataframe tbody tr th {\n        vertical-align: top;\n    }\n\n    .dataframe thead th {\n        text-align: right;\n    }\n</style>\n<table border=\"1\" class=\"dataframe\">\n  <thead>\n    <tr style=\"text-align: right;\">\n      <th></th>\n      <th>feature</th>\n      <th>rss</th>\n      <th>gcv</th>\n      <th>nb_subset</th>\n    </tr>\n  </thead>\n  <tbody>\n    <tr>\n      <th>0</th>\n      <td>CPY013_wl</td>\n      <td>0.28</td>\n      <td>0.29</td>\n      <td>0.02</td>\n    </tr>\n    <tr>\n      <th>1</th>\n      <td>DNP007_temp</td>\n      <td>0.19</td>\n      <td>0.20</td>\n      <td>0.04</td>\n    </tr>\n    <tr>\n      <th>2</th>\n      <td>DNP033_temp</td>\n      <td>0.06</td>\n      <td>0.06</td>\n      <td>0.02</td>\n    </tr>\n    <tr>\n      <th>3</th>\n      <td>DNP006_humid</td>\n      <td>0.06</td>\n      <td>0.06</td>\n      <td>0.02</td>\n    </tr>\n    <tr>\n      <th>4</th>\n      <td>DNP006_temp</td>\n      <td>0.05</td>\n      <td>0.05</td>\n      <td>0.06</td>\n    </tr>\n    <tr>\n      <th>5</th>\n      <td>GLF001_wl</td>\n      <td>0.04</td>\n      <td>0.04</td>\n      <td>0.02</td>\n    </tr>\n    <tr>\n      <th>6</th>\n      <td>PAS005_wl</td>\n      <td>0.03</td>\n      <td>0.03</td>\n      <td>0.02</td>\n    </tr>\n    <tr>\n      <th>7</th>\n      <td>DNP025_temp</td>\n      <td>0.03</td>\n      <td>0.03</td>\n      <td>0.06</td>\n    </tr>\n    <tr>\n      <th>8</th>\n      <td>DNP007_humid</td>\n      <td>0.02</td>\n      <td>0.02</td>\n      <td>0.02</td>\n    </tr>\n    <tr>\n      <th>9</th>\n      <td>DNP027_temp</td>\n      <td>0.02</td>\n      <td>0.02</td>\n      <td>0.04</td>\n    </tr>\n    <tr>\n      <th>10</th>\n      <td>DNP032_temp</td>\n      <td>0.02</td>\n      <td>0.02</td>\n      <td>0.02</td>\n    </tr>\n    <tr>\n      <th>11</th>\n      <td>PAS001_wl</td>\n      <td>0.01</td>\n      <td>0.01</td>\n      <td>0.02</td>\n    </tr>\n    <tr>\n      <th>12</th>\n      <td>DNP028_press</td>\n      <td>0.01</td>\n      <td>0.01</td>\n      <td>0.04</td>\n    </tr>\n    <tr>\n      <th>13</th>\n      <td>DNP002_temp</td>\n      <td>0.01</td>\n      <td>0.01</td>\n      <td>0.02</td>\n    </tr>\n    <tr>\n      <th>14</th>\n      <td>DNP002_humid</td>\n      <td>0.01</td>\n      <td>0.01</td>\n      <td>0.02</td>\n    </tr>\n    <tr>\n      <th>15</th>\n      <td>DNP008_temp</td>\n      <td>0.01</td>\n      <td>0.01</td>\n      <td>0.02</td>\n    </tr>\n    <tr>\n      <th>16</th>\n      <td>PIN001_wl</td>\n      <td>0.01</td>\n      <td>0.01</td>\n      <td>0.02</td>\n    </tr>\n    <tr>\n      <th>17</th>\n      <td>CPY012_wl</td>\n      <td>0.01</td>\n      <td>0.01</td>\n      <td>0.03</td>\n    </tr>\n    <tr>\n      <th>18</th>\n      <td>NAN002_wl</td>\n      <td>0.01</td>\n      <td>0.01</td>\n      <td>0.02</td>\n    </tr>\n    <tr>\n      <th>19</th>\n      <td>DNP010_humid</td>\n      <td>0.01</td>\n      <td>0.01</td>\n      <td>0.02</td>\n    </tr>\n    <tr>\n      <th>43</th>\n      <td>CPY009_temp</td>\n      <td>0.01</td>\n      <td>0.01</td>\n      <td>0.04</td>\n    </tr>\n    <tr>\n      <th>46</th>\n      <td>DNP004_humid</td>\n      <td>0.01</td>\n      <td>0.01</td>\n      <td>0.04</td>\n    </tr>\n    <tr>\n      <th>49</th>\n      <td>KWN002_rain1h</td>\n      <td>0.01</td>\n      <td>0.01</td>\n      <td>0.02</td>\n    </tr>\n    <tr>\n      <th>52</th>\n      <td>CPY015_rain1h</td>\n      <td>0.01</td>\n      <td>0.01</td>\n      <td>0.02</td>\n    </tr>\n    <tr>\n      <th>53</th>\n      <td>YOM009_wl</td>\n      <td>0.00</td>\n      <td>0.00</td>\n      <td>0.02</td>\n    </tr>\n    <tr>\n      <th>54</th>\n      <td>NAN013_wl</td>\n      <td>0.00</td>\n      <td>0.00</td>\n      <td>0.02</td>\n    </tr>\n    <tr>\n      <th>56</th>\n      <td>DNP033_rain1h</td>\n      <td>0.01</td>\n      <td>0.01</td>\n      <td>0.02</td>\n    </tr>\n  </tbody>\n</table>\n</div>"
     },
     "metadata": {},
     "execution_count": 12
    }
   ],
   "source": [
    "#From top 20 rss,gcv,nbsub\n",
    "top20 = pd.concat([rss,gcv,nbsub],ignore_index=True).drop_duplicates('feature')\n",
    "top20"
   ]
  },
  {
   "cell_type": "code",
   "execution_count": 13,
   "metadata": {},
   "outputs": [],
   "source": [
    "top20.to_csv('featurelist_MAR_hourly_7d.csv',index=False)"
   ]
  },
  {
   "cell_type": "code",
   "execution_count": null,
   "metadata": {},
   "outputs": [],
   "source": []
  }
 ],
 "metadata": {
  "kernelspec": {
   "display_name": "Python 3",
   "language": "python",
   "name": "python3"
  },
  "language_info": {
   "codemirror_mode": {
    "name": "ipython",
    "version": 3
   },
   "file_extension": ".py",
   "mimetype": "text/x-python",
   "name": "python",
   "nbconvert_exporter": "python",
   "pygments_lexer": "ipython3",
   "version": "3.8.5-final"
  }
 },
 "nbformat": 4,
 "nbformat_minor": 2
}