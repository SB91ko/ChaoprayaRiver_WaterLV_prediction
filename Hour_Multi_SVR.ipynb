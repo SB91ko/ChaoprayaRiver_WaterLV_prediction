{
 "cells": [
  {
   "cell_type": "code",
   "execution_count": 1,
   "metadata": {},
   "outputs": [],
   "source": [
    "import pandas as pd\n",
    "import numpy as np\n",
    "import matplotlib.pyplot as plt\n",
    "\n",
    "import seaborn as sns\n",
    "\n",
    "import statsmodels.api as sm\n",
    "from sklearn.model_selection import train_test_split\n",
    "from DLtools.Data import load_data,instant_data,intersection,del_less_col\n",
    "from DLtools.evaluation_rec import real_eva_error, error_rec\n"
   ]
  },
  {
   "cell_type": "code",
   "execution_count": 2,
   "metadata": {},
   "outputs": [],
   "source": [
    "def record_result(y_train,y_test,trainPredict,testPredict,syn):\n",
    "    global save_path,error,n_past\n",
    "    \n",
    "    mse, nse,r2 = real_eva_error(trainY, trainPredict)\n",
    "    Tmse, Tnse,Tr2 = real_eva_error(testY, testPredict)\n",
    "\n",
    "    index = np.arange(len(trainY)+len(testY))\n",
    "    Y= pd.Series(data=trainY.values,index=index[:len(trainY)])\n",
    "    Yhat = pd.Series(data=(trainPredict),index=index[:len(trainY)])\n",
    "    Y_t= pd.Series(data=testY.values,index=index[-len(testY):])\n",
    "    Yhat_t = pd.Series(data=(testPredict),index=index[-len(testY):])\n",
    "    ##### Plot\n",
    "    plt.figure(figsize=(20,5))\n",
    "    plt.plot(Y, label = \"Actual\")\n",
    "    plt.plot(Yhat, label = \"Predict\")\n",
    "    plt.plot(Y_t, label = \"Actual_test\")\n",
    "    plt.plot(Yhat_t, label = \"Predict_test\")\n",
    "    \n",
    "    try:\n",
    "        plt.title('[SVR] ahead {} hours'.format(n_past)+'\\nWater Level CPY015 Forecast vs Actuals\\n'+'Train MSE: %.3f | NSE: %.3f | R2 score: %.3f' % (mse,nse,r2)+'\\nTest  MSE: %.3f | NSE: %.3f | R2 score: %.3f' % (Tmse,Tnse,Tr2))\n",
    "    except:\n",
    "        plt.title('[SVR] ahead {} hours'.format(n_past)+'\\nWater Level CPY015 Forecast vs Actuals\\n'+'Train MSE: {} | NSE: {} | R2 score: {}'.format(mse,nse,r2)+'\\nTest  MSE: {} | NSE: {} | R2 score: {}'.format(Tmse,Tnse,Tr2))\n",
    "    plt.legend()\n",
    "    plt.savefig(save_path+'result_SVR{}_{}hour.png'.format(syn,n_past), dpi=300, bbox_inches='tight')\n",
    "    ###### CSV output######\n",
    "    idx=['Modelname','Feature','n_in_time','batchsize','mse','nse','r2','Test_mse','Test_nse','Test_r2','Intercept','Coefficients']\n",
    "    col = ['SVR']\n",
    "    _df = pd.DataFrame([\"SVR\",[data.columns],\"None\",'None',mse, nse,r2,Tmse, Tnse,Tr2,[regr.intercept_], [regr.coef_]],index=idx,columns=col)\n",
    "    error = pd.concat([error,_df],axis=1)\n",
    "    error.to_csv('/home/song/Public/Song/Work/Thesis/output_cpy012/Hourly/eval.csv')\n"
   ]
  },
  {
   "cell_type": "code",
   "execution_count": null,
   "metadata": {},
   "outputs": [],
   "source": [
    "#creating a function to plot the graph and show the test result:\n",
    "def check_stationarity(y, lags_plots=48, figsize=(22,8)):\n",
    " \"\"\"“Use Series as parameter”\"\"\"\n",
    "    \n",
    "    y = pd.Series(y)\n",
    "    fig = plt.figure()\n",
    "    ax1 = plt.subplot2grid((3, 3), (0, 0), colspan=2)\n",
    "    ax2 = plt.subplot2grid((3, 3), (1, 0))\n",
    "    ax3 = plt.subplot2grid((3, 3), (1, 1))\n",
    "    ax4 = plt.subplot2grid((3, 3), (2, 0), colspan=2)\n",
    "    y.plot(ax=ax1, figsize=figsize, color=’teal’)\n",
    "    ax1.set_title(‘Crystal Sugar Price’)\n",
    "    plot_acf(y, lags=lags_plots, zero=False, ax=ax2, color=’teal’);\n",
    "    plot_pacf(y, lags=lags_plots, zero=False, ax=ax3, method=’ols’, color=’teal’);\n",
    "    sns.distplot(y, bins=int(sqrt(len(y))), ax=ax4, color=’teal’)\n",
    "    ax4.set_title(‘Price Distribution’)\n",
    "    plt.tight_layout()\n",
    "    \n",
    "    print(‘Dickey-Fuller test results:’)\n",
    "    adfinput = adfuller(y)\n",
    "    adftest = pd.Series(adfinput[0:4], index=[‘Statistical Test’,’P-Value’,’Used Lags’,’Observations Number’])\n",
    "    adftest = round(adftest,4)\n",
    "    \n",
    "    for key, value in adfinput[4].items():\n",
    "    adftest[“Critical Values (%s)”%key] = value.round(4)\n",
    "    \n",
    "    print(adftest)"
   ]
  },
  {
   "cell_type": "code",
   "execution_count": 3,
   "metadata": {},
   "outputs": [],
   "source": [
    "save_path='/home/song/Public/Song/Work/Thesis/output_cpy012/Hourly/SVR/'\n",
    "\n",
    "#load previous error rec\n",
    "idx=['Modelname','Feature','n_in_time','batchsize','mse','nse','r2','Test_mse','Test_nse','Test_r2']\n",
    "\n",
    "try: error = pd.read_csv('/home/song/Public/Song/Work/Thesis/output_cpy012/Hourly/eval.csv',index_col=0)\n",
    "except: error = pd.DataFrame(index = idx)"
   ]
  },
  {
   "cell_type": "markdown",
   "metadata": {},
   "source": [
    "# Load data"
   ]
  },
  {
   "cell_type": "code",
   "execution_count": 4,
   "metadata": {},
   "outputs": [],
   "source": [
    "# loaddata = load_data()\n",
    "# ame = loaddata.df_rain\n",
    "# kawa = loaddata.df_water\n",
    "# tenki = loaddata.df_weather\n",
    "# dam = loaddata.df_dam\n",
    "# df_d = loaddata.daily()\n",
    "# df_h = loaddata.hourly()\n"
   ]
  },
  {
   "cell_type": "code",
   "execution_count": 4,
   "metadata": {},
   "outputs": [],
   "source": [
    "loading = instant_data()\n",
    "df_h = loading.hourly_instant()"
   ]
  },
  {
   "source": [
    "# Handle missing data, clean data"
   ],
   "cell_type": "markdown",
   "metadata": {}
  },
  {
   "cell_type": "code",
   "execution_count": 5,
   "metadata": {},
   "outputs": [],
   "source": [
    "df = df_h['2013-01-01':'2017-12-31'].interpolate(limit=72) # interpolate 72 hour(3days data)| accept 3 day missing\n",
    "# df = del_less_col(df,ratio=.8) # del data that missin more than 20% of period 2013-2017\n",
    "df['Day'] = df.index.dayofyear #add day\n",
    "# df = df.apply(lambda x: x.fillna(x.mean()),axis=0).astype('float32')#interpolate neighbor first, for rest NA fill with mean()\n",
    "\n",
    "TARGET = 'CPY015_wl'"
   ]
  },
  {
   "cell_type": "code",
   "execution_count": 6,
   "metadata": {},
   "outputs": [],
   "source": [
    "#Shif target date\n",
    "data= df\n",
    "# n_past = 24\n",
    "# data[TARGET]=data[TARGET].shift(-n_past)\n",
    "# data = data.shift(-n_past)\n",
    "# data = data.dropna(axis='index')"
   ]
  },
  {
   "source": [
    "# MAR feature selection"
   ],
   "cell_type": "markdown",
   "metadata": {}
  },
  {
   "cell_type": "code",
   "execution_count": 7,
   "metadata": {},
   "outputs": [],
   "source": [
    "def call_mar(data):\n",
    "    mar = pd.read_csv('/home/song/Public/Song/Work/Thesis/featurelist_MAR_hourly_7d.csv')\n",
    "    col = [i for i in data.columns]\n",
    "    select_col = intersection(col,mar['feature'])\n",
    "\n",
    "    select_col.append(TARGET) # add target\n",
    "    return data[select_col]\n",
    "\n",
    "# data = call_mar(data)"
   ]
  },
  {
   "cell_type": "markdown",
   "metadata": {},
   "source": [
    "# Feature selection"
   ]
  },
  {
   "cell_type": "code",
   "execution_count": 8,
   "metadata": {},
   "outputs": [],
   "source": [
    "def high_corr(data,threshold=.95):\n",
    "    \"\"\"Eliminate first columns with high corr\"\"\"\n",
    "    corr_matrix = data.corr().abs()\n",
    "    # Select upper triangle of correlation matrix\n",
    "    upper = corr_matrix.where(np.triu(np.ones(corr_matrix.shape), k=1).astype(np.bool))\n",
    "\n",
    "    # Find index of feature columns with correlation greater than 0.95\n",
    "    to_drop = [column for column in upper.columns if any(upper[column] > threshold)]\n",
    "    return to_drop\n",
    "def corr_w_Y(data,target,threshold= 0.8):\n",
    "    # correlation \n",
    "    corr_test = data.corr(method='pearson')[target]\n",
    "    corr_test = corr_test[(corr_test> threshold) | (corr_test< -threshold) ]\n",
    "    corr_test = corr_test.sort_values(ascending=False)\n",
    "    #corr_test =corr_test[1:] # eliminate Target it own\n",
    "    return corr_test"
   ]
  },
  {
   "cell_type": "code",
   "execution_count": 9,
   "metadata": {
    "scrolled": true
   },
   "outputs": [],
   "source": [
    "def corr_select(data,target):\n",
    "    col_feature = corr_w_Y(data,target,0.5).index\n",
    "    data = data[col_feature]\n",
    "    \n",
    "    high_col = high_corr(data.iloc[:,1:]) #exclude target it own\n",
    "    data.drop(columns=high_col,inplace=True)\n",
    "    return data\n",
    "\n",
    "def plot_corr(data,syn):\n",
    "    global n_past\n",
    "    ##Display / save\n",
    "    corr = data.corr()\n",
    "    plt.subplots(figsize=(10,10))\n",
    "    mask = np.triu(data.corr())\n",
    "    sns.heatmap(data.corr(), annot = True, vmin=-1, vmax=1, center= 0,mask=mask)\n",
    "    plt.savefig(save_path+'Corr_{}lag{}h.png'.format(syn,n_past), bbox_inches='tight')\n",
    "    return"
   ]
  },
  {
   "cell_type": "code",
   "execution_count": null,
   "metadata": {},
   "outputs": [],
   "source": [
    "# corr_select(data,TARGET)"
   ]
  },
  {
   "cell_type": "markdown",
   "metadata": {},
   "source": [
    "# Linear Regression"
   ]
  },
  {
   "cell_type": "code",
   "execution_count": 12,
   "metadata": {},
   "outputs": [],
   "source": [
    "X = data.drop(columns=[TARGET])\n",
    "Y = data[TARGET]\n",
    "\n",
    "trainX, testX, trainY, testY = train_test_split(X, Y, test_size = 0.2, shuffle=False)"
   ]
  },
  {
   "cell_type": "code",
   "execution_count": 13,
   "metadata": {},
   "outputs": [
    {
     "output_type": "stream",
     "name": "stdout",
     "text": [
      "Intercept: \n 4.429356\nCoefficients: \n [-3.2610242e-04 -2.1693732e-03  2.0531625e-02  7.7774537e-01\n  5.7146425e-04 -7.9636404e-04  5.3325726e-04  6.2713365e-04\n  1.9235085e-03  1.2078697e-03  2.1120349e-02 -2.9614298e-02\n -8.5103256e-04  3.7459733e-03  1.3775688e-03  5.0652644e-04\n -8.2887992e-02 -2.2013066e-02  2.6656013e-02  1.1404806e-01\n  1.2413093e-03  2.9523545e-03  1.5426317e-03 -1.3902743e-03\n -4.1679442e-03  1.5106371e-02 -1.5307397e-03]\n"
     ]
    }
   ],
   "source": [
    "regr = linear_model.LinearRegression()\n",
    "regr.fit(trainX,trainY)\n",
    "\n",
    "print('Intercept: \\n', regr.intercept_)\n",
    "print('Coefficients: \\n', regr.coef_)"
   ]
  },
  {
   "cell_type": "code",
   "execution_count": 15,
   "metadata": {},
   "outputs": [],
   "source": [
    "# with statsmodels\n",
    "#X = sm.add_constant(trainX) # adding a constant\n",
    " \n",
    "#model = sm.OLS(trainY, trainX).fit()\n",
    "#predictions = model.predict(trainX) \n",
    "#model.summary()"
   ]
  },
  {
   "cell_type": "markdown",
   "metadata": {},
   "source": [
    "# Evaluation"
   ]
  },
  {
   "cell_type": "code",
   "execution_count": 14,
   "metadata": {},
   "outputs": [],
   "source": [
    "trainPredict = regr.predict(trainX)\n",
    "testPredict = regr.predict(testX)"
   ]
  },
  {
   "cell_type": "code",
   "execution_count": 15,
   "metadata": {
    "scrolled": false
   },
   "outputs": [
    {
     "output_type": "error",
     "ename": "ValueError",
     "evalue": "Input contains NaN, infinity or a value too large for dtype('float32').",
     "traceback": [
      "\u001b[0;31m---------------------------------------------------------------------------\u001b[0m",
      "\u001b[0;31mValueError\u001b[0m                                Traceback (most recent call last)",
      "\u001b[0;32m<ipython-input-15-c23947439ba0>\u001b[0m in \u001b[0;36m<module>\u001b[0;34m\u001b[0m\n\u001b[0;32m----> 1\u001b[0;31m \u001b[0mrecord_result\u001b[0m\u001b[0;34m(\u001b[0m\u001b[0mtrainY\u001b[0m\u001b[0;34m,\u001b[0m\u001b[0mtestY\u001b[0m\u001b[0;34m,\u001b[0m\u001b[0mtrainPredict\u001b[0m\u001b[0;34m,\u001b[0m\u001b[0mtestPredict\u001b[0m\u001b[0;34m,\u001b[0m\u001b[0;34m''\u001b[0m\u001b[0;34m)\u001b[0m\u001b[0;34m\u001b[0m\u001b[0;34m\u001b[0m\u001b[0m\n\u001b[0m",
      "\u001b[0;32m<ipython-input-2-1162d3e4b7e1>\u001b[0m in \u001b[0;36mrecord_result\u001b[0;34m(y_train, y_test, trainPredict, testPredict, syn)\u001b[0m\n\u001b[1;32m      3\u001b[0m \u001b[0;34m\u001b[0m\u001b[0m\n\u001b[1;32m      4\u001b[0m     \u001b[0mmse\u001b[0m\u001b[0;34m,\u001b[0m \u001b[0mnse\u001b[0m\u001b[0;34m,\u001b[0m\u001b[0mr2\u001b[0m \u001b[0;34m=\u001b[0m \u001b[0mreal_eva_error\u001b[0m\u001b[0;34m(\u001b[0m\u001b[0mtrainY\u001b[0m\u001b[0;34m,\u001b[0m \u001b[0mtrainPredict\u001b[0m\u001b[0;34m)\u001b[0m\u001b[0;34m\u001b[0m\u001b[0;34m\u001b[0m\u001b[0m\n\u001b[0;32m----> 5\u001b[0;31m     \u001b[0mTmse\u001b[0m\u001b[0;34m,\u001b[0m \u001b[0mTnse\u001b[0m\u001b[0;34m,\u001b[0m\u001b[0mTr2\u001b[0m \u001b[0;34m=\u001b[0m \u001b[0mreal_eva_error\u001b[0m\u001b[0;34m(\u001b[0m\u001b[0mtestY\u001b[0m\u001b[0;34m,\u001b[0m \u001b[0mtestPredict\u001b[0m\u001b[0;34m)\u001b[0m\u001b[0;34m\u001b[0m\u001b[0;34m\u001b[0m\u001b[0m\n\u001b[0m\u001b[1;32m      6\u001b[0m \u001b[0;34m\u001b[0m\u001b[0m\n\u001b[1;32m      7\u001b[0m     \u001b[0mindex\u001b[0m \u001b[0;34m=\u001b[0m \u001b[0mnp\u001b[0m\u001b[0;34m.\u001b[0m\u001b[0marange\u001b[0m\u001b[0;34m(\u001b[0m\u001b[0mlen\u001b[0m\u001b[0;34m(\u001b[0m\u001b[0mtrainY\u001b[0m\u001b[0;34m)\u001b[0m\u001b[0;34m+\u001b[0m\u001b[0mlen\u001b[0m\u001b[0;34m(\u001b[0m\u001b[0mtestY\u001b[0m\u001b[0;34m)\u001b[0m\u001b[0;34m)\u001b[0m\u001b[0;34m\u001b[0m\u001b[0;34m\u001b[0m\u001b[0m\n",
      "\u001b[0;32m~/Public/Song/Work/Thesis/DLtools/evaluation_rec.py\u001b[0m in \u001b[0;36mreal_eva_error\u001b[0;34m(Y, Y_hat)\u001b[0m\n\u001b[1;32m     10\u001b[0m \u001b[0;34m\u001b[0m\u001b[0m\n\u001b[1;32m     11\u001b[0m \u001b[0;32mdef\u001b[0m \u001b[0mreal_eva_error\u001b[0m\u001b[0;34m(\u001b[0m\u001b[0mY\u001b[0m\u001b[0;34m,\u001b[0m\u001b[0mY_hat\u001b[0m\u001b[0;34m)\u001b[0m\u001b[0;34m:\u001b[0m\u001b[0;34m\u001b[0m\u001b[0;34m\u001b[0m\u001b[0m\n\u001b[0;32m---> 12\u001b[0;31m     \u001b[0mmse\u001b[0m \u001b[0;34m=\u001b[0m \u001b[0mmean_squared_error\u001b[0m\u001b[0;34m(\u001b[0m\u001b[0mY\u001b[0m\u001b[0;34m,\u001b[0m\u001b[0mY_hat\u001b[0m\u001b[0;34m)\u001b[0m\u001b[0;34m\u001b[0m\u001b[0;34m\u001b[0m\u001b[0m\n\u001b[0m\u001b[1;32m     13\u001b[0m     \u001b[0mnse\u001b[0m \u001b[0;34m=\u001b[0m \u001b[0mnashsutcliffe\u001b[0m\u001b[0;34m(\u001b[0m\u001b[0mY_hat\u001b[0m\u001b[0;34m,\u001b[0m\u001b[0mY\u001b[0m\u001b[0;34m)\u001b[0m\u001b[0;34m\u001b[0m\u001b[0;34m\u001b[0m\u001b[0m\n\u001b[1;32m     14\u001b[0m     \u001b[0mr2\u001b[0m \u001b[0;34m=\u001b[0m \u001b[0mr2_score\u001b[0m\u001b[0;34m(\u001b[0m\u001b[0mY\u001b[0m\u001b[0;34m,\u001b[0m\u001b[0mY_hat\u001b[0m\u001b[0;34m)\u001b[0m\u001b[0;34m\u001b[0m\u001b[0;34m\u001b[0m\u001b[0m\n",
      "\u001b[0;32m~/anaconda3/envs/tf/lib/python3.8/site-packages/sklearn/utils/validation.py\u001b[0m in \u001b[0;36minner_f\u001b[0;34m(*args, **kwargs)\u001b[0m\n\u001b[1;32m     70\u001b[0m                           FutureWarning)\n\u001b[1;32m     71\u001b[0m         \u001b[0mkwargs\u001b[0m\u001b[0;34m.\u001b[0m\u001b[0mupdate\u001b[0m\u001b[0;34m(\u001b[0m\u001b[0;34m{\u001b[0m\u001b[0mk\u001b[0m\u001b[0;34m:\u001b[0m \u001b[0marg\u001b[0m \u001b[0;32mfor\u001b[0m \u001b[0mk\u001b[0m\u001b[0;34m,\u001b[0m \u001b[0marg\u001b[0m \u001b[0;32min\u001b[0m \u001b[0mzip\u001b[0m\u001b[0;34m(\u001b[0m\u001b[0msig\u001b[0m\u001b[0;34m.\u001b[0m\u001b[0mparameters\u001b[0m\u001b[0;34m,\u001b[0m \u001b[0margs\u001b[0m\u001b[0;34m)\u001b[0m\u001b[0;34m}\u001b[0m\u001b[0;34m)\u001b[0m\u001b[0;34m\u001b[0m\u001b[0;34m\u001b[0m\u001b[0m\n\u001b[0;32m---> 72\u001b[0;31m         \u001b[0;32mreturn\u001b[0m \u001b[0mf\u001b[0m\u001b[0;34m(\u001b[0m\u001b[0;34m**\u001b[0m\u001b[0mkwargs\u001b[0m\u001b[0;34m)\u001b[0m\u001b[0;34m\u001b[0m\u001b[0;34m\u001b[0m\u001b[0m\n\u001b[0m\u001b[1;32m     73\u001b[0m     \u001b[0;32mreturn\u001b[0m \u001b[0minner_f\u001b[0m\u001b[0;34m\u001b[0m\u001b[0;34m\u001b[0m\u001b[0m\n\u001b[1;32m     74\u001b[0m \u001b[0;34m\u001b[0m\u001b[0m\n",
      "\u001b[0;32m~/anaconda3/envs/tf/lib/python3.8/site-packages/sklearn/metrics/_regression.py\u001b[0m in \u001b[0;36mmean_squared_error\u001b[0;34m(y_true, y_pred, sample_weight, multioutput, squared)\u001b[0m\n\u001b[1;32m    253\u001b[0m \u001b[0;34m\u001b[0m\u001b[0m\n\u001b[1;32m    254\u001b[0m     \"\"\"\n\u001b[0;32m--> 255\u001b[0;31m     y_type, y_true, y_pred, multioutput = _check_reg_targets(\n\u001b[0m\u001b[1;32m    256\u001b[0m         y_true, y_pred, multioutput)\n\u001b[1;32m    257\u001b[0m     \u001b[0mcheck_consistent_length\u001b[0m\u001b[0;34m(\u001b[0m\u001b[0my_true\u001b[0m\u001b[0;34m,\u001b[0m \u001b[0my_pred\u001b[0m\u001b[0;34m,\u001b[0m \u001b[0msample_weight\u001b[0m\u001b[0;34m)\u001b[0m\u001b[0;34m\u001b[0m\u001b[0;34m\u001b[0m\u001b[0m\n",
      "\u001b[0;32m~/anaconda3/envs/tf/lib/python3.8/site-packages/sklearn/metrics/_regression.py\u001b[0m in \u001b[0;36m_check_reg_targets\u001b[0;34m(y_true, y_pred, multioutput, dtype)\u001b[0m\n\u001b[1;32m     83\u001b[0m     \"\"\"\n\u001b[1;32m     84\u001b[0m     \u001b[0mcheck_consistent_length\u001b[0m\u001b[0;34m(\u001b[0m\u001b[0my_true\u001b[0m\u001b[0;34m,\u001b[0m \u001b[0my_pred\u001b[0m\u001b[0;34m)\u001b[0m\u001b[0;34m\u001b[0m\u001b[0;34m\u001b[0m\u001b[0m\n\u001b[0;32m---> 85\u001b[0;31m     \u001b[0my_true\u001b[0m \u001b[0;34m=\u001b[0m \u001b[0mcheck_array\u001b[0m\u001b[0;34m(\u001b[0m\u001b[0my_true\u001b[0m\u001b[0;34m,\u001b[0m \u001b[0mensure_2d\u001b[0m\u001b[0;34m=\u001b[0m\u001b[0;32mFalse\u001b[0m\u001b[0;34m,\u001b[0m \u001b[0mdtype\u001b[0m\u001b[0;34m=\u001b[0m\u001b[0mdtype\u001b[0m\u001b[0;34m)\u001b[0m\u001b[0;34m\u001b[0m\u001b[0;34m\u001b[0m\u001b[0m\n\u001b[0m\u001b[1;32m     86\u001b[0m     \u001b[0my_pred\u001b[0m \u001b[0;34m=\u001b[0m \u001b[0mcheck_array\u001b[0m\u001b[0;34m(\u001b[0m\u001b[0my_pred\u001b[0m\u001b[0;34m,\u001b[0m \u001b[0mensure_2d\u001b[0m\u001b[0;34m=\u001b[0m\u001b[0;32mFalse\u001b[0m\u001b[0;34m,\u001b[0m \u001b[0mdtype\u001b[0m\u001b[0;34m=\u001b[0m\u001b[0mdtype\u001b[0m\u001b[0;34m)\u001b[0m\u001b[0;34m\u001b[0m\u001b[0;34m\u001b[0m\u001b[0m\n\u001b[1;32m     87\u001b[0m \u001b[0;34m\u001b[0m\u001b[0m\n",
      "\u001b[0;32m~/anaconda3/envs/tf/lib/python3.8/site-packages/sklearn/utils/validation.py\u001b[0m in \u001b[0;36minner_f\u001b[0;34m(*args, **kwargs)\u001b[0m\n\u001b[1;32m     70\u001b[0m                           FutureWarning)\n\u001b[1;32m     71\u001b[0m         \u001b[0mkwargs\u001b[0m\u001b[0;34m.\u001b[0m\u001b[0mupdate\u001b[0m\u001b[0;34m(\u001b[0m\u001b[0;34m{\u001b[0m\u001b[0mk\u001b[0m\u001b[0;34m:\u001b[0m \u001b[0marg\u001b[0m \u001b[0;32mfor\u001b[0m \u001b[0mk\u001b[0m\u001b[0;34m,\u001b[0m \u001b[0marg\u001b[0m \u001b[0;32min\u001b[0m \u001b[0mzip\u001b[0m\u001b[0;34m(\u001b[0m\u001b[0msig\u001b[0m\u001b[0;34m.\u001b[0m\u001b[0mparameters\u001b[0m\u001b[0;34m,\u001b[0m \u001b[0margs\u001b[0m\u001b[0;34m)\u001b[0m\u001b[0;34m}\u001b[0m\u001b[0;34m)\u001b[0m\u001b[0;34m\u001b[0m\u001b[0;34m\u001b[0m\u001b[0m\n\u001b[0;32m---> 72\u001b[0;31m         \u001b[0;32mreturn\u001b[0m \u001b[0mf\u001b[0m\u001b[0;34m(\u001b[0m\u001b[0;34m**\u001b[0m\u001b[0mkwargs\u001b[0m\u001b[0;34m)\u001b[0m\u001b[0;34m\u001b[0m\u001b[0;34m\u001b[0m\u001b[0m\n\u001b[0m\u001b[1;32m     73\u001b[0m     \u001b[0;32mreturn\u001b[0m \u001b[0minner_f\u001b[0m\u001b[0;34m\u001b[0m\u001b[0;34m\u001b[0m\u001b[0m\n\u001b[1;32m     74\u001b[0m \u001b[0;34m\u001b[0m\u001b[0m\n",
      "\u001b[0;32m~/anaconda3/envs/tf/lib/python3.8/site-packages/sklearn/utils/validation.py\u001b[0m in \u001b[0;36mcheck_array\u001b[0;34m(array, accept_sparse, accept_large_sparse, dtype, order, copy, force_all_finite, ensure_2d, allow_nd, ensure_min_samples, ensure_min_features, estimator)\u001b[0m\n\u001b[1;32m    642\u001b[0m \u001b[0;34m\u001b[0m\u001b[0m\n\u001b[1;32m    643\u001b[0m         \u001b[0;32mif\u001b[0m \u001b[0mforce_all_finite\u001b[0m\u001b[0;34m:\u001b[0m\u001b[0;34m\u001b[0m\u001b[0;34m\u001b[0m\u001b[0m\n\u001b[0;32m--> 644\u001b[0;31m             _assert_all_finite(array,\n\u001b[0m\u001b[1;32m    645\u001b[0m                                allow_nan=force_all_finite == 'allow-nan')\n\u001b[1;32m    646\u001b[0m \u001b[0;34m\u001b[0m\u001b[0m\n",
      "\u001b[0;32m~/anaconda3/envs/tf/lib/python3.8/site-packages/sklearn/utils/validation.py\u001b[0m in \u001b[0;36m_assert_all_finite\u001b[0;34m(X, allow_nan, msg_dtype)\u001b[0m\n\u001b[1;32m     94\u001b[0m                 not allow_nan and not np.isfinite(X).all()):\n\u001b[1;32m     95\u001b[0m             \u001b[0mtype_err\u001b[0m \u001b[0;34m=\u001b[0m \u001b[0;34m'infinity'\u001b[0m \u001b[0;32mif\u001b[0m \u001b[0mallow_nan\u001b[0m \u001b[0;32melse\u001b[0m \u001b[0;34m'NaN, infinity'\u001b[0m\u001b[0;34m\u001b[0m\u001b[0;34m\u001b[0m\u001b[0m\n\u001b[0;32m---> 96\u001b[0;31m             raise ValueError(\n\u001b[0m\u001b[1;32m     97\u001b[0m                     \u001b[0mmsg_err\u001b[0m\u001b[0;34m.\u001b[0m\u001b[0mformat\u001b[0m\u001b[0;34m\u001b[0m\u001b[0;34m\u001b[0m\u001b[0m\n\u001b[1;32m     98\u001b[0m                     (type_err,\n",
      "\u001b[0;31mValueError\u001b[0m: Input contains NaN, infinity or a value too large for dtype('float32')."
     ]
    }
   ],
   "source": [
    "record_result(trainY,testY,trainPredict,testPredict,'')"
   ]
  },
  {
   "source": [
    "Plot"
   ],
   "cell_type": "markdown",
   "metadata": {}
  },
  {
   "cell_type": "code",
   "execution_count": 18,
   "metadata": {},
   "outputs": [],
   "source": [
    "# plt.figure(figsize=(20,5))\n",
    "# plt.plot(trainY.sort_index(),'.',label=\"Train_Actual\")\n",
    "# plt.plot(trainPredict.sort_index(),'.',label=\"Train_Predict\")\n",
    "# plt.plot(testY.sort_index(),'x',label=\"Test_Actual\")\n",
    "# plt.plot(testPredict.sort_index(),'x',label=\"Test_Predict\")\n",
    "# plt.title('[Multi Linear Regression *Testonly]\\nWater Level CPY015 Forecast vs Actuals\\n'+'Train MSE: %.3f | NSE: %.3f | R2 score: %.3f' % (mse,nse,r2)+'\\nTest  MSE: %.3f | NSE: %.3f | R2 score: %.3f' % (Tmse,Tnse,Tr2))\n",
    "\n",
    "# plt.legend()\n",
    "# plt.show()\n",
    "# #plt.savefig('output/Linear/result_Linear.png', dpi=300, bbox_inches='tight')"
   ]
  },
  {
   "source": [
    "# LOOP for Predict future"
   ],
   "cell_type": "markdown",
   "metadata": {}
  },
  {
   "cell_type": "code",
   "execution_count": 11,
   "metadata": {},
   "outputs": [
    {
     "output_type": "stream",
     "name": "stdout",
     "text": [
      "date\n2016-12-31 19:00:00    0.545000\n2016-12-31 20:00:00    0.273333\n2016-12-31 21:00:00   -0.030000\n2016-12-31 22:00:00   -0.323333\n2016-12-31 23:00:00   -0.573333\n                         ...   \n2017-12-31 19:00:00   -0.038333\n2017-12-31 20:00:00   -0.255000\n2017-12-31 21:00:00   -0.415000\n2017-12-31 22:00:00   -0.485000\n2017-12-31 23:00:00         NaN\nFreq: H, Name: CPY015_wl, Length: 8765, dtype: float32 [0.46820164 0.46762967 0.4638505  ... 0.90995574 0.92416215 0.85886717]\n"
     ]
    },
    {
     "output_type": "error",
     "ename": "ValueError",
     "evalue": "Input contains NaN, infinity or a value too large for dtype('float32').",
     "traceback": [
      "\u001b[0;31m---------------------------------------------------------------------------\u001b[0m",
      "\u001b[0;31mValueError\u001b[0m                                Traceback (most recent call last)",
      "\u001b[0;32m<ipython-input-11-821bfe858ee2>\u001b[0m in \u001b[0;36m<module>\u001b[0;34m\u001b[0m\n\u001b[1;32m     27\u001b[0m     \u001b[0;31m# try:\u001b[0m\u001b[0;34m\u001b[0m\u001b[0;34m\u001b[0m\u001b[0;34m\u001b[0m\u001b[0m\n\u001b[1;32m     28\u001b[0m     \u001b[0mprint\u001b[0m\u001b[0;34m(\u001b[0m\u001b[0mtestY\u001b[0m\u001b[0;34m,\u001b[0m\u001b[0mtrainPredict\u001b[0m\u001b[0;34m)\u001b[0m\u001b[0;34m\u001b[0m\u001b[0;34m\u001b[0m\u001b[0m\n\u001b[0;32m---> 29\u001b[0;31m     \u001b[0mrecord_result\u001b[0m\u001b[0;34m(\u001b[0m\u001b[0mtrainY\u001b[0m\u001b[0;34m,\u001b[0m\u001b[0mtestY\u001b[0m\u001b[0;34m,\u001b[0m\u001b[0mtrainPredict\u001b[0m\u001b[0;34m,\u001b[0m\u001b[0mtestPredict\u001b[0m\u001b[0;34m,\u001b[0m\u001b[0msyn\u001b[0m\u001b[0;34m)\u001b[0m\u001b[0;34m\u001b[0m\u001b[0;34m\u001b[0m\u001b[0m\n\u001b[0m\u001b[1;32m     30\u001b[0m     \u001b[0;31m# except:\u001b[0m\u001b[0;34m\u001b[0m\u001b[0;34m\u001b[0m\u001b[0;34m\u001b[0m\u001b[0m\n\u001b[1;32m     31\u001b[0m     \u001b[0;31m#     print('error on ',n_past)\u001b[0m\u001b[0;34m\u001b[0m\u001b[0;34m\u001b[0m\u001b[0;34m\u001b[0m\u001b[0m\n",
      "\u001b[0;32m<ipython-input-2-1162d3e4b7e1>\u001b[0m in \u001b[0;36mrecord_result\u001b[0;34m(y_train, y_test, trainPredict, testPredict, syn)\u001b[0m\n\u001b[1;32m      3\u001b[0m \u001b[0;34m\u001b[0m\u001b[0m\n\u001b[1;32m      4\u001b[0m     \u001b[0mmse\u001b[0m\u001b[0;34m,\u001b[0m \u001b[0mnse\u001b[0m\u001b[0;34m,\u001b[0m\u001b[0mr2\u001b[0m \u001b[0;34m=\u001b[0m \u001b[0mreal_eva_error\u001b[0m\u001b[0;34m(\u001b[0m\u001b[0mtrainY\u001b[0m\u001b[0;34m,\u001b[0m \u001b[0mtrainPredict\u001b[0m\u001b[0;34m)\u001b[0m\u001b[0;34m\u001b[0m\u001b[0;34m\u001b[0m\u001b[0m\n\u001b[0;32m----> 5\u001b[0;31m     \u001b[0mTmse\u001b[0m\u001b[0;34m,\u001b[0m \u001b[0mTnse\u001b[0m\u001b[0;34m,\u001b[0m\u001b[0mTr2\u001b[0m \u001b[0;34m=\u001b[0m \u001b[0mreal_eva_error\u001b[0m\u001b[0;34m(\u001b[0m\u001b[0mtestY\u001b[0m\u001b[0;34m,\u001b[0m \u001b[0mtestPredict\u001b[0m\u001b[0;34m)\u001b[0m\u001b[0;34m\u001b[0m\u001b[0;34m\u001b[0m\u001b[0m\n\u001b[0m\u001b[1;32m      6\u001b[0m \u001b[0;34m\u001b[0m\u001b[0m\n\u001b[1;32m      7\u001b[0m     \u001b[0mindex\u001b[0m \u001b[0;34m=\u001b[0m \u001b[0mnp\u001b[0m\u001b[0;34m.\u001b[0m\u001b[0marange\u001b[0m\u001b[0;34m(\u001b[0m\u001b[0mlen\u001b[0m\u001b[0;34m(\u001b[0m\u001b[0mtrainY\u001b[0m\u001b[0;34m)\u001b[0m\u001b[0;34m+\u001b[0m\u001b[0mlen\u001b[0m\u001b[0;34m(\u001b[0m\u001b[0mtestY\u001b[0m\u001b[0;34m)\u001b[0m\u001b[0;34m)\u001b[0m\u001b[0;34m\u001b[0m\u001b[0;34m\u001b[0m\u001b[0m\n",
      "\u001b[0;32m~/Public/Song/Work/Thesis/DLtools/evaluation_rec.py\u001b[0m in \u001b[0;36mreal_eva_error\u001b[0;34m(Y, Y_hat)\u001b[0m\n\u001b[1;32m     10\u001b[0m \u001b[0;34m\u001b[0m\u001b[0m\n\u001b[1;32m     11\u001b[0m \u001b[0;32mdef\u001b[0m \u001b[0mreal_eva_error\u001b[0m\u001b[0;34m(\u001b[0m\u001b[0mY\u001b[0m\u001b[0;34m,\u001b[0m\u001b[0mY_hat\u001b[0m\u001b[0;34m)\u001b[0m\u001b[0;34m:\u001b[0m\u001b[0;34m\u001b[0m\u001b[0;34m\u001b[0m\u001b[0m\n\u001b[0;32m---> 12\u001b[0;31m     \u001b[0mmse\u001b[0m \u001b[0;34m=\u001b[0m \u001b[0mmean_squared_error\u001b[0m\u001b[0;34m(\u001b[0m\u001b[0mY\u001b[0m\u001b[0;34m,\u001b[0m\u001b[0mY_hat\u001b[0m\u001b[0;34m)\u001b[0m\u001b[0;34m\u001b[0m\u001b[0;34m\u001b[0m\u001b[0m\n\u001b[0m\u001b[1;32m     13\u001b[0m     \u001b[0mnse\u001b[0m \u001b[0;34m=\u001b[0m \u001b[0mnashsutcliffe\u001b[0m\u001b[0;34m(\u001b[0m\u001b[0mY_hat\u001b[0m\u001b[0;34m,\u001b[0m\u001b[0mY\u001b[0m\u001b[0;34m)\u001b[0m\u001b[0;34m\u001b[0m\u001b[0;34m\u001b[0m\u001b[0m\n\u001b[1;32m     14\u001b[0m     \u001b[0mr2\u001b[0m \u001b[0;34m=\u001b[0m \u001b[0mr2_score\u001b[0m\u001b[0;34m(\u001b[0m\u001b[0mY\u001b[0m\u001b[0;34m,\u001b[0m\u001b[0mY_hat\u001b[0m\u001b[0;34m)\u001b[0m\u001b[0;34m\u001b[0m\u001b[0;34m\u001b[0m\u001b[0m\n",
      "\u001b[0;32m~/anaconda3/envs/tf/lib/python3.8/site-packages/sklearn/utils/validation.py\u001b[0m in \u001b[0;36minner_f\u001b[0;34m(*args, **kwargs)\u001b[0m\n\u001b[1;32m     70\u001b[0m                           FutureWarning)\n\u001b[1;32m     71\u001b[0m         \u001b[0mkwargs\u001b[0m\u001b[0;34m.\u001b[0m\u001b[0mupdate\u001b[0m\u001b[0;34m(\u001b[0m\u001b[0;34m{\u001b[0m\u001b[0mk\u001b[0m\u001b[0;34m:\u001b[0m \u001b[0marg\u001b[0m \u001b[0;32mfor\u001b[0m \u001b[0mk\u001b[0m\u001b[0;34m,\u001b[0m \u001b[0marg\u001b[0m \u001b[0;32min\u001b[0m \u001b[0mzip\u001b[0m\u001b[0;34m(\u001b[0m\u001b[0msig\u001b[0m\u001b[0;34m.\u001b[0m\u001b[0mparameters\u001b[0m\u001b[0;34m,\u001b[0m \u001b[0margs\u001b[0m\u001b[0;34m)\u001b[0m\u001b[0;34m}\u001b[0m\u001b[0;34m)\u001b[0m\u001b[0;34m\u001b[0m\u001b[0;34m\u001b[0m\u001b[0m\n\u001b[0;32m---> 72\u001b[0;31m         \u001b[0;32mreturn\u001b[0m \u001b[0mf\u001b[0m\u001b[0;34m(\u001b[0m\u001b[0;34m**\u001b[0m\u001b[0mkwargs\u001b[0m\u001b[0;34m)\u001b[0m\u001b[0;34m\u001b[0m\u001b[0;34m\u001b[0m\u001b[0m\n\u001b[0m\u001b[1;32m     73\u001b[0m     \u001b[0;32mreturn\u001b[0m \u001b[0minner_f\u001b[0m\u001b[0;34m\u001b[0m\u001b[0;34m\u001b[0m\u001b[0m\n\u001b[1;32m     74\u001b[0m \u001b[0;34m\u001b[0m\u001b[0m\n",
      "\u001b[0;32m~/anaconda3/envs/tf/lib/python3.8/site-packages/sklearn/metrics/_regression.py\u001b[0m in \u001b[0;36mmean_squared_error\u001b[0;34m(y_true, y_pred, sample_weight, multioutput, squared)\u001b[0m\n\u001b[1;32m    253\u001b[0m \u001b[0;34m\u001b[0m\u001b[0m\n\u001b[1;32m    254\u001b[0m     \"\"\"\n\u001b[0;32m--> 255\u001b[0;31m     y_type, y_true, y_pred, multioutput = _check_reg_targets(\n\u001b[0m\u001b[1;32m    256\u001b[0m         y_true, y_pred, multioutput)\n\u001b[1;32m    257\u001b[0m     \u001b[0mcheck_consistent_length\u001b[0m\u001b[0;34m(\u001b[0m\u001b[0my_true\u001b[0m\u001b[0;34m,\u001b[0m \u001b[0my_pred\u001b[0m\u001b[0;34m,\u001b[0m \u001b[0msample_weight\u001b[0m\u001b[0;34m)\u001b[0m\u001b[0;34m\u001b[0m\u001b[0;34m\u001b[0m\u001b[0m\n",
      "\u001b[0;32m~/anaconda3/envs/tf/lib/python3.8/site-packages/sklearn/metrics/_regression.py\u001b[0m in \u001b[0;36m_check_reg_targets\u001b[0;34m(y_true, y_pred, multioutput, dtype)\u001b[0m\n\u001b[1;32m     83\u001b[0m     \"\"\"\n\u001b[1;32m     84\u001b[0m     \u001b[0mcheck_consistent_length\u001b[0m\u001b[0;34m(\u001b[0m\u001b[0my_true\u001b[0m\u001b[0;34m,\u001b[0m \u001b[0my_pred\u001b[0m\u001b[0;34m)\u001b[0m\u001b[0;34m\u001b[0m\u001b[0;34m\u001b[0m\u001b[0m\n\u001b[0;32m---> 85\u001b[0;31m     \u001b[0my_true\u001b[0m \u001b[0;34m=\u001b[0m \u001b[0mcheck_array\u001b[0m\u001b[0;34m(\u001b[0m\u001b[0my_true\u001b[0m\u001b[0;34m,\u001b[0m \u001b[0mensure_2d\u001b[0m\u001b[0;34m=\u001b[0m\u001b[0;32mFalse\u001b[0m\u001b[0;34m,\u001b[0m \u001b[0mdtype\u001b[0m\u001b[0;34m=\u001b[0m\u001b[0mdtype\u001b[0m\u001b[0;34m)\u001b[0m\u001b[0;34m\u001b[0m\u001b[0;34m\u001b[0m\u001b[0m\n\u001b[0m\u001b[1;32m     86\u001b[0m     \u001b[0my_pred\u001b[0m \u001b[0;34m=\u001b[0m \u001b[0mcheck_array\u001b[0m\u001b[0;34m(\u001b[0m\u001b[0my_pred\u001b[0m\u001b[0;34m,\u001b[0m \u001b[0mensure_2d\u001b[0m\u001b[0;34m=\u001b[0m\u001b[0;32mFalse\u001b[0m\u001b[0;34m,\u001b[0m \u001b[0mdtype\u001b[0m\u001b[0;34m=\u001b[0m\u001b[0mdtype\u001b[0m\u001b[0;34m)\u001b[0m\u001b[0;34m\u001b[0m\u001b[0;34m\u001b[0m\u001b[0m\n\u001b[1;32m     87\u001b[0m \u001b[0;34m\u001b[0m\u001b[0m\n",
      "\u001b[0;32m~/anaconda3/envs/tf/lib/python3.8/site-packages/sklearn/utils/validation.py\u001b[0m in \u001b[0;36minner_f\u001b[0;34m(*args, **kwargs)\u001b[0m\n\u001b[1;32m     70\u001b[0m                           FutureWarning)\n\u001b[1;32m     71\u001b[0m         \u001b[0mkwargs\u001b[0m\u001b[0;34m.\u001b[0m\u001b[0mupdate\u001b[0m\u001b[0;34m(\u001b[0m\u001b[0;34m{\u001b[0m\u001b[0mk\u001b[0m\u001b[0;34m:\u001b[0m \u001b[0marg\u001b[0m \u001b[0;32mfor\u001b[0m \u001b[0mk\u001b[0m\u001b[0;34m,\u001b[0m \u001b[0marg\u001b[0m \u001b[0;32min\u001b[0m \u001b[0mzip\u001b[0m\u001b[0;34m(\u001b[0m\u001b[0msig\u001b[0m\u001b[0;34m.\u001b[0m\u001b[0mparameters\u001b[0m\u001b[0;34m,\u001b[0m \u001b[0margs\u001b[0m\u001b[0;34m)\u001b[0m\u001b[0;34m}\u001b[0m\u001b[0;34m)\u001b[0m\u001b[0;34m\u001b[0m\u001b[0;34m\u001b[0m\u001b[0m\n\u001b[0;32m---> 72\u001b[0;31m         \u001b[0;32mreturn\u001b[0m \u001b[0mf\u001b[0m\u001b[0;34m(\u001b[0m\u001b[0;34m**\u001b[0m\u001b[0mkwargs\u001b[0m\u001b[0;34m)\u001b[0m\u001b[0;34m\u001b[0m\u001b[0;34m\u001b[0m\u001b[0m\n\u001b[0m\u001b[1;32m     73\u001b[0m     \u001b[0;32mreturn\u001b[0m \u001b[0minner_f\u001b[0m\u001b[0;34m\u001b[0m\u001b[0;34m\u001b[0m\u001b[0m\n\u001b[1;32m     74\u001b[0m \u001b[0;34m\u001b[0m\u001b[0m\n",
      "\u001b[0;32m~/anaconda3/envs/tf/lib/python3.8/site-packages/sklearn/utils/validation.py\u001b[0m in \u001b[0;36mcheck_array\u001b[0;34m(array, accept_sparse, accept_large_sparse, dtype, order, copy, force_all_finite, ensure_2d, allow_nd, ensure_min_samples, ensure_min_features, estimator)\u001b[0m\n\u001b[1;32m    642\u001b[0m \u001b[0;34m\u001b[0m\u001b[0m\n\u001b[1;32m    643\u001b[0m         \u001b[0;32mif\u001b[0m \u001b[0mforce_all_finite\u001b[0m\u001b[0;34m:\u001b[0m\u001b[0;34m\u001b[0m\u001b[0;34m\u001b[0m\u001b[0m\n\u001b[0;32m--> 644\u001b[0;31m             _assert_all_finite(array,\n\u001b[0m\u001b[1;32m    645\u001b[0m                                allow_nan=force_all_finite == 'allow-nan')\n\u001b[1;32m    646\u001b[0m \u001b[0;34m\u001b[0m\u001b[0m\n",
      "\u001b[0;32m~/anaconda3/envs/tf/lib/python3.8/site-packages/sklearn/utils/validation.py\u001b[0m in \u001b[0;36m_assert_all_finite\u001b[0;34m(X, allow_nan, msg_dtype)\u001b[0m\n\u001b[1;32m     94\u001b[0m                 not allow_nan and not np.isfinite(X).all()):\n\u001b[1;32m     95\u001b[0m             \u001b[0mtype_err\u001b[0m \u001b[0;34m=\u001b[0m \u001b[0;34m'infinity'\u001b[0m \u001b[0;32mif\u001b[0m \u001b[0mallow_nan\u001b[0m \u001b[0;32melse\u001b[0m \u001b[0;34m'NaN, infinity'\u001b[0m\u001b[0;34m\u001b[0m\u001b[0;34m\u001b[0m\u001b[0m\n\u001b[0;32m---> 96\u001b[0;31m             raise ValueError(\n\u001b[0m\u001b[1;32m     97\u001b[0m                     \u001b[0mmsg_err\u001b[0m\u001b[0;34m.\u001b[0m\u001b[0mformat\u001b[0m\u001b[0;34m\u001b[0m\u001b[0;34m\u001b[0m\u001b[0m\n\u001b[1;32m     98\u001b[0m                     (type_err,\n",
      "\u001b[0;31mValueError\u001b[0m: Input contains NaN, infinity or a value too large for dtype('float32')."
     ]
    }
   ],
   "source": [
    "#n_past = 7\n",
    "\n",
    "for n_past in range(1,25):\n",
    "    data=df.apply(lambda x: x.fillna(x.mean()),axis=0).astype('float32')#interpolate neighbor first, for rest NA fill with mean()\n",
    "\n",
    "    ###### Setup #####\n",
    "    TARGET = 'CPY015_wl'\n",
    "    syn = 'Corr'\n",
    "    #######\n",
    "    data[TARGET]=data[TARGET].shift(-n_past).dropna()\n",
    "    #### Corr selection##\n",
    "    data = corr_select(data,TARGET)\n",
    "    #### MAR selection ##\n",
    "    # data = call_mar(data)\n",
    "\n",
    "    #### plot ###\n",
    "    plot_corr(data,syn)\n",
    "\n",
    "    X = data.drop(columns=[TARGET]).fillna(0)\n",
    "    Y = data[TARGET].fillna(0)\n",
    "    trainX, testX, trainY, testY = train_test_split(X, Y, test_size = 0.2, shuffle=False)\n",
    "\n",
    "    regr = linear_model.LinearRegression()\n",
    "    regr.fit(trainX,trainY)\n",
    "    trainPredict = regr.predict(trainX)\n",
    "    testPredict = regr.predict(testX)\n",
    "    # try:\n",
    "    print(testY,trainPredict)\n",
    "    record_result(trainY,testY,trainPredict,testPredict,syn)\n",
    "    # except:\n",
    "    #     print('error on ',n_past)\n"
   ]
  },
  {
   "source": [
    "# VAR model"
   ],
   "cell_type": "markdown",
   "metadata": {}
  },
  {
   "cell_type": "code",
   "execution_count": 21,
   "metadata": {},
   "outputs": [],
   "source": [
    "# VAR example\n",
    "from statsmodels.tsa.vector_ar.var_model import VAR"
   ]
  },
  {
   "source": [
    "https://www.machinelearningplus.com/time-series/vector-autoregression-examples-python/"
   ],
   "cell_type": "markdown",
   "metadata": {}
  },
  {
   "cell_type": "code",
   "execution_count": 26,
   "metadata": {},
   "outputs": [],
   "source": [
    "# from statsmodels.tsa.stattools import grangercausalitytests\n",
    "# maxlag=12\n",
    "# test = 'ssr_chi2test'\n",
    "# def grangers_causation_matrix(data, variables, test='ssr_chi2test', verbose=False):    \n",
    "#     \"\"\"Check Granger Causality of all possible combinations of the Time series.\n",
    "#     The rows are the response variable, columns are predictors. The values in the table \n",
    "#     are the P-Values. P-Values lesser than the significance level (0.05), implies \n",
    "#     the Null Hypothesis that the coefficients of the corresponding past values is \n",
    "#     zero, that is, the X does not cause Y can be rejected.\n",
    "\n",
    "#     data      : pandas dataframe containing the time series variables\n",
    "#     variables : list containing names of the time series variables.\n",
    "#     \"\"\"\n",
    "#     df = pd.DataFrame(np.zeros((len(variables), len(variables))), columns=variables, index=variables)\n",
    "#     for c in df.columns:\n",
    "#         for r in df.index:\n",
    "#             test_result = grangercausalitytests(data[[r, c]], maxlag=maxlag, verbose=False)\n",
    "#             p_values = [round(test_result[i+1][0][test][1],4) for i in range(maxlag)]\n",
    "#             if verbose: print(f'Y = {r}, X = {c}, P Values = {p_values}')\n",
    "#             min_p_value = np.min(p_values)\n",
    "#             df.loc[r, c] = min_p_value\n",
    "#     df.columns = [var + '_x' for var in variables]\n",
    "#     df.index = [var + '_y' for var in variables]\n",
    "#     return df\n",
    "\n",
    "# grangers_causation_matrix(data, variables = data.columns)        "
   ]
  },
  {
   "cell_type": "code",
   "execution_count": 22,
   "metadata": {},
   "outputs": [
    {
     "output_type": "stream",
     "name": "stderr",
     "text": [
      "/home/song/anaconda3/envs/tf/lib/python3.8/site-packages/statsmodels/tsa/vector_ar/vecm.py:569: HypothesisTestWarning: Critical values are only available for time series with 12 variables at most.\n",
      "  warnings.warn(\"Critical values are only available for time series \"\n",
      "Name   ::  Test Stat > C(95%)    =>   Signif  \n",
      " ----------------------------------------\n",
      "DNP028_press ::  92610.75  > nan       =>   False\n",
      "GLF001_wl ::  81100.49  > nan       =>   False\n",
      "DNP006_humid ::  73269.35  > nan       =>   False\n",
      "DNP002_temp ::  67007.75  > nan       =>   False\n",
      "DNP032_temp ::  60871.01  > nan       =>   False\n",
      "DNP002_humid ::  54857.68  > nan       =>   False\n",
      "DNP007_temp ::  49216.66  > nan       =>   False\n",
      "DNP008_temp ::  44046.14  > nan       =>   False\n",
      "CPY015_rain1h ::  38901.69  > nan       =>   False\n",
      "DNP033_rain1h ::  33999.06  > nan       =>   False\n",
      "PAS005_wl ::  29306.31  > nan       =>   False\n",
      "DNP010_humid ::  24901.66  > nan       =>   False\n",
      "CPY009_temp ::  20891.21  > nan       =>   False\n",
      "YOM009_wl ::  17102.02  > nan       =>   False\n",
      "DNP027_temp ::  13724.37  > nan       =>   False\n",
      "CPY013_wl ::  10748.56  > nan       =>   False\n",
      "NAN002_wl ::  8120.18   > 311.1288  =>   True\n",
      "KWN002_rain1h ::  5837.08   > 263.2603  =>   True\n",
      "DNP033_temp ::  3813.04   > 219.4051  =>   True\n",
      "DNP004_humid ::  2759.09   > 179.5199  =>   True\n",
      "DNP007_humid ::  1938.88   > 143.6691  =>   True\n",
      "NAN013_wl ::  1267.97   > 111.7797  =>   True\n",
      "DNP025_temp ::  731.45    > 83.9383   =>   True\n",
      "PIN001_wl ::  374.45    > 60.0627   =>   True\n",
      "PAS001_wl ::  195.33    > 40.1749   =>   True\n",
      "DNP006_temp ::  76.79     > 24.2761   =>   True\n",
      "CPY012_wl ::  23.52     > 12.3212   =>   True\n",
      "CPY015_wl ::  0.0       > 4.1296    =>   False\n"
     ]
    }
   ],
   "source": [
    "from statsmodels.tsa.vector_ar.vecm import coint_johansen\n",
    "\n",
    "def cointegration_test(df, alpha=0.05): \n",
    "    \"\"\"Perform Johanson's Cointegration Test and Report Summary\"\"\"\n",
    "    out = coint_johansen(df,-1,5)\n",
    "    d = {'0.90':0, '0.95':1, '0.99':2}\n",
    "    traces = out.lr1\n",
    "    cvts = out.cvt[:, d[str(1-alpha)]]\n",
    "    def adjust(val, length= 6): return str(val).ljust(length)\n",
    "\n",
    "    # Summary\n",
    "    print('Name   ::  Test Stat > C(95%)    =>   Signif  \\n', '--'*20)\n",
    "    for col, trace, cvt in zip(df.columns, traces, cvts):\n",
    "        print(adjust(col), ':: ', adjust(round(trace,2), 9), \">\", adjust(cvt, 8), ' =>  ' , trace > cvt)\n",
    "\n",
    "cointegration_test(data)"
   ]
  },
  {
   "cell_type": "code",
   "execution_count": 23,
   "metadata": {},
   "outputs": [],
   "source": [
    "nobs = 4\n",
    "train, test = data[0:-nobs], data[-nobs:]"
   ]
  },
  {
   "cell_type": "code",
   "execution_count": 24,
   "metadata": {},
   "outputs": [],
   "source": [
    "model = VAR(train)\n",
    "model_fit = model.fit()"
   ]
  },
  {
   "cell_type": "code",
   "execution_count": 25,
   "metadata": {},
   "outputs": [
    {
     "output_type": "execute_result",
     "data": {
      "text/plain": [
       "<class 'statsmodels.iolib.table.SimpleTable'>"
      ],
      "text/html": "<table class=\"simpletable\">\n<caption>VAR Order Selection (* highlights the minimums)</caption>\n<tr>\n   <td></td>      <th>AIC</th>         <th>BIC</th>         <th>FPE</th>        <th>HQIC</th>    \n</tr>\n<tr>\n  <th>0</th>  <td>     41.94</td>  <td>     41.95</td>  <td> 1.644e+18</td>  <td>     41.95</td> \n</tr>\n<tr>\n  <th>1</th>  <td>    -8.753</td>  <td>    -8.591</td>  <td> 0.0001581</td>  <td>    -8.702</td> \n</tr>\n<tr>\n  <th>2</th>  <td>    -12.78</td>  <td>    -12.46</td>  <td> 2.825e-06</td>  <td>    -12.68</td> \n</tr>\n<tr>\n  <th>3</th>  <td>    -13.19</td>  <td>    -12.71</td>  <td> 1.875e-06</td>  <td>    -13.04</td> \n</tr>\n<tr>\n  <th>4</th>  <td>    -13.37</td>  <td>    -12.74</td>  <td> 1.557e-06</td>  <td>    -13.17</td> \n</tr>\n<tr>\n  <th>5</th>  <td>    -13.56</td>  <td>    -12.77</td>  <td> 1.291e-06</td>  <td>    -13.31</td> \n</tr>\n<tr>\n  <th>6</th>  <td>    -13.80</td>  <td>    -12.85*</td> <td> 1.020e-06</td>  <td>    -13.50</td> \n</tr>\n<tr>\n  <th>7</th>  <td>    -13.95</td>  <td>    -12.85</td>  <td> 8.772e-07</td>  <td>    -13.60</td> \n</tr>\n<tr>\n  <th>8</th>  <td>    -14.09</td>  <td>    -12.84</td>  <td> 7.603e-07</td>  <td>    -13.69</td> \n</tr>\n<tr>\n  <th>9</th>  <td>    -14.24</td>  <td>    -12.83</td>  <td> 6.568e-07</td>  <td>    -13.79</td> \n</tr>\n<tr>\n  <th>10</th> <td>    -14.39</td>  <td>    -12.83</td>  <td> 5.617e-07</td>  <td>    -13.90</td> \n</tr>\n<tr>\n  <th>11</th> <td>    -14.55</td>  <td>    -12.83</td>  <td> 4.802e-07</td>  <td>    -14.01</td> \n</tr>\n<tr>\n  <th>12</th> <td>    -14.73*</td> <td>    -12.85</td>  <td> 4.025e-07*</td> <td>    -14.13*</td>\n</tr>\n</table>"
     },
     "metadata": {},
     "execution_count": 25
    }
   ],
   "source": [
    "x = model.select_order(maxlags=12)\n",
    "x.summary()"
   ]
  },
  {
   "cell_type": "code",
   "execution_count": 26,
   "metadata": {},
   "outputs": [
    {
     "output_type": "execute_result",
     "data": {
      "text/plain": [
       "7.360           0.000\n",
       "L1.DNP032_temp           0.000418         0.000510            0.819           0.413\n",
       "L1.DNP002_humid         -0.000231         0.000126           -1.835           0.067\n",
       "L1.DNP007_temp          -0.002361         0.000467           -5.054           0.000\n",
       "L1.DNP008_temp          -0.001957         0.000540           -3.623           0.000\n",
       "L1.CPY015_rain1h         0.000541         0.000511            1.060           0.289\n",
       "L1.DNP033_rain1h         0.001741         0.000556            3.133           0.002\n",
       "L1.PAS005_wl            -0.002977         0.001878           -1.585           0.113\n",
       "L1.DNP010_humid         -0.000112         0.000100           -1.127           0.260\n",
       "L1.CPY009_temp           0.000824         0.000220            3.742           0.000\n",
       "L1.YOM009_wl             0.000124         0.003601            0.035           0.972\n",
       "L1.DNP027_temp          -0.000465         0.000270           -1.724           0.085\n",
       "L1.CPY013_wl             0.045144         0.005018            8.996           0.000\n",
       "L1.NAN002_wl             0.000090         0.003754            0.024           0.981\n",
       "L1.KWN002_rain1h        -0.000115         0.000650           -0.177           0.859\n",
       "L1.DNP033_temp          -0.001383         0.000375           -3.692           0.000\n",
       "L1.DNP004_humid         -0.000191         0.000097           -1.960           0.050\n",
       "L1.DNP007_humid         -0.000256         0.000125           -2.057           0.040\n",
       "L1.NAN013_wl            -0.004039         0.003828           -1.055           0.291\n",
       "L1.DNP025_temp          -0.002464         0.000433           -5.694           0.000\n",
       "L1.PIN001_wl             0.004960         0.011871            0.418           0.676\n",
       "L1.PAS001_wl            -0.011323         0.005272           -2.148           0.032\n",
       "L1.DNP006_temp          -0.000837         0.000490           -1.709           0.087\n",
       "L1.CPY012_wl             0.066034         0.006148           10.741           0.000\n",
       "L1.CPY015_wl             1.504750         0.004797          313.678           0.000\n",
       "L2.DNP028_press         -0.003125         0.000661           -4.728           0.000\n",
       "L2.GLF001_wl             0.036909         0.008722            4.231           0.000\n",
       "L2.DNP006_humid         -0.000044         0.000115           -0.380           0.704\n",
       "L2.DNP002_temp           0.003312         0.000650            5.095           0.000\n",
       "L2.DNP032_temp           0.000773         0.000678            1.140           0.254\n",
       "L2.DNP002_humid          0.000253         0.000151            1.671           0.095\n",
       "L2.DNP007_temp           0.001073         0.000553            1.941           0.052\n",
       "L2.DNP008_temp           0.000536         0.000709            0.756           0.450\n",
       "L2.CPY015_rain1h         0.000267         0.000526            0.508           0.611\n",
       "L2.DNP033_rain1h         0.000283         0.000570            0.496           0.620\n",
       "L2.PAS005_wl             0.005052         0.002252            2.244           0.025\n",
       "L2.DNP010_humid         -0.000195         0.000119           -1.635           0.102\n",
       "L2.CPY009_temp          -0.000330         0.000279           -1.183           0.237\n",
       "L2.YOM009_wl             0.001466         0.004337            0.338           0.735\n",
       "L2.DNP027_temp           0.000266         0.000341            0.779           0.436\n",
       "L2.CPY013_wl             0.007387         0.006901            1.070           0.284\n",
       "L2.NAN002_wl            -0.003749         0.004459           -0.841           0.401\n",
       "L2.KWN002_rain1h         0.001779         0.000671            2.652           0.008\n",
       "L2.DNP033_temp           0.001194         0.000430            2.778           0.005\n",
       "L2.DNP004_humid          0.000122         0.000115            1.059           0.289\n",
       "L2.DNP007_humid          0.000015         0.000154            0.100           0.921\n",
       "L2.NAN013_wl             0.006641         0.005237            1.268           0.205\n",
       "L2.DNP025_temp           0.000103         0.000494            0.209           0.835\n",
       "L2.PIN001_wl             0.019413         0.021964            0.884           0.377\n",
       "L2.PAS001_wl             0.022825         0.006908            3.304           0.001\n",
       "L2.DNP006_temp          -0.000145         0.000573           -0.253           0.800\n",
       "L2.CPY012_wl            -0.033098         0.009020           -3.669           0.000\n",
       "L2.CPY015_wl            -0.533618         0.008637          -61.780           0.000\n",
       "L3.DNP028_press          0.001441         0.000660            2.182           0.029\n",
       "L3.GLF001_wl             0.041143         0.008755            4.700           0.000\n",
       "L3.DNP006_humid         -0.000293         0.000115           -2.552           0.011\n",
       "L3.DNP002_temp           0.002878         0.000651            4.425           0.000\n",
       "L3.DNP032_temp           0.001895         0.000680            2.788           0.005\n",
       "L3.DNP002_humid          0.000241         0.000151            1.595           0.111\n",
       "L3.DNP007_temp           0.002580         0.000552            4.671           0.000\n",
       "L3.DNP008_temp           0.000863         0.000713            1.211           0.226\n",
       "L3.CPY015_rain1h         0.000235         0.000525            0.448           0.654\n",
       "L3.DNP033_rain1h        -0.000187         0.000569           -0.329           0.742\n",
       "L3.PAS005_wl             0.000758         0.002251            0.337           0.736\n",
       "L3.DNP010_humid         -0.000079         0.000119           -0.665           0.506\n",
       "L3.CPY009_temp           0.000026         0.000280            0.094           0.925\n",
       "L3.YOM009_wl             0.001720         0.004337            0.397           0.692\n",
       "L3.DNP027_temp           0.000636         0.000342            1.861           0.063\n",
       "L3.CPY013_wl            -0.021136         0.006899           -3.064           0.002\n",
       "L3.NAN002_wl             0.001037         0.004459            0.233           0.816\n",
       "L3.KWN002_rain1h        -0.000672         0.000671           -1.002           0.316\n",
       "L3.DNP033_temp           0.000616         0.000430            1.432           0.152\n",
       "L3.DNP004_humid         -0.000137         0.000115           -1.196           0.232\n",
       "L3.DNP007_humid          0.000045         0.000154            0.295           0.768\n",
       "L3.NAN013_wl             0.005043         0.005240            0.962           0.336\n",
       "L3.DNP025_temp           0.000939         0.000493            1.905           0.057\n",
       "L3.PIN001_wl            -0.013927         0.021983           -0.634           0.526\n",
       "L3.PAS001_wl            -0.018547         0.006910           -2.684           0.007\n",
       "L3.DNP006_temp          -0.001583         0.000573           -2.761           0.006\n",
       "L3.CPY012_wl            -0.003984         0.008996           -0.443           0.658\n",
       "L3.CPY015_wl            -0.147713         0.008642          -17.093           0.000\n",
       "L4.DNP028_press          0.006465         0.000524           12.336           0.000\n",
       "L4.GLF001_wl            -0.029193         0.005066           -5.763           0.000\n",
       "L4.DNP006_humid         -0.000147         0.000097           -1.508           0.131\n",
       "L4.DNP002_temp           0.001788         0.000559            3.200           0.001\n",
       "L4.DNP032_temp          -0.002831         0.000535           -5.288           0.000\n",
       "L4.DNP002_humid          0.000114         0.000126            0.902           0.367\n",
       "L4.DNP007_temp          -0.001256         0.000463           -2.716           0.007\n",
       "L4.DNP008_temp          -0.001419         0.000540           -2.625           0.009\n",
       "L4.CPY015_rain1h         0.000184         0.000511            0.360           0.719\n",
       "L4.DNP033_rain1h         0.001150         0.000555            2.072           0.038\n",
       "L4.PAS005_wl             0.002889         0.001877            1.539           0.124\n",
       "L4.DNP010_humid          0.000096         0.000100            0.960           0.337\n",
       "L4.CPY009_temp          -0.000108         0.000220           -0.489           0.625\n",
       "L4.YOM009_wl             0.003135         0.003600            0.871           0.384\n",
       "L4.DNP027_temp          -0.000985         0.000274           -3.592           0.000\n",
       "L4.CPY013_wl            -0.029395         0.005110           -5.752           0.000\n",
       "L4.NAN002_wl            -0.000526         0.003756           -0.140           0.889\n",
       "L4.KWN002_rain1h        -0.000081         0.000649           -0.124           0.901\n",
       "L4.DNP033_temp          -0.000066         0.000369           -0.179           0.858\n",
       "L4.DNP004_humid          0.000236         0.000097            2.422           0.015\n",
       "L4.DNP007_humid          0.000113         0.000122            0.924           0.356\n",
       "L4.NAN013_wl            -0.005490         0.003821           -1.437           0.151\n",
       "L4.DNP025_temp           0.002200         0.000428            5.137           0.000\n",
       "L4.PIN001_wl             0.009664         0.011935            0.810           0.418\n",
       "L4.PAS001_wl             0.006695         0.005278            1.269           0.205\n",
       "L4.DNP006_temp          -0.001736         0.000486           -3.575           0.000\n",
       "L4.CPY012_wl            -0.037835         0.005877           -6.438           0.000\n",
       "L4.CPY015_wl             0.001629         0.004760            0.342           0.732\n",
       "===================================================================================\n",
       "\n",
       "Correlation matrix of residuals\n",
       "                 DNP028_press  GLF001_wl  DNP006_humid  DNP002_temp  DNP032_temp  DNP002_humid  DNP007_temp  DNP008_temp  CPY015_rain1h  DNP033_rain1h  PAS005_wl  DNP010_humid  CPY009_temp  YOM009_wl  DNP027_temp  CPY013_wl  NAN002_wl  KWN002_rain1h  DNP033_temp  DNP004_humid  DNP007_humid  NAN013_wl  DNP025_temp  PIN001_wl  PAS001_wl  DNP006_temp  CPY012_wl  CPY015_wl\n",
       "DNP028_press         1.000000  -0.030946     -0.001732    -0.025721     0.011056      0.011143    -0.023587     0.011332       0.001290      -0.001516  -0.011325      0.003303     0.012725   0.008200    -0.008218  -0.000754   0.008727       0.000327    -0.017566      0.012330      0.004296   0.006782    -0.007621  -0.001128   0.016880    -0.006905   0.007178  -0.019892\n",
       "GLF001_wl           -0.030946   1.000000      0.014357    -0.057895    -0.046128      0.031082    -0.040521    -0.051010      -0.003179       0.009489   0.002162      0.020583     0.018164   0.000157    -0.020866  -0.002029  -0.010651       0.005294    -0.038043      0.008090      0.018250  -0.014733    -0.065506   0.016137   0.001044    -0.045783   0.002613  -0.017575\n",
       "DNP006_humid        -0.001732   0.014357      1.000000    -0.057097     0.011919      0.098704    -0.052338    -0.127937       0.004061      -0.002929   0.003903      0.181677    -0.000352   0.004598    -0.030549   0.007542   0.001107       0.001565    -0.058663      0.262729      0.103020   0.007459    -0.088026  -0.012468   0.003131    -0.440409   0.007383   0.014141\n",
       "DNP002_temp         -0.025721  -0.057895     -0.057097     1.000000     0.295765     -0.606516     0.170711     0.261805      -0.008247       0.000540  -0.008351     -0.116359    -0.058270  -0.006636     0.143239  -0.004005  -0.004978      -0.008446     0.211103     -0.103703     -0.075104  -0.015432     0.280022  -0.025201  -0.005001     0.262003   0.001366  -0.054106\n",
       "DNP032_temp          0.011056  -0.046128      0.011919     0.295765     1.000000     -0.163428     0.175427     0.219650      -0.002120      -0.052990  -0.026590     -0.093441    -0.089444   0.001087     0.147974  -0.001924  -0.015834      -0.011424     0.332074     -0.049677     -0.080732  -0.013011     0.214264  -0.012015  -0.009325     0.157907  -0.002254  -0.027789\n",
       "DNP002_humid         0.011143   0.031082      0.098704    -0.606516    -0.163428      1.000000    -0.087331    -0.134388       0.003778      -0.005420   0.002527      0.111673     0.019794   0.010248    -0.064727  -0.004972  -0.000249       0.004859    -0.120502      0.149614      0.081090   0.009588    -0.167299   0.012281   0.007322    -0.146179  -0.000069   0.030161\n",
       "DNP007_temp         -0.023587  -0.040521     -0.052338     0.170711     0.175427     -0.087331     1.000000     0.135927      -0.001317      -0.002480  -0.008068     -0.095701    -0.027241   0.000747     0.158339  -0.007256   0.001156      -0.013658     0.140182     -0.049999     -0.487355  -0.008136     0.234027  -0.017938  -0.000385     0.175567  -0.000904  -0.036181\n",
       "DNP008_temp          0.011332  -0.051010     -0.127937     0.261805     0.219650     -0.134388     0.135927     1.000000       0.000925       0.004735  -0.026665     -0.239194    -0.069139  -0.008180     0.134314  -0.008556  -0.000805      -0.010884     0.149762     -0.181277     -0.092710  -0.008469     0.159120  -0.002872   0.000449     0.318909   0.008740  -0.032762\n",
       "CPY015_rain1h        0.001290  -0.003179      0.004061    -0.008247    -0.002120      0.003778    -0.001317     0.000925       1.000000       0.012025  -0.002137      0.005362     0.018847   0.003057    -0.001907   0.008280  -0.001240       0.008781    -0.004028     -0.008334     -0.002151   0.002906    -0.005909  -0.002722  -0.001209     0.001027   0.005321   0.006698\n",
       "DNP033_rain1h       -0.001516   0.009489     -0.002929     0.000540    -0.052990     -0.005420    -0.002480     0.004735       0.012025       1.000000  -0.001954     -0.003533    -0.013436   0.001235    -0.001457  -0.012027  -0.003687      -0.002710    -0.088675     -0.003327     -0.000250   0.004490    -0.001310   0.002671   0.008933    -0.000900  -0.002343   0.007043\n",
       "PAS005_wl           -0.011325   0.002162      0.003903    -0.008351    -0.026590      0.002527    -0.008068    -0.026665      -0.002137      -0.001954   1.000000      0.013531     0.008495   0.028556    -0.006257   0.021197   0.015378       0.005204    -0.014336      0.006392      0.010638   0.051133     0.007356   0.009779   0.024306    -0.022879   0.034644  -0.002912\n",
       "DNP010_humid         0.003303   0.020583      0.181677    -0.116359    -0.093441      0.111673    -0.095701    -0.239194       0.005362      -0.003533   0.013531      1.000000     0.047373   0.008838    -0.065303   0.001226  -0.006119       0.006723    -0.073339      0.214723      0.152997   0.002715    -0.116324   0.002578   0.002785    -0.170169  -0.011506   0.014671\n",
       "CPY009_temp          0.012725   0.018164     -0.000352    -0.058270    -0.089444      0.019794    -0.027241    -0.069139       0.018847      -0.013436   0.008495      0.047373     1.000000   0.010750    -0.048659   0.010999   0.012082       0.004233    -0.029399      0.015127      0.003317   0.020487    -0.007042  -0.006293  -0.001968    -0.029721  -0.002763   0.005252\n",
       "YOM009_wl            0.008200   0.000157      0.004598    -0.006636     0.001087      0.010248     0.000747    -0.008180       0.003057       0.001235   0.028556      0.008838     0.010750   1.000000    -0.002256   0.009516   0.028711       0.002704     0.007219      0.006394      0.005100   0.051440     0.000371  -0.001257   0.039242    -0.005446   0.016425   0.003952\n",
       "DNP027_temp         -0.008218  -0.020866     -0.030549     0.143239     0.147974     -0.064727     0.158339     0.134314      -0.001907      -0.001457  -0.006257     -0.065303    -0.048659  -0.002256     1.000000  -0.009641   0.000842      -0.015253     0.118454     -0.037634     -0.093079   0.004098     0.137850  -0.023869  -0.002990     0.110167  -0.004333  -0.023865\n",
       "CPY013_wl           -0.000754  -0.002029      0.007542    -0.004005    -0.001924     -0.004972    -0.007256    -0.008556       0.008280      -0.012027   0.021197      0.001226     0.010999   0.009516    -0.009641   1.000000   0.012626       0.008200    -0.015612      0.001002     -0.006213   0.042083    -0.018169  -0.001794   0.011186    -0.031445   0.183943   0.044218\n",
       "NAN002_wl            0.008727  -0.010651      0.001107    -0.004978    -0.015834     -0.000249     0.001156    -0.000805      -0.001240      -0.003687   0.015378     -0.006119     0.012082   0.028711     0.000842   0.012626   1.000000       0.005651    -0.006969     -0.004251      0.002325   0.036148     0.001523  -0.010518   0.038527     0.000782   0.018482  -0.003344\n",
       "KWN002_rain1h        0.000327   0.005294      0.001565    -0.008446    -0.011424      0.004859    -0.013658    -0.010884       0.008781      -0.002710   0.005204      0.006723     0.004233   0.002704    -0.015253   0.008200   0.005651       1.000000     0.000153      0.000868      0.012631   0.010685    -0.015860   0.005850  -0.008510    -0.004925   0.001804   0.009293\n",
       "DNP033_temp         -0.017566  -0.038043     -0.058663     0.211103     0.332074     -0.120502     0.140182     0.149762      -0.004028      -0.088675  -0.014336     -0.073339    -0.029399   0.007219     0.118454  -0.015612  -0.006969       0.000153     1.000000     -0.049152     -0.068285  -0.000754     0.260194   0.019063  -0.000218     0.251415  -0.002767  -0.041417\n",
       "DNP004_humid         0.012330   0.008090      0.262729    -0.103703    -0.049677      0.149614    -0.049999    -0.181277      -0.008334      -0.003327   0.006392      0.214723     0.015127   0.006394    -0.037634   0.001002  -0.004251       0.000868    -0.049152      1.000000      0.121520   0.004114    -0.086619  -0.021177   0.004703    -0.187663   0.001375   0.012293\n",
       "DNP007_humid         0.004296   0.018250      0.103020    -0.075104    -0.080732      0.081090    -0.487355    -0.092710      -0.002151      -0.000250   0.010638      0.152997     0.003317   0.005100    -0.093079  -0.006213   0.002325       0.012631    -0.068285      0.121520      1.000000  -0.000444    -0.156962   0.013856   0.004628    -0.091148  -0.009826   0.018269\n",
       "NAN013_wl            0.006782  -0.014733      0.007459    -0.015432    -0.013011      0.009588    -0.008136    -0.008469       0.002906       0.004490   0.051133      0.002715     0.020487   0.051440     0.004098   0.042083   0.036148       0.010685    -0.000754      0.004114     -0.000444   1.000000    -0.005417   0.063793   0.142873    -0.018783   0.013001   0.005085\n",
       "DNP025_temp         -0.007621  -0.065506     -0.088026     0.280022     0.214264     -0.167299     0.234027     0.159120      -0.005909      -0.001310   0.007356     -0.116324    -0.007042   0.000371     0.137850  -0.018169   0.001523      -0.015860     0.260194     -0.086619     -0.156962  -0.005417     1.000000  -0.007347   0.002616     0.296911   0.006731  -0.054660\n",
       "PIN001_wl           -0.001128   0.016137     -0.012468    -0.025201    -0.012015      0.012281    -0.017938    -0.002872      -0.002722       0.002671   0.009779      0.002578    -0.006293  -0.001257    -0.023869  -0.001794  -0.010518       0.005850     0.019063     -0.021177      0.013856   0.063793    -0.007347   1.000000   0.035045     0.006280   0.002142   0.003024\n",
       "PAS001_wl            0.016880   0.001044      0.003131    -0.005001    -0.009325      0.007322    -0.000385     0.000449      -0.001209       0.008933   0.024306      0.002785    -0.001968   0.039242    -0.002990   0.011186   0.038527      -0.008510    -0.000218      0.004703      0.004628   0.142873     0.002616   0.035045   1.000000     0.002015  -0.005138   0.002215\n",
       "DNP006_temp         -0.006905  -0.045783     -0.440409     0.262003     0.157907     -0.146179     0.175567     0.318909       0.001027      -0.000900  -0.022879     -0.170169    -0.029721  -0.005446     0.110167  -0.031445   0.000782      -0.004925     0.251415     -0.187663     -0.091148  -0.018783     0.296911   0.006280   0.002015     1.000000  -0.003634  -0.034653\n",
       "CPY012_wl            0.007178   0.002613      0.007383     0.001366    -0.002254     -0.000069    -0.000904     0.008740       0.005321      -0.002343   0.034644     -0.011506    -0.002763   0.016425    -0.004333   0.183943   0.018482       0.001804    -0.002767      0.001375     -0.009826   0.013001     0.006731   0.002142  -0.005138    -0.003634   1.000000   0.059262\n",
       "CPY015_wl           -0.019892  -0.017575      0.014141    -0.054106    -0.027789      0.030161    -0.036181    -0.032762       0.006698       0.007043  -0.002912      0.014671     0.005252   0.003952    -0.023865   0.044218  -0.003344       0.009293    -0.041417      0.012293      0.018269   0.005085    -0.054660   0.003024   0.002215    -0.034653   0.059262   1.000000\n",
       "\n"
      ]
     },
     "metadata": {},
     "execution_count": 26
    }
   ],
   "source": [
    "model_fitted = model.fit(4)\n",
    "model_fitted.summary()"
   ]
  },
  {
   "cell_type": "code",
   "execution_count": 27,
   "metadata": {},
   "outputs": [
    {
     "output_type": "stream",
     "name": "stdout",
     "text": [
      "4\n"
     ]
    },
    {
     "output_type": "execute_result",
     "data": {
      "text/plain": [
       "array([[ 9.35630000e+02,  1.56000000e+00,  8.98300000e+01,\n",
       "         2.20500000e+01,  2.15600000e+01,  6.51700000e+01,\n",
       "         2.30300000e+01,  1.91100000e+01,  0.00000000e+00,\n",
       "         0.00000000e+00,  4.22200000e+01,  8.71700000e+01,\n",
       "         3.18500000e+01,  2.68833333e+01,  2.20500000e+01,\n",
       "         9.80000000e-01,  1.97355000e+02,  0.00000000e+00,\n",
       "         1.81300000e+01,  7.53646592e+01,  7.75000000e+01,\n",
       "         4.13300000e+01,  2.64600000e+01,  1.19166667e+02,\n",
       "         1.40308622e+02,  1.96000000e+01,  1.20166667e+00,\n",
       "        -3.83333333e-02],\n",
       "       [ 9.36710000e+02,  1.26833333e+00,  9.48300000e+01,\n",
       "         2.15600000e+01,  2.05800000e+01,  6.36700000e+01,\n",
       "         2.20500000e+01,  1.86200000e+01,  0.00000000e+00,\n",
       "         0.00000000e+00,  4.22200000e+01,  9.11700000e+01,\n",
       "         3.28300000e+01,  2.68900000e+01,  2.15600000e+01,\n",
       "         9.98333333e-01,  1.97360000e+02,  0.00000000e+00,\n",
       "         1.76400000e+01,  7.53646592e+01,  8.15000000e+01,\n",
       "         4.13300000e+01,  2.40100000e+01,  1.19321667e+02,\n",
       "         1.40308622e+02,  1.81300000e+01,  1.31666667e+00,\n",
       "        -2.55000000e-01],\n",
       "       [ 9.36710000e+02,  9.05000000e-01,  9.88300000e+01,\n",
       "         2.05800000e+01,  2.00900000e+01,  6.75000000e+01,\n",
       "         2.15600000e+01,  1.71500000e+01,  0.00000000e+00,\n",
       "         0.00000000e+00,  4.22200000e+01,  9.43300000e+01,\n",
       "         3.23400000e+01,  2.68900000e+01,  2.05800000e+01,\n",
       "         9.81666667e-01,  1.97360000e+02,  0.00000000e+00,\n",
       "         1.71500000e+01,  7.53646592e+01,  8.45000000e+01,\n",
       "         4.13300000e+01,  2.25400000e+01,  1.19476667e+02,\n",
       "         1.40308622e+02,  1.76400000e+01,  1.33000000e+00,\n",
       "        -4.15000000e-01],\n",
       "       [ 9.37800000e+02,  5.51666667e-01,  7.47014806e+01,\n",
       "         1.96000000e+01,  1.96000000e+01,  7.05000000e+01,\n",
       "         2.05800000e+01,  1.71500000e+01,  0.00000000e+00,\n",
       "         0.00000000e+00,  4.22183333e+01,  9.55000000e+01,\n",
       "         3.43000000e+01,  2.68900000e+01,  1.96000000e+01,\n",
       "         9.03333333e-01,  1.97363333e+02,  0.00000000e+00,\n",
       "         1.66600000e+01,  7.53646592e+01,  8.78300000e+01,\n",
       "         4.13300000e+01,  2.25400000e+01,  1.19630000e+02,\n",
       "         1.40308622e+02,  1.71500000e+01,  1.32166667e+00,\n",
       "        -4.85000000e-01]])"
      ]
     },
     "metadata": {},
     "execution_count": 27
    }
   ],
   "source": [
    "lag_order = model_fitted.k_ar   \n",
    "print(lag_order)  #> 4\n",
    "\n",
    "# Input data for forecasting\n",
    "forecast_input = test.values[-lag_order:]\n",
    "forecast_input"
   ]
  },
  {
   "cell_type": "code",
   "execution_count": 28,
   "metadata": {},
   "outputs": [
    {
     "output_type": "execute_result",
     "data": {
      "text/plain": [
       "                     DNP028_press_2d  GLF001_wl_2d  DNP006_humid_2d  \\\n",
       "date                                                                  \n",
       "2017-12-24 20:00:00       937.139697      0.300645        77.782017   \n",
       "2017-12-24 21:00:00       936.980625      0.161930        78.426435   \n",
       "2017-12-24 22:00:00       936.610898      0.164726        77.649327   \n",
       "2017-12-24 23:00:00       936.475450      0.298226        76.953467   \n",
       "\n",
       "                     DNP002_temp_2d  DNP032_temp_2d  DNP002_humid_2d  \\\n",
       "date                                                                   \n",
       "2017-12-24 20:00:00       19.068220       18.891805        72.040407   \n",
       "2017-12-24 21:00:00       19.019191       18.692422        72.930838   \n",
       "2017-12-24 22:00:00       19.392180       18.891676        73.027530   \n",
       "2017-12-24 23:00:00       20.058622       19.609979        72.049985   \n",
       "\n",
       "                     DNP007_temp_2d  DNP008_temp_2d  CPY015_rain1h_2d  \\\n",
       "date                                                                    \n",
       "2017-12-24 20:00:00       19.944447       16.859891          0.037525   \n",
       "2017-12-24 21:00:00       19.449394       16.815759         -0.025087   \n",
       "2017-12-24 22:00:00       19.086428       17.149344         -0.055256   \n",
       "2017-12-24 23:00:00       19.289789       17.698210         -0.070798   \n",
       "\n",
       "                     DNP033_rain1h_2d  ...  DNP033_temp_2d  DNP004_humid_2d  \\\n",
       "date                                   ...                                    \n",
       "2017-12-24 20:00:00         -0.072343  ...       17.282835        77.222369   \n",
       "2017-12-24 21:00:00         -0.088847  ...       17.542529        77.902245   \n",
       "2017-12-24 22:00:00         -0.045454  ...       18.104482        77.974661   \n",
       "2017-12-24 23:00:00         -0.041615  ...       18.737152        77.712905   \n",
       "\n",
       "                     DNP007_humid_2d  NAN013_wl_2d  DNP025_temp_2d  \\\n",
       "date                                                                 \n",
       "2017-12-24 20:00:00        88.206055     41.345033       21.755237   \n",
       "2017-12-24 21:00:00        89.115523     41.352572       21.029310   \n",
       "2017-12-24 22:00:00        89.313011     41.365973       20.860856   \n",
       "2017-12-24 23:00:00        88.410086     41.370315       21.155439   \n",
       "\n",
       "                     PIN001_wl_2d  PAS001_wl_2d  DNP006_temp_2d  CPY012_wl_2d  \\\n",
       "date                                                                            \n",
       "2017-12-24 20:00:00    119.702681    140.297733       17.042952      1.293316   \n",
       "2017-12-24 21:00:00    119.716061    140.293180       16.655664      1.234357   \n",
       "2017-12-24 22:00:00    119.684872    140.283993       16.604989      1.158262   \n",
       "2017-12-24 23:00:00    119.624950    140.272485       17.025242      1.073779   \n",
       "\n",
       "                     CPY015_wl_2d  \n",
       "date                               \n",
       "2017-12-24 20:00:00     -0.351309  \n",
       "2017-12-24 21:00:00     -0.107219  \n",
       "2017-12-24 22:00:00      0.194701  \n",
       "2017-12-24 23:00:00      0.499808  \n",
       "\n",
       "[4 rows x 28 columns]"
      ],
      "text/html": "<div>\n<style scoped>\n    .dataframe tbody tr th:only-of-type {\n        vertical-align: middle;\n    }\n\n    .dataframe tbody tr th {\n        vertical-align: top;\n    }\n\n    .dataframe thead th {\n        text-align: right;\n    }\n</style>\n<table border=\"1\" class=\"dataframe\">\n  <thead>\n    <tr style=\"text-align: right;\">\n      <th></th>\n      <th>DNP028_press_2d</th>\n      <th>GLF001_wl_2d</th>\n      <th>DNP006_humid_2d</th>\n      <th>DNP002_temp_2d</th>\n      <th>DNP032_temp_2d</th>\n      <th>DNP002_humid_2d</th>\n      <th>DNP007_temp_2d</th>\n      <th>DNP008_temp_2d</th>\n      <th>CPY015_rain1h_2d</th>\n      <th>DNP033_rain1h_2d</th>\n      <th>...</th>\n      <th>DNP033_temp_2d</th>\n      <th>DNP004_humid_2d</th>\n      <th>DNP007_humid_2d</th>\n      <th>NAN013_wl_2d</th>\n      <th>DNP025_temp_2d</th>\n      <th>PIN001_wl_2d</th>\n      <th>PAS001_wl_2d</th>\n      <th>DNP006_temp_2d</th>\n      <th>CPY012_wl_2d</th>\n      <th>CPY015_wl_2d</th>\n    </tr>\n    <tr>\n      <th>date</th>\n      <th></th>\n      <th></th>\n      <th></th>\n      <th></th>\n      <th></th>\n      <th></th>\n      <th></th>\n      <th></th>\n      <th></th>\n      <th></th>\n      <th></th>\n      <th></th>\n      <th></th>\n      <th></th>\n      <th></th>\n      <th></th>\n      <th></th>\n      <th></th>\n      <th></th>\n      <th></th>\n      <th></th>\n    </tr>\n  </thead>\n  <tbody>\n    <tr>\n      <th>2017-12-24 20:00:00</th>\n      <td>937.139697</td>\n      <td>0.300645</td>\n      <td>77.782017</td>\n      <td>19.068220</td>\n      <td>18.891805</td>\n      <td>72.040407</td>\n      <td>19.944447</td>\n      <td>16.859891</td>\n      <td>0.037525</td>\n      <td>-0.072343</td>\n      <td>...</td>\n      <td>17.282835</td>\n      <td>77.222369</td>\n      <td>88.206055</td>\n      <td>41.345033</td>\n      <td>21.755237</td>\n      <td>119.702681</td>\n      <td>140.297733</td>\n      <td>17.042952</td>\n      <td>1.293316</td>\n      <td>-0.351309</td>\n    </tr>\n    <tr>\n      <th>2017-12-24 21:00:00</th>\n      <td>936.980625</td>\n      <td>0.161930</td>\n      <td>78.426435</td>\n      <td>19.019191</td>\n      <td>18.692422</td>\n      <td>72.930838</td>\n      <td>19.449394</td>\n      <td>16.815759</td>\n      <td>-0.025087</td>\n      <td>-0.088847</td>\n      <td>...</td>\n      <td>17.542529</td>\n      <td>77.902245</td>\n      <td>89.115523</td>\n      <td>41.352572</td>\n      <td>21.029310</td>\n      <td>119.716061</td>\n      <td>140.293180</td>\n      <td>16.655664</td>\n      <td>1.234357</td>\n      <td>-0.107219</td>\n    </tr>\n    <tr>\n      <th>2017-12-24 22:00:00</th>\n      <td>936.610898</td>\n      <td>0.164726</td>\n      <td>77.649327</td>\n      <td>19.392180</td>\n      <td>18.891676</td>\n      <td>73.027530</td>\n      <td>19.086428</td>\n      <td>17.149344</td>\n      <td>-0.055256</td>\n      <td>-0.045454</td>\n      <td>...</td>\n      <td>18.104482</td>\n      <td>77.974661</td>\n      <td>89.313011</td>\n      <td>41.365973</td>\n      <td>20.860856</td>\n      <td>119.684872</td>\n      <td>140.283993</td>\n      <td>16.604989</td>\n      <td>1.158262</td>\n      <td>0.194701</td>\n    </tr>\n    <tr>\n      <th>2017-12-24 23:00:00</th>\n      <td>936.475450</td>\n      <td>0.298226</td>\n      <td>76.953467</td>\n      <td>20.058622</td>\n      <td>19.609979</td>\n      <td>72.049985</td>\n      <td>19.289789</td>\n      <td>17.698210</td>\n      <td>-0.070798</td>\n      <td>-0.041615</td>\n      <td>...</td>\n      <td>18.737152</td>\n      <td>77.712905</td>\n      <td>88.410086</td>\n      <td>41.370315</td>\n      <td>21.155439</td>\n      <td>119.624950</td>\n      <td>140.272485</td>\n      <td>17.025242</td>\n      <td>1.073779</td>\n      <td>0.499808</td>\n    </tr>\n  </tbody>\n</table>\n<p>4 rows × 28 columns</p>\n</div>"
     },
     "metadata": {},
     "execution_count": 28
    }
   ],
   "source": [
    "fc = model_fitted.forecast(y=forecast_input, steps=nobs)\n",
    "df_forecast = pd.DataFrame(fc, index=data.index[-nobs:], columns=data.columns + '_2d')\n",
    "df_forecast"
   ]
  },
  {
   "cell_type": "code",
   "execution_count": 29,
   "metadata": {},
   "outputs": [
    {
     "output_type": "error",
     "ename": "KeyError",
     "evalue": "'DNP028_press_forecast'",
     "traceback": [
      "\u001b[0;31m---------------------------------------------------------------------------\u001b[0m",
      "\u001b[0;31mKeyError\u001b[0m                                  Traceback (most recent call last)",
      "\u001b[0;32m~/anaconda3/envs/tf/lib/python3.8/site-packages/pandas/core/indexes/base.py\u001b[0m in \u001b[0;36mget_loc\u001b[0;34m(self, key, method, tolerance)\u001b[0m\n\u001b[1;32m   2894\u001b[0m             \u001b[0;32mtry\u001b[0m\u001b[0;34m:\u001b[0m\u001b[0;34m\u001b[0m\u001b[0;34m\u001b[0m\u001b[0m\n\u001b[0;32m-> 2895\u001b[0;31m                 \u001b[0;32mreturn\u001b[0m \u001b[0mself\u001b[0m\u001b[0;34m.\u001b[0m\u001b[0m_engine\u001b[0m\u001b[0;34m.\u001b[0m\u001b[0mget_loc\u001b[0m\u001b[0;34m(\u001b[0m\u001b[0mcasted_key\u001b[0m\u001b[0;34m)\u001b[0m\u001b[0;34m\u001b[0m\u001b[0;34m\u001b[0m\u001b[0m\n\u001b[0m\u001b[1;32m   2896\u001b[0m             \u001b[0;32mexcept\u001b[0m \u001b[0mKeyError\u001b[0m \u001b[0;32mas\u001b[0m \u001b[0merr\u001b[0m\u001b[0;34m:\u001b[0m\u001b[0;34m\u001b[0m\u001b[0;34m\u001b[0m\u001b[0m\n",
      "\u001b[0;32mpandas/_libs/index.pyx\u001b[0m in \u001b[0;36mpandas._libs.index.IndexEngine.get_loc\u001b[0;34m()\u001b[0m\n",
      "\u001b[0;32mpandas/_libs/index.pyx\u001b[0m in \u001b[0;36mpandas._libs.index.IndexEngine.get_loc\u001b[0;34m()\u001b[0m\n",
      "\u001b[0;32mpandas/_libs/hashtable_class_helper.pxi\u001b[0m in \u001b[0;36mpandas._libs.hashtable.PyObjectHashTable.get_item\u001b[0;34m()\u001b[0m\n",
      "\u001b[0;32mpandas/_libs/hashtable_class_helper.pxi\u001b[0m in \u001b[0;36mpandas._libs.hashtable.PyObjectHashTable.get_item\u001b[0;34m()\u001b[0m\n",
      "\u001b[0;31mKeyError\u001b[0m: 'DNP028_press_forecast'",
      "\nThe above exception was the direct cause of the following exception:\n",
      "\u001b[0;31mKeyError\u001b[0m                                  Traceback (most recent call last)",
      "\u001b[0;32m<ipython-input-29-acf9d0004b0b>\u001b[0m in \u001b[0;36m<module>\u001b[0;34m\u001b[0m\n\u001b[1;32m      6\u001b[0m \u001b[0mfig\u001b[0m\u001b[0;34m,\u001b[0m \u001b[0maxes\u001b[0m \u001b[0;34m=\u001b[0m \u001b[0mplt\u001b[0m\u001b[0;34m.\u001b[0m\u001b[0msubplots\u001b[0m\u001b[0;34m(\u001b[0m\u001b[0mnrows\u001b[0m\u001b[0;34m=\u001b[0m\u001b[0mint\u001b[0m\u001b[0;34m(\u001b[0m\u001b[0mlen\u001b[0m\u001b[0;34m(\u001b[0m\u001b[0mdf\u001b[0m\u001b[0;34m.\u001b[0m\u001b[0mcolumns\u001b[0m\u001b[0;34m)\u001b[0m\u001b[0;34m/\u001b[0m\u001b[0;36m2\u001b[0m\u001b[0;34m)\u001b[0m\u001b[0;34m,\u001b[0m \u001b[0mncols\u001b[0m\u001b[0;34m=\u001b[0m\u001b[0;36m2\u001b[0m\u001b[0;34m,\u001b[0m \u001b[0mdpi\u001b[0m\u001b[0;34m=\u001b[0m\u001b[0;36m150\u001b[0m\u001b[0;34m,\u001b[0m \u001b[0mfigsize\u001b[0m\u001b[0;34m=\u001b[0m\u001b[0;34m(\u001b[0m\u001b[0;36m10\u001b[0m\u001b[0;34m,\u001b[0m\u001b[0;36m10\u001b[0m\u001b[0;34m)\u001b[0m\u001b[0;34m)\u001b[0m\u001b[0;34m\u001b[0m\u001b[0;34m\u001b[0m\u001b[0m\n\u001b[1;32m      7\u001b[0m \u001b[0;32mfor\u001b[0m \u001b[0mi\u001b[0m\u001b[0;34m,\u001b[0m \u001b[0;34m(\u001b[0m\u001b[0mcol\u001b[0m\u001b[0;34m,\u001b[0m\u001b[0max\u001b[0m\u001b[0;34m)\u001b[0m \u001b[0;32min\u001b[0m \u001b[0menumerate\u001b[0m\u001b[0;34m(\u001b[0m\u001b[0mzip\u001b[0m\u001b[0;34m(\u001b[0m\u001b[0mdf\u001b[0m\u001b[0;34m.\u001b[0m\u001b[0mcolumns\u001b[0m\u001b[0;34m,\u001b[0m \u001b[0maxes\u001b[0m\u001b[0;34m.\u001b[0m\u001b[0mflatten\u001b[0m\u001b[0;34m(\u001b[0m\u001b[0;34m)\u001b[0m\u001b[0;34m)\u001b[0m\u001b[0;34m)\u001b[0m\u001b[0;34m:\u001b[0m\u001b[0;34m\u001b[0m\u001b[0;34m\u001b[0m\u001b[0m\n\u001b[0;32m----> 8\u001b[0;31m     \u001b[0mdf_results\u001b[0m\u001b[0;34m[\u001b[0m\u001b[0mcol\u001b[0m\u001b[0;34m+\u001b[0m\u001b[0;34m'_forecast'\u001b[0m\u001b[0;34m]\u001b[0m\u001b[0;34m.\u001b[0m\u001b[0mplot\u001b[0m\u001b[0;34m(\u001b[0m\u001b[0mlegend\u001b[0m\u001b[0;34m=\u001b[0m\u001b[0;32mTrue\u001b[0m\u001b[0;34m,\u001b[0m \u001b[0max\u001b[0m\u001b[0;34m=\u001b[0m\u001b[0max\u001b[0m\u001b[0;34m)\u001b[0m\u001b[0;34m.\u001b[0m\u001b[0mautoscale\u001b[0m\u001b[0;34m(\u001b[0m\u001b[0maxis\u001b[0m\u001b[0;34m=\u001b[0m\u001b[0;34m'x'\u001b[0m\u001b[0;34m,\u001b[0m\u001b[0mtight\u001b[0m\u001b[0;34m=\u001b[0m\u001b[0;32mTrue\u001b[0m\u001b[0;34m)\u001b[0m\u001b[0;34m\u001b[0m\u001b[0;34m\u001b[0m\u001b[0m\n\u001b[0m\u001b[1;32m      9\u001b[0m     \u001b[0mdf_test\u001b[0m\u001b[0;34m[\u001b[0m\u001b[0mcol\u001b[0m\u001b[0;34m]\u001b[0m\u001b[0;34m[\u001b[0m\u001b[0;34m-\u001b[0m\u001b[0mnobs\u001b[0m\u001b[0;34m:\u001b[0m\u001b[0;34m]\u001b[0m\u001b[0;34m.\u001b[0m\u001b[0mplot\u001b[0m\u001b[0;34m(\u001b[0m\u001b[0mlegend\u001b[0m\u001b[0;34m=\u001b[0m\u001b[0;32mTrue\u001b[0m\u001b[0;34m,\u001b[0m \u001b[0max\u001b[0m\u001b[0;34m=\u001b[0m\u001b[0max\u001b[0m\u001b[0;34m)\u001b[0m\u001b[0;34m;\u001b[0m\u001b[0;34m\u001b[0m\u001b[0;34m\u001b[0m\u001b[0m\n\u001b[1;32m     10\u001b[0m     \u001b[0max\u001b[0m\u001b[0;34m.\u001b[0m\u001b[0mset_title\u001b[0m\u001b[0;34m(\u001b[0m\u001b[0mcol\u001b[0m \u001b[0;34m+\u001b[0m \u001b[0;34m\": Forecast vs Actuals\"\u001b[0m\u001b[0;34m)\u001b[0m\u001b[0;34m\u001b[0m\u001b[0;34m\u001b[0m\u001b[0m\n",
      "\u001b[0;32m~/anaconda3/envs/tf/lib/python3.8/site-packages/pandas/core/frame.py\u001b[0m in \u001b[0;36m__getitem__\u001b[0;34m(self, key)\u001b[0m\n\u001b[1;32m   2900\u001b[0m             \u001b[0;32mif\u001b[0m \u001b[0mself\u001b[0m\u001b[0;34m.\u001b[0m\u001b[0mcolumns\u001b[0m\u001b[0;34m.\u001b[0m\u001b[0mnlevels\u001b[0m \u001b[0;34m>\u001b[0m \u001b[0;36m1\u001b[0m\u001b[0;34m:\u001b[0m\u001b[0;34m\u001b[0m\u001b[0;34m\u001b[0m\u001b[0m\n\u001b[1;32m   2901\u001b[0m                 \u001b[0;32mreturn\u001b[0m \u001b[0mself\u001b[0m\u001b[0;34m.\u001b[0m\u001b[0m_getitem_multilevel\u001b[0m\u001b[0;34m(\u001b[0m\u001b[0mkey\u001b[0m\u001b[0;34m)\u001b[0m\u001b[0;34m\u001b[0m\u001b[0;34m\u001b[0m\u001b[0m\n\u001b[0;32m-> 2902\u001b[0;31m             \u001b[0mindexer\u001b[0m \u001b[0;34m=\u001b[0m \u001b[0mself\u001b[0m\u001b[0;34m.\u001b[0m\u001b[0mcolumns\u001b[0m\u001b[0;34m.\u001b[0m\u001b[0mget_loc\u001b[0m\u001b[0;34m(\u001b[0m\u001b[0mkey\u001b[0m\u001b[0;34m)\u001b[0m\u001b[0;34m\u001b[0m\u001b[0;34m\u001b[0m\u001b[0m\n\u001b[0m\u001b[1;32m   2903\u001b[0m             \u001b[0;32mif\u001b[0m \u001b[0mis_integer\u001b[0m\u001b[0;34m(\u001b[0m\u001b[0mindexer\u001b[0m\u001b[0;34m)\u001b[0m\u001b[0;34m:\u001b[0m\u001b[0;34m\u001b[0m\u001b[0;34m\u001b[0m\u001b[0m\n\u001b[1;32m   2904\u001b[0m                 \u001b[0mindexer\u001b[0m \u001b[0;34m=\u001b[0m \u001b[0;34m[\u001b[0m\u001b[0mindexer\u001b[0m\u001b[0;34m]\u001b[0m\u001b[0;34m\u001b[0m\u001b[0;34m\u001b[0m\u001b[0m\n",
      "\u001b[0;32m~/anaconda3/envs/tf/lib/python3.8/site-packages/pandas/core/indexes/base.py\u001b[0m in \u001b[0;36mget_loc\u001b[0;34m(self, key, method, tolerance)\u001b[0m\n\u001b[1;32m   2895\u001b[0m                 \u001b[0;32mreturn\u001b[0m \u001b[0mself\u001b[0m\u001b[0;34m.\u001b[0m\u001b[0m_engine\u001b[0m\u001b[0;34m.\u001b[0m\u001b[0mget_loc\u001b[0m\u001b[0;34m(\u001b[0m\u001b[0mcasted_key\u001b[0m\u001b[0;34m)\u001b[0m\u001b[0;34m\u001b[0m\u001b[0;34m\u001b[0m\u001b[0m\n\u001b[1;32m   2896\u001b[0m             \u001b[0;32mexcept\u001b[0m \u001b[0mKeyError\u001b[0m \u001b[0;32mas\u001b[0m \u001b[0merr\u001b[0m\u001b[0;34m:\u001b[0m\u001b[0;34m\u001b[0m\u001b[0;34m\u001b[0m\u001b[0m\n\u001b[0;32m-> 2897\u001b[0;31m                 \u001b[0;32mraise\u001b[0m \u001b[0mKeyError\u001b[0m\u001b[0;34m(\u001b[0m\u001b[0mkey\u001b[0m\u001b[0;34m)\u001b[0m \u001b[0;32mfrom\u001b[0m \u001b[0merr\u001b[0m\u001b[0;34m\u001b[0m\u001b[0;34m\u001b[0m\u001b[0m\n\u001b[0m\u001b[1;32m   2898\u001b[0m \u001b[0;34m\u001b[0m\u001b[0m\n\u001b[1;32m   2899\u001b[0m         \u001b[0;32mif\u001b[0m \u001b[0mtolerance\u001b[0m \u001b[0;32mis\u001b[0m \u001b[0;32mnot\u001b[0m \u001b[0;32mNone\u001b[0m\u001b[0;34m:\u001b[0m\u001b[0;34m\u001b[0m\u001b[0;34m\u001b[0m\u001b[0m\n",
      "\u001b[0;31mKeyError\u001b[0m: 'DNP028_press_forecast'"
     ]
    }
   ],
   "source": [
    "# yhat = model_fit.forecast(model_fit.y, steps=1)\n",
    "df=data\n",
    "df_results=df_forecast\n",
    "\n",
    "\n",
    "fig, axes = plt.subplots(nrows=int(len(df.columns)/2), ncols=2, dpi=150, figsize=(10,10))\n",
    "for i, (col,ax) in enumerate(zip(df.columns, axes.flatten())):\n",
    "    df_results[col+'_forecast'].plot(legend=True, ax=ax).autoscale(axis='x',tight=True)\n",
    "    df_test[col][-nobs:].plot(legend=True, ax=ax);\n",
    "    ax.set_title(col + \": Forecast vs Actuals\")\n",
    "    ax.xaxis.set_ticks_position('none')\n",
    "    ax.yaxis.set_ticks_position('none')\n",
    "    ax.spines[\"top\"].set_alpha(0)\n",
    "    ax.tick_params(labelsize=6)\n",
    "\n",
    "plt.tight_layout();"
   ]
  },
  {
   "cell_type": "code",
   "execution_count": null,
   "metadata": {},
   "outputs": [],
   "source": []
  }
 ],
 "metadata": {
  "kernelspec": {
   "display_name": "Python 3",
   "language": "python",
   "name": "python3"
  },
  "language_info": {
   "codemirror_mode": {
    "name": "ipython",
    "version": 3
   },
   "file_extension": ".py",
   "mimetype": "text/x-python",
   "name": "python",
   "nbconvert_exporter": "python",
   "pygments_lexer": "ipython3",
   "version": "3.8.2-final"
  }
 },
 "nbformat": 4,
 "nbformat_minor": 2
}