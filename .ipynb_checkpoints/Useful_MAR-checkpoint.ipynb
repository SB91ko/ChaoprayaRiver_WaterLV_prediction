{
 "cells": [
  {
   "cell_type": "markdown",
   "metadata": {},
   "source": [
    "# Load Data"
   ]
  },
  {
   "cell_type": "code",
   "execution_count": 1,
   "metadata": {},
   "outputs": [],
   "source": [
    "from pyearth import Earth\n",
    "from DLtools.Data_preprocess import series_to_supervised,load_data\n",
    "\n",
    "\n",
    "import numpy as np"
   ]
  },
  {
   "cell_type": "code",
   "execution_count": 2,
   "metadata": {},
   "outputs": [
    {
     "name": "stdout",
     "output_type": "stream",
     "text": [
      "DataFrame shape: (465169, 35)\n"
     ]
    }
   ],
   "source": [
    "r='data/instant_data/rain_small.csv'\n",
    "w='data/instant_data/water_small.csv'\n",
    "#r = \"data/instant_data/rain.csv\"\n",
    "#w = 'data/instant_data/water.csv'\n",
    "rw = load_data(r,w)\n",
    "df =rw.df.resample('d').mean()"
   ]
  },
  {
   "cell_type": "code",
   "execution_count": 3,
   "metadata": {},
   "outputs": [
    {
     "name": "stderr",
     "output_type": "stream",
     "text": [
      "<ipython-input-3-260aebac4cf6>:12: RuntimeWarning: invalid value encountered in log\n",
      "  y = np.log(X_in[TARGET].fillna(0).values)\n"
     ]
    }
   ],
   "source": [
    "TARGET = 'CPY015_w'\n",
    "\n",
    "## Period 2013-2015 ##\n",
    "X_in = df['2013-01-01':'2015-01-01'].interpolate(limit=15)\n",
    "X_in = X_in.astype('float32')\n",
    "X = X_in.drop([TARGET],axis=1)\n",
    "xlabels = list(X.columns)\n",
    "\n",
    "\n",
    "# REPLACE NAN WITH 0\n",
    "X = X.fillna(0).values\n",
    "y = np.log(X_in[TARGET].fillna(0).values)\n",
    "where_are_NaNs = np.isnan(y)\n",
    "y[where_are_NaNs] = 0\n"
   ]
  },
  {
   "cell_type": "markdown",
   "metadata": {},
   "source": [
    "# MARS feature selection (from all stations)"
   ]
  },
  {
   "cell_type": "code",
   "execution_count": 4,
   "metadata": {},
   "outputs": [
    {
     "name": "stdout",
     "output_type": "stream",
     "text": [
      "Beginning forward pass\n",
      "---------------------------------------------------------------\n",
      "iter  parent  var  knot  mse       terms  gcv    rsq    grsq   \n",
      "---------------------------------------------------------------\n",
      "0     -       -    -     0.296832  1      0.298  0.000  0.000  \n",
      "1     0       23   424   0.183515  3      0.187  0.382  0.373  \n",
      "2     0       21   255   0.161118  5      0.166  0.457  0.442  \n",
      "3     0       25   545   0.153550  7      0.160  0.483  0.461  \n",
      "4     0       20   348   0.150323  9      0.159  0.494  0.465  \n",
      "5     0       24   331   0.148433  11     0.160  0.500  0.464  \n",
      "6     0       22   238   0.145528  13     0.159  0.510  0.467  \n",
      "7     0       7    -1    0.143761  14     0.158  0.516  0.469  \n",
      "8     0       24   568   0.142312  16     0.159  0.521  0.467  \n",
      "9     0       16   204   0.140910  18     0.159  0.525  0.465  \n",
      "10    0       31   -1    0.139470  19     0.159  0.530  0.466  \n",
      "11    0       31   315   0.138801  21     0.160  0.532  0.461  \n",
      "12    0       31   46    0.138011  23     0.162  0.535  0.456  \n",
      "13    0       31   560   0.137467  25     0.164  0.537  0.450  \n",
      "14    0       30   -1    0.136946  26     0.164  0.539  0.448  \n",
      "15    0       31   180   0.136495  28     0.166  0.540  0.442  \n",
      "16    0       31   245   0.135957  30     0.168  0.542  0.435  \n",
      "17    0       30   141   0.135510  32     0.170  0.543  0.429  \n",
      "18    0       24   596   0.134263  34     0.171  0.548  0.425  \n",
      "19    0       33   576   0.133139  36     0.172  0.551  0.421  \n",
      "20    0       21   256   0.131983  38     0.174  0.555  0.417  \n",
      "21    0       22   426   0.130796  40     0.175  0.559  0.413  \n",
      "22    0       3    558   0.129708  42     0.176  0.563  0.409  \n",
      "23    0       29   -1    0.129131  43     0.177  0.565  0.407  \n",
      "24    0       28   -1    0.128704  44     0.177  0.566  0.404  \n",
      "25    0       30   608   0.128285  46     0.180  0.568  0.396  \n",
      "26    0       30   164   0.127924  48     0.182  0.569  0.388  \n",
      "27    0       30   247   0.127418  50     0.184  0.571  0.380  \n",
      "28    0       30   310   0.126685  52     0.186  0.573  0.373  \n",
      "29    0       30   262   0.126328  54     0.189  0.574  0.365  \n",
      "30    0       31   63    0.126043  56     0.192  0.575  0.355  \n",
      "---------------------------------------------------------------\n",
      "Stopping Condition 2: Improvement below threshold\n",
      "Beginning pruning pass\n"
     ]
    },
    {
     "name": "stderr",
     "output_type": "stream",
     "text": [
      "/home/song/anaconda3/envs/tf/lib/python3.8/site-packages/pyearth/earth.py:813: FutureWarning: `rcond` parameter will change to the default of machine precision times ``max(M, N)`` where M and N are the input matrix dimensions.\n",
      "To use the future default and silence this warning we advise to pass `rcond=None`, to keep using the old, explicitly pass `rcond=-1`.\n",
      "  pruning_passer.run()\n"
     ]
    },
    {
     "name": "stdout",
     "output_type": "stream",
     "text": [
      "--------------------------------------------\n",
      "iter  bf  terms  mse   gcv    rsq    grsq   \n",
      "--------------------------------------------\n",
      "0     -   56     0.13  0.192  0.575  0.355  \n",
      "1     38  55     0.13  0.190  0.575  0.361  \n",
      "2     44  54     0.13  0.189  0.575  0.366  \n",
      "3     18  53     0.13  0.187  0.575  0.371  \n",
      "4     21  52     0.13  0.186  0.575  0.377  \n",
      "5     50  51     0.13  0.184  0.576  0.382  \n",
      "6     25  50     0.13  0.182  0.575  0.387  \n",
      "7     37  49     0.13  0.181  0.575  0.392  \n",
      "8     29  48     0.13  0.180  0.575  0.397  \n",
      "9     46  47     0.13  0.178  0.575  0.402  \n",
      "10    9   46     0.13  0.177  0.576  0.407  \n",
      "11    33  45     0.13  0.175  0.575  0.411  \n",
      "12    53  44     0.13  0.174  0.575  0.416  \n",
      "13    23  43     0.13  0.172  0.575  0.421  \n",
      "14    49  42     0.13  0.171  0.575  0.425  \n",
      "15    27  41     0.13  0.169  0.576  0.431  \n",
      "16    14  40     0.13  0.168  0.577  0.437  \n",
      "17    31  39     0.13  0.166  0.577  0.441  \n",
      "18    16  38     0.13  0.166  0.574  0.442  \n",
      "19    52  37     0.13  0.165  0.574  0.446  \n",
      "20    30  36     0.13  0.164  0.574  0.450  \n",
      "21    5   35     0.13  0.162  0.576  0.456  \n",
      "22    8   34     0.13  0.162  0.573  0.457  \n",
      "23    43  33     0.13  0.161  0.572  0.460  \n",
      "24    20  32     0.13  0.161  0.569  0.461  \n",
      "25    3   31     0.13  0.160  0.568  0.463  \n",
      "26    41  30     0.13  0.159  0.567  0.466  \n",
      "27    42  29     0.13  0.158  0.565  0.468  \n",
      "28    19  28     0.13  0.158  0.564  0.470  \n",
      "29    28  27     0.13  0.157  0.562  0.473  \n",
      "30    26  26     0.13  0.156  0.561  0.474  \n",
      "31    24  25     0.13  0.155  0.561  0.478  \n",
      "32    54  24     0.13  0.154  0.560  0.482  \n",
      "33    17  23     0.13  0.154  0.559  0.484  \n",
      "34    40  22     0.13  0.153  0.556  0.485  \n",
      "35    10  21     0.13  0.153  0.554  0.486  \n",
      "36    6   20     0.13  0.154  0.549  0.484  \n",
      "37    51  19     0.13  0.154  0.546  0.484  \n",
      "38    47  18     0.14  0.153  0.543  0.484  \n",
      "39    48  17     0.14  0.152  0.542  0.488  \n",
      "40    45  16     0.14  0.152  0.539  0.488  \n",
      "41    13  15     0.14  0.154  0.532  0.484  \n",
      "42    7   14     0.14  0.155  0.525  0.479  \n",
      "43    15  13     0.14  0.156  0.517  0.475  \n",
      "44    35  12     0.15  0.158  0.510  0.471  \n",
      "45    12  11     0.15  0.157  0.509  0.474  \n",
      "46    39  10     0.15  0.157  0.504  0.472  \n",
      "47    34  9      0.15  0.158  0.497  0.468  \n",
      "48    55  8      0.15  0.162  0.483  0.457  \n",
      "49    22  7      0.16  0.162  0.477  0.454  \n",
      "50    32  6      0.16  0.165  0.464  0.445  \n",
      "51    1   5      0.16  0.165  0.462  0.447  \n",
      "52    4   4      0.16  0.167  0.450  0.439  \n",
      "53    36  3      0.17  0.177  0.415  0.407  \n",
      "54    11  2      0.20  0.199  0.334  0.330  \n",
      "55    2   1      0.30  0.298  0.000  0.000  \n",
      "--------------------------------------------\n",
      "Selected iteration: 40\n"
     ]
    },
    {
     "name": "stderr",
     "output_type": "stream",
     "text": [
      "/home/song/anaconda3/envs/tf/lib/python3.8/site-packages/pyearth/earth.py:1066: FutureWarning: `rcond` parameter will change to the default of machine precision times ``max(M, N)`` where M and N are the input matrix dimensions.\n",
      "To use the future default and silence this warning we advise to pass `rcond=None`, to keep using the old, explicitly pass `rcond=-1`.\n",
      "  coef, resid = np.linalg.lstsq(B, weighted_y[:, i])[0:2]\n"
     ]
    },
    {
     "data": {
      "text/plain": [
       "Earth(feature_importance_type=('rss', 'gcv', 'nb_subsets'), minspan_alpha=0.5,\n",
       "      verbose=True)"
      ]
     },
     "execution_count": 4,
     "metadata": {},
     "output_type": "execute_result"
    }
   ],
   "source": [
    "#Fit an Earth model\n",
    "criteria = ('rss', 'gcv', 'nb_subsets')\n",
    "model = Earth(enable_pruning = True,\n",
    "            #   max_degree=3,\n",
    "            #   max_terms=10,\n",
    "              minspan_alpha=.5,\n",
    "              feature_importance_type=criteria,\n",
    "              verbose=True)\n",
    "model.fit(X,y,xlabels=xlabels)\n"
   ]
  },
  {
   "cell_type": "code",
   "execution_count": 5,
   "metadata": {},
   "outputs": [],
   "source": [
    "# #Print the model\n",
    "# print(model.trace())\n",
    "# print(model.summary())"
   ]
  },
  {
   "cell_type": "markdown",
   "metadata": {},
   "source": [
    "* Feature Importance"
   ]
  },
  {
   "cell_type": "code",
   "execution_count": 6,
   "metadata": {},
   "outputs": [
    {
     "name": "stdout",
     "output_type": "stream",
     "text": [
      "             rss    gcv    nb_subsets\n",
      "CPY009_w     0.58   0.72   0.04          \n",
      "CPY004_w     0.15   0.17   0.06          \n",
      "CPY003_w     0.08   0.07   0.07          \n",
      "THA001_w     0.03   0.02   0.04          \n",
      "KWN002_r     0.01   0.01   0.02          \n",
      "CHM006_w     0.02   0.01   0.04          \n",
      "NAN013_r     0.00   0.00   0.00          \n",
      "NAN012_r     0.00   0.00   0.00          \n",
      "NAN011_r     0.00   0.00   0.00          \n",
      "NAN010_r     0.00   0.00   0.00          \n",
      "NAN006_r     0.00   0.00   0.00          \n",
      "PIN003_r     0.00   0.00   0.00          \n",
      "CPY015_r     0.00   0.00   0.00          \n",
      "CPY010_r     0.00   0.00   0.00          \n",
      "CPY009_r     0.00   0.00   0.00          \n",
      "CPY004_r     0.01   0.00   0.04          \n",
      "CHM006_r     0.00   0.00   0.00          \n",
      "CHM004_r     0.00   0.00   0.00          \n",
      "PIN001_r     0.00   0.00   0.00          \n",
      "PIN005_r     0.01   0.00   0.04          \n",
      "PIN004_r     0.00   0.00   0.00          \n",
      "PIN004_w     0.00   0.00   0.00          \n",
      "THA001_r     0.00   0.00   0.00          \n",
      "CHM002_w     0.00   0.00   0.00          \n",
      "CHM004_w     0.00   0.00   0.00          \n",
      "CPY010_w     0.04   0.00   0.11          \n",
      "KWN002_w     0.01   0.00   0.04          \n",
      "NAN009_w     0.00   0.00   0.00          \n",
      "NAN010_w     0.00   0.00   0.00          \n",
      "NAN011_w     0.00   0.00   0.02          \n",
      "NAN012_w     0.00   0.00   0.02          \n",
      "NAN013_w     0.02   0.00   0.24          \n",
      "PIN001_w     0.05   0.00   0.24          \n",
      "CHM002_r     0.00   0.00   0.00          \n",
      "\n"
     ]
    }
   ],
   "source": [
    "print(model.summary_feature_importances(sort_by='gcv')[:2000])"
   ]
  },
  {
   "cell_type": "markdown",
   "metadata": {},
   "source": [
    "# MARS feature selection (Times interval perspective)"
   ]
  },
  {
   "cell_type": "code",
   "execution_count": 7,
   "metadata": {},
   "outputs": [
    {
     "data": {
      "text/plain": [
       "((731, 35), (0, 140))"
      ]
     },
     "execution_count": 7,
     "metadata": {},
     "output_type": "execute_result"
    }
   ],
   "source": [
    "n_timelag=7\n",
    "\n",
    "reframed_data = series_to_supervised(X_in.iloc[:20,:], n_in= 3,n_out=1)\n",
    "# not work\n",
    "X_in.shape,reframed_data.shape"
   ]
  },
  {
   "cell_type": "code",
   "execution_count": 8,
   "metadata": {},
   "outputs": [],
   "source": [
    "def to_sub(df,n_in=5,n_out=3):\n",
    "    df_in = df.shift(n_in)\n",
    "    df_out = df.shift(-n_out)\n",
    "    return df_in"
   ]
  },
  {
   "cell_type": "code",
   "execution_count": 9,
   "metadata": {},
   "outputs": [
    {
     "name": "stdout",
     "output_type": "stream",
     "text": [
      "            CHM002_r  CHM004_r  CHM006_r  CPY004_r  CPY009_r\n",
      "date                                                        \n",
      "2013-01-01       0.0       NaN       NaN       0.0       0.0\n",
      "2013-01-02       0.0       NaN       NaN       0.0       0.0\n",
      "2013-01-03       0.0       NaN       NaN       0.0       0.0\n",
      "2013-01-04       0.0       NaN       NaN       0.0       0.0\n",
      "2013-01-05       0.0       NaN       NaN       0.0       0.0\n",
      "            CHM002_r  CHM004_r  CHM006_r  CPY004_r  CPY009_r\n",
      "date                                                        \n",
      "2013-01-01       NaN       NaN       NaN       NaN       NaN\n",
      "2013-01-02       NaN       NaN       NaN       NaN       NaN\n",
      "2013-01-03       NaN       NaN       NaN       NaN       NaN\n",
      "2013-01-04       NaN       NaN       NaN       NaN       NaN\n",
      "2013-01-05       NaN       NaN       NaN       NaN       NaN\n"
     ]
    }
   ],
   "source": [
    "test = X_in.iloc[:,:5]\n",
    "\n",
    "print(test.head())\n",
    "print(to_sub(test).head())"
   ]
  },
  {
   "cell_type": "code",
   "execution_count": null,
   "metadata": {},
   "outputs": [],
   "source": []
  }
 ],
 "metadata": {
  "kernelspec": {
   "display_name": "Python 3",
   "language": "python",
   "name": "python3"
  },
  "language_info": {
   "codemirror_mode": {
    "name": "ipython",
    "version": 3
   },
   "file_extension": ".py",
   "mimetype": "text/x-python",
   "name": "python",
   "nbconvert_exporter": "python",
   "pygments_lexer": "ipython3",
   "version": "3.8.5"
  }
 },
 "nbformat": 4,
 "nbformat_minor": 2
}
