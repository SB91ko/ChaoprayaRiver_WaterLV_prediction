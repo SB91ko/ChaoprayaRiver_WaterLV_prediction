{
 "cells": [
  {
   "cell_type": "markdown",
   "metadata": {},
   "source": [
    "# Import water level df"
   ]
  },
  {
   "cell_type": "code",
   "execution_count": 1,
   "metadata": {},
   "outputs": [],
   "source": [
    "import pandas as pd\n",
    "import numpy as np\n",
    "import matplotlib.pyplot as plt\n",
    "%matplotlib inline"
   ]
  },
  {
   "cell_type": "code",
   "execution_count": 2,
   "metadata": {},
   "outputs": [
    {
     "ename": "ImportError",
     "evalue": "cannot import name 'prep_data' from 'DLtools' (/home/song/Public/Song/Work/Thesis/DLtools/__init__.py)",
     "output_type": "error",
     "traceback": [
      "\u001b[0;31m---------------------------------------------------------------------------\u001b[0m",
      "\u001b[0;31mImportError\u001b[0m                               Traceback (most recent call last)",
      "\u001b[0;32m<ipython-input-2-16b8d3ba640f>\u001b[0m in \u001b[0;36m<module>\u001b[0;34m\u001b[0m\n\u001b[0;32m----> 1\u001b[0;31m \u001b[0;32mfrom\u001b[0m \u001b[0mDLtools\u001b[0m \u001b[0;32mimport\u001b[0m  \u001b[0mprep_data\u001b[0m\u001b[0;34m,\u001b[0m\u001b[0mTSmodel\u001b[0m\u001b[0;34m\u001b[0m\u001b[0;34m\u001b[0m\u001b[0m\n\u001b[0m\u001b[1;32m      2\u001b[0m \u001b[0;32mfrom\u001b[0m \u001b[0msklearn\u001b[0m\u001b[0;34m.\u001b[0m\u001b[0mmetrics\u001b[0m \u001b[0;32mimport\u001b[0m \u001b[0mmean_squared_error\u001b[0m\u001b[0;34m\u001b[0m\u001b[0;34m\u001b[0m\u001b[0m\n\u001b[1;32m      3\u001b[0m \u001b[0;34m\u001b[0m\u001b[0m\n\u001b[1;32m      4\u001b[0m \u001b[0mnp\u001b[0m\u001b[0;34m.\u001b[0m\u001b[0mrandom\u001b[0m\u001b[0;34m.\u001b[0m\u001b[0mseed\u001b[0m\u001b[0;34m(\u001b[0m\u001b[0;36m24\u001b[0m\u001b[0;34m)\u001b[0m\u001b[0;34m\u001b[0m\u001b[0;34m\u001b[0m\u001b[0m\n",
      "\u001b[0;31mImportError\u001b[0m: cannot import name 'prep_data' from 'DLtools' (/home/song/Public/Song/Work/Thesis/DLtools/__init__.py)"
     ]
    }
   ],
   "source": [
    "from DLtools import  TSmodel\n",
    "\n",
    "from sklearn.metrics import mean_squared_error\n",
    "\n",
    "np.random.seed(24)"
   ]
  },
  {
   "cell_type": "code",
   "execution_count": null,
   "metadata": {},
   "outputs": [],
   "source": [
    "#rain = 'data/instant_data/rain.csv'\n",
    "#water = 'data/instant_data/water.csv'\n",
    "rain = 'data/instant_data/rain_small.csv'\n",
    "water = 'data/instant_data/water_small.csv'\n",
    "\n",
    "bkk = 'CPY015_w' # target station\n",
    "\n",
    "# select from 2013 due to missing data issue\n",
    "rw = prep_data.instant_df(rain_csv=rain,water_csv=water)\n",
    "\n",
    "\n",
    "df_water = rw.water_df\n",
    "df_water = df_water.resample('d').mean()\n",
    "df_rain = rw.rain_df\n",
    "\n",
    "# df = rw.df\n",
    "# col_w,col_r = rw.only_related()\n",
    "# df_rain = df_rain[col_r]"
   ]
  },
  {
   "cell_type": "markdown",
   "metadata": {},
   "source": [
    "# Check Visualizae"
   ]
  },
  {
   "cell_type": "code",
   "execution_count": null,
   "metadata": {},
   "outputs": [],
   "source": [
    "import plotly.graph_objects as go\n",
    "import plotly as py"
   ]
  },
  {
   "cell_type": "code",
   "execution_count": null,
   "metadata": {},
   "outputs": [],
   "source": [
    "viz_water = go.Scatter(x=df_water[bkk].index,\n",
    "                         y=df_water[bkk].values)\n",
    "\n",
    "layout = go.Layout(title='Water level CPY015 (target station)', xaxis=dict(title='Date'),yaxis=dict(title='(mm)'))\n",
    "\n",
    "fig = go.Figure(data=[viz_water], layout=layout)\n",
    "fig.show()"
   ]
  },
  {
   "cell_type": "code",
   "execution_count": null,
   "metadata": {},
   "outputs": [],
   "source": [
    "# bkkwater = df[bkk][\"2013-01-01\":\"2014-09-01\"]\n",
    "# bkkwater = bkkwater.resample('d').mean()\n",
    "# #bkkwater = water['CPY014'][\"2013-01-01\":\"2014-09-01\"]\n",
    "# fig,ax = plt.subplots(figsize=(20,7))\n",
    "# sns.lineplot(data=bkkwater,ax=ax)\n",
    "# plt.show()\n",
    "\n",
    "### RESERVE ###\n",
    "# fig, axes = plt.subplots(3, 1, figsize=(11, 10), sharex=True)\n",
    "# for name, ax in zip(['Consumption', 'Solar', 'Wind'], axes):\n",
    "# sns.boxplot(data=opsd_daily, x='Month', y=name, ax=ax)\n",
    "# ax.set_ylabel('GWh')\n",
    "# ax.set_title(name)\n",
    "# # Remove the automatic x-axis label from all but the bottom subplot\n",
    "# if ax != axes[-1]:\n",
    "#     ax.set_xlabel('')\n"
   ]
  },
  {
   "cell_type": "markdown",
   "metadata": {},
   "source": [
    "# ARIMA (call oop)"
   ]
  },
  {
   "cell_type": "code",
   "execution_count": null,
   "metadata": {},
   "outputs": [],
   "source": [
    "#bkkwater_df = df_water[bkk][:\"2018-01-05\"]\n",
    "bkkwater_df = df_water[bkk][\"2015-01-01\":\"2018-01-05\"] #sample\n",
    "bkkwater = TSmodel.prepTS(bkkwater_df,interpolate=10)\n",
    "\n",
    "X = bkkwater.X_data"
   ]
  },
  {
   "cell_type": "code",
   "execution_count": null,
   "metadata": {},
   "outputs": [],
   "source": [
    "#arima_model = TSmodel.Arima_model(X,pdq=(5,1,5) ,flag_bestpdq=False)\n",
    "arima_model = TSmodel.Arima_model(X,pdq=(1,1,1) ,flag_bestpdq=False)"
   ]
  },
  {
   "cell_type": "code",
   "execution_count": null,
   "metadata": {
    "tags": []
   },
   "outputs": [],
   "source": [
    "result_df = arima_model.model_result()"
   ]
  },
  {
   "cell_type": "code",
   "execution_count": null,
   "metadata": {},
   "outputs": [],
   "source": [
    "error = mean_squared_error(result_df['Test'], result_df['Predict'])\n",
    "print('Test MSE: {:.3f}'.format(error*100))\n",
    "\n",
    "plt.figure(figsize=(15,5))\n",
    "plt.plot(result_df['Test'])\n",
    "plt.plot(result_df['Predict'], color='red')\n",
    "plt.show()"
   ]
  },
  {
   "cell_type": "code",
   "execution_count": null,
   "metadata": {},
   "outputs": [],
   "source": [
    "model_fit=arima_model.model\n",
    "model_fit.plot_predict(dynamic=False)"
   ]
  },
  {
   "cell_type": "markdown",
   "metadata": {},
   "source": [
    "# WA_ANN"
   ]
  },
  {
   "cell_type": "code",
   "execution_count": null,
   "metadata": {},
   "outputs": [],
   "source": [
    "from sklearn.preprocessing import MinMaxScaler\n",
    "from sklearn.metrics import r2_score\n",
    "\n",
    "from keras.models import Sequential\n",
    "from keras.layers import Dense"
   ]
  },
  {
   "cell_type": "code",
   "execution_count": null,
   "metadata": {},
   "outputs": [],
   "source": [
    "WANN = TSmodel.WANN_model(X)\n",
    "WA_X = WANN.wavelet_denoising()\n",
    "\n",
    "print(len(WA_X),len(X))\n",
    "plt.plot(X)\n",
    "plt.plot(WA_X)"
   ]
  },
  {
   "cell_type": "code",
   "execution_count": null,
   "metadata": {},
   "outputs": [],
   "source": [
    "scaler = MinMaxScaler(feature_range=(-1,1))\n",
    "X_sc = WA_X.reshape(-1,1)\n",
    "X_sc = scaler.fit_transform(X_sc)\n",
    "size = int(len(X_sc) * 0.66)\n",
    "train, test = X_sc[0:size-1], X_sc[size:len(X)]"
   ]
  },
  {
   "cell_type": "code",
   "execution_count": null,
   "metadata": {},
   "outputs": [],
   "source": [
    "X_train = train[:-1]\n",
    "y_train = train[1:]\n",
    "X_test = test[:-1]\n",
    "y_test = test[1:]"
   ]
  },
  {
   "cell_type": "code",
   "execution_count": null,
   "metadata": {},
   "outputs": [],
   "source": [
    "model = Sequential()\n",
    "model.add(Dense(12, input_dim=1,activation='relu'))\n",
    "model.add(Dense(8, activation='relu'))\n",
    "model.add(Dense(1, activation='sigmoid'))\n",
    "model.summary()"
   ]
  },
  {
   "cell_type": "code",
   "execution_count": null,
   "metadata": {},
   "outputs": [],
   "source": [
    "EPOCH = 70\n",
    "model.compile(loss='mean_squared_error', optimizer='adam')\n",
    "history = model.fit(X_train, y_train, epochs=EPOCH, batch_size=10, verbose=1,shuffle=False)"
   ]
  },
  {
   "cell_type": "code",
   "execution_count": null,
   "metadata": {
    "scrolled": true
   },
   "outputs": [],
   "source": [
    "y_pred_test = model.predict(X_test)\n",
    "y_pred_train = model.predict(X_train)"
   ]
  },
  {
   "cell_type": "code",
   "execution_count": null,
   "metadata": {},
   "outputs": [],
   "source": [
    "y_pred_test = scaler.inverse_transform(y_pred_test)\n",
    "X_test = scaler.inverse_transform(X_test)"
   ]
  },
  {
   "cell_type": "code",
   "execution_count": null,
   "metadata": {},
   "outputs": [],
   "source": [
    "error = mean_squared_error(X_test, y_pred_test)\n",
    "print('Test MSE: %.3f' % error)\n",
    "print(\"The R2 score on the Train set is:\\t{:0.3f}\".format(r2_score(y_train, y_pred_train)))\n",
    "print(\"The R2 score on the Train set is:\\t{:0.3f}\".format(r2_score(y_test, y_pred_test)))\n",
    "\n",
    "plt.plot(y_pred_test)\n",
    "plt.plot(X_test)"
   ]
  },
  {
   "cell_type": "code",
   "execution_count": null,
   "metadata": {},
   "outputs": [],
   "source": [
    "WANN.wavelet_reconstruction()"
   ]
  },
  {
   "cell_type": "code",
   "execution_count": null,
   "metadata": {},
   "outputs": [],
   "source": []
  },
  {
   "cell_type": "code",
   "execution_count": null,
   "metadata": {},
   "outputs": [],
   "source": [
    "loss_ann = model.history.history['loss']\n",
    "plt.figure(figsize=(15,5))\n",
    "plt.xlabel(\"Epochs\")\n",
    "plt.ylabel(\"Loss\")\n",
    "plt.xticks(np.arange(0,EPOCH,1))\n",
    "plt.plot(range(len(loss_ann)),loss_ann)"
   ]
  },
  {
   "cell_type": "code",
   "execution_count": null,
   "metadata": {},
   "outputs": [],
   "source": [
    "pred = model.predict(wa_X)\n",
    "pred = pred.reshape(-1,1)\n",
    "pred[:10]"
   ]
  },
  {
   "cell_type": "code",
   "execution_count": null,
   "metadata": {},
   "outputs": [],
   "source": [
    "y_hat = scaler.inverse_transform(pred)\n",
    "y_hat=y_hat[:-1]\n",
    "print(len(y_hat))\n",
    "y_hat[:10]"
   ]
  },
  {
   "cell_type": "code",
   "execution_count": null,
   "metadata": {},
   "outputs": [],
   "source": [
    "output = bkkwater_df.to_frame('water lv.')\n",
    "output['y_hat'] = y_hat"
   ]
  },
  {
   "cell_type": "code",
   "execution_count": null,
   "metadata": {},
   "outputs": [],
   "source": [
    "output.plot()"
   ]
  },
  {
   "cell_type": "markdown",
   "metadata": {},
   "source": [
    "# Trial manual way"
   ]
  },
  {
   "cell_type": "code",
   "execution_count": null,
   "metadata": {},
   "outputs": [],
   "source": [
    "import pywt\n",
    "(cA, cD) = pywt.dwt(X, 'db2', 'smooth')\n",
    "print(len(X))\n",
    "print(len(cA))\n",
    "print(len(cD))"
   ]
  },
  {
   "cell_type": "code",
   "execution_count": null,
   "metadata": {},
   "outputs": [],
   "source": [
    "def plot_coeffs(data, w, title, use_dwt=True):\n",
    "    \"\"\"Show dwt or swt coefficients for given data and wavelet.\"\"\"\n",
    "    w = pywt.Wavelet(w)\n",
    "    a = data\n",
    "    ca = []\n",
    "    cd = []\n",
    "\n",
    "    if use_dwt:\n",
    "        for i in range(5):\n",
    "            (a, d) = pywt.dwt(a, w, mode)\n",
    "            ca.append(a)\n",
    "            cd.append(d)\n",
    "    else:\n",
    "        coeffs = pywt.swt(data, w, 2)  # [(cA5, cD5), ..., (cA1, cD1)]\n",
    "        for a, d in reversed(coeffs):\n",
    "            ca.append(a)\n",
    "            cd.append(d)\n",
    "    \n",
    "    fig = plt.figure()\n",
    "    ax_main = fig.add_subplot(len(ca) + 1, 1, 1)\n",
    "    ax_main.set_title(title)\n",
    "    ax_main.plot(data)\n",
    "    ax_main.set_xlim(0, len(data) - 1)\n",
    "\n",
    "    for i, x in enumerate(ca):\n",
    "        ax = fig.add_subplot(len(ca) + 1, 2, 3 + i * 2)\n",
    "        ax.plot(x, 'r')\n",
    "        ax.set_ylabel(\"A%d\" % (i + 1))\n",
    "        if use_dwt:\n",
    "            ax.set_xlim(0, len(x) - 1)\n",
    "        else:\n",
    "            ax.set_xlim(w.dec_len * i, len(x) - 1 - w.dec_len * i)\n",
    "\n",
    "    for i, x in enumerate(cd):\n",
    "        ax = fig.add_subplot(len(cd) + 1, 2, 4 + i * 2)\n",
    "        ax.plot(x, 'g')\n",
    "        ax.set_ylabel(\"D%d\" % (i + 1))\n",
    "        # Scale axes\n",
    "        ax.set_xlim(0, len(x) - 1)\n",
    "        if use_dwt:\n",
    "            ax.set_ylim(min(0, 1.4 * min(x)), max(0, 1.4 * max(x)))\n",
    "        else:\n",
    "            vals = x[w.dec_len * (1 + i):len(x) - w.dec_len * (1 + i)]\n",
    "            ax.set_ylim(min(0, 2 * min(vals)), max(0, 2 * max(vals)))\n",
    "            \n",
    "    return ca,cd"
   ]
  },
  {
   "cell_type": "code",
   "execution_count": null,
   "metadata": {},
   "outputs": [],
   "source": [
    "mode = pywt.Modes.sp1DWT = 1\n",
    "use_dwt = True\n",
    "plot_coeffs(X[:-1], 'db1',\n",
    "            \"DWT: Signal irregularity shown in D1 - Haar wavelet\",\n",
    "            use_dwt)\n",
    "\n",
    "# Show DWT coefficients\n",
    "use_dwt = False\n",
    "ca,cd = plot_coeffs(X[:-1], 'db1', \"SWT: Signal irregularity detection - Haar wavelet\",\n",
    "            use_dwt)\n",
    "\n",
    "\n",
    "plt.show()"
   ]
  },
  {
   "cell_type": "code",
   "execution_count": null,
   "metadata": {},
   "outputs": [],
   "source": [
    "print(len(ca[0]),len(cd[0]))"
   ]
  },
  {
   "cell_type": "code",
   "execution_count": null,
   "metadata": {},
   "outputs": [],
   "source": [
    "lv1 = pywt.idwt(ca[1], cd[1], 'db2', 'smooth')\n",
    "lv2 = pywt.idwt(ca[0], cd[0], 'db2', 'smooth')"
   ]
  },
  {
   "cell_type": "code",
   "execution_count": null,
   "metadata": {},
   "outputs": [],
   "source": [
    "plt.plot(lv1)\n",
    "plt.plot(lv2)"
   ]
  },
  {
   "cell_type": "code",
   "execution_count": null,
   "metadata": {},
   "outputs": [],
   "source": [
    "sub_1 = np.subtract(X[:-1],cd[0])\n",
    "sub_2 = np.subtract(sub_1,cd[1])\n",
    "#plt.plot(sub_1)\n",
    "plt.plot(sub_2)\n"
   ]
  },
  {
   "cell_type": "markdown",
   "metadata": {},
   "source": [
    "# Clean manual way WA"
   ]
  },
  {
   "cell_type": "code",
   "execution_count": null,
   "metadata": {},
   "outputs": [],
   "source": [
    "def plot_coeffs(data, w,use_dwt=False):\n",
    "    \"\"\"Show dwt or swt coefficients for given data and wavelet.\"\"\"\n",
    "    w = pywt.Wavelet(w)\n",
    "    a = data\n",
    "    ca = []\n",
    "    cd = []\n",
    "\n",
    "    if use_dwt:\n",
    "        for i in range(5):\n",
    "            (a, d) = pywt.dwt(a, w, mode)\n",
    "            ca.append(a)\n",
    "            cd.append(d)\n",
    "    else:\n",
    "        coeffs = pywt.swt(data, w, 2)  # [(cA5, cD5), ..., (cA1, cD1)]\n",
    "        for a, d in reversed(coeffs):\n",
    "            ca.append(a)\n",
    "            cd.append(d)\n",
    "    return ca,cd"
   ]
  },
  {
   "cell_type": "code",
   "execution_count": null,
   "metadata": {},
   "outputs": [],
   "source": [
    "X = bkkwater.X_data\n",
    "X = X[1:]\n",
    "cA,cD = plot_coeffs(X, 'db1')\n",
    "\n",
    "fig,ax = plt.subplots(3,1,figsize=(20,10))\n",
    "ax[0].plot(X)\n",
    "ax[1].plot(cD[0])\n",
    "ax[2].plot(cD[1])"
   ]
  },
  {
   "cell_type": "code",
   "execution_count": null,
   "metadata": {},
   "outputs": [],
   "source": [
    "denoise_X = np.subtract(X,cD[0])\n",
    "#denoise_X = np.subtract(denoise_X,cD[1]) # not sure\n",
    "denoise_X = np.subtract(X,cD[1]) # not sure\n",
    "\n",
    "fig,ax = plt.subplots(3,1,figsize=(20,10))\n",
    "ax[0].plot(X)\n",
    "ax[1].plot(cD[1])\n",
    "ax[2].plot(denoise_X)\n"
   ]
  },
  {
   "cell_type": "code",
   "execution_count": null,
   "metadata": {},
   "outputs": [],
   "source": [
    "def train_test_split(input,scaler_boo=False,ratio=0.7,stp=1):    \n",
    "    X = input.reshape(-1,1)\n",
    "    if scaler_boo:\n",
    "        X = scaler.fit_transform(X)\n",
    "    else:\n",
    "        pass\n",
    "    size = int(len(X) * ratio)\n",
    "    train, test = X[0:size-1], X[size:len(X)]\n",
    "    X_train,y_train = train[:-stp],train[stp:]\n",
    "    X_test,y_test = test[:-stp],test[stp:]\n",
    "    return X_train,X_test,y_train,y_test"
   ]
  },
  {
   "cell_type": "code",
   "execution_count": null,
   "metadata": {},
   "outputs": [],
   "source": [
    "scaler = MinMaxScaler(feature_range=(-1,1))"
   ]
  },
  {
   "cell_type": "code",
   "execution_count": null,
   "metadata": {},
   "outputs": [],
   "source": [
    "#X_train, X_test ,y_train ,y_test = train_test_split(X,scaler_boo=True)"
   ]
  },
  {
   "cell_type": "code",
   "execution_count": null,
   "metadata": {},
   "outputs": [],
   "source": [
    "#PLot Check if train-test work\n",
    "\"\"\"plt.figure(figsize=(20,10))\n",
    "plt.plot(X_train[:10])\n",
    "plt.plot(y_train[:10])\"\"\""
   ]
  },
  {
   "cell_type": "code",
   "execution_count": null,
   "metadata": {},
   "outputs": [],
   "source": [
    "model = Sequential()\n",
    "model.add(Dense(12, input_dim=1,activation='relu'))\n",
    "model.add(Dense(8, activation='relu'))\n",
    "model.add(Dense(1, activation='sigmoid'))\n",
    "model.summary()"
   ]
  },
  {
   "cell_type": "markdown",
   "metadata": {},
   "source": [
    "ANN without scale"
   ]
  },
  {
   "cell_type": "code",
   "execution_count": null,
   "metadata": {},
   "outputs": [],
   "source": [
    "X_train, X_test ,y_train ,y_test = train_test_split(X,scaler_boo=False,stp=7)\n",
    "\n",
    "EPOCH = 50\n",
    "VALIDATION = (X_test,y_test)\n",
    "model.compile(loss='mean_squared_error', optimizer='adam')\n",
    "history = model.fit(X_train, y_train, epochs=EPOCH, batch_size=10, verbose=1,shuffle=False,validation_data=VALIDATION)"
   ]
  },
  {
   "cell_type": "code",
   "execution_count": null,
   "metadata": {
    "scrolled": true
   },
   "outputs": [],
   "source": [
    "#ANN no scale\n",
    "plt.plot(history.history['loss'], label='train')\n",
    "plt.plot(history.history['val_loss'], label='test')\n",
    "plt.legend()\n",
    "plt.show()"
   ]
  },
  {
   "cell_type": "markdown",
   "metadata": {},
   "source": [
    "ANN with scale"
   ]
  },
  {
   "cell_type": "code",
   "execution_count": null,
   "metadata": {},
   "outputs": [],
   "source": [
    "X_train, X_test ,y_train ,y_test = train_test_split(X,scaler_boo=True,stp=7)"
   ]
  },
  {
   "cell_type": "code",
   "execution_count": null,
   "metadata": {
    "scrolled": true
   },
   "outputs": [],
   "source": [
    "#ANN scale\n",
    "plt.plot(history.history['loss'], label='train')\n",
    "plt.plot(history.history['val_loss'], label='test')\n",
    "plt.legend()\n",
    "plt.show()"
   ]
  },
  {
   "cell_type": "markdown",
   "metadata": {},
   "source": [
    "WA-ANN without scale"
   ]
  },
  {
   "cell_type": "code",
   "execution_count": null,
   "metadata": {},
   "outputs": [],
   "source": [
    "X_train, X_test ,y_train ,y_test = train_test_split(denoise_X,scaler_boo=False,stp=7)\n",
    "VALIDATION = (X_test,y_test)\n",
    "model.compile(loss='mean_squared_error', optimizer='adam')\n",
    "history = model.fit(X_train, y_train, epochs=EPOCH, batch_size=10, verbose=1,shuffle=False,validation_data=VALIDATION)"
   ]
  },
  {
   "cell_type": "code",
   "execution_count": null,
   "metadata": {},
   "outputs": [],
   "source": [
    "plt.plot(history.history['loss'], label='train')\n",
    "plt.plot(history.history['val_loss'], label='test')\n",
    "plt.legend()\n",
    "plt.show()"
   ]
  },
  {
   "cell_type": "markdown",
   "metadata": {},
   "source": [
    "WA ANN with scale"
   ]
  },
  {
   "cell_type": "code",
   "execution_count": null,
   "metadata": {},
   "outputs": [],
   "source": [
    "X_train, X_test ,y_train ,y_test = train_test_split(denoise_X,scaler_boo=True,stp=7)\n",
    "VALIDATION = (X_test,y_test)\n",
    "model.compile(loss='mean_squared_error', optimizer='adam')\n",
    "history = model.fit(X_train, y_train, epochs=EPOCH, batch_size=10, verbose=1,shuffle=False,validation_data=VALIDATION)"
   ]
  },
  {
   "cell_type": "code",
   "execution_count": null,
   "metadata": {},
   "outputs": [],
   "source": [
    "plt.plot(history.history['loss'], label='train')\n",
    "plt.plot(history.history['val_loss'], label='test')\n",
    "plt.legend()\n",
    "plt.show()"
   ]
  },
  {
   "cell_type": "code",
   "execution_count": null,
   "metadata": {},
   "outputs": [],
   "source": []
  },
  {
   "cell_type": "code",
   "execution_count": null,
   "metadata": {},
   "outputs": [],
   "source": []
  },
  {
   "cell_type": "code",
   "execution_count": null,
   "metadata": {},
   "outputs": [],
   "source": []
  },
  {
   "cell_type": "code",
   "execution_count": null,
   "metadata": {},
   "outputs": [],
   "source": []
  }
 ],
 "metadata": {
  "kernelspec": {
   "display_name": "Python 3",
   "language": "python",
   "name": "python3"
  },
  "language_info": {
   "codemirror_mode": {
    "name": "ipython",
    "version": 3
   },
   "file_extension": ".py",
   "mimetype": "text/x-python",
   "name": "python",
   "nbconvert_exporter": "python",
   "pygments_lexer": "ipython3",
   "version": "3.8.5"
  }
 },
 "nbformat": 4,
 "nbformat_minor": 2
}
