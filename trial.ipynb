{
 "metadata": {
  "language_info": {
   "codemirror_mode": {
    "name": "ipython",
    "version": 3
   },
   "file_extension": ".py",
   "mimetype": "text/x-python",
   "name": "python",
   "nbconvert_exporter": "python",
   "pygments_lexer": "ipython3",
   "version": "3.7.7-final"
  },
  "orig_nbformat": 2,
  "kernelspec": {
   "name": "Python 3.7.7 64-bit ('tensor': conda)",
   "display_name": "Python 3.7.7 64-bit ('tensor': conda)",
   "metadata": {
    "interpreter": {
     "hash": "0a47e3dc2fd5d1f5928b02d8131cc5126167a2fe7c24f1040192d09a03c4ba52"
    }
   }
  }
 },
 "nbformat": 4,
 "nbformat_minor": 2,
 "cells": [
  {
   "cell_type": "code",
   "execution_count": 1,
   "metadata": {},
   "outputs": [],
   "source": [
    "import pandas as pd\n",
    "import re,glob\n",
    "import numpy as np\n",
    "import matplotlib.pyplot as plt\n",
    "%matplotlib inline\n",
    "\n",
    "from tqdm import tqdm\n",
    "import seaborn as sns"
   ]
  },
  {
   "cell_type": "code",
   "execution_count": 47,
   "metadata": {},
   "outputs": [],
   "source": [
    "def rename(path_name):\n",
    "    name = path_name[38:]\n",
    "    name = str(re.sub('(rain2007-2020/|water-level2007-2020/)','',name))\n",
    "    name = re.sub('.csv','',name)\n",
    "    return name\n",
    "\n",
    "def df_process(file):\n",
    "    df = pd.read_csv(file)\n",
    "    df['station'] = rename(file)\n",
    "    return df\n",
    "\n",
    "def open_concat_csv(folder_path):\n",
    "    all_filenames = [i for i in glob.glob(os.path.join(folder_path, '*.csv'))]\n",
    "    df = pd.concat([df_process(f) for f in tqdm(all_filenames)])\n",
    "    return df\n",
    "\n",
    "path_rain = \"../hii-telemetering-batch-data-master/rain2007-2020/\"\n"
   ]
  },
  {
   "cell_type": "code",
   "execution_count": 48,
   "metadata": {},
   "outputs": [
    {
     "output_type": "stream",
     "name": "stderr",
     "text": [
      "100%|██████████| 929/929 [00:02<00:00, 361.53it/s]\n",
      "(4601312, 3)\n"
     ]
    },
    {
     "output_type": "execute_result",
     "data": {
      "text/plain": [
       "            date  rain station\n",
       "0     2007-01-01   NaN  SWR028\n",
       "1     2007-01-02   NaN  SWR028\n",
       "2     2007-01-03   NaN  SWR028\n",
       "3     2007-01-04   NaN  SWR028\n",
       "4     2007-01-05   NaN  SWR028\n",
       "5     2007-01-06   NaN  SWR028\n",
       "6     2007-01-07   NaN  SWR028\n",
       "7     2007-01-08   NaN  SWR028\n",
       "8     2007-01-09   NaN  SWR028\n",
       "9     2007-01-10   NaN  SWR028\n",
       "10    2007-01-11   NaN  SWR028\n",
       "11    2007-01-12   NaN  SWR028\n",
       "12    2007-01-13   NaN  SWR028\n",
       "13    2007-01-14   NaN  SWR028\n",
       "14    2007-01-15   NaN  SWR028\n",
       "15    2007-01-16   NaN  SWR028\n",
       "16    2007-01-17   NaN  SWR028\n",
       "17    2007-01-18   NaN  SWR028\n",
       "18    2007-01-19   NaN  SWR028\n",
       "19    2007-01-20   NaN  SWR028\n",
       "20    2007-01-21   NaN  SWR028\n",
       "21    2007-01-22   NaN  SWR028\n",
       "22    2007-01-23   NaN  SWR028\n",
       "23    2007-01-24   NaN  SWR028\n",
       "24    2007-01-25   NaN  SWR028\n",
       "25    2007-01-26   NaN  SWR028\n",
       "26    2007-01-27   NaN  SWR028\n",
       "27    2007-01-28   NaN  SWR028\n",
       "28    2007-01-29   NaN  SWR028\n",
       "29    2007-01-30   NaN  SWR028\n",
       "...          ...   ...     ...\n",
       "4931  2020-07-02   4.0  SWR026\n",
       "4932  2020-07-03   1.4  SWR026\n",
       "4933  2020-07-04   0.0  SWR026\n",
       "4934  2020-07-05   1.0  SWR026\n",
       "4935  2020-07-06  11.6  SWR026\n",
       "4936  2020-07-07   0.2  SWR026\n",
       "4937  2020-07-08   0.0  SWR026\n",
       "4938  2020-07-09   5.8  SWR026\n",
       "4939  2020-07-10   0.0  SWR026\n",
       "4940  2020-07-11  67.2  SWR026\n",
       "4941  2020-07-12   0.6  SWR026\n",
       "4942  2020-07-13  30.2  SWR026\n",
       "4943  2020-07-14   0.2  SWR026\n",
       "4944  2020-07-15   4.6  SWR026\n",
       "4945  2020-07-16   9.0  SWR026\n",
       "4946  2020-07-17   0.8  SWR026\n",
       "4947  2020-07-18   0.4  SWR026\n",
       "4948  2020-07-19  73.0  SWR026\n",
       "4949  2020-07-20  88.4  SWR026\n",
       "4950  2020-07-21  22.0  SWR026\n",
       "4951  2020-07-22   0.2  SWR026\n",
       "4952  2020-07-23   0.6  SWR026\n",
       "4953  2020-07-24  20.6  SWR026\n",
       "4954  2020-07-25   0.0  SWR026\n",
       "4955  2020-07-26   9.0  SWR026\n",
       "4956  2020-07-27   6.8  SWR026\n",
       "4957  2020-07-28   0.6  SWR026\n",
       "4958  2020-07-29   0.0  SWR026\n",
       "4959  2020-07-30   4.4  SWR026\n",
       "4960  2020-07-31  19.0  SWR026\n",
       "\n",
       "[4601312 rows x 3 columns]"
      ],
      "text/html": "<div>\n<style scoped>\n    .dataframe tbody tr th:only-of-type {\n        vertical-align: middle;\n    }\n\n    .dataframe tbody tr th {\n        vertical-align: top;\n    }\n\n    .dataframe thead th {\n        text-align: right;\n    }\n</style>\n<table border=\"1\" class=\"dataframe\">\n  <thead>\n    <tr style=\"text-align: right;\">\n      <th></th>\n      <th>date</th>\n      <th>rain</th>\n      <th>station</th>\n    </tr>\n  </thead>\n  <tbody>\n    <tr>\n      <th>0</th>\n      <td>2007-01-01</td>\n      <td>NaN</td>\n      <td>SWR028</td>\n    </tr>\n    <tr>\n      <th>1</th>\n      <td>2007-01-02</td>\n      <td>NaN</td>\n      <td>SWR028</td>\n    </tr>\n    <tr>\n      <th>2</th>\n      <td>2007-01-03</td>\n      <td>NaN</td>\n      <td>SWR028</td>\n    </tr>\n    <tr>\n      <th>3</th>\n      <td>2007-01-04</td>\n      <td>NaN</td>\n      <td>SWR028</td>\n    </tr>\n    <tr>\n      <th>4</th>\n      <td>2007-01-05</td>\n      <td>NaN</td>\n      <td>SWR028</td>\n    </tr>\n    <tr>\n      <th>5</th>\n      <td>2007-01-06</td>\n      <td>NaN</td>\n      <td>SWR028</td>\n    </tr>\n    <tr>\n      <th>6</th>\n      <td>2007-01-07</td>\n      <td>NaN</td>\n      <td>SWR028</td>\n    </tr>\n    <tr>\n      <th>7</th>\n      <td>2007-01-08</td>\n      <td>NaN</td>\n      <td>SWR028</td>\n    </tr>\n    <tr>\n      <th>8</th>\n      <td>2007-01-09</td>\n      <td>NaN</td>\n      <td>SWR028</td>\n    </tr>\n    <tr>\n      <th>9</th>\n      <td>2007-01-10</td>\n      <td>NaN</td>\n      <td>SWR028</td>\n    </tr>\n    <tr>\n      <th>10</th>\n      <td>2007-01-11</td>\n      <td>NaN</td>\n      <td>SWR028</td>\n    </tr>\n    <tr>\n      <th>11</th>\n      <td>2007-01-12</td>\n      <td>NaN</td>\n      <td>SWR028</td>\n    </tr>\n    <tr>\n      <th>12</th>\n      <td>2007-01-13</td>\n      <td>NaN</td>\n      <td>SWR028</td>\n    </tr>\n    <tr>\n      <th>13</th>\n      <td>2007-01-14</td>\n      <td>NaN</td>\n      <td>SWR028</td>\n    </tr>\n    <tr>\n      <th>14</th>\n      <td>2007-01-15</td>\n      <td>NaN</td>\n      <td>SWR028</td>\n    </tr>\n    <tr>\n      <th>15</th>\n      <td>2007-01-16</td>\n      <td>NaN</td>\n      <td>SWR028</td>\n    </tr>\n    <tr>\n      <th>16</th>\n      <td>2007-01-17</td>\n      <td>NaN</td>\n      <td>SWR028</td>\n    </tr>\n    <tr>\n      <th>17</th>\n      <td>2007-01-18</td>\n      <td>NaN</td>\n      <td>SWR028</td>\n    </tr>\n    <tr>\n      <th>18</th>\n      <td>2007-01-19</td>\n      <td>NaN</td>\n      <td>SWR028</td>\n    </tr>\n    <tr>\n      <th>19</th>\n      <td>2007-01-20</td>\n      <td>NaN</td>\n      <td>SWR028</td>\n    </tr>\n    <tr>\n      <th>20</th>\n      <td>2007-01-21</td>\n      <td>NaN</td>\n      <td>SWR028</td>\n    </tr>\n    <tr>\n      <th>21</th>\n      <td>2007-01-22</td>\n      <td>NaN</td>\n      <td>SWR028</td>\n    </tr>\n    <tr>\n      <th>22</th>\n      <td>2007-01-23</td>\n      <td>NaN</td>\n      <td>SWR028</td>\n    </tr>\n    <tr>\n      <th>23</th>\n      <td>2007-01-24</td>\n      <td>NaN</td>\n      <td>SWR028</td>\n    </tr>\n    <tr>\n      <th>24</th>\n      <td>2007-01-25</td>\n      <td>NaN</td>\n      <td>SWR028</td>\n    </tr>\n    <tr>\n      <th>25</th>\n      <td>2007-01-26</td>\n      <td>NaN</td>\n      <td>SWR028</td>\n    </tr>\n    <tr>\n      <th>26</th>\n      <td>2007-01-27</td>\n      <td>NaN</td>\n      <td>SWR028</td>\n    </tr>\n    <tr>\n      <th>27</th>\n      <td>2007-01-28</td>\n      <td>NaN</td>\n      <td>SWR028</td>\n    </tr>\n    <tr>\n      <th>28</th>\n      <td>2007-01-29</td>\n      <td>NaN</td>\n      <td>SWR028</td>\n    </tr>\n    <tr>\n      <th>29</th>\n      <td>2007-01-30</td>\n      <td>NaN</td>\n      <td>SWR028</td>\n    </tr>\n    <tr>\n      <th>...</th>\n      <td>...</td>\n      <td>...</td>\n      <td>...</td>\n    </tr>\n    <tr>\n      <th>4931</th>\n      <td>2020-07-02</td>\n      <td>4.0</td>\n      <td>SWR026</td>\n    </tr>\n    <tr>\n      <th>4932</th>\n      <td>2020-07-03</td>\n      <td>1.4</td>\n      <td>SWR026</td>\n    </tr>\n    <tr>\n      <th>4933</th>\n      <td>2020-07-04</td>\n      <td>0.0</td>\n      <td>SWR026</td>\n    </tr>\n    <tr>\n      <th>4934</th>\n      <td>2020-07-05</td>\n      <td>1.0</td>\n      <td>SWR026</td>\n    </tr>\n    <tr>\n      <th>4935</th>\n      <td>2020-07-06</td>\n      <td>11.6</td>\n      <td>SWR026</td>\n    </tr>\n    <tr>\n      <th>4936</th>\n      <td>2020-07-07</td>\n      <td>0.2</td>\n      <td>SWR026</td>\n    </tr>\n    <tr>\n      <th>4937</th>\n      <td>2020-07-08</td>\n      <td>0.0</td>\n      <td>SWR026</td>\n    </tr>\n    <tr>\n      <th>4938</th>\n      <td>2020-07-09</td>\n      <td>5.8</td>\n      <td>SWR026</td>\n    </tr>\n    <tr>\n      <th>4939</th>\n      <td>2020-07-10</td>\n      <td>0.0</td>\n      <td>SWR026</td>\n    </tr>\n    <tr>\n      <th>4940</th>\n      <td>2020-07-11</td>\n      <td>67.2</td>\n      <td>SWR026</td>\n    </tr>\n    <tr>\n      <th>4941</th>\n      <td>2020-07-12</td>\n      <td>0.6</td>\n      <td>SWR026</td>\n    </tr>\n    <tr>\n      <th>4942</th>\n      <td>2020-07-13</td>\n      <td>30.2</td>\n      <td>SWR026</td>\n    </tr>\n    <tr>\n      <th>4943</th>\n      <td>2020-07-14</td>\n      <td>0.2</td>\n      <td>SWR026</td>\n    </tr>\n    <tr>\n      <th>4944</th>\n      <td>2020-07-15</td>\n      <td>4.6</td>\n      <td>SWR026</td>\n    </tr>\n    <tr>\n      <th>4945</th>\n      <td>2020-07-16</td>\n      <td>9.0</td>\n      <td>SWR026</td>\n    </tr>\n    <tr>\n      <th>4946</th>\n      <td>2020-07-17</td>\n      <td>0.8</td>\n      <td>SWR026</td>\n    </tr>\n    <tr>\n      <th>4947</th>\n      <td>2020-07-18</td>\n      <td>0.4</td>\n      <td>SWR026</td>\n    </tr>\n    <tr>\n      <th>4948</th>\n      <td>2020-07-19</td>\n      <td>73.0</td>\n      <td>SWR026</td>\n    </tr>\n    <tr>\n      <th>4949</th>\n      <td>2020-07-20</td>\n      <td>88.4</td>\n      <td>SWR026</td>\n    </tr>\n    <tr>\n      <th>4950</th>\n      <td>2020-07-21</td>\n      <td>22.0</td>\n      <td>SWR026</td>\n    </tr>\n    <tr>\n      <th>4951</th>\n      <td>2020-07-22</td>\n      <td>0.2</td>\n      <td>SWR026</td>\n    </tr>\n    <tr>\n      <th>4952</th>\n      <td>2020-07-23</td>\n      <td>0.6</td>\n      <td>SWR026</td>\n    </tr>\n    <tr>\n      <th>4953</th>\n      <td>2020-07-24</td>\n      <td>20.6</td>\n      <td>SWR026</td>\n    </tr>\n    <tr>\n      <th>4954</th>\n      <td>2020-07-25</td>\n      <td>0.0</td>\n      <td>SWR026</td>\n    </tr>\n    <tr>\n      <th>4955</th>\n      <td>2020-07-26</td>\n      <td>9.0</td>\n      <td>SWR026</td>\n    </tr>\n    <tr>\n      <th>4956</th>\n      <td>2020-07-27</td>\n      <td>6.8</td>\n      <td>SWR026</td>\n    </tr>\n    <tr>\n      <th>4957</th>\n      <td>2020-07-28</td>\n      <td>0.6</td>\n      <td>SWR026</td>\n    </tr>\n    <tr>\n      <th>4958</th>\n      <td>2020-07-29</td>\n      <td>0.0</td>\n      <td>SWR026</td>\n    </tr>\n    <tr>\n      <th>4959</th>\n      <td>2020-07-30</td>\n      <td>4.4</td>\n      <td>SWR026</td>\n    </tr>\n    <tr>\n      <th>4960</th>\n      <td>2020-07-31</td>\n      <td>19.0</td>\n      <td>SWR026</td>\n    </tr>\n  </tbody>\n</table>\n<p>4601312 rows × 3 columns</p>\n</div>"
     },
     "metadata": {},
     "execution_count": 48
    }
   ],
   "source": [
    "rain_df = open_concat_csv(path_rain)\n",
    "# replace -999 value to NaN\n",
    "rain_df['rain'] = rain_df[\"rain\"].replace({-999:np.nan})\n",
    "\n",
    "print(rain_df.shape)\n",
    "rain_df"
   ]
  },
  {
   "cell_type": "code",
   "execution_count": 18,
   "metadata": {},
   "outputs": [
    {
     "output_type": "execute_result",
     "data": {
      "text/plain": [
       "            ACRU  ANLI  BAKI  BARI  BBHN  BBON  BBUA  BBWN  BCAP  BCNG  ...  \\\n",
       "date                                                                    ...   \n",
       "2007-01-01   NaN   NaN   NaN   0.0   NaN   NaN   NaN   NaN   0.0   NaN  ...   \n",
       "2007-01-02   NaN   NaN   NaN   0.0   NaN   NaN   NaN   NaN   0.0   NaN  ...   \n",
       "2007-01-03   NaN   NaN   NaN   0.0   NaN   NaN   NaN   NaN   0.0   NaN  ...   \n",
       "2007-01-04   NaN   NaN   NaN   0.0   NaN   NaN   NaN   NaN   0.0   NaN  ...   \n",
       "2007-01-05   NaN   NaN   NaN   0.0   NaN   NaN   NaN   NaN   0.0   NaN  ...   \n",
       "\n",
       "            YOM003  YOM004  YOM005  YOM006  YOM007  YOM008  YOM009  YOM010  \\\n",
       "date                                                                         \n",
       "2007-01-01     NaN     NaN     NaN     NaN     NaN     NaN     NaN     NaN   \n",
       "2007-01-02     NaN     NaN     NaN     NaN     NaN     NaN     NaN     NaN   \n",
       "2007-01-03     NaN     NaN     NaN     NaN     NaN     NaN     NaN     NaN   \n",
       "2007-01-04     NaN     NaN     NaN     NaN     NaN     NaN     NaN     NaN   \n",
       "2007-01-05     NaN     NaN     NaN     NaN     NaN     NaN     NaN     NaN   \n",
       "\n",
       "            YOM011  YOM012  \n",
       "date                        \n",
       "2007-01-01     NaN     NaN  \n",
       "2007-01-02     NaN     NaN  \n",
       "2007-01-03     NaN     NaN  \n",
       "2007-01-04     NaN     NaN  \n",
       "2007-01-05     NaN     NaN  \n",
       "\n",
       "[5 rows x 929 columns]"
      ],
      "text/html": "<div>\n<style scoped>\n    .dataframe tbody tr th:only-of-type {\n        vertical-align: middle;\n    }\n\n    .dataframe tbody tr th {\n        vertical-align: top;\n    }\n\n    .dataframe thead th {\n        text-align: right;\n    }\n</style>\n<table border=\"1\" class=\"dataframe\">\n  <thead>\n    <tr style=\"text-align: right;\">\n      <th></th>\n      <th>ACRU</th>\n      <th>ANLI</th>\n      <th>BAKI</th>\n      <th>BARI</th>\n      <th>BBHN</th>\n      <th>BBON</th>\n      <th>BBUA</th>\n      <th>BBWN</th>\n      <th>BCAP</th>\n      <th>BCNG</th>\n      <th>...</th>\n      <th>YOM003</th>\n      <th>YOM004</th>\n      <th>YOM005</th>\n      <th>YOM006</th>\n      <th>YOM007</th>\n      <th>YOM008</th>\n      <th>YOM009</th>\n      <th>YOM010</th>\n      <th>YOM011</th>\n      <th>YOM012</th>\n    </tr>\n    <tr>\n      <th>date</th>\n      <th></th>\n      <th></th>\n      <th></th>\n      <th></th>\n      <th></th>\n      <th></th>\n      <th></th>\n      <th></th>\n      <th></th>\n      <th></th>\n      <th></th>\n      <th></th>\n      <th></th>\n      <th></th>\n      <th></th>\n      <th></th>\n      <th></th>\n      <th></th>\n      <th></th>\n      <th></th>\n      <th></th>\n    </tr>\n  </thead>\n  <tbody>\n    <tr>\n      <th>2007-01-01</th>\n      <td>NaN</td>\n      <td>NaN</td>\n      <td>NaN</td>\n      <td>0.0</td>\n      <td>NaN</td>\n      <td>NaN</td>\n      <td>NaN</td>\n      <td>NaN</td>\n      <td>0.0</td>\n      <td>NaN</td>\n      <td>...</td>\n      <td>NaN</td>\n      <td>NaN</td>\n      <td>NaN</td>\n      <td>NaN</td>\n      <td>NaN</td>\n      <td>NaN</td>\n      <td>NaN</td>\n      <td>NaN</td>\n      <td>NaN</td>\n      <td>NaN</td>\n    </tr>\n    <tr>\n      <th>2007-01-02</th>\n      <td>NaN</td>\n      <td>NaN</td>\n      <td>NaN</td>\n      <td>0.0</td>\n      <td>NaN</td>\n      <td>NaN</td>\n      <td>NaN</td>\n      <td>NaN</td>\n      <td>0.0</td>\n      <td>NaN</td>\n      <td>...</td>\n      <td>NaN</td>\n      <td>NaN</td>\n      <td>NaN</td>\n      <td>NaN</td>\n      <td>NaN</td>\n      <td>NaN</td>\n      <td>NaN</td>\n      <td>NaN</td>\n      <td>NaN</td>\n      <td>NaN</td>\n    </tr>\n    <tr>\n      <th>2007-01-03</th>\n      <td>NaN</td>\n      <td>NaN</td>\n      <td>NaN</td>\n      <td>0.0</td>\n      <td>NaN</td>\n      <td>NaN</td>\n      <td>NaN</td>\n      <td>NaN</td>\n      <td>0.0</td>\n      <td>NaN</td>\n      <td>...</td>\n      <td>NaN</td>\n      <td>NaN</td>\n      <td>NaN</td>\n      <td>NaN</td>\n      <td>NaN</td>\n      <td>NaN</td>\n      <td>NaN</td>\n      <td>NaN</td>\n      <td>NaN</td>\n      <td>NaN</td>\n    </tr>\n    <tr>\n      <th>2007-01-04</th>\n      <td>NaN</td>\n      <td>NaN</td>\n      <td>NaN</td>\n      <td>0.0</td>\n      <td>NaN</td>\n      <td>NaN</td>\n      <td>NaN</td>\n      <td>NaN</td>\n      <td>0.0</td>\n      <td>NaN</td>\n      <td>...</td>\n      <td>NaN</td>\n      <td>NaN</td>\n      <td>NaN</td>\n      <td>NaN</td>\n      <td>NaN</td>\n      <td>NaN</td>\n      <td>NaN</td>\n      <td>NaN</td>\n      <td>NaN</td>\n      <td>NaN</td>\n    </tr>\n    <tr>\n      <th>2007-01-05</th>\n      <td>NaN</td>\n      <td>NaN</td>\n      <td>NaN</td>\n      <td>0.0</td>\n      <td>NaN</td>\n      <td>NaN</td>\n      <td>NaN</td>\n      <td>NaN</td>\n      <td>0.0</td>\n      <td>NaN</td>\n      <td>...</td>\n      <td>NaN</td>\n      <td>NaN</td>\n      <td>NaN</td>\n      <td>NaN</td>\n      <td>NaN</td>\n      <td>NaN</td>\n      <td>NaN</td>\n      <td>NaN</td>\n      <td>NaN</td>\n      <td>NaN</td>\n    </tr>\n  </tbody>\n</table>\n<p>5 rows × 929 columns</p>\n</div>"
     },
     "metadata": {},
     "execution_count": 18
    }
   ],
   "source": [
    "rain_df_st = pd.DataFrame()\n",
    "for name,group in rain_df.groupby('station'):\n",
    "    if rain_df_st.empty:\n",
    "        rain_df_st = group.set_index(\"date\")[[\"rain\"]].rename(columns={'rain':name})\n",
    "    else:\n",
    "        rain_df_st = rain_df_st.join(group.set_index(\"date\")[[\"rain\"]].rename(columns={'rain':name}))\n",
    "\n",
    "rain_df_st.head()"
   ]
  },
  {
   "source": [
    "# WATER"
   ],
   "cell_type": "markdown",
   "metadata": {}
  },
  {
   "cell_type": "code",
   "execution_count": 25,
   "metadata": {},
   "outputs": [
    {
     "output_type": "stream",
     "name": "stderr",
     "text": [
      "100%|██████████| 316/316 [01:04<00:00,  4.88it/s]\n",
      "(225604800, 4)\n",
      "Index(['date', 'time', 'wl', 'station'], dtype='object')\n"
     ]
    }
   ],
   "source": [
    "path_water = \"../hii-telemetering-batch-data-master/water-level2007-2020/\"\n",
    "water_df = open_concat_csv(path_water)\n",
    "\n",
    "print(water_df.shape)\n",
    "print(water_df.columns)"
   ]
  },
  {
   "cell_type": "code",
   "execution_count": 26,
   "metadata": {},
   "outputs": [
    {
     "output_type": "execute_result",
     "data": {
      "text/plain": [
       "         date      time  wl station\n",
       "0  2007-01-01  00:00:00 NaN  TBW018\n",
       "1  2007-01-01  00:10:00 NaN  TBW018\n",
       "2  2007-01-01  00:20:00 NaN  TBW018\n",
       "3  2007-01-01  00:30:00 NaN  TBW018\n",
       "4  2007-01-01  00:40:00 NaN  TBW018"
      ],
      "text/html": "<div>\n<style scoped>\n    .dataframe tbody tr th:only-of-type {\n        vertical-align: middle;\n    }\n\n    .dataframe tbody tr th {\n        vertical-align: top;\n    }\n\n    .dataframe thead th {\n        text-align: right;\n    }\n</style>\n<table border=\"1\" class=\"dataframe\">\n  <thead>\n    <tr style=\"text-align: right;\">\n      <th></th>\n      <th>date</th>\n      <th>time</th>\n      <th>wl</th>\n      <th>station</th>\n    </tr>\n  </thead>\n  <tbody>\n    <tr>\n      <th>0</th>\n      <td>2007-01-01</td>\n      <td>00:00:00</td>\n      <td>NaN</td>\n      <td>TBW018</td>\n    </tr>\n    <tr>\n      <th>1</th>\n      <td>2007-01-01</td>\n      <td>00:10:00</td>\n      <td>NaN</td>\n      <td>TBW018</td>\n    </tr>\n    <tr>\n      <th>2</th>\n      <td>2007-01-01</td>\n      <td>00:20:00</td>\n      <td>NaN</td>\n      <td>TBW018</td>\n    </tr>\n    <tr>\n      <th>3</th>\n      <td>2007-01-01</td>\n      <td>00:30:00</td>\n      <td>NaN</td>\n      <td>TBW018</td>\n    </tr>\n    <tr>\n      <th>4</th>\n      <td>2007-01-01</td>\n      <td>00:40:00</td>\n      <td>NaN</td>\n      <td>TBW018</td>\n    </tr>\n  </tbody>\n</table>\n</div>"
     },
     "metadata": {},
     "execution_count": 26
    }
   ],
   "source": [
    "water_df['wl'] = water_df['wl'].replace({-999:np.nan})\n",
    "water_df.head()"
   ]
  },
  {
   "cell_type": "code",
   "execution_count": 56,
   "metadata": {
    "tags": []
   },
   "outputs": [
    {
     "output_type": "stream",
     "name": "stdout",
     "text": [
      "<generator object <genexpr> at 0x7f44ae6608d0>\n"
     ]
    }
   ],
   "source": [
    "all_filenames = [i for i in glob.glob(os.path.join(path_water, '*.csv'))]\n",
    "print(rename(i) for i in all_filenames)\n"
   ]
  },
  {
   "cell_type": "code",
   "execution_count": null,
   "metadata": {},
   "outputs": [],
   "source": []
  }
 ]
}