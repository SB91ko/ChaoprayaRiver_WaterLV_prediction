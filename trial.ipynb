{
 "metadata": {
  "language_info": {
   "codemirror_mode": {
    "name": "ipython",
    "version": 3
   },
   "file_extension": ".py",
   "mimetype": "text/x-python",
   "name": "python",
   "nbconvert_exporter": "python",
   "pygments_lexer": "ipython3",
   "version": "3.8.5-final"
  },
  "orig_nbformat": 2,
  "kernelspec": {
   "name": "python3",
   "display_name": "Python 3"
  }
 },
 "nbformat": 4,
 "nbformat_minor": 2,
 "cells": [
  {
   "cell_type": "code",
   "execution_count": 1,
   "metadata": {},
   "outputs": [],
   "source": [
    "from DLtools.Data_preprocess import series_to_supervised,load_data,preprocess\n",
    "\n",
    "import math\n",
    "import pandas as pd\n",
    "import numpy as np\n",
    "import matplotlib.pyplot as plt\n",
    "from sklearn.model_selection import train_test_split"
   ]
  },
  {
   "cell_type": "code",
   "execution_count": 2,
   "metadata": {},
   "outputs": [
    {
     "output_type": "stream",
     "name": "stdout",
     "text": [
      "DataFrame shape: (465169, 35)\n"
     ]
    }
   ],
   "source": [
    "r='data/instant_data/rain_small.csv'\n",
    "w='data/instant_data/water_small.csv'\n",
    "rw = load_data(r,w)\n",
    "df =rw.df.resample('d').mean()"
   ]
  },
  {
   "cell_type": "code",
   "execution_count": 9,
   "metadata": {},
   "outputs": [],
   "source": [
    "X_in = df['2013-01-01':'2015-01-01'].interpolate(limit=7)\n",
    "X_in = X_in.astype('float32')"
   ]
  },
  {
   "cell_type": "code",
   "execution_count": 10,
   "metadata": {},
   "outputs": [
    {
     "output_type": "stream",
     "name": "stdout",
     "text": [
      "================================================== preview ==================================================\n            CHM002_r(t-7)  CHM004_r(t-7)  CHM006_r(t-7)  CPY004_r(t-7)  \\\ndate                                                                     \n2013-03-02            0.0            0.0            0.0            0.0   \n2013-03-03            0.0            0.0            0.0            0.0   \n2013-03-04            0.0            0.0            0.0            0.0   \n2013-03-05            0.0            0.0            0.0            0.0   \n2013-03-06            0.0            0.0            0.0            0.0   \n\n            CPY009_r(t-7)  CPY010_r(t-7)  CPY015_r(t-7)  KWN002_r(t-7)  \\\ndate                                                                     \n2013-03-02            0.0            0.0            0.0            0.0   \n2013-03-03            0.0            0.0            0.0            0.0   \n2013-03-04            0.0            0.0            0.0            0.0   \n2013-03-05            0.0            0.0            0.0            0.0   \n2013-03-06            0.0            0.0            0.0            0.0   \n\n            NAN006_r(t-7)  NAN010_r(t-7)  ...  CPY015_w(t)  KWN002_w(t)  \\\ndate                                      ...                             \n2013-03-02            0.0            0.0  ...     0.458472    42.709091   \n2013-03-03            0.0            0.0  ...     0.484028    42.593357   \n2013-03-04            0.0            0.0  ...     0.462500    42.837204   \n2013-03-05            0.0            0.0  ...     0.495903    42.844337   \n2013-03-06            0.0            0.0  ...     0.587847    42.839230   \n\n            NAN009_w(t)  NAN010_w(t)  NAN011_w(t)  NAN012_w(t)  NAN013_w(t)  \\\ndate                                                                          \n2013-03-02   179.276993   154.339584    53.418461    37.252777    40.387623   \n2013-03-03   179.268814   154.385178    53.352097    37.140625    40.418953   \n2013-03-04   179.283630   155.217560    53.351875    37.294235    40.484196   \n2013-03-05   179.300278   155.005112    53.292797    37.722153    40.599369   \n2013-03-06   179.332657   154.745667    53.383217    37.561874    40.614754   \n\n            PIN001_w(t)  PIN004_w(t)  THA001_w(t)  \ndate                                               \n2013-03-02   119.050629    40.715832    14.902708  \n2013-03-03   118.971954    40.789791    15.075139  \n2013-03-04   119.095947    40.572571    15.304931  \n2013-03-05   119.022934    40.466370    15.503472  \n2013-03-06   119.058182    40.461330    15.502639  \n\n[5 rows x 280 columns]\n            CHM002_r(t-7)  CHM004_r(t-7)  CHM006_r(t-7)  CPY004_r(t-7)  \\\ndate                                                                     \n2014-12-28            0.0            0.0            0.0            0.0   \n2014-12-29            0.2            0.2            0.0            0.0   \n2014-12-30            0.4            0.2            0.0            0.0   \n2014-12-31            0.2            0.2            0.0            0.0   \n2015-01-01            0.2            0.2            0.0            0.0   \n\n            CPY009_r(t-7)  CPY010_r(t-7)  CPY015_r(t-7)  KWN002_r(t-7)  \\\ndate                                                                     \n2014-12-28            0.0            0.0            0.0            0.0   \n2014-12-29            0.0            0.0            0.0            0.0   \n2014-12-30            0.0            0.0            0.0            0.0   \n2014-12-31            0.0            0.0            0.0            0.0   \n2015-01-01            0.0            0.0            0.0            0.0   \n\n            NAN006_r(t-7)  NAN010_r(t-7)  ...  CPY015_w(t)  KWN002_w(t)  \\\ndate                                      ...                             \n2014-12-28            0.0            0.0  ...     0.464825    43.241478   \n2014-12-29            0.0            0.0  ...     0.506154    43.235035   \n2014-12-30            0.0            0.0  ...     0.615839    43.160908   \n2014-12-31            0.0            0.0  ...     0.478531    42.987431   \n2015-01-01            0.0            0.0  ...     0.480214    43.100971   \n\n            NAN009_w(t)  NAN010_w(t)  NAN011_w(t)  NAN012_w(t)  NAN013_w(t)  \\\ndate                                                                          \n2014-12-28   179.456848   154.377411    52.455833    36.896923    40.594494   \n2014-12-29   179.456985   154.366577    52.470974    36.776318    40.590416   \n2014-12-30   179.446426   154.371475    52.488609    36.735733    40.584438   \n2014-12-31   179.455490   154.339233    52.524445    36.643890    40.581181   \n2015-01-01   179.443604   154.378952    52.498749    36.744793    40.589653   \n\n            PIN001_w(t)  PIN004_w(t)  THA001_w(t)  \ndate                                               \n2014-12-28   118.743172    40.617001    13.901986  \n2014-12-29   118.747177    40.582222    13.918322  \n2014-12-30   118.821770    40.580769    13.981608  \n2014-12-31   118.707642    40.579651    14.065282  \n2015-01-01   118.766808    40.585140    14.123750  \n\n[5 rows x 280 columns]\n(365, 280)\n365\n================================================== X-Y Shape ==================================================\n(365, 7)\n(365, 1)\n================================================== Train....Validation...Test ==================================================\nTrain:Test (255, 7) (255, 1) (110, 7) (110, 1)\nTrain.... (178, 7) (178, 1) ||\nVal...... (77, 7) (77, 1) ||\n================================================== [Reshape Train for 3D]Train....Validation...Test ==================================================\nTrain:Test (255, 7, 1) (255, 1) (110, 7) (110, 1) || ori_trainX,ori_trainY....test_X,test_Y\nTrain.... (178, 7, 1) (178, 1) || train_X, train_Y\nVal...... (77, 7, 1) (77, 1) || val_X, val_Y\n"
     ]
    }
   ],
   "source": [
    "LOOKBACK=7\n",
    "\n",
    "prep = preprocess(X_in,LOOKBACK,1)\n",
    "train_X, train_Y = prep.train_X,prep.train_Y\n",
    "val_X,val_y = prep.val_X,prep.val_y\n",
    "test_X,test_y =prep.test_X,prep.test_Y\n",
    "\n",
    "ori_trainX,ori_trianY = prep.ori_trainX,prep.ori_trainY"
   ]
  },
  {
   "cell_type": "code",
   "execution_count": 12,
   "metadata": {},
   "outputs": [],
   "source": [
    "import tensorflow as tf\n",
    "from tensorflow.keras.models import Sequential\n",
    "from tensorflow.keras.layers import Dense,LSTM\n",
    "from tensorflow.keras.callbacks import EarlyStopping"
   ]
  },
  {
   "cell_type": "code",
   "execution_count": 17,
   "metadata": {},
   "outputs": [
    {
     "output_type": "stream",
     "name": "stdout",
     "text": [
      "Model: \"sequential_1\"\n_________________________________________________________________\nLayer (type)                 Output Shape              Param #   \n=================================================================\nlstm_1 (LSTM)                (None, 128)               66560     \n_________________________________________________________________\ndense_1 (Dense)              (None, 1)                 129       \n=================================================================\nTotal params: 66,689\nTrainable params: 66,689\nNon-trainable params: 0\n_________________________________________________________________\n"
     ]
    }
   ],
   "source": [
    "model = Sequential()\n",
    "model.add(LSTM(128, activation='relu', input_shape=(7, 1)))\n",
    "model.add(Dense(1))\n",
    "model.compile(optimizer='adam', loss='mse')\n",
    "model.summary()"
   ]
  },
  {
   "cell_type": "code",
   "execution_count": 18,
   "metadata": {},
   "outputs": [],
   "source": [
    "EPOCH = 100\n",
    "BATCH = 7\n",
    "VALIDATION = (val_X,val_y)\n",
    "\n",
    "callback_early_stopping = EarlyStopping(monitor='val_loss',patience=5, verbose=2)\n",
    "callbacks = [callback_early_stopping]"
   ]
  },
  {
   "cell_type": "code",
   "execution_count": 19,
   "metadata": {},
   "outputs": [
    {
     "output_type": "stream",
     "name": "stdout",
     "text": [
      "Epoch 1/100\n",
      "26/26 [==============================] - 1s 23ms/step - loss: 207.5415 - val_loss: 198.3665\n",
      "Epoch 2/100\n",
      "26/26 [==============================] - 0s 12ms/step - loss: 190.6668 - val_loss: 158.1315\n",
      "Epoch 3/100\n",
      "26/26 [==============================] - 0s 11ms/step - loss: 224.0678 - val_loss: 159.9849\n",
      "Epoch 4/100\n",
      "26/26 [==============================] - 0s 12ms/step - loss: 163.6877 - val_loss: 157.2419\n",
      "Epoch 5/100\n",
      "26/26 [==============================] - 0s 13ms/step - loss: 149.1713 - val_loss: 130.1346\n",
      "Epoch 6/100\n",
      "26/26 [==============================] - 0s 12ms/step - loss: 91.5378 - val_loss: 48.9256\n",
      "Epoch 7/100\n",
      "26/26 [==============================] - 0s 13ms/step - loss: 32.8821 - val_loss: 15.1720\n",
      "Epoch 8/100\n",
      "26/26 [==============================] - 0s 10ms/step - loss: 5.7390 - val_loss: 2.6076\n",
      "Epoch 9/100\n",
      "26/26 [==============================] - 0s 13ms/step - loss: 2.4954 - val_loss: 2.4152\n",
      "Epoch 10/100\n",
      "26/26 [==============================] - 0s 10ms/step - loss: 2.4065 - val_loss: 2.1932\n",
      "Epoch 11/100\n",
      "26/26 [==============================] - 0s 12ms/step - loss: 2.1619 - val_loss: 2.0153\n",
      "Epoch 12/100\n",
      "26/26 [==============================] - 0s 13ms/step - loss: 1.9690 - val_loss: 1.9466\n",
      "Epoch 13/100\n",
      "26/26 [==============================] - 0s 11ms/step - loss: 1.8328 - val_loss: 1.8284\n",
      "Epoch 14/100\n",
      "26/26 [==============================] - 0s 12ms/step - loss: 1.6879 - val_loss: 1.7548\n",
      "Epoch 15/100\n",
      "26/26 [==============================] - 0s 11ms/step - loss: 1.5718 - val_loss: 1.6718\n",
      "Epoch 16/100\n",
      "26/26 [==============================] - 0s 12ms/step - loss: 1.4498 - val_loss: 1.6161\n",
      "Epoch 17/100\n",
      "26/26 [==============================] - 0s 11ms/step - loss: 1.3418 - val_loss: 1.5681\n",
      "Epoch 18/100\n",
      "26/26 [==============================] - 0s 11ms/step - loss: 1.1990 - val_loss: 1.4175\n",
      "Epoch 19/100\n",
      "26/26 [==============================] - 0s 11ms/step - loss: 1.0633 - val_loss: 1.2312\n",
      "Epoch 20/100\n",
      "26/26 [==============================] - 0s 14ms/step - loss: 0.9224 - val_loss: 1.1250\n",
      "Epoch 21/100\n",
      "26/26 [==============================] - 0s 14ms/step - loss: 0.8434 - val_loss: 1.0537\n",
      "Epoch 22/100\n",
      "26/26 [==============================] - 0s 14ms/step - loss: 0.7810 - val_loss: 0.9517\n",
      "Epoch 23/100\n",
      "26/26 [==============================] - 0s 12ms/step - loss: 0.7223 - val_loss: 0.9464\n",
      "Epoch 24/100\n",
      "26/26 [==============================] - 0s 11ms/step - loss: 0.6996 - val_loss: 0.9021\n",
      "Epoch 25/100\n",
      "26/26 [==============================] - 0s 11ms/step - loss: 0.6776 - val_loss: 0.8521\n",
      "Epoch 26/100\n",
      "26/26 [==============================] - 0s 11ms/step - loss: 0.6538 - val_loss: 0.8529\n",
      "Epoch 27/100\n",
      "26/26 [==============================] - 0s 13ms/step - loss: 0.6454 - val_loss: 0.8278\n",
      "Epoch 28/100\n",
      "26/26 [==============================] - 0s 11ms/step - loss: 0.6315 - val_loss: 0.8157\n",
      "Epoch 29/100\n",
      "26/26 [==============================] - 0s 10ms/step - loss: 0.6271 - val_loss: 0.7977\n",
      "Epoch 30/100\n",
      "26/26 [==============================] - 0s 11ms/step - loss: 0.6181 - val_loss: 0.7793\n",
      "Epoch 31/100\n",
      "26/26 [==============================] - 0s 11ms/step - loss: 0.6100 - val_loss: 0.7735\n",
      "Epoch 32/100\n",
      "26/26 [==============================] - 0s 13ms/step - loss: 0.6071 - val_loss: 0.7677\n",
      "Epoch 33/100\n",
      "26/26 [==============================] - 0s 14ms/step - loss: 0.6022 - val_loss: 0.7494\n",
      "Epoch 34/100\n",
      "26/26 [==============================] - 0s 12ms/step - loss: 0.5963 - val_loss: 0.7503\n",
      "Epoch 35/100\n",
      "26/26 [==============================] - 0s 10ms/step - loss: 0.5959 - val_loss: 0.7469\n",
      "Epoch 36/100\n",
      "26/26 [==============================] - 0s 9ms/step - loss: 0.5924 - val_loss: 0.7370\n",
      "Epoch 37/100\n",
      "26/26 [==============================] - 0s 10ms/step - loss: 0.5907 - val_loss: 0.7498\n",
      "Epoch 38/100\n",
      "26/26 [==============================] - 0s 10ms/step - loss: 0.5920 - val_loss: 0.7576\n",
      "Epoch 39/100\n",
      "26/26 [==============================] - 0s 10ms/step - loss: 0.5906 - val_loss: 0.7267\n",
      "Epoch 40/100\n",
      "26/26 [==============================] - 0s 11ms/step - loss: 0.5812 - val_loss: 0.7186\n",
      "Epoch 41/100\n",
      "26/26 [==============================] - 0s 12ms/step - loss: 0.5796 - val_loss: 0.7211\n",
      "Epoch 42/100\n",
      "26/26 [==============================] - 0s 13ms/step - loss: 0.5803 - val_loss: 0.7349\n",
      "Epoch 43/100\n",
      "26/26 [==============================] - 0s 16ms/step - loss: 0.5821 - val_loss: 0.7376\n",
      "Epoch 44/100\n",
      "26/26 [==============================] - 0s 10ms/step - loss: 0.5797 - val_loss: 0.7108\n",
      "Epoch 45/100\n",
      "26/26 [==============================] - 0s 11ms/step - loss: 0.5732 - val_loss: 0.7240\n",
      "Epoch 46/100\n",
      "26/26 [==============================] - 0s 11ms/step - loss: 0.5743 - val_loss: 0.7105\n",
      "Epoch 47/100\n",
      "26/26 [==============================] - 0s 11ms/step - loss: 0.5711 - val_loss: 0.7151\n",
      "Epoch 48/100\n",
      "26/26 [==============================] - 0s 11ms/step - loss: 0.5724 - val_loss: 0.7169\n",
      "Epoch 49/100\n",
      "26/26 [==============================] - 0s 13ms/step - loss: 0.5714 - val_loss: 0.7240\n",
      "Epoch 50/100\n",
      "26/26 [==============================] - 0s 12ms/step - loss: 0.5717 - val_loss: 0.7196\n",
      "Epoch 51/100\n",
      "26/26 [==============================] - 0s 13ms/step - loss: 0.5702 - val_loss: 0.7268\n",
      "Epoch 00051: early stopping\n"
     ]
    }
   ],
   "source": [
    "history = model.fit(train_X, train_Y, epochs=EPOCH, batch_size=BATCH, verbose=1,shuffle=False,validation_data=VALIDATION,callbacks=callbacks)"
   ]
  },
  {
   "cell_type": "code",
   "execution_count": 20,
   "metadata": {},
   "outputs": [
    {
     "output_type": "display_data",
     "data": {
      "text/plain": "<Figure size 432x288 with 1 Axes>",
      "image/svg+xml": "<?xml version=\"1.0\" encoding=\"utf-8\" standalone=\"no\"?>\n<!DOCTYPE svg PUBLIC \"-//W3C//DTD SVG 1.1//EN\"\n  \"http://www.w3.org/Graphics/SVG/1.1/DTD/svg11.dtd\">\n<!-- Created with matplotlib (https://matplotlib.org/) -->\n<svg height=\"248.518125pt\" version=\"1.1\" viewBox=\"0 0 375.2875 248.518125\" width=\"375.2875pt\" xmlns=\"http://www.w3.org/2000/svg\" xmlns:xlink=\"http://www.w3.org/1999/xlink\">\n <metadata>\n  <rdf:RDF xmlns:cc=\"http://creativecommons.org/ns#\" xmlns:dc=\"http://purl.org/dc/elements/1.1/\" xmlns:rdf=\"http://www.w3.org/1999/02/22-rdf-syntax-ns#\">\n   <cc:Work>\n    <dc:type rdf:resource=\"http://purl.org/dc/dcmitype/StillImage\"/>\n    <dc:date>2020-10-31T15:09:53.657499</dc:date>\n    <dc:format>image/svg+xml</dc:format>\n    <dc:creator>\n     <cc:Agent>\n      <dc:title>Matplotlib v3.3.1, https://matplotlib.org/</dc:title>\n     </cc:Agent>\n    </dc:creator>\n   </cc:Work>\n  </rdf:RDF>\n </metadata>\n <defs>\n  <style type=\"text/css\">*{stroke-linecap:butt;stroke-linejoin:round;}</style>\n </defs>\n <g id=\"figure_1\">\n  <g id=\"patch_1\">\n   <path d=\"M 0 248.518125 \nL 375.2875 248.518125 \nL 375.2875 0 \nL 0 0 \nz\n\" style=\"fill:none;\"/>\n  </g>\n  <g id=\"axes_1\">\n   <g id=\"patch_2\">\n    <path d=\"M 33.2875 224.64 \nL 368.0875 224.64 \nL 368.0875 7.2 \nL 33.2875 7.2 \nz\n\" style=\"fill:#ffffff;\"/>\n   </g>\n   <g id=\"matplotlib.axis_1\">\n    <g id=\"xtick_1\">\n     <g id=\"line2d_1\">\n      <defs>\n       <path d=\"M 0 0 \nL 0 3.5 \n\" id=\"mfb1f070a21\" style=\"stroke:#000000;stroke-width:0.8;\"/>\n      </defs>\n      <g>\n       <use style=\"stroke:#000000;stroke-width:0.8;\" x=\"48.505682\" xlink:href=\"#mfb1f070a21\" y=\"224.64\"/>\n      </g>\n     </g>\n     <g id=\"text_1\">\n      <!-- 0 -->\n      <g transform=\"translate(45.324432 239.238437)scale(0.1 -0.1)\">\n       <defs>\n        <path d=\"M 31.78125 66.40625 \nQ 24.171875 66.40625 20.328125 58.90625 \nQ 16.5 51.421875 16.5 36.375 \nQ 16.5 21.390625 20.328125 13.890625 \nQ 24.171875 6.390625 31.78125 6.390625 \nQ 39.453125 6.390625 43.28125 13.890625 \nQ 47.125 21.390625 47.125 36.375 \nQ 47.125 51.421875 43.28125 58.90625 \nQ 39.453125 66.40625 31.78125 66.40625 \nz\nM 31.78125 74.21875 \nQ 44.046875 74.21875 50.515625 64.515625 \nQ 56.984375 54.828125 56.984375 36.375 \nQ 56.984375 17.96875 50.515625 8.265625 \nQ 44.046875 -1.421875 31.78125 -1.421875 \nQ 19.53125 -1.421875 13.0625 8.265625 \nQ 6.59375 17.96875 6.59375 36.375 \nQ 6.59375 54.828125 13.0625 64.515625 \nQ 19.53125 74.21875 31.78125 74.21875 \nz\n\" id=\"DejaVuSans-48\"/>\n       </defs>\n       <use xlink:href=\"#DejaVuSans-48\"/>\n      </g>\n     </g>\n    </g>\n    <g id=\"xtick_2\">\n     <g id=\"line2d_2\">\n      <g>\n       <use style=\"stroke:#000000;stroke-width:0.8;\" x=\"109.378409\" xlink:href=\"#mfb1f070a21\" y=\"224.64\"/>\n      </g>\n     </g>\n     <g id=\"text_2\">\n      <!-- 10 -->\n      <g transform=\"translate(103.015909 239.238437)scale(0.1 -0.1)\">\n       <defs>\n        <path d=\"M 12.40625 8.296875 \nL 28.515625 8.296875 \nL 28.515625 63.921875 \nL 10.984375 60.40625 \nL 10.984375 69.390625 \nL 28.421875 72.90625 \nL 38.28125 72.90625 \nL 38.28125 8.296875 \nL 54.390625 8.296875 \nL 54.390625 0 \nL 12.40625 0 \nz\n\" id=\"DejaVuSans-49\"/>\n       </defs>\n       <use xlink:href=\"#DejaVuSans-49\"/>\n       <use x=\"63.623047\" xlink:href=\"#DejaVuSans-48\"/>\n      </g>\n     </g>\n    </g>\n    <g id=\"xtick_3\">\n     <g id=\"line2d_3\">\n      <g>\n       <use style=\"stroke:#000000;stroke-width:0.8;\" x=\"170.251136\" xlink:href=\"#mfb1f070a21\" y=\"224.64\"/>\n      </g>\n     </g>\n     <g id=\"text_3\">\n      <!-- 20 -->\n      <g transform=\"translate(163.888636 239.238437)scale(0.1 -0.1)\">\n       <defs>\n        <path d=\"M 19.1875 8.296875 \nL 53.609375 8.296875 \nL 53.609375 0 \nL 7.328125 0 \nL 7.328125 8.296875 \nQ 12.9375 14.109375 22.625 23.890625 \nQ 32.328125 33.6875 34.8125 36.53125 \nQ 39.546875 41.84375 41.421875 45.53125 \nQ 43.3125 49.21875 43.3125 52.78125 \nQ 43.3125 58.59375 39.234375 62.25 \nQ 35.15625 65.921875 28.609375 65.921875 \nQ 23.96875 65.921875 18.8125 64.3125 \nQ 13.671875 62.703125 7.8125 59.421875 \nL 7.8125 69.390625 \nQ 13.765625 71.78125 18.9375 73 \nQ 24.125 74.21875 28.421875 74.21875 \nQ 39.75 74.21875 46.484375 68.546875 \nQ 53.21875 62.890625 53.21875 53.421875 \nQ 53.21875 48.921875 51.53125 44.890625 \nQ 49.859375 40.875 45.40625 35.40625 \nQ 44.1875 33.984375 37.640625 27.21875 \nQ 31.109375 20.453125 19.1875 8.296875 \nz\n\" id=\"DejaVuSans-50\"/>\n       </defs>\n       <use xlink:href=\"#DejaVuSans-50\"/>\n       <use x=\"63.623047\" xlink:href=\"#DejaVuSans-48\"/>\n      </g>\n     </g>\n    </g>\n    <g id=\"xtick_4\">\n     <g id=\"line2d_4\">\n      <g>\n       <use style=\"stroke:#000000;stroke-width:0.8;\" x=\"231.123864\" xlink:href=\"#mfb1f070a21\" y=\"224.64\"/>\n      </g>\n     </g>\n     <g id=\"text_4\">\n      <!-- 30 -->\n      <g transform=\"translate(224.761364 239.238437)scale(0.1 -0.1)\">\n       <defs>\n        <path d=\"M 40.578125 39.3125 \nQ 47.65625 37.796875 51.625 33 \nQ 55.609375 28.21875 55.609375 21.1875 \nQ 55.609375 10.40625 48.1875 4.484375 \nQ 40.765625 -1.421875 27.09375 -1.421875 \nQ 22.515625 -1.421875 17.65625 -0.515625 \nQ 12.796875 0.390625 7.625 2.203125 \nL 7.625 11.71875 \nQ 11.71875 9.328125 16.59375 8.109375 \nQ 21.484375 6.890625 26.8125 6.890625 \nQ 36.078125 6.890625 40.9375 10.546875 \nQ 45.796875 14.203125 45.796875 21.1875 \nQ 45.796875 27.640625 41.28125 31.265625 \nQ 36.765625 34.90625 28.71875 34.90625 \nL 20.21875 34.90625 \nL 20.21875 43.015625 \nL 29.109375 43.015625 \nQ 36.375 43.015625 40.234375 45.921875 \nQ 44.09375 48.828125 44.09375 54.296875 \nQ 44.09375 59.90625 40.109375 62.90625 \nQ 36.140625 65.921875 28.71875 65.921875 \nQ 24.65625 65.921875 20.015625 65.03125 \nQ 15.375 64.15625 9.8125 62.3125 \nL 9.8125 71.09375 \nQ 15.4375 72.65625 20.34375 73.4375 \nQ 25.25 74.21875 29.59375 74.21875 \nQ 40.828125 74.21875 47.359375 69.109375 \nQ 53.90625 64.015625 53.90625 55.328125 \nQ 53.90625 49.265625 50.4375 45.09375 \nQ 46.96875 40.921875 40.578125 39.3125 \nz\n\" id=\"DejaVuSans-51\"/>\n       </defs>\n       <use xlink:href=\"#DejaVuSans-51\"/>\n       <use x=\"63.623047\" xlink:href=\"#DejaVuSans-48\"/>\n      </g>\n     </g>\n    </g>\n    <g id=\"xtick_5\">\n     <g id=\"line2d_5\">\n      <g>\n       <use style=\"stroke:#000000;stroke-width:0.8;\" x=\"291.996591\" xlink:href=\"#mfb1f070a21\" y=\"224.64\"/>\n      </g>\n     </g>\n     <g id=\"text_5\">\n      <!-- 40 -->\n      <g transform=\"translate(285.634091 239.238437)scale(0.1 -0.1)\">\n       <defs>\n        <path d=\"M 37.796875 64.3125 \nL 12.890625 25.390625 \nL 37.796875 25.390625 \nz\nM 35.203125 72.90625 \nL 47.609375 72.90625 \nL 47.609375 25.390625 \nL 58.015625 25.390625 \nL 58.015625 17.1875 \nL 47.609375 17.1875 \nL 47.609375 0 \nL 37.796875 0 \nL 37.796875 17.1875 \nL 4.890625 17.1875 \nL 4.890625 26.703125 \nz\n\" id=\"DejaVuSans-52\"/>\n       </defs>\n       <use xlink:href=\"#DejaVuSans-52\"/>\n       <use x=\"63.623047\" xlink:href=\"#DejaVuSans-48\"/>\n      </g>\n     </g>\n    </g>\n    <g id=\"xtick_6\">\n     <g id=\"line2d_6\">\n      <g>\n       <use style=\"stroke:#000000;stroke-width:0.8;\" x=\"352.869318\" xlink:href=\"#mfb1f070a21\" y=\"224.64\"/>\n      </g>\n     </g>\n     <g id=\"text_6\">\n      <!-- 50 -->\n      <g transform=\"translate(346.506818 239.238437)scale(0.1 -0.1)\">\n       <defs>\n        <path d=\"M 10.796875 72.90625 \nL 49.515625 72.90625 \nL 49.515625 64.59375 \nL 19.828125 64.59375 \nL 19.828125 46.734375 \nQ 21.96875 47.46875 24.109375 47.828125 \nQ 26.265625 48.1875 28.421875 48.1875 \nQ 40.625 48.1875 47.75 41.5 \nQ 54.890625 34.8125 54.890625 23.390625 \nQ 54.890625 11.625 47.5625 5.09375 \nQ 40.234375 -1.421875 26.90625 -1.421875 \nQ 22.3125 -1.421875 17.546875 -0.640625 \nQ 12.796875 0.140625 7.71875 1.703125 \nL 7.71875 11.625 \nQ 12.109375 9.234375 16.796875 8.0625 \nQ 21.484375 6.890625 26.703125 6.890625 \nQ 35.15625 6.890625 40.078125 11.328125 \nQ 45.015625 15.765625 45.015625 23.390625 \nQ 45.015625 31 40.078125 35.4375 \nQ 35.15625 39.890625 26.703125 39.890625 \nQ 22.75 39.890625 18.8125 39.015625 \nQ 14.890625 38.140625 10.796875 36.28125 \nz\n\" id=\"DejaVuSans-53\"/>\n       </defs>\n       <use xlink:href=\"#DejaVuSans-53\"/>\n       <use x=\"63.623047\" xlink:href=\"#DejaVuSans-48\"/>\n      </g>\n     </g>\n    </g>\n   </g>\n   <g id=\"matplotlib.axis_2\">\n    <g id=\"ytick_1\">\n     <g id=\"line2d_7\">\n      <defs>\n       <path d=\"M 0 0 \nL -3.5 0 \n\" id=\"mfc1687626a\" style=\"stroke:#000000;stroke-width:0.8;\"/>\n      </defs>\n      <g>\n       <use style=\"stroke:#000000;stroke-width:0.8;\" x=\"33.2875\" xlink:href=\"#mfc1687626a\" y=\"215.260652\"/>\n      </g>\n     </g>\n     <g id=\"text_7\">\n      <!-- 0 -->\n      <g transform=\"translate(19.925 219.059871)scale(0.1 -0.1)\">\n       <use xlink:href=\"#DejaVuSans-48\"/>\n      </g>\n     </g>\n    </g>\n    <g id=\"ytick_2\">\n     <g id=\"line2d_8\">\n      <g>\n       <use style=\"stroke:#000000;stroke-width:0.8;\" x=\"33.2875\" xlink:href=\"#mfc1687626a\" y=\"171.038102\"/>\n      </g>\n     </g>\n     <g id=\"text_8\">\n      <!-- 50 -->\n      <g transform=\"translate(13.5625 174.83732)scale(0.1 -0.1)\">\n       <use xlink:href=\"#DejaVuSans-53\"/>\n       <use x=\"63.623047\" xlink:href=\"#DejaVuSans-48\"/>\n      </g>\n     </g>\n    </g>\n    <g id=\"ytick_3\">\n     <g id=\"line2d_9\">\n      <g>\n       <use style=\"stroke:#000000;stroke-width:0.8;\" x=\"33.2875\" xlink:href=\"#mfc1687626a\" y=\"126.815551\"/>\n      </g>\n     </g>\n     <g id=\"text_9\">\n      <!-- 100 -->\n      <g transform=\"translate(7.2 130.614769)scale(0.1 -0.1)\">\n       <use xlink:href=\"#DejaVuSans-49\"/>\n       <use x=\"63.623047\" xlink:href=\"#DejaVuSans-48\"/>\n       <use x=\"127.246094\" xlink:href=\"#DejaVuSans-48\"/>\n      </g>\n     </g>\n    </g>\n    <g id=\"ytick_4\">\n     <g id=\"line2d_10\">\n      <g>\n       <use style=\"stroke:#000000;stroke-width:0.8;\" x=\"33.2875\" xlink:href=\"#mfc1687626a\" y=\"82.593\"/>\n      </g>\n     </g>\n     <g id=\"text_10\">\n      <!-- 150 -->\n      <g transform=\"translate(7.2 86.392219)scale(0.1 -0.1)\">\n       <use xlink:href=\"#DejaVuSans-49\"/>\n       <use x=\"63.623047\" xlink:href=\"#DejaVuSans-53\"/>\n       <use x=\"127.246094\" xlink:href=\"#DejaVuSans-48\"/>\n      </g>\n     </g>\n    </g>\n    <g id=\"ytick_5\">\n     <g id=\"line2d_11\">\n      <g>\n       <use style=\"stroke:#000000;stroke-width:0.8;\" x=\"33.2875\" xlink:href=\"#mfc1687626a\" y=\"38.370449\"/>\n      </g>\n     </g>\n     <g id=\"text_11\">\n      <!-- 200 -->\n      <g transform=\"translate(7.2 42.169668)scale(0.1 -0.1)\">\n       <use xlink:href=\"#DejaVuSans-50\"/>\n       <use x=\"63.623047\" xlink:href=\"#DejaVuSans-48\"/>\n       <use x=\"127.246094\" xlink:href=\"#DejaVuSans-48\"/>\n      </g>\n     </g>\n    </g>\n   </g>\n   <g id=\"line2d_12\">\n    <path clip-path=\"url(#p6f31cb21a1)\" d=\"M 48.505682 31.700358 \nL 54.592955 46.625186 \nL 60.680227 17.083636 \nL 66.7675 70.486888 \nL 72.854773 83.325935 \nL 78.942045 134.299915 \nL 85.029318 186.17806 \nL 91.116591 210.184783 \nL 97.203864 213.053584 \nL 103.291136 213.132196 \nL 109.378409 213.348599 \nL 115.465682 213.519205 \nL 121.552955 213.639588 \nL 127.640227 213.767762 \nL 133.7275 213.870454 \nL 139.814773 213.978343 \nL 145.902045 214.073896 \nL 151.989318 214.200166 \nL 158.076591 214.320249 \nL 164.163864 214.444862 \nL 170.251136 214.514723 \nL 176.338409 214.569906 \nL 182.425682 214.621787 \nL 188.512955 214.641875 \nL 194.600227 214.661306 \nL 200.6875 214.682376 \nL 206.774773 214.689835 \nL 212.862045 214.702115 \nL 218.949318 214.705977 \nL 225.036591 214.713986 \nL 231.123864 214.721159 \nL 237.211136 214.723703 \nL 243.298409 214.728004 \nL 249.385682 214.733297 \nL 255.472955 214.733606 \nL 261.560227 214.736703 \nL 267.6475 214.738185 \nL 273.734773 214.737036 \nL 279.822045 214.738317 \nL 285.909318 214.746577 \nL 291.996591 214.747996 \nL 298.083864 214.747418 \nL 304.171136 214.745799 \nL 310.258409 214.74796 \nL 316.345682 214.753691 \nL 322.432955 214.752714 \nL 328.520227 214.755537 \nL 334.6075 214.754399 \nL 340.694773 214.755279 \nL 346.782045 214.755024 \nL 352.869318 214.756364 \n\" style=\"fill:none;stroke:#1f77b4;stroke-linecap:square;stroke-width:1.5;\"/>\n   </g>\n   <g id=\"line2d_13\">\n    <path clip-path=\"url(#p6f31cb21a1)\" d=\"M 48.505682 39.815239 \nL 54.592955 75.401113 \nL 60.680227 73.761823 \nL 66.7675 76.187883 \nL 72.854773 100.162948 \nL 78.942045 171.988374 \nL 85.029318 201.841741 \nL 91.116591 212.954357 \nL 97.203864 213.124539 \nL 103.291136 213.320849 \nL 109.378409 213.47823 \nL 115.465682 213.538944 \nL 121.552955 213.643528 \nL 127.640227 213.708655 \nL 133.7275 213.782009 \nL 139.814773 213.83132 \nL 145.902045 213.873735 \nL 151.989318 214.006959 \nL 158.076591 214.171717 \nL 164.163864 214.265626 \nL 170.251136 214.328691 \nL 176.338409 214.418923 \nL 182.425682 214.423567 \nL 188.512955 214.462813 \nL 194.600227 214.50701 \nL 200.6875 214.506324 \nL 206.774773 214.528508 \nL 212.862045 214.53917 \nL 218.949318 214.555107 \nL 225.036591 214.571392 \nL 231.123864 214.576499 \nL 237.211136 214.581646 \nL 243.298409 214.597803 \nL 249.385682 214.597036 \nL 255.472955 214.600033 \nL 261.560227 214.608775 \nL 267.6475 214.597468 \nL 273.734773 214.590622 \nL 279.822045 214.617958 \nL 285.909318 214.625102 \nL 291.996591 214.622894 \nL 298.083864 214.610669 \nL 304.171136 214.608274 \nL 310.258409 214.63196 \nL 316.345682 214.620274 \nL 322.432955 214.632266 \nL 328.520227 214.628161 \nL 334.6075 214.626616 \nL 340.694773 214.620288 \nL 346.782045 214.62418 \nL 352.869318 214.617861 \n\" style=\"fill:none;stroke:#ff7f0e;stroke-linecap:square;stroke-width:1.5;\"/>\n   </g>\n   <g id=\"patch_3\">\n    <path d=\"M 33.2875 224.64 \nL 33.2875 7.2 \n\" style=\"fill:none;stroke:#000000;stroke-linecap:square;stroke-linejoin:miter;stroke-width:0.8;\"/>\n   </g>\n   <g id=\"patch_4\">\n    <path d=\"M 368.0875 224.64 \nL 368.0875 7.2 \n\" style=\"fill:none;stroke:#000000;stroke-linecap:square;stroke-linejoin:miter;stroke-width:0.8;\"/>\n   </g>\n   <g id=\"patch_5\">\n    <path d=\"M 33.2875 224.64 \nL 368.0875 224.64 \n\" style=\"fill:none;stroke:#000000;stroke-linecap:square;stroke-linejoin:miter;stroke-width:0.8;\"/>\n   </g>\n   <g id=\"patch_6\">\n    <path d=\"M 33.2875 7.2 \nL 368.0875 7.2 \n\" style=\"fill:none;stroke:#000000;stroke-linecap:square;stroke-linejoin:miter;stroke-width:0.8;\"/>\n   </g>\n   <g id=\"legend_1\">\n    <g id=\"patch_7\">\n     <path d=\"M 305.8125 44.55625 \nL 361.0875 44.55625 \nQ 363.0875 44.55625 363.0875 42.55625 \nL 363.0875 14.2 \nQ 363.0875 12.2 361.0875 12.2 \nL 305.8125 12.2 \nQ 303.8125 12.2 303.8125 14.2 \nL 303.8125 42.55625 \nQ 303.8125 44.55625 305.8125 44.55625 \nz\n\" style=\"fill:#ffffff;opacity:0.8;stroke:#cccccc;stroke-linejoin:miter;\"/>\n    </g>\n    <g id=\"line2d_14\">\n     <path d=\"M 307.8125 20.298437 \nL 327.8125 20.298437 \n\" style=\"fill:none;stroke:#1f77b4;stroke-linecap:square;stroke-width:1.5;\"/>\n    </g>\n    <g id=\"line2d_15\"/>\n    <g id=\"text_12\">\n     <!-- train -->\n     <g transform=\"translate(335.8125 23.798437)scale(0.1 -0.1)\">\n      <defs>\n       <path d=\"M 18.3125 70.21875 \nL 18.3125 54.6875 \nL 36.8125 54.6875 \nL 36.8125 47.703125 \nL 18.3125 47.703125 \nL 18.3125 18.015625 \nQ 18.3125 11.328125 20.140625 9.421875 \nQ 21.96875 7.515625 27.59375 7.515625 \nL 36.8125 7.515625 \nL 36.8125 0 \nL 27.59375 0 \nQ 17.1875 0 13.234375 3.875 \nQ 9.28125 7.765625 9.28125 18.015625 \nL 9.28125 47.703125 \nL 2.6875 47.703125 \nL 2.6875 54.6875 \nL 9.28125 54.6875 \nL 9.28125 70.21875 \nz\n\" id=\"DejaVuSans-116\"/>\n       <path d=\"M 41.109375 46.296875 \nQ 39.59375 47.171875 37.8125 47.578125 \nQ 36.03125 48 33.890625 48 \nQ 26.265625 48 22.1875 43.046875 \nQ 18.109375 38.09375 18.109375 28.8125 \nL 18.109375 0 \nL 9.078125 0 \nL 9.078125 54.6875 \nL 18.109375 54.6875 \nL 18.109375 46.1875 \nQ 20.953125 51.171875 25.484375 53.578125 \nQ 30.03125 56 36.53125 56 \nQ 37.453125 56 38.578125 55.875 \nQ 39.703125 55.765625 41.0625 55.515625 \nz\n\" id=\"DejaVuSans-114\"/>\n       <path d=\"M 34.28125 27.484375 \nQ 23.390625 27.484375 19.1875 25 \nQ 14.984375 22.515625 14.984375 16.5 \nQ 14.984375 11.71875 18.140625 8.90625 \nQ 21.296875 6.109375 26.703125 6.109375 \nQ 34.1875 6.109375 38.703125 11.40625 \nQ 43.21875 16.703125 43.21875 25.484375 \nL 43.21875 27.484375 \nz\nM 52.203125 31.203125 \nL 52.203125 0 \nL 43.21875 0 \nL 43.21875 8.296875 \nQ 40.140625 3.328125 35.546875 0.953125 \nQ 30.953125 -1.421875 24.3125 -1.421875 \nQ 15.921875 -1.421875 10.953125 3.296875 \nQ 6 8.015625 6 15.921875 \nQ 6 25.140625 12.171875 29.828125 \nQ 18.359375 34.515625 30.609375 34.515625 \nL 43.21875 34.515625 \nL 43.21875 35.40625 \nQ 43.21875 41.609375 39.140625 45 \nQ 35.0625 48.390625 27.6875 48.390625 \nQ 23 48.390625 18.546875 47.265625 \nQ 14.109375 46.140625 10.015625 43.890625 \nL 10.015625 52.203125 \nQ 14.9375 54.109375 19.578125 55.046875 \nQ 24.21875 56 28.609375 56 \nQ 40.484375 56 46.34375 49.84375 \nQ 52.203125 43.703125 52.203125 31.203125 \nz\n\" id=\"DejaVuSans-97\"/>\n       <path d=\"M 9.421875 54.6875 \nL 18.40625 54.6875 \nL 18.40625 0 \nL 9.421875 0 \nz\nM 9.421875 75.984375 \nL 18.40625 75.984375 \nL 18.40625 64.59375 \nL 9.421875 64.59375 \nz\n\" id=\"DejaVuSans-105\"/>\n       <path d=\"M 54.890625 33.015625 \nL 54.890625 0 \nL 45.90625 0 \nL 45.90625 32.71875 \nQ 45.90625 40.484375 42.875 44.328125 \nQ 39.84375 48.1875 33.796875 48.1875 \nQ 26.515625 48.1875 22.3125 43.546875 \nQ 18.109375 38.921875 18.109375 30.90625 \nL 18.109375 0 \nL 9.078125 0 \nL 9.078125 54.6875 \nL 18.109375 54.6875 \nL 18.109375 46.1875 \nQ 21.34375 51.125 25.703125 53.5625 \nQ 30.078125 56 35.796875 56 \nQ 45.21875 56 50.046875 50.171875 \nQ 54.890625 44.34375 54.890625 33.015625 \nz\n\" id=\"DejaVuSans-110\"/>\n      </defs>\n      <use xlink:href=\"#DejaVuSans-116\"/>\n      <use x=\"39.208984\" xlink:href=\"#DejaVuSans-114\"/>\n      <use x=\"80.322266\" xlink:href=\"#DejaVuSans-97\"/>\n      <use x=\"141.601562\" xlink:href=\"#DejaVuSans-105\"/>\n      <use x=\"169.384766\" xlink:href=\"#DejaVuSans-110\"/>\n     </g>\n    </g>\n    <g id=\"line2d_16\">\n     <path d=\"M 307.8125 34.976562 \nL 327.8125 34.976562 \n\" style=\"fill:none;stroke:#ff7f0e;stroke-linecap:square;stroke-width:1.5;\"/>\n    </g>\n    <g id=\"line2d_17\"/>\n    <g id=\"text_13\">\n     <!-- test -->\n     <g transform=\"translate(335.8125 38.476562)scale(0.1 -0.1)\">\n      <defs>\n       <path d=\"M 56.203125 29.59375 \nL 56.203125 25.203125 \nL 14.890625 25.203125 \nQ 15.484375 15.921875 20.484375 11.0625 \nQ 25.484375 6.203125 34.421875 6.203125 \nQ 39.59375 6.203125 44.453125 7.46875 \nQ 49.3125 8.734375 54.109375 11.28125 \nL 54.109375 2.78125 \nQ 49.265625 0.734375 44.1875 -0.34375 \nQ 39.109375 -1.421875 33.890625 -1.421875 \nQ 20.796875 -1.421875 13.15625 6.1875 \nQ 5.515625 13.8125 5.515625 26.8125 \nQ 5.515625 40.234375 12.765625 48.109375 \nQ 20.015625 56 32.328125 56 \nQ 43.359375 56 49.78125 48.890625 \nQ 56.203125 41.796875 56.203125 29.59375 \nz\nM 47.21875 32.234375 \nQ 47.125 39.59375 43.09375 43.984375 \nQ 39.0625 48.390625 32.421875 48.390625 \nQ 24.90625 48.390625 20.390625 44.140625 \nQ 15.875 39.890625 15.1875 32.171875 \nz\n\" id=\"DejaVuSans-101\"/>\n       <path d=\"M 44.28125 53.078125 \nL 44.28125 44.578125 \nQ 40.484375 46.53125 36.375 47.5 \nQ 32.28125 48.484375 27.875 48.484375 \nQ 21.1875 48.484375 17.84375 46.4375 \nQ 14.5 44.390625 14.5 40.28125 \nQ 14.5 37.15625 16.890625 35.375 \nQ 19.28125 33.59375 26.515625 31.984375 \nL 29.59375 31.296875 \nQ 39.15625 29.25 43.1875 25.515625 \nQ 47.21875 21.78125 47.21875 15.09375 \nQ 47.21875 7.46875 41.1875 3.015625 \nQ 35.15625 -1.421875 24.609375 -1.421875 \nQ 20.21875 -1.421875 15.453125 -0.5625 \nQ 10.6875 0.296875 5.421875 2 \nL 5.421875 11.28125 \nQ 10.40625 8.6875 15.234375 7.390625 \nQ 20.0625 6.109375 24.8125 6.109375 \nQ 31.15625 6.109375 34.5625 8.28125 \nQ 37.984375 10.453125 37.984375 14.40625 \nQ 37.984375 18.0625 35.515625 20.015625 \nQ 33.0625 21.96875 24.703125 23.78125 \nL 21.578125 24.515625 \nQ 13.234375 26.265625 9.515625 29.90625 \nQ 5.8125 33.546875 5.8125 39.890625 \nQ 5.8125 47.609375 11.28125 51.796875 \nQ 16.75 56 26.8125 56 \nQ 31.78125 56 36.171875 55.265625 \nQ 40.578125 54.546875 44.28125 53.078125 \nz\n\" id=\"DejaVuSans-115\"/>\n      </defs>\n      <use xlink:href=\"#DejaVuSans-116\"/>\n      <use x=\"39.208984\" xlink:href=\"#DejaVuSans-101\"/>\n      <use x=\"100.732422\" xlink:href=\"#DejaVuSans-115\"/>\n      <use x=\"152.832031\" xlink:href=\"#DejaVuSans-116\"/>\n     </g>\n    </g>\n   </g>\n  </g>\n </g>\n <defs>\n  <clipPath id=\"p6f31cb21a1\">\n   <rect height=\"217.44\" width=\"334.8\" x=\"33.2875\" y=\"7.2\"/>\n  </clipPath>\n </defs>\n</svg>\n",
      "image/png": "[encoded data removed]"
     },
     "metadata": {
      "needs_background": "light"
     }
    }
   ],
   "source": [
    "plt.plot(history.history['loss'], label='train')\n",
    "plt.plot(history.history['val_loss'], label='test')\n",
    "plt.legend()\n",
    "plt.show()"
   ]
  },
  {
   "cell_type": "code",
   "execution_count": null,
   "metadata": {},
   "outputs": [],
   "source": []
  }
 ]
}