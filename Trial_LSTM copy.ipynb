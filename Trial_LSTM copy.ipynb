{
 "metadata": {
  "language_info": {
   "codemirror_mode": {
    "name": "ipython",
    "version": 3
   },
   "file_extension": ".py",
   "mimetype": "text/x-python",
   "name": "python",
   "nbconvert_exporter": "python",
   "pygments_lexer": "ipython3",
   "version": "3.7.7-final"
  },
  "orig_nbformat": 2,
  "kernelspec": {
   "name": "Python 3.7.7 64-bit ('tensor': conda)",
   "display_name": "Python 3.7.7 64-bit ('tensor': conda)",
   "metadata": {
    "interpreter": {
     "hash": "0a47e3dc2fd5d1f5928b02d8131cc5126167a2fe7c24f1040192d09a03c4ba52"
    }
   }
  }
 },
 "nbformat": 4,
 "nbformat_minor": 2,
 "cells": [
  {
   "source": [
    "# Import data"
   ],
   "cell_type": "markdown",
   "metadata": {}
  },
  {
   "cell_type": "code",
   "execution_count": 1,
   "metadata": {},
   "outputs": [],
   "source": [
    "import pandas as pd\n",
    "import numpy as np\n",
    "import matplotlib.pyplot as plt\n",
    "%matplotlib inline\n",
    "\n",
    "import seaborn as sns"
   ]
  },
  {
   "cell_type": "code",
   "execution_count": 2,
   "metadata": {},
   "outputs": [
    {
     "output_type": "execute_result",
     "data": {
      "text/plain": [
       "                     BKK001  BKK002  BKK003  BKK004  BKK005  BKK006  BKK007  \\\n",
       "date_time                                                                     \n",
       "2012-01-01 00:00:00     NaN     NaN     NaN     NaN     NaN     NaN     NaN   \n",
       "2012-01-01 00:10:00     NaN     NaN     NaN     NaN     NaN     NaN     NaN   \n",
       "2012-01-01 00:20:00     NaN     NaN     NaN     NaN     NaN     NaN     NaN   \n",
       "2012-01-01 00:30:00     NaN     NaN     NaN     NaN     NaN     NaN     NaN   \n",
       "2012-01-01 00:40:00     NaN     NaN     NaN     NaN     NaN     NaN     NaN   \n",
       "\n",
       "                     BKK008  BKK009  BKK012  ...  YOM003  YOM004  YOM005  \\\n",
       "date_time                                    ...                           \n",
       "2012-01-01 00:00:00     NaN     NaN     NaN  ...     NaN     NaN     NaN   \n",
       "2012-01-01 00:10:00     NaN     NaN     NaN  ...     NaN     NaN     NaN   \n",
       "2012-01-01 00:20:00     NaN     NaN     NaN  ...     NaN     NaN     NaN   \n",
       "2012-01-01 00:30:00     NaN     NaN     NaN  ...     NaN     NaN     NaN   \n",
       "2012-01-01 00:40:00     NaN     NaN     NaN  ...     NaN     NaN     NaN   \n",
       "\n",
       "                     YOM006  YOM007  YOM008  YOM009  YOM010  YOM011  YOM012  \n",
       "date_time                                                                    \n",
       "2012-01-01 00:00:00     NaN     NaN     NaN     NaN     NaN     NaN     NaN  \n",
       "2012-01-01 00:10:00     NaN     NaN     NaN     NaN     NaN     NaN     NaN  \n",
       "2012-01-01 00:20:00     NaN     NaN     NaN     NaN     NaN     NaN     NaN  \n",
       "2012-01-01 00:30:00     NaN     NaN     NaN     NaN     NaN     NaN     NaN  \n",
       "2012-01-01 00:40:00     NaN     NaN     NaN     NaN     NaN     NaN     NaN  \n",
       "\n",
       "[5 rows x 316 columns]"
      ],
      "text/html": "<div>\n<style scoped>\n    .dataframe tbody tr th:only-of-type {\n        vertical-align: middle;\n    }\n\n    .dataframe tbody tr th {\n        vertical-align: top;\n    }\n\n    .dataframe thead th {\n        text-align: right;\n    }\n</style>\n<table border=\"1\" class=\"dataframe\">\n  <thead>\n    <tr style=\"text-align: right;\">\n      <th></th>\n      <th>BKK001</th>\n      <th>BKK002</th>\n      <th>BKK003</th>\n      <th>BKK004</th>\n      <th>BKK005</th>\n      <th>BKK006</th>\n      <th>BKK007</th>\n      <th>BKK008</th>\n      <th>BKK009</th>\n      <th>BKK012</th>\n      <th>...</th>\n      <th>YOM003</th>\n      <th>YOM004</th>\n      <th>YOM005</th>\n      <th>YOM006</th>\n      <th>YOM007</th>\n      <th>YOM008</th>\n      <th>YOM009</th>\n      <th>YOM010</th>\n      <th>YOM011</th>\n      <th>YOM012</th>\n    </tr>\n    <tr>\n      <th>date_time</th>\n      <th></th>\n      <th></th>\n      <th></th>\n      <th></th>\n      <th></th>\n      <th></th>\n      <th></th>\n      <th></th>\n      <th></th>\n      <th></th>\n      <th></th>\n      <th></th>\n      <th></th>\n      <th></th>\n      <th></th>\n      <th></th>\n      <th></th>\n      <th></th>\n      <th></th>\n      <th></th>\n      <th></th>\n    </tr>\n  </thead>\n  <tbody>\n    <tr>\n      <th>2012-01-01 00:00:00</th>\n      <td>NaN</td>\n      <td>NaN</td>\n      <td>NaN</td>\n      <td>NaN</td>\n      <td>NaN</td>\n      <td>NaN</td>\n      <td>NaN</td>\n      <td>NaN</td>\n      <td>NaN</td>\n      <td>NaN</td>\n      <td>...</td>\n      <td>NaN</td>\n      <td>NaN</td>\n      <td>NaN</td>\n      <td>NaN</td>\n      <td>NaN</td>\n      <td>NaN</td>\n      <td>NaN</td>\n      <td>NaN</td>\n      <td>NaN</td>\n      <td>NaN</td>\n    </tr>\n    <tr>\n      <th>2012-01-01 00:10:00</th>\n      <td>NaN</td>\n      <td>NaN</td>\n      <td>NaN</td>\n      <td>NaN</td>\n      <td>NaN</td>\n      <td>NaN</td>\n      <td>NaN</td>\n      <td>NaN</td>\n      <td>NaN</td>\n      <td>NaN</td>\n      <td>...</td>\n      <td>NaN</td>\n      <td>NaN</td>\n      <td>NaN</td>\n      <td>NaN</td>\n      <td>NaN</td>\n      <td>NaN</td>\n      <td>NaN</td>\n      <td>NaN</td>\n      <td>NaN</td>\n      <td>NaN</td>\n    </tr>\n    <tr>\n      <th>2012-01-01 00:20:00</th>\n      <td>NaN</td>\n      <td>NaN</td>\n      <td>NaN</td>\n      <td>NaN</td>\n      <td>NaN</td>\n      <td>NaN</td>\n      <td>NaN</td>\n      <td>NaN</td>\n      <td>NaN</td>\n      <td>NaN</td>\n      <td>...</td>\n      <td>NaN</td>\n      <td>NaN</td>\n      <td>NaN</td>\n      <td>NaN</td>\n      <td>NaN</td>\n      <td>NaN</td>\n      <td>NaN</td>\n      <td>NaN</td>\n      <td>NaN</td>\n      <td>NaN</td>\n    </tr>\n    <tr>\n      <th>2012-01-01 00:30:00</th>\n      <td>NaN</td>\n      <td>NaN</td>\n      <td>NaN</td>\n      <td>NaN</td>\n      <td>NaN</td>\n      <td>NaN</td>\n      <td>NaN</td>\n      <td>NaN</td>\n      <td>NaN</td>\n      <td>NaN</td>\n      <td>...</td>\n      <td>NaN</td>\n      <td>NaN</td>\n      <td>NaN</td>\n      <td>NaN</td>\n      <td>NaN</td>\n      <td>NaN</td>\n      <td>NaN</td>\n      <td>NaN</td>\n      <td>NaN</td>\n      <td>NaN</td>\n    </tr>\n    <tr>\n      <th>2012-01-01 00:40:00</th>\n      <td>NaN</td>\n      <td>NaN</td>\n      <td>NaN</td>\n      <td>NaN</td>\n      <td>NaN</td>\n      <td>NaN</td>\n      <td>NaN</td>\n      <td>NaN</td>\n      <td>NaN</td>\n      <td>NaN</td>\n      <td>...</td>\n      <td>NaN</td>\n      <td>NaN</td>\n      <td>NaN</td>\n      <td>NaN</td>\n      <td>NaN</td>\n      <td>NaN</td>\n      <td>NaN</td>\n      <td>NaN</td>\n      <td>NaN</td>\n      <td>NaN</td>\n    </tr>\n  </tbody>\n</table>\n<p>5 rows × 316 columns</p>\n</div>"
     },
     "metadata": {},
     "execution_count": 2
    }
   ],
   "source": [
    "df = pd.read_csv('/home/song/Public/Song/Work/Thesis/data/water.csv',index_col=['date_time'],parse_dates=['date_time'])"
   ]
  },
  {
   "cell_type": "code",
   "execution_count": 5,
   "metadata": {},
   "outputs": [],
   "source": [
    "# Select stations\n",
    "\n",
    "filepath = (\"../hii-telemetering-batch-data-master/\")\n",
    "water_st = pd.read_csv(filepath+\"station_metadata-water-level.csv\")\n",
    "water_st = water_st.loc[(water_st['basin']==\"แม่น้ำปิง\")|(water_st['basin']==\"แม่น้ำเจ้าพระยา\")|(water_st['basin']==\"แม่น้ำน่าน\")]\n",
    "\n",
    "def intersection(lst1, lst2): \n",
    "    return list(set(lst1) & set(lst2)) \n",
    "col = [i for i in water_st['code']]\n",
    "#เช็คว่า ชื่อสถานีมีอยู่ในDBจริงก่อนใช้\n",
    "col = intersection(col,df.columns)"
   ]
  },
  {
   "cell_type": "code",
   "execution_count": 6,
   "metadata": {},
   "outputs": [
    {
     "output_type": "execute_result",
     "data": {
      "text/plain": [
       "            BKK002  CPY001  LBI002  NAN011  LBI001  VLGE12  NAN008  PIN006  \\\n",
       "date_time                                                                    \n",
       "2012-01-01     NaN     NaN     NaN     NaN     NaN     NaN     NaN     NaN   \n",
       "2012-01-02     NaN     NaN     NaN     NaN     NaN     NaN     NaN     NaN   \n",
       "2012-01-03     NaN     NaN     NaN     NaN     NaN     NaN     NaN     NaN   \n",
       "2012-01-04     NaN     NaN     NaN     NaN     NaN     NaN     NaN     NaN   \n",
       "2012-01-05     NaN     NaN     NaN     NaN     NaN     NaN     NaN     NaN   \n",
       "\n",
       "            BKK007  NAN003  ...  CPY014  HDA005  NAN012  CPY008  TBW014  \\\n",
       "date_time                   ...                                           \n",
       "2012-01-01     NaN     NaN  ...     NaN     NaN     NaN     NaN     NaN   \n",
       "2012-01-02     NaN     NaN  ...     NaN     NaN     NaN     NaN     NaN   \n",
       "2012-01-03     NaN     NaN  ...     NaN     NaN     NaN     NaN     NaN   \n",
       "2012-01-04     NaN     NaN  ...     NaN     NaN     NaN     NaN     NaN   \n",
       "2012-01-05     NaN     NaN  ...     NaN     NaN     NaN     NaN     NaN   \n",
       "\n",
       "            PIN002  CHM006  TB0006  PIN001  CHM001  \n",
       "date_time                                           \n",
       "2012-01-01     NaN     NaN     NaN     NaN     NaN  \n",
       "2012-01-02     NaN     NaN     NaN     NaN     NaN  \n",
       "2012-01-03     NaN     NaN     NaN     NaN     NaN  \n",
       "2012-01-04     NaN     NaN     NaN     NaN     NaN  \n",
       "2012-01-05     NaN     NaN     NaN     NaN     NaN  \n",
       "\n",
       "[5 rows x 72 columns]"
      ],
      "text/html": "<div>\n<style scoped>\n    .dataframe tbody tr th:only-of-type {\n        vertical-align: middle;\n    }\n\n    .dataframe tbody tr th {\n        vertical-align: top;\n    }\n\n    .dataframe thead th {\n        text-align: right;\n    }\n</style>\n<table border=\"1\" class=\"dataframe\">\n  <thead>\n    <tr style=\"text-align: right;\">\n      <th></th>\n      <th>BKK002</th>\n      <th>CPY001</th>\n      <th>LBI002</th>\n      <th>NAN011</th>\n      <th>LBI001</th>\n      <th>VLGE12</th>\n      <th>NAN008</th>\n      <th>PIN006</th>\n      <th>BKK007</th>\n      <th>NAN003</th>\n      <th>...</th>\n      <th>CPY014</th>\n      <th>HDA005</th>\n      <th>NAN012</th>\n      <th>CPY008</th>\n      <th>TBW014</th>\n      <th>PIN002</th>\n      <th>CHM006</th>\n      <th>TB0006</th>\n      <th>PIN001</th>\n      <th>CHM001</th>\n    </tr>\n    <tr>\n      <th>date_time</th>\n      <th></th>\n      <th></th>\n      <th></th>\n      <th></th>\n      <th></th>\n      <th></th>\n      <th></th>\n      <th></th>\n      <th></th>\n      <th></th>\n      <th></th>\n      <th></th>\n      <th></th>\n      <th></th>\n      <th></th>\n      <th></th>\n      <th></th>\n      <th></th>\n      <th></th>\n      <th></th>\n      <th></th>\n    </tr>\n  </thead>\n  <tbody>\n    <tr>\n      <th>2012-01-01</th>\n      <td>NaN</td>\n      <td>NaN</td>\n      <td>NaN</td>\n      <td>NaN</td>\n      <td>NaN</td>\n      <td>NaN</td>\n      <td>NaN</td>\n      <td>NaN</td>\n      <td>NaN</td>\n      <td>NaN</td>\n      <td>...</td>\n      <td>NaN</td>\n      <td>NaN</td>\n      <td>NaN</td>\n      <td>NaN</td>\n      <td>NaN</td>\n      <td>NaN</td>\n      <td>NaN</td>\n      <td>NaN</td>\n      <td>NaN</td>\n      <td>NaN</td>\n    </tr>\n    <tr>\n      <th>2012-01-02</th>\n      <td>NaN</td>\n      <td>NaN</td>\n      <td>NaN</td>\n      <td>NaN</td>\n      <td>NaN</td>\n      <td>NaN</td>\n      <td>NaN</td>\n      <td>NaN</td>\n      <td>NaN</td>\n      <td>NaN</td>\n      <td>...</td>\n      <td>NaN</td>\n      <td>NaN</td>\n      <td>NaN</td>\n      <td>NaN</td>\n      <td>NaN</td>\n      <td>NaN</td>\n      <td>NaN</td>\n      <td>NaN</td>\n      <td>NaN</td>\n      <td>NaN</td>\n    </tr>\n    <tr>\n      <th>2012-01-03</th>\n      <td>NaN</td>\n      <td>NaN</td>\n      <td>NaN</td>\n      <td>NaN</td>\n      <td>NaN</td>\n      <td>NaN</td>\n      <td>NaN</td>\n      <td>NaN</td>\n      <td>NaN</td>\n      <td>NaN</td>\n      <td>...</td>\n      <td>NaN</td>\n      <td>NaN</td>\n      <td>NaN</td>\n      <td>NaN</td>\n      <td>NaN</td>\n      <td>NaN</td>\n      <td>NaN</td>\n      <td>NaN</td>\n      <td>NaN</td>\n      <td>NaN</td>\n    </tr>\n    <tr>\n      <th>2012-01-04</th>\n      <td>NaN</td>\n      <td>NaN</td>\n      <td>NaN</td>\n      <td>NaN</td>\n      <td>NaN</td>\n      <td>NaN</td>\n      <td>NaN</td>\n      <td>NaN</td>\n      <td>NaN</td>\n      <td>NaN</td>\n      <td>...</td>\n      <td>NaN</td>\n      <td>NaN</td>\n      <td>NaN</td>\n      <td>NaN</td>\n      <td>NaN</td>\n      <td>NaN</td>\n      <td>NaN</td>\n      <td>NaN</td>\n      <td>NaN</td>\n      <td>NaN</td>\n    </tr>\n    <tr>\n      <th>2012-01-05</th>\n      <td>NaN</td>\n      <td>NaN</td>\n      <td>NaN</td>\n      <td>NaN</td>\n      <td>NaN</td>\n      <td>NaN</td>\n      <td>NaN</td>\n      <td>NaN</td>\n      <td>NaN</td>\n      <td>NaN</td>\n      <td>...</td>\n      <td>NaN</td>\n      <td>NaN</td>\n      <td>NaN</td>\n      <td>NaN</td>\n      <td>NaN</td>\n      <td>NaN</td>\n      <td>NaN</td>\n      <td>NaN</td>\n      <td>NaN</td>\n      <td>NaN</td>\n    </tr>\n  </tbody>\n</table>\n<p>5 rows × 72 columns</p>\n</div>"
     },
     "metadata": {},
     "execution_count": 6
    }
   ],
   "source": [
    "df = df[col]\n",
    "df = df.resample('d').mean()\n",
    "df.head()"
   ]
  },
  {
   "cell_type": "code",
   "execution_count": 14,
   "metadata": {},
   "outputs": [
    {
     "output_type": "stream",
     "name": "stdout",
     "text": [
      "(609, 70)\n"
     ]
    },
    {
     "output_type": "execute_result",
     "data": {
      "text/plain": [
       "              LBI002    NAN011    LBI001     VLGE12     NAN008     PIN006  \\\n",
       "date_time                                                                   \n",
       "2013-01-01  1.517972  1.517972  0.924167  33.686783  19.981399  19.981399   \n",
       "2013-01-02  1.497083  1.497083  0.797500  33.538531  20.007532  20.007532   \n",
       "2013-01-03  1.544583  1.544583  0.771528  33.499510  20.144236  20.144236   \n",
       "2013-01-04  1.549722  1.549722  0.681736  33.500839  20.090625  20.090625   \n",
       "2013-01-05  1.349790  1.349790  0.689375  33.471888  20.078681  20.078681   \n",
       "\n",
       "              BKK007      NAN003    CPY006    BKK005  ...    CPY014    HDA005  \\\n",
       "date_time                                             ...                       \n",
       "2013-01-01  0.773264  189.849394  3.484545  0.362378  ...  0.829301  0.829301   \n",
       "2013-01-02  0.666181  189.844268  3.482708  0.375944  ...  0.692292  0.692292   \n",
       "2013-01-03  0.612222  189.841888  3.471111  0.348951  ...  0.636667  0.636667   \n",
       "2013-01-04  0.535625  189.839441  3.445625  0.316014  ...  0.565833  0.565833   \n",
       "2013-01-05  0.527361  189.842727  3.443611  0.314196  ...  0.573889  0.573889   \n",
       "\n",
       "              NAN012    CPY008    TBW014      PIN002      CHM006      TB0006  \\\n",
       "date_time                                                                      \n",
       "2013-01-01  0.829301  0.676042  0.676042  100.316736  100.316736  100.316736   \n",
       "2013-01-02  0.692292  0.569097  0.569097  100.191978  100.191978  100.191978   \n",
       "2013-01-03  0.636667  0.549653  0.549653  100.487813  100.487813  100.487813   \n",
       "2013-01-04  0.565833  0.455833  0.455833  100.500903  100.500903  100.500903   \n",
       "2013-01-05  0.573889  0.441181  0.441181  100.494444  100.494444  100.494444   \n",
       "\n",
       "                PIN001      CHM001  \n",
       "date_time                           \n",
       "2013-01-01  119.359161  314.991888  \n",
       "2013-01-02  119.383333  315.007361  \n",
       "2013-01-03  119.499650  315.000000  \n",
       "2013-01-04  119.406434  314.968611  \n",
       "2013-01-05  119.403287  314.933819  \n",
       "\n",
       "[5 rows x 70 columns]"
      ],
      "text/html": "<div>\n<style scoped>\n    .dataframe tbody tr th:only-of-type {\n        vertical-align: middle;\n    }\n\n    .dataframe tbody tr th {\n        vertical-align: top;\n    }\n\n    .dataframe thead th {\n        text-align: right;\n    }\n</style>\n<table border=\"1\" class=\"dataframe\">\n  <thead>\n    <tr style=\"text-align: right;\">\n      <th></th>\n      <th>LBI002</th>\n      <th>NAN011</th>\n      <th>LBI001</th>\n      <th>VLGE12</th>\n      <th>NAN008</th>\n      <th>PIN006</th>\n      <th>BKK007</th>\n      <th>NAN003</th>\n      <th>CPY006</th>\n      <th>BKK005</th>\n      <th>...</th>\n      <th>CPY014</th>\n      <th>HDA005</th>\n      <th>NAN012</th>\n      <th>CPY008</th>\n      <th>TBW014</th>\n      <th>PIN002</th>\n      <th>CHM006</th>\n      <th>TB0006</th>\n      <th>PIN001</th>\n      <th>CHM001</th>\n    </tr>\n    <tr>\n      <th>date_time</th>\n      <th></th>\n      <th></th>\n      <th></th>\n      <th></th>\n      <th></th>\n      <th></th>\n      <th></th>\n      <th></th>\n      <th></th>\n      <th></th>\n      <th></th>\n      <th></th>\n      <th></th>\n      <th></th>\n      <th></th>\n      <th></th>\n      <th></th>\n      <th></th>\n      <th></th>\n      <th></th>\n      <th></th>\n    </tr>\n  </thead>\n  <tbody>\n    <tr>\n      <th>2013-01-01</th>\n      <td>1.517972</td>\n      <td>1.517972</td>\n      <td>0.924167</td>\n      <td>33.686783</td>\n      <td>19.981399</td>\n      <td>19.981399</td>\n      <td>0.773264</td>\n      <td>189.849394</td>\n      <td>3.484545</td>\n      <td>0.362378</td>\n      <td>...</td>\n      <td>0.829301</td>\n      <td>0.829301</td>\n      <td>0.829301</td>\n      <td>0.676042</td>\n      <td>0.676042</td>\n      <td>100.316736</td>\n      <td>100.316736</td>\n      <td>100.316736</td>\n      <td>119.359161</td>\n      <td>314.991888</td>\n    </tr>\n    <tr>\n      <th>2013-01-02</th>\n      <td>1.497083</td>\n      <td>1.497083</td>\n      <td>0.797500</td>\n      <td>33.538531</td>\n      <td>20.007532</td>\n      <td>20.007532</td>\n      <td>0.666181</td>\n      <td>189.844268</td>\n      <td>3.482708</td>\n      <td>0.375944</td>\n      <td>...</td>\n      <td>0.692292</td>\n      <td>0.692292</td>\n      <td>0.692292</td>\n      <td>0.569097</td>\n      <td>0.569097</td>\n      <td>100.191978</td>\n      <td>100.191978</td>\n      <td>100.191978</td>\n      <td>119.383333</td>\n      <td>315.007361</td>\n    </tr>\n    <tr>\n      <th>2013-01-03</th>\n      <td>1.544583</td>\n      <td>1.544583</td>\n      <td>0.771528</td>\n      <td>33.499510</td>\n      <td>20.144236</td>\n      <td>20.144236</td>\n      <td>0.612222</td>\n      <td>189.841888</td>\n      <td>3.471111</td>\n      <td>0.348951</td>\n      <td>...</td>\n      <td>0.636667</td>\n      <td>0.636667</td>\n      <td>0.636667</td>\n      <td>0.549653</td>\n      <td>0.549653</td>\n      <td>100.487813</td>\n      <td>100.487813</td>\n      <td>100.487813</td>\n      <td>119.499650</td>\n      <td>315.000000</td>\n    </tr>\n    <tr>\n      <th>2013-01-04</th>\n      <td>1.549722</td>\n      <td>1.549722</td>\n      <td>0.681736</td>\n      <td>33.500839</td>\n      <td>20.090625</td>\n      <td>20.090625</td>\n      <td>0.535625</td>\n      <td>189.839441</td>\n      <td>3.445625</td>\n      <td>0.316014</td>\n      <td>...</td>\n      <td>0.565833</td>\n      <td>0.565833</td>\n      <td>0.565833</td>\n      <td>0.455833</td>\n      <td>0.455833</td>\n      <td>100.500903</td>\n      <td>100.500903</td>\n      <td>100.500903</td>\n      <td>119.406434</td>\n      <td>314.968611</td>\n    </tr>\n    <tr>\n      <th>2013-01-05</th>\n      <td>1.349790</td>\n      <td>1.349790</td>\n      <td>0.689375</td>\n      <td>33.471888</td>\n      <td>20.078681</td>\n      <td>20.078681</td>\n      <td>0.527361</td>\n      <td>189.842727</td>\n      <td>3.443611</td>\n      <td>0.314196</td>\n      <td>...</td>\n      <td>0.573889</td>\n      <td>0.573889</td>\n      <td>0.573889</td>\n      <td>0.441181</td>\n      <td>0.441181</td>\n      <td>100.494444</td>\n      <td>100.494444</td>\n      <td>100.494444</td>\n      <td>119.403287</td>\n      <td>314.933819</td>\n    </tr>\n  </tbody>\n</table>\n<p>5 rows × 70 columns</p>\n</div>"
     },
     "metadata": {},
     "execution_count": 14
    }
   ],
   "source": [
    "df = df[\"2013-01-01\":\"2014-09-01\"].interpolate(method='pad', limit=10) # selected period, interporlation missing value\n",
    "df.dropna(axis=1,inplace=True) # drop na stations \n",
    "print(df.shape)\n",
    "df.head()\n"
   ]
  },
  {
   "source": [
    "# LSTM"
   ],
   "cell_type": "markdown",
   "metadata": {}
  },
  {
   "cell_type": "code",
   "execution_count": 15,
   "metadata": {},
   "outputs": [],
   "source": [
    "import tensorflow as tf\n",
    "from tensorflow.keras.models import Sequential\n",
    "from tensorflow.keras.layers import Dense, Dropout, LSTM\n",
    "\n",
    "from sklearn.preprocessing import MinMaxScaler"
   ]
  },
  {
   "cell_type": "code",
   "execution_count": 17,
   "metadata": {},
   "outputs": [
    {
     "output_type": "stream",
     "name": "stdout",
     "text": [
      "********RAIN_BEFORE********\nMin:  LBI002      0.462246\nNAN011      1.217917\nLBI001      0.010000\nVLGE12     32.592098\nNAN008     18.880000\nPIN006     18.880000\nBKK007      0.036782\nNAN003      0.227708\nCPY006      3.079097\nBKK005      0.002517\nNAN009      0.186597\nCPY016      0.242378\nBKK003      0.257407\nTB0001      0.257407\nBKK018      0.371111\nCPY012      0.159559\nCPY013     -0.422857\nCPY009     -0.013059\nNAN004      0.068252\nBKK021      0.756181\nTHA001     13.625000\nPIN003     13.835903\nDIV005     13.835903\nNAN010     82.449021\nCHM005     82.505490\nCPY002     12.752500\nPIN004     39.427986\nNAN014     39.815347\nGLF001      0.517281\nBKK019      0.618819\n             ...    \nBKK001     -0.379306\nTB0004     -0.379306\nBKK004     -0.379306\nCPY010      0.070000\nNAN007      0.365175\nKWN002      0.514722\nCPY011      0.180875\nBKK020     -0.331189\nTHA002     -0.305556\nNAN006      0.099583\nHDA004      0.099583\nNAN005    135.050417\nCPY017     -0.009923\nBKK013      0.994444\nCHM002      1.545278\nNAN013     40.092708\nCPY005      4.600625\nCPY003      4.735176\nNAN001      5.087500\nDIV003     13.686875\nCPY014     -0.077500\nHDA005     -0.077500\nNAN012      0.364306\nCPY008     -0.199048\nTBW014     -0.199048\nPIN002     -0.199048\nCHM006    100.054167\nTB0006    100.054167\nPIN001    118.618000\nCHM001    314.880278\nLength: 70, dtype: float64\nMax:  LBI002     18.740000\nNAN011     54.015315\nLBI001     52.857746\nVLGE12     37.706197\nNAN008     37.026087\nPIN006     73.537778\nBKK007     72.320244\nNAN003    195.837552\nCPY006    191.921608\nBKK005      0.598042\nNAN009    185.678099\nCPY016      2.975524\nBKK003      1.796597\nTB0001    232.225234\nBKK018      2.219790\nCPY012      2.219790\nCPY013      2.567292\nCPY009      6.004097\nNAN004     49.663750\nBKK021     49.663750\nTHA001     16.685903\nPIN003     82.977622\nDIV005     82.977622\nNAN010    157.479930\nCHM005    332.367431\nCPY002    331.571958\nPIN004     42.822292\nNAN014     51.442308\nGLF001     41.240486\nBKK019     41.236875\n             ...    \nBKK001      1.174236\nTB0004      4.489550\nBKK004      4.489550\nCPY010      6.194792\nNAN007     31.899375\nKWN002     44.968701\nCPY011     42.909833\nBKK020      9.565694\nTHA002     13.146667\nNAN006     34.453472\nHDA004     34.453472\nNAN005    137.523264\nCPY017    135.368889\nBKK013    135.323287\nCHM002    296.010417\nNAN013    292.657762\nCPY005     48.852361\nCPY003     16.245069\nNAN001    223.367917\nDIV003    223.367917\nCPY014     48.133732\nHDA005     48.133732\nNAN012     39.940000\nCPY008     39.940000\nTBW014     39.940000\nPIN002    100.729236\nCHM006    273.309510\nTB0006    273.309510\nPIN001    272.207182\nCHM001    317.592222\nLength: 70, dtype: float64\n********RAIN_AFTER********\nMin:  0.0\nMax:  1.0000000000000004\n"
     ]
    }
   ],
   "source": [
    "\n",
    "print(\"********RAIN_BEFORE********\")\n",
    "print(\"Min: \", np.min(df))\n",
    "print(\"Max: \", np.max(df))\n",
    "print(\"********RAIN_AFTER********\")\n",
    "scaler = MinMaxScaler()\n",
    "scaler_df = scaler.fit_transform(df)\n",
    "print(\"Min: \", np.min(scaler_df))\n",
    "print(\"Max: \", np.max(scaler_df))"
   ]
  },
  {
   "cell_type": "code",
   "execution_count": 24,
   "metadata": {},
   "outputs": [],
   "source": [
    "timelag = 1\n",
    "y = df['CPY014'].shift(-timelag)"
   ]
  },
  {
   "cell_type": "code",
   "execution_count": 26,
   "metadata": {},
   "outputs": [
    {
     "output_type": "stream",
     "name": "stdout",
     "text": [
      "<class 'numpy.ndarray'>\nShape: (608, 70)\n********************\n<class 'numpy.ndarray'>\nShape: (608,)\n"
     ]
    }
   ],
   "source": [
    "X = df.values[:-timelag]\n",
    "print(type(X))\n",
    "print(\"Shape:\",X.shape)\n",
    "print(\"*\"*20)\n",
    "\n",
    "y = y.values[:-timelag]\n",
    "print(type(y))\n",
    "print(\"Shape:\", y.shape)"
   ]
  },
  {
   "cell_type": "code",
   "execution_count": 34,
   "metadata": {},
   "outputs": [
    {
     "output_type": "stream",
     "name": "stdout",
     "text": [
      "Total data From.. 608\nTrain: 486 , Test: 122\n==============================\nx_train shape (486, 70)\ny_train shape (486,)\nx feature.... 70\ny feature.... 1\n"
     ]
    }
   ],
   "source": [
    "num_data = len(X)\n",
    "train_split = 0.8 #8:2 train:test\n",
    "\n",
    "num_train = int(train_split*num_data)\n",
    "num_test = num_data-num_train\n",
    "\n",
    "print(\"Total data From..\",num_data)\n",
    "print(\"Train:\",num_train,\", Test:\",num_test)\n",
    "\n",
    "######################################\n",
    "x_train = X[0:num_train]\n",
    "x_test = X[num_train:]\n",
    "\n",
    "y_train = y[0:num_train]\n",
    "y_test = y[num_train:]\n",
    "\n",
    "num_x_feature = X.shape[1]\n",
    "#num_y_feature = y.shape[1]\n",
    "num_y_feature = 1\n",
    "######################################\n",
    "print('='*30)\n",
    "print(\"x_train shape\",x_train.shape)\n",
    "print(\"y_train shape\",y_train.shape)\n",
    "print(\"x feature....\",num_x_feature)\n",
    "print(\"y feature....\",num_y_feature)"
   ]
  },
  {
   "cell_type": "code",
   "execution_count": 38,
   "metadata": {},
   "outputs": [],
   "source": [
    "def batch_gen(batch_size, sequence_length):\n",
    "    while True:\n",
    "        x_shape = (batch_size, sequence_length, num_x_feature)\n",
    "        x_batch = np.zeros(shape = x_shape, dtype=np.float16)\n",
    "        \n",
    "        y_shape = (batch_size, sequence_length, num_y_feature)\n",
    "        y_batch = np.zeros(shape = y_shape, dtype=np.float16)\n",
    "        \n",
    "        #fill batch with random sequences of data\n",
    "        for i in range(batch_size):\n",
    "            \n",
    "            #Get rand start index,\n",
    "            idx = np.random.randint(num_train - sequence_length)\n",
    "            \n",
    "            #copy sequence of data start at this index.\n",
    "            x_batch[i] = x_train[idx:idx+sequence_length]\n",
    "            y_batch[i] = y_train[idx:idx+sequence_length]\n",
    "            \n",
    "        yield (x_batch, y_batch)       "
   ]
  },
  {
   "cell_type": "code",
   "execution_count": 39,
   "metadata": {},
   "outputs": [
    {
     "output_type": "stream",
     "name": "stdout",
     "text": [
      "(10, 1, 70)\n(10, 1, 1)\n"
     ]
    }
   ],
   "source": [
    "batch_size = 10\n",
    "sequence_length = timelag\n",
    "\n",
    "generator = batch_gen(batch_size=batch_size,\n",
    "                            sequence_length=sequence_length)\n",
    "\n",
    "x_batch, y_batch = next(generator)\n",
    "\n",
    "print(x_batch.shape)\n",
    "print(y_batch.shape)"
   ]
  },
  {
   "cell_type": "code",
   "execution_count": 44,
   "metadata": {},
   "outputs": [
    {
     "output_type": "stream",
     "name": "stdout",
     "text": [
      "x_test shape: (1, 122, 70)\ny_test shape: (1, 122)\n"
     ]
    }
   ],
   "source": [
    "validation_data = (np.expand_dims(x_test, axis=0),np.expand_dims(y_test, axis=0))\n",
    "\n",
    "print(\"x_test shape:\",validation_data[0].shape)\n",
    "print(\"y_test shape:\",validation_data[1].shape)"
   ]
  },
  {
   "cell_type": "code",
   "execution_count": 61,
   "metadata": {},
   "outputs": [
    {
     "output_type": "execute_result",
     "data": {
      "text/plain": [
       "(array([[[  1.26753623,   1.26753623,   0.56014493, ..., 269.55833333,\n",
       "          269.55833333, 315.01028986],\n",
       "         [  1.26756944,   1.26756944,   0.56402778, ..., 269.53736111,\n",
       "          269.53736111, 315.50215278],\n",
       "         [  1.265625  ,   1.265625  ,   0.49930556, ..., 269.87527778,\n",
       "          269.87527778, 315.62666667],\n",
       "         ...,\n",
       "         [  4.39852113,  52.43729323,   0.99890625, ..., 271.08676056,\n",
       "          271.08676056, 315.79283465],\n",
       "         [  4.40472   ,  52.62157895,   1.08714286, ..., 271.43184874,\n",
       "          271.43184874, 315.89932773],\n",
       "         [  4.39236111,  52.85774648,  52.85774648, ..., 271.858125  ,\n",
       "          271.858125  , 316.30548148]]]),\n",
       " array([[ 4.26597222e-01,  3.70694444e-01,  4.33541667e-01,\n",
       "          6.07647059e-01,  3.15277778e-01,  2.86850394e-01,\n",
       "          2.68819444e-01,  3.72777778e-01,  3.80625000e-01,\n",
       "          2.98958333e-01,  3.27986111e-01,  1.98402778e-01,\n",
       "          2.31748252e-01,  2.11805556e-01,  2.32916667e-01,\n",
       "          2.42430556e-01,  1.98294574e-01,  2.22826087e-02,\n",
       "          2.51166667e-01,  2.09401709e-01,  4.09428571e-01,\n",
       "          1.32343750e-01,  5.90000000e-01,  2.75555556e-01,\n",
       "          3.06527778e-01,  2.81875000e-01,  2.20833333e-01,\n",
       "          2.02430556e-01,  2.63194444e-01,  2.59652778e-01,\n",
       "          2.14513889e-01,  1.44444444e-01,  2.16111111e-01,\n",
       "          9.92142857e-02,  3.15000000e-01,  1.51094891e-01,\n",
       "          3.16388889e-01,  3.21597222e-01,  2.19027778e-01,\n",
       "          2.57708333e-01,  2.31401869e-01,  2.01304348e-01,\n",
       "          4.75625000e-01,  4.31180556e-01,  7.56515152e-01,\n",
       "          3.37175573e-01,  4.34236111e-01,  2.89166667e-01,\n",
       "          2.00833333e-01,  7.18750000e-02,  1.21023622e-01,\n",
       "          9.47222222e-02,  2.53819444e-01,  4.31574074e-01,\n",
       "          2.83958333e-01,  1.87569444e-01,  1.17083333e-01,\n",
       "          4.40952381e-02, -6.57608696e-02,  2.29352518e-01,\n",
       "          2.41584158e-01,  8.47794118e-02,  1.25555556e-01,\n",
       "          3.45000000e-01, -7.75000000e-02,  1.58383838e-01,\n",
       "          1.72272727e-01,  1.78521739e-01,  2.75223881e-01,\n",
       "          3.71803279e-01,  6.47931034e-01,  2.30887097e-01,\n",
       "          2.97651515e-01,  2.45851064e-01,  3.16180556e-01,\n",
       "          1.99790210e-01,  2.12777778e-01,  1.81468531e-01,\n",
       "          4.89230769e-01,  4.55333333e-01,  2.37272727e-01,\n",
       "          1.79324324e-01,  2.13555556e-01,  1.47606838e-01,\n",
       "          3.89056604e-01,  1.83055556e-01,  3.56000000e-01,\n",
       "          2.07152778e-01,  1.93269231e-01,  4.60000000e-01,\n",
       "          1.50731707e-01,  1.71404959e-01,  7.35000000e-01,\n",
       "          4.91176471e-01,  1.44423077e-01,  3.70140845e-01,\n",
       "          4.31805556e-01,  4.32777778e-01,  4.04375000e-01,\n",
       "          4.30493827e-01,  4.81337324e+01,  3.90256410e-01,\n",
       "          4.78353237e+01,  4.83943662e-01,  4.72797203e-01,\n",
       "          4.49930556e-01,  4.89930556e-01,  5.57222222e-01,\n",
       "          5.36153846e-01,  7.60185185e-01,  5.44027778e-01,\n",
       "          4.53787879e-01,  1.73375000e+00,  5.67272727e-01,\n",
       "          5.00000000e-01,  5.95268817e-01,  6.60821918e-01,\n",
       "          6.33541667e-01,  6.30140845e-01,  7.15135135e-01,\n",
       "          5.90069444e-01,  6.33363636e-01]]))"
      ]
     },
     "metadata": {},
     "execution_count": 61
    }
   ],
   "source": [
    "validation_data"
   ]
  },
  {
   "cell_type": "code",
   "execution_count": 53,
   "metadata": {},
   "outputs": [
    {
     "output_type": "stream",
     "name": "stdout",
     "text": [
      "Model: \"sequential_3\"\n_________________________________________________________________\nLayer (type)                 Output Shape              Param #   \n=================================================================\nlstm_4 (LSTM)                (None, None, 128)         101888    \n_________________________________________________________________\nlstm_5 (LSTM)                (None, None, 128)         131584    \n_________________________________________________________________\ndense_2 (Dense)              (None, None, 1)           129       \n=================================================================\nTotal params: 233,601\nTrainable params: 233,601\nNon-trainable params: 0\n_________________________________________________________________\n"
     ]
    }
   ],
   "source": [
    "model = Sequential()\n",
    "model.add(LSTM(128, return_sequences=True, input_shape=(None,num_x_feature),\n",
    "              activation='relu'))\n",
    "model.add(LSTM(128,return_sequences=True))\n",
    "model.add(Dense(num_y_feature,activation='relu'))\n",
    "opt = tf.keras.optimizers.Adam(lr=1e-3,decay=1e-5)\n",
    "\n",
    "model.compile(optimizer=opt, loss='mse', metrics=['accuracy'])\n",
    "model.summary()"
   ]
  },
  {
   "cell_type": "code",
   "execution_count": 58,
   "metadata": {},
   "outputs": [
    {
     "output_type": "stream",
     "name": "stdout",
     "text": [
      "Train for 10 steps, validate on 1 samples\nEpoch 1/10\n 1/10 [==>...........................] - ETA: 0s"
     ]
    },
    {
     "output_type": "error",
     "ename": "UnknownError",
     "evalue": " [_Derived_]  Fail to find the dnn implementation.\n\t [[{{node CudnnRNN}}]]\n\t [[sequential_3/lstm_5/StatefulPartitionedCall]] [Op:__inference_distributed_function_14532]\n\nFunction call stack:\ndistributed_function -> distributed_function -> distributed_function\n",
     "traceback": [
      "\u001b[0;31m---------------------------------------------------------------------------\u001b[0m",
      "\u001b[0;31mUnknownError\u001b[0m                              Traceback (most recent call last)",
      "\u001b[0;32m<ipython-input-58-7585a4a7b1da>\u001b[0m in \u001b[0;36m<module>\u001b[0;34m\u001b[0m\n\u001b[1;32m      2\u001b[0m           \u001b[0mepochs\u001b[0m\u001b[0;34m=\u001b[0m\u001b[0;36m10\u001b[0m\u001b[0;34m,\u001b[0m\u001b[0;34m\u001b[0m\u001b[0;34m\u001b[0m\u001b[0m\n\u001b[1;32m      3\u001b[0m           \u001b[0msteps_per_epoch\u001b[0m\u001b[0;34m=\u001b[0m\u001b[0;36m10\u001b[0m\u001b[0;34m,\u001b[0m\u001b[0;34m\u001b[0m\u001b[0;34m\u001b[0m\u001b[0m\n\u001b[0;32m----> 4\u001b[0;31m           validation_data=validation_data)\n\u001b[0m\u001b[1;32m      5\u001b[0m \u001b[0;34m\u001b[0m\u001b[0m\n",
      "\u001b[0;32m~/anaconda3/envs/tensor/lib/python3.7/site-packages/tensorflow_core/python/keras/engine/training.py\u001b[0m in \u001b[0;36mfit\u001b[0;34m(self, x, y, batch_size, epochs, verbose, callbacks, validation_split, validation_data, shuffle, class_weight, sample_weight, initial_epoch, steps_per_epoch, validation_steps, validation_freq, max_queue_size, workers, use_multiprocessing, **kwargs)\u001b[0m\n\u001b[1;32m    726\u001b[0m         \u001b[0mmax_queue_size\u001b[0m\u001b[0;34m=\u001b[0m\u001b[0mmax_queue_size\u001b[0m\u001b[0;34m,\u001b[0m\u001b[0;34m\u001b[0m\u001b[0;34m\u001b[0m\u001b[0m\n\u001b[1;32m    727\u001b[0m         \u001b[0mworkers\u001b[0m\u001b[0;34m=\u001b[0m\u001b[0mworkers\u001b[0m\u001b[0;34m,\u001b[0m\u001b[0;34m\u001b[0m\u001b[0;34m\u001b[0m\u001b[0m\n\u001b[0;32m--> 728\u001b[0;31m         use_multiprocessing=use_multiprocessing)\n\u001b[0m\u001b[1;32m    729\u001b[0m \u001b[0;34m\u001b[0m\u001b[0m\n\u001b[1;32m    730\u001b[0m   def evaluate(self,\n",
      "\u001b[0;32m~/anaconda3/envs/tensor/lib/python3.7/site-packages/tensorflow_core/python/keras/engine/training_v2.py\u001b[0m in \u001b[0;36mfit\u001b[0;34m(self, model, x, y, batch_size, epochs, verbose, callbacks, validation_split, validation_data, shuffle, class_weight, sample_weight, initial_epoch, steps_per_epoch, validation_steps, validation_freq, **kwargs)\u001b[0m\n\u001b[1;32m    322\u001b[0m                 \u001b[0mmode\u001b[0m\u001b[0;34m=\u001b[0m\u001b[0mModeKeys\u001b[0m\u001b[0;34m.\u001b[0m\u001b[0mTRAIN\u001b[0m\u001b[0;34m,\u001b[0m\u001b[0;34m\u001b[0m\u001b[0;34m\u001b[0m\u001b[0m\n\u001b[1;32m    323\u001b[0m                 \u001b[0mtraining_context\u001b[0m\u001b[0;34m=\u001b[0m\u001b[0mtraining_context\u001b[0m\u001b[0;34m,\u001b[0m\u001b[0;34m\u001b[0m\u001b[0;34m\u001b[0m\u001b[0m\n\u001b[0;32m--> 324\u001b[0;31m                 total_epochs=epochs)\n\u001b[0m\u001b[1;32m    325\u001b[0m             \u001b[0mcbks\u001b[0m\u001b[0;34m.\u001b[0m\u001b[0mmake_logs\u001b[0m\u001b[0;34m(\u001b[0m\u001b[0mmodel\u001b[0m\u001b[0;34m,\u001b[0m \u001b[0mepoch_logs\u001b[0m\u001b[0;34m,\u001b[0m \u001b[0mtraining_result\u001b[0m\u001b[0;34m,\u001b[0m \u001b[0mModeKeys\u001b[0m\u001b[0;34m.\u001b[0m\u001b[0mTRAIN\u001b[0m\u001b[0;34m)\u001b[0m\u001b[0;34m\u001b[0m\u001b[0;34m\u001b[0m\u001b[0m\n\u001b[1;32m    326\u001b[0m \u001b[0;34m\u001b[0m\u001b[0m\n",
      "\u001b[0;32m~/anaconda3/envs/tensor/lib/python3.7/site-packages/tensorflow_core/python/keras/engine/training_v2.py\u001b[0m in \u001b[0;36mrun_one_epoch\u001b[0;34m(model, iterator, execution_function, dataset_size, batch_size, strategy, steps_per_epoch, num_samples, mode, training_context, total_epochs)\u001b[0m\n\u001b[1;32m    121\u001b[0m         step=step, mode=mode, size=current_batch_size) as batch_logs:\n\u001b[1;32m    122\u001b[0m       \u001b[0;32mtry\u001b[0m\u001b[0;34m:\u001b[0m\u001b[0;34m\u001b[0m\u001b[0;34m\u001b[0m\u001b[0m\n\u001b[0;32m--> 123\u001b[0;31m         \u001b[0mbatch_outs\u001b[0m \u001b[0;34m=\u001b[0m \u001b[0mexecution_function\u001b[0m\u001b[0;34m(\u001b[0m\u001b[0miterator\u001b[0m\u001b[0;34m)\u001b[0m\u001b[0;34m\u001b[0m\u001b[0;34m\u001b[0m\u001b[0m\n\u001b[0m\u001b[1;32m    124\u001b[0m       \u001b[0;32mexcept\u001b[0m \u001b[0;34m(\u001b[0m\u001b[0mStopIteration\u001b[0m\u001b[0;34m,\u001b[0m \u001b[0merrors\u001b[0m\u001b[0;34m.\u001b[0m\u001b[0mOutOfRangeError\u001b[0m\u001b[0;34m)\u001b[0m\u001b[0;34m:\u001b[0m\u001b[0;34m\u001b[0m\u001b[0;34m\u001b[0m\u001b[0m\n\u001b[1;32m    125\u001b[0m         \u001b[0;31m# TODO(kaftan): File bug about tf function and errors.OutOfRangeError?\u001b[0m\u001b[0;34m\u001b[0m\u001b[0;34m\u001b[0m\u001b[0;34m\u001b[0m\u001b[0m\n",
      "\u001b[0;32m~/anaconda3/envs/tensor/lib/python3.7/site-packages/tensorflow_core/python/keras/engine/training_v2_utils.py\u001b[0m in \u001b[0;36mexecution_function\u001b[0;34m(input_fn)\u001b[0m\n\u001b[1;32m     84\u001b[0m     \u001b[0;31m# `numpy` translates Tensors to values in Eager mode.\u001b[0m\u001b[0;34m\u001b[0m\u001b[0;34m\u001b[0m\u001b[0;34m\u001b[0m\u001b[0m\n\u001b[1;32m     85\u001b[0m     return nest.map_structure(_non_none_constant_value,\n\u001b[0;32m---> 86\u001b[0;31m                               distributed_function(input_fn))\n\u001b[0m\u001b[1;32m     87\u001b[0m \u001b[0;34m\u001b[0m\u001b[0m\n\u001b[1;32m     88\u001b[0m   \u001b[0;32mreturn\u001b[0m \u001b[0mexecution_function\u001b[0m\u001b[0;34m\u001b[0m\u001b[0;34m\u001b[0m\u001b[0m\n",
      "\u001b[0;32m~/anaconda3/envs/tensor/lib/python3.7/site-packages/tensorflow_core/python/eager/def_function.py\u001b[0m in \u001b[0;36m__call__\u001b[0;34m(self, *args, **kwds)\u001b[0m\n\u001b[1;32m    455\u001b[0m \u001b[0;34m\u001b[0m\u001b[0m\n\u001b[1;32m    456\u001b[0m     \u001b[0mtracing_count\u001b[0m \u001b[0;34m=\u001b[0m \u001b[0mself\u001b[0m\u001b[0;34m.\u001b[0m\u001b[0m_get_tracing_count\u001b[0m\u001b[0;34m(\u001b[0m\u001b[0;34m)\u001b[0m\u001b[0;34m\u001b[0m\u001b[0;34m\u001b[0m\u001b[0m\n\u001b[0;32m--> 457\u001b[0;31m     \u001b[0mresult\u001b[0m \u001b[0;34m=\u001b[0m \u001b[0mself\u001b[0m\u001b[0;34m.\u001b[0m\u001b[0m_call\u001b[0m\u001b[0;34m(\u001b[0m\u001b[0;34m*\u001b[0m\u001b[0margs\u001b[0m\u001b[0;34m,\u001b[0m \u001b[0;34m**\u001b[0m\u001b[0mkwds\u001b[0m\u001b[0;34m)\u001b[0m\u001b[0;34m\u001b[0m\u001b[0;34m\u001b[0m\u001b[0m\n\u001b[0m\u001b[1;32m    458\u001b[0m     \u001b[0;32mif\u001b[0m \u001b[0mtracing_count\u001b[0m \u001b[0;34m==\u001b[0m \u001b[0mself\u001b[0m\u001b[0;34m.\u001b[0m\u001b[0m_get_tracing_count\u001b[0m\u001b[0;34m(\u001b[0m\u001b[0;34m)\u001b[0m\u001b[0;34m:\u001b[0m\u001b[0;34m\u001b[0m\u001b[0;34m\u001b[0m\u001b[0m\n\u001b[1;32m    459\u001b[0m       \u001b[0mself\u001b[0m\u001b[0;34m.\u001b[0m\u001b[0m_call_counter\u001b[0m\u001b[0;34m.\u001b[0m\u001b[0mcalled_without_tracing\u001b[0m\u001b[0;34m(\u001b[0m\u001b[0;34m)\u001b[0m\u001b[0;34m\u001b[0m\u001b[0;34m\u001b[0m\u001b[0m\n",
      "\u001b[0;32m~/anaconda3/envs/tensor/lib/python3.7/site-packages/tensorflow_core/python/eager/def_function.py\u001b[0m in \u001b[0;36m_call\u001b[0;34m(self, *args, **kwds)\u001b[0m\n\u001b[1;32m    485\u001b[0m       \u001b[0;31m# In this case we have created variables on the first call, so we run the\u001b[0m\u001b[0;34m\u001b[0m\u001b[0;34m\u001b[0m\u001b[0;34m\u001b[0m\u001b[0m\n\u001b[1;32m    486\u001b[0m       \u001b[0;31m# defunned version which is guaranteed to never create variables.\u001b[0m\u001b[0;34m\u001b[0m\u001b[0;34m\u001b[0m\u001b[0;34m\u001b[0m\u001b[0m\n\u001b[0;32m--> 487\u001b[0;31m       \u001b[0;32mreturn\u001b[0m \u001b[0mself\u001b[0m\u001b[0;34m.\u001b[0m\u001b[0m_stateless_fn\u001b[0m\u001b[0;34m(\u001b[0m\u001b[0;34m*\u001b[0m\u001b[0margs\u001b[0m\u001b[0;34m,\u001b[0m \u001b[0;34m**\u001b[0m\u001b[0mkwds\u001b[0m\u001b[0;34m)\u001b[0m  \u001b[0;31m# pylint: disable=not-callable\u001b[0m\u001b[0;34m\u001b[0m\u001b[0;34m\u001b[0m\u001b[0m\n\u001b[0m\u001b[1;32m    488\u001b[0m     \u001b[0;32melif\u001b[0m \u001b[0mself\u001b[0m\u001b[0;34m.\u001b[0m\u001b[0m_stateful_fn\u001b[0m \u001b[0;32mis\u001b[0m \u001b[0;32mnot\u001b[0m \u001b[0;32mNone\u001b[0m\u001b[0;34m:\u001b[0m\u001b[0;34m\u001b[0m\u001b[0;34m\u001b[0m\u001b[0m\n\u001b[1;32m    489\u001b[0m       \u001b[0;31m# Release the lock early so that multiple threads can perform the call\u001b[0m\u001b[0;34m\u001b[0m\u001b[0;34m\u001b[0m\u001b[0;34m\u001b[0m\u001b[0m\n",
      "\u001b[0;32m~/anaconda3/envs/tensor/lib/python3.7/site-packages/tensorflow_core/python/eager/function.py\u001b[0m in \u001b[0;36m__call__\u001b[0;34m(self, *args, **kwargs)\u001b[0m\n\u001b[1;32m   1821\u001b[0m     \u001b[0;34m\"\"\"Calls a graph function specialized to the inputs.\"\"\"\u001b[0m\u001b[0;34m\u001b[0m\u001b[0;34m\u001b[0m\u001b[0m\n\u001b[1;32m   1822\u001b[0m     \u001b[0mgraph_function\u001b[0m\u001b[0;34m,\u001b[0m \u001b[0margs\u001b[0m\u001b[0;34m,\u001b[0m \u001b[0mkwargs\u001b[0m \u001b[0;34m=\u001b[0m \u001b[0mself\u001b[0m\u001b[0;34m.\u001b[0m\u001b[0m_maybe_define_function\u001b[0m\u001b[0;34m(\u001b[0m\u001b[0margs\u001b[0m\u001b[0;34m,\u001b[0m \u001b[0mkwargs\u001b[0m\u001b[0;34m)\u001b[0m\u001b[0;34m\u001b[0m\u001b[0;34m\u001b[0m\u001b[0m\n\u001b[0;32m-> 1823\u001b[0;31m     \u001b[0;32mreturn\u001b[0m \u001b[0mgraph_function\u001b[0m\u001b[0;34m.\u001b[0m\u001b[0m_filtered_call\u001b[0m\u001b[0;34m(\u001b[0m\u001b[0margs\u001b[0m\u001b[0;34m,\u001b[0m \u001b[0mkwargs\u001b[0m\u001b[0;34m)\u001b[0m  \u001b[0;31m# pylint: disable=protected-access\u001b[0m\u001b[0;34m\u001b[0m\u001b[0;34m\u001b[0m\u001b[0m\n\u001b[0m\u001b[1;32m   1824\u001b[0m \u001b[0;34m\u001b[0m\u001b[0m\n\u001b[1;32m   1825\u001b[0m   \u001b[0;34m@\u001b[0m\u001b[0mproperty\u001b[0m\u001b[0;34m\u001b[0m\u001b[0;34m\u001b[0m\u001b[0m\n",
      "\u001b[0;32m~/anaconda3/envs/tensor/lib/python3.7/site-packages/tensorflow_core/python/eager/function.py\u001b[0m in \u001b[0;36m_filtered_call\u001b[0;34m(self, args, kwargs)\u001b[0m\n\u001b[1;32m   1139\u001b[0m          if isinstance(t, (ops.Tensor,\n\u001b[1;32m   1140\u001b[0m                            resource_variable_ops.BaseResourceVariable))),\n\u001b[0;32m-> 1141\u001b[0;31m         self.captured_inputs)\n\u001b[0m\u001b[1;32m   1142\u001b[0m \u001b[0;34m\u001b[0m\u001b[0m\n\u001b[1;32m   1143\u001b[0m   \u001b[0;32mdef\u001b[0m \u001b[0m_call_flat\u001b[0m\u001b[0;34m(\u001b[0m\u001b[0mself\u001b[0m\u001b[0;34m,\u001b[0m \u001b[0margs\u001b[0m\u001b[0;34m,\u001b[0m \u001b[0mcaptured_inputs\u001b[0m\u001b[0;34m,\u001b[0m \u001b[0mcancellation_manager\u001b[0m\u001b[0;34m=\u001b[0m\u001b[0;32mNone\u001b[0m\u001b[0;34m)\u001b[0m\u001b[0;34m:\u001b[0m\u001b[0;34m\u001b[0m\u001b[0;34m\u001b[0m\u001b[0m\n",
      "\u001b[0;32m~/anaconda3/envs/tensor/lib/python3.7/site-packages/tensorflow_core/python/eager/function.py\u001b[0m in \u001b[0;36m_call_flat\u001b[0;34m(self, args, captured_inputs, cancellation_manager)\u001b[0m\n\u001b[1;32m   1222\u001b[0m     \u001b[0;32mif\u001b[0m \u001b[0mexecuting_eagerly\u001b[0m\u001b[0;34m:\u001b[0m\u001b[0;34m\u001b[0m\u001b[0;34m\u001b[0m\u001b[0m\n\u001b[1;32m   1223\u001b[0m       flat_outputs = forward_function.call(\n\u001b[0;32m-> 1224\u001b[0;31m           ctx, args, cancellation_manager=cancellation_manager)\n\u001b[0m\u001b[1;32m   1225\u001b[0m     \u001b[0;32melse\u001b[0m\u001b[0;34m:\u001b[0m\u001b[0;34m\u001b[0m\u001b[0;34m\u001b[0m\u001b[0m\n\u001b[1;32m   1226\u001b[0m       \u001b[0mgradient_name\u001b[0m \u001b[0;34m=\u001b[0m \u001b[0mself\u001b[0m\u001b[0;34m.\u001b[0m\u001b[0m_delayed_rewrite_functions\u001b[0m\u001b[0;34m.\u001b[0m\u001b[0mregister\u001b[0m\u001b[0;34m(\u001b[0m\u001b[0;34m)\u001b[0m\u001b[0;34m\u001b[0m\u001b[0;34m\u001b[0m\u001b[0m\n",
      "\u001b[0;32m~/anaconda3/envs/tensor/lib/python3.7/site-packages/tensorflow_core/python/eager/function.py\u001b[0m in \u001b[0;36mcall\u001b[0;34m(self, ctx, args, cancellation_manager)\u001b[0m\n\u001b[1;32m    509\u001b[0m               \u001b[0minputs\u001b[0m\u001b[0;34m=\u001b[0m\u001b[0margs\u001b[0m\u001b[0;34m,\u001b[0m\u001b[0;34m\u001b[0m\u001b[0;34m\u001b[0m\u001b[0m\n\u001b[1;32m    510\u001b[0m               \u001b[0mattrs\u001b[0m\u001b[0;34m=\u001b[0m\u001b[0;34m(\u001b[0m\u001b[0;34m\"executor_type\"\u001b[0m\u001b[0;34m,\u001b[0m \u001b[0mexecutor_type\u001b[0m\u001b[0;34m,\u001b[0m \u001b[0;34m\"config_proto\"\u001b[0m\u001b[0;34m,\u001b[0m \u001b[0mconfig\u001b[0m\u001b[0;34m)\u001b[0m\u001b[0;34m,\u001b[0m\u001b[0;34m\u001b[0m\u001b[0;34m\u001b[0m\u001b[0m\n\u001b[0;32m--> 511\u001b[0;31m               ctx=ctx)\n\u001b[0m\u001b[1;32m    512\u001b[0m         \u001b[0;32melse\u001b[0m\u001b[0;34m:\u001b[0m\u001b[0;34m\u001b[0m\u001b[0;34m\u001b[0m\u001b[0m\n\u001b[1;32m    513\u001b[0m           outputs = execute.execute_with_cancellation(\n",
      "\u001b[0;32m~/anaconda3/envs/tensor/lib/python3.7/site-packages/tensorflow_core/python/eager/execute.py\u001b[0m in \u001b[0;36mquick_execute\u001b[0;34m(op_name, num_outputs, inputs, attrs, ctx, name)\u001b[0m\n\u001b[1;32m     65\u001b[0m     \u001b[0;32melse\u001b[0m\u001b[0;34m:\u001b[0m\u001b[0;34m\u001b[0m\u001b[0;34m\u001b[0m\u001b[0m\n\u001b[1;32m     66\u001b[0m       \u001b[0mmessage\u001b[0m \u001b[0;34m=\u001b[0m \u001b[0me\u001b[0m\u001b[0;34m.\u001b[0m\u001b[0mmessage\u001b[0m\u001b[0;34m\u001b[0m\u001b[0;34m\u001b[0m\u001b[0m\n\u001b[0;32m---> 67\u001b[0;31m     \u001b[0msix\u001b[0m\u001b[0;34m.\u001b[0m\u001b[0mraise_from\u001b[0m\u001b[0;34m(\u001b[0m\u001b[0mcore\u001b[0m\u001b[0;34m.\u001b[0m\u001b[0m_status_to_exception\u001b[0m\u001b[0;34m(\u001b[0m\u001b[0me\u001b[0m\u001b[0;34m.\u001b[0m\u001b[0mcode\u001b[0m\u001b[0;34m,\u001b[0m \u001b[0mmessage\u001b[0m\u001b[0;34m)\u001b[0m\u001b[0;34m,\u001b[0m \u001b[0;32mNone\u001b[0m\u001b[0;34m)\u001b[0m\u001b[0;34m\u001b[0m\u001b[0;34m\u001b[0m\u001b[0m\n\u001b[0m\u001b[1;32m     68\u001b[0m   \u001b[0;32mexcept\u001b[0m \u001b[0mTypeError\u001b[0m \u001b[0;32mas\u001b[0m \u001b[0me\u001b[0m\u001b[0;34m:\u001b[0m\u001b[0;34m\u001b[0m\u001b[0;34m\u001b[0m\u001b[0m\n\u001b[1;32m     69\u001b[0m     keras_symbolic_tensors = [\n",
      "\u001b[0;32m~/anaconda3/envs/tensor/lib/python3.7/site-packages/six.py\u001b[0m in \u001b[0;36mraise_from\u001b[0;34m(value, from_value)\u001b[0m\n",
      "\u001b[0;31mUnknownError\u001b[0m:  [_Derived_]  Fail to find the dnn implementation.\n\t [[{{node CudnnRNN}}]]\n\t [[sequential_3/lstm_5/StatefulPartitionedCall]] [Op:__inference_distributed_function_14532]\n\nFunction call stack:\ndistributed_function -> distributed_function -> distributed_function\n"
     ]
    }
   ],
   "source": [
    "history = model.fit(x=generator,\n",
    "          epochs=10,\n",
    "          steps_per_epoch=10,\n",
    "          validation_data=validation_data)\n",
    "\n"
   ]
  },
  {
   "cell_type": "code",
   "execution_count": null,
   "metadata": {},
   "outputs": [],
   "source": []
  }
 ]
}